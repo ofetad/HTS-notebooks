{
 "cells": [
  {
   "cell_type": "markdown",
   "metadata": {},
   "source": [
    "# Group Data Analysis Guidelines\n",
    "1. Everyone should understand and be able to perform the analysis steps required to go from raw fastq files to a basic differential analysis\n",
    "2. Share the work: each of you does not need to do every step, but you won't learn anything ig you don't participate.\n",
    "2. Discover interesting things!\n",
    "3. Push yourself!\n",
    "3. Learn Stuff!\n",
    "3. Have Fun!\n",
    "\n",
    "# Group Data \n",
    "Locations of the the raw FASTQs and metadata are below.  FASTQs are named similarly to the pilot FASTQs, here are the details:\n",
    "\n",
    "GROUP_SAMPLE_LIBRARYNUM_LANE_READ_FILEPART.fastq.gz\n",
    "\n",
    "- GROUP: the group that prepared the library\n",
    "- SAMPLE: the RNA sample number (remember that each sample has 2 technical replicate libraries that were prepared by different groups)\n",
    "- LIBRARYNUM: ignore, this is for sequencing core usage\n",
    "- LANE: NextSeq lane number, valid values: L00[1-4]\n",
    "- READ: Always R1 for this dataset\n",
    "- FILEPART: Always 001 for this dataset\n",
    "\n",
    "\n",
    "See your report at: http://seqweb.gcb.duke.edu/18/07/xm8uabvz4tsd843_5003_180726A5.html\n"
   ]
  },
  {
   "cell_type": "code",
   "execution_count": null,
   "metadata": {},
   "outputs": [],
   "source": [
    "GROUP_FASTQ_DIR=\"/data/hts2018_course/Granek_5003_180726A5\"\n",
    "GROUP_METADATA=\"$HOME/work/HTS2018-notebooks/bioinformatics/info/2018_course_metadata.csv\""
   ]
  },
  {
   "cell_type": "markdown",
   "metadata": {},
   "source": [
    "# Shared Space"
   ]
  },
  {
   "cell_type": "code",
   "execution_count": null,
   "metadata": {},
   "outputs": [],
   "source": [
    "SHARED_SPACE=\"/shared_space\""
   ]
  },
  {
   "cell_type": "code",
   "execution_count": null,
   "metadata": {},
   "outputs": [],
   "source": [
    "ls -ltrd $SHARED_SPACE"
   ]
  },
  {
   "cell_type": "code",
   "execution_count": null,
   "metadata": {},
   "outputs": [],
   "source": [
    "mkdir -p $SHARED_SPACE/group_z"
   ]
  },
  {
   "cell_type": "code",
   "execution_count": null,
   "metadata": {},
   "outputs": [],
   "source": [
    "ls $SHARED_SPACE"
   ]
  },
  {
   "cell_type": "markdown",
   "metadata": {},
   "source": [
    "<!---\n",
    "[Data Summary](/data/hts2018_course/Granek_5003_180726A5/README.rtf)\n",
    "--->"
   ]
  },
  {
   "cell_type": "markdown",
   "metadata": {},
   "source": [
    "# Group Data Analysis Exercise #1\n",
    "\n",
    "Chose one lane from one of your group's samples and perform the following steps:\n",
    "\n",
    "1. [Quality Control](../bioinformatics/fastqc.ipynb)\n",
    "1. [Trimming and Filtering](../bioinformatics/fastq_trimming.ipynb)\n",
    "1. [Mapping Reads to a Reference Genome](../bioinformatics/mapping.ipynb)\n",
    "    1. Remember to use the intron parameters from [Shorter Introns](../bioinformatics/igv_shorter_introns.ipynb)\n",
    "    1. Download the genome sequence and annotation and generate the STAR index\n",
    "    1. Generate the STAR count table and a sorted BAM file\n",
    "1. [IGV visualization](../bioinformatics/igv_visualization.ipynb)\n",
    "    \n",
    "    \n",
    "You should feel free to consult the notebooks we worked through in lecture.  \n",
    "\n",
    "I recommend that you not simply copy, paste, and edit the commands.  You should look at each part of each command and be sure you understand what exactly it is doing, and how the results might differ if you changed it.  \n",
    "\n",
    "Also, feel free to ask questions, but I recommend that every work through this themselves, not just look over someone else's shoulder.\n",
    "\n",
    "\n",
    "## Bonus\n",
    "1. Do QC analysis using the `qa` and `report` functions from the `ShortRead` package\n",
    "2. Make the adapter file from scratch using the NEB manual\n",
    "3. Repeat the above steps for all four lanes from one of your group's samples\n",
    "4. Repeat the above steps for all of your group's FASTQs (../bioinformatics/all four lanes for all six samples)\n",
    "5. Count reads from the BAM using htseq-count, as in [Counting Reads](../bioinformatics/counting.ipynb)\n",
    "5. Try using functions to do the analysis"
   ]
  }
 ],
 "metadata": {
  "kernelspec": {
   "display_name": "Bash",
   "language": "bash",
   "name": "bash"
  },
  "language_info": {
   "codemirror_mode": "shell",
   "file_extension": ".sh",
   "mimetype": "text/x-sh",
   "name": "bash"
  }
 },
 "nbformat": 4,
 "nbformat_minor": 2
}
