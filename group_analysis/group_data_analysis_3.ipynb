{
 "cells": [
  {
   "cell_type": "markdown",
   "metadata": {},
   "source": [
    "# Group Data \n",
    "Locations of the the raw FASTQs and metadata are below.  FASTQs are named similarly to the pilot FASTQs, here are the details:\n",
    "\n",
    "GROUP_SAMPLE_LIBRARYNUM_LANE_READ_FILEPART.fastq.gz\n",
    "\n",
    "- GROUP: the group that prepared the library\n",
    "- SAMPLE: the RNA sample number (remember that each sample has 2 technical replicate libraries that were prepared by different groups)\n",
    "- LIBRARYNUM: ignore, this is for sequencing core usage\n",
    "- LANE: NextSeq lane number, valid values: L00[1-4]\n",
    "- READ: Always R1 for this dataset\n",
    "- FILEPART: Always 001 for this dataset\n",
    "\n",
    "\n",
    "See your report at: http://seqweb.gcb.duke.edu/18/07/xm8uabvz4tsd843_5003_180726A5.html\n"
   ]
  },
  {
   "cell_type": "markdown",
   "metadata": {},
   "source": [
    "<!---\n",
    "[Data Summary](/data/hts2018_course/Granek_5003_180726A5/README.rtf)\n",
    "--->"
   ]
  },
  {
   "cell_type": "markdown",
   "metadata": {},
   "source": [
    "Contine with [Group Data Analysis #1](group_data_analysis_1.ipynb) if you have not finished the main part (don't worry about the bonus exercises).  If you have not finished by the end of today, move on the the exercises below.\n",
    "\n",
    "# Group Data Analysis Exercise #2: Preliminary Statistical Analysis\n",
    "Once you have run at least one of your FASTQs through the bioninformatics pipeline, you should perform a preliminary statistical analysis.  If you did not generate counts for all of your group's FASTQs, then you can use the counts that we have generated, they are available in `$GROUP_COUNT_DIR`:"
   ]
  },
  {
   "cell_type": "code",
   "execution_count": null,
   "metadata": {},
   "outputs": [],
   "source": [
    "GROUP_COUNT_DIR=\"/data/hts2018_course/star_counts\""
   ]
  },
  {
   "cell_type": "markdown",
   "metadata": {},
   "source": [
    "1. [Setup](../pilot/00_setup.ipynb)\n",
    "1. [Count Table Preparation](../pilot/01_Read_Counts.ipynb)\n",
    "1. [Count Statistic Analysis](../pilot/02_Plot_Counts.ipynb)    \n",
    "    \n",
    "You should feel free to consult the notebooks we worked through in lecture.  \n",
    "\n",
    "We recommend that you not simply copy, paste, and edit the commands.  You should look at each part of code and be sure you understand what exactly it is doing, and how the results might differ if you changed it.  \n",
    "\n",
    "Also, feel free to ask questions, but we recommend that everyone work through this themselves, not just look over someone else's shoulder.\n",
    "\n",
    "Remember that the metadata is in:"
   ]
  },
  {
   "cell_type": "code",
   "execution_count": null,
   "metadata": {},
   "outputs": [],
   "source": [
    "GROUP_METADATA=\"$HOME/work/HTS2018-notebooks/bioinformatics/info/2018_course_metadata.csv\""
   ]
  },
  {
   "cell_type": "code",
   "execution_count": null,
   "metadata": {},
   "outputs": [],
   "source": [
    "head $GROUP_METADATA"
   ]
  },
  {
   "cell_type": "markdown",
   "metadata": {},
   "source": [
    "## Bonus\n",
    "1. Analyze data from other groups (also in `$GROUP_COUNT_DIR`)\n",
    "1. Plot other STAR statistics or plot statistics as a function of other variables a few possibilities are:\n",
    "    - fraction of reads mapping to rRNA\n",
    "1. Analyze these and other statistics of the pilot data, for example:\n",
    "    - compare the TOT, MA, and RZ samples for these statistics and     - fraction of reads mapping to rRNA\n",
    "\n"
   ]
  }
 ],
 "metadata": {
  "kernelspec": {
   "display_name": "Bash",
   "language": "bash",
   "name": "bash"
  },
  "language_info": {
   "codemirror_mode": "shell",
   "file_extension": ".sh",
   "mimetype": "text/x-sh",
   "name": "bash"
  }
 },
 "nbformat": 4,
 "nbformat_minor": 2
}
