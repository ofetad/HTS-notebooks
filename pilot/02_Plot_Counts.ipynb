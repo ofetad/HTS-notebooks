{
 "cells": [
  {
   "cell_type": "markdown",
   "metadata": {},
   "source": [
    "# Set up environment"
   ]
  },
  {
   "cell_type": "code",
   "execution_count": 1,
   "metadata": {
    "scrolled": true
   },
   "outputs": [
    {
     "name": "stderr",
     "output_type": "stream",
     "text": [
      "Loading tidyverse: ggplot2\n",
      "Loading tidyverse: tibble\n",
      "Loading tidyverse: tidyr\n",
      "Loading tidyverse: readr\n",
      "Loading tidyverse: purrr\n",
      "Loading tidyverse: dplyr\n",
      "Conflicts with tidy packages ---------------------------------------------------\n",
      "filter(): dplyr, stats\n",
      "lag():    dplyr, stats\n",
      "\n",
      "Attaching package: ‘foreach’\n",
      "\n",
      "The following objects are masked from ‘package:purrr’:\n",
      "\n",
      "    accumulate, when\n",
      "\n",
      "Loading required package: S4Vectors\n",
      "Loading required package: stats4\n",
      "Loading required package: BiocGenerics\n",
      "Loading required package: parallel\n",
      "\n",
      "Attaching package: ‘BiocGenerics’\n",
      "\n",
      "The following objects are masked from ‘package:parallel’:\n",
      "\n",
      "    clusterApply, clusterApplyLB, clusterCall, clusterEvalQ,\n",
      "    clusterExport, clusterMap, parApply, parCapply, parLapply,\n",
      "    parLapplyLB, parRapply, parSapply, parSapplyLB\n",
      "\n",
      "The following objects are masked from ‘package:dplyr’:\n",
      "\n",
      "    combine, intersect, setdiff, union\n",
      "\n",
      "The following objects are masked from ‘package:stats’:\n",
      "\n",
      "    IQR, mad, sd, var, xtabs\n",
      "\n",
      "The following objects are masked from ‘package:base’:\n",
      "\n",
      "    anyDuplicated, append, as.data.frame, cbind, colMeans, colnames,\n",
      "    colSums, do.call, duplicated, eval, evalq, Filter, Find, get, grep,\n",
      "    grepl, intersect, is.unsorted, lapply, lengths, Map, mapply, match,\n",
      "    mget, order, paste, pmax, pmax.int, pmin, pmin.int, Position, rank,\n",
      "    rbind, Reduce, rowMeans, rownames, rowSums, sapply, setdiff, sort,\n",
      "    table, tapply, union, unique, unsplit, which, which.max, which.min\n",
      "\n",
      "\n",
      "Attaching package: ‘S4Vectors’\n",
      "\n",
      "The following objects are masked from ‘package:dplyr’:\n",
      "\n",
      "    first, rename\n",
      "\n",
      "The following object is masked from ‘package:tidyr’:\n",
      "\n",
      "    expand\n",
      "\n",
      "The following object is masked from ‘package:base’:\n",
      "\n",
      "    expand.grid\n",
      "\n",
      "Loading required package: IRanges\n",
      "\n",
      "Attaching package: ‘IRanges’\n",
      "\n",
      "The following objects are masked from ‘package:dplyr’:\n",
      "\n",
      "    collapse, desc, slice\n",
      "\n",
      "The following object is masked from ‘package:purrr’:\n",
      "\n",
      "    reduce\n",
      "\n",
      "Loading required package: GenomicRanges\n",
      "Loading required package: GenomeInfoDb\n",
      "Loading required package: SummarizedExperiment\n",
      "Loading required package: Biobase\n",
      "Welcome to Bioconductor\n",
      "\n",
      "    Vignettes contain introductory material; view with\n",
      "    'browseVignettes()'. To cite Bioconductor, see\n",
      "    'citation(\"Biobase\")', and for packages 'citation(\"pkgname\")'.\n",
      "\n",
      "Loading required package: DelayedArray\n",
      "Loading required package: matrixStats\n",
      "\n",
      "Attaching package: ‘matrixStats’\n",
      "\n",
      "The following objects are masked from ‘package:Biobase’:\n",
      "\n",
      "    anyMissing, rowMedians\n",
      "\n",
      "The following object is masked from ‘package:dplyr’:\n",
      "\n",
      "    count\n",
      "\n",
      "\n",
      "Attaching package: ‘DelayedArray’\n",
      "\n",
      "The following objects are masked from ‘package:matrixStats’:\n",
      "\n",
      "    colMaxs, colMins, colRanges, rowMaxs, rowMins, rowRanges\n",
      "\n",
      "The following object is masked from ‘package:base’:\n",
      "\n",
      "    apply\n",
      "\n",
      "\n",
      "Attaching package: ‘limma’\n",
      "\n",
      "The following object is masked from ‘package:DESeq2’:\n",
      "\n",
      "    plotMA\n",
      "\n",
      "The following object is masked from ‘package:BiocGenerics’:\n",
      "\n",
      "    plotMA\n",
      "\n",
      "\n",
      "Attaching package: ‘gridExtra’\n",
      "\n",
      "The following object is masked from ‘package:Biobase’:\n",
      "\n",
      "    combine\n",
      "\n",
      "The following object is masked from ‘package:BiocGenerics’:\n",
      "\n",
      "    combine\n",
      "\n",
      "The following object is masked from ‘package:dplyr’:\n",
      "\n",
      "    combine\n",
      "\n",
      "\n",
      "---------------------\n",
      "Welcome to dendextend version 1.8.0\n",
      "Type citation('dendextend') for how to cite the package.\n",
      "\n",
      "Type browseVignettes(package = 'dendextend') for the package vignette.\n",
      "The github page is: https://github.com/talgalili/dendextend/\n",
      "\n",
      "Suggestions and bug-reports can be submitted at: https://github.com/talgalili/dendextend/issues\n",
      "Or contact: <tal.galili@gmail.com>\n",
      "\n",
      "\tTo suppress this message use:  suppressPackageStartupMessages(library(dendextend))\n",
      "---------------------\n",
      "\n",
      "\n",
      "Attaching package: ‘dendextend’\n",
      "\n",
      "The following object is masked from ‘package:stats’:\n",
      "\n",
      "    cutree\n",
      "\n",
      "\n",
      "Attaching package: ‘plotly’\n",
      "\n",
      "The following object is masked from ‘package:IRanges’:\n",
      "\n",
      "    slice\n",
      "\n",
      "The following object is masked from ‘package:S4Vectors’:\n",
      "\n",
      "    rename\n",
      "\n",
      "The following object is masked from ‘package:ggplot2’:\n",
      "\n",
      "    last_plot\n",
      "\n",
      "The following object is masked from ‘package:stats’:\n",
      "\n",
      "    filter\n",
      "\n",
      "The following object is masked from ‘package:graphics’:\n",
      "\n",
      "    layout\n",
      "\n"
     ]
    }
   ],
   "source": [
    "source(\"pilot_config.R\")"
   ]
  },
  {
   "cell_type": "markdown",
   "metadata": {},
   "source": [
    "Recall that after the tutorial one, we have created the hts-pilot-2018.RData.\n",
    "\n",
    "```\n",
    "scratch\n",
    "└── analysis_output  \n",
    "    ├── out  \n",
    "    │   └── hts-pilot-2018.RData        \n",
    "    └── img  \n",
    "```"
   ]
  },
  {
   "cell_type": "code",
   "execution_count": 2,
   "metadata": {},
   "outputs": [
    {
     "data": {
      "text/html": [
       "'/home/jovyan/work/scratch/analysis_output/out'"
      ],
      "text/latex": [
       "'/home/jovyan/work/scratch/analysis\\_output/out'"
      ],
      "text/markdown": [
       "'/home/jovyan/work/scratch/analysis_output/out'"
      ],
      "text/plain": [
       "[1] \"/home/jovyan/work/scratch/analysis_output/out\""
      ]
     },
     "metadata": {},
     "output_type": "display_data"
    }
   ],
   "source": [
    "OUTDIR"
   ]
  },
  {
   "cell_type": "code",
   "execution_count": 3,
   "metadata": {},
   "outputs": [],
   "source": [
    "# file directory\n",
    "cntfile <- file.path(OUTDIR, \"hts-pilot-2018.RData\")"
   ]
  },
  {
   "cell_type": "markdown",
   "metadata": {},
   "source": [
    "# Read in results"
   ]
  },
  {
   "cell_type": "code",
   "execution_count": 4,
   "metadata": {},
   "outputs": [
    {
     "data": {
      "text/html": [
       "<strong>/home/jovyan/work/scratch/analysis_output/out/hts-pilot-2018.RData:</strong> 'e8d7991f674b7a9284abae8f38656c2e'"
      ],
      "text/latex": [
       "\\textbf{/home/jovyan/work/scratch/analysis\\textbackslash{}\\_output/out/hts-pilot-2018.RData:} 'e8d7991f674b7a9284abae8f38656c2e'"
      ],
      "text/markdown": [
       "**/home/jovyan/work/scratch/analysis_output/out/hts-pilot-2018.RData:** 'e8d7991f674b7a9284abae8f38656c2e'"
      ],
      "text/plain": [
       "/home/jovyan/work/scratch/analysis_output/out/hts-pilot-2018.RData \n",
       "                                \"e8d7991f674b7a9284abae8f38656c2e\" "
      ]
     },
     "metadata": {},
     "output_type": "display_data"
    }
   ],
   "source": [
    "### Import count data\n",
    "attach(cntfile)\n",
    "tools::md5sum(cntfile)"
   ]
  },
  {
   "cell_type": "code",
   "execution_count": 5,
   "metadata": {},
   "outputs": [
    {
     "data": {
      "text/html": [
       "<strong>/home/jovyan/work/HTS2018-notebooks/josh/info/2018_pilot_metadata_anon.tsv:</strong> '20b31fdc4487d0cd8cc3c9300584faca'"
      ],
      "text/latex": [
       "\\textbf{/home/jovyan/work/HTS2018-notebooks/josh/info/2018\\textbackslash{}\\_pilot\\textbackslash{}\\_metadata\\textbackslash{}\\_anon.tsv:} '20b31fdc4487d0cd8cc3c9300584faca'"
      ],
      "text/markdown": [
       "**/home/jovyan/work/HTS2018-notebooks/josh/info/2018_pilot_metadata_anon.tsv:** '20b31fdc4487d0cd8cc3c9300584faca'"
      ],
      "text/plain": [
       "/home/jovyan/work/HTS2018-notebooks/josh/info/2018_pilot_metadata_anon.tsv \n",
       "                                        \"20b31fdc4487d0cd8cc3c9300584faca\" "
      ]
     },
     "metadata": {},
     "output_type": "display_data"
    },
    {
     "name": "stderr",
     "output_type": "stream",
     "text": [
      "Parsed with column specification:\n",
      "cols(\n",
      "  Label = col_character(),\n",
      "  RNA_sample_num = col_integer(),\n",
      "  Media = col_character(),\n",
      "  Strain = col_character(),\n",
      "  Replicate = col_integer(),\n",
      "  experiment_person = col_character(),\n",
      "  libprep_person = col_character(),\n",
      "  enrichment_method = col_character(),\n",
      "  RIN = col_double(),\n",
      "  concentration_fold_difference = col_double(),\n",
      "  `i7 index` = col_character(),\n",
      "  `i5 index` = col_character(),\n",
      "  `i5 primer` = col_character(),\n",
      "  `i7 primer` = col_character(),\n",
      "  `library#` = col_integer()\n",
      ")\n"
     ]
    }
   ],
   "source": [
    "### Import metadata\n",
    "tools::md5sum(METADTFILE)\n",
    "\n",
    "mtdf <- readr::read_tsv(METADTFILE) %>%\n",
    "    mutate_at(vars(\n",
    "        `Label`,\n",
    "        `Strain`,\n",
    "        `Media`,\n",
    "        `enrichment_method`,\n",
    "        `library#`,\n",
    "        `libprep_person`,\n",
    "        `experiment_person`\n",
    "    ), factor)"
   ]
  },
  {
   "cell_type": "markdown",
   "metadata": {},
   "source": [
    "Recall that there are 204 samples and 8498 genes"
   ]
  },
  {
   "cell_type": "code",
   "execution_count": 6,
   "metadata": {},
   "outputs": [
    {
     "data": {
      "text/html": [
       "<table>\n",
       "<thead><tr><th scope=col>Label</th><th scope=col>RNA_sample_num</th><th scope=col>Media</th><th scope=col>Strain</th><th scope=col>Replicate</th><th scope=col>experiment_person</th><th scope=col>libprep_person</th><th scope=col>enrichment_method</th><th scope=col>RIN</th><th scope=col>concentration_fold_difference</th><th scope=col>i7 index</th><th scope=col>i5 index</th><th scope=col>i5 primer</th><th scope=col>i7 primer</th><th scope=col>library#</th></tr></thead>\n",
       "<tbody>\n",
       "\t<tr><td>2_MA_C  </td><td> 2      </td><td>YPD     </td><td>H99     </td><td>2       </td><td>expA    </td><td>prepA   </td><td>MA      </td><td>10.0    </td><td>1.34    </td><td>ATTACTCG</td><td>AGGCTATA</td><td>i501    </td><td>i701    </td><td>1       </td></tr>\n",
       "\t<tr><td>9_MA_C  </td><td> 9      </td><td>YPD     </td><td>mar1d   </td><td>3       </td><td>expA    </td><td>prepA   </td><td>MA      </td><td>10.0    </td><td>2.23    </td><td>ATTACTCG</td><td>GCCTCTAT</td><td>i502    </td><td>i701    </td><td>2       </td></tr>\n",
       "\t<tr><td>10_MA_C </td><td>10      </td><td>YPD     </td><td>mar1d   </td><td>4       </td><td>expA    </td><td>prepA   </td><td>MA      </td><td> 9.9    </td><td>4.37    </td><td>ATTACTCG</td><td>AGGATAGG</td><td>i503    </td><td>i701    </td><td>3       </td></tr>\n",
       "\t<tr><td>14_MA_C </td><td>14      </td><td>TC      </td><td>H99     </td><td>2       </td><td>expA    </td><td>prepA   </td><td>MA      </td><td>10.0    </td><td>1.57    </td><td>ATTACTCG</td><td>TCAGAGCC</td><td>i504    </td><td>i701    </td><td>4       </td></tr>\n",
       "\t<tr><td>15_MA_C </td><td>15      </td><td>TC      </td><td>H99     </td><td>3       </td><td>expA    </td><td>prepA   </td><td>MA      </td><td> 9.9    </td><td>2.85    </td><td>ATTACTCG</td><td>CTTCGCCT</td><td>i505    </td><td>i701    </td><td>5       </td></tr>\n",
       "\t<tr><td>21_MA_C </td><td>21      </td><td>TC      </td><td>mar1d   </td><td>3       </td><td>expA    </td><td>prepA   </td><td>MA      </td><td>10.0    </td><td>1.81    </td><td>ATTACTCG</td><td>TAAGATTA</td><td>i506    </td><td>i701    </td><td>6       </td></tr>\n",
       "</tbody>\n",
       "</table>\n"
      ],
      "text/latex": [
       "\\begin{tabular}{r|lllllllllllllll}\n",
       " Label & RNA\\_sample\\_num & Media & Strain & Replicate & experiment\\_person & libprep\\_person & enrichment\\_method & RIN & concentration\\_fold\\_difference & i7 index & i5 index & i5 primer & i7 primer & library\\#\\\\\n",
       "\\hline\n",
       "\t 2\\_MA\\_C  &  2          & YPD         & H99         & 2           & expA        & prepA       & MA          & 10.0        & 1.34        & ATTACTCG    & AGGCTATA    & i501        & i701        & 1          \\\\\n",
       "\t 9\\_MA\\_C  &  9          & YPD         & mar1d       & 3           & expA        & prepA       & MA          & 10.0        & 2.23        & ATTACTCG    & GCCTCTAT    & i502        & i701        & 2          \\\\\n",
       "\t 10\\_MA\\_C & 10          & YPD         & mar1d       & 4           & expA        & prepA       & MA          &  9.9        & 4.37        & ATTACTCG    & AGGATAGG    & i503        & i701        & 3          \\\\\n",
       "\t 14\\_MA\\_C & 14          & TC          & H99         & 2           & expA        & prepA       & MA          & 10.0        & 1.57        & ATTACTCG    & TCAGAGCC    & i504        & i701        & 4          \\\\\n",
       "\t 15\\_MA\\_C & 15          & TC          & H99         & 3           & expA        & prepA       & MA          &  9.9        & 2.85        & ATTACTCG    & CTTCGCCT    & i505        & i701        & 5          \\\\\n",
       "\t 21\\_MA\\_C & 21          & TC          & mar1d       & 3           & expA        & prepA       & MA          & 10.0        & 1.81        & ATTACTCG    & TAAGATTA    & i506        & i701        & 6          \\\\\n",
       "\\end{tabular}\n"
      ],
      "text/markdown": [
       "\n",
       "Label | RNA_sample_num | Media | Strain | Replicate | experiment_person | libprep_person | enrichment_method | RIN | concentration_fold_difference | i7 index | i5 index | i5 primer | i7 primer | library# | \n",
       "|---|---|---|---|---|---|\n",
       "| 2_MA_C   |  2       | YPD      | H99      | 2        | expA     | prepA    | MA       | 10.0     | 1.34     | ATTACTCG | AGGCTATA | i501     | i701     | 1        | \n",
       "| 9_MA_C   |  9       | YPD      | mar1d    | 3        | expA     | prepA    | MA       | 10.0     | 2.23     | ATTACTCG | GCCTCTAT | i502     | i701     | 2        | \n",
       "| 10_MA_C  | 10       | YPD      | mar1d    | 4        | expA     | prepA    | MA       |  9.9     | 4.37     | ATTACTCG | AGGATAGG | i503     | i701     | 3        | \n",
       "| 14_MA_C  | 14       | TC       | H99      | 2        | expA     | prepA    | MA       | 10.0     | 1.57     | ATTACTCG | TCAGAGCC | i504     | i701     | 4        | \n",
       "| 15_MA_C  | 15       | TC       | H99      | 3        | expA     | prepA    | MA       |  9.9     | 2.85     | ATTACTCG | CTTCGCCT | i505     | i701     | 5        | \n",
       "| 21_MA_C  | 21       | TC       | mar1d    | 3        | expA     | prepA    | MA       | 10.0     | 1.81     | ATTACTCG | TAAGATTA | i506     | i701     | 6        | \n",
       "\n",
       "\n"
      ],
      "text/plain": [
       "  Label   RNA_sample_num Media Strain Replicate experiment_person\n",
       "1 2_MA_C   2             YPD   H99    2         expA             \n",
       "2 9_MA_C   9             YPD   mar1d  3         expA             \n",
       "3 10_MA_C 10             YPD   mar1d  4         expA             \n",
       "4 14_MA_C 14             TC    H99    2         expA             \n",
       "5 15_MA_C 15             TC    H99    3         expA             \n",
       "6 21_MA_C 21             TC    mar1d  3         expA             \n",
       "  libprep_person enrichment_method RIN  concentration_fold_difference i7 index\n",
       "1 prepA          MA                10.0 1.34                          ATTACTCG\n",
       "2 prepA          MA                10.0 2.23                          ATTACTCG\n",
       "3 prepA          MA                 9.9 4.37                          ATTACTCG\n",
       "4 prepA          MA                10.0 1.57                          ATTACTCG\n",
       "5 prepA          MA                 9.9 2.85                          ATTACTCG\n",
       "6 prepA          MA                10.0 1.81                          ATTACTCG\n",
       "  i5 index i5 primer i7 primer library#\n",
       "1 AGGCTATA i501      i701      1       \n",
       "2 GCCTCTAT i502      i701      2       \n",
       "3 AGGATAGG i503      i701      3       \n",
       "4 TCAGAGCC i504      i701      4       \n",
       "5 CTTCGCCT i505      i701      5       \n",
       "6 TAAGATTA i506      i701      6       "
      ]
     },
     "metadata": {},
     "output_type": "display_data"
    }
   ],
   "source": [
    "head(mtdf)"
   ]
  },
  {
   "cell_type": "markdown",
   "metadata": {},
   "source": [
    "# Check the label between metadata and mapping results"
   ]
  },
  {
   "cell_type": "markdown",
   "metadata": {},
   "source": [
    "Recall that we got two data frames in the previous tutorial:  \n",
    "- genecounts: gene counts for each **sample**\n",
    "    - Note: We will need to convert it into gene counts for each **library** later\n",
    "- mapresults: the mapping results \n",
    "    - Note: There are 204 samples"
   ]
  },
  {
   "cell_type": "markdown",
   "metadata": {},
   "source": [
    "The metadata (`mtdf`) contains the information of each sample. Here we need to make sure if the label in the metadata matches the sample names we have in `mapresults` and `genecount`\n",
    "\n",
    "The code chunk below allows us to check to see if we can match the labels to the those in the metadata file. There should not be any output from the code chunk."
   ]
  },
  {
   "cell_type": "code",
   "execution_count": 7,
   "metadata": {},
   "outputs": [
    {
     "data": {
      "text/html": [],
      "text/latex": [],
      "text/markdown": [],
      "text/plain": [
       "character(0)"
      ]
     },
     "metadata": {},
     "output_type": "display_data"
    },
    {
     "data": {
      "text/html": [],
      "text/latex": [],
      "text/markdown": [],
      "text/plain": [
       "character(0)"
      ]
     },
     "metadata": {},
     "output_type": "display_data"
    }
   ],
   "source": [
    "### Use setdiff to check to see if we can match the labels to the those in the metadata file\n",
    "myregex <- \"_[A-Z](100|[1-9][0-9]?)_L00[1-4].*\"\n",
    "\n",
    "mapresults$expid %>%\n",
    "    str_replace(myregex, \"\") %>%\n",
    "    setdiff(mtdf$Label)\n",
    "\n",
    "mtdf$Label %>%\n",
    "    setdiff(str_replace(mapresults$expid, myregex, \"\"))"
   ]
  },
  {
   "cell_type": "markdown",
   "metadata": {},
   "source": [
    "# Construct gene count matrix for each library"
   ]
  },
  {
   "cell_type": "markdown",
   "metadata": {},
   "source": [
    "Add the \"Label\" to the count matrix and mapping results, then merge in phenotype data (by Label)"
   ]
  },
  {
   "cell_type": "code",
   "execution_count": 8,
   "metadata": {},
   "outputs": [],
   "source": [
    "### Add \"Label\" to genecounts\n",
    "genecounts %>%\n",
    "    mutate(Label = str_replace(expid, myregex, \"\")) ->\n",
    "    annogenecnts"
   ]
  },
  {
   "cell_type": "code",
   "execution_count": 9,
   "metadata": {},
   "outputs": [],
   "source": [
    "### Collapse the gene counts within each label\n",
    "annogenecnts %>%\n",
    "    select(-expid) %>%\n",
    "    group_by(Label) %>%\n",
    "    summarize_all(sum) %>%\n",
    "    gather(gene, value, -Label) %>% \n",
    "    spread(Label, value) ->\n",
    "    annogenecnts0"
   ]
  },
  {
   "cell_type": "markdown",
   "metadata": {},
   "source": [
    "Show the resulting data frame in each step"
   ]
  },
  {
   "cell_type": "code",
   "execution_count": 10,
   "metadata": {},
   "outputs": [
    {
     "data": {
      "text/html": [
       "<table>\n",
       "<thead><tr><th scope=col>expid</th><th scope=col>CNAG_00001</th><th scope=col>CNAG_00002</th><th scope=col>CNAG_00003</th><th scope=col>CNAG_00004</th><th scope=col>CNAG_00005</th></tr></thead>\n",
       "<tbody>\n",
       "\t<tr><td>1_MA_J_S18_L001_ReadsPerGene.out.tab</td><td>0                                   </td><td>66                                  </td><td>38                                  </td><td>74                                  </td><td>33                                  </td></tr>\n",
       "\t<tr><td>1_MA_J_S18_L002_ReadsPerGene.out.tab</td><td>0                                   </td><td>59                                  </td><td>25                                  </td><td>79                                  </td><td>25                                  </td></tr>\n",
       "\t<tr><td>1_MA_J_S18_L003_ReadsPerGene.out.tab</td><td>0                                   </td><td>74                                  </td><td>27                                  </td><td>79                                  </td><td>32                                  </td></tr>\n",
       "\t<tr><td>1_MA_J_S18_L004_ReadsPerGene.out.tab</td><td>0                                   </td><td>66                                  </td><td>22                                  </td><td>69                                  </td><td>24                                  </td></tr>\n",
       "\t<tr><td>1_RZ_J_S26_L001_ReadsPerGene.out.tab</td><td>0                                   </td><td>50                                  </td><td>16                                  </td><td>51                                  </td><td>26                                  </td></tr>\n",
       "\t<tr><td>1_RZ_J_S26_L002_ReadsPerGene.out.tab</td><td>0                                   </td><td>45                                  </td><td> 7                                  </td><td>51                                  </td><td>31                                  </td></tr>\n",
       "</tbody>\n",
       "</table>\n"
      ],
      "text/latex": [
       "\\begin{tabular}{r|llllll}\n",
       " expid & CNAG\\_00001 & CNAG\\_00002 & CNAG\\_00003 & CNAG\\_00004 & CNAG\\_00005\\\\\n",
       "\\hline\n",
       "\t 1\\_MA\\_J\\_S18\\_L001\\_ReadsPerGene.out.tab & 0                                              & 66                                             & 38                                             & 74                                             & 33                                            \\\\\n",
       "\t 1\\_MA\\_J\\_S18\\_L002\\_ReadsPerGene.out.tab & 0                                              & 59                                             & 25                                             & 79                                             & 25                                            \\\\\n",
       "\t 1\\_MA\\_J\\_S18\\_L003\\_ReadsPerGene.out.tab & 0                                              & 74                                             & 27                                             & 79                                             & 32                                            \\\\\n",
       "\t 1\\_MA\\_J\\_S18\\_L004\\_ReadsPerGene.out.tab & 0                                              & 66                                             & 22                                             & 69                                             & 24                                            \\\\\n",
       "\t 1\\_RZ\\_J\\_S26\\_L001\\_ReadsPerGene.out.tab & 0                                              & 50                                             & 16                                             & 51                                             & 26                                            \\\\\n",
       "\t 1\\_RZ\\_J\\_S26\\_L002\\_ReadsPerGene.out.tab & 0                                              & 45                                             &  7                                             & 51                                             & 31                                            \\\\\n",
       "\\end{tabular}\n"
      ],
      "text/markdown": [
       "\n",
       "expid | CNAG_00001 | CNAG_00002 | CNAG_00003 | CNAG_00004 | CNAG_00005 | \n",
       "|---|---|---|---|---|---|\n",
       "| 1_MA_J_S18_L001_ReadsPerGene.out.tab | 0                                    | 66                                   | 38                                   | 74                                   | 33                                   | \n",
       "| 1_MA_J_S18_L002_ReadsPerGene.out.tab | 0                                    | 59                                   | 25                                   | 79                                   | 25                                   | \n",
       "| 1_MA_J_S18_L003_ReadsPerGene.out.tab | 0                                    | 74                                   | 27                                   | 79                                   | 32                                   | \n",
       "| 1_MA_J_S18_L004_ReadsPerGene.out.tab | 0                                    | 66                                   | 22                                   | 69                                   | 24                                   | \n",
       "| 1_RZ_J_S26_L001_ReadsPerGene.out.tab | 0                                    | 50                                   | 16                                   | 51                                   | 26                                   | \n",
       "| 1_RZ_J_S26_L002_ReadsPerGene.out.tab | 0                                    | 45                                   |  7                                   | 51                                   | 31                                   | \n",
       "\n",
       "\n"
      ],
      "text/plain": [
       "  expid                                CNAG_00001 CNAG_00002 CNAG_00003\n",
       "1 1_MA_J_S18_L001_ReadsPerGene.out.tab 0          66         38        \n",
       "2 1_MA_J_S18_L002_ReadsPerGene.out.tab 0          59         25        \n",
       "3 1_MA_J_S18_L003_ReadsPerGene.out.tab 0          74         27        \n",
       "4 1_MA_J_S18_L004_ReadsPerGene.out.tab 0          66         22        \n",
       "5 1_RZ_J_S26_L001_ReadsPerGene.out.tab 0          50         16        \n",
       "6 1_RZ_J_S26_L002_ReadsPerGene.out.tab 0          45          7        \n",
       "  CNAG_00004 CNAG_00005\n",
       "1 74         33        \n",
       "2 79         25        \n",
       "3 79         32        \n",
       "4 69         24        \n",
       "5 51         26        \n",
       "6 51         31        "
      ]
     },
     "metadata": {},
     "output_type": "display_data"
    }
   ],
   "source": [
    "genecounts[1:6, 1:6]"
   ]
  },
  {
   "cell_type": "code",
   "execution_count": 11,
   "metadata": {},
   "outputs": [
    {
     "data": {
      "text/html": [
       "<table>\n",
       "<thead><tr><th scope=col>expid</th><th scope=col>CNAG_00001</th><th scope=col>CNAG_00002</th><th scope=col>CNAG_00003</th><th scope=col>CNAG_00004</th><th scope=col>CNAG_00005</th><th scope=col>Label</th></tr></thead>\n",
       "<tbody>\n",
       "\t<tr><td>1_MA_J_S18_L001_ReadsPerGene.out.tab</td><td>0                                   </td><td>66                                  </td><td>38                                  </td><td>74                                  </td><td>33                                  </td><td>1_MA_J                              </td></tr>\n",
       "\t<tr><td>1_MA_J_S18_L002_ReadsPerGene.out.tab</td><td>0                                   </td><td>59                                  </td><td>25                                  </td><td>79                                  </td><td>25                                  </td><td>1_MA_J                              </td></tr>\n",
       "\t<tr><td>1_MA_J_S18_L003_ReadsPerGene.out.tab</td><td>0                                   </td><td>74                                  </td><td>27                                  </td><td>79                                  </td><td>32                                  </td><td>1_MA_J                              </td></tr>\n",
       "\t<tr><td>1_MA_J_S18_L004_ReadsPerGene.out.tab</td><td>0                                   </td><td>66                                  </td><td>22                                  </td><td>69                                  </td><td>24                                  </td><td>1_MA_J                              </td></tr>\n",
       "\t<tr><td>1_RZ_J_S26_L001_ReadsPerGene.out.tab</td><td>0                                   </td><td>50                                  </td><td>16                                  </td><td>51                                  </td><td>26                                  </td><td>1_RZ_J                              </td></tr>\n",
       "\t<tr><td>1_RZ_J_S26_L002_ReadsPerGene.out.tab</td><td>0                                   </td><td>45                                  </td><td> 7                                  </td><td>51                                  </td><td>31                                  </td><td>1_RZ_J                              </td></tr>\n",
       "</tbody>\n",
       "</table>\n"
      ],
      "text/latex": [
       "\\begin{tabular}{r|lllllll}\n",
       " expid & CNAG\\_00001 & CNAG\\_00002 & CNAG\\_00003 & CNAG\\_00004 & CNAG\\_00005 & Label\\\\\n",
       "\\hline\n",
       "\t 1\\_MA\\_J\\_S18\\_L001\\_ReadsPerGene.out.tab & 0                                              & 66                                             & 38                                             & 74                                             & 33                                             & 1\\_MA\\_J                                    \\\\\n",
       "\t 1\\_MA\\_J\\_S18\\_L002\\_ReadsPerGene.out.tab & 0                                              & 59                                             & 25                                             & 79                                             & 25                                             & 1\\_MA\\_J                                    \\\\\n",
       "\t 1\\_MA\\_J\\_S18\\_L003\\_ReadsPerGene.out.tab & 0                                              & 74                                             & 27                                             & 79                                             & 32                                             & 1\\_MA\\_J                                    \\\\\n",
       "\t 1\\_MA\\_J\\_S18\\_L004\\_ReadsPerGene.out.tab & 0                                              & 66                                             & 22                                             & 69                                             & 24                                             & 1\\_MA\\_J                                    \\\\\n",
       "\t 1\\_RZ\\_J\\_S26\\_L001\\_ReadsPerGene.out.tab & 0                                              & 50                                             & 16                                             & 51                                             & 26                                             & 1\\_RZ\\_J                                    \\\\\n",
       "\t 1\\_RZ\\_J\\_S26\\_L002\\_ReadsPerGene.out.tab & 0                                              & 45                                             &  7                                             & 51                                             & 31                                             & 1\\_RZ\\_J                                    \\\\\n",
       "\\end{tabular}\n"
      ],
      "text/markdown": [
       "\n",
       "expid | CNAG_00001 | CNAG_00002 | CNAG_00003 | CNAG_00004 | CNAG_00005 | Label | \n",
       "|---|---|---|---|---|---|\n",
       "| 1_MA_J_S18_L001_ReadsPerGene.out.tab | 0                                    | 66                                   | 38                                   | 74                                   | 33                                   | 1_MA_J                               | \n",
       "| 1_MA_J_S18_L002_ReadsPerGene.out.tab | 0                                    | 59                                   | 25                                   | 79                                   | 25                                   | 1_MA_J                               | \n",
       "| 1_MA_J_S18_L003_ReadsPerGene.out.tab | 0                                    | 74                                   | 27                                   | 79                                   | 32                                   | 1_MA_J                               | \n",
       "| 1_MA_J_S18_L004_ReadsPerGene.out.tab | 0                                    | 66                                   | 22                                   | 69                                   | 24                                   | 1_MA_J                               | \n",
       "| 1_RZ_J_S26_L001_ReadsPerGene.out.tab | 0                                    | 50                                   | 16                                   | 51                                   | 26                                   | 1_RZ_J                               | \n",
       "| 1_RZ_J_S26_L002_ReadsPerGene.out.tab | 0                                    | 45                                   |  7                                   | 51                                   | 31                                   | 1_RZ_J                               | \n",
       "\n",
       "\n"
      ],
      "text/plain": [
       "  expid                                CNAG_00001 CNAG_00002 CNAG_00003\n",
       "1 1_MA_J_S18_L001_ReadsPerGene.out.tab 0          66         38        \n",
       "2 1_MA_J_S18_L002_ReadsPerGene.out.tab 0          59         25        \n",
       "3 1_MA_J_S18_L003_ReadsPerGene.out.tab 0          74         27        \n",
       "4 1_MA_J_S18_L004_ReadsPerGene.out.tab 0          66         22        \n",
       "5 1_RZ_J_S26_L001_ReadsPerGene.out.tab 0          50         16        \n",
       "6 1_RZ_J_S26_L002_ReadsPerGene.out.tab 0          45          7        \n",
       "  CNAG_00004 CNAG_00005 Label \n",
       "1 74         33         1_MA_J\n",
       "2 79         25         1_MA_J\n",
       "3 79         32         1_MA_J\n",
       "4 69         24         1_MA_J\n",
       "5 51         26         1_RZ_J\n",
       "6 51         31         1_RZ_J"
      ]
     },
     "metadata": {},
     "output_type": "display_data"
    }
   ],
   "source": [
    "annogenecnts[1:6, c(colnames(annogenecnts)[1:6], \"Label\")]"
   ]
  },
  {
   "cell_type": "code",
   "execution_count": 12,
   "metadata": {},
   "outputs": [
    {
     "data": {
      "text/html": [
       "<table>\n",
       "<thead><tr><th scope=col>gene</th><th scope=col>1_MA_J</th><th scope=col>1_RZ_J</th><th scope=col>10_MA_C</th><th scope=col>10_RZ_C</th><th scope=col>11_MA_J</th></tr></thead>\n",
       "<tbody>\n",
       "\t<tr><td>CNAG_00001</td><td>   0      </td><td>   0      </td><td>   0      </td><td>   0      </td><td>   0      </td></tr>\n",
       "\t<tr><td>CNAG_00002</td><td> 265      </td><td> 204      </td><td> 269      </td><td>  76      </td><td> 130      </td></tr>\n",
       "\t<tr><td>CNAG_00003</td><td> 112      </td><td>  40      </td><td> 171      </td><td>  24      </td><td> 124      </td></tr>\n",
       "\t<tr><td>CNAG_00004</td><td> 301      </td><td> 207      </td><td> 407      </td><td> 141      </td><td> 272      </td></tr>\n",
       "\t<tr><td>CNAG_00005</td><td> 114      </td><td> 125      </td><td>  50      </td><td>  25      </td><td>  38      </td></tr>\n",
       "\t<tr><td>CNAG_00006</td><td>1904      </td><td>1295      </td><td>3571      </td><td>1015      </td><td>2073      </td></tr>\n",
       "</tbody>\n",
       "</table>\n"
      ],
      "text/latex": [
       "\\begin{tabular}{r|llllll}\n",
       " gene & 1\\_MA\\_J & 1\\_RZ\\_J & 10\\_MA\\_C & 10\\_RZ\\_C & 11\\_MA\\_J\\\\\n",
       "\\hline\n",
       "\t CNAG\\_00001 &    0         &    0         &    0         &    0         &    0        \\\\\n",
       "\t CNAG\\_00002 &  265         &  204         &  269         &   76         &  130        \\\\\n",
       "\t CNAG\\_00003 &  112         &   40         &  171         &   24         &  124        \\\\\n",
       "\t CNAG\\_00004 &  301         &  207         &  407         &  141         &  272        \\\\\n",
       "\t CNAG\\_00005 &  114         &  125         &   50         &   25         &   38        \\\\\n",
       "\t CNAG\\_00006 & 1904         & 1295         & 3571         & 1015         & 2073        \\\\\n",
       "\\end{tabular}\n"
      ],
      "text/markdown": [
       "\n",
       "gene | 1_MA_J | 1_RZ_J | 10_MA_C | 10_RZ_C | 11_MA_J | \n",
       "|---|---|---|---|---|---|\n",
       "| CNAG_00001 |    0       |    0       |    0       |    0       |    0       | \n",
       "| CNAG_00002 |  265       |  204       |  269       |   76       |  130       | \n",
       "| CNAG_00003 |  112       |   40       |  171       |   24       |  124       | \n",
       "| CNAG_00004 |  301       |  207       |  407       |  141       |  272       | \n",
       "| CNAG_00005 |  114       |  125       |   50       |   25       |   38       | \n",
       "| CNAG_00006 | 1904       | 1295       | 3571       | 1015       | 2073       | \n",
       "\n",
       "\n"
      ],
      "text/plain": [
       "  gene       1_MA_J 1_RZ_J 10_MA_C 10_RZ_C 11_MA_J\n",
       "1 CNAG_00001    0      0      0       0       0   \n",
       "2 CNAG_00002  265    204    269      76     130   \n",
       "3 CNAG_00003  112     40    171      24     124   \n",
       "4 CNAG_00004  301    207    407     141     272   \n",
       "5 CNAG_00005  114    125     50      25      38   \n",
       "6 CNAG_00006 1904   1295   3571    1015    2073   "
      ]
     },
     "metadata": {},
     "output_type": "display_data"
    }
   ],
   "source": [
    "annogenecnts0[1:6, 1:6]"
   ]
  },
  {
   "cell_type": "markdown",
   "metadata": {},
   "source": [
    "# Metadata"
   ]
  },
  {
   "cell_type": "markdown",
   "metadata": {},
   "source": [
    "Add \"Label\" to read map results and merge in phenotype data (-> annomapres)"
   ]
  },
  {
   "cell_type": "code",
   "execution_count": 13,
   "metadata": {},
   "outputs": [
    {
     "name": "stderr",
     "output_type": "stream",
     "text": [
      "Warning message:\n",
      "“Column `Label` joining character vector and factor, coercing into character vector”"
     ]
    }
   ],
   "source": [
    "mapresults %>%\n",
    "    mutate(Label = str_replace(expid, myregex, \"\")) %>%\n",
    "    full_join(mtdf, by = \"Label\") ->\n",
    "    annomapres"
   ]
  },
  {
   "cell_type": "code",
   "execution_count": 14,
   "metadata": {},
   "outputs": [
    {
     "ename": "ERROR",
     "evalue": "Error in FUN(X[[i]], ...): object 'prob.gene' not found\n",
     "output_type": "error",
     "traceback": [
      "Error in FUN(X[[i]], ...): object 'prob.gene' not found\nTraceback:\n",
      "1. annomapres %>% group_by_at(grpvars) %>% summarize_at(sumvars, \n .     mean)",
      "2. withVisible(eval(quote(`_fseq`(`_lhs`)), env, env))",
      "3. eval(quote(`_fseq`(`_lhs`)), env, env)",
      "4. eval(quote(`_fseq`(`_lhs`)), env, env)",
      "5. `_fseq`(`_lhs`)",
      "6. freduce(value, `_function_list`)",
      "7. withVisible(function_list[[k]](value))",
      "8. function_list[[k]](value)",
      "9. summarize_at(., sumvars, mean)",
      "10. manip_at(.tbl, .vars, .funs, enquo(.funs), caller_env(), ...)",
      "11. tbl_at_syms(.tbl, .vars)",
      "12. tbl_at_vars(tbl, vars)",
      "13. select_vars(tibble_vars, !(!(!vars)))",
      "14. map_if(ind_list, !is_helper, eval_tidy, data = names_list)",
      "15. map(.x[matches], .f, ...)",
      "16. lapply(.x, .f, ...)",
      "17. FUN(X[[i]], ...)"
     ]
    }
   ],
   "source": [
    "grpvars <- vars(Label, Strain, Media, experiment_person, libprep_person, enrichment_method)\n",
    "sumvars <- vars(prob.gene, prob.nofeat, prob.unique, depth)\n",
    "\n",
    "annomapres %>%\n",
    "    group_by_at(grpvars) %>%\n",
    "    summarize_at(sumvars, mean) -> \n",
    "    annomapres0"
   ]
  },
  {
   "cell_type": "code",
   "execution_count": null,
   "metadata": {},
   "outputs": [],
   "source": [
    "head(annomapres)"
   ]
  },
  {
   "cell_type": "code",
   "execution_count": null,
   "metadata": {},
   "outputs": [],
   "source": [
    "head(annomapres0)"
   ]
  },
  {
   "cell_type": "markdown",
   "metadata": {},
   "source": [
    "# Store the results"
   ]
  },
  {
   "cell_type": "code",
   "execution_count": null,
   "metadata": {},
   "outputs": [],
   "source": [
    "outfile <- file.path(OUTDIR, \"HTS-Pilot-Annotated-STAR-counts.RData\")\n",
    "save(mtdf, annogenecnts0, annomapres0, annogenecnts, annomapres, file = outfile)\n",
    "tools::md5sum(outfile)"
   ]
  },
  {
   "cell_type": "markdown",
   "metadata": {},
   "source": [
    "# Visualize the mapping results"
   ]
  },
  {
   "cell_type": "code",
   "execution_count": null,
   "metadata": {},
   "outputs": [],
   "source": [
    "### Figures for mapping results\n",
    "mygeom <-  geom_point(position = position_jitter(w = 0.3, h = 0))\n",
    "mypal <- scale_colour_manual(name=\"\",  values =brewer.pal(3,\"Set1\"))\n",
    "mytheme <-  theme(axis.text.x = element_text(angle = 90, hjust = 1)) + theme_bw()\n",
    "myfacet <- facet_grid(Strain~ Media, drop=TRUE, scales=\"free_x\", space=\"free\")"
   ]
  },
  {
   "cell_type": "markdown",
   "metadata": {},
   "source": [
    "### Show the fraction of unique mapped reads among all reads (prob.unique)"
   ]
  },
  {
   "cell_type": "code",
   "execution_count": null,
   "metadata": {},
   "outputs": [],
   "source": [
    "options(repr.plot.width = 9, repr.plot.height = 6)\n",
    "\n",
    "p1 <- ggplot(annomapres, \n",
    "             aes(x = factor(Label), \n",
    "                 y = prob.unique, \n",
    "                 shape = Strain, \n",
    "                 color = Media)) +\n",
    "        myfacet + \n",
    "        mygeom + \n",
    "        mytheme + \n",
    "        mypal\n",
    "\n",
    "print(p1)"
   ]
  },
  {
   "cell_type": "markdown",
   "metadata": {},
   "source": [
    "### Show the fraction of reads mapped to genes (prob.gene)"
   ]
  },
  {
   "cell_type": "code",
   "execution_count": null,
   "metadata": {},
   "outputs": [],
   "source": [
    "options(repr.plot.width = 9, repr.plot.height = 6)\n",
    "\n",
    "p2 <- ggplot(annomapres, \n",
    "             aes(x = Label, \n",
    "                 y = prob.gene, \n",
    "                 shape = Strain, \n",
    "                 color = Media)) +\n",
    "        myfacet +\n",
    "        mygeom +\n",
    "        mytheme + \n",
    "        mypal\n",
    "  \n",
    "print(p2)"
   ]
  },
  {
   "cell_type": "markdown",
   "metadata": {},
   "source": [
    "### Show the fraction of reads categorized as \"no feature\" (prob.nofeat)"
   ]
  },
  {
   "cell_type": "code",
   "execution_count": null,
   "metadata": {},
   "outputs": [],
   "source": [
    "options(repr.plot.width = 9, repr.plot.height = 6)\n",
    "\n",
    "p3 <- ggplot(annomapres, \n",
    "             aes(x = Label, \n",
    "                 y = prob.nofeat, \n",
    "                 shape = Strain, \n",
    "                 color = Media))+\n",
    "        myfacet +\n",
    "        mygeom + \n",
    "        mytheme + \n",
    "        mypal\n",
    "\n",
    "print(p3)"
   ]
  },
  {
   "cell_type": "markdown",
   "metadata": {},
   "source": [
    "### Show the number of all the reads in each sample \n",
    "(Note: depth = ngenemap + namb + nmulti + nnofeat + nunmap)"
   ]
  },
  {
   "cell_type": "code",
   "execution_count": null,
   "metadata": {
    "scrolled": false
   },
   "outputs": [],
   "source": [
    "options(repr.plot.width = 9, repr.plot.height = 6)\n",
    "\n",
    "p4 <- ggplot(annomapres, \n",
    "             aes(x = Label, \n",
    "                 y = depth, \n",
    "                 shape = Strain, \n",
    "                 color = Media))+\n",
    "        myfacet +\n",
    "        mygeom +\n",
    "        mytheme +\n",
    "        mypal\n",
    "\n",
    "print(p4)"
   ]
  },
  {
   "cell_type": "markdown",
   "metadata": {},
   "source": [
    "### Store the plots"
   ]
  },
  {
   "cell_type": "code",
   "execution_count": null,
   "metadata": {},
   "outputs": [],
   "source": [
    "png(file.path(IMGDIR, \"p1.png\"), height = 480 * 2, width = 480 * 2)\n",
    "plot(p1)\n",
    "graphics.off()\n",
    "\n",
    "png(file.path(IMGDIR, \"p2.png\"), height = 480 * 2, width = 480 * 2)\n",
    "plot(p2)\n",
    "graphics.off()\n",
    "\n",
    "png(file.path(IMGDIR, \"p3.png\"), height = 480 * 2, width = 480 * 2)\n",
    "plot(p3)\n",
    "graphics.off()\n",
    "\n",
    "png(file.path(IMGDIR, \"p4.png\"), height = 480 * 2, width = 480 * 2)\n",
    "plot(p4)\n",
    "graphics.off()"
   ]
  },
  {
   "cell_type": "markdown",
   "metadata": {},
   "source": [
    "# The End"
   ]
  },
  {
   "cell_type": "code",
   "execution_count": null,
   "metadata": {},
   "outputs": [],
   "source": [
    "sessionInfo()"
   ]
  }
 ],
 "metadata": {
  "kernelspec": {
   "display_name": "R",
   "language": "R",
   "name": "ir"
  },
  "language_info": {
   "codemirror_mode": "r",
   "file_extension": ".r",
   "mimetype": "text/x-r-source",
   "name": "R",
   "pygments_lexer": "r",
   "version": "3.4.1"
  }
 },
 "nbformat": 4,
 "nbformat_minor": 2
}
