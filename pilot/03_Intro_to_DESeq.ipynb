{
 "cells": [
  {
   "cell_type": "markdown",
   "metadata": {},
   "source": [
    "# Outline\n",
    "- Pre-processing\n",
    "- Additive model\n",
    "- Dendrogram/PC\n",
    "- Multiplicitive model"
   ]
  },
  {
   "cell_type": "markdown",
   "metadata": {},
   "source": [
    "# Set Environment"
   ]
  },
  {
   "cell_type": "code",
   "execution_count": 1,
   "metadata": {},
   "outputs": [
    {
     "name": "stderr",
     "output_type": "stream",
     "text": [
      "Loading tidyverse: ggplot2\n",
      "Loading tidyverse: tibble\n",
      "Loading tidyverse: tidyr\n",
      "Loading tidyverse: readr\n",
      "Loading tidyverse: purrr\n",
      "Loading tidyverse: dplyr\n",
      "Conflicts with tidy packages ---------------------------------------------------\n",
      "filter(): dplyr, stats\n",
      "lag():    dplyr, stats\n",
      "\n",
      "Attaching package: ‘foreach’\n",
      "\n",
      "The following objects are masked from ‘package:purrr’:\n",
      "\n",
      "    accumulate, when\n",
      "\n",
      "Loading required package: S4Vectors\n",
      "Loading required package: stats4\n",
      "Loading required package: BiocGenerics\n",
      "Loading required package: parallel\n",
      "\n",
      "Attaching package: ‘BiocGenerics’\n",
      "\n",
      "The following objects are masked from ‘package:parallel’:\n",
      "\n",
      "    clusterApply, clusterApplyLB, clusterCall, clusterEvalQ,\n",
      "    clusterExport, clusterMap, parApply, parCapply, parLapply,\n",
      "    parLapplyLB, parRapply, parSapply, parSapplyLB\n",
      "\n",
      "The following objects are masked from ‘package:dplyr’:\n",
      "\n",
      "    combine, intersect, setdiff, union\n",
      "\n",
      "The following objects are masked from ‘package:stats’:\n",
      "\n",
      "    IQR, mad, sd, var, xtabs\n",
      "\n",
      "The following objects are masked from ‘package:base’:\n",
      "\n",
      "    anyDuplicated, append, as.data.frame, cbind, colMeans, colnames,\n",
      "    colSums, do.call, duplicated, eval, evalq, Filter, Find, get, grep,\n",
      "    grepl, intersect, is.unsorted, lapply, lengths, Map, mapply, match,\n",
      "    mget, order, paste, pmax, pmax.int, pmin, pmin.int, Position, rank,\n",
      "    rbind, Reduce, rowMeans, rownames, rowSums, sapply, setdiff, sort,\n",
      "    table, tapply, union, unique, unsplit, which, which.max, which.min\n",
      "\n",
      "\n",
      "Attaching package: ‘S4Vectors’\n",
      "\n",
      "The following objects are masked from ‘package:dplyr’:\n",
      "\n",
      "    first, rename\n",
      "\n",
      "The following object is masked from ‘package:tidyr’:\n",
      "\n",
      "    expand\n",
      "\n",
      "The following object is masked from ‘package:base’:\n",
      "\n",
      "    expand.grid\n",
      "\n",
      "Loading required package: IRanges\n",
      "\n",
      "Attaching package: ‘IRanges’\n",
      "\n",
      "The following objects are masked from ‘package:dplyr’:\n",
      "\n",
      "    collapse, desc, slice\n",
      "\n",
      "The following object is masked from ‘package:purrr’:\n",
      "\n",
      "    reduce\n",
      "\n",
      "Loading required package: GenomicRanges\n",
      "Loading required package: GenomeInfoDb\n",
      "Loading required package: SummarizedExperiment\n",
      "Loading required package: Biobase\n",
      "Welcome to Bioconductor\n",
      "\n",
      "    Vignettes contain introductory material; view with\n",
      "    'browseVignettes()'. To cite Bioconductor, see\n",
      "    'citation(\"Biobase\")', and for packages 'citation(\"pkgname\")'.\n",
      "\n",
      "Loading required package: DelayedArray\n",
      "Loading required package: matrixStats\n",
      "\n",
      "Attaching package: ‘matrixStats’\n",
      "\n",
      "The following objects are masked from ‘package:Biobase’:\n",
      "\n",
      "    anyMissing, rowMedians\n",
      "\n",
      "The following object is masked from ‘package:dplyr’:\n",
      "\n",
      "    count\n",
      "\n",
      "\n",
      "Attaching package: ‘DelayedArray’\n",
      "\n",
      "The following objects are masked from ‘package:matrixStats’:\n",
      "\n",
      "    colMaxs, colMins, colRanges, rowMaxs, rowMins, rowRanges\n",
      "\n",
      "The following object is masked from ‘package:base’:\n",
      "\n",
      "    apply\n",
      "\n",
      "\n",
      "Attaching package: ‘limma’\n",
      "\n",
      "The following object is masked from ‘package:DESeq2’:\n",
      "\n",
      "    plotMA\n",
      "\n",
      "The following object is masked from ‘package:BiocGenerics’:\n",
      "\n",
      "    plotMA\n",
      "\n",
      "\n",
      "Attaching package: ‘gridExtra’\n",
      "\n",
      "The following object is masked from ‘package:Biobase’:\n",
      "\n",
      "    combine\n",
      "\n",
      "The following object is masked from ‘package:BiocGenerics’:\n",
      "\n",
      "    combine\n",
      "\n",
      "The following object is masked from ‘package:dplyr’:\n",
      "\n",
      "    combine\n",
      "\n",
      "\n",
      "---------------------\n",
      "Welcome to dendextend version 1.8.0\n",
      "Type citation('dendextend') for how to cite the package.\n",
      "\n",
      "Type browseVignettes(package = 'dendextend') for the package vignette.\n",
      "The github page is: https://github.com/talgalili/dendextend/\n",
      "\n",
      "Suggestions and bug-reports can be submitted at: https://github.com/talgalili/dendextend/issues\n",
      "Or contact: <tal.galili@gmail.com>\n",
      "\n",
      "\tTo suppress this message use:  suppressPackageStartupMessages(library(dendextend))\n",
      "---------------------\n",
      "\n",
      "\n",
      "Attaching package: ‘dendextend’\n",
      "\n",
      "The following object is masked from ‘package:stats’:\n",
      "\n",
      "    cutree\n",
      "\n"
     ]
    }
   ],
   "source": [
    "source(\"pilot_config.R\")\n",
    "source(\"pilot_util.R\")"
   ]
  },
  {
   "cell_type": "markdown",
   "metadata": {},
   "source": [
    "# Import Data & Create DESeq from Count Data"
   ]
  },
  {
   "cell_type": "code",
   "execution_count": 2,
   "metadata": {},
   "outputs": [],
   "source": [
    "# import RData (annomapres0, annogenecnts0)\n",
    "attach(file.path(OUTDIR, \"HTS-Pilot-Annotated-STAR-counts.RData\"))"
   ]
  },
  {
   "cell_type": "markdown",
   "metadata": {},
   "source": [
    "Lets review what we have created before"
   ]
  },
  {
   "cell_type": "code",
   "execution_count": 3,
   "metadata": {},
   "outputs": [
    {
     "data": {
      "text/html": [
       "<table>\n",
       "<thead><tr><th scope=col>Label</th><th scope=col>Strain</th><th scope=col>Media</th><th scope=col>experiment_person</th><th scope=col>libprep_person</th><th scope=col>enrichment_method</th><th scope=col>prob.gene</th><th scope=col>prob.nofeat</th><th scope=col>prob.unique</th><th scope=col>depth</th></tr></thead>\n",
       "<tbody>\n",
       "\t<tr><td>1_MA_J     </td><td>H99        </td><td>YPD        </td><td>expA       </td><td>prepB      </td><td>MA         </td><td>0.9641456  </td><td>0.008161923</td><td>0.9723075  </td><td>2493464    </td></tr>\n",
       "\t<tr><td>1_RZ_J     </td><td>H99        </td><td>YPD        </td><td>expA       </td><td>prepB      </td><td>RZ         </td><td>0.6689001  </td><td>0.217095621</td><td>0.8859957  </td><td>3541358    </td></tr>\n",
       "\t<tr><td>10_MA_C    </td><td>mar1d      </td><td>YPD        </td><td>expA       </td><td>prepA      </td><td>MA         </td><td>0.9618651  </td><td>0.009818573</td><td>0.9716837  </td><td>3282785    </td></tr>\n",
       "</tbody>\n",
       "</table>\n"
      ],
      "text/latex": [
       "\\begin{tabular}{r|llllllllll}\n",
       " Label & Strain & Media & experiment\\_person & libprep\\_person & enrichment\\_method & prob.gene & prob.nofeat & prob.unique & depth\\\\\n",
       "\\hline\n",
       "\t 1\\_MA\\_J  & H99         & YPD         & expA        & prepB       & MA          & 0.9641456   & 0.008161923 & 0.9723075   & 2493464    \\\\\n",
       "\t 1\\_RZ\\_J  & H99         & YPD         & expA        & prepB       & RZ          & 0.6689001   & 0.217095621 & 0.8859957   & 3541358    \\\\\n",
       "\t 10\\_MA\\_C & mar1d       & YPD         & expA        & prepA       & MA          & 0.9618651   & 0.009818573 & 0.9716837   & 3282785    \\\\\n",
       "\\end{tabular}\n"
      ],
      "text/markdown": [
       "\n",
       "Label | Strain | Media | experiment_person | libprep_person | enrichment_method | prob.gene | prob.nofeat | prob.unique | depth | \n",
       "|---|---|---|\n",
       "| 1_MA_J      | H99         | YPD         | expA        | prepB       | MA          | 0.9641456   | 0.008161923 | 0.9723075   | 2493464     | \n",
       "| 1_RZ_J      | H99         | YPD         | expA        | prepB       | RZ          | 0.6689001   | 0.217095621 | 0.8859957   | 3541358     | \n",
       "| 10_MA_C     | mar1d       | YPD         | expA        | prepA       | MA          | 0.9618651   | 0.009818573 | 0.9716837   | 3282785     | \n",
       "\n",
       "\n"
      ],
      "text/plain": [
       "  Label   Strain Media experiment_person libprep_person enrichment_method\n",
       "1 1_MA_J  H99    YPD   expA              prepB          MA               \n",
       "2 1_RZ_J  H99    YPD   expA              prepB          RZ               \n",
       "3 10_MA_C mar1d  YPD   expA              prepA          MA               \n",
       "  prob.gene prob.nofeat prob.unique depth  \n",
       "1 0.9641456 0.008161923 0.9723075   2493464\n",
       "2 0.6689001 0.217095621 0.8859957   3541358\n",
       "3 0.9618651 0.009818573 0.9716837   3282785"
      ]
     },
     "metadata": {},
     "output_type": "display_data"
    }
   ],
   "source": [
    "# metadata\n",
    "head(annomapres0, 3)"
   ]
  },
  {
   "cell_type": "code",
   "execution_count": 4,
   "metadata": {},
   "outputs": [
    {
     "data": {
      "text/html": [
       "<table>\n",
       "<thead><tr><th scope=col>gene</th><th scope=col>1_MA_J</th><th scope=col>1_RZ_J</th><th scope=col>10_MA_C</th><th scope=col>10_RZ_C</th><th scope=col>11_MA_J</th><th scope=col>11_RZ_J</th><th scope=col>12_MA_P</th><th scope=col>12_RZ_P</th><th scope=col>13_MA_J</th><th scope=col>⋯</th><th scope=col>4_RZ_P</th><th scope=col>4_TOT_P</th><th scope=col>40_MA_J</th><th scope=col>40_RZ_J</th><th scope=col>45_MA_P</th><th scope=col>45_RZ_P</th><th scope=col>47_MA_P</th><th scope=col>47_RZ_P</th><th scope=col>9_MA_C</th><th scope=col>9_RZ_C</th></tr></thead>\n",
       "<tbody>\n",
       "\t<tr><td>CNAG_00001</td><td>  0       </td><td>  0       </td><td>  0       </td><td> 0        </td><td>  0       </td><td> 0        </td><td>  0       </td><td> 0        </td><td>  0       </td><td>⋯         </td><td> 0        </td><td> 0        </td><td>  0       </td><td>  0       </td><td>  0       </td><td>  0       </td><td>  0       </td><td>  0       </td><td>  0       </td><td>  0       </td></tr>\n",
       "\t<tr><td>CNAG_00002</td><td>265       </td><td>204       </td><td>269       </td><td>76        </td><td>130       </td><td>92        </td><td>205       </td><td>64        </td><td>308       </td><td>⋯         </td><td>51        </td><td>13        </td><td>519       </td><td>235       </td><td>410       </td><td>122       </td><td>534       </td><td>112       </td><td>217       </td><td>106       </td></tr>\n",
       "\t<tr><td>CNAG_00003</td><td>112       </td><td> 40       </td><td>171       </td><td>24        </td><td>124       </td><td>18        </td><td>150       </td><td>34        </td><td>221       </td><td>⋯         </td><td>11        </td><td> 8        </td><td>218       </td><td> 53       </td><td>232       </td><td> 46       </td><td>240       </td><td> 41       </td><td>128       </td><td> 35       </td></tr>\n",
       "</tbody>\n",
       "</table>\n"
      ],
      "text/latex": [
       "\\begin{tabular}{r|llllllllllllllllllllllllllllllllllllllllllllllllllll}\n",
       " gene & 1\\_MA\\_J & 1\\_RZ\\_J & 10\\_MA\\_C & 10\\_RZ\\_C & 11\\_MA\\_J & 11\\_RZ\\_J & 12\\_MA\\_P & 12\\_RZ\\_P & 13\\_MA\\_J & ⋯ & 4\\_RZ\\_P & 4\\_TOT\\_P & 40\\_MA\\_J & 40\\_RZ\\_J & 45\\_MA\\_P & 45\\_RZ\\_P & 47\\_MA\\_P & 47\\_RZ\\_P & 9\\_MA\\_C & 9\\_RZ\\_C\\\\\n",
       "\\hline\n",
       "\t CNAG\\_00001 &   0          &   0          &   0          &  0           &   0          &  0           &   0          &  0           &   0          & ⋯            &  0           &  0           &   0          &   0          &   0          &   0          &   0          &   0          &   0          &   0         \\\\\n",
       "\t CNAG\\_00002 & 265          & 204          & 269          & 76           & 130          & 92           & 205          & 64           & 308          & ⋯            & 51           & 13           & 519          & 235          & 410          & 122          & 534          & 112          & 217          & 106         \\\\\n",
       "\t CNAG\\_00003 & 112          &  40          & 171          & 24           & 124          & 18           & 150          & 34           & 221          & ⋯            & 11           &  8           & 218          &  53          & 232          &  46          & 240          &  41          & 128          &  35         \\\\\n",
       "\\end{tabular}\n"
      ],
      "text/markdown": [
       "\n",
       "gene | 1_MA_J | 1_RZ_J | 10_MA_C | 10_RZ_C | 11_MA_J | 11_RZ_J | 12_MA_P | 12_RZ_P | 13_MA_J | ⋯ | 4_RZ_P | 4_TOT_P | 40_MA_J | 40_RZ_J | 45_MA_P | 45_RZ_P | 47_MA_P | 47_RZ_P | 9_MA_C | 9_RZ_C | \n",
       "|---|---|---|\n",
       "| CNAG_00001 |   0        |   0        |   0        |  0         |   0        |  0         |   0        |  0         |   0        | ⋯          |  0         |  0         |   0        |   0        |   0        |   0        |   0        |   0        |   0        |   0        | \n",
       "| CNAG_00002 | 265        | 204        | 269        | 76         | 130        | 92         | 205        | 64         | 308        | ⋯          | 51         | 13         | 519        | 235        | 410        | 122        | 534        | 112        | 217        | 106        | \n",
       "| CNAG_00003 | 112        |  40        | 171        | 24         | 124        | 18         | 150        | 34         | 221        | ⋯          | 11         |  8         | 218        |  53        | 232        |  46        | 240        |  41        | 128        |  35        | \n",
       "\n",
       "\n"
      ],
      "text/plain": [
       "  gene       1_MA_J 1_RZ_J 10_MA_C 10_RZ_C 11_MA_J 11_RZ_J 12_MA_P 12_RZ_P\n",
       "1 CNAG_00001   0      0      0      0        0      0        0      0     \n",
       "2 CNAG_00002 265    204    269     76      130     92      205     64     \n",
       "3 CNAG_00003 112     40    171     24      124     18      150     34     \n",
       "  13_MA_J ⋯ 4_RZ_P 4_TOT_P 40_MA_J 40_RZ_J 45_MA_P 45_RZ_P 47_MA_P 47_RZ_P\n",
       "1   0     ⋯  0      0        0       0       0       0       0       0    \n",
       "2 308     ⋯ 51     13      519     235     410     122     534     112    \n",
       "3 221     ⋯ 11      8      218      53     232      46     240      41    \n",
       "  9_MA_C 9_RZ_C\n",
       "1   0      0   \n",
       "2 217    106   \n",
       "3 128     35   "
      ]
     },
     "metadata": {},
     "output_type": "display_data"
    }
   ],
   "source": [
    "# count matrix\n",
    "head(annogenecnts0, 3)"
   ]
  },
  {
   "cell_type": "markdown",
   "metadata": {},
   "source": [
    "Prepare columnData DataFrame and countData (matrix object)\n",
    "- columnData --- metadata\n",
    "- countData  --- count matrix"
   ]
  },
  {
   "cell_type": "code",
   "execution_count": 5,
   "metadata": {},
   "outputs": [
    {
     "data": {
      "text/plain": [
       "DataFrame with 3 rows and 3 columns\n",
       "              Label   Strain    Media\n",
       "        <character> <factor> <factor>\n",
       "1_RZ_J       1_RZ_J      H99      YPD\n",
       "10_RZ_C     10_RZ_C    mar1d      YPD\n",
       "11_RZ_J     11_RZ_J    mar1d      YPD"
      ]
     },
     "metadata": {},
     "output_type": "display_data"
    }
   ],
   "source": [
    "# columnData --- metadata\n",
    "annomapres0 %>%\n",
    "    dplyr::filter(enrichment_method == \"RZ\")  %>%\n",
    "    DataFrame ->\n",
    "    columnData\n",
    "rownames(columnData) <- columnData[[\"Label\"]]\n",
    "\n",
    "head(columnData[, c(\"Label\", \"Strain\", \"Media\")], 3)"
   ]
  },
  {
   "cell_type": "code",
   "execution_count": 6,
   "metadata": {},
   "outputs": [
    {
     "name": "stdout",
     "output_type": "stream",
     "text": [
      "c(\"gene\", \"1_RZ_J\", \"10_RZ_C\", \"11_RZ_J\", \"12_RZ_P\", \"13_RZ_J\", \n",
      "\"14_RZ_C\", \"15_RZ_C\", \"16_RZ_P\", \"2_RZ_C\", \"21_RZ_C\", \"22_RZ_C\", \n",
      "\"23_RZ_J\", \"24_RZ_J\", \"26_RZ_C\", \"27_RZ_P\", \"3_RZ_J\", \"35_RZ_P\", \n",
      "\"36_RZ_J\", \"38_RZ_P\", \"4_RZ_P\", \"40_RZ_J\", \"45_RZ_P\", \"47_RZ_P\", \n",
      "\"9_RZ_C\")\n"
     ]
    },
    {
     "data": {
      "text/html": [
       "<table>\n",
       "<thead><tr><th></th><th scope=col>1_RZ_J</th><th scope=col>10_RZ_C</th><th scope=col>11_RZ_J</th><th scope=col>12_RZ_P</th><th scope=col>13_RZ_J</th><th scope=col>14_RZ_C</th><th scope=col>15_RZ_C</th><th scope=col>16_RZ_P</th><th scope=col>2_RZ_C</th><th scope=col>21_RZ_C</th><th scope=col>⋯</th><th scope=col>27_RZ_P</th><th scope=col>3_RZ_J</th><th scope=col>35_RZ_P</th><th scope=col>36_RZ_J</th><th scope=col>38_RZ_P</th><th scope=col>4_RZ_P</th><th scope=col>40_RZ_J</th><th scope=col>45_RZ_P</th><th scope=col>47_RZ_P</th><th scope=col>9_RZ_C</th></tr></thead>\n",
       "<tbody>\n",
       "\t<tr><th scope=row>CNAG_00001</th><td>  0</td><td> 0 </td><td> 0 </td><td> 0 </td><td>  0</td><td>  0</td><td>  0</td><td>  1</td><td>  0</td><td>  0</td><td>⋯  </td><td> 0 </td><td>  0</td><td>  0</td><td>  0</td><td> 0 </td><td> 0 </td><td>  0</td><td>  0</td><td>  0</td><td>  0</td></tr>\n",
       "\t<tr><th scope=row>CNAG_00002</th><td>204</td><td>76 </td><td>92 </td><td>64 </td><td>230</td><td>182</td><td>200</td><td>129</td><td>168</td><td>124</td><td>⋯  </td><td>43 </td><td>107</td><td>150</td><td>109</td><td>95 </td><td>51 </td><td>235</td><td>122</td><td>112</td><td>106</td></tr>\n",
       "\t<tr><th scope=row>CNAG_00003</th><td> 40</td><td>24 </td><td>18 </td><td>34 </td><td> 56</td><td> 53</td><td> 54</td><td> 40</td><td> 40</td><td> 41</td><td>⋯  </td><td> 9 </td><td> 24</td><td> 26</td><td> 43</td><td>43 </td><td>11 </td><td> 53</td><td> 46</td><td> 41</td><td> 35</td></tr>\n",
       "</tbody>\n",
       "</table>\n"
      ],
      "text/latex": [
       "\\begin{tabular}{r|llllllllllllllllllllllll}\n",
       "  & 1\\_RZ\\_J & 10\\_RZ\\_C & 11\\_RZ\\_J & 12\\_RZ\\_P & 13\\_RZ\\_J & 14\\_RZ\\_C & 15\\_RZ\\_C & 16\\_RZ\\_P & 2\\_RZ\\_C & 21\\_RZ\\_C & ⋯ & 27\\_RZ\\_P & 3\\_RZ\\_J & 35\\_RZ\\_P & 36\\_RZ\\_J & 38\\_RZ\\_P & 4\\_RZ\\_P & 40\\_RZ\\_J & 45\\_RZ\\_P & 47\\_RZ\\_P & 9\\_RZ\\_C\\\\\n",
       "\\hline\n",
       "\tCNAG\\_00001 &   0 &  0  &  0  &  0  &   0 &   0 &   0 &   1 &   0 &   0 & ⋯   &  0  &   0 &   0 &   0 &  0  &  0  &   0 &   0 &   0 &   0\\\\\n",
       "\tCNAG\\_00002 & 204 & 76  & 92  & 64  & 230 & 182 & 200 & 129 & 168 & 124 & ⋯   & 43  & 107 & 150 & 109 & 95  & 51  & 235 & 122 & 112 & 106\\\\\n",
       "\tCNAG\\_00003 &  40 & 24  & 18  & 34  &  56 &  53 &  54 &  40 &  40 &  41 & ⋯   &  9  &  24 &  26 &  43 & 43  & 11  &  53 &  46 &  41 &  35\\\\\n",
       "\\end{tabular}\n"
      ],
      "text/markdown": [
       "\n",
       "| <!--/--> | 1_RZ_J | 10_RZ_C | 11_RZ_J | 12_RZ_P | 13_RZ_J | 14_RZ_C | 15_RZ_C | 16_RZ_P | 2_RZ_C | 21_RZ_C | ⋯ | 27_RZ_P | 3_RZ_J | 35_RZ_P | 36_RZ_J | 38_RZ_P | 4_RZ_P | 40_RZ_J | 45_RZ_P | 47_RZ_P | 9_RZ_C | \n",
       "|---|---|---|\n",
       "| CNAG_00001 |   0 |  0  |  0  |  0  |   0 |   0 |   0 |   1 |   0 |   0 | ⋯   |  0  |   0 |   0 |   0 |  0  |  0  |   0 |   0 |   0 |   0 | \n",
       "| CNAG_00002 | 204 | 76  | 92  | 64  | 230 | 182 | 200 | 129 | 168 | 124 | ⋯   | 43  | 107 | 150 | 109 | 95  | 51  | 235 | 122 | 112 | 106 | \n",
       "| CNAG_00003 |  40 | 24  | 18  | 34  |  56 |  53 |  54 |  40 |  40 |  41 | ⋯   |  9  |  24 |  26 |  43 | 43  | 11  |  53 |  46 |  41 |  35 | \n",
       "\n",
       "\n"
      ],
      "text/plain": [
       "           1_RZ_J 10_RZ_C 11_RZ_J 12_RZ_P 13_RZ_J 14_RZ_C 15_RZ_C 16_RZ_P\n",
       "CNAG_00001   0     0       0       0        0       0       0       1    \n",
       "CNAG_00002 204    76      92      64      230     182     200     129    \n",
       "CNAG_00003  40    24      18      34       56      53      54      40    \n",
       "           2_RZ_C 21_RZ_C ⋯ 27_RZ_P 3_RZ_J 35_RZ_P 36_RZ_J 38_RZ_P 4_RZ_P\n",
       "CNAG_00001   0      0     ⋯  0        0      0       0      0       0    \n",
       "CNAG_00002 168    124     ⋯ 43      107    150     109     95      51    \n",
       "CNAG_00003  40     41     ⋯  9       24     26      43     43      11    \n",
       "           40_RZ_J 45_RZ_P 47_RZ_P 9_RZ_C\n",
       "CNAG_00001   0       0       0       0   \n",
       "CNAG_00002 235     122     112     106   \n",
       "CNAG_00003  53      46      41      35   "
      ]
     },
     "metadata": {},
     "output_type": "display_data"
    }
   ],
   "source": [
    "# countData  --- count matrix\n",
    "annogenecnts0 %>%\n",
    "    dplyr::select(dput(as.character(c(\"gene\", columnData[[\"Label\"]])))) %>%\n",
    "    as.data.frame %>%\n",
    "    column_to_rownames(\"gene\") %>%\n",
    "    as.matrix ->\n",
    "    countData\n",
    "\n",
    "head(countData, 3)"
   ]
  },
  {
   "cell_type": "markdown",
   "metadata": {},
   "source": [
    "### Make DESeq object on the basis of the counts"
   ]
  },
  {
   "cell_type": "markdown",
   "metadata": {},
   "source": [
    "The design option allows you to specify an additive or a multiplicitive model"
   ]
  },
  {
   "cell_type": "markdown",
   "metadata": {},
   "source": [
    "Additive model"
   ]
  },
  {
   "cell_type": "code",
   "execution_count": 7,
   "metadata": {},
   "outputs": [],
   "source": [
    "dds_add <- DESeqDataSetFromMatrix(\n",
    "    countData,                       # Count matrix\n",
    "    columnData,                      # metadata\n",
    "    ~ Media + Strain) # design formula"
   ]
  },
  {
   "cell_type": "markdown",
   "metadata": {},
   "source": [
    "Multiplicitive model"
   ]
  },
  {
   "cell_type": "code",
   "execution_count": 8,
   "metadata": {},
   "outputs": [],
   "source": [
    "dds_mult <- DESeqDataSetFromMatrix(\n",
    "    countData,                       # Count matrix\n",
    "    columnData,                      # metadata\n",
    "    ~ Media + Strain + Media:Strain) # design formula"
   ]
  },
  {
   "cell_type": "markdown",
   "metadata": {},
   "source": [
    "In the following demonstration, we will use the additive model. The multiplicitive model will be illustrated in the appendix below."
   ]
  },
  {
   "cell_type": "code",
   "execution_count": 9,
   "metadata": {},
   "outputs": [],
   "source": [
    "dds <- dds_add"
   ]
  },
  {
   "cell_type": "markdown",
   "metadata": {},
   "source": [
    "# Inspect object & Slots of an S4 class"
   ]
  },
  {
   "cell_type": "markdown",
   "metadata": {},
   "source": [
    "Let's has a look at the object we have created."
   ]
  },
  {
   "cell_type": "code",
   "execution_count": 10,
   "metadata": {},
   "outputs": [
    {
     "data": {
      "text/plain": [
       "class: DESeqDataSet \n",
       "dim: 8497 24 \n",
       "metadata(1): version\n",
       "assays(1): counts\n",
       "rownames(8497): CNAG_00001 CNAG_00002 ... ENSRNA049551964\n",
       "  ENSRNA049551993\n",
       "rowData names(0):\n",
       "colnames(24): 1_RZ_J 10_RZ_C ... 47_RZ_P 9_RZ_C\n",
       "colData names(10): Label Strain ... prob.unique depth"
      ]
     },
     "metadata": {},
     "output_type": "display_data"
    }
   ],
   "source": [
    "dds"
   ]
  },
  {
   "cell_type": "markdown",
   "metadata": {},
   "source": [
    "see the class of dds object"
   ]
  },
  {
   "cell_type": "code",
   "execution_count": 11,
   "metadata": {},
   "outputs": [
    {
     "data": {
      "text/html": [
       "'DESeqDataSet'"
      ],
      "text/latex": [
       "'DESeqDataSet'"
      ],
      "text/markdown": [
       "'DESeqDataSet'"
      ],
      "text/plain": [
       "[1] \"DESeqDataSet\"\n",
       "attr(,\"package\")\n",
       "[1] \"DESeq2\""
      ]
     },
     "metadata": {},
     "output_type": "display_data"
    }
   ],
   "source": [
    "class(dds)"
   ]
  },
  {
   "cell_type": "markdown",
   "metadata": {},
   "source": [
    "DESeqDataSet is a S4 object. Recall that a S4 object was taught when introducing bioconductor. Note that S4 objects allow users to wrap up multiple elements into a single variables where each element is called a slot."
   ]
  },
  {
   "cell_type": "code",
   "execution_count": 12,
   "metadata": {},
   "outputs": [
    {
     "data": {
      "text/html": [
       "<ol class=list-inline>\n",
       "\t<li>'design'</li>\n",
       "\t<li>'dispersionFunction'</li>\n",
       "\t<li>'rowRanges'</li>\n",
       "\t<li>'colData'</li>\n",
       "\t<li>'assays'</li>\n",
       "\t<li>'NAMES'</li>\n",
       "\t<li>'elementMetadata'</li>\n",
       "\t<li>'metadata'</li>\n",
       "</ol>\n"
      ],
      "text/latex": [
       "\\begin{enumerate*}\n",
       "\\item 'design'\n",
       "\\item 'dispersionFunction'\n",
       "\\item 'rowRanges'\n",
       "\\item 'colData'\n",
       "\\item 'assays'\n",
       "\\item 'NAMES'\n",
       "\\item 'elementMetadata'\n",
       "\\item 'metadata'\n",
       "\\end{enumerate*}\n"
      ],
      "text/markdown": [
       "1. 'design'\n",
       "2. 'dispersionFunction'\n",
       "3. 'rowRanges'\n",
       "4. 'colData'\n",
       "5. 'assays'\n",
       "6. 'NAMES'\n",
       "7. 'elementMetadata'\n",
       "8. 'metadata'\n",
       "\n",
       "\n"
      ],
      "text/plain": [
       "[1] \"design\"             \"dispersionFunction\" \"rowRanges\"         \n",
       "[4] \"colData\"            \"assays\"             \"NAMES\"             \n",
       "[7] \"elementMetadata\"    \"metadata\"          "
      ]
     },
     "metadata": {},
     "output_type": "display_data"
    }
   ],
   "source": [
    "slotNames(dds)"
   ]
  },
  {
   "cell_type": "markdown",
   "metadata": {},
   "source": [
    "The metadata (columnData) is stored in the slot `colData`"
   ]
  },
  {
   "cell_type": "code",
   "execution_count": 13,
   "metadata": {},
   "outputs": [
    {
     "data": {
      "text/html": [
       "<table>\n",
       "<thead><tr><th></th><th scope=col>Label</th><th scope=col>Strain</th><th scope=col>Media</th><th scope=col>experiment_person</th><th scope=col>libprep_person</th><th scope=col>enrichment_method</th><th scope=col>prob.gene</th><th scope=col>prob.nofeat</th><th scope=col>prob.unique</th><th scope=col>depth</th></tr></thead>\n",
       "<tbody>\n",
       "\t<tr><th scope=row>1_RZ_J</th><td>1_RZ_J   </td><td>H99      </td><td>YPD      </td><td>expA     </td><td>prepB    </td><td>RZ       </td><td>0.6689001</td><td>0.2170956</td><td>0.8859957</td><td>3541358  </td></tr>\n",
       "\t<tr><th scope=row>10_RZ_C</th><td>10_RZ_C  </td><td>mar1d    </td><td>YPD      </td><td>expA     </td><td>prepA    </td><td>RZ       </td><td>0.7497438</td><td>0.2006517</td><td>0.9503955</td><td>1742594  </td></tr>\n",
       "\t<tr><th scope=row>11_RZ_J</th><td>11_RZ_J  </td><td>mar1d    </td><td>YPD      </td><td>expA     </td><td>prepB    </td><td>RZ       </td><td>0.7030020</td><td>0.1955472</td><td>0.8985491</td><td>2621913  </td></tr>\n",
       "</tbody>\n",
       "</table>\n"
      ],
      "text/latex": [
       "\\begin{tabular}{r|llllllllll}\n",
       "  & Label & Strain & Media & experiment\\_person & libprep\\_person & enrichment\\_method & prob.gene & prob.nofeat & prob.unique & depth\\\\\n",
       "\\hline\n",
       "\t1\\_RZ\\_J & 1\\_RZ\\_J  & H99         & YPD         & expA        & prepB       & RZ          & 0.6689001   & 0.2170956   & 0.8859957   & 3541358    \\\\\n",
       "\t10\\_RZ\\_C & 10\\_RZ\\_C & mar1d       & YPD         & expA        & prepA       & RZ          & 0.7497438   & 0.2006517   & 0.9503955   & 1742594    \\\\\n",
       "\t11\\_RZ\\_J & 11\\_RZ\\_J & mar1d       & YPD         & expA        & prepB       & RZ          & 0.7030020   & 0.1955472   & 0.8985491   & 2621913    \\\\\n",
       "\\end{tabular}\n"
      ],
      "text/markdown": [
       "\n",
       "| <!--/--> | Label | Strain | Media | experiment_person | libprep_person | enrichment_method | prob.gene | prob.nofeat | prob.unique | depth | \n",
       "|---|---|---|\n",
       "| 1_RZ_J | 1_RZ_J    | H99       | YPD       | expA      | prepB     | RZ        | 0.6689001 | 0.2170956 | 0.8859957 | 3541358   | \n",
       "| 10_RZ_C | 10_RZ_C   | mar1d     | YPD       | expA      | prepA     | RZ        | 0.7497438 | 0.2006517 | 0.9503955 | 1742594   | \n",
       "| 11_RZ_J | 11_RZ_J   | mar1d     | YPD       | expA      | prepB     | RZ        | 0.7030020 | 0.1955472 | 0.8985491 | 2621913   | \n",
       "\n",
       "\n"
      ],
      "text/plain": [
       "        Label   Strain Media experiment_person libprep_person enrichment_method\n",
       "1_RZ_J  1_RZ_J  H99    YPD   expA              prepB          RZ               \n",
       "10_RZ_C 10_RZ_C mar1d  YPD   expA              prepA          RZ               \n",
       "11_RZ_J 11_RZ_J mar1d  YPD   expA              prepB          RZ               \n",
       "        prob.gene prob.nofeat prob.unique depth  \n",
       "1_RZ_J  0.6689001 0.2170956   0.8859957   3541358\n",
       "10_RZ_C 0.7497438 0.2006517   0.9503955   1742594\n",
       "11_RZ_J 0.7030020 0.1955472   0.8985491   2621913"
      ]
     },
     "metadata": {},
     "output_type": "display_data"
    }
   ],
   "source": [
    "dds@colData %>% as.data.frame %>% head(3)"
   ]
  },
  {
   "cell_type": "markdown",
   "metadata": {},
   "source": [
    "The design formula is stored in the slot `design`. The design holds the R formula which expresses how the counts depend on the variables in colData."
   ]
  },
  {
   "cell_type": "code",
   "execution_count": 14,
   "metadata": {},
   "outputs": [
    {
     "data": {
      "text/plain": [
       "~Media + Strain"
      ]
     },
     "metadata": {},
     "output_type": "display_data"
    }
   ],
   "source": [
    "dds@design"
   ]
  },
  {
   "cell_type": "markdown",
   "metadata": {},
   "source": [
    "The first thing you may want to do is **have a look at the raw counts** you have imported. The `DESeq2::counts` function extracts a matrix of counts (with the genes along the rows and samples along the columns). Let us first verify the dimension of this matrix."
   ]
  },
  {
   "cell_type": "code",
   "execution_count": 15,
   "metadata": {},
   "outputs": [
    {
     "data": {
      "text/html": [
       "<ol class=list-inline>\n",
       "\t<li>8497</li>\n",
       "\t<li>24</li>\n",
       "</ol>\n"
      ],
      "text/latex": [
       "\\begin{enumerate*}\n",
       "\\item 8497\n",
       "\\item 24\n",
       "\\end{enumerate*}\n"
      ],
      "text/markdown": [
       "1. 8497\n",
       "2. 24\n",
       "\n",
       "\n"
      ],
      "text/plain": [
       "[1] 8497   24"
      ]
     },
     "metadata": {},
     "output_type": "display_data"
    }
   ],
   "source": [
    "dim(counts(dds))"
   ]
  },
  {
   "cell_type": "code",
   "execution_count": 16,
   "metadata": {},
   "outputs": [
    {
     "data": {
      "text/html": [
       "<table>\n",
       "<thead><tr><th></th><th scope=col>1_RZ_J</th><th scope=col>10_RZ_C</th><th scope=col>11_RZ_J</th><th scope=col>12_RZ_P</th><th scope=col>13_RZ_J</th><th scope=col>14_RZ_C</th><th scope=col>15_RZ_C</th><th scope=col>16_RZ_P</th><th scope=col>2_RZ_C</th><th scope=col>21_RZ_C</th><th scope=col>⋯</th><th scope=col>27_RZ_P</th><th scope=col>3_RZ_J</th><th scope=col>35_RZ_P</th><th scope=col>36_RZ_J</th><th scope=col>38_RZ_P</th><th scope=col>4_RZ_P</th><th scope=col>40_RZ_J</th><th scope=col>45_RZ_P</th><th scope=col>47_RZ_P</th><th scope=col>9_RZ_C</th></tr></thead>\n",
       "<tbody>\n",
       "\t<tr><th scope=row>CNAG_00001</th><td>  0</td><td> 0 </td><td> 0 </td><td> 0 </td><td>  0</td><td>  0</td><td>  0</td><td>  1</td><td>  0</td><td>  0</td><td>⋯  </td><td> 0 </td><td>  0</td><td>  0</td><td>  0</td><td> 0 </td><td> 0 </td><td>  0</td><td>  0</td><td>  0</td><td>  0</td></tr>\n",
       "\t<tr><th scope=row>CNAG_00002</th><td>204</td><td>76 </td><td>92 </td><td>64 </td><td>230</td><td>182</td><td>200</td><td>129</td><td>168</td><td>124</td><td>⋯  </td><td>43 </td><td>107</td><td>150</td><td>109</td><td>95 </td><td>51 </td><td>235</td><td>122</td><td>112</td><td>106</td></tr>\n",
       "\t<tr><th scope=row>CNAG_00003</th><td> 40</td><td>24 </td><td>18 </td><td>34 </td><td> 56</td><td> 53</td><td> 54</td><td> 40</td><td> 40</td><td> 41</td><td>⋯  </td><td> 9 </td><td> 24</td><td> 26</td><td> 43</td><td>43 </td><td>11 </td><td> 53</td><td> 46</td><td> 41</td><td> 35</td></tr>\n",
       "</tbody>\n",
       "</table>\n"
      ],
      "text/latex": [
       "\\begin{tabular}{r|llllllllllllllllllllllll}\n",
       "  & 1\\_RZ\\_J & 10\\_RZ\\_C & 11\\_RZ\\_J & 12\\_RZ\\_P & 13\\_RZ\\_J & 14\\_RZ\\_C & 15\\_RZ\\_C & 16\\_RZ\\_P & 2\\_RZ\\_C & 21\\_RZ\\_C & ⋯ & 27\\_RZ\\_P & 3\\_RZ\\_J & 35\\_RZ\\_P & 36\\_RZ\\_J & 38\\_RZ\\_P & 4\\_RZ\\_P & 40\\_RZ\\_J & 45\\_RZ\\_P & 47\\_RZ\\_P & 9\\_RZ\\_C\\\\\n",
       "\\hline\n",
       "\tCNAG\\_00001 &   0 &  0  &  0  &  0  &   0 &   0 &   0 &   1 &   0 &   0 & ⋯   &  0  &   0 &   0 &   0 &  0  &  0  &   0 &   0 &   0 &   0\\\\\n",
       "\tCNAG\\_00002 & 204 & 76  & 92  & 64  & 230 & 182 & 200 & 129 & 168 & 124 & ⋯   & 43  & 107 & 150 & 109 & 95  & 51  & 235 & 122 & 112 & 106\\\\\n",
       "\tCNAG\\_00003 &  40 & 24  & 18  & 34  &  56 &  53 &  54 &  40 &  40 &  41 & ⋯   &  9  &  24 &  26 &  43 & 43  & 11  &  53 &  46 &  41 &  35\\\\\n",
       "\\end{tabular}\n"
      ],
      "text/markdown": [
       "\n",
       "| <!--/--> | 1_RZ_J | 10_RZ_C | 11_RZ_J | 12_RZ_P | 13_RZ_J | 14_RZ_C | 15_RZ_C | 16_RZ_P | 2_RZ_C | 21_RZ_C | ⋯ | 27_RZ_P | 3_RZ_J | 35_RZ_P | 36_RZ_J | 38_RZ_P | 4_RZ_P | 40_RZ_J | 45_RZ_P | 47_RZ_P | 9_RZ_C | \n",
       "|---|---|---|\n",
       "| CNAG_00001 |   0 |  0  |  0  |  0  |   0 |   0 |   0 |   1 |   0 |   0 | ⋯   |  0  |   0 |   0 |   0 |  0  |  0  |   0 |   0 |   0 |   0 | \n",
       "| CNAG_00002 | 204 | 76  | 92  | 64  | 230 | 182 | 200 | 129 | 168 | 124 | ⋯   | 43  | 107 | 150 | 109 | 95  | 51  | 235 | 122 | 112 | 106 | \n",
       "| CNAG_00003 |  40 | 24  | 18  | 34  |  56 |  53 |  54 |  40 |  40 |  41 | ⋯   |  9  |  24 |  26 |  43 | 43  | 11  |  53 |  46 |  41 |  35 | \n",
       "\n",
       "\n"
      ],
      "text/plain": [
       "           1_RZ_J 10_RZ_C 11_RZ_J 12_RZ_P 13_RZ_J 14_RZ_C 15_RZ_C 16_RZ_P\n",
       "CNAG_00001   0     0       0       0        0       0       0       1    \n",
       "CNAG_00002 204    76      92      64      230     182     200     129    \n",
       "CNAG_00003  40    24      18      34       56      53      54      40    \n",
       "           2_RZ_C 21_RZ_C ⋯ 27_RZ_P 3_RZ_J 35_RZ_P 36_RZ_J 38_RZ_P 4_RZ_P\n",
       "CNAG_00001   0      0     ⋯  0        0      0       0      0       0    \n",
       "CNAG_00002 168    124     ⋯ 43      107    150     109     95      51    \n",
       "CNAG_00003  40     41     ⋯  9       24     26      43     43      11    \n",
       "           40_RZ_J 45_RZ_P 47_RZ_P 9_RZ_C\n",
       "CNAG_00001   0       0       0       0   \n",
       "CNAG_00002 235     122     112     106   \n",
       "CNAG_00003  53      46      41      35   "
      ]
     },
     "metadata": {},
     "output_type": "display_data"
    }
   ],
   "source": [
    "head(counts(dds),3)"
   ]
  },
  {
   "cell_type": "markdown",
   "metadata": {},
   "source": [
    "This slot returns gene specific information (it will be populated later)"
   ]
  },
  {
   "cell_type": "code",
   "execution_count": 17,
   "metadata": {},
   "outputs": [
    {
     "data": {
      "text/html": [
       "<pre class=language-r><code>function () \n",
       "NULL</code></pre>"
      ],
      "text/latex": [
       "\\begin{minted}{r}\n",
       "function () \n",
       "NULL\n",
       "\\end{minted}"
      ],
      "text/markdown": [
       "```r\n",
       "function () \n",
       "NULL\n",
       "```"
      ],
      "text/plain": [
       "function () \n",
       "NULL\n",
       "<bytecode: 0xbfcd650>"
      ]
     },
     "metadata": {},
     "output_type": "display_data"
    }
   ],
   "source": [
    "dds@dispersionFunction"
   ]
  },
  {
   "cell_type": "markdown",
   "metadata": {},
   "source": [
    "# Estimate Size Factors and Dispersion Parameters"
   ]
  },
  {
   "cell_type": "markdown",
   "metadata": {},
   "source": [
    "You recall that DESeq requires that  we have estimates for sample specific size factors and gene specific dispersion factors. More specifically, recall that DESeq models the count $K_{ij}$ (gene $i$, sample $j$) as negative binomial with mean $\\mu_{ij}$ and dispersion parameter $\\alpha_i$. Here $\\mu_{ij}=s_j q_{ij}$ where $\\log_2(q_{ij}) = \\beta_{0i} + \\beta_{1i} z_j$. Here $s_j$ is the sample $j$ specific size factor.\n",
    "\n",
    "**Summarize of notation**\n",
    "- $K_{ij}$ denotes the observed **number of reads** mapped to gene $i$ for sample $j$\n",
    "- $K_{ij}$ follows a **negative binomial distribution** with\n",
    "    - **Mean** $\\mu_{ij}$\n",
    "    - **Dispersion parameter** $\\alpha_i$\n",
    "- Modelling\n",
    "    - $K_{ij} \\sim NB(\\mu_{ij}, \\alpha_i)$\n",
    "    - $\\mu_{ij} = s_{j}q_{ij}$\n",
    "        - $s_j$ is sample $j$ specific normalization constant\n",
    "    - $\\log_2(q_{ij}) = \\beta_{0i} + \\beta_{1i} z_j$"
   ]
  },
  {
   "cell_type": "markdown",
   "metadata": {},
   "source": [
    "## 01 Size Factors\n",
    " We begin by estimating the size factors $s_1,\\ldots,s_n$:"
   ]
  },
  {
   "cell_type": "code",
   "execution_count": 18,
   "metadata": {},
   "outputs": [],
   "source": [
    "dds <- estimateSizeFactors(dds)"
   ]
  },
  {
   "cell_type": "markdown",
   "metadata": {},
   "source": [
    "Now, compare the dds object to that of before applying the estimateSizeFactors() function. What has changed? What remains unchanged?"
   ]
  },
  {
   "cell_type": "code",
   "execution_count": 19,
   "metadata": {},
   "outputs": [
    {
     "data": {
      "text/plain": [
       "class: DESeqDataSet \n",
       "dim: 8497 24 \n",
       "metadata(1): version\n",
       "assays(1): counts\n",
       "rownames(8497): CNAG_00001 CNAG_00002 ... ENSRNA049551964\n",
       "  ENSRNA049551993\n",
       "rowData names(0):\n",
       "colnames(24): 1_RZ_J 10_RZ_C ... 47_RZ_P 9_RZ_C\n",
       "colData names(11): Label Strain ... depth sizeFactor"
      ]
     },
     "metadata": {},
     "output_type": "display_data"
    }
   ],
   "source": [
    "dds"
   ]
  },
  {
   "cell_type": "markdown",
   "metadata": {},
   "source": [
    "Note that there is a **sizeFactor** added to **colData**. Let's look at it more carefully\n",
    "\n",
    "```\n",
    "> dds # (before estimateSizeFactors)\n",
    "class: DESeqDataSet \n",
    "dim: 8497 24 \n",
    "metadata(1): version\n",
    "assays(1): counts\n",
    "rownames(8497): CNAG_00001 CNAG_00002 ... ENSRNA049551964 ENSRNA049551993\n",
    "rowData names(0):\n",
    "colnames(24): 1_RZ_J 10_RZ_C ... 47_RZ_P 9_RZ_C\n",
    "colData names(10): Label Strain ... prob.unique depth\n",
    "\n",
    "> dds # (after estimateSizeFactors)\n",
    "class: DESeqDataSet \n",
    "dim: 8497 24 \n",
    "metadata(1): version\n",
    "assays(1): counts\n",
    "rownames(8497): CNAG_00001 CNAG_00002 ... ENSRNA049551964 ENSRNA049551993\n",
    "rowData names(0):\n",
    "colnames(24): 1_RZ_J 10_RZ_C ... 47_RZ_P 9_RZ_C\n",
    "colData names(11): Label Strain ... depth sizeFactor <------ \n",
    "```"
   ]
  },
  {
   "cell_type": "markdown",
   "metadata": {},
   "source": [
    "You can also get the size factors directly"
   ]
  },
  {
   "cell_type": "code",
   "execution_count": 20,
   "metadata": {},
   "outputs": [
    {
     "data": {
      "text/html": [
       "<dl class=dl-horizontal>\n",
       "\t<dt>1_RZ_J</dt>\n",
       "\t\t<dd>1.35860257064898</dd>\n",
       "\t<dt>10_RZ_C</dt>\n",
       "\t\t<dd>0.809867494749284</dd>\n",
       "\t<dt>11_RZ_J</dt>\n",
       "\t\t<dd>1.11751593713266</dd>\n",
       "\t<dt>12_RZ_P</dt>\n",
       "\t\t<dd>0.72598429773917</dd>\n",
       "\t<dt>13_RZ_J</dt>\n",
       "\t\t<dd>1.49313533381503</dd>\n",
       "\t<dt>14_RZ_C</dt>\n",
       "\t\t<dd>1.27280632425274</dd>\n",
       "\t<dt>15_RZ_C</dt>\n",
       "\t\t<dd>1.42929626914367</dd>\n",
       "\t<dt>16_RZ_P</dt>\n",
       "\t\t<dd>0.812079180084904</dd>\n",
       "\t<dt>2_RZ_C</dt>\n",
       "\t\t<dd>1.17017332812343</dd>\n",
       "\t<dt>21_RZ_C</dt>\n",
       "\t\t<dd>1.22517067687601</dd>\n",
       "\t<dt>22_RZ_C</dt>\n",
       "\t\t<dd>2.1685295715309</dd>\n",
       "\t<dt>23_RZ_J</dt>\n",
       "\t\t<dd>1.48197836323507</dd>\n",
       "\t<dt>24_RZ_J</dt>\n",
       "\t\t<dd>1.24525997382273</dd>\n",
       "\t<dt>26_RZ_C</dt>\n",
       "\t\t<dd>1.22474521822347</dd>\n",
       "\t<dt>27_RZ_P</dt>\n",
       "\t\t<dd>0.303886630551601</dd>\n",
       "\t<dt>3_RZ_J</dt>\n",
       "\t\t<dd>0.855045317015808</dd>\n",
       "\t<dt>35_RZ_P</dt>\n",
       "\t\t<dd>0.914560397263396</dd>\n",
       "\t<dt>36_RZ_J</dt>\n",
       "\t\t<dd>1.10350448352015</dd>\n",
       "\t<dt>38_RZ_P</dt>\n",
       "\t\t<dd>0.667941057484274</dd>\n",
       "\t<dt>4_RZ_P</dt>\n",
       "\t\t<dd>0.307985658867612</dd>\n",
       "\t<dt>40_RZ_J</dt>\n",
       "\t\t<dd>1.61140541685419</dd>\n",
       "\t<dt>45_RZ_P</dt>\n",
       "\t\t<dd>0.895153600695367</dd>\n",
       "\t<dt>47_RZ_P</dt>\n",
       "\t\t<dd>0.94877717838474</dd>\n",
       "\t<dt>9_RZ_C</dt>\n",
       "\t\t<dd>1.24470845954329</dd>\n",
       "</dl>\n"
      ],
      "text/latex": [
       "\\begin{description*}\n",
       "\\item[1\\textbackslash{}\\_RZ\\textbackslash{}\\_J] 1.35860257064898\n",
       "\\item[10\\textbackslash{}\\_RZ\\textbackslash{}\\_C] 0.809867494749284\n",
       "\\item[11\\textbackslash{}\\_RZ\\textbackslash{}\\_J] 1.11751593713266\n",
       "\\item[12\\textbackslash{}\\_RZ\\textbackslash{}\\_P] 0.72598429773917\n",
       "\\item[13\\textbackslash{}\\_RZ\\textbackslash{}\\_J] 1.49313533381503\n",
       "\\item[14\\textbackslash{}\\_RZ\\textbackslash{}\\_C] 1.27280632425274\n",
       "\\item[15\\textbackslash{}\\_RZ\\textbackslash{}\\_C] 1.42929626914367\n",
       "\\item[16\\textbackslash{}\\_RZ\\textbackslash{}\\_P] 0.812079180084904\n",
       "\\item[2\\textbackslash{}\\_RZ\\textbackslash{}\\_C] 1.17017332812343\n",
       "\\item[21\\textbackslash{}\\_RZ\\textbackslash{}\\_C] 1.22517067687601\n",
       "\\item[22\\textbackslash{}\\_RZ\\textbackslash{}\\_C] 2.1685295715309\n",
       "\\item[23\\textbackslash{}\\_RZ\\textbackslash{}\\_J] 1.48197836323507\n",
       "\\item[24\\textbackslash{}\\_RZ\\textbackslash{}\\_J] 1.24525997382273\n",
       "\\item[26\\textbackslash{}\\_RZ\\textbackslash{}\\_C] 1.22474521822347\n",
       "\\item[27\\textbackslash{}\\_RZ\\textbackslash{}\\_P] 0.303886630551601\n",
       "\\item[3\\textbackslash{}\\_RZ\\textbackslash{}\\_J] 0.855045317015808\n",
       "\\item[35\\textbackslash{}\\_RZ\\textbackslash{}\\_P] 0.914560397263396\n",
       "\\item[36\\textbackslash{}\\_RZ\\textbackslash{}\\_J] 1.10350448352015\n",
       "\\item[38\\textbackslash{}\\_RZ\\textbackslash{}\\_P] 0.667941057484274\n",
       "\\item[4\\textbackslash{}\\_RZ\\textbackslash{}\\_P] 0.307985658867612\n",
       "\\item[40\\textbackslash{}\\_RZ\\textbackslash{}\\_J] 1.61140541685419\n",
       "\\item[45\\textbackslash{}\\_RZ\\textbackslash{}\\_P] 0.895153600695367\n",
       "\\item[47\\textbackslash{}\\_RZ\\textbackslash{}\\_P] 0.94877717838474\n",
       "\\item[9\\textbackslash{}\\_RZ\\textbackslash{}\\_C] 1.24470845954329\n",
       "\\end{description*}\n"
      ],
      "text/markdown": [
       "1_RZ_J\n",
       ":   1.3586025706489810_RZ_C\n",
       ":   0.80986749474928411_RZ_J\n",
       ":   1.1175159371326612_RZ_P\n",
       ":   0.7259842977391713_RZ_J\n",
       ":   1.4931353338150314_RZ_C\n",
       ":   1.2728063242527415_RZ_C\n",
       ":   1.4292962691436716_RZ_P\n",
       ":   0.8120791800849042_RZ_C\n",
       ":   1.1701733281234321_RZ_C\n",
       ":   1.2251706768760122_RZ_C\n",
       ":   2.168529571530923_RZ_J\n",
       ":   1.4819783632350724_RZ_J\n",
       ":   1.2452599738227326_RZ_C\n",
       ":   1.2247452182234727_RZ_P\n",
       ":   0.3038866305516013_RZ_J\n",
       ":   0.85504531701580835_RZ_P\n",
       ":   0.91456039726339636_RZ_J\n",
       ":   1.1035044835201538_RZ_P\n",
       ":   0.6679410574842744_RZ_P\n",
       ":   0.30798565886761240_RZ_J\n",
       ":   1.6114054168541945_RZ_P\n",
       ":   0.89515360069536747_RZ_P\n",
       ":   0.948777178384749_RZ_C\n",
       ":   1.24470845954329\n",
       "\n"
      ],
      "text/plain": [
       "   1_RZ_J   10_RZ_C   11_RZ_J   12_RZ_P   13_RZ_J   14_RZ_C   15_RZ_C   16_RZ_P \n",
       "1.3586026 0.8098675 1.1175159 0.7259843 1.4931353 1.2728063 1.4292963 0.8120792 \n",
       "   2_RZ_C   21_RZ_C   22_RZ_C   23_RZ_J   24_RZ_J   26_RZ_C   27_RZ_P    3_RZ_J \n",
       "1.1701733 1.2251707 2.1685296 1.4819784 1.2452600 1.2247452 0.3038866 0.8550453 \n",
       "  35_RZ_P   36_RZ_J   38_RZ_P    4_RZ_P   40_RZ_J   45_RZ_P   47_RZ_P    9_RZ_C \n",
       "0.9145604 1.1035045 0.6679411 0.3079857 1.6114054 0.8951536 0.9487772 1.2447085 "
      ]
     },
     "metadata": {},
     "output_type": "display_data"
    }
   ],
   "source": [
    "sizeFactors(dds)"
   ]
  },
  {
   "cell_type": "markdown",
   "metadata": {},
   "source": [
    " It is preferable to limit the number of decimal places. Next show the size factors rounded to 3 decimal places"
   ]
  },
  {
   "cell_type": "code",
   "execution_count": 21,
   "metadata": {},
   "outputs": [
    {
     "data": {
      "text/html": [
       "<dl class=dl-horizontal>\n",
       "\t<dt>1_RZ_J</dt>\n",
       "\t\t<dd>1.359</dd>\n",
       "\t<dt>10_RZ_C</dt>\n",
       "\t\t<dd>0.81</dd>\n",
       "\t<dt>11_RZ_J</dt>\n",
       "\t\t<dd>1.118</dd>\n",
       "\t<dt>12_RZ_P</dt>\n",
       "\t\t<dd>0.726</dd>\n",
       "\t<dt>13_RZ_J</dt>\n",
       "\t\t<dd>1.493</dd>\n",
       "\t<dt>14_RZ_C</dt>\n",
       "\t\t<dd>1.273</dd>\n",
       "\t<dt>15_RZ_C</dt>\n",
       "\t\t<dd>1.429</dd>\n",
       "\t<dt>16_RZ_P</dt>\n",
       "\t\t<dd>0.812</dd>\n",
       "\t<dt>2_RZ_C</dt>\n",
       "\t\t<dd>1.17</dd>\n",
       "\t<dt>21_RZ_C</dt>\n",
       "\t\t<dd>1.225</dd>\n",
       "\t<dt>22_RZ_C</dt>\n",
       "\t\t<dd>2.169</dd>\n",
       "\t<dt>23_RZ_J</dt>\n",
       "\t\t<dd>1.482</dd>\n",
       "\t<dt>24_RZ_J</dt>\n",
       "\t\t<dd>1.245</dd>\n",
       "\t<dt>26_RZ_C</dt>\n",
       "\t\t<dd>1.225</dd>\n",
       "\t<dt>27_RZ_P</dt>\n",
       "\t\t<dd>0.304</dd>\n",
       "\t<dt>3_RZ_J</dt>\n",
       "\t\t<dd>0.855</dd>\n",
       "\t<dt>35_RZ_P</dt>\n",
       "\t\t<dd>0.915</dd>\n",
       "\t<dt>36_RZ_J</dt>\n",
       "\t\t<dd>1.104</dd>\n",
       "\t<dt>38_RZ_P</dt>\n",
       "\t\t<dd>0.668</dd>\n",
       "\t<dt>4_RZ_P</dt>\n",
       "\t\t<dd>0.308</dd>\n",
       "\t<dt>40_RZ_J</dt>\n",
       "\t\t<dd>1.611</dd>\n",
       "\t<dt>45_RZ_P</dt>\n",
       "\t\t<dd>0.895</dd>\n",
       "\t<dt>47_RZ_P</dt>\n",
       "\t\t<dd>0.949</dd>\n",
       "\t<dt>9_RZ_C</dt>\n",
       "\t\t<dd>1.245</dd>\n",
       "</dl>\n"
      ],
      "text/latex": [
       "\\begin{description*}\n",
       "\\item[1\\textbackslash{}\\_RZ\\textbackslash{}\\_J] 1.359\n",
       "\\item[10\\textbackslash{}\\_RZ\\textbackslash{}\\_C] 0.81\n",
       "\\item[11\\textbackslash{}\\_RZ\\textbackslash{}\\_J] 1.118\n",
       "\\item[12\\textbackslash{}\\_RZ\\textbackslash{}\\_P] 0.726\n",
       "\\item[13\\textbackslash{}\\_RZ\\textbackslash{}\\_J] 1.493\n",
       "\\item[14\\textbackslash{}\\_RZ\\textbackslash{}\\_C] 1.273\n",
       "\\item[15\\textbackslash{}\\_RZ\\textbackslash{}\\_C] 1.429\n",
       "\\item[16\\textbackslash{}\\_RZ\\textbackslash{}\\_P] 0.812\n",
       "\\item[2\\textbackslash{}\\_RZ\\textbackslash{}\\_C] 1.17\n",
       "\\item[21\\textbackslash{}\\_RZ\\textbackslash{}\\_C] 1.225\n",
       "\\item[22\\textbackslash{}\\_RZ\\textbackslash{}\\_C] 2.169\n",
       "\\item[23\\textbackslash{}\\_RZ\\textbackslash{}\\_J] 1.482\n",
       "\\item[24\\textbackslash{}\\_RZ\\textbackslash{}\\_J] 1.245\n",
       "\\item[26\\textbackslash{}\\_RZ\\textbackslash{}\\_C] 1.225\n",
       "\\item[27\\textbackslash{}\\_RZ\\textbackslash{}\\_P] 0.304\n",
       "\\item[3\\textbackslash{}\\_RZ\\textbackslash{}\\_J] 0.855\n",
       "\\item[35\\textbackslash{}\\_RZ\\textbackslash{}\\_P] 0.915\n",
       "\\item[36\\textbackslash{}\\_RZ\\textbackslash{}\\_J] 1.104\n",
       "\\item[38\\textbackslash{}\\_RZ\\textbackslash{}\\_P] 0.668\n",
       "\\item[4\\textbackslash{}\\_RZ\\textbackslash{}\\_P] 0.308\n",
       "\\item[40\\textbackslash{}\\_RZ\\textbackslash{}\\_J] 1.611\n",
       "\\item[45\\textbackslash{}\\_RZ\\textbackslash{}\\_P] 0.895\n",
       "\\item[47\\textbackslash{}\\_RZ\\textbackslash{}\\_P] 0.949\n",
       "\\item[9\\textbackslash{}\\_RZ\\textbackslash{}\\_C] 1.245\n",
       "\\end{description*}\n"
      ],
      "text/markdown": [
       "1_RZ_J\n",
       ":   1.35910_RZ_C\n",
       ":   0.8111_RZ_J\n",
       ":   1.11812_RZ_P\n",
       ":   0.72613_RZ_J\n",
       ":   1.49314_RZ_C\n",
       ":   1.27315_RZ_C\n",
       ":   1.42916_RZ_P\n",
       ":   0.8122_RZ_C\n",
       ":   1.1721_RZ_C\n",
       ":   1.22522_RZ_C\n",
       ":   2.16923_RZ_J\n",
       ":   1.48224_RZ_J\n",
       ":   1.24526_RZ_C\n",
       ":   1.22527_RZ_P\n",
       ":   0.3043_RZ_J\n",
       ":   0.85535_RZ_P\n",
       ":   0.91536_RZ_J\n",
       ":   1.10438_RZ_P\n",
       ":   0.6684_RZ_P\n",
       ":   0.30840_RZ_J\n",
       ":   1.61145_RZ_P\n",
       ":   0.89547_RZ_P\n",
       ":   0.9499_RZ_C\n",
       ":   1.245\n",
       "\n"
      ],
      "text/plain": [
       " 1_RZ_J 10_RZ_C 11_RZ_J 12_RZ_P 13_RZ_J 14_RZ_C 15_RZ_C 16_RZ_P  2_RZ_C 21_RZ_C \n",
       "  1.359   0.810   1.118   0.726   1.493   1.273   1.429   0.812   1.170   1.225 \n",
       "22_RZ_C 23_RZ_J 24_RZ_J 26_RZ_C 27_RZ_P  3_RZ_J 35_RZ_P 36_RZ_J 38_RZ_P  4_RZ_P \n",
       "  2.169   1.482   1.245   1.225   0.304   0.855   0.915   1.104   0.668   0.308 \n",
       "40_RZ_J 45_RZ_P 47_RZ_P  9_RZ_C \n",
       "  1.611   0.895   0.949   1.245 "
      ]
     },
     "metadata": {},
     "output_type": "display_data"
    }
   ],
   "source": [
    "round(sizeFactors(dds),3)"
   ]
  },
  {
   "cell_type": "markdown",
   "metadata": {},
   "source": [
    "Now that the size factors have been estimated, we can get \"normalized\" counts. Here we print three data frames together to easily compare them."
   ]
  },
  {
   "cell_type": "code",
   "execution_count": 22,
   "metadata": {},
   "outputs": [
    {
     "data": {
      "text/html": [
       "<table>\n",
       "<thead><tr><th></th><th scope=col>1_RZ_J</th><th scope=col>10_RZ_C</th><th scope=col>11_RZ_J</th><th scope=col>12_RZ_P</th><th scope=col>13_RZ_J</th><th scope=col>14_RZ_C</th><th scope=col>15_RZ_C</th><th scope=col>16_RZ_P</th><th scope=col>2_RZ_C</th><th scope=col>21_RZ_C</th><th scope=col>⋯</th><th scope=col>27_RZ_P</th><th scope=col>3_RZ_J</th><th scope=col>35_RZ_P</th><th scope=col>36_RZ_J</th><th scope=col>38_RZ_P</th><th scope=col>4_RZ_P</th><th scope=col>40_RZ_J</th><th scope=col>45_RZ_P</th><th scope=col>47_RZ_P</th><th scope=col>9_RZ_C</th></tr></thead>\n",
       "<tbody>\n",
       "\t<tr><th scope=row>CNAG_00001</th><td>  0</td><td> 0 </td><td> 0 </td><td> 0 </td><td>  0</td><td>  0</td><td>  0</td><td>  1</td><td>  0</td><td>  0</td><td>⋯  </td><td> 0 </td><td>  0</td><td>  0</td><td>  0</td><td> 0 </td><td> 0 </td><td>  0</td><td>  0</td><td>  0</td><td>  0</td></tr>\n",
       "\t<tr><th scope=row>CNAG_00002</th><td>204</td><td>76 </td><td>92 </td><td>64 </td><td>230</td><td>182</td><td>200</td><td>129</td><td>168</td><td>124</td><td>⋯  </td><td>43 </td><td>107</td><td>150</td><td>109</td><td>95 </td><td>51 </td><td>235</td><td>122</td><td>112</td><td>106</td></tr>\n",
       "\t<tr><th scope=row>CNAG_00003</th><td> 40</td><td>24 </td><td>18 </td><td>34 </td><td> 56</td><td> 53</td><td> 54</td><td> 40</td><td> 40</td><td> 41</td><td>⋯  </td><td> 9 </td><td> 24</td><td> 26</td><td> 43</td><td>43 </td><td>11 </td><td> 53</td><td> 46</td><td> 41</td><td> 35</td></tr>\n",
       "</tbody>\n",
       "</table>\n"
      ],
      "text/latex": [
       "\\begin{tabular}{r|llllllllllllllllllllllll}\n",
       "  & 1\\_RZ\\_J & 10\\_RZ\\_C & 11\\_RZ\\_J & 12\\_RZ\\_P & 13\\_RZ\\_J & 14\\_RZ\\_C & 15\\_RZ\\_C & 16\\_RZ\\_P & 2\\_RZ\\_C & 21\\_RZ\\_C & ⋯ & 27\\_RZ\\_P & 3\\_RZ\\_J & 35\\_RZ\\_P & 36\\_RZ\\_J & 38\\_RZ\\_P & 4\\_RZ\\_P & 40\\_RZ\\_J & 45\\_RZ\\_P & 47\\_RZ\\_P & 9\\_RZ\\_C\\\\\n",
       "\\hline\n",
       "\tCNAG\\_00001 &   0 &  0  &  0  &  0  &   0 &   0 &   0 &   1 &   0 &   0 & ⋯   &  0  &   0 &   0 &   0 &  0  &  0  &   0 &   0 &   0 &   0\\\\\n",
       "\tCNAG\\_00002 & 204 & 76  & 92  & 64  & 230 & 182 & 200 & 129 & 168 & 124 & ⋯   & 43  & 107 & 150 & 109 & 95  & 51  & 235 & 122 & 112 & 106\\\\\n",
       "\tCNAG\\_00003 &  40 & 24  & 18  & 34  &  56 &  53 &  54 &  40 &  40 &  41 & ⋯   &  9  &  24 &  26 &  43 & 43  & 11  &  53 &  46 &  41 &  35\\\\\n",
       "\\end{tabular}\n"
      ],
      "text/markdown": [
       "\n",
       "| <!--/--> | 1_RZ_J | 10_RZ_C | 11_RZ_J | 12_RZ_P | 13_RZ_J | 14_RZ_C | 15_RZ_C | 16_RZ_P | 2_RZ_C | 21_RZ_C | ⋯ | 27_RZ_P | 3_RZ_J | 35_RZ_P | 36_RZ_J | 38_RZ_P | 4_RZ_P | 40_RZ_J | 45_RZ_P | 47_RZ_P | 9_RZ_C | \n",
       "|---|---|---|\n",
       "| CNAG_00001 |   0 |  0  |  0  |  0  |   0 |   0 |   0 |   1 |   0 |   0 | ⋯   |  0  |   0 |   0 |   0 |  0  |  0  |   0 |   0 |   0 |   0 | \n",
       "| CNAG_00002 | 204 | 76  | 92  | 64  | 230 | 182 | 200 | 129 | 168 | 124 | ⋯   | 43  | 107 | 150 | 109 | 95  | 51  | 235 | 122 | 112 | 106 | \n",
       "| CNAG_00003 |  40 | 24  | 18  | 34  |  56 |  53 |  54 |  40 |  40 |  41 | ⋯   |  9  |  24 |  26 |  43 | 43  | 11  |  53 |  46 |  41 |  35 | \n",
       "\n",
       "\n"
      ],
      "text/plain": [
       "           1_RZ_J 10_RZ_C 11_RZ_J 12_RZ_P 13_RZ_J 14_RZ_C 15_RZ_C 16_RZ_P\n",
       "CNAG_00001   0     0       0       0        0       0       0       1    \n",
       "CNAG_00002 204    76      92      64      230     182     200     129    \n",
       "CNAG_00003  40    24      18      34       56      53      54      40    \n",
       "           2_RZ_C 21_RZ_C ⋯ 27_RZ_P 3_RZ_J 35_RZ_P 36_RZ_J 38_RZ_P 4_RZ_P\n",
       "CNAG_00001   0      0     ⋯  0        0      0       0      0       0    \n",
       "CNAG_00002 168    124     ⋯ 43      107    150     109     95      51    \n",
       "CNAG_00003  40     41     ⋯  9       24     26      43     43      11    \n",
       "           40_RZ_J 45_RZ_P 47_RZ_P 9_RZ_C\n",
       "CNAG_00001   0       0       0       0   \n",
       "CNAG_00002 235     122     112     106   \n",
       "CNAG_00003  53      46      41      35   "
      ]
     },
     "metadata": {},
     "output_type": "display_data"
    },
    {
     "data": {
      "text/html": [
       "<table>\n",
       "<thead><tr><th></th><th scope=col>1_RZ_J</th><th scope=col>10_RZ_C</th><th scope=col>11_RZ_J</th><th scope=col>12_RZ_P</th><th scope=col>13_RZ_J</th><th scope=col>14_RZ_C</th><th scope=col>15_RZ_C</th><th scope=col>16_RZ_P</th><th scope=col>2_RZ_C</th><th scope=col>21_RZ_C</th><th scope=col>⋯</th><th scope=col>27_RZ_P</th><th scope=col>3_RZ_J</th><th scope=col>35_RZ_P</th><th scope=col>36_RZ_J</th><th scope=col>38_RZ_P</th><th scope=col>4_RZ_P</th><th scope=col>40_RZ_J</th><th scope=col>45_RZ_P</th><th scope=col>47_RZ_P</th><th scope=col>9_RZ_C</th></tr></thead>\n",
       "<tbody>\n",
       "\t<tr><th scope=row>CNAG_00001</th><td>  0.00000 </td><td> 0.00000  </td><td> 0.00000  </td><td> 0.00000  </td><td>  0.00000 </td><td>  0.00000 </td><td>  0.00000 </td><td>  1.231407</td><td>  0.00000 </td><td>  0.00000 </td><td>⋯         </td><td>  0.00000 </td><td>  0.00000 </td><td>  0.00000 </td><td> 0.00000  </td><td>  0.00000 </td><td>  0.00000 </td><td>  0.00000 </td><td>  0.00000 </td><td>  0.00000 </td><td> 0.00000  </td></tr>\n",
       "\t<tr><th scope=row>CNAG_00002</th><td>150.15429 </td><td>93.84251  </td><td>82.32545  </td><td>88.15618  </td><td>154.03828 </td><td>142.99112 </td><td>139.92900 </td><td>158.851505</td><td>143.56847 </td><td>101.21039 </td><td>⋯         </td><td>141.50014 </td><td>125.13957 </td><td>164.01322 </td><td>98.77622  </td><td>142.22812 </td><td>165.59213 </td><td>145.83543 </td><td>136.28946 </td><td>118.04668 </td><td>85.16050  </td></tr>\n",
       "\t<tr><th scope=row>CNAG_00003</th><td> 29.44202 </td><td>29.63448  </td><td>16.10715  </td><td>46.83297  </td><td> 37.50497 </td><td> 41.64027 </td><td> 37.78083 </td><td> 49.256281</td><td> 34.18297 </td><td> 33.46473 </td><td>⋯         </td><td> 29.61631 </td><td> 28.06869 </td><td> 28.42896 </td><td>38.96677  </td><td> 64.37694 </td><td> 35.71595 </td><td> 32.89054 </td><td> 51.38783 </td><td> 43.21352 </td><td>28.11903  </td></tr>\n",
       "</tbody>\n",
       "</table>\n"
      ],
      "text/latex": [
       "\\begin{tabular}{r|llllllllllllllllllllllll}\n",
       "  & 1\\_RZ\\_J & 10\\_RZ\\_C & 11\\_RZ\\_J & 12\\_RZ\\_P & 13\\_RZ\\_J & 14\\_RZ\\_C & 15\\_RZ\\_C & 16\\_RZ\\_P & 2\\_RZ\\_C & 21\\_RZ\\_C & ⋯ & 27\\_RZ\\_P & 3\\_RZ\\_J & 35\\_RZ\\_P & 36\\_RZ\\_J & 38\\_RZ\\_P & 4\\_RZ\\_P & 40\\_RZ\\_J & 45\\_RZ\\_P & 47\\_RZ\\_P & 9\\_RZ\\_C\\\\\n",
       "\\hline\n",
       "\tCNAG\\_00001 &   0.00000  &  0.00000   &  0.00000   &  0.00000   &   0.00000  &   0.00000  &   0.00000  &   1.231407 &   0.00000  &   0.00000  & ⋯          &   0.00000  &   0.00000  &   0.00000  &  0.00000   &   0.00000  &   0.00000  &   0.00000  &   0.00000  &   0.00000  &  0.00000  \\\\\n",
       "\tCNAG\\_00002 & 150.15429  & 93.84251   & 82.32545   & 88.15618   & 154.03828  & 142.99112  & 139.92900  & 158.851505 & 143.56847  & 101.21039  & ⋯          & 141.50014  & 125.13957  & 164.01322  & 98.77622   & 142.22812  & 165.59213  & 145.83543  & 136.28946  & 118.04668  & 85.16050  \\\\\n",
       "\tCNAG\\_00003 &  29.44202  & 29.63448   & 16.10715   & 46.83297   &  37.50497  &  41.64027  &  37.78083  &  49.256281 &  34.18297  &  33.46473  & ⋯          &  29.61631  &  28.06869  &  28.42896  & 38.96677   &  64.37694  &  35.71595  &  32.89054  &  51.38783  &  43.21352  & 28.11903  \\\\\n",
       "\\end{tabular}\n"
      ],
      "text/markdown": [
       "\n",
       "| <!--/--> | 1_RZ_J | 10_RZ_C | 11_RZ_J | 12_RZ_P | 13_RZ_J | 14_RZ_C | 15_RZ_C | 16_RZ_P | 2_RZ_C | 21_RZ_C | ⋯ | 27_RZ_P | 3_RZ_J | 35_RZ_P | 36_RZ_J | 38_RZ_P | 4_RZ_P | 40_RZ_J | 45_RZ_P | 47_RZ_P | 9_RZ_C | \n",
       "|---|---|---|\n",
       "| CNAG_00001 |   0.00000  |  0.00000   |  0.00000   |  0.00000   |   0.00000  |   0.00000  |   0.00000  |   1.231407 |   0.00000  |   0.00000  | ⋯          |   0.00000  |   0.00000  |   0.00000  |  0.00000   |   0.00000  |   0.00000  |   0.00000  |   0.00000  |   0.00000  |  0.00000   | \n",
       "| CNAG_00002 | 150.15429  | 93.84251   | 82.32545   | 88.15618   | 154.03828  | 142.99112  | 139.92900  | 158.851505 | 143.56847  | 101.21039  | ⋯          | 141.50014  | 125.13957  | 164.01322  | 98.77622   | 142.22812  | 165.59213  | 145.83543  | 136.28946  | 118.04668  | 85.16050   | \n",
       "| CNAG_00003 |  29.44202  | 29.63448   | 16.10715   | 46.83297   |  37.50497  |  41.64027  |  37.78083  |  49.256281 |  34.18297  |  33.46473  | ⋯          |  29.61631  |  28.06869  |  28.42896  | 38.96677   |  64.37694  |  35.71595  |  32.89054  |  51.38783  |  43.21352  | 28.11903   | \n",
       "\n",
       "\n"
      ],
      "text/plain": [
       "           1_RZ_J    10_RZ_C  11_RZ_J  12_RZ_P  13_RZ_J   14_RZ_C   15_RZ_C  \n",
       "CNAG_00001   0.00000  0.00000  0.00000  0.00000   0.00000   0.00000   0.00000\n",
       "CNAG_00002 150.15429 93.84251 82.32545 88.15618 154.03828 142.99112 139.92900\n",
       "CNAG_00003  29.44202 29.63448 16.10715 46.83297  37.50497  41.64027  37.78083\n",
       "           16_RZ_P    2_RZ_C    21_RZ_C   ⋯ 27_RZ_P   3_RZ_J    35_RZ_P  \n",
       "CNAG_00001   1.231407   0.00000   0.00000 ⋯   0.00000   0.00000   0.00000\n",
       "CNAG_00002 158.851505 143.56847 101.21039 ⋯ 141.50014 125.13957 164.01322\n",
       "CNAG_00003  49.256281  34.18297  33.46473 ⋯  29.61631  28.06869  28.42896\n",
       "           36_RZ_J  38_RZ_P   4_RZ_P    40_RZ_J   45_RZ_P   47_RZ_P   9_RZ_C  \n",
       "CNAG_00001  0.00000   0.00000   0.00000   0.00000   0.00000   0.00000  0.00000\n",
       "CNAG_00002 98.77622 142.22812 165.59213 145.83543 136.28946 118.04668 85.16050\n",
       "CNAG_00003 38.96677  64.37694  35.71595  32.89054  51.38783  43.21352 28.11903"
      ]
     },
     "metadata": {},
     "output_type": "display_data"
    },
    {
     "data": {
      "text/html": [
       "<table>\n",
       "<thead><tr><th></th><th scope=col>1_RZ_J</th><th scope=col>10_RZ_C</th><th scope=col>11_RZ_J</th><th scope=col>12_RZ_P</th><th scope=col>13_RZ_J</th><th scope=col>14_RZ_C</th><th scope=col>15_RZ_C</th><th scope=col>16_RZ_P</th><th scope=col>2_RZ_C</th><th scope=col>21_RZ_C</th><th scope=col>⋯</th><th scope=col>27_RZ_P</th><th scope=col>3_RZ_J</th><th scope=col>35_RZ_P</th><th scope=col>36_RZ_J</th><th scope=col>38_RZ_P</th><th scope=col>4_RZ_P</th><th scope=col>40_RZ_J</th><th scope=col>45_RZ_P</th><th scope=col>47_RZ_P</th><th scope=col>9_RZ_C</th></tr></thead>\n",
       "<tbody>\n",
       "\t<tr><th scope=row>CNAG_00001</th><td>  0.00000 </td><td> 0.00000  </td><td> 0.00000  </td><td> 0.00000  </td><td>  0.00000 </td><td>  0.00000 </td><td>  0.00000 </td><td>  1.231407</td><td>  0.00000 </td><td>  0.00000 </td><td>⋯         </td><td>  0.00000 </td><td>  0.00000 </td><td>  0.00000 </td><td> 0.00000  </td><td>  0.00000 </td><td>  0.00000 </td><td>  0.00000 </td><td>  0.00000 </td><td>  0.00000 </td><td> 0.00000  </td></tr>\n",
       "\t<tr><th scope=row>CNAG_00002</th><td>150.15429 </td><td>93.84251  </td><td>82.32545  </td><td>88.15618  </td><td>154.03828 </td><td>142.99112 </td><td>139.92900 </td><td>158.851505</td><td>143.56847 </td><td>101.21039 </td><td>⋯         </td><td>141.50014 </td><td>125.13957 </td><td>164.01322 </td><td>98.77622  </td><td>142.22812 </td><td>165.59213 </td><td>145.83543 </td><td>136.28946 </td><td>118.04668 </td><td>85.16050  </td></tr>\n",
       "\t<tr><th scope=row>CNAG_00003</th><td> 29.44202 </td><td>29.63448  </td><td>16.10715  </td><td>46.83297  </td><td> 37.50497 </td><td> 41.64027 </td><td> 37.78083 </td><td> 49.256281</td><td> 34.18297 </td><td> 33.46473 </td><td>⋯         </td><td> 29.61631 </td><td> 28.06869 </td><td> 28.42896 </td><td>38.96677  </td><td> 64.37694 </td><td> 35.71595 </td><td> 32.89054 </td><td> 51.38783 </td><td> 43.21352 </td><td>28.11903  </td></tr>\n",
       "</tbody>\n",
       "</table>\n"
      ],
      "text/latex": [
       "\\begin{tabular}{r|llllllllllllllllllllllll}\n",
       "  & 1\\_RZ\\_J & 10\\_RZ\\_C & 11\\_RZ\\_J & 12\\_RZ\\_P & 13\\_RZ\\_J & 14\\_RZ\\_C & 15\\_RZ\\_C & 16\\_RZ\\_P & 2\\_RZ\\_C & 21\\_RZ\\_C & ⋯ & 27\\_RZ\\_P & 3\\_RZ\\_J & 35\\_RZ\\_P & 36\\_RZ\\_J & 38\\_RZ\\_P & 4\\_RZ\\_P & 40\\_RZ\\_J & 45\\_RZ\\_P & 47\\_RZ\\_P & 9\\_RZ\\_C\\\\\n",
       "\\hline\n",
       "\tCNAG\\_00001 &   0.00000  &  0.00000   &  0.00000   &  0.00000   &   0.00000  &   0.00000  &   0.00000  &   1.231407 &   0.00000  &   0.00000  & ⋯          &   0.00000  &   0.00000  &   0.00000  &  0.00000   &   0.00000  &   0.00000  &   0.00000  &   0.00000  &   0.00000  &  0.00000  \\\\\n",
       "\tCNAG\\_00002 & 150.15429  & 93.84251   & 82.32545   & 88.15618   & 154.03828  & 142.99112  & 139.92900  & 158.851505 & 143.56847  & 101.21039  & ⋯          & 141.50014  & 125.13957  & 164.01322  & 98.77622   & 142.22812  & 165.59213  & 145.83543  & 136.28946  & 118.04668  & 85.16050  \\\\\n",
       "\tCNAG\\_00003 &  29.44202  & 29.63448   & 16.10715   & 46.83297   &  37.50497  &  41.64027  &  37.78083  &  49.256281 &  34.18297  &  33.46473  & ⋯          &  29.61631  &  28.06869  &  28.42896  & 38.96677   &  64.37694  &  35.71595  &  32.89054  &  51.38783  &  43.21352  & 28.11903  \\\\\n",
       "\\end{tabular}\n"
      ],
      "text/markdown": [
       "\n",
       "| <!--/--> | 1_RZ_J | 10_RZ_C | 11_RZ_J | 12_RZ_P | 13_RZ_J | 14_RZ_C | 15_RZ_C | 16_RZ_P | 2_RZ_C | 21_RZ_C | ⋯ | 27_RZ_P | 3_RZ_J | 35_RZ_P | 36_RZ_J | 38_RZ_P | 4_RZ_P | 40_RZ_J | 45_RZ_P | 47_RZ_P | 9_RZ_C | \n",
       "|---|---|---|\n",
       "| CNAG_00001 |   0.00000  |  0.00000   |  0.00000   |  0.00000   |   0.00000  |   0.00000  |   0.00000  |   1.231407 |   0.00000  |   0.00000  | ⋯          |   0.00000  |   0.00000  |   0.00000  |  0.00000   |   0.00000  |   0.00000  |   0.00000  |   0.00000  |   0.00000  |  0.00000   | \n",
       "| CNAG_00002 | 150.15429  | 93.84251   | 82.32545   | 88.15618   | 154.03828  | 142.99112  | 139.92900  | 158.851505 | 143.56847  | 101.21039  | ⋯          | 141.50014  | 125.13957  | 164.01322  | 98.77622   | 142.22812  | 165.59213  | 145.83543  | 136.28946  | 118.04668  | 85.16050   | \n",
       "| CNAG_00003 |  29.44202  | 29.63448   | 16.10715   | 46.83297   |  37.50497  |  41.64027  |  37.78083  |  49.256281 |  34.18297  |  33.46473  | ⋯          |  29.61631  |  28.06869  |  28.42896  | 38.96677   |  64.37694  |  35.71595  |  32.89054  |  51.38783  |  43.21352  | 28.11903   | \n",
       "\n",
       "\n"
      ],
      "text/plain": [
       "           1_RZ_J    10_RZ_C  11_RZ_J  12_RZ_P  13_RZ_J   14_RZ_C   15_RZ_C  \n",
       "CNAG_00001   0.00000  0.00000  0.00000  0.00000   0.00000   0.00000   0.00000\n",
       "CNAG_00002 150.15429 93.84251 82.32545 88.15618 154.03828 142.99112 139.92900\n",
       "CNAG_00003  29.44202 29.63448 16.10715 46.83297  37.50497  41.64027  37.78083\n",
       "           16_RZ_P    2_RZ_C    21_RZ_C   ⋯ 27_RZ_P   3_RZ_J    35_RZ_P  \n",
       "CNAG_00001   1.231407   0.00000   0.00000 ⋯   0.00000   0.00000   0.00000\n",
       "CNAG_00002 158.851505 143.56847 101.21039 ⋯ 141.50014 125.13957 164.01322\n",
       "CNAG_00003  49.256281  34.18297  33.46473 ⋯  29.61631  28.06869  28.42896\n",
       "           36_RZ_J  38_RZ_P   4_RZ_P    40_RZ_J   45_RZ_P   47_RZ_P   9_RZ_C  \n",
       "CNAG_00001  0.00000   0.00000   0.00000   0.00000   0.00000   0.00000  0.00000\n",
       "CNAG_00002 98.77622 142.22812 165.59213 145.83543 136.28946 118.04668 85.16050\n",
       "CNAG_00003 38.96677  64.37694  35.71595  32.89054  51.38783  43.21352 28.11903"
      ]
     },
     "metadata": {},
     "output_type": "display_data"
    }
   ],
   "source": [
    "# original count\n",
    "head(counts(dds),3)\n",
    "\n",
    "# normalized count\n",
    "head(counts(dds, normalize = TRUE), 3)\n",
    "\n",
    "# normalized manually using size factors\n",
    "counts(dds)[1:3,] %>% \n",
    "    apply(., 1, function(row){row / sizeFactors(dds)}) %>%\n",
    "    t"
   ]
  },
  {
   "cell_type": "markdown",
   "metadata": {},
   "source": [
    "**Exercise:** How do you get the raw counts for gene  \"GeneID: CNAG_05845\"?"
   ]
  },
  {
   "cell_type": "code",
   "execution_count": 23,
   "metadata": {},
   "outputs": [
    {
     "data": {
      "text/html": [
       "<dl class=dl-horizontal>\n",
       "\t<dt>1_RZ_J</dt>\n",
       "\t\t<dd>607.977651334368</dd>\n",
       "\t<dt>10_RZ_C</dt>\n",
       "\t\t<dd>554.411682048061</dd>\n",
       "\t<dt>11_RZ_J</dt>\n",
       "\t\t<dd>614.75633337518</dd>\n",
       "\t<dt>12_RZ_P</dt>\n",
       "\t\t<dd>586.789550857548</dd>\n",
       "\t<dt>13_RZ_J</dt>\n",
       "\t\t<dd>548.510226402196</dd>\n",
       "\t<dt>14_RZ_C</dt>\n",
       "\t\t<dd>519.324886595036</dd>\n",
       "\t<dt>15_RZ_C</dt>\n",
       "\t\t<dd>518.436951104582</dd>\n",
       "\t<dt>16_RZ_P</dt>\n",
       "\t\t<dd>535.662052011382</dd>\n",
       "\t<dt>2_RZ_C</dt>\n",
       "\t\t<dd>587.947087380058</dd>\n",
       "\t<dt>21_RZ_C</dt>\n",
       "\t\t<dd>613.792032566009</dd>\n",
       "\t<dt>22_RZ_C</dt>\n",
       "\t\t<dd>610.090827152527</dd>\n",
       "\t<dt>23_RZ_J</dt>\n",
       "\t\t<dd>570.8585367962</dd>\n",
       "\t<dt>24_RZ_J</dt>\n",
       "\t\t<dd>595.056466582845</dd>\n",
       "\t<dt>26_RZ_C</dt>\n",
       "\t\t<dd>658.09605786347</dd>\n",
       "\t<dt>27_RZ_P</dt>\n",
       "\t\t<dd>602.198259488503</dd>\n",
       "\t<dt>3_RZ_J</dt>\n",
       "\t\t<dd>702.886721954748</dd>\n",
       "\t<dt>35_RZ_P</dt>\n",
       "\t\t<dd>566.392336197797</dd>\n",
       "\t<dt>36_RZ_J</dt>\n",
       "\t\t<dd>572.720826637639</dd>\n",
       "\t<dt>38_RZ_P</dt>\n",
       "\t\t<dd>516.512641548649</dd>\n",
       "\t<dt>4_RZ_P</dt>\n",
       "\t\t<dd>668.862312477184</dd>\n",
       "\t<dt>40_RZ_J</dt>\n",
       "\t\t<dd>554.174629587214</dd>\n",
       "\t<dt>45_RZ_P</dt>\n",
       "\t\t<dd>656.870507523216</dd>\n",
       "\t<dt>47_RZ_P</dt>\n",
       "\t\t<dd>582.855503482349</dd>\n",
       "\t<dt>9_RZ_C</dt>\n",
       "\t\t<dd>543.902465520645</dd>\n",
       "</dl>\n"
      ],
      "text/latex": [
       "\\begin{description*}\n",
       "\\item[1\\textbackslash{}\\_RZ\\textbackslash{}\\_J] 607.977651334368\n",
       "\\item[10\\textbackslash{}\\_RZ\\textbackslash{}\\_C] 554.411682048061\n",
       "\\item[11\\textbackslash{}\\_RZ\\textbackslash{}\\_J] 614.75633337518\n",
       "\\item[12\\textbackslash{}\\_RZ\\textbackslash{}\\_P] 586.789550857548\n",
       "\\item[13\\textbackslash{}\\_RZ\\textbackslash{}\\_J] 548.510226402196\n",
       "\\item[14\\textbackslash{}\\_RZ\\textbackslash{}\\_C] 519.324886595036\n",
       "\\item[15\\textbackslash{}\\_RZ\\textbackslash{}\\_C] 518.436951104582\n",
       "\\item[16\\textbackslash{}\\_RZ\\textbackslash{}\\_P] 535.662052011382\n",
       "\\item[2\\textbackslash{}\\_RZ\\textbackslash{}\\_C] 587.947087380058\n",
       "\\item[21\\textbackslash{}\\_RZ\\textbackslash{}\\_C] 613.792032566009\n",
       "\\item[22\\textbackslash{}\\_RZ\\textbackslash{}\\_C] 610.090827152527\n",
       "\\item[23\\textbackslash{}\\_RZ\\textbackslash{}\\_J] 570.8585367962\n",
       "\\item[24\\textbackslash{}\\_RZ\\textbackslash{}\\_J] 595.056466582845\n",
       "\\item[26\\textbackslash{}\\_RZ\\textbackslash{}\\_C] 658.09605786347\n",
       "\\item[27\\textbackslash{}\\_RZ\\textbackslash{}\\_P] 602.198259488503\n",
       "\\item[3\\textbackslash{}\\_RZ\\textbackslash{}\\_J] 702.886721954748\n",
       "\\item[35\\textbackslash{}\\_RZ\\textbackslash{}\\_P] 566.392336197797\n",
       "\\item[36\\textbackslash{}\\_RZ\\textbackslash{}\\_J] 572.720826637639\n",
       "\\item[38\\textbackslash{}\\_RZ\\textbackslash{}\\_P] 516.512641548649\n",
       "\\item[4\\textbackslash{}\\_RZ\\textbackslash{}\\_P] 668.862312477184\n",
       "\\item[40\\textbackslash{}\\_RZ\\textbackslash{}\\_J] 554.174629587214\n",
       "\\item[45\\textbackslash{}\\_RZ\\textbackslash{}\\_P] 656.870507523216\n",
       "\\item[47\\textbackslash{}\\_RZ\\textbackslash{}\\_P] 582.855503482349\n",
       "\\item[9\\textbackslash{}\\_RZ\\textbackslash{}\\_C] 543.902465520645\n",
       "\\end{description*}\n"
      ],
      "text/markdown": [
       "1_RZ_J\n",
       ":   607.97765133436810_RZ_C\n",
       ":   554.41168204806111_RZ_J\n",
       ":   614.7563333751812_RZ_P\n",
       ":   586.78955085754813_RZ_J\n",
       ":   548.51022640219614_RZ_C\n",
       ":   519.32488659503615_RZ_C\n",
       ":   518.43695110458216_RZ_P\n",
       ":   535.6620520113822_RZ_C\n",
       ":   587.94708738005821_RZ_C\n",
       ":   613.79203256600922_RZ_C\n",
       ":   610.09082715252723_RZ_J\n",
       ":   570.858536796224_RZ_J\n",
       ":   595.05646658284526_RZ_C\n",
       ":   658.0960578634727_RZ_P\n",
       ":   602.1982594885033_RZ_J\n",
       ":   702.88672195474835_RZ_P\n",
       ":   566.39233619779736_RZ_J\n",
       ":   572.72082663763938_RZ_P\n",
       ":   516.5126415486494_RZ_P\n",
       ":   668.86231247718440_RZ_J\n",
       ":   554.17462958721445_RZ_P\n",
       ":   656.87050752321647_RZ_P\n",
       ":   582.8555034823499_RZ_C\n",
       ":   543.902465520645\n",
       "\n"
      ],
      "text/plain": [
       "  1_RZ_J  10_RZ_C  11_RZ_J  12_RZ_P  13_RZ_J  14_RZ_C  15_RZ_C  16_RZ_P \n",
       "607.9777 554.4117 614.7563 586.7896 548.5102 519.3249 518.4370 535.6621 \n",
       "  2_RZ_C  21_RZ_C  22_RZ_C  23_RZ_J  24_RZ_J  26_RZ_C  27_RZ_P   3_RZ_J \n",
       "587.9471 613.7920 610.0908 570.8585 595.0565 658.0961 602.1983 702.8867 \n",
       " 35_RZ_P  36_RZ_J  38_RZ_P   4_RZ_P  40_RZ_J  45_RZ_P  47_RZ_P   9_RZ_C \n",
       "566.3923 572.7208 516.5126 668.8623 554.1746 656.8705 582.8555 543.9025 "
      ]
     },
     "metadata": {},
     "output_type": "display_data"
    }
   ],
   "source": [
    "counts(dds, normalize = TRUE)[\"CNAG_05845\",]"
   ]
  },
  {
   "cell_type": "markdown",
   "metadata": {},
   "source": [
    "**Exercise:** Get a summary (mean, median, quantiles etc ) of the size factors"
   ]
  },
  {
   "cell_type": "code",
   "execution_count": 24,
   "metadata": {},
   "outputs": [
    {
     "data": {
      "text/plain": [
       "   Min. 1st Qu.  Median    Mean 3rd Qu.    Max. \n",
       " 0.3039  0.8443  1.1438  1.0995  1.2943  2.1685 "
      ]
     },
     "metadata": {},
     "output_type": "display_data"
    }
   ],
   "source": [
    "summary(sizeFactors(dds))"
   ]
  },
  {
   "cell_type": "markdown",
   "metadata": {},
   "source": [
    "Before going to the next step, let's look at the dispersionFunction slot"
   ]
  },
  {
   "cell_type": "code",
   "execution_count": 25,
   "metadata": {},
   "outputs": [
    {
     "data": {
      "text/html": [
       "<pre class=language-r><code>function () \n",
       "NULL</code></pre>"
      ],
      "text/latex": [
       "\\begin{minted}{r}\n",
       "function () \n",
       "NULL\n",
       "\\end{minted}"
      ],
      "text/markdown": [
       "```r\n",
       "function () \n",
       "NULL\n",
       "```"
      ],
      "text/plain": [
       "function () \n",
       "NULL\n",
       "<bytecode: 0xbfcd650>"
      ]
     },
     "metadata": {},
     "output_type": "display_data"
    }
   ],
   "source": [
    "# still empty\n",
    "dds@dispersionFunction"
   ]
  },
  {
   "cell_type": "markdown",
   "metadata": {},
   "source": [
    "## 02 Dispersion Parameters\n",
    "Next, we get the dispersion factors $\\alpha_1,\\ldots,\\alpha_{m}$"
   ]
  },
  {
   "cell_type": "code",
   "execution_count": 26,
   "metadata": {},
   "outputs": [
    {
     "name": "stderr",
     "output_type": "stream",
     "text": [
      "gene-wise dispersion estimates\n",
      "mean-dispersion relationship\n",
      "final dispersion estimates\n"
     ]
    }
   ],
   "source": [
    "dds <- estimateDispersions(dds)"
   ]
  },
  {
   "cell_type": "markdown",
   "metadata": {},
   "source": [
    "Now inspect the dds object again and note that the rowRanges slot has extra information (\"metadata column names(0):\" before versus \"column names(9): baseMean baseVar ... dispOutlier dispMAP\")\n",
    "- before: \n",
    "    - `metadata column names(0):`\n",
    "- after:  \n",
    "    - `column names(9): baseMean baseVar ...`"
   ]
  },
  {
   "cell_type": "code",
   "execution_count": 27,
   "metadata": {},
   "outputs": [
    {
     "data": {
      "text/plain": [
       "class: DESeqDataSet \n",
       "dim: 8497 24 \n",
       "metadata(1): version\n",
       "assays(2): counts mu\n",
       "rownames(8497): CNAG_00001 CNAG_00002 ... ENSRNA049551964\n",
       "  ENSRNA049551993\n",
       "rowData names(9): baseMean baseVar ... dispOutlier dispMAP\n",
       "colnames(24): 1_RZ_J 10_RZ_C ... 47_RZ_P 9_RZ_C\n",
       "colData names(11): Label Strain ... depth sizeFactor"
      ]
     },
     "metadata": {},
     "output_type": "display_data"
    }
   ],
   "source": [
    "dds"
   ]
  },
  {
   "cell_type": "markdown",
   "metadata": {},
   "source": [
    "Can you notice the difference?\n",
    "```\n",
    "> dds (before dispersion)\n",
    "class: DESeqDataSet \n",
    "dim: 8497 24 \n",
    "metadata(1): version\n",
    "assays(1): counts\n",
    "rownames(8497): CNAG_00001 CNAG_00002 ... ENSRNA049551964 ENSRNA049551993\n",
    "rowData names(0):\n",
    "colnames(24): 1_RZ_J 10_RZ_C ... 47_RZ_P 9_RZ_C\n",
    "colData names(11): Label Strain ... depth sizeFactor\n",
    "\n",
    "> dds (after dispersion)\n",
    "class: DESeqDataSet \n",
    "dim: 8497 24 \n",
    "metadata(1): version\n",
    "assays(2): counts mu\n",
    "rownames(8497): CNAG_00001 CNAG_00002 ... ENSRNA049551964 ENSRNA049551993\n",
    "rowData names(9): baseMean baseVar ... dispOutlier dispMAP <------\n",
    "colnames(24): 1_RZ_J 10_RZ_C ... 47_RZ_P 9_RZ_C\n",
    "colData names(11): Label Strain ... depth sizeFactor\n",
    "```"
   ]
  },
  {
   "cell_type": "markdown",
   "metadata": {},
   "source": [
    "Note that the dispersionfunction slot is now populated"
   ]
  },
  {
   "cell_type": "code",
   "execution_count": 28,
   "metadata": {},
   "outputs": [
    {
     "data": {
      "text/html": [
       "<pre class=language-r><code>structure(function (q) \n",
       "coefs[1] + coefs[2]/q, coefficients = structure(c(0.0652792756675597, \n",
       "0.798513129193006), .Names = c(\"asymptDisp\", \"extraPois\")), fitType = \"parametric\", varLogDispEsts = 1.37499668365293, dispPriorVar = 1.2750797275938)</code></pre>"
      ],
      "text/latex": [
       "\\begin{minted}{r}\n",
       "structure(function (q) \n",
       "coefs{[}1{]} + coefs{[}2{]}/q, coefficients = structure(c(0.0652792756675597, \n",
       "0.798513129193006), .Names = c(\"asymptDisp\", \"extraPois\")), fitType = \"parametric\", varLogDispEsts = 1.37499668365293, dispPriorVar = 1.2750797275938)\n",
       "\\end{minted}"
      ],
      "text/markdown": [
       "```r\n",
       "structure(function (q) \n",
       "coefs[1] + coefs[2]/q, coefficients = structure(c(0.0652792756675597, \n",
       "0.798513129193006), .Names = c(\"asymptDisp\", \"extraPois\")), fitType = \"parametric\", varLogDispEsts = 1.37499668365293, dispPriorVar = 1.2750797275938)\n",
       "```"
      ],
      "text/plain": [
       "function (q) \n",
       "coefs[1] + coefs[2]/q\n",
       "<environment: 0x19a1bfa8>\n",
       "attr(,\"coefficients\")\n",
       "asymptDisp  extraPois \n",
       "0.06527928 0.79851313 \n",
       "attr(,\"fitType\")\n",
       "[1] \"parametric\"\n",
       "attr(,\"varLogDispEsts\")\n",
       "[1] 1.374997\n",
       "attr(,\"dispPriorVar\")\n",
       "[1] 1.27508"
      ]
     },
     "metadata": {},
     "output_type": "display_data"
    }
   ],
   "source": [
    "dds@dispersionFunction"
   ]
  },
  {
   "cell_type": "markdown",
   "metadata": {},
   "source": [
    "We can extract the gene specific dispersion factors using dispersions(). Note that there will be one number per gene. We look at the first four genes (rounded to 4 decimal places)"
   ]
  },
  {
   "cell_type": "code",
   "execution_count": 29,
   "metadata": {},
   "outputs": [],
   "source": [
    "alphas <- dispersions(dds)"
   ]
  },
  {
   "cell_type": "markdown",
   "metadata": {},
   "source": [
    "Verify that the number of dispersion factors equals the number of genes"
   ]
  },
  {
   "cell_type": "code",
   "execution_count": 30,
   "metadata": {},
   "outputs": [
    {
     "data": {
      "text/html": [
       "8497"
      ],
      "text/latex": [
       "8497"
      ],
      "text/markdown": [
       "8497"
      ],
      "text/plain": [
       "[1] 8497"
      ]
     },
     "metadata": {},
     "output_type": "display_data"
    }
   ],
   "source": [
    "# number of disperion factors\n",
    "length(alphas)"
   ]
  },
  {
   "cell_type": "code",
   "execution_count": 31,
   "metadata": {},
   "outputs": [
    {
     "data": {
      "text/html": [
       "8497"
      ],
      "text/latex": [
       "8497"
      ],
      "text/markdown": [
       "8497"
      ],
      "text/plain": [
       "[1] 8497"
      ]
     },
     "metadata": {},
     "output_type": "display_data"
    }
   ],
   "source": [
    "# number of genes\n",
    "nrow(dds)"
   ]
  },
  {
   "cell_type": "markdown",
   "metadata": {},
   "source": [
    "Print the dispersion factors for the first four genes rounded to four decimal points"
   ]
  },
  {
   "cell_type": "code",
   "execution_count": 56,
   "metadata": {},
   "outputs": [
    {
     "data": {
      "text/html": [
       "<ol class=list-inline>\n",
       "\t<li>24</li>\n",
       "\t<li>0.0179</li>\n",
       "\t<li>0.0503</li>\n",
       "\t<li>0.0112</li>\n",
       "</ol>\n"
      ],
      "text/latex": [
       "\\begin{enumerate*}\n",
       "\\item 24\n",
       "\\item 0.0179\n",
       "\\item 0.0503\n",
       "\\item 0.0112\n",
       "\\end{enumerate*}\n"
      ],
      "text/markdown": [
       "1. 24\n",
       "2. 0.0179\n",
       "3. 0.0503\n",
       "4. 0.0112\n",
       "\n",
       "\n"
      ],
      "text/plain": [
       "[1] 24.0000  0.0179  0.0503  0.0112"
      ]
     },
     "metadata": {},
     "output_type": "display_data"
    }
   ],
   "source": [
    "round(alphas[1:4], 4)"
   ]
  },
  {
   "cell_type": "markdown",
   "metadata": {},
   "source": [
    "Extract the metadata using mcols() for the first four genes\n",
    "\n",
    "| Terms       | Description                                   |\n",
    "|-------------|-----------------------------------------------|\n",
    "| baseMean    |     mean of normalized counts for all samples |\n",
    "| baseVar     | variance of normalized counts for all samples |\n",
    "| allZero     |                all counts for a gene are zero |\n",
    "| dispGeneEst |             gene-wise estimates of dispersion |\n",
    "| dispFit     |                   fitted values of dispersion |\n",
    "| dispersion  |                  final estimate of dispersion |\n",
    "| dispIter    |                          number of iterations |\n",
    "| dispOut     |                 dispersion flagged as outlier |\n",
    "| dispMAP     |                 maximum a posteriori estimate |\n"
   ]
  },
  {
   "cell_type": "code",
   "execution_count": 33,
   "metadata": {},
   "outputs": [
    {
     "data": {
      "text/html": [
       "<table>\n",
       "<thead><tr><th scope=col>baseMean</th><th scope=col>baseVar</th><th scope=col>allZero</th><th scope=col>dispGeneEst</th><th scope=col>dispFit</th><th scope=col>dispersion</th><th scope=col>dispIter</th><th scope=col>dispOutlier</th><th scope=col>dispMAP</th></tr></thead>\n",
       "<tbody>\n",
       "\t<tr><td>  0.07052287</td><td>6.998486e-02</td><td>FALSE       </td><td>0.000000010 </td><td>11.38803286 </td><td>24.00000000 </td><td> 9          </td><td>FALSE       </td><td>24.00000000 </td></tr>\n",
       "\t<tr><td>126.11152427</td><td>7.060125e+02</td><td>FALSE       </td><td>0.013575482 </td><td> 0.07161108 </td><td> 0.01788340 </td><td> 9          </td><td>FALSE       </td><td> 0.01788340 </td></tr>\n",
       "\t<tr><td> 35.02318064</td><td>1.125921e+02</td><td>FALSE       </td><td>0.045126093 </td><td> 0.08807884 </td><td> 0.05033664 </td><td> 9          </td><td>FALSE       </td><td> 0.05033664 </td></tr>\n",
       "\t<tr><td>225.68281237</td><td>2.783750e+03</td><td>FALSE       </td><td>0.008293503 </td><td> 0.06881749 </td><td> 0.01121072 </td><td>10          </td><td>FALSE       </td><td> 0.01121072 </td></tr>\n",
       "</tbody>\n",
       "</table>\n"
      ],
      "text/latex": [
       "\\begin{tabular}{r|lllllllll}\n",
       " baseMean & baseVar & allZero & dispGeneEst & dispFit & dispersion & dispIter & dispOutlier & dispMAP\\\\\n",
       "\\hline\n",
       "\t   0.07052287 & 6.998486e-02 & FALSE        & 0.000000010  & 11.38803286  & 24.00000000  &  9           & FALSE        & 24.00000000 \\\\\n",
       "\t 126.11152427 & 7.060125e+02 & FALSE        & 0.013575482  &  0.07161108  &  0.01788340  &  9           & FALSE        &  0.01788340 \\\\\n",
       "\t  35.02318064 & 1.125921e+02 & FALSE        & 0.045126093  &  0.08807884  &  0.05033664  &  9           & FALSE        &  0.05033664 \\\\\n",
       "\t 225.68281237 & 2.783750e+03 & FALSE        & 0.008293503  &  0.06881749  &  0.01121072  & 10           & FALSE        &  0.01121072 \\\\\n",
       "\\end{tabular}\n"
      ],
      "text/markdown": [
       "\n",
       "baseMean | baseVar | allZero | dispGeneEst | dispFit | dispersion | dispIter | dispOutlier | dispMAP | \n",
       "|---|---|---|---|\n",
       "|   0.07052287 | 6.998486e-02 | FALSE        | 0.000000010  | 11.38803286  | 24.00000000  |  9           | FALSE        | 24.00000000  | \n",
       "| 126.11152427 | 7.060125e+02 | FALSE        | 0.013575482  |  0.07161108  |  0.01788340  |  9           | FALSE        |  0.01788340  | \n",
       "|  35.02318064 | 1.125921e+02 | FALSE        | 0.045126093  |  0.08807884  |  0.05033664  |  9           | FALSE        |  0.05033664  | \n",
       "| 225.68281237 | 2.783750e+03 | FALSE        | 0.008293503  |  0.06881749  |  0.01121072  | 10           | FALSE        |  0.01121072  | \n",
       "\n",
       "\n"
      ],
      "text/plain": [
       "  baseMean     baseVar      allZero dispGeneEst dispFit     dispersion \n",
       "1   0.07052287 6.998486e-02 FALSE   0.000000010 11.38803286 24.00000000\n",
       "2 126.11152427 7.060125e+02 FALSE   0.013575482  0.07161108  0.01788340\n",
       "3  35.02318064 1.125921e+02 FALSE   0.045126093  0.08807884  0.05033664\n",
       "4 225.68281237 2.783750e+03 FALSE   0.008293503  0.06881749  0.01121072\n",
       "  dispIter dispOutlier dispMAP    \n",
       "1  9       FALSE       24.00000000\n",
       "2  9       FALSE        0.01788340\n",
       "3  9       FALSE        0.05033664\n",
       "4 10       FALSE        0.01121072"
      ]
     },
     "metadata": {},
     "output_type": "display_data"
    }
   ],
   "source": [
    "mcols(dds)[1:4,] %>% as.data.frame"
   ]
  },
  {
   "cell_type": "markdown",
   "metadata": {},
   "source": [
    "**Exercise:** Provide statistical summaries of the dispersion factors"
   ]
  },
  {
   "cell_type": "code",
   "execution_count": 34,
   "metadata": {},
   "outputs": [
    {
     "data": {
      "text/plain": [
       "   Min. 1st Qu.  Median    Mean 3rd Qu.    Max.    NA's \n",
       " 0.0019  0.0206  0.0449  0.2520  0.1030 24.0000     347 "
      ]
     },
     "metadata": {},
     "output_type": "display_data"
    }
   ],
   "source": [
    "summary(dispersions(dds))"
   ]
  },
  {
   "cell_type": "markdown",
   "metadata": {},
   "source": [
    "**Exercise:** Summarize the dispersion factors using a box plot (may want to log transform)"
   ]
  },
  {
   "cell_type": "code",
   "execution_count": 35,
   "metadata": {
    "scrolled": false
   },
   "outputs": [
    {
     "data": {
      "image/png": "[encoded data removed]",
      "text/plain": [
       "plot without title"
      ]
     },
     "metadata": {},
     "output_type": "display_data"
    }
   ],
   "source": [
    "boxplot(log(dispersions(dds)))"
   ]
  },
  {
   "cell_type": "markdown",
   "metadata": {},
   "source": [
    "# Differential Expression Analysis\n",
    "We can now conduct a differential expression analysis using the DESeq() function. Keep in mind that to get to this step, we first estimated the size factors and then the dispersion parameters."
   ]
  },
  {
   "cell_type": "code",
   "execution_count": 36,
   "metadata": {},
   "outputs": [
    {
     "name": "stderr",
     "output_type": "stream",
     "text": [
      "using pre-existing size factors\n",
      "estimating dispersions\n",
      "found already estimated dispersions, replacing these\n",
      "gene-wise dispersion estimates\n",
      "mean-dispersion relationship\n",
      "final dispersion estimates\n",
      "fitting model and testing\n"
     ]
    }
   ],
   "source": [
    "ddsDE <- DESeq(dds)"
   ]
  },
  {
   "cell_type": "markdown",
   "metadata": {},
   "source": [
    "Note that currently, the model we have is an additive model, which does not include the interaction term of `Media` and `Strain`"
   ]
  },
  {
   "cell_type": "code",
   "execution_count": 37,
   "metadata": {},
   "outputs": [
    {
     "data": {
      "text/plain": [
       "~Media + Strain"
      ]
     },
     "metadata": {},
     "output_type": "display_data"
    }
   ],
   "source": [
    "design(dds)"
   ]
  },
  {
   "cell_type": "markdown",
   "metadata": {},
   "source": [
    "We can get the results for the differential expression analysis using results(). Here, we can compare two group of samples specified by the contrast. (If not, the default contrast would be the last term in your additive model `design(dds)`)."
   ]
  },
  {
   "cell_type": "code",
   "execution_count": 38,
   "metadata": {},
   "outputs": [],
   "source": [
    "# compare two Media\n",
    "myres_media <- results(ddsDE, contrast = c(\"Media\", \"YPD\", \"TC\"))"
   ]
  },
  {
   "cell_type": "code",
   "execution_count": 39,
   "metadata": {},
   "outputs": [],
   "source": [
    "# compare two Strains\n",
    "myres_strain <- results(ddsDE, contrast = c(\"Strain\", \"H99\", \"mar1d\"))"
   ]
  },
  {
   "cell_type": "markdown",
   "metadata": {},
   "source": [
    "Let's look at the results for the first four genes"
   ]
  },
  {
   "cell_type": "code",
   "execution_count": 40,
   "metadata": {},
   "outputs": [
    {
     "data": {
      "text/plain": [
       "log2 fold change (MLE): Strain H99 vs mar1d \n",
       "Wald test p-value: Strain H99 vs mar1d \n",
       "DataFrame with 4 rows and 6 columns\n",
       "               baseMean log2FoldChange      lfcSE        stat       pvalue\n",
       "              <numeric>      <numeric>  <numeric>   <numeric>    <numeric>\n",
       "CNAG_00001   0.07052287     0.26798424 3.00317536  0.08923363 9.288962e-01\n",
       "CNAG_00002 126.11152427     0.44004098 0.09524333  4.62017631 3.834141e-06\n",
       "CNAG_00003  35.02318064     0.12269499 0.16671498  0.73595662 4.617571e-01\n",
       "CNAG_00004 225.68281237    -0.06055314 0.07445571 -0.81327733 4.160591e-01\n",
       "                   padj\n",
       "              <numeric>\n",
       "CNAG_00001 9.637344e-01\n",
       "CNAG_00002 5.989529e-05\n",
       "CNAG_00003 6.341189e-01\n",
       "CNAG_00004 5.958552e-01"
      ]
     },
     "metadata": {},
     "output_type": "display_data"
    }
   ],
   "source": [
    "# first four genes\n",
    "myres_strain[1:4,]"
   ]
  },
  {
   "cell_type": "markdown",
   "metadata": {},
   "source": [
    " You can get the descriptions for the columns from the DE analysis"
   ]
  },
  {
   "cell_type": "code",
   "execution_count": 41,
   "metadata": {},
   "outputs": [
    {
     "data": {
      "text/html": [
       "<table>\n",
       "<thead><tr><th scope=col>desc</th></tr></thead>\n",
       "<tbody>\n",
       "\t<tr><td>mean of normalized counts for all samples  </td></tr>\n",
       "\t<tr><td>log2 fold change (MLE): Strain H99 vs mar1d</td></tr>\n",
       "\t<tr><td>standard error: Strain H99 vs mar1d        </td></tr>\n",
       "\t<tr><td>Wald statistic: Strain H99 vs mar1d        </td></tr>\n",
       "\t<tr><td>Wald test p-value: Strain H99 vs mar1d     </td></tr>\n",
       "\t<tr><td>BH adjusted p-values                       </td></tr>\n",
       "</tbody>\n",
       "</table>\n"
      ],
      "text/latex": [
       "\\begin{tabular}{r|l}\n",
       " desc\\\\\n",
       "\\hline\n",
       "\t mean of normalized counts for all samples  \\\\\n",
       "\t log2 fold change (MLE): Strain H99 vs mar1d\\\\\n",
       "\t standard error: Strain H99 vs mar1d        \\\\\n",
       "\t Wald statistic: Strain H99 vs mar1d        \\\\\n",
       "\t Wald test p-value: Strain H99 vs mar1d     \\\\\n",
       "\t BH adjusted p-values                       \\\\\n",
       "\\end{tabular}\n"
      ],
      "text/markdown": [
       "\n",
       "desc | \n",
       "|---|---|---|---|---|---|\n",
       "| mean of normalized counts for all samples   | \n",
       "| log2 fold change (MLE): Strain H99 vs mar1d | \n",
       "| standard error: Strain H99 vs mar1d         | \n",
       "| Wald statistic: Strain H99 vs mar1d         | \n",
       "| Wald test p-value: Strain H99 vs mar1d      | \n",
       "| BH adjusted p-values                        | \n",
       "\n",
       "\n"
      ],
      "text/plain": [
       "  desc                                       \n",
       "1 mean of normalized counts for all samples  \n",
       "2 log2 fold change (MLE): Strain H99 vs mar1d\n",
       "3 standard error: Strain H99 vs mar1d        \n",
       "4 Wald statistic: Strain H99 vs mar1d        \n",
       "5 Wald test p-value: Strain H99 vs mar1d     \n",
       "6 BH adjusted p-values                       "
      ]
     },
     "metadata": {},
     "output_type": "display_data"
    }
   ],
   "source": [
    "data.frame(desc = mcols(myres_strain)$description) "
   ]
  },
  {
   "cell_type": "markdown",
   "metadata": {},
   "source": [
    "manually calculate the baseMean to see if a gene"
   ]
  },
  {
   "cell_type": "code",
   "execution_count": 42,
   "metadata": {},
   "outputs": [
    {
     "data": {
      "text/html": [
       "<table>\n",
       "<thead><tr><th scope=col>1_RZ_J</th><th scope=col>10_RZ_C</th><th scope=col>11_RZ_J</th><th scope=col>12_RZ_P</th><th scope=col>13_RZ_J</th><th scope=col>14_RZ_C</th><th scope=col>15_RZ_C</th><th scope=col>16_RZ_P</th><th scope=col>2_RZ_C</th><th scope=col>21_RZ_C</th><th scope=col>⋯</th><th scope=col>27_RZ_P</th><th scope=col>3_RZ_J</th><th scope=col>35_RZ_P</th><th scope=col>36_RZ_J</th><th scope=col>38_RZ_P</th><th scope=col>4_RZ_P</th><th scope=col>40_RZ_J</th><th scope=col>45_RZ_P</th><th scope=col>47_RZ_P</th><th scope=col>9_RZ_C</th></tr></thead>\n",
       "<tbody>\n",
       "\t<tr><td>0       </td><td>0       </td><td>0       </td><td>0       </td><td>0       </td><td>0       </td><td>0       </td><td>1.231407</td><td>0       </td><td>0       </td><td>⋯       </td><td>0       </td><td>0       </td><td>0       </td><td>0       </td><td>0       </td><td>0       </td><td>0       </td><td>0       </td><td>0       </td><td>0       </td></tr>\n",
       "</tbody>\n",
       "</table>\n"
      ],
      "text/latex": [
       "\\begin{tabular}{llllllllllllllllllllllll}\n",
       " 1\\_RZ\\_J & 10\\_RZ\\_C & 11\\_RZ\\_J & 12\\_RZ\\_P & 13\\_RZ\\_J & 14\\_RZ\\_C & 15\\_RZ\\_C & 16\\_RZ\\_P & 2\\_RZ\\_C & 21\\_RZ\\_C & ⋯ & 27\\_RZ\\_P & 3\\_RZ\\_J & 35\\_RZ\\_P & 36\\_RZ\\_J & 38\\_RZ\\_P & 4\\_RZ\\_P & 40\\_RZ\\_J & 45\\_RZ\\_P & 47\\_RZ\\_P & 9\\_RZ\\_C\\\\\n",
       "\\hline\n",
       "\t 0        & 0        & 0        & 0        & 0        & 0        & 0        & 1.231407 & 0        & 0        & ⋯        & 0        & 0        & 0        & 0        & 0        & 0        & 0        & 0        & 0        & 0       \\\\\n",
       "\\end{tabular}\n"
      ],
      "text/markdown": [
       "\n",
       "1_RZ_J | 10_RZ_C | 11_RZ_J | 12_RZ_P | 13_RZ_J | 14_RZ_C | 15_RZ_C | 16_RZ_P | 2_RZ_C | 21_RZ_C | ⋯ | 27_RZ_P | 3_RZ_J | 35_RZ_P | 36_RZ_J | 38_RZ_P | 4_RZ_P | 40_RZ_J | 45_RZ_P | 47_RZ_P | 9_RZ_C | \n",
       "|---|\n",
       "| 0        | 0        | 0        | 0        | 0        | 0        | 0        | 1.231407 | 0        | 0        | ⋯        | 0        | 0        | 0        | 0        | 0        | 0        | 0        | 0        | 0        | 0        | \n",
       "\n",
       "\n"
      ],
      "text/plain": [
       "     1_RZ_J 10_RZ_C 11_RZ_J 12_RZ_P 13_RZ_J 14_RZ_C 15_RZ_C 16_RZ_P  2_RZ_C\n",
       "[1,] 0      0       0       0       0       0       0       1.231407 0     \n",
       "     21_RZ_C ⋯ 27_RZ_P 3_RZ_J 35_RZ_P 36_RZ_J 38_RZ_P 4_RZ_P 40_RZ_J 45_RZ_P\n",
       "[1,] 0       ⋯ 0       0      0       0       0       0      0       0      \n",
       "     47_RZ_P 9_RZ_C\n",
       "[1,] 0       0     "
      ]
     },
     "metadata": {},
     "output_type": "display_data"
    }
   ],
   "source": [
    "t(counts(dds, normalize = TRUE)[\"CNAG_00001\",])"
   ]
  },
  {
   "cell_type": "code",
   "execution_count": 43,
   "metadata": {},
   "outputs": [
    {
     "data": {
      "text/html": [
       "0.0705228744481229"
      ],
      "text/latex": [
       "0.0705228744481229"
      ],
      "text/markdown": [
       "0.0705228744481229"
      ],
      "text/plain": [
       "[1] 0.07052287"
      ]
     },
     "metadata": {},
     "output_type": "display_data"
    }
   ],
   "source": [
    "mean(counts(dds, normalize = TRUE)[\"CNAG_00001\",])"
   ]
  },
  {
   "cell_type": "markdown",
   "metadata": {},
   "source": [
    "##  P-values"
   ]
  },
  {
   "cell_type": "markdown",
   "metadata": {},
   "source": [
    "Here we will play with the p-value of the results. Below we demonstrate how the p-value is adjusted using BH method"
   ]
  },
  {
   "cell_type": "markdown",
   "metadata": {},
   "source": [
    "One can extract the unadjusted p-values as follows"
   ]
  },
  {
   "cell_type": "code",
   "execution_count": 44,
   "metadata": {},
   "outputs": [
    {
     "data": {
      "text/html": [
       "8497"
      ],
      "text/latex": [
       "8497"
      ],
      "text/markdown": [
       "8497"
      ],
      "text/plain": [
       "[1] 8497"
      ]
     },
     "metadata": {},
     "output_type": "display_data"
    },
    {
     "data": {
      "text/html": [
       "<ol class=list-inline>\n",
       "\t<li>0.928896239711254</li>\n",
       "\t<li>3.83414083512795e-06</li>\n",
       "\t<li>0.461757096829082</li>\n",
       "\t<li>0.41605907037731</li>\n",
       "</ol>\n"
      ],
      "text/latex": [
       "\\begin{enumerate*}\n",
       "\\item 0.928896239711254\n",
       "\\item 3.83414083512795e-06\n",
       "\\item 0.461757096829082\n",
       "\\item 0.41605907037731\n",
       "\\end{enumerate*}\n"
      ],
      "text/markdown": [
       "1. 0.928896239711254\n",
       "2. 3.83414083512795e-06\n",
       "3. 0.461757096829082\n",
       "4. 0.41605907037731\n",
       "\n",
       "\n"
      ],
      "text/plain": [
       "[1] 9.288962e-01 3.834141e-06 4.617571e-01 4.160591e-01"
      ]
     },
     "metadata": {},
     "output_type": "display_data"
    }
   ],
   "source": [
    "pvalues <- myres_strain$pvalue\n",
    "length(pvalues)\n",
    "pvalues[1:4]"
   ]
  },
  {
   "cell_type": "markdown",
   "metadata": {},
   "source": [
    "The BH adjusted p-values can be extracted as"
   ]
  },
  {
   "cell_type": "code",
   "execution_count": 45,
   "metadata": {},
   "outputs": [
    {
     "data": {
      "text/html": [
       "8497"
      ],
      "text/latex": [
       "8497"
      ],
      "text/markdown": [
       "8497"
      ],
      "text/plain": [
       "[1] 8497"
      ]
     },
     "metadata": {},
     "output_type": "display_data"
    },
    {
     "data": {
      "text/html": [
       "<ol class=list-inline>\n",
       "\t<li>0.96373438491725</li>\n",
       "\t<li>5.98952941832635e-05</li>\n",
       "\t<li>0.634118881191213</li>\n",
       "\t<li>0.595855224464502</li>\n",
       "</ol>\n"
      ],
      "text/latex": [
       "\\begin{enumerate*}\n",
       "\\item 0.96373438491725\n",
       "\\item 5.98952941832635e-05\n",
       "\\item 0.634118881191213\n",
       "\\item 0.595855224464502\n",
       "\\end{enumerate*}\n"
      ],
      "text/markdown": [
       "1. 0.96373438491725\n",
       "2. 5.98952941832635e-05\n",
       "3. 0.634118881191213\n",
       "4. 0.595855224464502\n",
       "\n",
       "\n"
      ],
      "text/plain": [
       "[1] 9.637344e-01 5.989529e-05 6.341189e-01 5.958552e-01"
      ]
     },
     "metadata": {},
     "output_type": "display_data"
    }
   ],
   "source": [
    "adjp <- myres_strain$padj\n",
    "length(adjp)\n",
    "adjp[1:4]"
   ]
  },
  {
   "cell_type": "markdown",
   "metadata": {},
   "source": [
    "Calculate BH adjusted P-values by \"hand\" using the p.adjust() function. Note that you will not replicate the results you get under the padj column (when looking at the first four rows)"
   ]
  },
  {
   "cell_type": "code",
   "execution_count": 46,
   "metadata": {},
   "outputs": [
    {
     "data": {
      "text/html": [
       "<table>\n",
       "<thead><tr><th scope=col>BH</th><th scope=col>adjp</th></tr></thead>\n",
       "<tbody>\n",
       "\t<tr><td>9.637344e-01</td><td>9.637344e-01</td></tr>\n",
       "\t<tr><td>5.989529e-05</td><td>5.989529e-05</td></tr>\n",
       "\t<tr><td>6.341189e-01</td><td>6.341189e-01</td></tr>\n",
       "\t<tr><td>5.958552e-01</td><td>5.958552e-01</td></tr>\n",
       "</tbody>\n",
       "</table>\n"
      ],
      "text/latex": [
       "\\begin{tabular}{r|ll}\n",
       " BH & adjp\\\\\n",
       "\\hline\n",
       "\t 9.637344e-01 & 9.637344e-01\\\\\n",
       "\t 5.989529e-05 & 5.989529e-05\\\\\n",
       "\t 6.341189e-01 & 6.341189e-01\\\\\n",
       "\t 5.958552e-01 & 5.958552e-01\\\\\n",
       "\\end{tabular}\n"
      ],
      "text/markdown": [
       "\n",
       "BH | adjp | \n",
       "|---|---|---|---|\n",
       "| 9.637344e-01 | 9.637344e-01 | \n",
       "| 5.989529e-05 | 5.989529e-05 | \n",
       "| 6.341189e-01 | 6.341189e-01 | \n",
       "| 5.958552e-01 | 5.958552e-01 | \n",
       "\n",
       "\n"
      ],
      "text/plain": [
       "  BH           adjp        \n",
       "1 9.637344e-01 9.637344e-01\n",
       "2 5.989529e-05 5.989529e-05\n",
       "3 6.341189e-01 6.341189e-01\n",
       "4 5.958552e-01 5.958552e-01"
      ]
     },
     "metadata": {},
     "output_type": "display_data"
    }
   ],
   "source": [
    "pvalues <- myres_strain$pvalue\n",
    "BH <- p.adjust(pvalues,\"BH\")\n",
    "data.frame(BH = BH[1:4], adjp = adjp[1:4])"
   ]
  },
  {
   "cell_type": "markdown",
   "metadata": {},
   "source": [
    "The DESeq2::results function applies \"independent\" filtering. This is enabled by default. Let's disable and then reexamine the adjusted P-values"
   ]
  },
  {
   "cell_type": "code",
   "execution_count": 47,
   "metadata": {},
   "outputs": [],
   "source": [
    "myres1 <- results(ddsDE, independentFiltering = FALSE)"
   ]
  },
  {
   "cell_type": "code",
   "execution_count": 48,
   "metadata": {},
   "outputs": [
    {
     "data": {
      "text/plain": [
       "log2 fold change (MLE): Strain mar1d vs H99 \n",
       "Wald test p-value: Strain mar1d vs H99 \n",
       "DataFrame with 8497 rows and 6 columns\n",
       "                    baseMean log2FoldChange      lfcSE        stat       pvalue\n",
       "                   <numeric>      <numeric>  <numeric>   <numeric>    <numeric>\n",
       "CNAG_00001        0.07052287    -0.26798424 3.00317536 -0.08923363 9.288962e-01\n",
       "CNAG_00002      126.11152427    -0.44004098 0.09524333 -4.62017631 3.834141e-06\n",
       "CNAG_00003       35.02318064    -0.12269499 0.16671498 -0.73595662 4.617571e-01\n",
       "CNAG_00004      225.68281237     0.06055314 0.07445571  0.81327733 4.160591e-01\n",
       "CNAG_00005       96.90603987    -0.51329445 0.23707350 -2.16512793 3.037789e-02\n",
       "...                      ...            ...        ...         ...          ...\n",
       "ENSRNA049551862            0             NA         NA          NA           NA\n",
       "ENSRNA049551899            0             NA         NA          NA           NA\n",
       "ENSRNA049551942            0             NA         NA          NA           NA\n",
       "ENSRNA049551964            0             NA         NA          NA           NA\n",
       "ENSRNA049551993            0             NA         NA          NA           NA\n",
       "                        padj\n",
       "                   <numeric>\n",
       "CNAG_00001      9.637344e-01\n",
       "CNAG_00002      5.989529e-05\n",
       "CNAG_00003      6.341189e-01\n",
       "CNAG_00004      5.958552e-01\n",
       "CNAG_00005      9.013804e-02\n",
       "...                      ...\n",
       "ENSRNA049551862           NA\n",
       "ENSRNA049551899           NA\n",
       "ENSRNA049551942           NA\n",
       "ENSRNA049551964           NA\n",
       "ENSRNA049551993           NA"
      ]
     },
     "metadata": {},
     "output_type": "display_data"
    }
   ],
   "source": [
    "myres1"
   ]
  },
  {
   "cell_type": "markdown",
   "metadata": {},
   "source": [
    " We can now replicate the results"
   ]
  },
  {
   "cell_type": "code",
   "execution_count": 49,
   "metadata": {},
   "outputs": [
    {
     "data": {
      "text/html": [
       "<table>\n",
       "<thead><tr><th scope=col>BH</th><th scope=col>adjp</th></tr></thead>\n",
       "<tbody>\n",
       "\t<tr><td>9.637344e-01</td><td>9.637344e-01</td></tr>\n",
       "\t<tr><td>5.989529e-05</td><td>5.989529e-05</td></tr>\n",
       "\t<tr><td>6.341189e-01</td><td>6.341189e-01</td></tr>\n",
       "\t<tr><td>5.958552e-01</td><td>5.958552e-01</td></tr>\n",
       "</tbody>\n",
       "</table>\n"
      ],
      "text/latex": [
       "\\begin{tabular}{r|ll}\n",
       " BH & adjp\\\\\n",
       "\\hline\n",
       "\t 9.637344e-01 & 9.637344e-01\\\\\n",
       "\t 5.989529e-05 & 5.989529e-05\\\\\n",
       "\t 6.341189e-01 & 6.341189e-01\\\\\n",
       "\t 5.958552e-01 & 5.958552e-01\\\\\n",
       "\\end{tabular}\n"
      ],
      "text/markdown": [
       "\n",
       "BH | adjp | \n",
       "|---|---|---|---|\n",
       "| 9.637344e-01 | 9.637344e-01 | \n",
       "| 5.989529e-05 | 5.989529e-05 | \n",
       "| 6.341189e-01 | 6.341189e-01 | \n",
       "| 5.958552e-01 | 5.958552e-01 | \n",
       "\n",
       "\n"
      ],
      "text/plain": [
       "  BH           adjp        \n",
       "1 9.637344e-01 9.637344e-01\n",
       "2 5.989529e-05 5.989529e-05\n",
       "3 6.341189e-01 6.341189e-01\n",
       "4 5.958552e-01 5.958552e-01"
      ]
     },
     "metadata": {},
     "output_type": "display_data"
    }
   ],
   "source": [
    "pvalues1 <- myres1$pvalue\n",
    "BH1 <- p.adjust(pvalues1[!is.na(pvalues)], \"BH\")\n",
    "data.frame(\n",
    "    BH   = BH1[1:4],\n",
    "    adjp = myres1$padj[1:4])"
   ]
  },
  {
   "cell_type": "markdown",
   "metadata": {},
   "source": [
    "##  Subset and reorder the results"
   ]
  },
  {
   "cell_type": "code",
   "execution_count": 50,
   "metadata": {},
   "outputs": [
    {
     "data": {
      "text/html": [
       "'DESeqResults'"
      ],
      "text/latex": [
       "'DESeqResults'"
      ],
      "text/markdown": [
       "'DESeqResults'"
      ],
      "text/plain": [
       "[1] \"DESeqResults\"\n",
       "attr(,\"package\")\n",
       "[1] \"DESeq2\""
      ]
     },
     "metadata": {},
     "output_type": "display_data"
    }
   ],
   "source": [
    "class(myres_strain)"
   ]
  },
  {
   "cell_type": "code",
   "execution_count": 51,
   "metadata": {},
   "outputs": [
    {
     "name": "stdout",
     "output_type": "stream",
     "text": [
      "\n",
      "out of 8150 with nonzero total read count\n",
      "adjusted p-value < 0.05\n",
      "LFC > 0 (up)     : 881, 11% \n",
      "LFC < 0 (down)   : 1338, 16% \n",
      "outliers [1]     : 183, 2.2% \n",
      "low counts [2]   : 0, 0% \n",
      "(mean count < 0)\n",
      "[1] see 'cooksCutoff' argument of ?results\n",
      "[2] see 'independentFiltering' argument of ?results\n",
      "\n"
     ]
    }
   ],
   "source": [
    "summary(myres_strain, 0.05)"
   ]
  },
  {
   "cell_type": "markdown",
   "metadata": {},
   "source": [
    " You can sort the results by say the unadjusted P-values"
   ]
  },
  {
   "cell_type": "code",
   "execution_count": 52,
   "metadata": {},
   "outputs": [
    {
     "data": {
      "text/html": [
       "<table>\n",
       "<thead><tr><th scope=col>row</th><th scope=col>baseMean</th><th scope=col>log2FoldChange</th><th scope=col>lfcSE</th><th scope=col>stat</th><th scope=col>pvalue</th><th scope=col>padj</th></tr></thead>\n",
       "<tbody>\n",
       "\t<tr><td>CNAG_03398  </td><td> 79.8140    </td><td>-1.9791305  </td><td>0.13518105  </td><td>-14.64059   </td><td>1.547180e-48</td><td>1.232638e-44</td></tr>\n",
       "\t<tr><td>CNAG_03623  </td><td>210.3915    </td><td>-1.0625362  </td><td>0.08074884  </td><td>-13.15853   </td><td>1.520117e-39</td><td>6.055386e-36</td></tr>\n",
       "\t<tr><td>CNAG_00727  </td><td>495.6216    </td><td> 0.7518105  </td><td>0.05800803  </td><td> 12.96045   </td><td>2.050298e-38</td><td>5.444908e-35</td></tr>\n",
       "\t<tr><td>CNAG_02587  </td><td>157.7568    </td><td>-1.2178205  </td><td>0.09880546  </td><td>-12.32544   </td><td>6.608408e-35</td><td>1.316230e-31</td></tr>\n",
       "</tbody>\n",
       "</table>\n"
      ],
      "text/latex": [
       "\\begin{tabular}{r|lllllll}\n",
       " row & baseMean & log2FoldChange & lfcSE & stat & pvalue & padj\\\\\n",
       "\\hline\n",
       "\t CNAG\\_03398 &  79.8140     & -1.9791305   & 0.13518105   & -14.64059    & 1.547180e-48 & 1.232638e-44\\\\\n",
       "\t CNAG\\_03623 & 210.3915     & -1.0625362   & 0.08074884   & -13.15853    & 1.520117e-39 & 6.055386e-36\\\\\n",
       "\t CNAG\\_00727 & 495.6216     &  0.7518105   & 0.05800803   &  12.96045    & 2.050298e-38 & 5.444908e-35\\\\\n",
       "\t CNAG\\_02587 & 157.7568     & -1.2178205   & 0.09880546   & -12.32544    & 6.608408e-35 & 1.316230e-31\\\\\n",
       "\\end{tabular}\n"
      ],
      "text/markdown": [
       "\n",
       "row | baseMean | log2FoldChange | lfcSE | stat | pvalue | padj | \n",
       "|---|---|---|---|\n",
       "| CNAG_03398   |  79.8140     | -1.9791305   | 0.13518105   | -14.64059    | 1.547180e-48 | 1.232638e-44 | \n",
       "| CNAG_03623   | 210.3915     | -1.0625362   | 0.08074884   | -13.15853    | 1.520117e-39 | 6.055386e-36 | \n",
       "| CNAG_00727   | 495.6216     |  0.7518105   | 0.05800803   |  12.96045    | 2.050298e-38 | 5.444908e-35 | \n",
       "| CNAG_02587   | 157.7568     | -1.2178205   | 0.09880546   | -12.32544    | 6.608408e-35 | 1.316230e-31 | \n",
       "\n",
       "\n"
      ],
      "text/plain": [
       "  row        baseMean log2FoldChange lfcSE      stat      pvalue      \n",
       "1 CNAG_03398  79.8140 -1.9791305     0.13518105 -14.64059 1.547180e-48\n",
       "2 CNAG_03623 210.3915 -1.0625362     0.08074884 -13.15853 1.520117e-39\n",
       "3 CNAG_00727 495.6216  0.7518105     0.05800803  12.96045 2.050298e-38\n",
       "4 CNAG_02587 157.7568 -1.2178205     0.09880546 -12.32544 6.608408e-35\n",
       "  padj        \n",
       "1 1.232638e-44\n",
       "2 6.055386e-36\n",
       "3 5.444908e-35\n",
       "4 1.316230e-31"
      ]
     },
     "metadata": {},
     "output_type": "display_data"
    }
   ],
   "source": [
    "results(ddsDE, contrast = c(\"Strain\", \"H99\", \"mar1d\"), tidy = TRUE) %>%\n",
    "    arrange(padj) %>% \n",
    "    head(4)"
   ]
  },
  {
   "cell_type": "markdown",
   "metadata": {},
   "source": [
    "To get the list of genes with unadjusted P-values < 0.00001 and absolute log2 FC of more than 4"
   ]
  },
  {
   "cell_type": "code",
   "execution_count": 53,
   "metadata": {},
   "outputs": [
    {
     "data": {
      "text/html": [
       "<table>\n",
       "<thead><tr><th scope=col>row</th><th scope=col>baseMean</th><th scope=col>log2FoldChange</th><th scope=col>lfcSE</th><th scope=col>stat</th><th scope=col>pvalue</th><th scope=col>padj</th></tr></thead>\n",
       "<tbody>\n",
       "\t<tr><td>CNAG_04459  </td><td>227.0682    </td><td>-4.442127   </td><td>0.387609    </td><td>-11.46033   </td><td>2.087223e-30</td><td>2.375558e-27</td></tr>\n",
       "</tbody>\n",
       "</table>\n"
      ],
      "text/latex": [
       "\\begin{tabular}{r|lllllll}\n",
       " row & baseMean & log2FoldChange & lfcSE & stat & pvalue & padj\\\\\n",
       "\\hline\n",
       "\t CNAG\\_04459 & 227.0682     & -4.442127    & 0.387609     & -11.46033    & 2.087223e-30 & 2.375558e-27\\\\\n",
       "\\end{tabular}\n"
      ],
      "text/markdown": [
       "\n",
       "row | baseMean | log2FoldChange | lfcSE | stat | pvalue | padj | \n",
       "|---|\n",
       "| CNAG_04459   | 227.0682     | -4.442127    | 0.387609     | -11.46033    | 2.087223e-30 | 2.375558e-27 | \n",
       "\n",
       "\n"
      ],
      "text/plain": [
       "  row        baseMean log2FoldChange lfcSE    stat      pvalue      \n",
       "1 CNAG_04459 227.0682 -4.442127      0.387609 -11.46033 2.087223e-30\n",
       "  padj        \n",
       "1 2.375558e-27"
      ]
     },
     "metadata": {},
     "output_type": "display_data"
    }
   ],
   "source": [
    "results(ddsDE, contrast = c(\"Strain\", \"H99\", \"mar1d\"), tidy = TRUE) %>%\n",
    "    filter(padj < 0.00001) %>%\n",
    "    filter(abs(log2FoldChange) > 4)"
   ]
  },
  {
   "cell_type": "markdown",
   "metadata": {},
   "source": [
    "The P-values for the four top genes are beyond machine precision. You can use the format.pval() function to properly format the P-values. PLEASE promote ending the practice of publishing P-values below machine precision.  (that would be akin to stating the weight of an object that weighs less than one pound with a scale whose minimum weight spec is 1 pound)."
   ]
  },
  {
   "cell_type": "code",
   "execution_count": 54,
   "metadata": {},
   "outputs": [
    {
     "data": {
      "text/html": [
       "<table>\n",
       "<thead><tr><th scope=col>row</th><th scope=col>baseMean</th><th scope=col>log2FoldChange</th><th scope=col>lfcSE</th><th scope=col>stat</th><th scope=col>pvalue</th><th scope=col>padj</th><th scope=col>pval</th></tr></thead>\n",
       "<tbody>\n",
       "\t<tr><td>CNAG_04459   </td><td>227.0682     </td><td>-4.442127    </td><td>0.387609     </td><td>-11.46033    </td><td>2.087223e-30 </td><td>2.375558e-27 </td><td>&lt; 2.22e-16</td></tr>\n",
       "</tbody>\n",
       "</table>\n"
      ],
      "text/latex": [
       "\\begin{tabular}{r|llllllll}\n",
       " row & baseMean & log2FoldChange & lfcSE & stat & pvalue & padj & pval\\\\\n",
       "\\hline\n",
       "\t CNAG\\_04459 & 227.0682     & -4.442127    & 0.387609     & -11.46033    & 2.087223e-30 & 2.375558e-27 & < 2.22e-16  \\\\\n",
       "\\end{tabular}\n"
      ],
      "text/markdown": [
       "\n",
       "row | baseMean | log2FoldChange | lfcSE | stat | pvalue | padj | pval | \n",
       "|---|\n",
       "| CNAG_04459   | 227.0682     | -4.442127    | 0.387609     | -11.46033    | 2.087223e-30 | 2.375558e-27 | < 2.22e-16   | \n",
       "\n",
       "\n"
      ],
      "text/plain": [
       "  row        baseMean log2FoldChange lfcSE    stat      pvalue      \n",
       "1 CNAG_04459 227.0682 -4.442127      0.387609 -11.46033 2.087223e-30\n",
       "  padj         pval      \n",
       "1 2.375558e-27 < 2.22e-16"
      ]
     },
     "metadata": {},
     "output_type": "display_data"
    }
   ],
   "source": [
    "results(ddsDE, contrast = c(\"Strain\", \"H99\", \"mar1d\"), tidy = TRUE) %>%\n",
    "    filter(padj < 0.00001) %>%\n",
    "    filter(abs(log2FoldChange) > 4) %>%\n",
    "    mutate(pval = format.pval(pvalue))"
   ]
  },
  {
   "cell_type": "markdown",
   "metadata": {},
   "source": [
    "Let's look at a volcano plot"
   ]
  },
  {
   "cell_type": "code",
   "execution_count": 59,
   "metadata": {},
   "outputs": [
    {
     "data": {
      "image/png": "[encoded data removed]",
      "text/plain": [
       "plot without title"
      ]
     },
     "metadata": {},
     "output_type": "display_data"
    }
   ],
   "source": [
    "plot(myres_strain$log2FoldChange,\n",
    "     -log10(myres_strain$padj),\n",
    "     pch  = 19, \n",
    "     cex  = 0.3,\n",
    "     xlab = \"Log2 FC\",\n",
    "     ylab = \"-log10(BH Adjusted P-value)\")"
   ]
  },
  {
   "cell_type": "markdown",
   "metadata": {},
   "source": [
    "Exercise: Annotate the hits with adjusted P-values < 0.05 and absolute log2 FC greater than 2 in red"
   ]
  },
  {
   "cell_type": "code",
   "execution_count": 63,
   "metadata": {},
   "outputs": [
    {
     "data": {
      "image/png": "[encoded data removed]",
      "text/plain": [
       "plot without title"
      ]
     },
     "metadata": {},
     "output_type": "display_data"
    }
   ],
   "source": [
    "plot(myres_strain$log2FoldChange,\n",
    "     -log10(myres_strain$padj),\n",
    "     pch  = 19,\n",
    "     cex  = 0.3,\n",
    "     xlab = \"Log2 FC\",\n",
    "     ylab = \"-log10(BH Adjusted P-value)\",\n",
    "     col  = ifelse(myres_strain$padj < 0.05 & abs(myres_strain$log2FoldChange) > 2,\n",
    "                   \"red\",\n",
    "                   \"black\"))"
   ]
  },
  {
   "cell_type": "markdown",
   "metadata": {},
   "source": [
    "# Converting/Normalizing Counts to \"Expressions\""
   ]
  },
  {
   "cell_type": "markdown",
   "metadata": {},
   "source": [
    "##  Normalized Counts\n",
    "We have already shown how to \"normalize\" the counts using the estimated size factors"
   ]
  },
  {
   "cell_type": "code",
   "execution_count": 64,
   "metadata": {},
   "outputs": [
    {
     "data": {
      "text/html": [
       "<table>\n",
       "<thead><tr><th></th><th scope=col>1_RZ_J</th><th scope=col>10_RZ_C</th><th scope=col>11_RZ_J</th><th scope=col>12_RZ_P</th><th scope=col>13_RZ_J</th><th scope=col>14_RZ_C</th><th scope=col>15_RZ_C</th><th scope=col>16_RZ_P</th><th scope=col>2_RZ_C</th><th scope=col>21_RZ_C</th><th scope=col>⋯</th><th scope=col>27_RZ_P</th><th scope=col>3_RZ_J</th><th scope=col>35_RZ_P</th><th scope=col>36_RZ_J</th><th scope=col>38_RZ_P</th><th scope=col>4_RZ_P</th><th scope=col>40_RZ_J</th><th scope=col>45_RZ_P</th><th scope=col>47_RZ_P</th><th scope=col>9_RZ_C</th></tr></thead>\n",
       "<tbody>\n",
       "\t<tr><th scope=row>CNAG_00001</th><td>  0.00000 </td><td> 0.00000  </td><td> 0.00000  </td><td> 0.00000  </td><td>  0.00000 </td><td>  0.00000 </td><td>  0.00000 </td><td>  1.231407</td><td>  0.00000 </td><td>  0.00000 </td><td>⋯         </td><td>  0.00000 </td><td>  0.00000 </td><td>  0.00000 </td><td> 0.00000  </td><td>  0.00000 </td><td>  0.00000 </td><td>  0.00000 </td><td>  0.00000 </td><td>  0.00000 </td><td> 0.00000  </td></tr>\n",
       "\t<tr><th scope=row>CNAG_00002</th><td>150.15429 </td><td>93.84251  </td><td>82.32545  </td><td>88.15618  </td><td>154.03828 </td><td>142.99112 </td><td>139.92900 </td><td>158.851505</td><td>143.56847 </td><td>101.21039 </td><td>⋯         </td><td>141.50014 </td><td>125.13957 </td><td>164.01322 </td><td>98.77622  </td><td>142.22812 </td><td>165.59213 </td><td>145.83543 </td><td>136.28946 </td><td>118.04668 </td><td>85.16050  </td></tr>\n",
       "\t<tr><th scope=row>CNAG_00003</th><td> 29.44202 </td><td>29.63448  </td><td>16.10715  </td><td>46.83297  </td><td> 37.50497 </td><td> 41.64027 </td><td> 37.78083 </td><td> 49.256281</td><td> 34.18297 </td><td> 33.46473 </td><td>⋯         </td><td> 29.61631 </td><td> 28.06869 </td><td> 28.42896 </td><td>38.96677  </td><td> 64.37694 </td><td> 35.71595 </td><td> 32.89054 </td><td> 51.38783 </td><td> 43.21352 </td><td>28.11903  </td></tr>\n",
       "</tbody>\n",
       "</table>\n"
      ],
      "text/latex": [
       "\\begin{tabular}{r|llllllllllllllllllllllll}\n",
       "  & 1\\_RZ\\_J & 10\\_RZ\\_C & 11\\_RZ\\_J & 12\\_RZ\\_P & 13\\_RZ\\_J & 14\\_RZ\\_C & 15\\_RZ\\_C & 16\\_RZ\\_P & 2\\_RZ\\_C & 21\\_RZ\\_C & ⋯ & 27\\_RZ\\_P & 3\\_RZ\\_J & 35\\_RZ\\_P & 36\\_RZ\\_J & 38\\_RZ\\_P & 4\\_RZ\\_P & 40\\_RZ\\_J & 45\\_RZ\\_P & 47\\_RZ\\_P & 9\\_RZ\\_C\\\\\n",
       "\\hline\n",
       "\tCNAG\\_00001 &   0.00000  &  0.00000   &  0.00000   &  0.00000   &   0.00000  &   0.00000  &   0.00000  &   1.231407 &   0.00000  &   0.00000  & ⋯          &   0.00000  &   0.00000  &   0.00000  &  0.00000   &   0.00000  &   0.00000  &   0.00000  &   0.00000  &   0.00000  &  0.00000  \\\\\n",
       "\tCNAG\\_00002 & 150.15429  & 93.84251   & 82.32545   & 88.15618   & 154.03828  & 142.99112  & 139.92900  & 158.851505 & 143.56847  & 101.21039  & ⋯          & 141.50014  & 125.13957  & 164.01322  & 98.77622   & 142.22812  & 165.59213  & 145.83543  & 136.28946  & 118.04668  & 85.16050  \\\\\n",
       "\tCNAG\\_00003 &  29.44202  & 29.63448   & 16.10715   & 46.83297   &  37.50497  &  41.64027  &  37.78083  &  49.256281 &  34.18297  &  33.46473  & ⋯          &  29.61631  &  28.06869  &  28.42896  & 38.96677   &  64.37694  &  35.71595  &  32.89054  &  51.38783  &  43.21352  & 28.11903  \\\\\n",
       "\\end{tabular}\n"
      ],
      "text/markdown": [
       "\n",
       "| <!--/--> | 1_RZ_J | 10_RZ_C | 11_RZ_J | 12_RZ_P | 13_RZ_J | 14_RZ_C | 15_RZ_C | 16_RZ_P | 2_RZ_C | 21_RZ_C | ⋯ | 27_RZ_P | 3_RZ_J | 35_RZ_P | 36_RZ_J | 38_RZ_P | 4_RZ_P | 40_RZ_J | 45_RZ_P | 47_RZ_P | 9_RZ_C | \n",
       "|---|---|---|\n",
       "| CNAG_00001 |   0.00000  |  0.00000   |  0.00000   |  0.00000   |   0.00000  |   0.00000  |   0.00000  |   1.231407 |   0.00000  |   0.00000  | ⋯          |   0.00000  |   0.00000  |   0.00000  |  0.00000   |   0.00000  |   0.00000  |   0.00000  |   0.00000  |   0.00000  |  0.00000   | \n",
       "| CNAG_00002 | 150.15429  | 93.84251   | 82.32545   | 88.15618   | 154.03828  | 142.99112  | 139.92900  | 158.851505 | 143.56847  | 101.21039  | ⋯          | 141.50014  | 125.13957  | 164.01322  | 98.77622   | 142.22812  | 165.59213  | 145.83543  | 136.28946  | 118.04668  | 85.16050   | \n",
       "| CNAG_00003 |  29.44202  | 29.63448   | 16.10715   | 46.83297   |  37.50497  |  41.64027  |  37.78083  |  49.256281 |  34.18297  |  33.46473  | ⋯          |  29.61631  |  28.06869  |  28.42896  | 38.96677   |  64.37694  |  35.71595  |  32.89054  |  51.38783  |  43.21352  | 28.11903   | \n",
       "\n",
       "\n"
      ],
      "text/plain": [
       "           1_RZ_J    10_RZ_C  11_RZ_J  12_RZ_P  13_RZ_J   14_RZ_C   15_RZ_C  \n",
       "CNAG_00001   0.00000  0.00000  0.00000  0.00000   0.00000   0.00000   0.00000\n",
       "CNAG_00002 150.15429 93.84251 82.32545 88.15618 154.03828 142.99112 139.92900\n",
       "CNAG_00003  29.44202 29.63448 16.10715 46.83297  37.50497  41.64027  37.78083\n",
       "           16_RZ_P    2_RZ_C    21_RZ_C   ⋯ 27_RZ_P   3_RZ_J    35_RZ_P  \n",
       "CNAG_00001   1.231407   0.00000   0.00000 ⋯   0.00000   0.00000   0.00000\n",
       "CNAG_00002 158.851505 143.56847 101.21039 ⋯ 141.50014 125.13957 164.01322\n",
       "CNAG_00003  49.256281  34.18297  33.46473 ⋯  29.61631  28.06869  28.42896\n",
       "           36_RZ_J  38_RZ_P   4_RZ_P    40_RZ_J   45_RZ_P   47_RZ_P   9_RZ_C  \n",
       "CNAG_00001  0.00000   0.00000   0.00000   0.00000   0.00000   0.00000  0.00000\n",
       "CNAG_00002 98.77622 142.22812 165.59213 145.83543 136.28946 118.04668 85.16050\n",
       "CNAG_00003 38.96677  64.37694  35.71595  32.89054  51.38783  43.21352 28.11903"
      ]
     },
     "metadata": {},
     "output_type": "display_data"
    }
   ],
   "source": [
    "head(counts(dds, normalize = TRUE), 3)"
   ]
  },
  {
   "cell_type": "markdown",
   "metadata": {},
   "source": [
    "Plot the counts stratified by treatment for the 2nd gene. Later we will compare the expression values in more detail in the section of regularized log transformation (rlog transformation). In the section of rlog transformation, the media and strain will be indicated/labeled in the plot."
   ]
  },
  {
   "cell_type": "code",
   "execution_count": 65,
   "metadata": {},
   "outputs": [
    {
     "data": {
      "text/html": [
       "<table>\n",
       "<thead><tr><th scope=col>row</th><th scope=col>baseMean</th><th scope=col>log2FoldChange</th><th scope=col>lfcSE</th><th scope=col>stat</th><th scope=col>pvalue</th><th scope=col>padj</th></tr></thead>\n",
       "<tbody>\n",
       "\t<tr><td>CNAG_03398  </td><td> 79.8140    </td><td>-1.9791305  </td><td>0.13518105  </td><td>-14.64059   </td><td>1.547180e-48</td><td>1.232638e-44</td></tr>\n",
       "\t<tr><td>CNAG_03623  </td><td>210.3915    </td><td>-1.0625362  </td><td>0.08074884  </td><td>-13.15853   </td><td>1.520117e-39</td><td>6.055386e-36</td></tr>\n",
       "\t<tr><td>CNAG_00727  </td><td>495.6216    </td><td> 0.7518105  </td><td>0.05800803  </td><td> 12.96045   </td><td>2.050298e-38</td><td>5.444908e-35</td></tr>\n",
       "\t<tr><td>CNAG_02587  </td><td>157.7568    </td><td>-1.2178205  </td><td>0.09880546  </td><td>-12.32544   </td><td>6.608408e-35</td><td>1.316230e-31</td></tr>\n",
       "</tbody>\n",
       "</table>\n"
      ],
      "text/latex": [
       "\\begin{tabular}{r|lllllll}\n",
       " row & baseMean & log2FoldChange & lfcSE & stat & pvalue & padj\\\\\n",
       "\\hline\n",
       "\t CNAG\\_03398 &  79.8140     & -1.9791305   & 0.13518105   & -14.64059    & 1.547180e-48 & 1.232638e-44\\\\\n",
       "\t CNAG\\_03623 & 210.3915     & -1.0625362   & 0.08074884   & -13.15853    & 1.520117e-39 & 6.055386e-36\\\\\n",
       "\t CNAG\\_00727 & 495.6216     &  0.7518105   & 0.05800803   &  12.96045    & 2.050298e-38 & 5.444908e-35\\\\\n",
       "\t CNAG\\_02587 & 157.7568     & -1.2178205   & 0.09880546   & -12.32544    & 6.608408e-35 & 1.316230e-31\\\\\n",
       "\\end{tabular}\n"
      ],
      "text/markdown": [
       "\n",
       "row | baseMean | log2FoldChange | lfcSE | stat | pvalue | padj | \n",
       "|---|---|---|---|\n",
       "| CNAG_03398   |  79.8140     | -1.9791305   | 0.13518105   | -14.64059    | 1.547180e-48 | 1.232638e-44 | \n",
       "| CNAG_03623   | 210.3915     | -1.0625362   | 0.08074884   | -13.15853    | 1.520117e-39 | 6.055386e-36 | \n",
       "| CNAG_00727   | 495.6216     |  0.7518105   | 0.05800803   |  12.96045    | 2.050298e-38 | 5.444908e-35 | \n",
       "| CNAG_02587   | 157.7568     | -1.2178205   | 0.09880546   | -12.32544    | 6.608408e-35 | 1.316230e-31 | \n",
       "\n",
       "\n"
      ],
      "text/plain": [
       "  row        baseMean log2FoldChange lfcSE      stat      pvalue      \n",
       "1 CNAG_03398  79.8140 -1.9791305     0.13518105 -14.64059 1.547180e-48\n",
       "2 CNAG_03623 210.3915 -1.0625362     0.08074884 -13.15853 1.520117e-39\n",
       "3 CNAG_00727 495.6216  0.7518105     0.05800803  12.96045 2.050298e-38\n",
       "4 CNAG_02587 157.7568 -1.2178205     0.09880546 -12.32544 6.608408e-35\n",
       "  padj        \n",
       "1 1.232638e-44\n",
       "2 6.055386e-36\n",
       "3 5.444908e-35\n",
       "4 1.316230e-31"
      ]
     },
     "metadata": {},
     "output_type": "display_data"
    }
   ],
   "source": [
    "results(ddsDE, contrast = c(\"Strain\", \"H99\", \"mar1d\"), tidy = TRUE) %>%\n",
    "    arrange(padj) %>% \n",
    "    head(4)"
   ]
  },
  {
   "cell_type": "code",
   "execution_count": 66,
   "metadata": {},
   "outputs": [
    {
     "data": {
      "image/png": "[encoded data removed]",
      "text/plain": [
       "Plot with title “CNAG_03398”"
      ]
     },
     "metadata": {},
     "output_type": "display_data"
    }
   ],
   "source": [
    "options(repr.plot.width = 8, repr.plot.height = 4)\n",
    "par(mfrow = c(1, 2))\n",
    "plotCounts(dds, 2,            intgroup = \"Strain\")\n",
    "plotCounts(dds, \"CNAG_03398\", intgroup = \"Strain\")\n",
    "par(mfrow = c(1, 1))"
   ]
  },
  {
   "cell_type": "code",
   "execution_count": 67,
   "metadata": {},
   "outputs": [
    {
     "data": {
      "text/html": [
       "<table>\n",
       "<thead><tr><th scope=col>row</th><th scope=col>baseMean</th><th scope=col>log2FoldChange</th><th scope=col>lfcSE</th><th scope=col>stat</th><th scope=col>pvalue</th><th scope=col>padj</th></tr></thead>\n",
       "<tbody>\n",
       "\t<tr><td>CNAG_03398  </td><td> 79.8140    </td><td>-2.608085   </td><td>0.1426368   </td><td>-18.28479   </td><td>1.093787e-74</td><td>8.714201e-71</td></tr>\n",
       "\t<tr><td>CNAG_12988  </td><td>115.7888    </td><td> 3.023987   </td><td>0.1716819   </td><td> 17.61389   </td><td>1.927318e-69</td><td>7.677472e-66</td></tr>\n",
       "\t<tr><td>CNAG_00183  </td><td>752.6948    </td><td> 1.743143   </td><td>0.1124465   </td><td> 15.50197   </td><td>3.364131e-54</td><td>8.934011e-51</td></tr>\n",
       "\t<tr><td>CNAG_02083  </td><td>484.1644    </td><td> 4.382439   </td><td>0.2886512   </td><td> 15.18247   </td><td>4.620316e-52</td><td>9.202514e-49</td></tr>\n",
       "</tbody>\n",
       "</table>\n"
      ],
      "text/latex": [
       "\\begin{tabular}{r|lllllll}\n",
       " row & baseMean & log2FoldChange & lfcSE & stat & pvalue & padj\\\\\n",
       "\\hline\n",
       "\t CNAG\\_03398 &  79.8140     & -2.608085    & 0.1426368    & -18.28479    & 1.093787e-74 & 8.714201e-71\\\\\n",
       "\t CNAG\\_12988 & 115.7888     &  3.023987    & 0.1716819    &  17.61389    & 1.927318e-69 & 7.677472e-66\\\\\n",
       "\t CNAG\\_00183 & 752.6948     &  1.743143    & 0.1124465    &  15.50197    & 3.364131e-54 & 8.934011e-51\\\\\n",
       "\t CNAG\\_02083 & 484.1644     &  4.382439    & 0.2886512    &  15.18247    & 4.620316e-52 & 9.202514e-49\\\\\n",
       "\\end{tabular}\n"
      ],
      "text/markdown": [
       "\n",
       "row | baseMean | log2FoldChange | lfcSE | stat | pvalue | padj | \n",
       "|---|---|---|---|\n",
       "| CNAG_03398   |  79.8140     | -2.608085    | 0.1426368    | -18.28479    | 1.093787e-74 | 8.714201e-71 | \n",
       "| CNAG_12988   | 115.7888     |  3.023987    | 0.1716819    |  17.61389    | 1.927318e-69 | 7.677472e-66 | \n",
       "| CNAG_00183   | 752.6948     |  1.743143    | 0.1124465    |  15.50197    | 3.364131e-54 | 8.934011e-51 | \n",
       "| CNAG_02083   | 484.1644     |  4.382439    | 0.2886512    |  15.18247    | 4.620316e-52 | 9.202514e-49 | \n",
       "\n",
       "\n"
      ],
      "text/plain": [
       "  row        baseMean log2FoldChange lfcSE     stat      pvalue      \n",
       "1 CNAG_03398  79.8140 -2.608085      0.1426368 -18.28479 1.093787e-74\n",
       "2 CNAG_12988 115.7888  3.023987      0.1716819  17.61389 1.927318e-69\n",
       "3 CNAG_00183 752.6948  1.743143      0.1124465  15.50197 3.364131e-54\n",
       "4 CNAG_02083 484.1644  4.382439      0.2886512  15.18247 4.620316e-52\n",
       "  padj        \n",
       "1 8.714201e-71\n",
       "2 7.677472e-66\n",
       "3 8.934011e-51\n",
       "4 9.202514e-49"
      ]
     },
     "metadata": {},
     "output_type": "display_data"
    }
   ],
   "source": [
    "results(ddsDE, contrast = c(\"Media\", \"YPD\", \"TC\"), tidy = TRUE) %>%\n",
    "    arrange(padj) %>% \n",
    "    head(4)"
   ]
  },
  {
   "cell_type": "code",
   "execution_count": 68,
   "metadata": {},
   "outputs": [
    {
     "data": {
      "image/png": "[encoded data removed]",
      "text/plain": [
       "Plot with title “CNAG_03398”"
      ]
     },
     "metadata": {},
     "output_type": "display_data"
    }
   ],
   "source": [
    "options(repr.plot.width = 8, repr.plot.height = 4)\n",
    "par(mfrow = c(1, 2))\n",
    "plotCounts(dds, 2,            intgroup = \"Media\")\n",
    "plotCounts(dds, \"CNAG_03398\", intgroup = \"Media\")\n",
    "par(mfrow = c(1, 1))"
   ]
  },
  {
   "cell_type": "markdown",
   "metadata": {},
   "source": [
    "#  FPM\n",
    "Another approach is to FPM: fragments per million mapped fragments"
   ]
  },
  {
   "cell_type": "code",
   "execution_count": 69,
   "metadata": {},
   "outputs": [
    {
     "data": {
      "text/html": [
       "<table>\n",
       "<thead><tr><th></th><th scope=col>1_RZ_J</th><th scope=col>10_RZ_C</th><th scope=col>11_RZ_J</th><th scope=col>12_RZ_P</th><th scope=col>13_RZ_J</th><th scope=col>14_RZ_C</th><th scope=col>15_RZ_C</th><th scope=col>16_RZ_P</th><th scope=col>2_RZ_C</th><th scope=col>21_RZ_C</th><th scope=col>⋯</th><th scope=col>27_RZ_P</th><th scope=col>3_RZ_J</th><th scope=col>35_RZ_P</th><th scope=col>36_RZ_J</th><th scope=col>38_RZ_P</th><th scope=col>4_RZ_P</th><th scope=col>40_RZ_J</th><th scope=col>45_RZ_P</th><th scope=col>47_RZ_P</th><th scope=col>9_RZ_C</th></tr></thead>\n",
       "<tbody>\n",
       "\t<tr><th scope=row>CNAG_00001</th><td> 0.000000 </td><td> 0.000000 </td><td> 0.000000 </td><td> 0.000000 </td><td> 0.000000 </td><td> 0.000000 </td><td> 0.000000 </td><td> 0.1714117</td><td> 0.000000 </td><td> 0.000000 </td><td>⋯         </td><td> 0.000000 </td><td> 0.000000 </td><td> 0.000000 </td><td> 0.00000  </td><td> 0.000000 </td><td> 0.000000 </td><td> 0.00000  </td><td> 0.000000 </td><td> 0.000000 </td><td> 0.000000 </td></tr>\n",
       "\t<tr><th scope=row>CNAG_00002</th><td>20.901462 </td><td>13.062869 </td><td>11.459694 </td><td>12.271331 </td><td>21.442114 </td><td>19.904350 </td><td>19.478103 </td><td>22.1121141</td><td>19.984718 </td><td>14.088476 </td><td>⋯         </td><td>19.696805 </td><td>17.419415 </td><td>22.830625 </td><td>13.74964  </td><td>19.798140 </td><td>23.050408 </td><td>20.30028  </td><td>18.971479 </td><td>16.432087 </td><td>11.854334 </td></tr>\n",
       "\t<tr><th scope=row>CNAG_00003</th><td> 4.098326 </td><td> 4.125116 </td><td> 2.242114 </td><td> 6.519145 </td><td> 5.220689 </td><td> 5.796322 </td><td> 5.259088 </td><td> 6.8564695</td><td> 4.758266 </td><td> 4.658286 </td><td>⋯         </td><td> 4.122587 </td><td> 3.907159 </td><td> 3.957308 </td><td> 5.42417  </td><td> 8.961263 </td><td> 4.971657 </td><td> 4.57836  </td><td> 7.153181 </td><td> 6.015318 </td><td> 3.914167 </td></tr>\n",
       "</tbody>\n",
       "</table>\n"
      ],
      "text/latex": [
       "\\begin{tabular}{r|llllllllllllllllllllllll}\n",
       "  & 1\\_RZ\\_J & 10\\_RZ\\_C & 11\\_RZ\\_J & 12\\_RZ\\_P & 13\\_RZ\\_J & 14\\_RZ\\_C & 15\\_RZ\\_C & 16\\_RZ\\_P & 2\\_RZ\\_C & 21\\_RZ\\_C & ⋯ & 27\\_RZ\\_P & 3\\_RZ\\_J & 35\\_RZ\\_P & 36\\_RZ\\_J & 38\\_RZ\\_P & 4\\_RZ\\_P & 40\\_RZ\\_J & 45\\_RZ\\_P & 47\\_RZ\\_P & 9\\_RZ\\_C\\\\\n",
       "\\hline\n",
       "\tCNAG\\_00001 &  0.000000  &  0.000000  &  0.000000  &  0.000000  &  0.000000  &  0.000000  &  0.000000  &  0.1714117 &  0.000000  &  0.000000  & ⋯          &  0.000000  &  0.000000  &  0.000000  &  0.00000   &  0.000000  &  0.000000  &  0.00000   &  0.000000  &  0.000000  &  0.000000 \\\\\n",
       "\tCNAG\\_00002 & 20.901462  & 13.062869  & 11.459694  & 12.271331  & 21.442114  & 19.904350  & 19.478103  & 22.1121141 & 19.984718  & 14.088476  & ⋯          & 19.696805  & 17.419415  & 22.830625  & 13.74964   & 19.798140  & 23.050408  & 20.30028   & 18.971479  & 16.432087  & 11.854334 \\\\\n",
       "\tCNAG\\_00003 &  4.098326  &  4.125116  &  2.242114  &  6.519145  &  5.220689  &  5.796322  &  5.259088  &  6.8564695 &  4.758266  &  4.658286  & ⋯          &  4.122587  &  3.907159  &  3.957308  &  5.42417   &  8.961263  &  4.971657  &  4.57836   &  7.153181  &  6.015318  &  3.914167 \\\\\n",
       "\\end{tabular}\n"
      ],
      "text/markdown": [
       "\n",
       "| <!--/--> | 1_RZ_J | 10_RZ_C | 11_RZ_J | 12_RZ_P | 13_RZ_J | 14_RZ_C | 15_RZ_C | 16_RZ_P | 2_RZ_C | 21_RZ_C | ⋯ | 27_RZ_P | 3_RZ_J | 35_RZ_P | 36_RZ_J | 38_RZ_P | 4_RZ_P | 40_RZ_J | 45_RZ_P | 47_RZ_P | 9_RZ_C | \n",
       "|---|---|---|\n",
       "| CNAG_00001 |  0.000000  |  0.000000  |  0.000000  |  0.000000  |  0.000000  |  0.000000  |  0.000000  |  0.1714117 |  0.000000  |  0.000000  | ⋯          |  0.000000  |  0.000000  |  0.000000  |  0.00000   |  0.000000  |  0.000000  |  0.00000   |  0.000000  |  0.000000  |  0.000000  | \n",
       "| CNAG_00002 | 20.901462  | 13.062869  | 11.459694  | 12.271331  | 21.442114  | 19.904350  | 19.478103  | 22.1121141 | 19.984718  | 14.088476  | ⋯          | 19.696805  | 17.419415  | 22.830625  | 13.74964   | 19.798140  | 23.050408  | 20.30028   | 18.971479  | 16.432087  | 11.854334  | \n",
       "| CNAG_00003 |  4.098326  |  4.125116  |  2.242114  |  6.519145  |  5.220689  |  5.796322  |  5.259088  |  6.8564695 |  4.758266  |  4.658286  | ⋯          |  4.122587  |  3.907159  |  3.957308  |  5.42417   |  8.961263  |  4.971657  |  4.57836   |  7.153181  |  6.015318  |  3.914167  | \n",
       "\n",
       "\n"
      ],
      "text/plain": [
       "           1_RZ_J    10_RZ_C   11_RZ_J   12_RZ_P   13_RZ_J   14_RZ_C  \n",
       "CNAG_00001  0.000000  0.000000  0.000000  0.000000  0.000000  0.000000\n",
       "CNAG_00002 20.901462 13.062869 11.459694 12.271331 21.442114 19.904350\n",
       "CNAG_00003  4.098326  4.125116  2.242114  6.519145  5.220689  5.796322\n",
       "           15_RZ_C   16_RZ_P    2_RZ_C    21_RZ_C   ⋯ 27_RZ_P   3_RZ_J   \n",
       "CNAG_00001  0.000000  0.1714117  0.000000  0.000000 ⋯  0.000000  0.000000\n",
       "CNAG_00002 19.478103 22.1121141 19.984718 14.088476 ⋯ 19.696805 17.419415\n",
       "CNAG_00003  5.259088  6.8564695  4.758266  4.658286 ⋯  4.122587  3.907159\n",
       "           35_RZ_P   36_RZ_J  38_RZ_P   4_RZ_P    40_RZ_J  45_RZ_P   47_RZ_P  \n",
       "CNAG_00001  0.000000  0.00000  0.000000  0.000000  0.00000  0.000000  0.000000\n",
       "CNAG_00002 22.830625 13.74964 19.798140 23.050408 20.30028 18.971479 16.432087\n",
       "CNAG_00003  3.957308  5.42417  8.961263  4.971657  4.57836  7.153181  6.015318\n",
       "           9_RZ_C   \n",
       "CNAG_00001  0.000000\n",
       "CNAG_00002 11.854334\n",
       "CNAG_00003  3.914167"
      ]
     },
     "metadata": {},
     "output_type": "display_data"
    }
   ],
   "source": [
    "head(fpm(dds), 3)"
   ]
  },
  {
   "cell_type": "markdown",
   "metadata": {},
   "source": [
    "Let's calculate the FPM manually. For gene $i$ sample $j$, the FPM is defined as $\\frac{K_{ij}}{D_j}\\times 10^{6}$ where $D_j=\\sum_{i=1} K_{ij}$ is the read depth for sample $j$. First get the read depth for each sample"
   ]
  },
  {
   "cell_type": "code",
   "execution_count": 92,
   "metadata": {},
   "outputs": [
    {
     "data": {
      "text/html": [
       "<dl class=dl-horizontal>\n",
       "\t<dt>1_RZ_J</dt>\n",
       "\t\t<dd>9475228</dd>\n",
       "\t<dt>10_RZ_C</dt>\n",
       "\t\t<dd>5225990</dd>\n",
       "\t<dt>11_RZ_J</dt>\n",
       "\t\t<dd>7372861</dd>\n",
       "\t<dt>12_RZ_P</dt>\n",
       "\t\t<dd>9424584</dd>\n",
       "\t<dt>13_RZ_J</dt>\n",
       "\t\t<dd>7694026</dd>\n",
       "\t<dt>14_RZ_C</dt>\n",
       "\t\t<dd>6072600</dd>\n",
       "\t<dt>15_RZ_C</dt>\n",
       "\t\t<dd>6878021</dd>\n",
       "\t<dt>16_RZ_P</dt>\n",
       "\t\t<dd>5381493</dd>\n",
       "\t<dt>2_RZ_C</dt>\n",
       "\t\t<dd>7968580</dd>\n",
       "\t<dt>21_RZ_C</dt>\n",
       "\t\t<dd>5576844</dd>\n",
       "\t<dt>22_RZ_C</dt>\n",
       "\t\t<dd>9674841</dd>\n",
       "\t<dt>23_RZ_J</dt>\n",
       "\t\t<dd>7430971</dd>\n",
       "\t<dt>24_RZ_J</dt>\n",
       "\t\t<dd>5618403</dd>\n",
       "\t<dt>26_RZ_C</dt>\n",
       "\t\t<dd>10234827</dd>\n",
       "\t<dt>27_RZ_P</dt>\n",
       "\t\t<dd>5365313</dd>\n",
       "\t<dt>3_RZ_J</dt>\n",
       "\t\t<dd>6086446</dd>\n",
       "\t<dt>35_RZ_P</dt>\n",
       "\t\t<dd>5470593</dd>\n",
       "\t<dt>36_RZ_J</dt>\n",
       "\t\t<dd>8613592</dd>\n",
       "\t<dt>38_RZ_P</dt>\n",
       "\t\t<dd>4818290</dd>\n",
       "\t<dt>4_RZ_P</dt>\n",
       "\t\t<dd>12634911</dd>\n",
       "\t<dt>40_RZ_J</dt>\n",
       "\t\t<dd>8494294</dd>\n",
       "\t<dt>45_RZ_P</dt>\n",
       "\t\t<dd>7227953</dd>\n",
       "\t<dt>47_RZ_P</dt>\n",
       "\t\t<dd>7038105</dd>\n",
       "\t<dt>9_RZ_C</dt>\n",
       "\t\t<dd>8067172</dd>\n",
       "</dl>\n"
      ],
      "text/latex": [
       "\\begin{description*}\n",
       "\\item[1\\textbackslash{}\\_RZ\\textbackslash{}\\_J] 9475228\n",
       "\\item[10\\textbackslash{}\\_RZ\\textbackslash{}\\_C] 5225990\n",
       "\\item[11\\textbackslash{}\\_RZ\\textbackslash{}\\_J] 7372861\n",
       "\\item[12\\textbackslash{}\\_RZ\\textbackslash{}\\_P] 9424584\n",
       "\\item[13\\textbackslash{}\\_RZ\\textbackslash{}\\_J] 7694026\n",
       "\\item[14\\textbackslash{}\\_RZ\\textbackslash{}\\_C] 6072600\n",
       "\\item[15\\textbackslash{}\\_RZ\\textbackslash{}\\_C] 6878021\n",
       "\\item[16\\textbackslash{}\\_RZ\\textbackslash{}\\_P] 5381493\n",
       "\\item[2\\textbackslash{}\\_RZ\\textbackslash{}\\_C] 7968580\n",
       "\\item[21\\textbackslash{}\\_RZ\\textbackslash{}\\_C] 5576844\n",
       "\\item[22\\textbackslash{}\\_RZ\\textbackslash{}\\_C] 9674841\n",
       "\\item[23\\textbackslash{}\\_RZ\\textbackslash{}\\_J] 7430971\n",
       "\\item[24\\textbackslash{}\\_RZ\\textbackslash{}\\_J] 5618403\n",
       "\\item[26\\textbackslash{}\\_RZ\\textbackslash{}\\_C] 10234827\n",
       "\\item[27\\textbackslash{}\\_RZ\\textbackslash{}\\_P] 5365313\n",
       "\\item[3\\textbackslash{}\\_RZ\\textbackslash{}\\_J] 6086446\n",
       "\\item[35\\textbackslash{}\\_RZ\\textbackslash{}\\_P] 5470593\n",
       "\\item[36\\textbackslash{}\\_RZ\\textbackslash{}\\_J] 8613592\n",
       "\\item[38\\textbackslash{}\\_RZ\\textbackslash{}\\_P] 4818290\n",
       "\\item[4\\textbackslash{}\\_RZ\\textbackslash{}\\_P] 12634911\n",
       "\\item[40\\textbackslash{}\\_RZ\\textbackslash{}\\_J] 8494294\n",
       "\\item[45\\textbackslash{}\\_RZ\\textbackslash{}\\_P] 7227953\n",
       "\\item[47\\textbackslash{}\\_RZ\\textbackslash{}\\_P] 7038105\n",
       "\\item[9\\textbackslash{}\\_RZ\\textbackslash{}\\_C] 8067172\n",
       "\\end{description*}\n"
      ],
      "text/markdown": [
       "1_RZ_J\n",
       ":   947522810_RZ_C\n",
       ":   522599011_RZ_J\n",
       ":   737286112_RZ_P\n",
       ":   942458413_RZ_J\n",
       ":   769402614_RZ_C\n",
       ":   607260015_RZ_C\n",
       ":   687802116_RZ_P\n",
       ":   53814932_RZ_C\n",
       ":   796858021_RZ_C\n",
       ":   557684422_RZ_C\n",
       ":   967484123_RZ_J\n",
       ":   743097124_RZ_J\n",
       ":   561840326_RZ_C\n",
       ":   1023482727_RZ_P\n",
       ":   53653133_RZ_J\n",
       ":   608644635_RZ_P\n",
       ":   547059336_RZ_J\n",
       ":   861359238_RZ_P\n",
       ":   48182904_RZ_P\n",
       ":   1263491140_RZ_J\n",
       ":   849429445_RZ_P\n",
       ":   722795347_RZ_P\n",
       ":   70381059_RZ_C\n",
       ":   8067172\n",
       "\n"
      ],
      "text/plain": [
       "  1_RZ_J  10_RZ_C  11_RZ_J  12_RZ_P  13_RZ_J  14_RZ_C  15_RZ_C  16_RZ_P \n",
       " 9475228  5225990  7372861  9424584  7694026  6072600  6878021  5381493 \n",
       "  2_RZ_C  21_RZ_C  22_RZ_C  23_RZ_J  24_RZ_J  26_RZ_C  27_RZ_P   3_RZ_J \n",
       " 7968580  5576844  9674841  7430971  5618403 10234827  5365313  6086446 \n",
       " 35_RZ_P  36_RZ_J  38_RZ_P   4_RZ_P  40_RZ_J  45_RZ_P  47_RZ_P   9_RZ_C \n",
       " 5470593  8613592  4818290 12634911  8494294  7227953  7038105  8067172 "
      ]
     },
     "metadata": {},
     "output_type": "display_data"
    }
   ],
   "source": [
    "D <- colSums(counts(dds)) # colSums: sum of each column, where each column represents a sample\n",
    "D"
   ]
  },
  {
   "cell_type": "markdown",
   "metadata": {},
   "source": [
    "By default, the fpm() function uses a robust approach. We will disable this right now as to replicate the standard FPM. Let's look at gene 1"
   ]
  },
  {
   "cell_type": "code",
   "execution_count": 71,
   "metadata": {},
   "outputs": [
    {
     "data": {
      "text/html": [
       "<dl class=dl-horizontal>\n",
       "\t<dt>1_RZ_J</dt>\n",
       "\t\t<dd>0</dd>\n",
       "\t<dt>10_RZ_C</dt>\n",
       "\t\t<dd>0</dd>\n",
       "\t<dt>11_RZ_J</dt>\n",
       "\t\t<dd>0</dd>\n",
       "\t<dt>12_RZ_P</dt>\n",
       "\t\t<dd>0</dd>\n",
       "\t<dt>13_RZ_J</dt>\n",
       "\t\t<dd>0</dd>\n",
       "\t<dt>14_RZ_C</dt>\n",
       "\t\t<dd>0</dd>\n",
       "\t<dt>15_RZ_C</dt>\n",
       "\t\t<dd>0</dd>\n",
       "\t<dt>16_RZ_P</dt>\n",
       "\t\t<dd>0.185822038605272</dd>\n",
       "\t<dt>2_RZ_C</dt>\n",
       "\t\t<dd>0</dd>\n",
       "\t<dt>21_RZ_C</dt>\n",
       "\t\t<dd>0</dd>\n",
       "\t<dt>22_RZ_C</dt>\n",
       "\t\t<dd>0.103360871770399</dd>\n",
       "\t<dt>23_RZ_J</dt>\n",
       "\t\t<dd>0</dd>\n",
       "\t<dt>24_RZ_J</dt>\n",
       "\t\t<dd>0</dd>\n",
       "\t<dt>26_RZ_C</dt>\n",
       "\t\t<dd>0</dd>\n",
       "\t<dt>27_RZ_P</dt>\n",
       "\t\t<dd>0</dd>\n",
       "\t<dt>3_RZ_J</dt>\n",
       "\t\t<dd>0</dd>\n",
       "\t<dt>35_RZ_P</dt>\n",
       "\t\t<dd>0</dd>\n",
       "\t<dt>36_RZ_J</dt>\n",
       "\t\t<dd>0</dd>\n",
       "\t<dt>38_RZ_P</dt>\n",
       "\t\t<dd>0</dd>\n",
       "\t<dt>4_RZ_P</dt>\n",
       "\t\t<dd>0</dd>\n",
       "\t<dt>40_RZ_J</dt>\n",
       "\t\t<dd>0</dd>\n",
       "\t<dt>45_RZ_P</dt>\n",
       "\t\t<dd>0</dd>\n",
       "\t<dt>47_RZ_P</dt>\n",
       "\t\t<dd>0</dd>\n",
       "\t<dt>9_RZ_C</dt>\n",
       "\t\t<dd>0</dd>\n",
       "</dl>\n"
      ],
      "text/latex": [
       "\\begin{description*}\n",
       "\\item[1\\textbackslash{}\\_RZ\\textbackslash{}\\_J] 0\n",
       "\\item[10\\textbackslash{}\\_RZ\\textbackslash{}\\_C] 0\n",
       "\\item[11\\textbackslash{}\\_RZ\\textbackslash{}\\_J] 0\n",
       "\\item[12\\textbackslash{}\\_RZ\\textbackslash{}\\_P] 0\n",
       "\\item[13\\textbackslash{}\\_RZ\\textbackslash{}\\_J] 0\n",
       "\\item[14\\textbackslash{}\\_RZ\\textbackslash{}\\_C] 0\n",
       "\\item[15\\textbackslash{}\\_RZ\\textbackslash{}\\_C] 0\n",
       "\\item[16\\textbackslash{}\\_RZ\\textbackslash{}\\_P] 0.185822038605272\n",
       "\\item[2\\textbackslash{}\\_RZ\\textbackslash{}\\_C] 0\n",
       "\\item[21\\textbackslash{}\\_RZ\\textbackslash{}\\_C] 0\n",
       "\\item[22\\textbackslash{}\\_RZ\\textbackslash{}\\_C] 0.103360871770399\n",
       "\\item[23\\textbackslash{}\\_RZ\\textbackslash{}\\_J] 0\n",
       "\\item[24\\textbackslash{}\\_RZ\\textbackslash{}\\_J] 0\n",
       "\\item[26\\textbackslash{}\\_RZ\\textbackslash{}\\_C] 0\n",
       "\\item[27\\textbackslash{}\\_RZ\\textbackslash{}\\_P] 0\n",
       "\\item[3\\textbackslash{}\\_RZ\\textbackslash{}\\_J] 0\n",
       "\\item[35\\textbackslash{}\\_RZ\\textbackslash{}\\_P] 0\n",
       "\\item[36\\textbackslash{}\\_RZ\\textbackslash{}\\_J] 0\n",
       "\\item[38\\textbackslash{}\\_RZ\\textbackslash{}\\_P] 0\n",
       "\\item[4\\textbackslash{}\\_RZ\\textbackslash{}\\_P] 0\n",
       "\\item[40\\textbackslash{}\\_RZ\\textbackslash{}\\_J] 0\n",
       "\\item[45\\textbackslash{}\\_RZ\\textbackslash{}\\_P] 0\n",
       "\\item[47\\textbackslash{}\\_RZ\\textbackslash{}\\_P] 0\n",
       "\\item[9\\textbackslash{}\\_RZ\\textbackslash{}\\_C] 0\n",
       "\\end{description*}\n"
      ],
      "text/markdown": [
       "1_RZ_J\n",
       ":   010_RZ_C\n",
       ":   011_RZ_J\n",
       ":   012_RZ_P\n",
       ":   013_RZ_J\n",
       ":   014_RZ_C\n",
       ":   015_RZ_C\n",
       ":   016_RZ_P\n",
       ":   0.1858220386052722_RZ_C\n",
       ":   021_RZ_C\n",
       ":   022_RZ_C\n",
       ":   0.10336087177039923_RZ_J\n",
       ":   024_RZ_J\n",
       ":   026_RZ_C\n",
       ":   027_RZ_P\n",
       ":   03_RZ_J\n",
       ":   035_RZ_P\n",
       ":   036_RZ_J\n",
       ":   038_RZ_P\n",
       ":   04_RZ_P\n",
       ":   040_RZ_J\n",
       ":   045_RZ_P\n",
       ":   047_RZ_P\n",
       ":   09_RZ_C\n",
       ":   0\n",
       "\n"
      ],
      "text/plain": [
       "   1_RZ_J   10_RZ_C   11_RZ_J   12_RZ_P   13_RZ_J   14_RZ_C   15_RZ_C   16_RZ_P \n",
       "0.0000000 0.0000000 0.0000000 0.0000000 0.0000000 0.0000000 0.0000000 0.1858220 \n",
       "   2_RZ_C   21_RZ_C   22_RZ_C   23_RZ_J   24_RZ_J   26_RZ_C   27_RZ_P    3_RZ_J \n",
       "0.0000000 0.0000000 0.1033609 0.0000000 0.0000000 0.0000000 0.0000000 0.0000000 \n",
       "  35_RZ_P   36_RZ_J   38_RZ_P    4_RZ_P   40_RZ_J   45_RZ_P   47_RZ_P    9_RZ_C \n",
       "0.0000000 0.0000000 0.0000000 0.0000000 0.0000000 0.0000000 0.0000000 0.0000000 "
      ]
     },
     "metadata": {},
     "output_type": "display_data"
    }
   ],
   "source": [
    "fpm1 <- fpm(dds, robust = FALSE)[1,]\n",
    "fpm1"
   ]
  },
  {
   "cell_type": "markdown",
   "metadata": {},
   "source": [
    "Now get the raw counts for gene 1"
   ]
  },
  {
   "cell_type": "code",
   "execution_count": 72,
   "metadata": {},
   "outputs": [
    {
     "data": {
      "text/html": [
       "<dl class=dl-horizontal>\n",
       "\t<dt>1_RZ_J</dt>\n",
       "\t\t<dd>0</dd>\n",
       "\t<dt>10_RZ_C</dt>\n",
       "\t\t<dd>0</dd>\n",
       "\t<dt>11_RZ_J</dt>\n",
       "\t\t<dd>0</dd>\n",
       "\t<dt>12_RZ_P</dt>\n",
       "\t\t<dd>0</dd>\n",
       "\t<dt>13_RZ_J</dt>\n",
       "\t\t<dd>0</dd>\n",
       "\t<dt>14_RZ_C</dt>\n",
       "\t\t<dd>0</dd>\n",
       "\t<dt>15_RZ_C</dt>\n",
       "\t\t<dd>0</dd>\n",
       "\t<dt>16_RZ_P</dt>\n",
       "\t\t<dd>1</dd>\n",
       "\t<dt>2_RZ_C</dt>\n",
       "\t\t<dd>0</dd>\n",
       "\t<dt>21_RZ_C</dt>\n",
       "\t\t<dd>0</dd>\n",
       "\t<dt>22_RZ_C</dt>\n",
       "\t\t<dd>1</dd>\n",
       "\t<dt>23_RZ_J</dt>\n",
       "\t\t<dd>0</dd>\n",
       "\t<dt>24_RZ_J</dt>\n",
       "\t\t<dd>0</dd>\n",
       "\t<dt>26_RZ_C</dt>\n",
       "\t\t<dd>0</dd>\n",
       "\t<dt>27_RZ_P</dt>\n",
       "\t\t<dd>0</dd>\n",
       "\t<dt>3_RZ_J</dt>\n",
       "\t\t<dd>0</dd>\n",
       "\t<dt>35_RZ_P</dt>\n",
       "\t\t<dd>0</dd>\n",
       "\t<dt>36_RZ_J</dt>\n",
       "\t\t<dd>0</dd>\n",
       "\t<dt>38_RZ_P</dt>\n",
       "\t\t<dd>0</dd>\n",
       "\t<dt>4_RZ_P</dt>\n",
       "\t\t<dd>0</dd>\n",
       "\t<dt>40_RZ_J</dt>\n",
       "\t\t<dd>0</dd>\n",
       "\t<dt>45_RZ_P</dt>\n",
       "\t\t<dd>0</dd>\n",
       "\t<dt>47_RZ_P</dt>\n",
       "\t\t<dd>0</dd>\n",
       "\t<dt>9_RZ_C</dt>\n",
       "\t\t<dd>0</dd>\n",
       "</dl>\n"
      ],
      "text/latex": [
       "\\begin{description*}\n",
       "\\item[1\\textbackslash{}\\_RZ\\textbackslash{}\\_J] 0\n",
       "\\item[10\\textbackslash{}\\_RZ\\textbackslash{}\\_C] 0\n",
       "\\item[11\\textbackslash{}\\_RZ\\textbackslash{}\\_J] 0\n",
       "\\item[12\\textbackslash{}\\_RZ\\textbackslash{}\\_P] 0\n",
       "\\item[13\\textbackslash{}\\_RZ\\textbackslash{}\\_J] 0\n",
       "\\item[14\\textbackslash{}\\_RZ\\textbackslash{}\\_C] 0\n",
       "\\item[15\\textbackslash{}\\_RZ\\textbackslash{}\\_C] 0\n",
       "\\item[16\\textbackslash{}\\_RZ\\textbackslash{}\\_P] 1\n",
       "\\item[2\\textbackslash{}\\_RZ\\textbackslash{}\\_C] 0\n",
       "\\item[21\\textbackslash{}\\_RZ\\textbackslash{}\\_C] 0\n",
       "\\item[22\\textbackslash{}\\_RZ\\textbackslash{}\\_C] 1\n",
       "\\item[23\\textbackslash{}\\_RZ\\textbackslash{}\\_J] 0\n",
       "\\item[24\\textbackslash{}\\_RZ\\textbackslash{}\\_J] 0\n",
       "\\item[26\\textbackslash{}\\_RZ\\textbackslash{}\\_C] 0\n",
       "\\item[27\\textbackslash{}\\_RZ\\textbackslash{}\\_P] 0\n",
       "\\item[3\\textbackslash{}\\_RZ\\textbackslash{}\\_J] 0\n",
       "\\item[35\\textbackslash{}\\_RZ\\textbackslash{}\\_P] 0\n",
       "\\item[36\\textbackslash{}\\_RZ\\textbackslash{}\\_J] 0\n",
       "\\item[38\\textbackslash{}\\_RZ\\textbackslash{}\\_P] 0\n",
       "\\item[4\\textbackslash{}\\_RZ\\textbackslash{}\\_P] 0\n",
       "\\item[40\\textbackslash{}\\_RZ\\textbackslash{}\\_J] 0\n",
       "\\item[45\\textbackslash{}\\_RZ\\textbackslash{}\\_P] 0\n",
       "\\item[47\\textbackslash{}\\_RZ\\textbackslash{}\\_P] 0\n",
       "\\item[9\\textbackslash{}\\_RZ\\textbackslash{}\\_C] 0\n",
       "\\end{description*}\n"
      ],
      "text/markdown": [
       "1_RZ_J\n",
       ":   010_RZ_C\n",
       ":   011_RZ_J\n",
       ":   012_RZ_P\n",
       ":   013_RZ_J\n",
       ":   014_RZ_C\n",
       ":   015_RZ_C\n",
       ":   016_RZ_P\n",
       ":   12_RZ_C\n",
       ":   021_RZ_C\n",
       ":   022_RZ_C\n",
       ":   123_RZ_J\n",
       ":   024_RZ_J\n",
       ":   026_RZ_C\n",
       ":   027_RZ_P\n",
       ":   03_RZ_J\n",
       ":   035_RZ_P\n",
       ":   036_RZ_J\n",
       ":   038_RZ_P\n",
       ":   04_RZ_P\n",
       ":   040_RZ_J\n",
       ":   045_RZ_P\n",
       ":   047_RZ_P\n",
       ":   09_RZ_C\n",
       ":   0\n",
       "\n"
      ],
      "text/plain": [
       " 1_RZ_J 10_RZ_C 11_RZ_J 12_RZ_P 13_RZ_J 14_RZ_C 15_RZ_C 16_RZ_P  2_RZ_C 21_RZ_C \n",
       "      0       0       0       0       0       0       0       1       0       0 \n",
       "22_RZ_C 23_RZ_J 24_RZ_J 26_RZ_C 27_RZ_P  3_RZ_J 35_RZ_P 36_RZ_J 38_RZ_P  4_RZ_P \n",
       "      1       0       0       0       0       0       0       0       0       0 \n",
       "40_RZ_J 45_RZ_P 47_RZ_P  9_RZ_C \n",
       "      0       0       0       0 "
      ]
     },
     "metadata": {},
     "output_type": "display_data"
    }
   ],
   "source": [
    "cnt1 <- counts(dds)[1,]\n",
    "cnt1"
   ]
  },
  {
   "cell_type": "markdown",
   "metadata": {},
   "source": [
    " Now calculate the FPM for gene 1"
   ]
  },
  {
   "cell_type": "code",
   "execution_count": 73,
   "metadata": {
    "scrolled": false
   },
   "outputs": [
    {
     "data": {
      "text/html": [
       "<dl class=dl-horizontal>\n",
       "\t<dt>1_RZ_J</dt>\n",
       "\t\t<dd>0</dd>\n",
       "\t<dt>10_RZ_C</dt>\n",
       "\t\t<dd>0</dd>\n",
       "\t<dt>11_RZ_J</dt>\n",
       "\t\t<dd>0</dd>\n",
       "\t<dt>12_RZ_P</dt>\n",
       "\t\t<dd>0</dd>\n",
       "\t<dt>13_RZ_J</dt>\n",
       "\t\t<dd>0</dd>\n",
       "\t<dt>14_RZ_C</dt>\n",
       "\t\t<dd>0</dd>\n",
       "\t<dt>15_RZ_C</dt>\n",
       "\t\t<dd>0</dd>\n",
       "\t<dt>16_RZ_P</dt>\n",
       "\t\t<dd>0.185822038605272</dd>\n",
       "\t<dt>2_RZ_C</dt>\n",
       "\t\t<dd>0</dd>\n",
       "\t<dt>21_RZ_C</dt>\n",
       "\t\t<dd>0</dd>\n",
       "\t<dt>22_RZ_C</dt>\n",
       "\t\t<dd>0.103360871770399</dd>\n",
       "\t<dt>23_RZ_J</dt>\n",
       "\t\t<dd>0</dd>\n",
       "\t<dt>24_RZ_J</dt>\n",
       "\t\t<dd>0</dd>\n",
       "\t<dt>26_RZ_C</dt>\n",
       "\t\t<dd>0</dd>\n",
       "\t<dt>27_RZ_P</dt>\n",
       "\t\t<dd>0</dd>\n",
       "\t<dt>3_RZ_J</dt>\n",
       "\t\t<dd>0</dd>\n",
       "\t<dt>35_RZ_P</dt>\n",
       "\t\t<dd>0</dd>\n",
       "\t<dt>36_RZ_J</dt>\n",
       "\t\t<dd>0</dd>\n",
       "\t<dt>38_RZ_P</dt>\n",
       "\t\t<dd>0</dd>\n",
       "\t<dt>4_RZ_P</dt>\n",
       "\t\t<dd>0</dd>\n",
       "\t<dt>40_RZ_J</dt>\n",
       "\t\t<dd>0</dd>\n",
       "\t<dt>45_RZ_P</dt>\n",
       "\t\t<dd>0</dd>\n",
       "\t<dt>47_RZ_P</dt>\n",
       "\t\t<dd>0</dd>\n",
       "\t<dt>9_RZ_C</dt>\n",
       "\t\t<dd>0</dd>\n",
       "</dl>\n"
      ],
      "text/latex": [
       "\\begin{description*}\n",
       "\\item[1\\textbackslash{}\\_RZ\\textbackslash{}\\_J] 0\n",
       "\\item[10\\textbackslash{}\\_RZ\\textbackslash{}\\_C] 0\n",
       "\\item[11\\textbackslash{}\\_RZ\\textbackslash{}\\_J] 0\n",
       "\\item[12\\textbackslash{}\\_RZ\\textbackslash{}\\_P] 0\n",
       "\\item[13\\textbackslash{}\\_RZ\\textbackslash{}\\_J] 0\n",
       "\\item[14\\textbackslash{}\\_RZ\\textbackslash{}\\_C] 0\n",
       "\\item[15\\textbackslash{}\\_RZ\\textbackslash{}\\_C] 0\n",
       "\\item[16\\textbackslash{}\\_RZ\\textbackslash{}\\_P] 0.185822038605272\n",
       "\\item[2\\textbackslash{}\\_RZ\\textbackslash{}\\_C] 0\n",
       "\\item[21\\textbackslash{}\\_RZ\\textbackslash{}\\_C] 0\n",
       "\\item[22\\textbackslash{}\\_RZ\\textbackslash{}\\_C] 0.103360871770399\n",
       "\\item[23\\textbackslash{}\\_RZ\\textbackslash{}\\_J] 0\n",
       "\\item[24\\textbackslash{}\\_RZ\\textbackslash{}\\_J] 0\n",
       "\\item[26\\textbackslash{}\\_RZ\\textbackslash{}\\_C] 0\n",
       "\\item[27\\textbackslash{}\\_RZ\\textbackslash{}\\_P] 0\n",
       "\\item[3\\textbackslash{}\\_RZ\\textbackslash{}\\_J] 0\n",
       "\\item[35\\textbackslash{}\\_RZ\\textbackslash{}\\_P] 0\n",
       "\\item[36\\textbackslash{}\\_RZ\\textbackslash{}\\_J] 0\n",
       "\\item[38\\textbackslash{}\\_RZ\\textbackslash{}\\_P] 0\n",
       "\\item[4\\textbackslash{}\\_RZ\\textbackslash{}\\_P] 0\n",
       "\\item[40\\textbackslash{}\\_RZ\\textbackslash{}\\_J] 0\n",
       "\\item[45\\textbackslash{}\\_RZ\\textbackslash{}\\_P] 0\n",
       "\\item[47\\textbackslash{}\\_RZ\\textbackslash{}\\_P] 0\n",
       "\\item[9\\textbackslash{}\\_RZ\\textbackslash{}\\_C] 0\n",
       "\\end{description*}\n"
      ],
      "text/markdown": [
       "1_RZ_J\n",
       ":   010_RZ_C\n",
       ":   011_RZ_J\n",
       ":   012_RZ_P\n",
       ":   013_RZ_J\n",
       ":   014_RZ_C\n",
       ":   015_RZ_C\n",
       ":   016_RZ_P\n",
       ":   0.1858220386052722_RZ_C\n",
       ":   021_RZ_C\n",
       ":   022_RZ_C\n",
       ":   0.10336087177039923_RZ_J\n",
       ":   024_RZ_J\n",
       ":   026_RZ_C\n",
       ":   027_RZ_P\n",
       ":   03_RZ_J\n",
       ":   035_RZ_P\n",
       ":   036_RZ_J\n",
       ":   038_RZ_P\n",
       ":   04_RZ_P\n",
       ":   040_RZ_J\n",
       ":   045_RZ_P\n",
       ":   047_RZ_P\n",
       ":   09_RZ_C\n",
       ":   0\n",
       "\n"
      ],
      "text/plain": [
       "   1_RZ_J   10_RZ_C   11_RZ_J   12_RZ_P   13_RZ_J   14_RZ_C   15_RZ_C   16_RZ_P \n",
       "0.0000000 0.0000000 0.0000000 0.0000000 0.0000000 0.0000000 0.0000000 0.1858220 \n",
       "   2_RZ_C   21_RZ_C   22_RZ_C   23_RZ_J   24_RZ_J   26_RZ_C   27_RZ_P    3_RZ_J \n",
       "0.0000000 0.0000000 0.1033609 0.0000000 0.0000000 0.0000000 0.0000000 0.0000000 \n",
       "  35_RZ_P   36_RZ_J   38_RZ_P    4_RZ_P   40_RZ_J   45_RZ_P   47_RZ_P    9_RZ_C \n",
       "0.0000000 0.0000000 0.0000000 0.0000000 0.0000000 0.0000000 0.0000000 0.0000000 "
      ]
     },
     "metadata": {},
     "output_type": "display_data"
    }
   ],
   "source": [
    "myfpm1 <- cnt1 / D * 1e6\n",
    "myfpm1"
   ]
  },
  {
   "cell_type": "markdown",
   "metadata": {},
   "source": [
    "Let's summarize what we have done:"
   ]
  },
  {
   "cell_type": "code",
   "execution_count": 74,
   "metadata": {},
   "outputs": [
    {
     "data": {
      "text/html": [
       "<table>\n",
       "<thead><tr><th></th><th scope=col>col_sums</th><th scope=col>count_gene1</th><th scope=col>FPM_gene1_manual</th><th scope=col>FPM_gene1_DESeq</th></tr></thead>\n",
       "<tbody>\n",
       "\t<tr><th scope=row>1_RZ_J</th><td> 9475228 </td><td>0        </td><td>0.0000000</td><td>0.0000000</td></tr>\n",
       "\t<tr><th scope=row>10_RZ_C</th><td> 5225990 </td><td>0        </td><td>0.0000000</td><td>0.0000000</td></tr>\n",
       "\t<tr><th scope=row>11_RZ_J</th><td> 7372861 </td><td>0        </td><td>0.0000000</td><td>0.0000000</td></tr>\n",
       "\t<tr><th scope=row>12_RZ_P</th><td> 9424584 </td><td>0        </td><td>0.0000000</td><td>0.0000000</td></tr>\n",
       "\t<tr><th scope=row>13_RZ_J</th><td> 7694026 </td><td>0        </td><td>0.0000000</td><td>0.0000000</td></tr>\n",
       "\t<tr><th scope=row>14_RZ_C</th><td> 6072600 </td><td>0        </td><td>0.0000000</td><td>0.0000000</td></tr>\n",
       "\t<tr><th scope=row>15_RZ_C</th><td> 6878021 </td><td>0        </td><td>0.0000000</td><td>0.0000000</td></tr>\n",
       "\t<tr><th scope=row>16_RZ_P</th><td> 5381493 </td><td>1        </td><td>0.1858220</td><td>0.1858220</td></tr>\n",
       "\t<tr><th scope=row>2_RZ_C</th><td> 7968580 </td><td>0        </td><td>0.0000000</td><td>0.0000000</td></tr>\n",
       "\t<tr><th scope=row>21_RZ_C</th><td> 5576844 </td><td>0        </td><td>0.0000000</td><td>0.0000000</td></tr>\n",
       "\t<tr><th scope=row>22_RZ_C</th><td> 9674841 </td><td>1        </td><td>0.1033609</td><td>0.1033609</td></tr>\n",
       "\t<tr><th scope=row>23_RZ_J</th><td> 7430971 </td><td>0        </td><td>0.0000000</td><td>0.0000000</td></tr>\n",
       "\t<tr><th scope=row>24_RZ_J</th><td> 5618403 </td><td>0        </td><td>0.0000000</td><td>0.0000000</td></tr>\n",
       "\t<tr><th scope=row>26_RZ_C</th><td>10234827 </td><td>0        </td><td>0.0000000</td><td>0.0000000</td></tr>\n",
       "\t<tr><th scope=row>27_RZ_P</th><td> 5365313 </td><td>0        </td><td>0.0000000</td><td>0.0000000</td></tr>\n",
       "\t<tr><th scope=row>3_RZ_J</th><td> 6086446 </td><td>0        </td><td>0.0000000</td><td>0.0000000</td></tr>\n",
       "\t<tr><th scope=row>35_RZ_P</th><td> 5470593 </td><td>0        </td><td>0.0000000</td><td>0.0000000</td></tr>\n",
       "\t<tr><th scope=row>36_RZ_J</th><td> 8613592 </td><td>0        </td><td>0.0000000</td><td>0.0000000</td></tr>\n",
       "\t<tr><th scope=row>38_RZ_P</th><td> 4818290 </td><td>0        </td><td>0.0000000</td><td>0.0000000</td></tr>\n",
       "\t<tr><th scope=row>4_RZ_P</th><td>12634911 </td><td>0        </td><td>0.0000000</td><td>0.0000000</td></tr>\n",
       "\t<tr><th scope=row>40_RZ_J</th><td> 8494294 </td><td>0        </td><td>0.0000000</td><td>0.0000000</td></tr>\n",
       "\t<tr><th scope=row>45_RZ_P</th><td> 7227953 </td><td>0        </td><td>0.0000000</td><td>0.0000000</td></tr>\n",
       "\t<tr><th scope=row>47_RZ_P</th><td> 7038105 </td><td>0        </td><td>0.0000000</td><td>0.0000000</td></tr>\n",
       "\t<tr><th scope=row>9_RZ_C</th><td> 8067172 </td><td>0        </td><td>0.0000000</td><td>0.0000000</td></tr>\n",
       "</tbody>\n",
       "</table>\n"
      ],
      "text/latex": [
       "\\begin{tabular}{r|llll}\n",
       "  & col\\_sums & count\\_gene1 & FPM\\_gene1\\_manual & FPM\\_gene1\\_DESeq\\\\\n",
       "\\hline\n",
       "\t1\\_RZ\\_J &  9475228  & 0         & 0.0000000 & 0.0000000\\\\\n",
       "\t10\\_RZ\\_C &  5225990  & 0         & 0.0000000 & 0.0000000\\\\\n",
       "\t11\\_RZ\\_J &  7372861  & 0         & 0.0000000 & 0.0000000\\\\\n",
       "\t12\\_RZ\\_P &  9424584  & 0         & 0.0000000 & 0.0000000\\\\\n",
       "\t13\\_RZ\\_J &  7694026  & 0         & 0.0000000 & 0.0000000\\\\\n",
       "\t14\\_RZ\\_C &  6072600  & 0         & 0.0000000 & 0.0000000\\\\\n",
       "\t15\\_RZ\\_C &  6878021  & 0         & 0.0000000 & 0.0000000\\\\\n",
       "\t16\\_RZ\\_P &  5381493  & 1         & 0.1858220 & 0.1858220\\\\\n",
       "\t2\\_RZ\\_C &  7968580  & 0         & 0.0000000 & 0.0000000\\\\\n",
       "\t21\\_RZ\\_C &  5576844  & 0         & 0.0000000 & 0.0000000\\\\\n",
       "\t22\\_RZ\\_C &  9674841  & 1         & 0.1033609 & 0.1033609\\\\\n",
       "\t23\\_RZ\\_J &  7430971  & 0         & 0.0000000 & 0.0000000\\\\\n",
       "\t24\\_RZ\\_J &  5618403  & 0         & 0.0000000 & 0.0000000\\\\\n",
       "\t26\\_RZ\\_C & 10234827  & 0         & 0.0000000 & 0.0000000\\\\\n",
       "\t27\\_RZ\\_P &  5365313  & 0         & 0.0000000 & 0.0000000\\\\\n",
       "\t3\\_RZ\\_J &  6086446  & 0         & 0.0000000 & 0.0000000\\\\\n",
       "\t35\\_RZ\\_P &  5470593  & 0         & 0.0000000 & 0.0000000\\\\\n",
       "\t36\\_RZ\\_J &  8613592  & 0         & 0.0000000 & 0.0000000\\\\\n",
       "\t38\\_RZ\\_P &  4818290  & 0         & 0.0000000 & 0.0000000\\\\\n",
       "\t4\\_RZ\\_P & 12634911  & 0         & 0.0000000 & 0.0000000\\\\\n",
       "\t40\\_RZ\\_J &  8494294  & 0         & 0.0000000 & 0.0000000\\\\\n",
       "\t45\\_RZ\\_P &  7227953  & 0         & 0.0000000 & 0.0000000\\\\\n",
       "\t47\\_RZ\\_P &  7038105  & 0         & 0.0000000 & 0.0000000\\\\\n",
       "\t9\\_RZ\\_C &  8067172  & 0         & 0.0000000 & 0.0000000\\\\\n",
       "\\end{tabular}\n"
      ],
      "text/markdown": [
       "\n",
       "| <!--/--> | col_sums | count_gene1 | FPM_gene1_manual | FPM_gene1_DESeq | \n",
       "|---|---|---|---|---|---|---|---|---|---|---|---|---|---|---|---|---|---|---|---|---|---|---|---|\n",
       "| 1_RZ_J |  9475228  | 0         | 0.0000000 | 0.0000000 | \n",
       "| 10_RZ_C |  5225990  | 0         | 0.0000000 | 0.0000000 | \n",
       "| 11_RZ_J |  7372861  | 0         | 0.0000000 | 0.0000000 | \n",
       "| 12_RZ_P |  9424584  | 0         | 0.0000000 | 0.0000000 | \n",
       "| 13_RZ_J |  7694026  | 0         | 0.0000000 | 0.0000000 | \n",
       "| 14_RZ_C |  6072600  | 0         | 0.0000000 | 0.0000000 | \n",
       "| 15_RZ_C |  6878021  | 0         | 0.0000000 | 0.0000000 | \n",
       "| 16_RZ_P |  5381493  | 1         | 0.1858220 | 0.1858220 | \n",
       "| 2_RZ_C |  7968580  | 0         | 0.0000000 | 0.0000000 | \n",
       "| 21_RZ_C |  5576844  | 0         | 0.0000000 | 0.0000000 | \n",
       "| 22_RZ_C |  9674841  | 1         | 0.1033609 | 0.1033609 | \n",
       "| 23_RZ_J |  7430971  | 0         | 0.0000000 | 0.0000000 | \n",
       "| 24_RZ_J |  5618403  | 0         | 0.0000000 | 0.0000000 | \n",
       "| 26_RZ_C | 10234827  | 0         | 0.0000000 | 0.0000000 | \n",
       "| 27_RZ_P |  5365313  | 0         | 0.0000000 | 0.0000000 | \n",
       "| 3_RZ_J |  6086446  | 0         | 0.0000000 | 0.0000000 | \n",
       "| 35_RZ_P |  5470593  | 0         | 0.0000000 | 0.0000000 | \n",
       "| 36_RZ_J |  8613592  | 0         | 0.0000000 | 0.0000000 | \n",
       "| 38_RZ_P |  4818290  | 0         | 0.0000000 | 0.0000000 | \n",
       "| 4_RZ_P | 12634911  | 0         | 0.0000000 | 0.0000000 | \n",
       "| 40_RZ_J |  8494294  | 0         | 0.0000000 | 0.0000000 | \n",
       "| 45_RZ_P |  7227953  | 0         | 0.0000000 | 0.0000000 | \n",
       "| 47_RZ_P |  7038105  | 0         | 0.0000000 | 0.0000000 | \n",
       "| 9_RZ_C |  8067172  | 0         | 0.0000000 | 0.0000000 | \n",
       "\n",
       "\n"
      ],
      "text/plain": [
       "        col_sums count_gene1 FPM_gene1_manual FPM_gene1_DESeq\n",
       "1_RZ_J   9475228 0           0.0000000        0.0000000      \n",
       "10_RZ_C  5225990 0           0.0000000        0.0000000      \n",
       "11_RZ_J  7372861 0           0.0000000        0.0000000      \n",
       "12_RZ_P  9424584 0           0.0000000        0.0000000      \n",
       "13_RZ_J  7694026 0           0.0000000        0.0000000      \n",
       "14_RZ_C  6072600 0           0.0000000        0.0000000      \n",
       "15_RZ_C  6878021 0           0.0000000        0.0000000      \n",
       "16_RZ_P  5381493 1           0.1858220        0.1858220      \n",
       "2_RZ_C   7968580 0           0.0000000        0.0000000      \n",
       "21_RZ_C  5576844 0           0.0000000        0.0000000      \n",
       "22_RZ_C  9674841 1           0.1033609        0.1033609      \n",
       "23_RZ_J  7430971 0           0.0000000        0.0000000      \n",
       "24_RZ_J  5618403 0           0.0000000        0.0000000      \n",
       "26_RZ_C 10234827 0           0.0000000        0.0000000      \n",
       "27_RZ_P  5365313 0           0.0000000        0.0000000      \n",
       "3_RZ_J   6086446 0           0.0000000        0.0000000      \n",
       "35_RZ_P  5470593 0           0.0000000        0.0000000      \n",
       "36_RZ_J  8613592 0           0.0000000        0.0000000      \n",
       "38_RZ_P  4818290 0           0.0000000        0.0000000      \n",
       "4_RZ_P  12634911 0           0.0000000        0.0000000      \n",
       "40_RZ_J  8494294 0           0.0000000        0.0000000      \n",
       "45_RZ_P  7227953 0           0.0000000        0.0000000      \n",
       "47_RZ_P  7038105 0           0.0000000        0.0000000      \n",
       "9_RZ_C   8067172 0           0.0000000        0.0000000      "
      ]
     },
     "metadata": {},
     "output_type": "display_data"
    }
   ],
   "source": [
    "tmp <- bind_rows(D, cnt1, myfpm1, fpm1)\n",
    "tmp <- t(tmp)\n",
    "colnames(tmp) <- c(\"col_sums\", \"count_gene1\", \"FPM_gene1_manual\", \"FPM_gene1_DESeq\")\n",
    "tmp"
   ]
  },
  {
   "cell_type": "markdown",
   "metadata": {},
   "source": [
    "This is how you check if two numeric columns are \"equal\"? One approach is to calculate the maximum absoute difference"
   ]
  },
  {
   "cell_type": "code",
   "execution_count": 75,
   "metadata": {},
   "outputs": [
    {
     "data": {
      "text/html": [
       "0"
      ],
      "text/latex": [
       "0"
      ],
      "text/markdown": [
       "0"
      ],
      "text/plain": [
       "[1] 0"
      ]
     },
     "metadata": {},
     "output_type": "display_data"
    }
   ],
   "source": [
    "max(abs(fpm1 - myfpm1))"
   ]
  },
  {
   "cell_type": "markdown",
   "metadata": {},
   "source": [
    "The above approach is also helpful in establishing if the difference is \"small\". Another approach to test for equality to use the all.equal() function"
   ]
  },
  {
   "cell_type": "code",
   "execution_count": 76,
   "metadata": {},
   "outputs": [
    {
     "data": {
      "text/html": [
       "TRUE"
      ],
      "text/latex": [
       "TRUE"
      ],
      "text/markdown": [
       "TRUE"
      ],
      "text/plain": [
       "[1] TRUE"
      ]
     },
     "metadata": {},
     "output_type": "display_data"
    }
   ],
   "source": [
    "all.equal(fpm1, myfpm1)"
   ]
  },
  {
   "cell_type": "markdown",
   "metadata": {},
   "source": [
    " It is generally a bad idea to compare numeric vectors using == (e.g., fpm1==myfpm1)"
   ]
  },
  {
   "cell_type": "markdown",
   "metadata": {},
   "source": [
    "### FPKM"
   ]
  },
  {
   "cell_type": "markdown",
   "metadata": {},
   "source": [
    " To calculate the FPKM (fragments per kilobase per million mapped fragments) we need to add annotation to assign the feature lengths. More specifically, for gene $i$ sample $j$, the FPKM is defined as $\\frac{K_{ij}}{\\ell_i D_j}\\times 10^3 \\times 10^{6}$ where $\\ell_i$ is the \"length\" of gene $i$ (fragments for each $10^3$ bases in the gene for every  $\\frac{D_j}{10^6}$ fragments. More on this later."
   ]
  },
  {
   "cell_type": "markdown",
   "metadata": {},
   "source": [
    "# Regularized log transformation\n",
    "The regularized log transform can be obtained using the [rlog() function](https://rdrr.io/bioc/DESeq2/man/rlog.html). Note that an important argument for this function is blind (TRUE by default). The default \"blinds\" the normalization to the design. This is very important so as to not bias the analyses (e.g. class discovery) "
   ]
  },
  {
   "cell_type": "code",
   "execution_count": 77,
   "metadata": {},
   "outputs": [],
   "source": [
    "rld <- rlog(dds, blind = TRUE)"
   ]
  },
  {
   "cell_type": "markdown",
   "metadata": {},
   "source": [
    "## Dendrogram of samples: showing strain & media of each sample"
   ]
  },
  {
   "cell_type": "markdown",
   "metadata": {},
   "source": [
    "Hierarchical clustering using rlog transformation"
   ]
  },
  {
   "cell_type": "code",
   "execution_count": 78,
   "metadata": {},
   "outputs": [
    {
     "data": {
      "image/png": "[encoded data removed]",
      "text/plain": [
       "Plot with title “Cluster Dendrogram”"
      ]
     },
     "metadata": {},
     "output_type": "display_data"
    }
   ],
   "source": [
    "options(repr.plot.width = 9, repr.plot.height = 5)\n",
    "dists <- dist(t(assay(rld)))\n",
    "plot(hclust(dists)) "
   ]
  },
  {
   "cell_type": "markdown",
   "metadata": {},
   "source": [
    "Store the dendrogram of samples using hierarchical clustering"
   ]
  },
  {
   "cell_type": "code",
   "execution_count": 79,
   "metadata": {},
   "outputs": [],
   "source": [
    "assay(rld) %>%\n",
    "    t() %>%\n",
    "    dist %>%\n",
    "    hclust(method = \"complete\") %>%\n",
    "    as.dendrogram ->\n",
    "    mydend"
   ]
  },
  {
   "cell_type": "markdown",
   "metadata": {},
   "source": [
    "Dendrogram of samples: showing strain of each sample"
   ]
  },
  {
   "cell_type": "code",
   "execution_count": 80,
   "metadata": {},
   "outputs": [
    {
     "data": {
      "image/png": "[encoded data removed]",
      "text/plain": [
       "plot without title"
      ]
     },
     "metadata": {},
     "output_type": "display_data"
    }
   ],
   "source": [
    "options(repr.plot.width = 9, repr.plot.height = 5)\n",
    "dendplot(mydend, columnData, \n",
    "         \"Strain\",    # variable that show in label\n",
    "         \"Strain\",    # variable that define color\n",
    "         \"Media\") %>% # variable that define shape of points\n",
    "    plot"
   ]
  },
  {
   "cell_type": "markdown",
   "metadata": {},
   "source": [
    "Dendrogram of samples: showing media of each sample"
   ]
  },
  {
   "cell_type": "code",
   "execution_count": 81,
   "metadata": {},
   "outputs": [
    {
     "data": {
      "image/png": "[encoded data removed]",
      "text/plain": [
       "plot without title"
      ]
     },
     "metadata": {},
     "output_type": "display_data"
    }
   ],
   "source": [
    "dendplot(mydend, columnData, \"Media\", \"Strain\", \"Media\") %>% plot"
   ]
  },
  {
   "cell_type": "markdown",
   "metadata": {},
   "source": [
    "PC Analysis using the rlog transformation"
   ]
  },
  {
   "cell_type": "code",
   "execution_count": 82,
   "metadata": {},
   "outputs": [
    {
     "data": {},
     "metadata": {},
     "output_type": "display_data"
    },
    {
     "data": {
      "image/png": "[encoded data removed]",
      "text/plain": [
       "plot without title"
      ]
     },
     "metadata": {},
     "output_type": "display_data"
    }
   ],
   "source": [
    "options(repr.plot.width = 7, repr.plot.height = 4)\n",
    "plotPCA(rld, intgroup = \"Media\")"
   ]
  },
  {
   "cell_type": "markdown",
   "metadata": {},
   "source": [
    "Store the plot into a pdf"
   ]
  },
  {
   "cell_type": "code",
   "execution_count": 83,
   "metadata": {},
   "outputs": [],
   "source": [
    "pdf(file.path(IMGDIR, \"dendrogram.pdf\"))\n",
    "dendplot(mydend, columnData, \"Strain\", \"Strain\", \"Media\") %>% plot\n",
    "dendplot(mydend, columnData, \"Media\", \"Strain\", \"Media\") %>% plot\n",
    "dendplot(mydend, columnData, \"Label\", \"Strain\", \"Media\") %>% plot\n",
    "graphics.off()"
   ]
  },
  {
   "cell_type": "markdown",
   "metadata": {},
   "source": [
    "# Variance Stabilizing Transformation (vst) and mean-variance modelling at the observational level (voom)"
   ]
  },
  {
   "cell_type": "markdown",
   "metadata": {},
   "source": [
    " Two other normalization approaches for RNA-Seq count data are provided by the functions DESeq2::vst and limma::voom (note that for the latter one needs the limma package).From ? DESeq2::vst\n",
    "\"This function calculates a variance stabilizing transformation (VST) from the fitted dispersion-mean relation(s) and then transforms the count data (normalized by division by the size factors or normalization factors), yielding a matrix of values which are now approximately homoskedastic (having constant variance along the range of mean values). The transformation also normalizes with respect to library size.\"Compared to DESeq2::rlog\n",
    "\"The ‘rlog’ is less sensitive to size factors, which can be an issue when size factors vary widely. These transformations are useful when checking for outliers or as input for machine learning techniques such as clustering or linear discriminant analysis.\"From ? limma::voom\n",
    "\"Transform count data to log2-counts per million (logCPM), estimate the mean-variance relationship and use this to compute appropriate observation-level weights. The data are then ready for linear modelling.\" Get VST transformation"
   ]
  },
  {
   "cell_type": "code",
   "execution_count": 84,
   "metadata": {},
   "outputs": [
    {
     "data": {
      "text/html": [
       "'DESeqTransform'"
      ],
      "text/latex": [
       "'DESeqTransform'"
      ],
      "text/markdown": [
       "'DESeqTransform'"
      ],
      "text/plain": [
       "[1] \"DESeqTransform\"\n",
       "attr(,\"package\")\n",
       "[1] \"DESeq2\""
      ]
     },
     "metadata": {},
     "output_type": "display_data"
    }
   ],
   "source": [
    "VST <- vst(dds)\n",
    "class(VST)"
   ]
  },
  {
   "cell_type": "markdown",
   "metadata": {},
   "source": [
    "Get the VST matrix"
   ]
  },
  {
   "cell_type": "code",
   "execution_count": 85,
   "metadata": {},
   "outputs": [
    {
     "data": {
      "text/html": [
       "<ol class=list-inline>\n",
       "\t<li>8497</li>\n",
       "\t<li>24</li>\n",
       "</ol>\n"
      ],
      "text/latex": [
       "\\begin{enumerate*}\n",
       "\\item 8497\n",
       "\\item 24\n",
       "\\end{enumerate*}\n"
      ],
      "text/markdown": [
       "1. 8497\n",
       "2. 24\n",
       "\n",
       "\n"
      ],
      "text/plain": [
       "[1] 8497   24"
      ]
     },
     "metadata": {},
     "output_type": "display_data"
    },
    {
     "data": {
      "text/html": [
       "<table>\n",
       "<thead><tr><th></th><th scope=col>1_RZ_J</th><th scope=col>10_RZ_C</th><th scope=col>11_RZ_J</th><th scope=col>12_RZ_P</th><th scope=col>13_RZ_J</th><th scope=col>14_RZ_C</th><th scope=col>15_RZ_C</th><th scope=col>16_RZ_P</th><th scope=col>2_RZ_C</th><th scope=col>21_RZ_C</th><th scope=col>⋯</th><th scope=col>27_RZ_P</th><th scope=col>3_RZ_J</th><th scope=col>35_RZ_P</th><th scope=col>36_RZ_J</th><th scope=col>38_RZ_P</th><th scope=col>4_RZ_P</th><th scope=col>40_RZ_J</th><th scope=col>45_RZ_P</th><th scope=col>47_RZ_P</th><th scope=col>9_RZ_C</th></tr></thead>\n",
       "<tbody>\n",
       "\t<tr><th scope=row>CNAG_00001</th><td>2.073038 </td><td> 2.073038</td><td> 2.073038</td><td> 2.073038</td><td>2.073038 </td><td>2.073038 </td><td>2.073038 </td><td>2.844284 </td><td>2.073038 </td><td>2.073038 </td><td>⋯        </td><td> 2.073038</td><td>2.073038 </td><td>2.073038 </td><td> 2.073038</td><td>2.073038 </td><td> 2.073038</td><td>2.073038 </td><td> 2.073038</td><td> 2.073038</td><td> 2.073038</td></tr>\n",
       "\t<tr><th scope=row>CNAG_00002</th><td>7.307957 </td><td> 6.673620</td><td> 6.500569</td><td> 6.590781</td><td>7.342916 </td><td>7.241168 </td><td>7.211645 </td><td>7.385095 </td><td>7.246668 </td><td>6.774314 </td><td>⋯        </td><td> 7.226869</td><td>7.059856 </td><td>7.428996 </td><td> 6.741821</td><td>7.233868 </td><td> 7.442162</td><td>7.268060 </td><td> 7.175749</td><td> 6.980962</td><td> 6.545140</td></tr>\n",
       "\t<tr><th scope=row>CNAG_00003</th><td>5.224344 </td><td> 5.231846</td><td> 4.571555</td><td> 5.779419</td><td>5.508795 </td><td>5.635159 </td><td>5.517584 </td><td>5.842050 </td><td>5.398441 </td><td>5.373407 </td><td>⋯        </td><td> 5.231140</td><td>5.169613 </td><td>5.184178 </td><td> 5.554759</td><td>6.180871 </td><td> 5.450436</td><td>5.353070 </td><td> 5.894957</td><td> 5.680429</td><td> 5.171658</td></tr>\n",
       "\t<tr><th scope=row>CNAG_00004</th><td>7.327936 </td><td> 7.511128</td><td> 7.396494</td><td> 7.802302</td><td>8.095737 </td><td>8.197471 </td><td>8.225972 </td><td>8.327048 </td><td>7.371125 </td><td>8.038955 </td><td>⋯        </td><td> 7.589485</td><td>7.426655 </td><td>7.984543 </td><td> 7.580267</td><td>8.004903 </td><td> 7.414955</td><td>8.142860 </td><td> 8.099227</td><td> 8.230315</td><td> 7.617071</td></tr>\n",
       "\t<tr><th scope=row>CNAG_00005</th><td>6.647388 </td><td> 5.279052</td><td> 5.192438</td><td> 4.597741</td><td>7.158939 </td><td>7.218497 </td><td>7.120205 </td><td>7.330916 </td><td>6.802973 </td><td>6.752604 </td><td>⋯        </td><td> 6.332550</td><td>6.435784 </td><td>7.465176 </td><td> 5.879266</td><td>7.033926 </td><td> 6.482041</td><td>7.458369 </td><td> 6.625320</td><td> 7.051509</td><td> 5.325893</td></tr>\n",
       "\t<tr><th scope=row>CNAG_00006</th><td>9.909267 </td><td>10.301145</td><td>10.223828</td><td>10.326330</td><td>9.595996 </td><td>9.449128 </td><td>9.548082 </td><td>9.589901 </td><td>9.836437 </td><td>9.827626 </td><td>⋯        </td><td>10.364245</td><td>9.930142 </td><td>9.904755 </td><td>10.739232</td><td>9.887376 </td><td>10.028128</td><td>9.908365 </td><td>10.259825</td><td>10.230639</td><td>10.253532</td></tr>\n",
       "\t<tr><th scope=row>CNAG_00007</th><td>9.475844 </td><td> 9.702554</td><td> 9.642834</td><td> 9.950024</td><td>8.486375 </td><td>8.499511 </td><td>8.572056 </td><td>8.807317 </td><td>9.531200 </td><td>8.578164 </td><td>⋯        </td><td> 9.792811</td><td>9.443094 </td><td>8.171277 </td><td> 9.714743</td><td>8.480584 </td><td> 9.668222</td><td>8.315820 </td><td> 8.861962</td><td> 8.705012</td><td> 9.600738</td></tr>\n",
       "\t<tr><th scope=row>CNAG_00008</th><td>8.938087 </td><td> 8.783145</td><td> 8.609059</td><td> 8.479207</td><td>8.867723 </td><td>9.024129 </td><td>9.080850 </td><td>8.795370 </td><td>9.032569 </td><td>9.040775 </td><td>⋯        </td><td> 8.757807</td><td>8.905984 </td><td>8.782267 </td><td> 8.659578</td><td>8.985636 </td><td> 8.307499</td><td>8.853743 </td><td> 8.723926</td><td> 8.755147</td><td> 8.565051</td></tr>\n",
       "\t<tr><th scope=row>CNAG_00009</th><td>8.252598 </td><td> 7.641807</td><td> 7.649028</td><td> 7.495834</td><td>7.841405 </td><td>7.814938 </td><td>7.855029 </td><td>7.690601 </td><td>8.231802 </td><td>7.979528 </td><td>⋯        </td><td> 7.918756</td><td>8.298180 </td><td>7.568565 </td><td> 7.679306</td><td>7.531241 </td><td> 7.919575</td><td>7.552036 </td><td> 7.870361</td><td> 7.876195</td><td> 7.634683</td></tr>\n",
       "\t<tr><th scope=row>CNAG_00010</th><td>8.210191 </td><td> 8.958114</td><td> 8.780339</td><td> 9.009210</td><td>8.735679 </td><td>8.982157 </td><td>8.931729 </td><td>9.151459 </td><td>8.466029 </td><td>8.749388 </td><td>⋯        </td><td> 8.426330</td><td>8.426343 </td><td>8.393988 </td><td> 8.777492</td><td>8.602302 </td><td> 8.307499</td><td>8.698604 </td><td> 8.528256</td><td> 8.857048</td><td> 8.884915</td></tr>\n",
       "</tbody>\n",
       "</table>\n"
      ],
      "text/latex": [
       "\\begin{tabular}{r|llllllllllllllllllllllll}\n",
       "  & 1\\_RZ\\_J & 10\\_RZ\\_C & 11\\_RZ\\_J & 12\\_RZ\\_P & 13\\_RZ\\_J & 14\\_RZ\\_C & 15\\_RZ\\_C & 16\\_RZ\\_P & 2\\_RZ\\_C & 21\\_RZ\\_C & ⋯ & 27\\_RZ\\_P & 3\\_RZ\\_J & 35\\_RZ\\_P & 36\\_RZ\\_J & 38\\_RZ\\_P & 4\\_RZ\\_P & 40\\_RZ\\_J & 45\\_RZ\\_P & 47\\_RZ\\_P & 9\\_RZ\\_C\\\\\n",
       "\\hline\n",
       "\tCNAG\\_00001 & 2.073038  &  2.073038 &  2.073038 &  2.073038 & 2.073038  & 2.073038  & 2.073038  & 2.844284  & 2.073038  & 2.073038  & ⋯         &  2.073038 & 2.073038  & 2.073038  &  2.073038 & 2.073038  &  2.073038 & 2.073038  &  2.073038 &  2.073038 &  2.073038\\\\\n",
       "\tCNAG\\_00002 & 7.307957  &  6.673620 &  6.500569 &  6.590781 & 7.342916  & 7.241168  & 7.211645  & 7.385095  & 7.246668  & 6.774314  & ⋯         &  7.226869 & 7.059856  & 7.428996  &  6.741821 & 7.233868  &  7.442162 & 7.268060  &  7.175749 &  6.980962 &  6.545140\\\\\n",
       "\tCNAG\\_00003 & 5.224344  &  5.231846 &  4.571555 &  5.779419 & 5.508795  & 5.635159  & 5.517584  & 5.842050  & 5.398441  & 5.373407  & ⋯         &  5.231140 & 5.169613  & 5.184178  &  5.554759 & 6.180871  &  5.450436 & 5.353070  &  5.894957 &  5.680429 &  5.171658\\\\\n",
       "\tCNAG\\_00004 & 7.327936  &  7.511128 &  7.396494 &  7.802302 & 8.095737  & 8.197471  & 8.225972  & 8.327048  & 7.371125  & 8.038955  & ⋯         &  7.589485 & 7.426655  & 7.984543  &  7.580267 & 8.004903  &  7.414955 & 8.142860  &  8.099227 &  8.230315 &  7.617071\\\\\n",
       "\tCNAG\\_00005 & 6.647388  &  5.279052 &  5.192438 &  4.597741 & 7.158939  & 7.218497  & 7.120205  & 7.330916  & 6.802973  & 6.752604  & ⋯         &  6.332550 & 6.435784  & 7.465176  &  5.879266 & 7.033926  &  6.482041 & 7.458369  &  6.625320 &  7.051509 &  5.325893\\\\\n",
       "\tCNAG\\_00006 & 9.909267  & 10.301145 & 10.223828 & 10.326330 & 9.595996  & 9.449128  & 9.548082  & 9.589901  & 9.836437  & 9.827626  & ⋯         & 10.364245 & 9.930142  & 9.904755  & 10.739232 & 9.887376  & 10.028128 & 9.908365  & 10.259825 & 10.230639 & 10.253532\\\\\n",
       "\tCNAG\\_00007 & 9.475844  &  9.702554 &  9.642834 &  9.950024 & 8.486375  & 8.499511  & 8.572056  & 8.807317  & 9.531200  & 8.578164  & ⋯         &  9.792811 & 9.443094  & 8.171277  &  9.714743 & 8.480584  &  9.668222 & 8.315820  &  8.861962 &  8.705012 &  9.600738\\\\\n",
       "\tCNAG\\_00008 & 8.938087  &  8.783145 &  8.609059 &  8.479207 & 8.867723  & 9.024129  & 9.080850  & 8.795370  & 9.032569  & 9.040775  & ⋯         &  8.757807 & 8.905984  & 8.782267  &  8.659578 & 8.985636  &  8.307499 & 8.853743  &  8.723926 &  8.755147 &  8.565051\\\\\n",
       "\tCNAG\\_00009 & 8.252598  &  7.641807 &  7.649028 &  7.495834 & 7.841405  & 7.814938  & 7.855029  & 7.690601  & 8.231802  & 7.979528  & ⋯         &  7.918756 & 8.298180  & 7.568565  &  7.679306 & 7.531241  &  7.919575 & 7.552036  &  7.870361 &  7.876195 &  7.634683\\\\\n",
       "\tCNAG\\_00010 & 8.210191  &  8.958114 &  8.780339 &  9.009210 & 8.735679  & 8.982157  & 8.931729  & 9.151459  & 8.466029  & 8.749388  & ⋯         &  8.426330 & 8.426343  & 8.393988  &  8.777492 & 8.602302  &  8.307499 & 8.698604  &  8.528256 &  8.857048 &  8.884915\\\\\n",
       "\\end{tabular}\n"
      ],
      "text/markdown": [
       "\n",
       "| <!--/--> | 1_RZ_J | 10_RZ_C | 11_RZ_J | 12_RZ_P | 13_RZ_J | 14_RZ_C | 15_RZ_C | 16_RZ_P | 2_RZ_C | 21_RZ_C | ⋯ | 27_RZ_P | 3_RZ_J | 35_RZ_P | 36_RZ_J | 38_RZ_P | 4_RZ_P | 40_RZ_J | 45_RZ_P | 47_RZ_P | 9_RZ_C | \n",
       "|---|---|---|---|---|---|---|---|---|---|\n",
       "| CNAG_00001 | 2.073038  |  2.073038 |  2.073038 |  2.073038 | 2.073038  | 2.073038  | 2.073038  | 2.844284  | 2.073038  | 2.073038  | ⋯         |  2.073038 | 2.073038  | 2.073038  |  2.073038 | 2.073038  |  2.073038 | 2.073038  |  2.073038 |  2.073038 |  2.073038 | \n",
       "| CNAG_00002 | 7.307957  |  6.673620 |  6.500569 |  6.590781 | 7.342916  | 7.241168  | 7.211645  | 7.385095  | 7.246668  | 6.774314  | ⋯         |  7.226869 | 7.059856  | 7.428996  |  6.741821 | 7.233868  |  7.442162 | 7.268060  |  7.175749 |  6.980962 |  6.545140 | \n",
       "| CNAG_00003 | 5.224344  |  5.231846 |  4.571555 |  5.779419 | 5.508795  | 5.635159  | 5.517584  | 5.842050  | 5.398441  | 5.373407  | ⋯         |  5.231140 | 5.169613  | 5.184178  |  5.554759 | 6.180871  |  5.450436 | 5.353070  |  5.894957 |  5.680429 |  5.171658 | \n",
       "| CNAG_00004 | 7.327936  |  7.511128 |  7.396494 |  7.802302 | 8.095737  | 8.197471  | 8.225972  | 8.327048  | 7.371125  | 8.038955  | ⋯         |  7.589485 | 7.426655  | 7.984543  |  7.580267 | 8.004903  |  7.414955 | 8.142860  |  8.099227 |  8.230315 |  7.617071 | \n",
       "| CNAG_00005 | 6.647388  |  5.279052 |  5.192438 |  4.597741 | 7.158939  | 7.218497  | 7.120205  | 7.330916  | 6.802973  | 6.752604  | ⋯         |  6.332550 | 6.435784  | 7.465176  |  5.879266 | 7.033926  |  6.482041 | 7.458369  |  6.625320 |  7.051509 |  5.325893 | \n",
       "| CNAG_00006 | 9.909267  | 10.301145 | 10.223828 | 10.326330 | 9.595996  | 9.449128  | 9.548082  | 9.589901  | 9.836437  | 9.827626  | ⋯         | 10.364245 | 9.930142  | 9.904755  | 10.739232 | 9.887376  | 10.028128 | 9.908365  | 10.259825 | 10.230639 | 10.253532 | \n",
       "| CNAG_00007 | 9.475844  |  9.702554 |  9.642834 |  9.950024 | 8.486375  | 8.499511  | 8.572056  | 8.807317  | 9.531200  | 8.578164  | ⋯         |  9.792811 | 9.443094  | 8.171277  |  9.714743 | 8.480584  |  9.668222 | 8.315820  |  8.861962 |  8.705012 |  9.600738 | \n",
       "| CNAG_00008 | 8.938087  |  8.783145 |  8.609059 |  8.479207 | 8.867723  | 9.024129  | 9.080850  | 8.795370  | 9.032569  | 9.040775  | ⋯         |  8.757807 | 8.905984  | 8.782267  |  8.659578 | 8.985636  |  8.307499 | 8.853743  |  8.723926 |  8.755147 |  8.565051 | \n",
       "| CNAG_00009 | 8.252598  |  7.641807 |  7.649028 |  7.495834 | 7.841405  | 7.814938  | 7.855029  | 7.690601  | 8.231802  | 7.979528  | ⋯         |  7.918756 | 8.298180  | 7.568565  |  7.679306 | 7.531241  |  7.919575 | 7.552036  |  7.870361 |  7.876195 |  7.634683 | \n",
       "| CNAG_00010 | 8.210191  |  8.958114 |  8.780339 |  9.009210 | 8.735679  | 8.982157  | 8.931729  | 9.151459  | 8.466029  | 8.749388  | ⋯         |  8.426330 | 8.426343  | 8.393988  |  8.777492 | 8.602302  |  8.307499 | 8.698604  |  8.528256 |  8.857048 |  8.884915 | \n",
       "\n",
       "\n"
      ],
      "text/plain": [
       "           1_RZ_J   10_RZ_C   11_RZ_J   12_RZ_P   13_RZ_J  14_RZ_C  15_RZ_C \n",
       "CNAG_00001 2.073038  2.073038  2.073038  2.073038 2.073038 2.073038 2.073038\n",
       "CNAG_00002 7.307957  6.673620  6.500569  6.590781 7.342916 7.241168 7.211645\n",
       "CNAG_00003 5.224344  5.231846  4.571555  5.779419 5.508795 5.635159 5.517584\n",
       "CNAG_00004 7.327936  7.511128  7.396494  7.802302 8.095737 8.197471 8.225972\n",
       "CNAG_00005 6.647388  5.279052  5.192438  4.597741 7.158939 7.218497 7.120205\n",
       "CNAG_00006 9.909267 10.301145 10.223828 10.326330 9.595996 9.449128 9.548082\n",
       "CNAG_00007 9.475844  9.702554  9.642834  9.950024 8.486375 8.499511 8.572056\n",
       "CNAG_00008 8.938087  8.783145  8.609059  8.479207 8.867723 9.024129 9.080850\n",
       "CNAG_00009 8.252598  7.641807  7.649028  7.495834 7.841405 7.814938 7.855029\n",
       "CNAG_00010 8.210191  8.958114  8.780339  9.009210 8.735679 8.982157 8.931729\n",
       "           16_RZ_P  2_RZ_C   21_RZ_C  ⋯ 27_RZ_P   3_RZ_J   35_RZ_P  36_RZ_J  \n",
       "CNAG_00001 2.844284 2.073038 2.073038 ⋯  2.073038 2.073038 2.073038  2.073038\n",
       "CNAG_00002 7.385095 7.246668 6.774314 ⋯  7.226869 7.059856 7.428996  6.741821\n",
       "CNAG_00003 5.842050 5.398441 5.373407 ⋯  5.231140 5.169613 5.184178  5.554759\n",
       "CNAG_00004 8.327048 7.371125 8.038955 ⋯  7.589485 7.426655 7.984543  7.580267\n",
       "CNAG_00005 7.330916 6.802973 6.752604 ⋯  6.332550 6.435784 7.465176  5.879266\n",
       "CNAG_00006 9.589901 9.836437 9.827626 ⋯ 10.364245 9.930142 9.904755 10.739232\n",
       "CNAG_00007 8.807317 9.531200 8.578164 ⋯  9.792811 9.443094 8.171277  9.714743\n",
       "CNAG_00008 8.795370 9.032569 9.040775 ⋯  8.757807 8.905984 8.782267  8.659578\n",
       "CNAG_00009 7.690601 8.231802 7.979528 ⋯  7.918756 8.298180 7.568565  7.679306\n",
       "CNAG_00010 9.151459 8.466029 8.749388 ⋯  8.426330 8.426343 8.393988  8.777492\n",
       "           38_RZ_P  4_RZ_P    40_RZ_J  45_RZ_P   47_RZ_P   9_RZ_C   \n",
       "CNAG_00001 2.073038  2.073038 2.073038  2.073038  2.073038  2.073038\n",
       "CNAG_00002 7.233868  7.442162 7.268060  7.175749  6.980962  6.545140\n",
       "CNAG_00003 6.180871  5.450436 5.353070  5.894957  5.680429  5.171658\n",
       "CNAG_00004 8.004903  7.414955 8.142860  8.099227  8.230315  7.617071\n",
       "CNAG_00005 7.033926  6.482041 7.458369  6.625320  7.051509  5.325893\n",
       "CNAG_00006 9.887376 10.028128 9.908365 10.259825 10.230639 10.253532\n",
       "CNAG_00007 8.480584  9.668222 8.315820  8.861962  8.705012  9.600738\n",
       "CNAG_00008 8.985636  8.307499 8.853743  8.723926  8.755147  8.565051\n",
       "CNAG_00009 7.531241  7.919575 7.552036  7.870361  7.876195  7.634683\n",
       "CNAG_00010 8.602302  8.307499 8.698604  8.528256  8.857048  8.884915"
      ]
     },
     "metadata": {},
     "output_type": "display_data"
    }
   ],
   "source": [
    "VSTmat <- assay(VST)\n",
    "dim(VSTmat)\n",
    "VSTmat[1:10,]"
   ]
  },
  {
   "cell_type": "markdown",
   "metadata": {},
   "source": [
    "Get voom transformation (note that according to ? limma::voom, the function is expecting raw counts"
   ]
  },
  {
   "cell_type": "code",
   "execution_count": 86,
   "metadata": {},
   "outputs": [],
   "source": [
    "VOOM <- limma::voom(counts(dds))"
   ]
  },
  {
   "cell_type": "markdown",
   "metadata": {},
   "source": [
    "Get the VOOM matrix"
   ]
  },
  {
   "cell_type": "code",
   "execution_count": 87,
   "metadata": {},
   "outputs": [
    {
     "data": {
      "text/html": [
       "<ol class=list-inline>\n",
       "\t<li>8497</li>\n",
       "\t<li>24</li>\n",
       "</ol>\n"
      ],
      "text/latex": [
       "\\begin{enumerate*}\n",
       "\\item 8497\n",
       "\\item 24\n",
       "\\end{enumerate*}\n"
      ],
      "text/markdown": [
       "1. 8497\n",
       "2. 24\n",
       "\n",
       "\n"
      ],
      "text/plain": [
       "[1] 8497   24"
      ]
     },
     "metadata": {},
     "output_type": "display_data"
    },
    {
     "data": {
      "text/html": [
       "<table>\n",
       "<thead><tr><th></th><th scope=col>1_RZ_J</th><th scope=col>10_RZ_C</th><th scope=col>11_RZ_J</th><th scope=col>12_RZ_P</th><th scope=col>13_RZ_J</th><th scope=col>14_RZ_C</th><th scope=col>15_RZ_C</th><th scope=col>16_RZ_P</th><th scope=col>2_RZ_C</th><th scope=col>21_RZ_C</th><th scope=col>⋯</th><th scope=col>27_RZ_P</th><th scope=col>3_RZ_J</th><th scope=col>35_RZ_P</th><th scope=col>36_RZ_J</th><th scope=col>38_RZ_P</th><th scope=col>4_RZ_P</th><th scope=col>40_RZ_J</th><th scope=col>45_RZ_P</th><th scope=col>47_RZ_P</th><th scope=col>9_RZ_C</th></tr></thead>\n",
       "<tbody>\n",
       "\t<tr><th scope=row>CNAG_00001</th><td>-4.244161 </td><td>-3.385705 </td><td>-3.882225 </td><td>-4.2364291</td><td>-3.943739 </td><td>-3.602315 </td><td>-3.781994 </td><td>-1.843044 </td><td>-3.994323 </td><td>-3.479449 </td><td>⋯         </td><td>-3.4236626</td><td>-3.605600 </td><td>-3.451697 </td><td>-4.106615 </td><td>-3.268522 </td><td>-4.6593437</td><td>-4.086494 </td><td>-3.853587 </td><td>-3.815187 </td><td>-4.012063 </td></tr>\n",
       "\t<tr><th scope=row>CNAG_00002</th><td> 4.431796 </td><td> 3.871683 </td><td> 3.649157 </td><td> 2.7747982</td><td> 4.904884 </td><td> 4.909438 </td><td> 4.865465 </td><td> 4.588802 </td><td> 4.402282 </td><td> 4.480553 </td><td>⋯         </td><td> 3.0192809</td><td> 4.142593 </td><td> 4.781922 </td><td> 3.668172 </td><td> 4.308907 </td><td> 2.0271568</td><td> 4.793089 </td><td> 4.083051 </td><td> 3.998594 </td><td> 3.722646 </td></tr>\n",
       "\t<tr><th scope=row>CNAG_00003</th><td> 2.095689 </td><td> 2.229005 </td><td> 1.327229 </td><td> 1.8720954</td><td> 2.876440 </td><td> 3.139152 </td><td> 2.986191 </td><td> 2.911843 </td><td> 2.345527 </td><td> 2.895590 </td><td>⋯         </td><td> 0.8242649</td><td> 2.009110 </td><td> 2.276223 </td><td> 2.336328 </td><td> 3.174422 </td><td>-0.1357818</td><td> 2.654973 </td><td> 2.685571 </td><td> 2.559852 </td><td> 2.137684 </td></tr>\n",
       "\t<tr><th scope=row>CNAG_00004</th><td> 4.452807 </td><td> 4.758954 </td><td> 4.605615 </td><td> 4.0535898</td><td> 5.687438 </td><td> 5.903497 </td><td> 5.920179 </td><td> 5.563515 </td><td> 4.533154 </td><td> 5.808263 </td><td>⋯         </td><td> 3.3965164</td><td> 4.528826 </td><td> 5.358874 </td><td> 4.555163 </td><td> 5.110857 </td><td> 1.9988678</td><td> 5.703039 </td><td> 5.044258 </td><td> 5.301157 </td><td> 4.861381 </td></tr>\n",
       "\t<tr><th scope=row>CNAG_00005</th><td> 3.727383 </td><td> 2.286721 </td><td> 2.140143 </td><td> 0.4074271</td><td> 4.710897 </td><td> 4.885525 </td><td> 4.768753 </td><td> 4.531995 </td><td> 3.930490 </td><td> 4.457189 </td><td>⋯         </td><td> 2.0681905</td><td> 3.471215 </td><td> 4.819766 </td><td> 2.713564 </td><td> 4.097801 </td><td> 1.0130816</td><td> 4.992991 </td><td> 3.495141 </td><td> 4.073556 </td><td> 2.327787 </td></tr>\n",
       "\t<tr><th scope=row>CNAG_00006</th><td> 7.095132 </td><td> 7.602270 </td><td> 7.492271 </td><td> 6.6192181</td><td> 7.215502 </td><td> 7.178225 </td><td> 7.265812 </td><td> 6.846954 </td><td> 7.056206 </td><td> 7.628422 </td><td>⋯         </td><td> 6.2147733</td><td> 7.087015 </td><td> 7.312345 </td><td> 7.767982 </td><td> 7.024950 </td><td> 4.6603284</td><td> 7.497999 </td><td> 7.237187 </td><td> 7.330108 </td><td> 7.547792 </td></tr>\n",
       "\t<tr><th scope=row>CNAG_00007</th><td> 6.657460 </td><td> 6.999079 </td><td> 6.906494 </td><td> 6.2403171</td><td> 6.088307 </td><td> 6.213069 </td><td> 6.274644 </td><td> 6.053793 </td><td> 6.747987 </td><td> 6.361329 </td><td>⋯         </td><td> 5.6397325</td><td> 6.595298 </td><td> 5.551118 </td><td> 6.736521 </td><td> 5.598757 </td><td> 4.2977583</td><td> 5.880732 </td><td> 5.824132 </td><td> 5.786584 </td><td> 6.889558 </td></tr>\n",
       "\t<tr><th scope=row>CNAG_00008</th><td> 6.112291 </td><td> 6.067566 </td><td> 5.857556 </td><td> 4.7494128</td><td> 6.477274 </td><td> 6.747520 </td><td> 6.792600 </td><td> 6.041635 </td><td> 6.242887 </td><td> 6.832299 </td><td>⋯         </td><td> 4.5931457</td><td> 6.050825 </td><td> 6.175836 </td><td> 5.666524 </td><td> 6.113021 </td><td> 2.9180851</td><td> 6.430191 </td><td> 5.683631 </td><td> 5.837658 </td><td> 5.838124 </td></tr>\n",
       "\t<tr><th scope=row>CNAG_00009</th><td> 5.412264 </td><td> 4.895066 </td><td> 4.869319 </td><td> 3.7351145</td><td> 5.424768 </td><td> 5.508821 </td><td> 5.537678 </td><td> 4.907384 </td><td> 5.425637 </td><td> 5.746963 </td><td>⋯         </td><td> 3.7362087</td><td> 5.430573 </td><td> 4.927681 </td><td> 4.658256 </td><td> 4.620222 </td><td> 2.5205654</td><td> 5.090925 </td><td> 4.808191 </td><td> 4.936357 </td><td> 4.879721 </td></tr>\n",
       "\t<tr><th scope=row>CNAG_00010</th><td> 5.368708 </td><td> 6.245472 </td><td> 6.032160 </td><td> 5.2890917</td><td> 6.342819 </td><td> 6.704886 </td><td> 6.641122 </td><td> 6.403300 </td><td> 5.665673 </td><td> 6.535966 </td><td>⋯         </td><td> 4.2558175</td><td> 5.561818 </td><td> 5.779524 </td><td> 5.786686 </td><td> 5.723000 </td><td> 2.9180851</td><td> 6.272157 </td><td> 5.484035 </td><td> 5.941369 </td><td> 6.164110 </td></tr>\n",
       "</tbody>\n",
       "</table>\n"
      ],
      "text/latex": [
       "\\begin{tabular}{r|llllllllllllllllllllllll}\n",
       "  & 1\\_RZ\\_J & 10\\_RZ\\_C & 11\\_RZ\\_J & 12\\_RZ\\_P & 13\\_RZ\\_J & 14\\_RZ\\_C & 15\\_RZ\\_C & 16\\_RZ\\_P & 2\\_RZ\\_C & 21\\_RZ\\_C & ⋯ & 27\\_RZ\\_P & 3\\_RZ\\_J & 35\\_RZ\\_P & 36\\_RZ\\_J & 38\\_RZ\\_P & 4\\_RZ\\_P & 40\\_RZ\\_J & 45\\_RZ\\_P & 47\\_RZ\\_P & 9\\_RZ\\_C\\\\\n",
       "\\hline\n",
       "\tCNAG\\_00001 & -4.244161  & -3.385705  & -3.882225  & -4.2364291 & -3.943739  & -3.602315  & -3.781994  & -1.843044  & -3.994323  & -3.479449  & ⋯          & -3.4236626 & -3.605600  & -3.451697  & -4.106615  & -3.268522  & -4.6593437 & -4.086494  & -3.853587  & -3.815187  & -4.012063 \\\\\n",
       "\tCNAG\\_00002 &  4.431796  &  3.871683  &  3.649157  &  2.7747982 &  4.904884  &  4.909438  &  4.865465  &  4.588802  &  4.402282  &  4.480553  & ⋯          &  3.0192809 &  4.142593  &  4.781922  &  3.668172  &  4.308907  &  2.0271568 &  4.793089  &  4.083051  &  3.998594  &  3.722646 \\\\\n",
       "\tCNAG\\_00003 &  2.095689  &  2.229005  &  1.327229  &  1.8720954 &  2.876440  &  3.139152  &  2.986191  &  2.911843  &  2.345527  &  2.895590  & ⋯          &  0.8242649 &  2.009110  &  2.276223  &  2.336328  &  3.174422  & -0.1357818 &  2.654973  &  2.685571  &  2.559852  &  2.137684 \\\\\n",
       "\tCNAG\\_00004 &  4.452807  &  4.758954  &  4.605615  &  4.0535898 &  5.687438  &  5.903497  &  5.920179  &  5.563515  &  4.533154  &  5.808263  & ⋯          &  3.3965164 &  4.528826  &  5.358874  &  4.555163  &  5.110857  &  1.9988678 &  5.703039  &  5.044258  &  5.301157  &  4.861381 \\\\\n",
       "\tCNAG\\_00005 &  3.727383  &  2.286721  &  2.140143  &  0.4074271 &  4.710897  &  4.885525  &  4.768753  &  4.531995  &  3.930490  &  4.457189  & ⋯          &  2.0681905 &  3.471215  &  4.819766  &  2.713564  &  4.097801  &  1.0130816 &  4.992991  &  3.495141  &  4.073556  &  2.327787 \\\\\n",
       "\tCNAG\\_00006 &  7.095132  &  7.602270  &  7.492271  &  6.6192181 &  7.215502  &  7.178225  &  7.265812  &  6.846954  &  7.056206  &  7.628422  & ⋯          &  6.2147733 &  7.087015  &  7.312345  &  7.767982  &  7.024950  &  4.6603284 &  7.497999  &  7.237187  &  7.330108  &  7.547792 \\\\\n",
       "\tCNAG\\_00007 &  6.657460  &  6.999079  &  6.906494  &  6.2403171 &  6.088307  &  6.213069  &  6.274644  &  6.053793  &  6.747987  &  6.361329  & ⋯          &  5.6397325 &  6.595298  &  5.551118  &  6.736521  &  5.598757  &  4.2977583 &  5.880732  &  5.824132  &  5.786584  &  6.889558 \\\\\n",
       "\tCNAG\\_00008 &  6.112291  &  6.067566  &  5.857556  &  4.7494128 &  6.477274  &  6.747520  &  6.792600  &  6.041635  &  6.242887  &  6.832299  & ⋯          &  4.5931457 &  6.050825  &  6.175836  &  5.666524  &  6.113021  &  2.9180851 &  6.430191  &  5.683631  &  5.837658  &  5.838124 \\\\\n",
       "\tCNAG\\_00009 &  5.412264  &  4.895066  &  4.869319  &  3.7351145 &  5.424768  &  5.508821  &  5.537678  &  4.907384  &  5.425637  &  5.746963  & ⋯          &  3.7362087 &  5.430573  &  4.927681  &  4.658256  &  4.620222  &  2.5205654 &  5.090925  &  4.808191  &  4.936357  &  4.879721 \\\\\n",
       "\tCNAG\\_00010 &  5.368708  &  6.245472  &  6.032160  &  5.2890917 &  6.342819  &  6.704886  &  6.641122  &  6.403300  &  5.665673  &  6.535966  & ⋯          &  4.2558175 &  5.561818  &  5.779524  &  5.786686  &  5.723000  &  2.9180851 &  6.272157  &  5.484035  &  5.941369  &  6.164110 \\\\\n",
       "\\end{tabular}\n"
      ],
      "text/markdown": [
       "\n",
       "| <!--/--> | 1_RZ_J | 10_RZ_C | 11_RZ_J | 12_RZ_P | 13_RZ_J | 14_RZ_C | 15_RZ_C | 16_RZ_P | 2_RZ_C | 21_RZ_C | ⋯ | 27_RZ_P | 3_RZ_J | 35_RZ_P | 36_RZ_J | 38_RZ_P | 4_RZ_P | 40_RZ_J | 45_RZ_P | 47_RZ_P | 9_RZ_C | \n",
       "|---|---|---|---|---|---|---|---|---|---|\n",
       "| CNAG_00001 | -4.244161  | -3.385705  | -3.882225  | -4.2364291 | -3.943739  | -3.602315  | -3.781994  | -1.843044  | -3.994323  | -3.479449  | ⋯          | -3.4236626 | -3.605600  | -3.451697  | -4.106615  | -3.268522  | -4.6593437 | -4.086494  | -3.853587  | -3.815187  | -4.012063  | \n",
       "| CNAG_00002 |  4.431796  |  3.871683  |  3.649157  |  2.7747982 |  4.904884  |  4.909438  |  4.865465  |  4.588802  |  4.402282  |  4.480553  | ⋯          |  3.0192809 |  4.142593  |  4.781922  |  3.668172  |  4.308907  |  2.0271568 |  4.793089  |  4.083051  |  3.998594  |  3.722646  | \n",
       "| CNAG_00003 |  2.095689  |  2.229005  |  1.327229  |  1.8720954 |  2.876440  |  3.139152  |  2.986191  |  2.911843  |  2.345527  |  2.895590  | ⋯          |  0.8242649 |  2.009110  |  2.276223  |  2.336328  |  3.174422  | -0.1357818 |  2.654973  |  2.685571  |  2.559852  |  2.137684  | \n",
       "| CNAG_00004 |  4.452807  |  4.758954  |  4.605615  |  4.0535898 |  5.687438  |  5.903497  |  5.920179  |  5.563515  |  4.533154  |  5.808263  | ⋯          |  3.3965164 |  4.528826  |  5.358874  |  4.555163  |  5.110857  |  1.9988678 |  5.703039  |  5.044258  |  5.301157  |  4.861381  | \n",
       "| CNAG_00005 |  3.727383  |  2.286721  |  2.140143  |  0.4074271 |  4.710897  |  4.885525  |  4.768753  |  4.531995  |  3.930490  |  4.457189  | ⋯          |  2.0681905 |  3.471215  |  4.819766  |  2.713564  |  4.097801  |  1.0130816 |  4.992991  |  3.495141  |  4.073556  |  2.327787  | \n",
       "| CNAG_00006 |  7.095132  |  7.602270  |  7.492271  |  6.6192181 |  7.215502  |  7.178225  |  7.265812  |  6.846954  |  7.056206  |  7.628422  | ⋯          |  6.2147733 |  7.087015  |  7.312345  |  7.767982  |  7.024950  |  4.6603284 |  7.497999  |  7.237187  |  7.330108  |  7.547792  | \n",
       "| CNAG_00007 |  6.657460  |  6.999079  |  6.906494  |  6.2403171 |  6.088307  |  6.213069  |  6.274644  |  6.053793  |  6.747987  |  6.361329  | ⋯          |  5.6397325 |  6.595298  |  5.551118  |  6.736521  |  5.598757  |  4.2977583 |  5.880732  |  5.824132  |  5.786584  |  6.889558  | \n",
       "| CNAG_00008 |  6.112291  |  6.067566  |  5.857556  |  4.7494128 |  6.477274  |  6.747520  |  6.792600  |  6.041635  |  6.242887  |  6.832299  | ⋯          |  4.5931457 |  6.050825  |  6.175836  |  5.666524  |  6.113021  |  2.9180851 |  6.430191  |  5.683631  |  5.837658  |  5.838124  | \n",
       "| CNAG_00009 |  5.412264  |  4.895066  |  4.869319  |  3.7351145 |  5.424768  |  5.508821  |  5.537678  |  4.907384  |  5.425637  |  5.746963  | ⋯          |  3.7362087 |  5.430573  |  4.927681  |  4.658256  |  4.620222  |  2.5205654 |  5.090925  |  4.808191  |  4.936357  |  4.879721  | \n",
       "| CNAG_00010 |  5.368708  |  6.245472  |  6.032160  |  5.2890917 |  6.342819  |  6.704886  |  6.641122  |  6.403300  |  5.665673  |  6.535966  | ⋯          |  4.2558175 |  5.561818  |  5.779524  |  5.786686  |  5.723000  |  2.9180851 |  6.272157  |  5.484035  |  5.941369  |  6.164110  | \n",
       "\n",
       "\n"
      ],
      "text/plain": [
       "           1_RZ_J    10_RZ_C   11_RZ_J   12_RZ_P    13_RZ_J   14_RZ_C  \n",
       "CNAG_00001 -4.244161 -3.385705 -3.882225 -4.2364291 -3.943739 -3.602315\n",
       "CNAG_00002  4.431796  3.871683  3.649157  2.7747982  4.904884  4.909438\n",
       "CNAG_00003  2.095689  2.229005  1.327229  1.8720954  2.876440  3.139152\n",
       "CNAG_00004  4.452807  4.758954  4.605615  4.0535898  5.687438  5.903497\n",
       "CNAG_00005  3.727383  2.286721  2.140143  0.4074271  4.710897  4.885525\n",
       "CNAG_00006  7.095132  7.602270  7.492271  6.6192181  7.215502  7.178225\n",
       "CNAG_00007  6.657460  6.999079  6.906494  6.2403171  6.088307  6.213069\n",
       "CNAG_00008  6.112291  6.067566  5.857556  4.7494128  6.477274  6.747520\n",
       "CNAG_00009  5.412264  4.895066  4.869319  3.7351145  5.424768  5.508821\n",
       "CNAG_00010  5.368708  6.245472  6.032160  5.2890917  6.342819  6.704886\n",
       "           15_RZ_C   16_RZ_P   2_RZ_C    21_RZ_C   ⋯ 27_RZ_P    3_RZ_J   \n",
       "CNAG_00001 -3.781994 -1.843044 -3.994323 -3.479449 ⋯ -3.4236626 -3.605600\n",
       "CNAG_00002  4.865465  4.588802  4.402282  4.480553 ⋯  3.0192809  4.142593\n",
       "CNAG_00003  2.986191  2.911843  2.345527  2.895590 ⋯  0.8242649  2.009110\n",
       "CNAG_00004  5.920179  5.563515  4.533154  5.808263 ⋯  3.3965164  4.528826\n",
       "CNAG_00005  4.768753  4.531995  3.930490  4.457189 ⋯  2.0681905  3.471215\n",
       "CNAG_00006  7.265812  6.846954  7.056206  7.628422 ⋯  6.2147733  7.087015\n",
       "CNAG_00007  6.274644  6.053793  6.747987  6.361329 ⋯  5.6397325  6.595298\n",
       "CNAG_00008  6.792600  6.041635  6.242887  6.832299 ⋯  4.5931457  6.050825\n",
       "CNAG_00009  5.537678  4.907384  5.425637  5.746963 ⋯  3.7362087  5.430573\n",
       "CNAG_00010  6.641122  6.403300  5.665673  6.535966 ⋯  4.2558175  5.561818\n",
       "           35_RZ_P   36_RZ_J   38_RZ_P   4_RZ_P     40_RZ_J   45_RZ_P  \n",
       "CNAG_00001 -3.451697 -4.106615 -3.268522 -4.6593437 -4.086494 -3.853587\n",
       "CNAG_00002  4.781922  3.668172  4.308907  2.0271568  4.793089  4.083051\n",
       "CNAG_00003  2.276223  2.336328  3.174422 -0.1357818  2.654973  2.685571\n",
       "CNAG_00004  5.358874  4.555163  5.110857  1.9988678  5.703039  5.044258\n",
       "CNAG_00005  4.819766  2.713564  4.097801  1.0130816  4.992991  3.495141\n",
       "CNAG_00006  7.312345  7.767982  7.024950  4.6603284  7.497999  7.237187\n",
       "CNAG_00007  5.551118  6.736521  5.598757  4.2977583  5.880732  5.824132\n",
       "CNAG_00008  6.175836  5.666524  6.113021  2.9180851  6.430191  5.683631\n",
       "CNAG_00009  4.927681  4.658256  4.620222  2.5205654  5.090925  4.808191\n",
       "CNAG_00010  5.779524  5.786686  5.723000  2.9180851  6.272157  5.484035\n",
       "           47_RZ_P   9_RZ_C   \n",
       "CNAG_00001 -3.815187 -4.012063\n",
       "CNAG_00002  3.998594  3.722646\n",
       "CNAG_00003  2.559852  2.137684\n",
       "CNAG_00004  5.301157  4.861381\n",
       "CNAG_00005  4.073556  2.327787\n",
       "CNAG_00006  7.330108  7.547792\n",
       "CNAG_00007  5.786584  6.889558\n",
       "CNAG_00008  5.837658  5.838124\n",
       "CNAG_00009  4.936357  4.879721\n",
       "CNAG_00010  5.941369  6.164110"
      ]
     },
     "metadata": {},
     "output_type": "display_data"
    }
   ],
   "source": [
    "VOOMmat <- VOOM$E\n",
    "dim(VOOMmat)\n",
    "VOOMmat[1:10,]"
   ]
  },
  {
   "cell_type": "markdown",
   "metadata": {},
   "source": [
    "# Appendix: Multiplicitive Model"
   ]
  },
  {
   "cell_type": "code",
   "execution_count": 88,
   "metadata": {},
   "outputs": [
    {
     "name": "stderr",
     "output_type": "stream",
     "text": [
      "gene-wise dispersion estimates\n",
      "mean-dispersion relationship\n",
      "final dispersion estimates\n",
      "using pre-existing size factors\n",
      "estimating dispersions\n",
      "found already estimated dispersions, replacing these\n",
      "gene-wise dispersion estimates\n",
      "mean-dispersion relationship\n",
      "final dispersion estimates\n",
      "fitting model and testing\n"
     ]
    }
   ],
   "source": [
    "### Make DESeq object on the basis of the counts\n",
    "dds_mult <- DESeqDataSetFromMatrix(countData, columnData, ~ Media + Strain + Media:Strain)\n",
    "### Estimate Size Factors\n",
    "dds_mult <- estimateSizeFactors(dds_mult)\n",
    "### Estimate Dispersion parameters (for each gene)\n",
    "dds_mult <- estimateDispersions(dds_mult)\n",
    "### Fit NB MLE model\n",
    "dds_mult <- DESeq(dds_mult)\n",
    "### Rlog \"normalized\" expressions\n",
    "rld <- rlog(dds_mult)"
   ]
  },
  {
   "cell_type": "code",
   "execution_count": 89,
   "metadata": {},
   "outputs": [
    {
     "data": {
      "image/png": "[encoded data removed]",
      "text/plain": [
       "plot without title"
      ]
     },
     "metadata": {},
     "output_type": "display_data"
    }
   ],
   "source": [
    "options(repr.plot.width = 8, repr.plot.height = 5)\n",
    "grid.arrange(\n",
    "    myinteractplot(rld, \"CNAG_03398\", \"Strain\"),\n",
    "    myinteractplot(rld, \"CNAG_03623\", \"Strain\"),\n",
    "    myinteractplot(rld, \"CNAG_00727\", \"Strain\"),\n",
    "    myinteractplot(rld, \"CNAG_02587\", \"Strain\"),\n",
    "    ncol=2)"
   ]
  },
  {
   "cell_type": "code",
   "execution_count": 90,
   "metadata": {},
   "outputs": [
    {
     "data": {
      "image/png": "[encoded data removed]",
      "text/plain": [
       "plot without title"
      ]
     },
     "metadata": {},
     "output_type": "display_data"
    }
   ],
   "source": [
    "options(repr.plot.width = 8, repr.plot.height = 5)\n",
    "grid.arrange(\n",
    "    myinteractplot(rld, \"CNAG_03398\", \"media\"),\n",
    "    myinteractplot(rld, \"CNAG_12988\", \"media\"),\n",
    "    myinteractplot(rld, \"CNAG_00183\", \"media\"),\n",
    "    myinteractplot(rld, \"CNAG_02083\", \"media\"),\n",
    "    ncol=2)"
   ]
  },
  {
   "cell_type": "markdown",
   "metadata": {},
   "source": [
    "# Appendix: Get Session Information"
   ]
  },
  {
   "cell_type": "code",
   "execution_count": 91,
   "metadata": {},
   "outputs": [
    {
     "data": {
      "text/plain": [
       "R version 3.4.1 (2017-06-30)\n",
       "Platform: x86_64-pc-linux-gnu (64-bit)\n",
       "Running under: Debian GNU/Linux 8 (jessie)\n",
       "\n",
       "Matrix products: default\n",
       "BLAS: /opt/conda/lib/R/lib/libRblas.so\n",
       "LAPACK: /opt/conda/lib/R/lib/libRlapack.so\n",
       "\n",
       "locale:\n",
       " [1] LC_CTYPE=en_US.UTF-8       LC_NUMERIC=C              \n",
       " [3] LC_TIME=en_US.UTF-8        LC_COLLATE=en_US.UTF-8    \n",
       " [5] LC_MONETARY=en_US.UTF-8    LC_MESSAGES=en_US.UTF-8   \n",
       " [7] LC_PAPER=en_US.UTF-8       LC_NAME=C                 \n",
       " [9] LC_ADDRESS=C               LC_TELEPHONE=C            \n",
       "[11] LC_MEASUREMENT=en_US.UTF-8 LC_IDENTIFICATION=C       \n",
       "\n",
       "attached base packages:\n",
       " [1] tools     parallel  stats4    stats     graphics  grDevices utils    \n",
       " [8] datasets  methods   base     \n",
       "\n",
       "other attached packages:\n",
       " [1] bindrcpp_0.2               dendextend_1.8.0          \n",
       " [3] gridExtra_2.3              RColorBrewer_1.1-2        \n",
       " [5] qvalue_2.10.0              limma_3.34.9              \n",
       " [7] DESeq2_1.18.1              SummarizedExperiment_1.8.0\n",
       " [9] DelayedArray_0.4.1         matrixStats_0.53.1        \n",
       "[11] Biobase_2.38.0             GenomicRanges_1.30.3      \n",
       "[13] GenomeInfoDb_1.14.0        IRanges_2.12.0            \n",
       "[15] S4Vectors_0.16.0           BiocGenerics_0.24.0       \n",
       "[17] haven_1.1.1                stringr_1.3.0             \n",
       "[19] foreach_1.4.4              dplyr_0.7.4               \n",
       "[21] purrr_0.2.4                readr_1.1.1               \n",
       "[23] tidyr_0.8.1                tibble_1.4.2              \n",
       "[25] ggplot2_3.0.0              tidyverse_1.1.1           \n",
       "\n",
       "loaded via a namespace (and not attached):\n",
       "  [1] colorspace_1.3-2       class_7.3-14           modeltools_0.2-22     \n",
       "  [4] mclust_5.4.1           IRdisplay_0.4.4        htmlTable_1.9         \n",
       "  [7] XVector_0.18.0         base64enc_0.1-3        flexmix_2.3-14        \n",
       " [10] bit64_0.9-5            mvtnorm_1.0-8          AnnotationDbi_1.40.0  \n",
       " [13] lubridate_1.7.4        xml2_1.2.0             codetools_0.2-15      \n",
       " [16] splines_3.4.1          mnormt_1.5-5           robustbase_0.92-7     \n",
       " [19] geneplotter_1.56.0     knitr_1.20             IRkernel_0.8.11       \n",
       " [22] Formula_1.2-1          jsonlite_1.5           broom_0.4.4           \n",
       " [25] annotate_1.56.0        kernlab_0.9-25         cluster_2.0.6         \n",
       " [28] compiler_3.4.1         httr_1.3.1             backports_1.1.2       \n",
       " [31] assertthat_0.2.0       Matrix_1.2-14          lazyeval_0.2.1        \n",
       " [34] acepack_1.4.1          htmltools_0.3.6        gtable_0.2.0          \n",
       " [37] glue_1.2.0             GenomeInfoDbData_1.0.0 reshape2_1.4.3        \n",
       " [40] Rcpp_0.12.15           trimcluster_0.1-2.1    cellranger_1.1.0      \n",
       " [43] nlme_3.1-131           fpc_2.1-11.1           iterators_1.0.9       \n",
       " [46] psych_1.8.4            rvest_0.3.2            XML_3.98-1.11         \n",
       " [49] DEoptimR_1.0-8         MASS_7.3-48            zlibbioc_1.24.0       \n",
       " [52] scales_0.5.0           hms_0.3                memoise_1.1.0         \n",
       " [55] rpart_4.1-13           latticeExtra_0.6-28    stringi_1.1.7         \n",
       " [58] RSQLite_2.0            genefilter_1.60.0      checkmate_1.8.5       \n",
       " [61] BiocParallel_1.12.0    repr_0.15.0            prabclus_2.2-6        \n",
       " [64] rlang_0.2.1            pkgconfig_2.0.1        bitops_1.0-6          \n",
       " [67] evaluate_0.10.1        lattice_0.20-34        bindr_0.1.1           \n",
       " [70] labeling_0.3           htmlwidgets_1.2        tidyselect_0.2.4      \n",
       " [73] bit_1.1-12             plyr_1.8.4             magrittr_1.5          \n",
       " [76] R6_2.2.2               Hmisc_4.0-3            pbdZMQ_0.3-2          \n",
       " [79] DBI_1.0.0              pillar_1.2.2           whisker_0.3-2         \n",
       " [82] foreign_0.8-67         withr_2.1.1            survival_2.40-1       \n",
       " [85] RCurl_1.95-4.8         nnet_7.3-12            modelr_0.1.2          \n",
       " [88] crayon_1.3.4           uuid_0.1-2             viridis_0.5.1         \n",
       " [91] locfit_1.5-9.1         grid_3.4.1             readxl_1.1.0          \n",
       " [94] data.table_1.10.4      blob_1.1.1             forcats_0.3.0         \n",
       " [97] diptest_0.75-7         digest_0.6.15          xtable_1.8-2          \n",
       "[100] munsell_0.5.0          viridisLite_0.3.0     "
      ]
     },
     "metadata": {},
     "output_type": "display_data"
    }
   ],
   "source": [
    "sessionInfo()"
   ]
  }
 ],
 "metadata": {
  "kernelspec": {
   "display_name": "R",
   "language": "R",
   "name": "ir"
  },
  "language_info": {
   "codemirror_mode": "r",
   "file_extension": ".r",
   "mimetype": "text/x-r-source",
   "name": "R",
   "pygments_lexer": "r",
   "version": "3.4.1"
  }
 },
 "nbformat": 4,
 "nbformat_minor": 2
}
