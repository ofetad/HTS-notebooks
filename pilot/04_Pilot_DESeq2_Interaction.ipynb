{
 "cells": [
  {
   "cell_type": "markdown",
   "metadata": {},
   "source": [
    "# Pilot Study: Interaction analysis with DESeq2"
   ]
  },
  {
   "cell_type": "markdown",
   "metadata": {},
   "source": [
    "## Synposis"
   ]
  },
  {
   "cell_type": "markdown",
   "metadata": {},
   "source": [
    "In this tutorial, we will illustrate the use of the DESeq2 package for conducting interaction analysis. More specifically, for each gene we will assess the level of statistical evidence to support a treatment by strain interaction with respect to the mRNA abudnance for that gene.\n",
    "\n",
    "In the context of our pilot experiment, for a given gene, let $\\Delta_{H99}$ denote the differential expression effect due to treatment in the H99 strain and $\\Delta_{mar1d} denote the corresponding differential expression effect in the mar1d strain. A \n",
    "\n",
    "If the differential expression effect is quantified by say log2 fold-change, then\n",
    "* testing for a differential treatment effect within the H99 strain can be formulated as testing $H_0: \\Delta_{H99} = 0$\n",
    "against  $H_1: \\Delta_{H99} \\ne 0$. \n",
    "* testing for a differential treatment effect within the mar1d strain can be formulated as testing $H_0: \\Delta_{mar1d} = 0$ against  $H_1: \\Delta_{mar1d} \\ne 0$\n",
    "* testing for a treatment by strain interaction with respect to mRNA abundance of the gene can be formulated as testing $H_0:  \\Delta_{H99} = \\Delta_{mar1d}$ against  $H_1: \\Delta_{H99} \\ne \\Delta_{mar1d}$. \n",
    "\n",
    "The (margional) differential expression hypothesis tests whether there is evidence for a fold change, while the interaction hypothesis tests whether there is a difference between the two fold changes. For example $\\Delta_{H99}  >\\Delta_{mar1d}$ indicates that the differential expression effect due to treatment is larger in the H99 strain compared to the mar1d strain.\n"
   ]
  },
  {
   "cell_type": "markdown",
   "metadata": {},
   "source": [
    "## Set Environment"
   ]
  },
  {
   "cell_type": "code",
   "execution_count": 1,
   "metadata": {},
   "outputs": [
    {
     "name": "stderr",
     "output_type": "stream",
     "text": [
      "Loading tidyverse: ggplot2\n",
      "Loading tidyverse: tibble\n",
      "Loading tidyverse: tidyr\n",
      "Loading tidyverse: readr\n",
      "Loading tidyverse: purrr\n",
      "Loading tidyverse: dplyr\n",
      "Conflicts with tidy packages ---------------------------------------------------\n",
      "filter(): dplyr, stats\n",
      "lag():    dplyr, stats\n",
      "\n",
      "Attaching package: ‘foreach’\n",
      "\n",
      "The following objects are masked from ‘package:purrr’:\n",
      "\n",
      "    accumulate, when\n",
      "\n",
      "Loading required package: S4Vectors\n",
      "Loading required package: stats4\n",
      "Loading required package: BiocGenerics\n",
      "Loading required package: parallel\n",
      "\n",
      "Attaching package: ‘BiocGenerics’\n",
      "\n",
      "The following objects are masked from ‘package:parallel’:\n",
      "\n",
      "    clusterApply, clusterApplyLB, clusterCall, clusterEvalQ,\n",
      "    clusterExport, clusterMap, parApply, parCapply, parLapply,\n",
      "    parLapplyLB, parRapply, parSapply, parSapplyLB\n",
      "\n",
      "The following objects are masked from ‘package:dplyr’:\n",
      "\n",
      "    combine, intersect, setdiff, union\n",
      "\n",
      "The following objects are masked from ‘package:stats’:\n",
      "\n",
      "    IQR, mad, sd, var, xtabs\n",
      "\n",
      "The following objects are masked from ‘package:base’:\n",
      "\n",
      "    anyDuplicated, append, as.data.frame, cbind, colMeans, colnames,\n",
      "    colSums, do.call, duplicated, eval, evalq, Filter, Find, get, grep,\n",
      "    grepl, intersect, is.unsorted, lapply, lengths, Map, mapply, match,\n",
      "    mget, order, paste, pmax, pmax.int, pmin, pmin.int, Position, rank,\n",
      "    rbind, Reduce, rowMeans, rownames, rowSums, sapply, setdiff, sort,\n",
      "    table, tapply, union, unique, unsplit, which, which.max, which.min\n",
      "\n",
      "\n",
      "Attaching package: ‘S4Vectors’\n",
      "\n",
      "The following objects are masked from ‘package:dplyr’:\n",
      "\n",
      "    first, rename\n",
      "\n",
      "The following object is masked from ‘package:tidyr’:\n",
      "\n",
      "    expand\n",
      "\n",
      "The following object is masked from ‘package:base’:\n",
      "\n",
      "    expand.grid\n",
      "\n",
      "Loading required package: IRanges\n",
      "\n",
      "Attaching package: ‘IRanges’\n",
      "\n",
      "The following objects are masked from ‘package:dplyr’:\n",
      "\n",
      "    collapse, desc, slice\n",
      "\n",
      "The following object is masked from ‘package:purrr’:\n",
      "\n",
      "    reduce\n",
      "\n",
      "Loading required package: GenomicRanges\n",
      "Loading required package: GenomeInfoDb\n",
      "Loading required package: SummarizedExperiment\n",
      "Loading required package: Biobase\n",
      "Welcome to Bioconductor\n",
      "\n",
      "    Vignettes contain introductory material; view with\n",
      "    'browseVignettes()'. To cite Bioconductor, see\n",
      "    'citation(\"Biobase\")', and for packages 'citation(\"pkgname\")'.\n",
      "\n",
      "Loading required package: DelayedArray\n",
      "Loading required package: matrixStats\n",
      "\n",
      "Attaching package: ‘matrixStats’\n",
      "\n",
      "The following objects are masked from ‘package:Biobase’:\n",
      "\n",
      "    anyMissing, rowMedians\n",
      "\n",
      "The following object is masked from ‘package:dplyr’:\n",
      "\n",
      "    count\n",
      "\n",
      "\n",
      "Attaching package: ‘DelayedArray’\n",
      "\n",
      "The following objects are masked from ‘package:matrixStats’:\n",
      "\n",
      "    colMaxs, colMins, colRanges, rowMaxs, rowMins, rowRanges\n",
      "\n",
      "The following object is masked from ‘package:base’:\n",
      "\n",
      "    apply\n",
      "\n",
      "\n",
      "Attaching package: ‘limma’\n",
      "\n",
      "The following object is masked from ‘package:DESeq2’:\n",
      "\n",
      "    plotMA\n",
      "\n",
      "The following object is masked from ‘package:BiocGenerics’:\n",
      "\n",
      "    plotMA\n",
      "\n",
      "\n",
      "Attaching package: ‘gridExtra’\n",
      "\n",
      "The following object is masked from ‘package:Biobase’:\n",
      "\n",
      "    combine\n",
      "\n",
      "The following object is masked from ‘package:BiocGenerics’:\n",
      "\n",
      "    combine\n",
      "\n",
      "The following object is masked from ‘package:dplyr’:\n",
      "\n",
      "    combine\n",
      "\n",
      "\n",
      "---------------------\n",
      "Welcome to dendextend version 1.8.0\n",
      "Type citation('dendextend') for how to cite the package.\n",
      "\n",
      "Type browseVignettes(package = 'dendextend') for the package vignette.\n",
      "The github page is: https://github.com/talgalili/dendextend/\n",
      "\n",
      "Suggestions and bug-reports can be submitted at: https://github.com/talgalili/dendextend/issues\n",
      "Or contact: <tal.galili@gmail.com>\n",
      "\n",
      "\tTo suppress this message use:  suppressPackageStartupMessages(library(dendextend))\n",
      "---------------------\n",
      "\n",
      "\n",
      "Attaching package: ‘dendextend’\n",
      "\n",
      "The following object is masked from ‘package:stats’:\n",
      "\n",
      "    cutree\n",
      "\n"
     ]
    }
   ],
   "source": [
    "source(\"pilot_config.R\")\n",
    "source(\"pilot_util.R\")"
   ]
  },
  {
   "cell_type": "markdown",
   "metadata": {},
   "source": [
    "## Load and create data objects"
   ]
  },
  {
   "cell_type": "markdown",
   "metadata": {},
   "source": [
    "### Attach data objects containing count and meta data"
   ]
  },
  {
   "cell_type": "code",
   "execution_count": 2,
   "metadata": {},
   "outputs": [],
   "source": [
    "attach(file.path(OUTDIR, \"HTS-Pilot-Annotated-STAR-counts.RData\"))"
   ]
  },
  {
   "cell_type": "markdown",
   "metadata": {},
   "source": [
    "### Create columnData object"
   ]
  },
  {
   "cell_type": "code",
   "execution_count": 3,
   "metadata": {},
   "outputs": [
    {
     "data": {
      "text/plain": [
       "DataFrame with 3 rows and 3 columns\n",
       "              Label   Strain    Media\n",
       "        <character> <factor> <factor>\n",
       "1_RZ_J       1_RZ_J      H99      YPD\n",
       "10_RZ_C     10_RZ_C    mar1d      YPD\n",
       "11_RZ_J     11_RZ_J    mar1d      YPD"
      ]
     },
     "metadata": {},
     "output_type": "display_data"
    }
   ],
   "source": [
    "annomapres0 %>%\n",
    "    dplyr::filter(enrichment_method == \"RZ\")  %>%\n",
    "    DataFrame ->\n",
    "    columnData\n",
    "rownames(columnData) <- columnData[[\"Label\"]]\n",
    "\n",
    "columnData[, c(\"Label\", \"Strain\", \"Media\")] %>% head(3)"
   ]
  },
  {
   "cell_type": "markdown",
   "metadata": {},
   "source": [
    "### Create countData objects"
   ]
  },
  {
   "cell_type": "code",
   "execution_count": 4,
   "metadata": {},
   "outputs": [
    {
     "name": "stdout",
     "output_type": "stream",
     "text": [
      "c(\"gene\", \"1_RZ_J\", \"10_RZ_C\", \"11_RZ_J\", \"12_RZ_P\", \"13_RZ_J\", \n",
      "\"14_RZ_C\", \"15_RZ_C\", \"16_RZ_P\", \"2_RZ_C\", \"21_RZ_C\", \"22_RZ_C\", \n",
      "\"23_RZ_J\", \"24_RZ_J\", \"26_RZ_C\", \"27_RZ_P\", \"3_RZ_J\", \"35_RZ_P\", \n",
      "\"36_RZ_J\", \"38_RZ_P\", \"4_RZ_P\", \"40_RZ_J\", \"45_RZ_P\", \"47_RZ_P\", \n",
      "\"9_RZ_C\")\n"
     ]
    },
    {
     "data": {
      "text/html": [
       "<table>\n",
       "<thead><tr><th></th><th scope=col>1_RZ_J</th><th scope=col>10_RZ_C</th><th scope=col>11_RZ_J</th><th scope=col>12_RZ_P</th><th scope=col>13_RZ_J</th><th scope=col>14_RZ_C</th><th scope=col>15_RZ_C</th><th scope=col>16_RZ_P</th><th scope=col>2_RZ_C</th><th scope=col>21_RZ_C</th><th scope=col>⋯</th><th scope=col>27_RZ_P</th><th scope=col>3_RZ_J</th><th scope=col>35_RZ_P</th><th scope=col>36_RZ_J</th><th scope=col>38_RZ_P</th><th scope=col>4_RZ_P</th><th scope=col>40_RZ_J</th><th scope=col>45_RZ_P</th><th scope=col>47_RZ_P</th><th scope=col>9_RZ_C</th></tr></thead>\n",
       "<tbody>\n",
       "\t<tr><th scope=row>CNAG_00001</th><td>  0</td><td> 0 </td><td> 0 </td><td> 0 </td><td>  0</td><td>  0</td><td>  0</td><td>  1</td><td>  0</td><td>  0</td><td>⋯  </td><td> 0 </td><td>  0</td><td>  0</td><td>  0</td><td> 0 </td><td> 0 </td><td>  0</td><td>  0</td><td>  0</td><td>  0</td></tr>\n",
       "\t<tr><th scope=row>CNAG_00002</th><td>204</td><td>76 </td><td>92 </td><td>64 </td><td>230</td><td>182</td><td>200</td><td>129</td><td>168</td><td>124</td><td>⋯  </td><td>43 </td><td>107</td><td>150</td><td>109</td><td>95 </td><td>51 </td><td>235</td><td>122</td><td>112</td><td>106</td></tr>\n",
       "\t<tr><th scope=row>CNAG_00003</th><td> 40</td><td>24 </td><td>18 </td><td>34 </td><td> 56</td><td> 53</td><td> 54</td><td> 40</td><td> 40</td><td> 41</td><td>⋯  </td><td> 9 </td><td> 24</td><td> 26</td><td> 43</td><td>43 </td><td>11 </td><td> 53</td><td> 46</td><td> 41</td><td> 35</td></tr>\n",
       "</tbody>\n",
       "</table>\n"
      ],
      "text/latex": [
       "\\begin{tabular}{r|llllllllllllllllllllllll}\n",
       "  & 1\\_RZ\\_J & 10\\_RZ\\_C & 11\\_RZ\\_J & 12\\_RZ\\_P & 13\\_RZ\\_J & 14\\_RZ\\_C & 15\\_RZ\\_C & 16\\_RZ\\_P & 2\\_RZ\\_C & 21\\_RZ\\_C & ⋯ & 27\\_RZ\\_P & 3\\_RZ\\_J & 35\\_RZ\\_P & 36\\_RZ\\_J & 38\\_RZ\\_P & 4\\_RZ\\_P & 40\\_RZ\\_J & 45\\_RZ\\_P & 47\\_RZ\\_P & 9\\_RZ\\_C\\\\\n",
       "\\hline\n",
       "\tCNAG\\_00001 &   0 &  0  &  0  &  0  &   0 &   0 &   0 &   1 &   0 &   0 & ⋯   &  0  &   0 &   0 &   0 &  0  &  0  &   0 &   0 &   0 &   0\\\\\n",
       "\tCNAG\\_00002 & 204 & 76  & 92  & 64  & 230 & 182 & 200 & 129 & 168 & 124 & ⋯   & 43  & 107 & 150 & 109 & 95  & 51  & 235 & 122 & 112 & 106\\\\\n",
       "\tCNAG\\_00003 &  40 & 24  & 18  & 34  &  56 &  53 &  54 &  40 &  40 &  41 & ⋯   &  9  &  24 &  26 &  43 & 43  & 11  &  53 &  46 &  41 &  35\\\\\n",
       "\\end{tabular}\n"
      ],
      "text/markdown": [
       "\n",
       "| <!--/--> | 1_RZ_J | 10_RZ_C | 11_RZ_J | 12_RZ_P | 13_RZ_J | 14_RZ_C | 15_RZ_C | 16_RZ_P | 2_RZ_C | 21_RZ_C | ⋯ | 27_RZ_P | 3_RZ_J | 35_RZ_P | 36_RZ_J | 38_RZ_P | 4_RZ_P | 40_RZ_J | 45_RZ_P | 47_RZ_P | 9_RZ_C | \n",
       "|---|---|---|\n",
       "| CNAG_00001 |   0 |  0  |  0  |  0  |   0 |   0 |   0 |   1 |   0 |   0 | ⋯   |  0  |   0 |   0 |   0 |  0  |  0  |   0 |   0 |   0 |   0 | \n",
       "| CNAG_00002 | 204 | 76  | 92  | 64  | 230 | 182 | 200 | 129 | 168 | 124 | ⋯   | 43  | 107 | 150 | 109 | 95  | 51  | 235 | 122 | 112 | 106 | \n",
       "| CNAG_00003 |  40 | 24  | 18  | 34  |  56 |  53 |  54 |  40 |  40 |  41 | ⋯   |  9  |  24 |  26 |  43 | 43  | 11  |  53 |  46 |  41 |  35 | \n",
       "\n",
       "\n"
      ],
      "text/plain": [
       "           1_RZ_J 10_RZ_C 11_RZ_J 12_RZ_P 13_RZ_J 14_RZ_C 15_RZ_C 16_RZ_P\n",
       "CNAG_00001   0     0       0       0        0       0       0       1    \n",
       "CNAG_00002 204    76      92      64      230     182     200     129    \n",
       "CNAG_00003  40    24      18      34       56      53      54      40    \n",
       "           2_RZ_C 21_RZ_C ⋯ 27_RZ_P 3_RZ_J 35_RZ_P 36_RZ_J 38_RZ_P 4_RZ_P\n",
       "CNAG_00001   0      0     ⋯  0        0      0       0      0       0    \n",
       "CNAG_00002 168    124     ⋯ 43      107    150     109     95      51    \n",
       "CNAG_00003  40     41     ⋯  9       24     26      43     43      11    \n",
       "           40_RZ_J 45_RZ_P 47_RZ_P 9_RZ_C\n",
       "CNAG_00001   0       0       0       0   \n",
       "CNAG_00002 235     122     112     106   \n",
       "CNAG_00003  53      46      41      35   "
      ]
     },
     "metadata": {},
     "output_type": "display_data"
    }
   ],
   "source": [
    "annogenecnts0 %>%\n",
    "    dplyr::select(dput(as.character(c(\"gene\", columnData[[\"Label\"]])))) %>%\n",
    "    as.data.frame %>%\n",
    "    column_to_rownames(\"gene\") %>%\n",
    "    as.matrix ->\n",
    "    countData\n",
    "\n",
    "countData %>% head(3)"
   ]
  },
  {
   "cell_type": "markdown",
   "metadata": {},
   "source": [
    "## Interaction Analysis "
   ]
  },
  {
   "cell_type": "markdown",
   "metadata": {},
   "source": [
    "Note that the Media by Strain interaction term has been added to the model. In the design argument, the additive model (Median + Strain) has been augmented with the interaction term (Media:Strain). The latter should appear last as it is our primary parameter of interest. In statistics, Media + Strain is referred to as the additive model while Media + Strain + Media:Strain is referred to as the multiplicative model."
   ]
  },
  {
   "cell_type": "code",
   "execution_count": 5,
   "metadata": {},
   "outputs": [
    {
     "name": "stderr",
     "output_type": "stream",
     "text": [
      "using pre-existing size factors\n",
      "estimating dispersions\n",
      "gene-wise dispersion estimates\n",
      "mean-dispersion relationship\n",
      "final dispersion estimates\n",
      "fitting model and testing\n"
     ]
    }
   ],
   "source": [
    "ddsmult <- DESeqDataSetFromMatrix(countData, columnData, ~ Media + Strain + Media:Strain)\n",
    "ddsmult <- estimateSizeFactors(ddsmult)\n",
    "ddsres <- DESeq(ddsmult)"
   ]
  },
  {
   "cell_type": "markdown",
   "metadata": {},
   "source": [
    "Verify the design before looking at the results"
   ]
  },
  {
   "cell_type": "code",
   "execution_count": 6,
   "metadata": {},
   "outputs": [
    {
     "data": {
      "text/plain": [
       "~Media + Strain + Media:Strain"
      ]
     },
     "metadata": {},
     "output_type": "display_data"
    }
   ],
   "source": [
    "design(ddsres)"
   ]
  },
  {
   "cell_type": "markdown",
   "metadata": {},
   "source": [
    "We retrieve the top twenty genes, according to their corresponding adjusted P-values"
   ]
  },
  {
   "cell_type": "code",
   "execution_count": 6,
   "metadata": {},
   "outputs": [
    {
     "data": {
      "text/html": [
       "<table>\n",
       "<thead><tr><th scope=col>row</th><th scope=col>baseMean</th><th scope=col>log2FoldChange</th><th scope=col>lfcSE</th><th scope=col>stat</th><th scope=col>pvalue</th><th scope=col>padj</th></tr></thead>\n",
       "<tbody>\n",
       "\t<tr><td>CNAG_04307  </td><td> 490.86196  </td><td> 4.0231182  </td><td>0.29759976  </td><td>13.518553   </td><td>1.215429e-41</td><td>9.552054e-38</td></tr>\n",
       "\t<tr><td>CNAG_05459  </td><td> 636.02477  </td><td> 1.1440422  </td><td>0.09994094  </td><td>11.447183   </td><td>2.429119e-30</td><td>9.545224e-27</td></tr>\n",
       "\t<tr><td>CNAG_03621  </td><td>1821.27006  </td><td>-1.0644341  </td><td>0.10659585  </td><td>-9.985699   </td><td>1.760551e-23</td><td>4.612056e-20</td></tr>\n",
       "\t<tr><td>CNAG_00600  </td><td> 848.44047  </td><td> 1.1424338  </td><td>0.11598632  </td><td> 9.849729   </td><td>6.872879e-23</td><td>1.350349e-19</td></tr>\n",
       "\t<tr><td>CNAG_04585  </td><td> 812.31911  </td><td>-4.0407468  </td><td>0.41261597  </td><td>-9.792997   </td><td>1.206656e-22</td><td>1.896623e-19</td></tr>\n",
       "\t<tr><td>CNAG_03735  </td><td> 521.96604  </td><td> 1.6342312  </td><td>0.16755798  </td><td> 9.753228   </td><td>1.786944e-22</td><td>2.340599e-19</td></tr>\n",
       "\t<tr><td>CNAG_07862  </td><td>  85.91321  </td><td>-2.6088443  </td><td>0.26841617  </td><td>-9.719401   </td><td>2.492446e-22</td><td>2.798304e-19</td></tr>\n",
       "\t<tr><td>CNAG_02733  </td><td>  15.32034  </td><td>-4.0236397  </td><td>0.41731949  </td><td>-9.641629   </td><td>5.333480e-22</td><td>5.239478e-19</td></tr>\n",
       "\t<tr><td>CNAG_06517  </td><td> 850.38128  </td><td> 1.8719912  </td><td>0.19539060  </td><td> 9.580764   </td><td>9.632973e-22</td><td>8.411726e-19</td></tr>\n",
       "\t<tr><td>CNAG_00399  </td><td> 213.68536  </td><td>-2.1466008  </td><td>0.22469243  </td><td>-9.553507   </td><td>1.253786e-21</td><td>9.853503e-19</td></tr>\n",
       "\t<tr><td>CNAG_02045  </td><td>  24.74771  </td><td>-2.6789308  </td><td>0.31060668  </td><td>-8.624833   </td><td>6.418615e-18</td><td>4.585809e-15</td></tr>\n",
       "\t<tr><td>CNAG_03996  </td><td>2229.18446  </td><td> 1.3632246  </td><td>0.16083685  </td><td> 8.475822   </td><td>2.334248e-17</td><td>1.528738e-14</td></tr>\n",
       "\t<tr><td>CNAG_01681  </td><td>1996.46047  </td><td> 2.6394255  </td><td>0.31182349  </td><td> 8.464486   </td><td>2.572852e-17</td><td>1.555388e-14</td></tr>\n",
       "\t<tr><td>CNAG_00923  </td><td>  73.96611  </td><td>-1.7320806  </td><td>0.20880649  </td><td>-8.295147   </td><td>1.084508e-16</td><td>6.087964e-14</td></tr>\n",
       "\t<tr><td>CNAG_07554  </td><td>1112.80452  </td><td> 1.0774400  </td><td>0.13029451  </td><td> 8.269266   </td><td>1.347860e-16</td><td>7.061886e-14</td></tr>\n",
       "\t<tr><td>CNAG_06764  </td><td> 599.44576  </td><td>-0.9476336  </td><td>0.12084464  </td><td>-7.841751   </td><td>4.443063e-15</td><td>2.182377e-12</td></tr>\n",
       "\t<tr><td>CNAG_04949  </td><td> 351.12106  </td><td> 0.9334979  </td><td>0.12010335  </td><td> 7.772455   </td><td>7.697914e-15</td><td>3.558700e-12</td></tr>\n",
       "\t<tr><td>CNAG_02347  </td><td>  24.20742  </td><td>-3.2863765  </td><td>0.42775993  </td><td>-7.682759   </td><td>1.556982e-14</td><td>6.797956e-12</td></tr>\n",
       "\t<tr><td>CNAG_07856  </td><td> 344.40916  </td><td>-1.4058418  </td><td>0.18315481  </td><td>-7.675703   </td><td>1.645144e-14</td><td>6.804836e-12</td></tr>\n",
       "\t<tr><td>CNAG_05192  </td><td>  50.27230  </td><td> 1.8595868  </td><td>0.24461087  </td><td> 7.602225   </td><td>2.910827e-14</td><td>1.143809e-11</td></tr>\n",
       "</tbody>\n",
       "</table>\n"
      ],
      "text/latex": [
       "\\begin{tabular}{r|lllllll}\n",
       " row & baseMean & log2FoldChange & lfcSE & stat & pvalue & padj\\\\\n",
       "\\hline\n",
       "\t CNAG\\_04307 &  490.86196   &  4.0231182   & 0.29759976   & 13.518553    & 1.215429e-41 & 9.552054e-38\\\\\n",
       "\t CNAG\\_05459 &  636.02477   &  1.1440422   & 0.09994094   & 11.447183    & 2.429119e-30 & 9.545224e-27\\\\\n",
       "\t CNAG\\_03621 & 1821.27006   & -1.0644341   & 0.10659585   & -9.985699    & 1.760551e-23 & 4.612056e-20\\\\\n",
       "\t CNAG\\_00600 &  848.44047   &  1.1424338   & 0.11598632   &  9.849729    & 6.872879e-23 & 1.350349e-19\\\\\n",
       "\t CNAG\\_04585 &  812.31911   & -4.0407468   & 0.41261597   & -9.792997    & 1.206656e-22 & 1.896623e-19\\\\\n",
       "\t CNAG\\_03735 &  521.96604   &  1.6342312   & 0.16755798   &  9.753228    & 1.786944e-22 & 2.340599e-19\\\\\n",
       "\t CNAG\\_07862 &   85.91321   & -2.6088443   & 0.26841617   & -9.719401    & 2.492446e-22 & 2.798304e-19\\\\\n",
       "\t CNAG\\_02733 &   15.32034   & -4.0236397   & 0.41731949   & -9.641629    & 5.333480e-22 & 5.239478e-19\\\\\n",
       "\t CNAG\\_06517 &  850.38128   &  1.8719912   & 0.19539060   &  9.580764    & 9.632973e-22 & 8.411726e-19\\\\\n",
       "\t CNAG\\_00399 &  213.68536   & -2.1466008   & 0.22469243   & -9.553507    & 1.253786e-21 & 9.853503e-19\\\\\n",
       "\t CNAG\\_02045 &   24.74771   & -2.6789308   & 0.31060668   & -8.624833    & 6.418615e-18 & 4.585809e-15\\\\\n",
       "\t CNAG\\_03996 & 2229.18446   &  1.3632246   & 0.16083685   &  8.475822    & 2.334248e-17 & 1.528738e-14\\\\\n",
       "\t CNAG\\_01681 & 1996.46047   &  2.6394255   & 0.31182349   &  8.464486    & 2.572852e-17 & 1.555388e-14\\\\\n",
       "\t CNAG\\_00923 &   73.96611   & -1.7320806   & 0.20880649   & -8.295147    & 1.084508e-16 & 6.087964e-14\\\\\n",
       "\t CNAG\\_07554 & 1112.80452   &  1.0774400   & 0.13029451   &  8.269266    & 1.347860e-16 & 7.061886e-14\\\\\n",
       "\t CNAG\\_06764 &  599.44576   & -0.9476336   & 0.12084464   & -7.841751    & 4.443063e-15 & 2.182377e-12\\\\\n",
       "\t CNAG\\_04949 &  351.12106   &  0.9334979   & 0.12010335   &  7.772455    & 7.697914e-15 & 3.558700e-12\\\\\n",
       "\t CNAG\\_02347 &   24.20742   & -3.2863765   & 0.42775993   & -7.682759    & 1.556982e-14 & 6.797956e-12\\\\\n",
       "\t CNAG\\_07856 &  344.40916   & -1.4058418   & 0.18315481   & -7.675703    & 1.645144e-14 & 6.804836e-12\\\\\n",
       "\t CNAG\\_05192 &   50.27230   &  1.8595868   & 0.24461087   &  7.602225    & 2.910827e-14 & 1.143809e-11\\\\\n",
       "\\end{tabular}\n"
      ],
      "text/markdown": [
       "\n",
       "row | baseMean | log2FoldChange | lfcSE | stat | pvalue | padj | \n",
       "|---|---|---|---|---|---|---|---|---|---|---|---|---|---|---|---|---|---|---|---|\n",
       "| CNAG_04307   |  490.86196   |  4.0231182   | 0.29759976   | 13.518553    | 1.215429e-41 | 9.552054e-38 | \n",
       "| CNAG_05459   |  636.02477   |  1.1440422   | 0.09994094   | 11.447183    | 2.429119e-30 | 9.545224e-27 | \n",
       "| CNAG_03621   | 1821.27006   | -1.0644341   | 0.10659585   | -9.985699    | 1.760551e-23 | 4.612056e-20 | \n",
       "| CNAG_00600   |  848.44047   |  1.1424338   | 0.11598632   |  9.849729    | 6.872879e-23 | 1.350349e-19 | \n",
       "| CNAG_04585   |  812.31911   | -4.0407468   | 0.41261597   | -9.792997    | 1.206656e-22 | 1.896623e-19 | \n",
       "| CNAG_03735   |  521.96604   |  1.6342312   | 0.16755798   |  9.753228    | 1.786944e-22 | 2.340599e-19 | \n",
       "| CNAG_07862   |   85.91321   | -2.6088443   | 0.26841617   | -9.719401    | 2.492446e-22 | 2.798304e-19 | \n",
       "| CNAG_02733   |   15.32034   | -4.0236397   | 0.41731949   | -9.641629    | 5.333480e-22 | 5.239478e-19 | \n",
       "| CNAG_06517   |  850.38128   |  1.8719912   | 0.19539060   |  9.580764    | 9.632973e-22 | 8.411726e-19 | \n",
       "| CNAG_00399   |  213.68536   | -2.1466008   | 0.22469243   | -9.553507    | 1.253786e-21 | 9.853503e-19 | \n",
       "| CNAG_02045   |   24.74771   | -2.6789308   | 0.31060668   | -8.624833    | 6.418615e-18 | 4.585809e-15 | \n",
       "| CNAG_03996   | 2229.18446   |  1.3632246   | 0.16083685   |  8.475822    | 2.334248e-17 | 1.528738e-14 | \n",
       "| CNAG_01681   | 1996.46047   |  2.6394255   | 0.31182349   |  8.464486    | 2.572852e-17 | 1.555388e-14 | \n",
       "| CNAG_00923   |   73.96611   | -1.7320806   | 0.20880649   | -8.295147    | 1.084508e-16 | 6.087964e-14 | \n",
       "| CNAG_07554   | 1112.80452   |  1.0774400   | 0.13029451   |  8.269266    | 1.347860e-16 | 7.061886e-14 | \n",
       "| CNAG_06764   |  599.44576   | -0.9476336   | 0.12084464   | -7.841751    | 4.443063e-15 | 2.182377e-12 | \n",
       "| CNAG_04949   |  351.12106   |  0.9334979   | 0.12010335   |  7.772455    | 7.697914e-15 | 3.558700e-12 | \n",
       "| CNAG_02347   |   24.20742   | -3.2863765   | 0.42775993   | -7.682759    | 1.556982e-14 | 6.797956e-12 | \n",
       "| CNAG_07856   |  344.40916   | -1.4058418   | 0.18315481   | -7.675703    | 1.645144e-14 | 6.804836e-12 | \n",
       "| CNAG_05192   |   50.27230   |  1.8595868   | 0.24461087   |  7.602225    | 2.910827e-14 | 1.143809e-11 | \n",
       "\n",
       "\n"
      ],
      "text/plain": [
       "   row        baseMean   log2FoldChange lfcSE      stat      pvalue      \n",
       "1  CNAG_04307  490.86196  4.0231182     0.29759976 13.518553 1.215429e-41\n",
       "2  CNAG_05459  636.02477  1.1440422     0.09994094 11.447183 2.429119e-30\n",
       "3  CNAG_03621 1821.27006 -1.0644341     0.10659585 -9.985699 1.760551e-23\n",
       "4  CNAG_00600  848.44047  1.1424338     0.11598632  9.849729 6.872879e-23\n",
       "5  CNAG_04585  812.31911 -4.0407468     0.41261597 -9.792997 1.206656e-22\n",
       "6  CNAG_03735  521.96604  1.6342312     0.16755798  9.753228 1.786944e-22\n",
       "7  CNAG_07862   85.91321 -2.6088443     0.26841617 -9.719401 2.492446e-22\n",
       "8  CNAG_02733   15.32034 -4.0236397     0.41731949 -9.641629 5.333480e-22\n",
       "9  CNAG_06517  850.38128  1.8719912     0.19539060  9.580764 9.632973e-22\n",
       "10 CNAG_00399  213.68536 -2.1466008     0.22469243 -9.553507 1.253786e-21\n",
       "11 CNAG_02045   24.74771 -2.6789308     0.31060668 -8.624833 6.418615e-18\n",
       "12 CNAG_03996 2229.18446  1.3632246     0.16083685  8.475822 2.334248e-17\n",
       "13 CNAG_01681 1996.46047  2.6394255     0.31182349  8.464486 2.572852e-17\n",
       "14 CNAG_00923   73.96611 -1.7320806     0.20880649 -8.295147 1.084508e-16\n",
       "15 CNAG_07554 1112.80452  1.0774400     0.13029451  8.269266 1.347860e-16\n",
       "16 CNAG_06764  599.44576 -0.9476336     0.12084464 -7.841751 4.443063e-15\n",
       "17 CNAG_04949  351.12106  0.9334979     0.12010335  7.772455 7.697914e-15\n",
       "18 CNAG_02347   24.20742 -3.2863765     0.42775993 -7.682759 1.556982e-14\n",
       "19 CNAG_07856  344.40916 -1.4058418     0.18315481 -7.675703 1.645144e-14\n",
       "20 CNAG_05192   50.27230  1.8595868     0.24461087  7.602225 2.910827e-14\n",
       "   padj        \n",
       "1  9.552054e-38\n",
       "2  9.545224e-27\n",
       "3  4.612056e-20\n",
       "4  1.350349e-19\n",
       "5  1.896623e-19\n",
       "6  2.340599e-19\n",
       "7  2.798304e-19\n",
       "8  5.239478e-19\n",
       "9  8.411726e-19\n",
       "10 9.853503e-19\n",
       "11 4.585809e-15\n",
       "12 1.528738e-14\n",
       "13 1.555388e-14\n",
       "14 6.087964e-14\n",
       "15 7.061886e-14\n",
       "16 2.182377e-12\n",
       "17 3.558700e-12\n",
       "18 6.797956e-12\n",
       "19 6.804836e-12\n",
       "20 1.143809e-11"
      ]
     },
     "metadata": {},
     "output_type": "display_data"
    }
   ],
   "source": [
    "results(ddsres, tidy=TRUE) %>%\n",
    "    arrange(padj) %>%\n",
    "    head(20) ->\n",
    "    tophits\n",
    "\n",
    "tophits"
   ]
  },
  {
   "cell_type": "markdown",
   "metadata": {},
   "source": [
    "Retrieve the gene symbols for the the top and twentieth ranked hits and assign them to the vector topgenes"
   ]
  },
  {
   "cell_type": "code",
   "execution_count": 7,
   "metadata": {},
   "outputs": [
    {
     "data": {
      "text/html": [
       "<ol class=list-inline>\n",
       "\t<li>'CNAG_04307'</li>\n",
       "\t<li>'CNAG_05192'</li>\n",
       "</ol>\n"
      ],
      "text/latex": [
       "\\begin{enumerate*}\n",
       "\\item 'CNAG\\_04307'\n",
       "\\item 'CNAG\\_05192'\n",
       "\\end{enumerate*}\n"
      ],
      "text/markdown": [
       "1. 'CNAG_04307'\n",
       "2. 'CNAG_05192'\n",
       "\n",
       "\n"
      ],
      "text/plain": [
       "[1] \"CNAG_04307\" \"CNAG_05192\""
      ]
     },
     "metadata": {},
     "output_type": "display_data"
    }
   ],
   "source": [
    "topgenes <- tophits$row[c(1,20)]\n",
    "topgenes"
   ]
  },
  {
   "cell_type": "markdown",
   "metadata": {},
   "source": [
    "## Visualize Interactions"
   ]
  },
  {
   "cell_type": "markdown",
   "metadata": {},
   "source": [
    "First, we \"normalize\" the counts using the vst method (this is an alternative to the rlog method)"
   ]
  },
  {
   "cell_type": "code",
   "execution_count": 9,
   "metadata": {},
   "outputs": [],
   "source": [
    "vstexp <- vst(ddsmult, blind=TRUE)"
   ]
  },
  {
   "cell_type": "markdown",
   "metadata": {},
   "source": [
    "Next, we visualize the results using dotplots. It is noted that this is an exploratory analysis meant to help us visualize the findings."
   ]
  },
  {
   "cell_type": "code",
   "execution_count": 10,
   "metadata": {
    "scrolled": false
   },
   "outputs": [
    {
     "data": {
      "image/png": "[encoded data removed]",
      "text/plain": [
       "plot without title"
      ]
     },
     "metadata": {},
     "output_type": "display_data"
    }
   ],
   "source": [
    "p1 <- myinteractplot(vstexp, topgenes[1], \"strain\")\n",
    "p2 <- myinteractplot(vstexp, topgenes[2], \"strain\")\n",
    "grid.arrange(p1, p2, ncol = 2) "
   ]
  },
  {
   "cell_type": "markdown",
   "metadata": {},
   "source": [
    "Observations:\n",
    "\n",
    "* CNAG_04307: We observe that in the H99 strain, treatment seemingly upregulates expression while decreasing expression in the mar1d strain. While the effect sizes are seemingly similar in absolute magnitude, they are in the opposite direction. \n",
    "* CNAG_05192: We observe that in the H99 strain, treatment seemingly upregulates expression. There is seemingly no treatment effect in the mar1d strain"
   ]
  },
  {
   "cell_type": "markdown",
   "metadata": {},
   "source": [
    "## Estimate treatment effect size within each strain"
   ]
  },
  {
   "cell_type": "markdown",
   "metadata": {},
   "source": [
    "Next, we will show how to estimate treatment effect sizes within each strain. To keep things clean, we make a new copy of the ddsmult object and name it dds. We will add a new variable, to be named group, containing the combined Media and Strain assignments to this new copy and replace its design with group. "
   ]
  },
  {
   "cell_type": "code",
   "execution_count": 11,
   "metadata": {},
   "outputs": [
    {
     "name": "stderr",
     "output_type": "stream",
     "text": [
      "using pre-existing size factors\n",
      "estimating dispersions\n",
      "gene-wise dispersion estimates\n",
      "mean-dispersion relationship\n",
      "final dispersion estimates\n",
      "fitting model and testing\n"
     ]
    }
   ],
   "source": [
    "dds <- ddsmult\n",
    "dds$group <- as.factor(paste0(dds$Media,dds$Strain))\n",
    "design(dds) <- ~ group\n",
    "ddsgrp <- DESeq(dds)"
   ]
  },
  {
   "cell_type": "markdown",
   "metadata": {},
   "source": [
    "Let's look at the first 5 cases. As expected, the entry in group is obtained by pasting strain status to the right of treatment status."
   ]
  },
  {
   "cell_type": "code",
   "execution_count": 13,
   "metadata": {},
   "outputs": [
    {
     "data": {
      "text/plain": [
       "DataFrame with 5 rows and 4 columns\n",
       "              Label    Media   Strain    group\n",
       "        <character> <factor> <factor> <factor>\n",
       "1_RZ_J       1_RZ_J      YPD      H99   YPDH99\n",
       "10_RZ_C     10_RZ_C      YPD    mar1d YPDmar1d\n",
       "11_RZ_J     11_RZ_J      YPD    mar1d YPDmar1d\n",
       "12_RZ_P     12_RZ_P      YPD    mar1d YPDmar1d\n",
       "13_RZ_J     13_RZ_J       TC      H99    TCH99"
      ]
     },
     "metadata": {},
     "output_type": "display_data"
    }
   ],
   "source": [
    "dds@colData[1:5, c(\"Label\", \"Media\", \"Strain\", \"group\")]"
   ]
  },
  {
   "cell_type": "markdown",
   "metadata": {},
   "source": [
    "Let's compare the designs:"
   ]
  },
  {
   "cell_type": "code",
   "execution_count": 13,
   "metadata": {},
   "outputs": [
    {
     "data": {
      "text/plain": [
       "~Media + Strain + Media:Strain"
      ]
     },
     "metadata": {},
     "output_type": "display_data"
    },
    {
     "data": {
      "text/plain": [
       "~group"
      ]
     },
     "metadata": {},
     "output_type": "display_data"
    }
   ],
   "source": [
    "ddsmult@design\n",
    "dds@design"
   ]
  },
  {
   "cell_type": "markdown",
   "metadata": {},
   "source": [
    "Next, we retrieve the results for the interaction analysis (r0), the results for contrasting the treatment effect within H99 (r1) and the results for constrasting the treatment effect within mar1d (r2)."
   ]
  },
  {
   "cell_type": "code",
   "execution_count": 16,
   "metadata": {},
   "outputs": [],
   "source": [
    "### Results for interaction analysis\n",
    "r0<-results(ddsres, tidy=TRUE)\n",
    "### Contrast treatments within H99 strain\n",
    "r1<-results(ddsgrp, contrast = c(\"group\", \"TCH99\", \"YPDH99\"), tidy=TRUE)\n",
    "### Contrast treatments within mar1d strain\n",
    "r2<-results(ddsgrp, contrast = c(\"group\", \"TCmar1d\", \"YPDmar1d\"), tidy=TRUE)"
   ]
  },
  {
   "cell_type": "markdown",
   "metadata": {},
   "source": [
    "Now, let's look at the results for the two genes we had picked"
   ]
  },
  {
   "cell_type": "code",
   "execution_count": 19,
   "metadata": {
    "scrolled": true
   },
   "outputs": [
    {
     "data": {
      "text/html": [
       "<table>\n",
       "<thead><tr><th scope=col>row</th><th scope=col>baseMean</th><th scope=col>log2FoldChange</th><th scope=col>lfcSE</th><th scope=col>stat</th><th scope=col>pvalue</th><th scope=col>padj</th></tr></thead>\n",
       "<tbody>\n",
       "\t<tr><td>CNAG_04307  </td><td>490.8620    </td><td>4.023118    </td><td>0.2975998   </td><td>13.518553   </td><td>1.215429e-41</td><td>9.552054e-38</td></tr>\n",
       "\t<tr><td>CNAG_05192  </td><td> 50.2723    </td><td>1.859587    </td><td>0.2446109   </td><td> 7.602225   </td><td>2.910827e-14</td><td>1.143809e-11</td></tr>\n",
       "</tbody>\n",
       "</table>\n"
      ],
      "text/latex": [
       "\\begin{tabular}{r|lllllll}\n",
       " row & baseMean & log2FoldChange & lfcSE & stat & pvalue & padj\\\\\n",
       "\\hline\n",
       "\t CNAG\\_04307 & 490.8620     & 4.023118     & 0.2975998    & 13.518553    & 1.215429e-41 & 9.552054e-38\\\\\n",
       "\t CNAG\\_05192 &  50.2723     & 1.859587     & 0.2446109    &  7.602225    & 2.910827e-14 & 1.143809e-11\\\\\n",
       "\\end{tabular}\n"
      ],
      "text/markdown": [
       "\n",
       "row | baseMean | log2FoldChange | lfcSE | stat | pvalue | padj | \n",
       "|---|---|\n",
       "| CNAG_04307   | 490.8620     | 4.023118     | 0.2975998    | 13.518553    | 1.215429e-41 | 9.552054e-38 | \n",
       "| CNAG_05192   |  50.2723     | 1.859587     | 0.2446109    |  7.602225    | 2.910827e-14 | 1.143809e-11 | \n",
       "\n",
       "\n"
      ],
      "text/plain": [
       "  row        baseMean log2FoldChange lfcSE     stat      pvalue      \n",
       "1 CNAG_04307 490.8620 4.023118       0.2975998 13.518553 1.215429e-41\n",
       "2 CNAG_05192  50.2723 1.859587       0.2446109  7.602225 2.910827e-14\n",
       "  padj        \n",
       "1 9.552054e-38\n",
       "2 1.143809e-11"
      ]
     },
     "metadata": {},
     "output_type": "display_data"
    },
    {
     "data": {
      "text/html": [
       "<table>\n",
       "<thead><tr><th scope=col>row</th><th scope=col>baseMean</th><th scope=col>log2FoldChange</th><th scope=col>lfcSE</th><th scope=col>stat</th><th scope=col>pvalue</th><th scope=col>padj</th></tr></thead>\n",
       "<tbody>\n",
       "\t<tr><td>CNAG_04307  </td><td>490.8620    </td><td>2.013216    </td><td>0.2107145   </td><td>9.554234    </td><td>1.245011e-21</td><td>9.241900e-20</td></tr>\n",
       "\t<tr><td>CNAG_05192  </td><td> 50.2723    </td><td>1.953382    </td><td>0.1997372   </td><td>9.779762    </td><td>1.375341e-22</td><td>1.252967e-20</td></tr>\n",
       "</tbody>\n",
       "</table>\n"
      ],
      "text/latex": [
       "\\begin{tabular}{r|lllllll}\n",
       " row & baseMean & log2FoldChange & lfcSE & stat & pvalue & padj\\\\\n",
       "\\hline\n",
       "\t CNAG\\_04307 & 490.8620     & 2.013216     & 0.2107145    & 9.554234     & 1.245011e-21 & 9.241900e-20\\\\\n",
       "\t CNAG\\_05192 &  50.2723     & 1.953382     & 0.1997372    & 9.779762     & 1.375341e-22 & 1.252967e-20\\\\\n",
       "\\end{tabular}\n"
      ],
      "text/markdown": [
       "\n",
       "row | baseMean | log2FoldChange | lfcSE | stat | pvalue | padj | \n",
       "|---|---|\n",
       "| CNAG_04307   | 490.8620     | 2.013216     | 0.2107145    | 9.554234     | 1.245011e-21 | 9.241900e-20 | \n",
       "| CNAG_05192   |  50.2723     | 1.953382     | 0.1997372    | 9.779762     | 1.375341e-22 | 1.252967e-20 | \n",
       "\n",
       "\n"
      ],
      "text/plain": [
       "  row        baseMean log2FoldChange lfcSE     stat     pvalue      \n",
       "1 CNAG_04307 490.8620 2.013216       0.2107145 9.554234 1.245011e-21\n",
       "2 CNAG_05192  50.2723 1.953382       0.1997372 9.779762 1.375341e-22\n",
       "  padj        \n",
       "1 9.241900e-20\n",
       "2 1.252967e-20"
      ]
     },
     "metadata": {},
     "output_type": "display_data"
    },
    {
     "data": {
      "text/html": [
       "<table>\n",
       "<thead><tr><th scope=col>row</th><th scope=col>baseMean</th><th scope=col>log2FoldChange</th><th scope=col>lfcSE</th><th scope=col>stat</th><th scope=col>pvalue</th><th scope=col>padj</th></tr></thead>\n",
       "<tbody>\n",
       "\t<tr><td>CNAG_04307  </td><td>490.8620    </td><td>-2.00990294 </td><td>0.2101548   </td><td>-9.5639165  </td><td>1.133828e-21</td><td>1.934022e-19</td></tr>\n",
       "\t<tr><td>CNAG_05192  </td><td> 50.2723    </td><td> 0.09379498 </td><td>0.1412074   </td><td> 0.6642357  </td><td>5.065395e-01</td><td>5.972830e-01</td></tr>\n",
       "</tbody>\n",
       "</table>\n"
      ],
      "text/latex": [
       "\\begin{tabular}{r|lllllll}\n",
       " row & baseMean & log2FoldChange & lfcSE & stat & pvalue & padj\\\\\n",
       "\\hline\n",
       "\t CNAG\\_04307 & 490.8620     & -2.00990294  & 0.2101548    & -9.5639165   & 1.133828e-21 & 1.934022e-19\\\\\n",
       "\t CNAG\\_05192 &  50.2723     &  0.09379498  & 0.1412074    &  0.6642357   & 5.065395e-01 & 5.972830e-01\\\\\n",
       "\\end{tabular}\n"
      ],
      "text/markdown": [
       "\n",
       "row | baseMean | log2FoldChange | lfcSE | stat | pvalue | padj | \n",
       "|---|---|\n",
       "| CNAG_04307   | 490.8620     | -2.00990294  | 0.2101548    | -9.5639165   | 1.133828e-21 | 1.934022e-19 | \n",
       "| CNAG_05192   |  50.2723     |  0.09379498  | 0.1412074    |  0.6642357   | 5.065395e-01 | 5.972830e-01 | \n",
       "\n",
       "\n"
      ],
      "text/plain": [
       "  row        baseMean log2FoldChange lfcSE     stat       pvalue      \n",
       "1 CNAG_04307 490.8620 -2.00990294    0.2101548 -9.5639165 1.133828e-21\n",
       "2 CNAG_05192  50.2723  0.09379498    0.1412074  0.6642357 5.065395e-01\n",
       "  padj        \n",
       "1 1.934022e-19\n",
       "2 5.972830e-01"
      ]
     },
     "metadata": {},
     "output_type": "display_data"
    }
   ],
   "source": [
    "### Look at the results for top two genes\n",
    "r0 %>% filter(row %in% topgenes)\n",
    "r1 %>% filter(row %in% topgenes)\n",
    "r2 %>% filter(row %in% topgenes)"
   ]
  },
  {
   "cell_type": "markdown",
   "metadata": {},
   "source": [
    "* CNAG_04307: We observe that the estimated effect size in the H99 strain (2.01) is positive. The corresponding estimated effect size (-2.01) in the mar1d strain is negative. Constrast the estimated magnitudes and estimated directions to the figure\n",
    "    - The P-value for testing for a differential expression within H99 ($H_0: \\Delta_{H99} = 0$ against  $H_1: \\Delta_{H99} \\ne 0$) is 9.55e-38 (appropriately presented as < 2.22e-16)\n",
    "    - The P-value for testing for a differential expression within mar1d ($H_0: -\\Delta_{mar1d} = 0$ against  $H_1: \\Delta_{mar1d} \\ne 0$) is 1.9e-19 (appropriately presented as < 2.22e-16)\n",
    "    - The P-value for a treatment by strain interaction with respect to the mRNA abundance of CNAG_04307 is 9.55e-38 appropriately presented as < 2.22e-16)\n",
    "\n",
    "* CNAG_05192: We observe that the estimated effect size in the H99 strain (2.01) is positive. The estimated effect size in the mar1d strain is very small (0.093).\n",
    "  - The P-value for testing for a differential expression within H99 ($H_0: \\Delta_{H99} = 0$ against  $H_1: \\Delta_{H99} \\ne 0$) is 1.25e-20 (appropriately presented as < 2.22e-16)\n",
    "  - The P-value for testing for a differential expression within mar1d ($H_0: -\\Delta_{mar1d} = 0$ against  $H_1: \\Delta_{mar1d} \\ne 0$) is 0.51 (note that you may _not_ conclude that there is no differential expression in the mar1d strain)\n",
    "  - The P-value for a treatment by strain interaction with respect to the mRNA abundance of CNAG_04307 is 1.14e-11."
   ]
  },
  {
   "cell_type": "code",
   "execution_count": null,
   "metadata": {},
   "outputs": [],
   "source": []
  }
 ],
 "metadata": {
  "kernelspec": {
   "display_name": "R",
   "language": "R",
   "name": "ir"
  },
  "language_info": {
   "codemirror_mode": "r",
   "file_extension": ".r",
   "mimetype": "text/x-r-source",
   "name": "R",
   "pygments_lexer": "r",
   "version": "3.4.1"
  }
 },
 "nbformat": 4,
 "nbformat_minor": 2
}
