{
 "cells": [
  {
   "cell_type": "markdown",
   "metadata": {},
   "source": [
    "# Set environment"
   ]
  },
  {
   "cell_type": "code",
   "execution_count": 1,
   "metadata": {},
   "outputs": [
    {
     "name": "stderr",
     "output_type": "stream",
     "text": [
      "Loading tidyverse: ggplot2\n",
      "Loading tidyverse: tibble\n",
      "Loading tidyverse: tidyr\n",
      "Loading tidyverse: readr\n",
      "Loading tidyverse: purrr\n",
      "Loading tidyverse: dplyr\n",
      "Conflicts with tidy packages ---------------------------------------------------\n",
      "filter(): dplyr, stats\n",
      "lag():    dplyr, stats\n",
      "\n",
      "Attaching package: ‘foreach’\n",
      "\n",
      "The following objects are masked from ‘package:purrr’:\n",
      "\n",
      "    accumulate, when\n",
      "\n",
      "Loading required package: S4Vectors\n",
      "Loading required package: stats4\n",
      "Loading required package: BiocGenerics\n",
      "Loading required package: parallel\n",
      "\n",
      "Attaching package: ‘BiocGenerics’\n",
      "\n",
      "The following objects are masked from ‘package:parallel’:\n",
      "\n",
      "    clusterApply, clusterApplyLB, clusterCall, clusterEvalQ,\n",
      "    clusterExport, clusterMap, parApply, parCapply, parLapply,\n",
      "    parLapplyLB, parRapply, parSapply, parSapplyLB\n",
      "\n",
      "The following objects are masked from ‘package:dplyr’:\n",
      "\n",
      "    combine, intersect, setdiff, union\n",
      "\n",
      "The following objects are masked from ‘package:stats’:\n",
      "\n",
      "    IQR, mad, sd, var, xtabs\n",
      "\n",
      "The following objects are masked from ‘package:base’:\n",
      "\n",
      "    anyDuplicated, append, as.data.frame, cbind, colMeans, colnames,\n",
      "    colSums, do.call, duplicated, eval, evalq, Filter, Find, get, grep,\n",
      "    grepl, intersect, is.unsorted, lapply, lengths, Map, mapply, match,\n",
      "    mget, order, paste, pmax, pmax.int, pmin, pmin.int, Position, rank,\n",
      "    rbind, Reduce, rowMeans, rownames, rowSums, sapply, setdiff, sort,\n",
      "    table, tapply, union, unique, unsplit, which, which.max, which.min\n",
      "\n",
      "\n",
      "Attaching package: ‘S4Vectors’\n",
      "\n",
      "The following objects are masked from ‘package:dplyr’:\n",
      "\n",
      "    first, rename\n",
      "\n",
      "The following object is masked from ‘package:tidyr’:\n",
      "\n",
      "    expand\n",
      "\n",
      "The following object is masked from ‘package:base’:\n",
      "\n",
      "    expand.grid\n",
      "\n",
      "Loading required package: IRanges\n",
      "\n",
      "Attaching package: ‘IRanges’\n",
      "\n",
      "The following objects are masked from ‘package:dplyr’:\n",
      "\n",
      "    collapse, desc, slice\n",
      "\n",
      "The following object is masked from ‘package:purrr’:\n",
      "\n",
      "    reduce\n",
      "\n",
      "Loading required package: GenomicRanges\n",
      "Loading required package: GenomeInfoDb\n",
      "Loading required package: SummarizedExperiment\n",
      "Loading required package: Biobase\n",
      "Welcome to Bioconductor\n",
      "\n",
      "    Vignettes contain introductory material; view with\n",
      "    'browseVignettes()'. To cite Bioconductor, see\n",
      "    'citation(\"Biobase\")', and for packages 'citation(\"pkgname\")'.\n",
      "\n",
      "Loading required package: DelayedArray\n",
      "Loading required package: matrixStats\n",
      "\n",
      "Attaching package: ‘matrixStats’\n",
      "\n",
      "The following objects are masked from ‘package:Biobase’:\n",
      "\n",
      "    anyMissing, rowMedians\n",
      "\n",
      "The following object is masked from ‘package:dplyr’:\n",
      "\n",
      "    count\n",
      "\n",
      "\n",
      "Attaching package: ‘DelayedArray’\n",
      "\n",
      "The following objects are masked from ‘package:matrixStats’:\n",
      "\n",
      "    colMaxs, colMins, colRanges, rowMaxs, rowMins, rowRanges\n",
      "\n",
      "The following object is masked from ‘package:base’:\n",
      "\n",
      "    apply\n",
      "\n",
      "\n",
      "---------------------\n",
      "Welcome to dendextend version 1.8.0\n",
      "Type citation('dendextend') for how to cite the package.\n",
      "\n",
      "Type browseVignettes(package = 'dendextend') for the package vignette.\n",
      "The github page is: https://github.com/talgalili/dendextend/\n",
      "\n",
      "Suggestions and bug-reports can be submitted at: https://github.com/talgalili/dendextend/issues\n",
      "Or contact: <tal.galili@gmail.com>\n",
      "\n",
      "\tTo suppress this message use:  suppressPackageStartupMessages(library(dendextend))\n",
      "---------------------\n",
      "\n",
      "\n",
      "Attaching package: ‘dendextend’\n",
      "\n",
      "The following object is masked from ‘package:stats’:\n",
      "\n",
      "    cutree\n",
      "\n"
     ]
    }
   ],
   "source": [
    "source(\"pilot_config.R\")"
   ]
  },
  {
   "cell_type": "markdown",
   "metadata": {},
   "source": [
    "Recall that we have created the hts-pilot-2018.RData in tutorial one and HTS-Pilot-Annotated-STAR-counts.RData in tutorial two.\n",
    "```\n",
    "scratch\n",
    "└── analysis_out\n",
    "    ├── out  \n",
    "    │   └── hts-pilot-2018.RData  \n",
    "    |   └── HTS-Pilot-Annotated-STAR-counts.RData\n",
    "    └── img  \n",
    "```"
   ]
  },
  {
   "cell_type": "markdown",
   "metadata": {},
   "source": [
    "# Read in data"
   ]
  },
  {
   "cell_type": "code",
   "execution_count": 2,
   "metadata": {},
   "outputs": [],
   "source": [
    "attach(file.path(OUTDIR, \"HTS-Pilot-Annotated-STAR-counts.RData\"))"
   ]
  },
  {
   "cell_type": "markdown",
   "metadata": {},
   "source": [
    "### Annotated mapping results"
   ]
  },
  {
   "cell_type": "code",
   "execution_count": 3,
   "metadata": {},
   "outputs": [
    {
     "data": {
      "text/html": [
       "<table>\n",
       "<thead><tr><th scope=col>Label</th><th scope=col>Strain</th><th scope=col>Media</th><th scope=col>experiment_person</th><th scope=col>libprep_person</th><th scope=col>enrichment_method</th><th scope=col>prob.gene</th><th scope=col>prob.nofeat</th><th scope=col>prob.unique</th><th scope=col>depth</th></tr></thead>\n",
       "<tbody>\n",
       "\t<tr><td>1_MA_J     </td><td>H99        </td><td>YPD        </td><td>expA       </td><td>prepB      </td><td>MA         </td><td>0.9641456  </td><td>0.008161923</td><td>0.9723075  </td><td>2493464    </td></tr>\n",
       "\t<tr><td>1_RZ_J     </td><td>H99        </td><td>YPD        </td><td>expA       </td><td>prepB      </td><td>RZ         </td><td>0.6689001  </td><td>0.217095621</td><td>0.8859957  </td><td>3541358    </td></tr>\n",
       "\t<tr><td>10_MA_C    </td><td>mar1d      </td><td>YPD        </td><td>expA       </td><td>prepA      </td><td>MA         </td><td>0.9618651  </td><td>0.009818573</td><td>0.9716837  </td><td>3282785    </td></tr>\n",
       "\t<tr><td>10_RZ_C    </td><td>mar1d      </td><td>YPD        </td><td>expA       </td><td>prepA      </td><td>RZ         </td><td>0.7497438  </td><td>0.200651686</td><td>0.9503955  </td><td>1742594    </td></tr>\n",
       "\t<tr><td>11_MA_J    </td><td>mar1d      </td><td>YPD        </td><td>expA       </td><td>prepB      </td><td>MA         </td><td>0.9669597  </td><td>0.008717898</td><td>0.9756776  </td><td>2062181    </td></tr>\n",
       "\t<tr><td>11_RZ_J    </td><td>mar1d      </td><td>YPD        </td><td>expA       </td><td>prepB      </td><td>RZ         </td><td>0.7030020  </td><td>0.195547151</td><td>0.8985491  </td><td>2621913    </td></tr>\n",
       "</tbody>\n",
       "</table>\n"
      ],
      "text/latex": [
       "\\begin{tabular}{r|llllllllll}\n",
       " Label & Strain & Media & experiment\\_person & libprep\\_person & enrichment\\_method & prob.gene & prob.nofeat & prob.unique & depth\\\\\n",
       "\\hline\n",
       "\t 1\\_MA\\_J  & H99         & YPD         & expA        & prepB       & MA          & 0.9641456   & 0.008161923 & 0.9723075   & 2493464    \\\\\n",
       "\t 1\\_RZ\\_J  & H99         & YPD         & expA        & prepB       & RZ          & 0.6689001   & 0.217095621 & 0.8859957   & 3541358    \\\\\n",
       "\t 10\\_MA\\_C & mar1d       & YPD         & expA        & prepA       & MA          & 0.9618651   & 0.009818573 & 0.9716837   & 3282785    \\\\\n",
       "\t 10\\_RZ\\_C & mar1d       & YPD         & expA        & prepA       & RZ          & 0.7497438   & 0.200651686 & 0.9503955   & 1742594    \\\\\n",
       "\t 11\\_MA\\_J & mar1d       & YPD         & expA        & prepB       & MA          & 0.9669597   & 0.008717898 & 0.9756776   & 2062181    \\\\\n",
       "\t 11\\_RZ\\_J & mar1d       & YPD         & expA        & prepB       & RZ          & 0.7030020   & 0.195547151 & 0.8985491   & 2621913    \\\\\n",
       "\\end{tabular}\n"
      ],
      "text/markdown": [
       "\n",
       "Label | Strain | Media | experiment_person | libprep_person | enrichment_method | prob.gene | prob.nofeat | prob.unique | depth | \n",
       "|---|---|---|---|---|---|\n",
       "| 1_MA_J      | H99         | YPD         | expA        | prepB       | MA          | 0.9641456   | 0.008161923 | 0.9723075   | 2493464     | \n",
       "| 1_RZ_J      | H99         | YPD         | expA        | prepB       | RZ          | 0.6689001   | 0.217095621 | 0.8859957   | 3541358     | \n",
       "| 10_MA_C     | mar1d       | YPD         | expA        | prepA       | MA          | 0.9618651   | 0.009818573 | 0.9716837   | 3282785     | \n",
       "| 10_RZ_C     | mar1d       | YPD         | expA        | prepA       | RZ          | 0.7497438   | 0.200651686 | 0.9503955   | 1742594     | \n",
       "| 11_MA_J     | mar1d       | YPD         | expA        | prepB       | MA          | 0.9669597   | 0.008717898 | 0.9756776   | 2062181     | \n",
       "| 11_RZ_J     | mar1d       | YPD         | expA        | prepB       | RZ          | 0.7030020   | 0.195547151 | 0.8985491   | 2621913     | \n",
       "\n",
       "\n"
      ],
      "text/plain": [
       "  Label   Strain Media experiment_person libprep_person enrichment_method\n",
       "1 1_MA_J  H99    YPD   expA              prepB          MA               \n",
       "2 1_RZ_J  H99    YPD   expA              prepB          RZ               \n",
       "3 10_MA_C mar1d  YPD   expA              prepA          MA               \n",
       "4 10_RZ_C mar1d  YPD   expA              prepA          RZ               \n",
       "5 11_MA_J mar1d  YPD   expA              prepB          MA               \n",
       "6 11_RZ_J mar1d  YPD   expA              prepB          RZ               \n",
       "  prob.gene prob.nofeat prob.unique depth  \n",
       "1 0.9641456 0.008161923 0.9723075   2493464\n",
       "2 0.6689001 0.217095621 0.8859957   3541358\n",
       "3 0.9618651 0.009818573 0.9716837   3282785\n",
       "4 0.7497438 0.200651686 0.9503955   1742594\n",
       "5 0.9669597 0.008717898 0.9756776   2062181\n",
       "6 0.7030020 0.195547151 0.8985491   2621913"
      ]
     },
     "metadata": {},
     "output_type": "display_data"
    }
   ],
   "source": [
    "head(annomapres0)"
   ]
  },
  {
   "cell_type": "markdown",
   "metadata": {},
   "source": [
    "### Annotated count matrix"
   ]
  },
  {
   "cell_type": "code",
   "execution_count": 4,
   "metadata": {},
   "outputs": [
    {
     "data": {
      "text/html": [
       "<table>\n",
       "<thead><tr><th scope=col>gene</th><th scope=col>1_MA_J</th><th scope=col>1_RZ_J</th><th scope=col>10_MA_C</th><th scope=col>10_RZ_C</th><th scope=col>11_MA_J</th><th scope=col>11_RZ_J</th><th scope=col>12_MA_P</th><th scope=col>12_RZ_P</th><th scope=col>13_MA_J</th><th scope=col>⋯</th><th scope=col>4_RZ_P</th><th scope=col>4_TOT_P</th><th scope=col>40_MA_J</th><th scope=col>40_RZ_J</th><th scope=col>45_MA_P</th><th scope=col>45_RZ_P</th><th scope=col>47_MA_P</th><th scope=col>47_RZ_P</th><th scope=col>9_MA_C</th><th scope=col>9_RZ_C</th></tr></thead>\n",
       "<tbody>\n",
       "\t<tr><td>CNAG_00001</td><td>   0      </td><td>   0      </td><td>   0      </td><td>   0      </td><td>   0      </td><td>   0      </td><td>   0      </td><td>  0       </td><td>   0      </td><td>⋯         </td><td>  0       </td><td>  0       </td><td>   0      </td><td>   0      </td><td>   0      </td><td>   0      </td><td>   0      </td><td>   0      </td><td>   0      </td><td>   0      </td></tr>\n",
       "\t<tr><td>CNAG_00002</td><td> 265      </td><td> 204      </td><td> 269      </td><td>  76      </td><td> 130      </td><td>  92      </td><td> 205      </td><td> 64       </td><td> 308      </td><td>⋯         </td><td> 51       </td><td> 13       </td><td> 519      </td><td> 235      </td><td> 410      </td><td> 122      </td><td> 534      </td><td> 112      </td><td> 217      </td><td> 106      </td></tr>\n",
       "\t<tr><td>CNAG_00003</td><td> 112      </td><td>  40      </td><td> 171      </td><td>  24      </td><td> 124      </td><td>  18      </td><td> 150      </td><td> 34       </td><td> 221      </td><td>⋯         </td><td> 11       </td><td>  8       </td><td> 218      </td><td>  53      </td><td> 232      </td><td>  46      </td><td> 240      </td><td>  41      </td><td> 128      </td><td>  35      </td></tr>\n",
       "\t<tr><td>CNAG_00004</td><td> 301      </td><td> 207      </td><td> 407      </td><td> 141      </td><td> 272      </td><td> 179      </td><td> 351      </td><td>156       </td><td> 533      </td><td>⋯         </td><td> 50       </td><td> 36       </td><td> 719      </td><td> 442      </td><td> 518      </td><td> 238      </td><td> 622      </td><td> 277      </td><td> 310      </td><td> 234      </td></tr>\n",
       "\t<tr><td>CNAG_00005</td><td> 114      </td><td> 125      </td><td>  50      </td><td>  25      </td><td>  38      </td><td>  32      </td><td>  38      </td><td> 12       </td><td> 202      </td><td>⋯         </td><td> 25       </td><td> 14       </td><td> 344      </td><td> 270      </td><td> 202      </td><td>  81      </td><td> 256      </td><td> 118      </td><td>  45      </td><td>  40      </td></tr>\n",
       "\t<tr><td>CNAG_00006</td><td>1904      </td><td>1295      </td><td>3571      </td><td>1015      </td><td>2073      </td><td>1327      </td><td>3003      </td><td>926       </td><td>1660      </td><td>⋯         </td><td>319       </td><td>110       </td><td>3002      </td><td>1535      </td><td>3934      </td><td>1090      </td><td>4966      </td><td>1132      </td><td>3313      </td><td>1509      </td></tr>\n",
       "</tbody>\n",
       "</table>\n"
      ],
      "text/latex": [
       "\\begin{tabular}{r|llllllllllllllllllllllllllllllllllllllllllllllllllll}\n",
       " gene & 1\\_MA\\_J & 1\\_RZ\\_J & 10\\_MA\\_C & 10\\_RZ\\_C & 11\\_MA\\_J & 11\\_RZ\\_J & 12\\_MA\\_P & 12\\_RZ\\_P & 13\\_MA\\_J & ⋯ & 4\\_RZ\\_P & 4\\_TOT\\_P & 40\\_MA\\_J & 40\\_RZ\\_J & 45\\_MA\\_P & 45\\_RZ\\_P & 47\\_MA\\_P & 47\\_RZ\\_P & 9\\_MA\\_C & 9\\_RZ\\_C\\\\\n",
       "\\hline\n",
       "\t CNAG\\_00001 &    0         &    0         &    0         &    0         &    0         &    0         &    0         &   0          &    0         & ⋯            &   0          &   0          &    0         &    0         &    0         &    0         &    0         &    0         &    0         &    0        \\\\\n",
       "\t CNAG\\_00002 &  265         &  204         &  269         &   76         &  130         &   92         &  205         &  64          &  308         & ⋯            &  51          &  13          &  519         &  235         &  410         &  122         &  534         &  112         &  217         &  106        \\\\\n",
       "\t CNAG\\_00003 &  112         &   40         &  171         &   24         &  124         &   18         &  150         &  34          &  221         & ⋯            &  11          &   8          &  218         &   53         &  232         &   46         &  240         &   41         &  128         &   35        \\\\\n",
       "\t CNAG\\_00004 &  301         &  207         &  407         &  141         &  272         &  179         &  351         & 156          &  533         & ⋯            &  50          &  36          &  719         &  442         &  518         &  238         &  622         &  277         &  310         &  234        \\\\\n",
       "\t CNAG\\_00005 &  114         &  125         &   50         &   25         &   38         &   32         &   38         &  12          &  202         & ⋯            &  25          &  14          &  344         &  270         &  202         &   81         &  256         &  118         &   45         &   40        \\\\\n",
       "\t CNAG\\_00006 & 1904         & 1295         & 3571         & 1015         & 2073         & 1327         & 3003         & 926          & 1660         & ⋯            & 319          & 110          & 3002         & 1535         & 3934         & 1090         & 4966         & 1132         & 3313         & 1509        \\\\\n",
       "\\end{tabular}\n"
      ],
      "text/markdown": [
       "\n",
       "gene | 1_MA_J | 1_RZ_J | 10_MA_C | 10_RZ_C | 11_MA_J | 11_RZ_J | 12_MA_P | 12_RZ_P | 13_MA_J | ⋯ | 4_RZ_P | 4_TOT_P | 40_MA_J | 40_RZ_J | 45_MA_P | 45_RZ_P | 47_MA_P | 47_RZ_P | 9_MA_C | 9_RZ_C | \n",
       "|---|---|---|---|---|---|\n",
       "| CNAG_00001 |    0       |    0       |    0       |    0       |    0       |    0       |    0       |   0        |    0       | ⋯          |   0        |   0        |    0       |    0       |    0       |    0       |    0       |    0       |    0       |    0       | \n",
       "| CNAG_00002 |  265       |  204       |  269       |   76       |  130       |   92       |  205       |  64        |  308       | ⋯          |  51        |  13        |  519       |  235       |  410       |  122       |  534       |  112       |  217       |  106       | \n",
       "| CNAG_00003 |  112       |   40       |  171       |   24       |  124       |   18       |  150       |  34        |  221       | ⋯          |  11        |   8        |  218       |   53       |  232       |   46       |  240       |   41       |  128       |   35       | \n",
       "| CNAG_00004 |  301       |  207       |  407       |  141       |  272       |  179       |  351       | 156        |  533       | ⋯          |  50        |  36        |  719       |  442       |  518       |  238       |  622       |  277       |  310       |  234       | \n",
       "| CNAG_00005 |  114       |  125       |   50       |   25       |   38       |   32       |   38       |  12        |  202       | ⋯          |  25        |  14        |  344       |  270       |  202       |   81       |  256       |  118       |   45       |   40       | \n",
       "| CNAG_00006 | 1904       | 1295       | 3571       | 1015       | 2073       | 1327       | 3003       | 926        | 1660       | ⋯          | 319        | 110        | 3002       | 1535       | 3934       | 1090       | 4966       | 1132       | 3313       | 1509       | \n",
       "\n",
       "\n"
      ],
      "text/plain": [
       "  gene       1_MA_J 1_RZ_J 10_MA_C 10_RZ_C 11_MA_J 11_RZ_J 12_MA_P 12_RZ_P\n",
       "1 CNAG_00001    0      0      0       0       0       0       0      0    \n",
       "2 CNAG_00002  265    204    269      76     130      92     205     64    \n",
       "3 CNAG_00003  112     40    171      24     124      18     150     34    \n",
       "4 CNAG_00004  301    207    407     141     272     179     351    156    \n",
       "5 CNAG_00005  114    125     50      25      38      32      38     12    \n",
       "6 CNAG_00006 1904   1295   3571    1015    2073    1327    3003    926    \n",
       "  13_MA_J ⋯ 4_RZ_P 4_TOT_P 40_MA_J 40_RZ_J 45_MA_P 45_RZ_P 47_MA_P 47_RZ_P\n",
       "1    0    ⋯   0      0        0       0       0       0       0       0   \n",
       "2  308    ⋯  51     13      519     235     410     122     534     112   \n",
       "3  221    ⋯  11      8      218      53     232      46     240      41   \n",
       "4  533    ⋯  50     36      719     442     518     238     622     277   \n",
       "5  202    ⋯  25     14      344     270     202      81     256     118   \n",
       "6 1660    ⋯ 319    110     3002    1535    3934    1090    4966    1132   \n",
       "  9_MA_C 9_RZ_C\n",
       "1    0      0  \n",
       "2  217    106  \n",
       "3  128     35  \n",
       "4  310    234  \n",
       "5   45     40  \n",
       "6 3313   1509  "
      ]
     },
     "metadata": {},
     "output_type": "display_data"
    }
   ],
   "source": [
    "head(annogenecnts0)"
   ]
  },
  {
   "cell_type": "markdown",
   "metadata": {},
   "source": [
    "# DESeq object"
   ]
  },
  {
   "cell_type": "markdown",
   "metadata": {},
   "source": [
    "Generate count matrix for RZ enrichment method"
   ]
  },
  {
   "cell_type": "code",
   "execution_count": 5,
   "metadata": {},
   "outputs": [
    {
     "name": "stdout",
     "output_type": "stream",
     "text": [
      "c(\"gene\", \"1_RZ_J\", \"10_RZ_C\", \"11_RZ_J\", \"12_RZ_P\", \"13_RZ_J\", \n",
      "\"14_RZ_C\", \"15_RZ_C\", \"16_RZ_P\", \"2_RZ_C\", \"21_RZ_C\", \"22_RZ_C\", \n",
      "\"23_RZ_J\", \"24_RZ_J\", \"26_RZ_C\", \"27_RZ_P\", \"3_RZ_J\", \"35_RZ_P\", \n",
      "\"36_RZ_J\", \"38_RZ_P\", \"4_RZ_P\", \"40_RZ_J\", \"45_RZ_P\", \"47_RZ_P\", \n",
      "\"9_RZ_C\")\n"
     ]
    }
   ],
   "source": [
    "### Prepare columnData (DataFrameand countData (matrix object)\n",
    "### Select samples from RZ\n",
    "annomapres0 %>%\n",
    "    dplyr::filter(enrichment_method == \"RZ\")  %>%\n",
    "    DataFrame ->\n",
    "    columnData\n",
    "rownames(columnData) <- columnData[[\"Label\"]]\n",
    "\n",
    "annogenecnts0 %>%\n",
    "    dplyr::select(dput(as.character(c(\"gene\",columnData[[\"Label\"]])))) %>%\n",
    "    as.data.frame %>%\n",
    "    column_to_rownames(\"gene\") %>%\n",
    "    as.matrix ->\n",
    "    countData"
   ]
  },
  {
   "cell_type": "code",
   "execution_count": 6,
   "metadata": {},
   "outputs": [
    {
     "data": {
      "text/html": [
       "<table>\n",
       "<thead><tr><th></th><th scope=col>1_RZ_J</th><th scope=col>10_RZ_C</th><th scope=col>11_RZ_J</th><th scope=col>12_RZ_P</th><th scope=col>13_RZ_J</th><th scope=col>14_RZ_C</th><th scope=col>15_RZ_C</th><th scope=col>16_RZ_P</th><th scope=col>2_RZ_C</th><th scope=col>21_RZ_C</th><th scope=col>⋯</th><th scope=col>27_RZ_P</th><th scope=col>3_RZ_J</th><th scope=col>35_RZ_P</th><th scope=col>36_RZ_J</th><th scope=col>38_RZ_P</th><th scope=col>4_RZ_P</th><th scope=col>40_RZ_J</th><th scope=col>45_RZ_P</th><th scope=col>47_RZ_P</th><th scope=col>9_RZ_C</th></tr></thead>\n",
       "<tbody>\n",
       "\t<tr><th scope=row>CNAG_00001</th><td>   0</td><td>   0</td><td>   0</td><td>  0 </td><td>   0</td><td>  0 </td><td>   0</td><td>  1 </td><td>   0</td><td>   0</td><td>⋯   </td><td>  0 </td><td>  0 </td><td>  0 </td><td>   0</td><td>  0 </td><td>  0 </td><td>   0</td><td>   0</td><td>   0</td><td>   0</td></tr>\n",
       "\t<tr><th scope=row>CNAG_00002</th><td> 204</td><td>  76</td><td>  92</td><td> 64 </td><td> 230</td><td>182 </td><td> 200</td><td>129 </td><td> 168</td><td> 124</td><td>⋯   </td><td> 43 </td><td>107 </td><td>150 </td><td> 109</td><td> 95 </td><td> 51 </td><td> 235</td><td> 122</td><td> 112</td><td> 106</td></tr>\n",
       "\t<tr><th scope=row>CNAG_00003</th><td>  40</td><td>  24</td><td>  18</td><td> 34 </td><td>  56</td><td> 53 </td><td>  54</td><td> 40 </td><td>  40</td><td>  41</td><td>⋯   </td><td>  9 </td><td> 24 </td><td> 26 </td><td>  43</td><td> 43 </td><td> 11 </td><td>  53</td><td>  46</td><td>  41</td><td>  35</td></tr>\n",
       "\t<tr><th scope=row>CNAG_00004</th><td> 207</td><td> 141</td><td> 179</td><td>156 </td><td> 396</td><td>363 </td><td> 416</td><td>254 </td><td> 184</td><td> 312</td><td>⋯   </td><td> 56 </td><td>140 </td><td>224 </td><td> 202</td><td>166 </td><td> 50 </td><td> 442</td><td> 238</td><td> 277</td><td> 234</td></tr>\n",
       "\t<tr><th scope=row>CNAG_00005</th><td> 125</td><td>  25</td><td>  32</td><td> 12 </td><td> 201</td><td>179 </td><td> 187</td><td>124 </td><td> 121</td><td> 122</td><td>⋯   </td><td> 22 </td><td> 67 </td><td>154 </td><td>  56</td><td> 82 </td><td> 25 </td><td> 270</td><td>  81</td><td> 118</td><td>  40</td></tr>\n",
       "\t<tr><th scope=row>CNAG_00006</th><td>1295</td><td>1015</td><td>1327</td><td>926 </td><td>1143</td><td>879 </td><td>1058</td><td>619 </td><td>1060</td><td>1103</td><td>⋯   </td><td>398 </td><td>827 </td><td>869 </td><td>1877</td><td>627 </td><td>319 </td><td>1535</td><td>1090</td><td>1132</td><td>1509</td></tr>\n",
       "</tbody>\n",
       "</table>\n"
      ],
      "text/latex": [
       "\\begin{tabular}{r|llllllllllllllllllllllll}\n",
       "  & 1\\_RZ\\_J & 10\\_RZ\\_C & 11\\_RZ\\_J & 12\\_RZ\\_P & 13\\_RZ\\_J & 14\\_RZ\\_C & 15\\_RZ\\_C & 16\\_RZ\\_P & 2\\_RZ\\_C & 21\\_RZ\\_C & ⋯ & 27\\_RZ\\_P & 3\\_RZ\\_J & 35\\_RZ\\_P & 36\\_RZ\\_J & 38\\_RZ\\_P & 4\\_RZ\\_P & 40\\_RZ\\_J & 45\\_RZ\\_P & 47\\_RZ\\_P & 9\\_RZ\\_C\\\\\n",
       "\\hline\n",
       "\tCNAG\\_00001 &    0 &    0 &    0 &   0  &    0 &   0  &    0 &   1  &    0 &    0 & ⋯    &   0  &   0  &   0  &    0 &   0  &   0  &    0 &    0 &    0 &    0\\\\\n",
       "\tCNAG\\_00002 &  204 &   76 &   92 &  64  &  230 & 182  &  200 & 129  &  168 &  124 & ⋯    &  43  & 107  & 150  &  109 &  95  &  51  &  235 &  122 &  112 &  106\\\\\n",
       "\tCNAG\\_00003 &   40 &   24 &   18 &  34  &   56 &  53  &   54 &  40  &   40 &   41 & ⋯    &   9  &  24  &  26  &   43 &  43  &  11  &   53 &   46 &   41 &   35\\\\\n",
       "\tCNAG\\_00004 &  207 &  141 &  179 & 156  &  396 & 363  &  416 & 254  &  184 &  312 & ⋯    &  56  & 140  & 224  &  202 & 166  &  50  &  442 &  238 &  277 &  234\\\\\n",
       "\tCNAG\\_00005 &  125 &   25 &   32 &  12  &  201 & 179  &  187 & 124  &  121 &  122 & ⋯    &  22  &  67  & 154  &   56 &  82  &  25  &  270 &   81 &  118 &   40\\\\\n",
       "\tCNAG\\_00006 & 1295 & 1015 & 1327 & 926  & 1143 & 879  & 1058 & 619  & 1060 & 1103 & ⋯    & 398  & 827  & 869  & 1877 & 627  & 319  & 1535 & 1090 & 1132 & 1509\\\\\n",
       "\\end{tabular}\n"
      ],
      "text/markdown": [
       "\n",
       "| <!--/--> | 1_RZ_J | 10_RZ_C | 11_RZ_J | 12_RZ_P | 13_RZ_J | 14_RZ_C | 15_RZ_C | 16_RZ_P | 2_RZ_C | 21_RZ_C | ⋯ | 27_RZ_P | 3_RZ_J | 35_RZ_P | 36_RZ_J | 38_RZ_P | 4_RZ_P | 40_RZ_J | 45_RZ_P | 47_RZ_P | 9_RZ_C | \n",
       "|---|---|---|---|---|---|\n",
       "| CNAG_00001 |    0 |    0 |    0 |   0  |    0 |   0  |    0 |   1  |    0 |    0 | ⋯    |   0  |   0  |   0  |    0 |   0  |   0  |    0 |    0 |    0 |    0 | \n",
       "| CNAG_00002 |  204 |   76 |   92 |  64  |  230 | 182  |  200 | 129  |  168 |  124 | ⋯    |  43  | 107  | 150  |  109 |  95  |  51  |  235 |  122 |  112 |  106 | \n",
       "| CNAG_00003 |   40 |   24 |   18 |  34  |   56 |  53  |   54 |  40  |   40 |   41 | ⋯    |   9  |  24  |  26  |   43 |  43  |  11  |   53 |   46 |   41 |   35 | \n",
       "| CNAG_00004 |  207 |  141 |  179 | 156  |  396 | 363  |  416 | 254  |  184 |  312 | ⋯    |  56  | 140  | 224  |  202 | 166  |  50  |  442 |  238 |  277 |  234 | \n",
       "| CNAG_00005 |  125 |   25 |   32 |  12  |  201 | 179  |  187 | 124  |  121 |  122 | ⋯    |  22  |  67  | 154  |   56 |  82  |  25  |  270 |   81 |  118 |   40 | \n",
       "| CNAG_00006 | 1295 | 1015 | 1327 | 926  | 1143 | 879  | 1058 | 619  | 1060 | 1103 | ⋯    | 398  | 827  | 869  | 1877 | 627  | 319  | 1535 | 1090 | 1132 | 1509 | \n",
       "\n",
       "\n"
      ],
      "text/plain": [
       "           1_RZ_J 10_RZ_C 11_RZ_J 12_RZ_P 13_RZ_J 14_RZ_C 15_RZ_C 16_RZ_P\n",
       "CNAG_00001    0      0       0      0        0      0        0      1    \n",
       "CNAG_00002  204     76      92     64      230    182      200    129    \n",
       "CNAG_00003   40     24      18     34       56     53       54     40    \n",
       "CNAG_00004  207    141     179    156      396    363      416    254    \n",
       "CNAG_00005  125     25      32     12      201    179      187    124    \n",
       "CNAG_00006 1295   1015    1327    926     1143    879     1058    619    \n",
       "           2_RZ_C 21_RZ_C ⋯ 27_RZ_P 3_RZ_J 35_RZ_P 36_RZ_J 38_RZ_P 4_RZ_P\n",
       "CNAG_00001    0      0    ⋯   0       0      0        0      0       0   \n",
       "CNAG_00002  168    124    ⋯  43     107    150      109     95      51   \n",
       "CNAG_00003   40     41    ⋯   9      24     26       43     43      11   \n",
       "CNAG_00004  184    312    ⋯  56     140    224      202    166      50   \n",
       "CNAG_00005  121    122    ⋯  22      67    154       56     82      25   \n",
       "CNAG_00006 1060   1103    ⋯ 398     827    869     1877    627     319   \n",
       "           40_RZ_J 45_RZ_P 47_RZ_P 9_RZ_C\n",
       "CNAG_00001    0       0       0       0  \n",
       "CNAG_00002  235     122     112     106  \n",
       "CNAG_00003   53      46      41      35  \n",
       "CNAG_00004  442     238     277     234  \n",
       "CNAG_00005  270      81     118      40  \n",
       "CNAG_00006 1535    1090    1132    1509  "
      ]
     },
     "metadata": {},
     "output_type": "display_data"
    }
   ],
   "source": [
    "head(countData)"
   ]
  },
  {
   "cell_type": "markdown",
   "metadata": {},
   "source": [
    "Import count matrix as a DESeq object"
   ]
  },
  {
   "cell_type": "code",
   "execution_count": 7,
   "metadata": {},
   "outputs": [
    {
     "name": "stderr",
     "output_type": "stream",
     "text": [
      "gene-wise dispersion estimates\n",
      "mean-dispersion relationship\n",
      "final dispersion estimates\n",
      "using pre-existing size factors\n",
      "estimating dispersions\n",
      "found already estimated dispersions, replacing these\n",
      "gene-wise dispersion estimates\n",
      "mean-dispersion relationship\n",
      "final dispersion estimates\n",
      "fitting model and testing\n"
     ]
    }
   ],
   "source": [
    "### Make DESeq object on the basis of the counts\n",
    "dds <- DESeqDataSetFromMatrix(countData, columnData, ~ Media + Strain + Media:Strain)\n",
    "### Estimate Size Factors\n",
    "dds <- estimateSizeFactors(dds)\n",
    "### Estimate Dispersion parameters (for each gene)\n",
    "dds <- estimateDispersions(dds)\n",
    "### Fit NB MLE model\n",
    "dds <- DESeq(dds)\n",
    "### Rlog \"normalized\" expressions\n",
    "rld <- rlog(dds)"
   ]
  },
  {
   "cell_type": "code",
   "execution_count": 8,
   "metadata": {},
   "outputs": [
    {
     "data": {
      "text/html": [
       "<table>\n",
       "<thead><tr><th scope=col>row</th><th scope=col>baseMean</th><th scope=col>log2FoldChange</th><th scope=col>lfcSE</th><th scope=col>stat</th><th scope=col>pvalue</th><th scope=col>padj</th></tr></thead>\n",
       "<tbody>\n",
       "\t<tr><td>CNAG_04307  </td><td> 490.86196  </td><td> 4.023118   </td><td>0.29759976  </td><td>13.518553   </td><td>1.215429e-41</td><td>9.552054e-38</td></tr>\n",
       "\t<tr><td>CNAG_05459  </td><td> 636.02477  </td><td> 1.144042   </td><td>0.09994094  </td><td>11.447183   </td><td>2.429119e-30</td><td>9.545224e-27</td></tr>\n",
       "\t<tr><td>CNAG_03621  </td><td>1821.27006  </td><td>-1.064434   </td><td>0.10659585  </td><td>-9.985699   </td><td>1.760551e-23</td><td>4.612056e-20</td></tr>\n",
       "\t<tr><td>CNAG_00600  </td><td> 848.44047  </td><td> 1.142434   </td><td>0.11598632  </td><td> 9.849729   </td><td>6.872879e-23</td><td>1.350349e-19</td></tr>\n",
       "\t<tr><td>CNAG_04585  </td><td> 812.31911  </td><td>-4.040747   </td><td>0.41261597  </td><td>-9.792997   </td><td>1.206656e-22</td><td>1.896623e-19</td></tr>\n",
       "\t<tr><td>CNAG_03735  </td><td> 521.96604  </td><td> 1.634231   </td><td>0.16755798  </td><td> 9.753228   </td><td>1.786944e-22</td><td>2.340599e-19</td></tr>\n",
       "\t<tr><td>CNAG_07862  </td><td>  85.91321  </td><td>-2.608844   </td><td>0.26841617  </td><td>-9.719401   </td><td>2.492446e-22</td><td>2.798304e-19</td></tr>\n",
       "\t<tr><td>CNAG_02733  </td><td>  15.32034  </td><td>-4.023640   </td><td>0.41731949  </td><td>-9.641629   </td><td>5.333480e-22</td><td>5.239478e-19</td></tr>\n",
       "\t<tr><td>CNAG_06517  </td><td> 850.38128  </td><td> 1.871991   </td><td>0.19539060  </td><td> 9.580764   </td><td>9.632973e-22</td><td>8.411726e-19</td></tr>\n",
       "\t<tr><td>CNAG_00399  </td><td> 213.68536  </td><td>-2.146601   </td><td>0.22469243  </td><td>-9.553507   </td><td>1.253786e-21</td><td>9.853503e-19</td></tr>\n",
       "</tbody>\n",
       "</table>\n"
      ],
      "text/latex": [
       "\\begin{tabular}{r|lllllll}\n",
       " row & baseMean & log2FoldChange & lfcSE & stat & pvalue & padj\\\\\n",
       "\\hline\n",
       "\t CNAG\\_04307 &  490.86196   &  4.023118    & 0.29759976   & 13.518553    & 1.215429e-41 & 9.552054e-38\\\\\n",
       "\t CNAG\\_05459 &  636.02477   &  1.144042    & 0.09994094   & 11.447183    & 2.429119e-30 & 9.545224e-27\\\\\n",
       "\t CNAG\\_03621 & 1821.27006   & -1.064434    & 0.10659585   & -9.985699    & 1.760551e-23 & 4.612056e-20\\\\\n",
       "\t CNAG\\_00600 &  848.44047   &  1.142434    & 0.11598632   &  9.849729    & 6.872879e-23 & 1.350349e-19\\\\\n",
       "\t CNAG\\_04585 &  812.31911   & -4.040747    & 0.41261597   & -9.792997    & 1.206656e-22 & 1.896623e-19\\\\\n",
       "\t CNAG\\_03735 &  521.96604   &  1.634231    & 0.16755798   &  9.753228    & 1.786944e-22 & 2.340599e-19\\\\\n",
       "\t CNAG\\_07862 &   85.91321   & -2.608844    & 0.26841617   & -9.719401    & 2.492446e-22 & 2.798304e-19\\\\\n",
       "\t CNAG\\_02733 &   15.32034   & -4.023640    & 0.41731949   & -9.641629    & 5.333480e-22 & 5.239478e-19\\\\\n",
       "\t CNAG\\_06517 &  850.38128   &  1.871991    & 0.19539060   &  9.580764    & 9.632973e-22 & 8.411726e-19\\\\\n",
       "\t CNAG\\_00399 &  213.68536   & -2.146601    & 0.22469243   & -9.553507    & 1.253786e-21 & 9.853503e-19\\\\\n",
       "\\end{tabular}\n"
      ],
      "text/markdown": [
       "\n",
       "row | baseMean | log2FoldChange | lfcSE | stat | pvalue | padj | \n",
       "|---|---|---|---|---|---|---|---|---|---|\n",
       "| CNAG_04307   |  490.86196   |  4.023118    | 0.29759976   | 13.518553    | 1.215429e-41 | 9.552054e-38 | \n",
       "| CNAG_05459   |  636.02477   |  1.144042    | 0.09994094   | 11.447183    | 2.429119e-30 | 9.545224e-27 | \n",
       "| CNAG_03621   | 1821.27006   | -1.064434    | 0.10659585   | -9.985699    | 1.760551e-23 | 4.612056e-20 | \n",
       "| CNAG_00600   |  848.44047   |  1.142434    | 0.11598632   |  9.849729    | 6.872879e-23 | 1.350349e-19 | \n",
       "| CNAG_04585   |  812.31911   | -4.040747    | 0.41261597   | -9.792997    | 1.206656e-22 | 1.896623e-19 | \n",
       "| CNAG_03735   |  521.96604   |  1.634231    | 0.16755798   |  9.753228    | 1.786944e-22 | 2.340599e-19 | \n",
       "| CNAG_07862   |   85.91321   | -2.608844    | 0.26841617   | -9.719401    | 2.492446e-22 | 2.798304e-19 | \n",
       "| CNAG_02733   |   15.32034   | -4.023640    | 0.41731949   | -9.641629    | 5.333480e-22 | 5.239478e-19 | \n",
       "| CNAG_06517   |  850.38128   |  1.871991    | 0.19539060   |  9.580764    | 9.632973e-22 | 8.411726e-19 | \n",
       "| CNAG_00399   |  213.68536   | -2.146601    | 0.22469243   | -9.553507    | 1.253786e-21 | 9.853503e-19 | \n",
       "\n",
       "\n"
      ],
      "text/plain": [
       "   row        baseMean   log2FoldChange lfcSE      stat      pvalue      \n",
       "1  CNAG_04307  490.86196  4.023118      0.29759976 13.518553 1.215429e-41\n",
       "2  CNAG_05459  636.02477  1.144042      0.09994094 11.447183 2.429119e-30\n",
       "3  CNAG_03621 1821.27006 -1.064434      0.10659585 -9.985699 1.760551e-23\n",
       "4  CNAG_00600  848.44047  1.142434      0.11598632  9.849729 6.872879e-23\n",
       "5  CNAG_04585  812.31911 -4.040747      0.41261597 -9.792997 1.206656e-22\n",
       "6  CNAG_03735  521.96604  1.634231      0.16755798  9.753228 1.786944e-22\n",
       "7  CNAG_07862   85.91321 -2.608844      0.26841617 -9.719401 2.492446e-22\n",
       "8  CNAG_02733   15.32034 -4.023640      0.41731949 -9.641629 5.333480e-22\n",
       "9  CNAG_06517  850.38128  1.871991      0.19539060  9.580764 9.632973e-22\n",
       "10 CNAG_00399  213.68536 -2.146601      0.22469243 -9.553507 1.253786e-21\n",
       "   padj        \n",
       "1  9.552054e-38\n",
       "2  9.545224e-27\n",
       "3  4.612056e-20\n",
       "4  1.350349e-19\n",
       "5  1.896623e-19\n",
       "6  2.340599e-19\n",
       "7  2.798304e-19\n",
       "8  5.239478e-19\n",
       "9  8.411726e-19\n",
       "10 9.853503e-19"
      ]
     },
     "metadata": {},
     "output_type": "display_data"
    }
   ],
   "source": [
    "### Show top 10 hits\n",
    "results(dds, tidy = TRUE) %>% arrange(pvalue) %>% head(10)"
   ]
  },
  {
   "cell_type": "markdown",
   "metadata": {},
   "source": [
    "# Gene expression value in different media and strain"
   ]
  },
  {
   "cell_type": "code",
   "execution_count": 9,
   "metadata": {},
   "outputs": [
    {
     "data": {},
     "metadata": {},
     "output_type": "display_data"
    },
    {
     "data": {
      "image/png": "[encoded data removed]",
      "text/plain": [
       "plot without title"
      ]
     },
     "metadata": {},
     "output_type": "display_data"
    }
   ],
   "source": [
    "### A function for exploring interactions\n",
    "myinteractplot <- function(mydds, geneid) {\n",
    "    # plot gene expression value in different media and strain\n",
    "    #\n",
    "    # Args:\n",
    "    #   mydds (DESeqTransform object): your input DESeq object\n",
    "    #   geneid (Charater): the second count data\n",
    "    #\n",
    "    # Returns:\n",
    "    #   (ggplot object) the final plot\n",
    "    assay(mydds) %>%\n",
    "        as_tibble(rownames = \"gene\") %>%\n",
    "        filter(gene == geneid) %>%\n",
    "        gather(Label, value, -gene) %>%\n",
    "        select(-gene) -> \n",
    "        genedat\n",
    "    \n",
    "    colData(mydds) %>%\n",
    "        as.data.frame %>%\n",
    "        as_tibble %>%\n",
    "        full_join(genedat, by=\"Label\") -> genedat\n",
    "\n",
    "    mygeom  <-  geom_point()\n",
    "    mypal   <- scale_colour_manual(name = \"\",  values = brewer.pal(3, \"Set1\"))\n",
    "    mytheme <- theme_bw()\n",
    "\n",
    "    ggplot(genedat, aes(x = Strain, y = value, color = Media)) + mygeom + mytheme + mypal\n",
    "}\n",
    "\n",
    "myinteractplot(rld, \"CNAG_05845\")"
   ]
  },
  {
   "cell_type": "markdown",
   "metadata": {},
   "source": [
    "# Dendrogram of Samples in Hierarchical Clustering"
   ]
  },
  {
   "cell_type": "markdown",
   "metadata": {},
   "source": [
    "Create Dendrogram of samples using hierarchical clustering"
   ]
  },
  {
   "cell_type": "code",
   "execution_count": 10,
   "metadata": {},
   "outputs": [],
   "source": [
    "assay(rld) %>%\n",
    "    t() %>%\n",
    "    dist %>%\n",
    "    hclust(method = \"complete\") %>%\n",
    "    as.dendrogram ->\n",
    "    mydend"
   ]
  },
  {
   "cell_type": "markdown",
   "metadata": {},
   "source": [
    "Customize function to plot dendrogram showing the sample annotations"
   ]
  },
  {
   "cell_type": "code",
   "execution_count": 11,
   "metadata": {},
   "outputs": [],
   "source": [
    "dendplot <- function(mydend, columndata, labvar, colvar, pchvar) {\n",
    "    # plot dendrogram\n",
    "    #\n",
    "    # Args:\n",
    "    #   mydend (Dendrogram): your input DESeq object\n",
    "    #   columndata (DataFrame): the second count data\n",
    "    #   labvar (Character): variable that show in label\n",
    "    #   colvar (Character): variable that define color\n",
    "    #   pchvar (Character): variable that define shape of points\n",
    "    #\n",
    "    # Returns:\n",
    "    #   (Dendrogram) final plot of dendrogram\n",
    "    cols   <- factor(columndata[[colvar]][order.dendrogram(mydend)])\n",
    "    collab <- brewer.pal(max(3, nlevels(cols)), \"Set1\")[cols]\n",
    "    pchs   <- factor(columndata[[pchvar]][order.dendrogram(mydend)])\n",
    "    pchlab <- seq_len(nlevels(pchs))[pchs]\n",
    "    lablab <- columndata[[labvar]][order.dendrogram(mydend)]\n",
    "    \n",
    "    mydend %>% \n",
    "        set(\"labels_cex\", 1) %>% \n",
    "        set(\"labels_col\", collab) %>%\n",
    "        set(\"leaves_pch\", pchlab) %>%\n",
    "        set(\"labels\",     lablab)\n",
    "}"
   ]
  },
  {
   "cell_type": "markdown",
   "metadata": {},
   "source": [
    "### Dendrogram of samples: showing strain of each sample"
   ]
  },
  {
   "cell_type": "code",
   "execution_count": 12,
   "metadata": {},
   "outputs": [
    {
     "data": {
      "image/png": "[encoded data removed]",
      "text/plain": [
       "plot without title"
      ]
     },
     "metadata": {},
     "output_type": "display_data"
    }
   ],
   "source": [
    "dendplot(mydend, columnData, \"Strain\", \"Strain\", \"Media\") %>% plot"
   ]
  },
  {
   "cell_type": "markdown",
   "metadata": {},
   "source": [
    "### Dendrogram of samples: showing media of each sample"
   ]
  },
  {
   "cell_type": "code",
   "execution_count": 13,
   "metadata": {},
   "outputs": [
    {
     "data": {
      "image/png": "[encoded data removed]",
      "text/plain": [
       "plot without title"
      ]
     },
     "metadata": {},
     "output_type": "display_data"
    }
   ],
   "source": [
    "dendplot(mydend, columnData, \"Media\", \"Strain\", \"Media\") %>% plot"
   ]
  },
  {
   "cell_type": "markdown",
   "metadata": {},
   "source": [
    "### Dendrogram of samples: showing sample names of each sample"
   ]
  },
  {
   "cell_type": "code",
   "execution_count": 14,
   "metadata": {
    "scrolled": false
   },
   "outputs": [
    {
     "data": {
      "image/png": "[encoded data removed]",
      "text/plain": [
       "plot without title"
      ]
     },
     "metadata": {},
     "output_type": "display_data"
    }
   ],
   "source": [
    "dendplot(mydend, columnData, \"Label\", \"Strain\", \"Media\") %>% plot"
   ]
  },
  {
   "cell_type": "markdown",
   "metadata": {},
   "source": [
    "Store the plot into a pdf"
   ]
  },
  {
   "cell_type": "code",
   "execution_count": 15,
   "metadata": {},
   "outputs": [],
   "source": [
    "pdf(file.path(IMGDIR, \"dendrogram.pdf\"))\n",
    "dendplot(mydend, columnData, \"Strain\", \"Strain\", \"Media\") %>% plot\n",
    "dendplot(mydend, columnData, \"Media\", \"Strain\", \"Media\") %>% plot\n",
    "dendplot(mydend, columnData, \"Label\", \"Strain\", \"Media\") %>% plot\n",
    "graphics.off()"
   ]
  }
 ],
 "metadata": {
  "kernelspec": {
   "display_name": "R",
   "language": "R",
   "name": "ir"
  },
  "language_info": {
   "codemirror_mode": "r",
   "file_extension": ".r",
   "mimetype": "text/x-r-source",
   "name": "R",
   "pygments_lexer": "r",
   "version": "3.4.1"
  }
 },
 "nbformat": 4,
 "nbformat_minor": 2
}
