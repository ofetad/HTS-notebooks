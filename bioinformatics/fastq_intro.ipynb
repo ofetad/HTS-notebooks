{
 "cells": [
  {
   "cell_type": "markdown",
   "metadata": {},
   "source": [
    "# Introduction to FASTQ Files\n",
    "\n",
    "<!--- \n",
    "** Add Intro Text***\n",
    "-->\n",
    "\n",
    "## Shell Variables\n",
    "As before, we will use shell variables to make it easier to refer to the directories we are working with.  The shell variables do not carry over between notebooks.  Shell variables are specific to a shell session, and each notebook is a separate shell session.\n",
    "\n",
    "So the first thing we will do is assign the variables in this notebook."
   ]
  },
  {
   "cell_type": "code",
   "execution_count": null,
   "metadata": {},
   "outputs": [],
   "source": [
    "# Hack to handle broekn pipes - IGNORE.\n",
    "cleanup () { \n",
    "    :\n",
    "}\n",
    "\n",
    "trap \"cleanup\" SIGPIPE"
   ]
  },
  {
   "cell_type": "code",
   "execution_count": null,
   "metadata": {},
   "outputs": [],
   "source": [
    "set -u\n",
    "DATA_BASE=\"/data/hts2018_pilot\"\n",
    "RAW_FASTQS=\"$DATA_BASE/Granek_4837_180427A5\""
   ]
  },
  {
   "cell_type": "markdown",
   "metadata": {},
   "source": [
    "## Looking at a FASTQ\n",
    "Let's take a quick look at our data.  For our first pass at analysis, we are just going to be working with the first read data (R1) from one sample."
   ]
  },
  {
   "cell_type": "code",
   "execution_count": null,
   "metadata": {},
   "outputs": [],
   "source": [
    "ls -lSrh $RAW_FASTQS"
   ]
  },
  {
   "cell_type": "markdown",
   "metadata": {},
   "source": [
    "> ### Compression: gzip, zcat, etc\n",
    "> The \".gz\" at the end of the FASTQ file name indicates that the fastq file was compressed using a program named gzip.  This is pretty common because FASTQ files can be huge.  `cat` is a program for viewing text files, `zcat` is a special version of this program that lets you view compressed text files without first decompressing them."
   ]
  },
  {
   "cell_type": "markdown",
   "metadata": {},
   "source": [
    "Here we will use:\n",
    "* zcat: to show the compress FASTQ\n",
    "* head: to grab only the first 10 lines, since the whole file has over 5 x 10^6 lines (which would almost certainly hang our web browser)"
   ]
  },
  {
   "cell_type": "code",
   "execution_count": null,
   "metadata": {},
   "outputs": [],
   "source": [
    "zcat $RAW_FASTQS/27_MA_P_S38_L002_R1_001.fastq.gz | head "
   ]
  },
  {
   "cell_type": "markdown",
   "metadata": {},
   "source": [
    "> ## less\n",
    "> `less` is a program for  taking an interactive look at a text file, like a FASTQ - it let's you scroll, search, etc. `less` won't work in the bash notebook, if you want to try it out, you need to use a terminal.\n",
    "\n",
    "> To switch to a terminal, click on the jupyter \"File\" menu, and select \"Open\".  A new browser window/tab should open, with your jupyter \"home base\". Here, you should click on the \"Files\" tab if it is not already active, there click on \"New\" and select \"Terminal\", which should open a new live terminal.\n",
    "\n",
    "> Since we want to look at a compressed (gzipped) FASTQ, we will use a version of `less` called `zless`, which decompresses on the fly.\n",
    "\n",
    "> At the terminal's command prompt, type (or paste) `zless /data/hts2018_pilot/Granek_4837_180427A5/27_MA_P_S38_L002_R1_001.fastq.gz`\n",
    "> You should see the first few lines of the file, notice that it looks like the examples we saw in lecture.\n",
    "\n",
    "> `zless` (and its standard cousin `less`) can do a lot of things.  Here are a few important keystrokes:\n",
    "\n",
    "> * q : quit\n",
    "> * space : scroll down a page\n",
    "> * up/down arrow : scroll up/down by a line "
   ]
  },
  {
   "cell_type": "markdown",
   "metadata": {},
   "source": [
    "# What do quality scores mean?\n",
    "See the [Quality Scores](quality_scores.ipynb) notebook for a \"translation\" of quality scores.  The [Wikipedia article on FASTQs](https://en.wikipedia.org/wiki/FASTQ_format) is also a useful resource."
   ]
  }
 ],
 "metadata": {
  "kernelspec": {
   "display_name": "Bash",
   "language": "bash",
   "name": "bash"
  },
  "language_info": {
   "codemirror_mode": "shell",
   "file_extension": ".sh",
   "mimetype": "text/x-sh",
   "name": "bash"
  }
 },
 "nbformat": 4,
 "nbformat_minor": 1
}
