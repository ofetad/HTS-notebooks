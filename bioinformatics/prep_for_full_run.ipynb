{
 "cells": [
  {
   "cell_type": "markdown",
   "metadata": {},
   "source": [
    "# Initialize Variables and Make Directories"
   ]
  },
  {
   "cell_type": "code",
   "execution_count": null,
   "metadata": {},
   "outputs": [],
   "source": [
    "source bioinf_intro_config.sh\n",
    "mkdir -p $TRIMMED $MYINFO $GENOME_DIR $STAR_OUT"
   ]
  },
  {
   "cell_type": "markdown",
   "metadata": {},
   "source": [
    "# Make adapter file"
   ]
  },
  {
   "cell_type": "code",
   "execution_count": null,
   "metadata": {},
   "outputs": [],
   "source": [
    "echo \">Adapter\n",
    "AGATCGGAAGAGCACACGTCTGAACTCCAGTCA\n",
    ">AdapterRead2\n",
    "AGATCGGAAGAGCGTCGTGTAGGGAAAGAGTGT\n",
    ">Adapter_rc\n",
    "TGACTGGAGTTCAGACGTGTGCTCTTCCGATCT\n",
    ">AdapterRead2_rc\n",
    "ACACTCTTTCCCTACACGACGCTCTTCCGATCT\" >  $MYINFO/neb_e7600_adapters.fasta"
   ]
  },
  {
   "cell_type": "markdown",
   "metadata": {},
   "source": [
    "# Download and Index Genome"
   ]
  },
  {
   "cell_type": "code",
   "execution_count": null,
   "metadata": {},
   "outputs": [],
   "source": [
    "SHARED_URL=\"ftp://ftp.ensemblgenomes.org/pub/release-39/fungi\"\n",
    "FASTA=${GENOME_DIR}/Cryptococcus_neoformans_var_grubii_h99.CNA3.dna.toplevel.fa\n",
    "GTF=${GENOME_DIR}/Cryptococcus_neoformans_var_grubii_h99.CNA3.39.gtf"
   ]
  },
  {
   "cell_type": "code",
   "execution_count": null,
   "metadata": {},
   "outputs": [],
   "source": [
    "wget --no-verbose --directory-prefix ${GENOME_DIR} \"${SHARED_URL}/gtf/fungi_basidiomycota1_collection/cryptococcus_neoformans_var_grubii_h99/$(basename $GTF).gz\"\n",
    "wget --no-verbose --directory-prefix ${GENOME_DIR} \"${SHARED_URL}/fasta/fungi_basidiomycota1_collection/cryptococcus_neoformans_var_grubii_h99/dna/$(basename $FASTA).gz\"\n",
    "\n",
    "gunzip ${FASTA}.gz\n",
    "gunzip ${GTF}.gz"
   ]
  },
  {
   "cell_type": "code",
   "execution_count": null,
   "metadata": {},
   "outputs": [],
   "source": [
    "STAR \\\n",
    "    --runMode genomeGenerate \\\n",
    "    --genomeDir $GENOME_DIR \\\n",
    "    --genomeFastaFiles ${FASTA} \\\n",
    "    --sjdbGTFfile ${GTF} \\\n",
    "    --outFileNamePrefix ${STAR_OUT}/genome_ \\\n",
    "    --genomeSAindexNbases 11\n",
    "# --genomeSAindexNbases 6"
   ]
  }
 ],
 "metadata": {
  "kernelspec": {
   "display_name": "Bash",
   "language": "bash",
   "name": "bash"
  },
  "language_info": {
   "codemirror_mode": "shell",
   "file_extension": ".sh",
   "mimetype": "text/x-sh",
   "name": "bash"
  }
 },
 "nbformat": 4,
 "nbformat_minor": 2
}
