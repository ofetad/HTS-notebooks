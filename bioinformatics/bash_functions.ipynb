{
 "cells": [
  {
   "cell_type": "markdown",
   "metadata": {},
   "source": [
    "# Bash Functions"
   ]
  },
  {
   "cell_type": "markdown",
   "metadata": {},
   "source": [
    "## Load Variables and Make Directories"
   ]
  },
  {
   "cell_type": "code",
   "execution_count": null,
   "metadata": {},
   "outputs": [],
   "source": [
    "source bioinf_intro_config.sh\n",
    "mkdir -p $STAR_OUT"
   ]
  },
  {
   "cell_type": "markdown",
   "metadata": {},
   "source": [
    "## Trim and Map Reads"
   ]
  },
  {
   "cell_type": "code",
   "execution_count": null,
   "metadata": {},
   "outputs": [],
   "source": [
    "TrimAndMap() {\n",
    "    FASTQ=$1\n",
    "    FASTQ_BASE=\"$(basename ${FASTQ} '_001.fastq.gz')\"\n",
    "\n",
    "#     FASTQ_BASE=${FASTQ##*/} # strip directory from file path\n",
    "#     FASTQ_BASE=\"${FASTQ_BASE%_R1_001.fastq.gz}\" # strip .fq.gz file extension\n",
    "#     echo $FASTQ_BASE\n",
    "    echo $FASTQ\n",
    "    echo $FASTQ_BASE\n",
    "    # exit 1\n",
    "\n",
    "\n",
    "    # make a pipe for trimmed fastq\n",
    "    CUR_PIPE=`mktemp --dry-run`_${FASTQ_BASE}_pipe.fq\n",
    "    mkfifo $CUR_PIPE\n",
    "\n",
    "    # Run fastq-mcf\n",
    "    fastq-mcf \\\n",
    "        $ADAPTERS \\\n",
    "        $FASTQ \\\n",
    "        -o $CUR_PIPE \\\n",
    "        -q 20 -x 0.5 &\n",
    "        \n",
    "    STAR \\\n",
    "    --runMode alignReads \\\n",
    "    --twopassMode None \\\n",
    "    --genomeDir $GENOME_DIR \\\n",
    "    --outSAMtype None \\\n",
    "    --quantMode GeneCounts \\\n",
    "    --outFileNamePrefix ${STAR_OUT}/${FASTQ_BASE}_ \\\n",
    "    --alignIntronMax 5000 \\\n",
    "    --outSJfilterIntronMaxVsReadN 500 1000 2000 \\\n",
    "    --readFilesIn $CUR_PIPE        \n",
    "        \n",
    "    # Destroy pipe\n",
    "    rm -f $CUR_PIPE\n",
    "}\n",
    "export -f TrimAndMap\n"
   ]
  },
  {
   "cell_type": "markdown",
   "metadata": {},
   "source": [
    "## Call the function"
   ]
  },
  {
   "cell_type": "code",
   "execution_count": null,
   "metadata": {},
   "outputs": [],
   "source": [
    "for FASTQ in $RAW_FASTQS/35_MA_P_S39_L00[1-2]_R1_001.fastq.gz\n",
    "    do\n",
    "        TrimAndMap $FASTQ\n",
    "    done"
   ]
  },
  {
   "cell_type": "code",
   "execution_count": null,
   "metadata": {},
   "outputs": [],
   "source": [
    "ls -ltr $STAR_OUT"
   ]
  }
 ],
 "metadata": {
  "kernelspec": {
   "display_name": "Bash",
   "language": "bash",
   "name": "bash"
  },
  "language_info": {
   "codemirror_mode": "shell",
   "file_extension": ".sh",
   "mimetype": "text/x-sh",
   "name": "bash"
  }
 },
 "nbformat": 4,
 "nbformat_minor": 1
}
