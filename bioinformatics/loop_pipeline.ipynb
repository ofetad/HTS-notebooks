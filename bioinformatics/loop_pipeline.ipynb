{
 "cells": [
  {
   "cell_type": "markdown",
   "metadata": {},
   "source": [
    "# Working with Loops\n",
    "Let's kick it up another notch - we have six pilot samples, let's run our analysis on all of them!  \n",
    "\n",
    "## Shell Variables\n",
    "Assign the variables in this notebook."
   ]
  },
  {
   "cell_type": "code",
   "execution_count": 2,
   "metadata": {},
   "outputs": [],
   "source": [
    "source bioinf_intro_config.sh"
   ]
  },
  {
   "cell_type": "markdown",
   "metadata": {},
   "source": [
    "## A Brief journey into `for` loops\n",
    "Most of the steps in our pipeline aren't so simple.  To apply our pipeline to multiple sample files, we need to change things in multiple places.  For example, just to run trimming with fastq-mcf, we need to change things in two places between each run: the input FASTQ and the output FASTQ.  If we were doing this with paired-end reads, we would have to change four things. Doing this by hand is not only tedious, but error prone.  Doing almost the same thing repeatedly is something that people are bad at, but computers are very good at!  So let's get the computer to do the hard work.  Because the Bash shell is almost magical (it is a full fledged programming language), we can do this.  We will use a `for loop`.  This is analogous to how you would teach a child to set the table: \"FOR each place at the table, put a plate . . .,\n",
    "At the shell you phrase it like this:\n",
    "\n",
    "    for PERSON in Alice Bob Carol Dave Eve\n",
    "    do\n",
    "    put plate at PERSON's place\n",
    "    put napkin at PERSON's place\n",
    "    put fork at PERSON's place\n",
    "    put spoon at PERSON's place\n",
    "    put knife at PERSON's place\n",
    "    done\n",
    "\n",
    "Here is a real example:"
   ]
  },
  {
   "cell_type": "code",
   "execution_count": null,
   "metadata": {},
   "outputs": [],
   "source": [
    "for SAMPLE in A B C D E F\n",
    "    do\n",
    "       echo \"______${SAMPLE}________\"\n",
    "    done"
   ]
  },
  {
   "cell_type": "markdown",
   "metadata": {},
   "source": [
    "The `for` loop in Bash is conceptually the same as in any other programming language, although the syntax may be different.  The `do` and `done` are essential - `do` needs to be before the \"loop body\" (what is going to be repeated) and `done` needs to be after it.\n",
    "\n",
    "So let's try something almost useful:"
   ]
  },
  {
   "cell_type": "code",
   "execution_count": null,
   "metadata": {},
   "outputs": [],
   "source": [
    "for SAMPLE in 27_MA_P_S38_L002_R1\n",
    "    do\n",
    "        echo \"RUNNING SAMPLE: ${SAMPLE}\"\n",
    "    done"
   ]
  },
  {
   "cell_type": "markdown",
   "metadata": {},
   "source": [
    "## Now for the real thing . . .\n",
    "### Let's run fastq-mcf in a loop:"
   ]
  },
  {
   "cell_type": "code",
   "execution_count": null,
   "metadata": {},
   "outputs": [],
   "source": [
    "for SAMPLE in 27_MA_P_S38_L002_R1\n",
    "    do\n",
    "        echo \"DEMUXING: $SAMPLE\"\n",
    "        fastq-mcf $MYINFO/neb_e7600_adapters.fasta \\\n",
    "            $RAW_FASTQS/${SAMPLE}_001.fastq.gz \\\n",
    "            -q 20 -x 0.5 \\\n",
    "            -o $TRIMMED/${SAMPLE}_001.trim.fastq.gz\n",
    "    done"
   ]
  },
  {
   "cell_type": "markdown",
   "metadata": {},
   "source": [
    "### Now let's do the same thing for STAR"
   ]
  },
  {
   "cell_type": "code",
   "execution_count": 3,
   "metadata": {},
   "outputs": [
    {
     "name": "stdout",
     "output_type": "stream",
     "text": [
      "MAP: 27_MA_P_S38_L002_R1\n",
      "Jul 22 20:11:33 ..... started STAR run\n",
      "Jul 22 20:11:33 ..... loading genome\n",
      "Jul 22 20:11:34 ..... started mapping\n",
      "Jul 22 20:12:35 ..... finished successfully\n"
     ]
    }
   ],
   "source": [
    "for SAMPLE in 27_MA_P_S38_L002_R1\n",
    "    do\n",
    "        echo \"MAPPING: $SAMPLE\"\n",
    "        STAR \\\n",
    "            --runMode alignReads \\\n",
    "            --twopassMode None \\\n",
    "            --genomeDir $GENOME_DIR \\\n",
    "            --readFilesIn $TRIMMED/${SAMPLE}_001.trim.fastq.gz \\\n",
    "            --readFilesCommand gunzip -c \\\n",
    "            --outFileNamePrefix ${STAR_OUT}/${SAMPLE}_ \\\n",
    "            --quantMode GeneCounts\n",
    "    done"
   ]
  },
  {
   "cell_type": "code",
   "execution_count": null,
   "metadata": {},
   "outputs": [],
   "source": [
    "ls /data/hts2018_pilot/Granek_4837_180427A5/27_MA_P_S38_L002_R1_001.fastq.gz\n"
   ]
  },
  {
   "cell_type": "markdown",
   "metadata": {},
   "source": [
    "### And let's check the result"
   ]
  },
  {
   "cell_type": "code",
   "execution_count": 7,
   "metadata": {},
   "outputs": [
    {
     "name": "stdout",
     "output_type": "stream",
     "text": [
      "27_MA_P_S38_L002_R1_Aligned.out.sam   27_MA_P_S38_L002_R1_ReadsPerGene.out.tab\n",
      "27_MA_P_S38_L002_R1_Log.final.out     27_MA_P_S38_L002_R1_SJ.out.tab\n",
      "27_MA_P_S38_L002_R1_Log.out           genome_Log.out\n",
      "27_MA_P_S38_L002_R1_Log.progress.out\n"
     ]
    }
   ],
   "source": [
    "ls ${STAR_OUT}"
   ]
  },
  {
   "cell_type": "code",
   "execution_count": 8,
   "metadata": {},
   "outputs": [
    {
     "name": "stdout",
     "output_type": "stream",
     "text": [
      "N_unmapped\t27178\t27178\t27178\n",
      "N_multimapping\t44107\t44107\t44107\n",
      "N_noFeature\t7990\t1438633\t11639\n",
      "N_ambiguous\t108226\t1155\t480\n",
      "CNAG_04548\t0\t0\t0\n",
      "CNAG_07303\t0\t0\t0\n",
      "CNAG_07304\t12\t0\t12\n",
      "CNAG_00001\t0\t0\t0\n",
      "CNAG_07305\t0\t0\t0\n",
      "CNAG_00002\t51\t0\t51\n"
     ]
    }
   ],
   "source": [
    "head ${STAR_OUT}/27_MA_P_S38_L002_R1_ReadsPerGene.out.tab"
   ]
  }
 ],
 "metadata": {
  "kernelspec": {
   "display_name": "Bash",
   "language": "bash",
   "name": "bash"
  },
  "language_info": {
   "codemirror_mode": "shell",
   "file_extension": ".sh",
   "mimetype": "text/x-sh",
   "name": "bash"
  }
 },
 "nbformat": 4,
 "nbformat_minor": 1
}
