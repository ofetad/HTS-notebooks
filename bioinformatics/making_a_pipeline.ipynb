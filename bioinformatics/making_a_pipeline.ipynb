{
 "cells": [
  {
   "cell_type": "markdown",
   "metadata": {},
   "source": [
    "# Making a Pipeline\n",
    "Combining cells can make things easier\n",
    "\n",
    "## Shell Variables\n",
    "Assign the variables in this notebook."
   ]
  },
  {
   "cell_type": "code",
   "execution_count": null,
   "metadata": {},
   "outputs": [],
   "source": [
    "source bioinf_intro_config.sh\n",
    "mkdir -p $TRIMMED $STAR_OUT"
   ]
  },
  {
   "cell_type": "markdown",
   "metadata": {},
   "source": [
    "## Combining the Steps"
   ]
  },
  {
   "cell_type": "code",
   "execution_count": null,
   "metadata": {},
   "outputs": [],
   "source": [
    "FASTQ=\"27_MA_P_S38_L002_R1\"\n",
    "echo \"---------------- TRIMMING: $FASTQ ----------------\"\n",
    "fastq-mcf $MYINFO/neb_e7600_adapters.fasta \\\n",
    "    $RAW_FASTQS/${FASTQ}_001.fastq.gz \\\n",
    "        -q 20 -x 0.5 \\\n",
    "        -o $TRIMMED/${FASTQ}_001.trim.fastq.gz\n",
    "        \n",
    "echo \"---------------- MAPPING: $FASTQ ----------------\"\n",
    "STAR \\\n",
    "    --runMode alignReads \\\n",
    "    --twopassMode None \\\n",
    "    --genomeDir $GENOME_DIR \\\n",
    "    --readFilesIn $TRIMMED/${FASTQ}_001.trim.fastq.gz \\\n",
    "    --readFilesCommand gunzip -c \\\n",
    "    --outFileNamePrefix ${STAR_OUT}/${FASTQ}_ \\\n",
    "    --quantMode GeneCounts \\\n",
    "    --outSAMtype None"
   ]
  },
  {
   "cell_type": "markdown",
   "metadata": {},
   "source": [
    "### And let's check the result"
   ]
  },
  {
   "cell_type": "code",
   "execution_count": null,
   "metadata": {},
   "outputs": [],
   "source": [
    "ls ${STAR_OUT}"
   ]
  },
  {
   "cell_type": "code",
   "execution_count": null,
   "metadata": {
    "scrolled": true
   },
   "outputs": [],
   "source": [
    "head ${STAR_OUT}/${FASTQ}_ReadsPerGene.out.tab"
   ]
  }
 ],
 "metadata": {
  "kernelspec": {
   "display_name": "Bash",
   "language": "bash",
   "name": "bash"
  },
  "language_info": {
   "codemirror_mode": "shell",
   "file_extension": ".sh",
   "mimetype": "text/x-sh",
   "name": "bash"
  }
 },
 "nbformat": 4,
 "nbformat_minor": 1
}
