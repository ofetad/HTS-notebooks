{
 "cells": [
  {
   "cell_type": "code",
   "execution_count": null,
   "metadata": {},
   "outputs": [],
   "source": [
    "DATA_BASE=\"/data/hts2018_course\"\n",
    "DATA_DIR=\"$DATA_BASE/Granek_5003_180726A5\""
   ]
  },
  {
   "cell_type": "code",
   "execution_count": null,
   "metadata": {},
   "outputs": [],
   "source": [
    "# ./download_core_data.sh ~/work/YourNextSeqOrder5003.txt /data/hts2018_course"
   ]
  },
  {
   "cell_type": "code",
   "execution_count": null,
   "metadata": {},
   "outputs": [],
   "source": [
    "cd $(dirname $DATA_DIR)\n",
    "md5sum -c $DATA_DIR/$(basename $DATA_DIR).checksum"
   ]
  },
  {
   "cell_type": "code",
   "execution_count": null,
   "metadata": {},
   "outputs": [],
   "source": [
    "chmod -R a-w $DATA_DIR\n",
    "ls -ltrd $DATA_DIR\n",
    "ls -ltr $DATA_DIR"
   ]
  }
 ],
 "metadata": {
  "kernelspec": {
   "display_name": "Bash",
   "language": "bash",
   "name": "bash"
  },
  "language_info": {
   "codemirror_mode": "shell",
   "file_extension": ".sh",
   "mimetype": "text/x-sh",
   "name": "bash"
  }
 },
 "nbformat": 4,
 "nbformat_minor": 2
}
