{
 "cells": [
  {
   "cell_type": "markdown",
   "metadata": {},
   "source": [
    "# Outline\n",
    "- Pre-processing\n",
    "- Additive model\n",
    "- Dendrogram/PC\n",
    "- Multiplicitive model"
   ]
  },
  {
   "cell_type": "markdown",
   "metadata": {},
   "source": [
    "# Set Environment"
   ]
  },
  {
   "cell_type": "code",
   "execution_count": null,
   "metadata": {},
   "outputs": [],
   "source": [
    "source(\"course_config.R\")\n",
    "source(\"../../pilot/pilot_util.R\")"
   ]
  },
  {
   "cell_type": "markdown",
   "metadata": {},
   "source": [
    "# Import Data & Create DESeq from Count Data"
   ]
  },
  {
   "cell_type": "code",
   "execution_count": null,
   "metadata": {},
   "outputs": [],
   "source": [
    "# import RData (annomapres0, annogenecnts0)\n",
    "attach(file.path(OUTDIR, \"HTS-Course-Annotated-STAR-counts.RData\"))"
   ]
  },
  {
   "cell_type": "markdown",
   "metadata": {},
   "source": [
    "Lets review what we have created before"
   ]
  },
  {
   "cell_type": "code",
   "execution_count": null,
   "metadata": {},
   "outputs": [],
   "source": [
    "# metadata\n",
    "head(annomapres0, 3)"
   ]
  },
  {
   "cell_type": "code",
   "execution_count": null,
   "metadata": {},
   "outputs": [],
   "source": [
    "# count matrix\n",
    "head(annogenecnts0, 3)"
   ]
  },
  {
   "cell_type": "markdown",
   "metadata": {},
   "source": [
    "Prepare columnData DataFrame and countData (matrix object)\n",
    "- columnData --- metadata\n",
    "- countData  --- count matrix"
   ]
  },
  {
   "cell_type": "code",
   "execution_count": null,
   "metadata": {},
   "outputs": [],
   "source": [
    "# columnData --- metadata\n",
    "annomapres0 %>%\n",
    "    DataFrame ->\n",
    "    columnData\n",
    "rownames(columnData) <- columnData[[\"Label\"]]\n",
    "\n",
    "head(columnData[, c(\"Label\", \"Strain\", \"Media\")], 3)"
   ]
  },
  {
   "cell_type": "code",
   "execution_count": null,
   "metadata": {},
   "outputs": [],
   "source": [
    "# countData  --- count matrix\n",
    "annogenecnts0 %>%\n",
    "    dplyr::select(dput(as.character(c(\"gene\", columnData[[\"Label\"]])))) %>%\n",
    "    as.data.frame %>%\n",
    "    column_to_rownames(\"gene\") %>%\n",
    "    as.matrix ->\n",
    "    countData\n",
    "\n",
    "head(countData, 3)"
   ]
  },
  {
   "cell_type": "markdown",
   "metadata": {},
   "source": [
    "### Make DESeq object on the basis of the counts"
   ]
  },
  {
   "cell_type": "markdown",
   "metadata": {},
   "source": [
    "The design option allows you to specify an additive or a multiplicitive model"
   ]
  },
  {
   "cell_type": "markdown",
   "metadata": {},
   "source": [
    "Additive model"
   ]
  },
  {
   "cell_type": "code",
   "execution_count": null,
   "metadata": {},
   "outputs": [],
   "source": [
    "dds_add <- DESeqDataSetFromMatrix(\n",
    "    countData,                       # Count matrix\n",
    "    columnData,                      # metadata\n",
    "    ~ Media + Strain) # design formula"
   ]
  },
  {
   "cell_type": "markdown",
   "metadata": {},
   "source": [
    "Multiplicitive model"
   ]
  },
  {
   "cell_type": "code",
   "execution_count": null,
   "metadata": {},
   "outputs": [],
   "source": [
    "dds_mult <- DESeqDataSetFromMatrix(\n",
    "    countData,                       # Count matrix\n",
    "    columnData,                      # metadata\n",
    "    ~ Media + Strain + Media:Strain) # design formula"
   ]
  },
  {
   "cell_type": "markdown",
   "metadata": {},
   "source": [
    "In the following demonstration, we will use the additive model. The multiplicitive model will be illustrated in the appendix below."
   ]
  },
  {
   "cell_type": "code",
   "execution_count": null,
   "metadata": {},
   "outputs": [],
   "source": [
    "dds <- dds_add"
   ]
  },
  {
   "cell_type": "markdown",
   "metadata": {},
   "source": [
    "# Inspect object & Slots of an S4 class"
   ]
  },
  {
   "cell_type": "markdown",
   "metadata": {},
   "source": [
    "Let's has a look at the object we have created."
   ]
  },
  {
   "cell_type": "code",
   "execution_count": null,
   "metadata": {},
   "outputs": [],
   "source": [
    "dds"
   ]
  },
  {
   "cell_type": "markdown",
   "metadata": {},
   "source": [
    "see the class of dds object"
   ]
  },
  {
   "cell_type": "code",
   "execution_count": null,
   "metadata": {},
   "outputs": [],
   "source": [
    "class(dds)"
   ]
  },
  {
   "cell_type": "markdown",
   "metadata": {},
   "source": [
    "DESeqDataSet is a S4 object. Recall that a S4 object was taught when introducing bioconductor. Note that S4 objects allow users to wrap up multiple elements into a single variables where each element is called a slot."
   ]
  },
  {
   "cell_type": "code",
   "execution_count": null,
   "metadata": {},
   "outputs": [],
   "source": [
    "slotNames(dds)"
   ]
  },
  {
   "cell_type": "markdown",
   "metadata": {},
   "source": [
    "The metadata (columnData) is stored in the slot `colData`"
   ]
  },
  {
   "cell_type": "code",
   "execution_count": null,
   "metadata": {},
   "outputs": [],
   "source": [
    "dds@colData %>% as.data.frame %>% head(3)"
   ]
  },
  {
   "cell_type": "markdown",
   "metadata": {},
   "source": [
    "The design formula is stored in the slot `design`. The design holds the R formula which expresses how the counts depend on the variables in colData."
   ]
  },
  {
   "cell_type": "code",
   "execution_count": null,
   "metadata": {},
   "outputs": [],
   "source": [
    "dds@design"
   ]
  },
  {
   "cell_type": "markdown",
   "metadata": {},
   "source": [
    "The first thing you may want to do is **have a look at the raw counts** you have imported. The `DESeq2::counts` function extracts a matrix of counts (with the genes along the rows and samples along the columns). Let us first verify the dimension of this matrix."
   ]
  },
  {
   "cell_type": "code",
   "execution_count": null,
   "metadata": {},
   "outputs": [],
   "source": [
    "dim(counts(dds))"
   ]
  },
  {
   "cell_type": "code",
   "execution_count": null,
   "metadata": {},
   "outputs": [],
   "source": [
    "head(counts(dds),3)"
   ]
  },
  {
   "cell_type": "markdown",
   "metadata": {},
   "source": [
    "This slot returns gene specific information (it will be populated later)"
   ]
  },
  {
   "cell_type": "code",
   "execution_count": null,
   "metadata": {},
   "outputs": [],
   "source": [
    "dds@dispersionFunction"
   ]
  },
  {
   "cell_type": "markdown",
   "metadata": {},
   "source": [
    "# Estimate Size Factors and Dispersion Parameters"
   ]
  },
  {
   "cell_type": "markdown",
   "metadata": {},
   "source": [
    "You recall that DESeq requires that  we have estimates for sample specific size factors and gene specific dispersion factors. More specifically, recall that DESeq models the count $K_{ij}$ (gene $i$, sample $j$) as negative binomial with mean $\\mu_{ij}$ and dispersion parameter $\\alpha_i$. Here $\\mu_{ij}=s_j q_{ij}$ where $\\log_2(q_{ij}) = \\beta_{0i} + \\beta_{1i} z_j$. Here $s_j$ is the sample $j$ specific size factor.\n",
    "\n",
    "**Summarize of notation**\n",
    "- $K_{ij}$ denotes the observed **number of reads** mapped to gene $i$ for sample $j$\n",
    "- $K_{ij}$ follows a **negative binomial distribution** with\n",
    "    - **Mean** $\\mu_{ij}$\n",
    "    - **Dispersion parameter** $\\alpha_i$\n",
    "- Modelling\n",
    "    - $K_{ij} \\sim NB(\\mu_{ij}, \\alpha_i)$\n",
    "    - $\\mu_{ij} = s_{j}q_{ij}$\n",
    "        - $s_j$ is sample $j$ specific normalization constant\n",
    "    - $\\log_2(q_{ij}) = \\beta_{0i} + \\beta_{1i} z_j$"
   ]
  },
  {
   "cell_type": "markdown",
   "metadata": {},
   "source": [
    "## 01 Size Factors\n",
    " We begin by estimating the size factors $s_1,\\ldots,s_n$:"
   ]
  },
  {
   "cell_type": "code",
   "execution_count": null,
   "metadata": {},
   "outputs": [],
   "source": [
    "dds <- estimateSizeFactors(dds)"
   ]
  },
  {
   "cell_type": "markdown",
   "metadata": {},
   "source": [
    "Now, compare the dds object to that of before applying the estimateSizeFactors() function. What has changed? What remains unchanged?"
   ]
  },
  {
   "cell_type": "code",
   "execution_count": null,
   "metadata": {},
   "outputs": [],
   "source": [
    "dds"
   ]
  },
  {
   "cell_type": "markdown",
   "metadata": {},
   "source": [
    "Note that there is a **sizeFactor** added to **colData**. Let's look at it more carefully\n",
    "\n",
    "```\n",
    "> dds # (before estimateSizeFactors)\n",
    "class: DESeqDataSet \n",
    "dim: 8497 24 \n",
    "metadata(1): version\n",
    "assays(1): counts\n",
    "rownames(8497): CNAG_00001 CNAG_00002 ... ENSRNA049551964 ENSRNA049551993\n",
    "rowData names(0):\n",
    "colnames(24): 1_RZ_J 10_RZ_C ... 47_RZ_P 9_RZ_C\n",
    "colData names(10): Label Strain ... prob.unique depth\n",
    "\n",
    "> dds # (after estimateSizeFactors)\n",
    "class: DESeqDataSet \n",
    "dim: 8497 24 \n",
    "metadata(1): version\n",
    "assays(1): counts\n",
    "rownames(8497): CNAG_00001 CNAG_00002 ... ENSRNA049551964 ENSRNA049551993\n",
    "rowData names(0):\n",
    "colnames(24): 1_RZ_J 10_RZ_C ... 47_RZ_P 9_RZ_C\n",
    "colData names(11): Label Strain ... depth sizeFactor <------ \n",
    "```"
   ]
  },
  {
   "cell_type": "markdown",
   "metadata": {},
   "source": [
    "You can also get the size factors directly"
   ]
  },
  {
   "cell_type": "code",
   "execution_count": null,
   "metadata": {},
   "outputs": [],
   "source": [
    "sizeFactors(dds)"
   ]
  },
  {
   "cell_type": "markdown",
   "metadata": {},
   "source": [
    " It is preferable to limit the number of decimal places. Next show the size factors rounded to 3 decimal places"
   ]
  },
  {
   "cell_type": "code",
   "execution_count": null,
   "metadata": {},
   "outputs": [],
   "source": [
    "round(sizeFactors(dds),3)"
   ]
  },
  {
   "cell_type": "markdown",
   "metadata": {},
   "source": [
    "Now that the size factors have been estimated, we can get \"normalized\" counts. Here we print three data frames together to easily compare them."
   ]
  },
  {
   "cell_type": "code",
   "execution_count": null,
   "metadata": {},
   "outputs": [],
   "source": [
    "# original count\n",
    "head(counts(dds),3)\n",
    "\n",
    "# normalized count\n",
    "head(counts(dds, normalize = TRUE), 3)\n",
    "\n",
    "# normalized manually using size factors\n",
    "counts(dds)[1:3,] %>% \n",
    "    apply(., 1, function(row){row / sizeFactors(dds)}) %>%\n",
    "    t"
   ]
  },
  {
   "cell_type": "markdown",
   "metadata": {},
   "source": [
    "**Exercise:** How do you get the raw counts for gene  \"GeneID: CNAG_05845\"?"
   ]
  },
  {
   "cell_type": "code",
   "execution_count": null,
   "metadata": {},
   "outputs": [],
   "source": [
    "counts(dds, normalize = TRUE)[\"CNAG_05845\",]"
   ]
  },
  {
   "cell_type": "markdown",
   "metadata": {},
   "source": [
    "**Exercise:** Get a summary (mean, median, quantiles etc ) of the size factors"
   ]
  },
  {
   "cell_type": "code",
   "execution_count": null,
   "metadata": {},
   "outputs": [],
   "source": [
    "summary(sizeFactors(dds))"
   ]
  },
  {
   "cell_type": "markdown",
   "metadata": {},
   "source": [
    "Before going to the next step, let's look at the dispersionFunction slot"
   ]
  },
  {
   "cell_type": "code",
   "execution_count": null,
   "metadata": {},
   "outputs": [],
   "source": [
    "# still empty\n",
    "dds@dispersionFunction"
   ]
  },
  {
   "cell_type": "markdown",
   "metadata": {},
   "source": [
    "## 02 Dispersion Parameters\n",
    "Next, we get the dispersion factors $\\alpha_1,\\ldots,\\alpha_{m}$"
   ]
  },
  {
   "cell_type": "code",
   "execution_count": null,
   "metadata": {},
   "outputs": [],
   "source": [
    "dds <- estimateDispersions(dds)"
   ]
  },
  {
   "cell_type": "markdown",
   "metadata": {},
   "source": [
    "Now inspect the dds object again and note that the rowRanges slot has extra information (\"metadata column names(0):\" before versus \"column names(9): baseMean baseVar ... dispOutlier dispMAP\")\n",
    "- before: \n",
    "    - `metadata column names(0):`\n",
    "- after:  \n",
    "    - `column names(9): baseMean baseVar ...`"
   ]
  },
  {
   "cell_type": "code",
   "execution_count": null,
   "metadata": {},
   "outputs": [],
   "source": [
    "dds"
   ]
  },
  {
   "cell_type": "markdown",
   "metadata": {},
   "source": [
    "Can you notice the difference?\n",
    "```\n",
    "> dds (before dispersion)\n",
    "class: DESeqDataSet \n",
    "dim: 8497 24 \n",
    "metadata(1): version\n",
    "assays(1): counts\n",
    "rownames(8497): CNAG_00001 CNAG_00002 ... ENSRNA049551964 ENSRNA049551993\n",
    "rowData names(0):\n",
    "colnames(24): 1_RZ_J 10_RZ_C ... 47_RZ_P 9_RZ_C\n",
    "colData names(11): Label Strain ... depth sizeFactor\n",
    "\n",
    "> dds (after dispersion)\n",
    "class: DESeqDataSet \n",
    "dim: 8497 24 \n",
    "metadata(1): version\n",
    "assays(2): counts mu\n",
    "rownames(8497): CNAG_00001 CNAG_00002 ... ENSRNA049551964 ENSRNA049551993\n",
    "rowData names(9): baseMean baseVar ... dispOutlier dispMAP <------\n",
    "colnames(24): 1_RZ_J 10_RZ_C ... 47_RZ_P 9_RZ_C\n",
    "colData names(11): Label Strain ... depth sizeFactor\n",
    "```"
   ]
  },
  {
   "cell_type": "markdown",
   "metadata": {},
   "source": [
    "Note that the dispersionfunction slot is now populated"
   ]
  },
  {
   "cell_type": "code",
   "execution_count": null,
   "metadata": {},
   "outputs": [],
   "source": [
    "dds@dispersionFunction"
   ]
  },
  {
   "cell_type": "markdown",
   "metadata": {},
   "source": [
    "We can extract the gene specific dispersion factors using dispersions(). Note that there will be one number per gene. We look at the first four genes (rounded to 4 decimal places)"
   ]
  },
  {
   "cell_type": "code",
   "execution_count": null,
   "metadata": {},
   "outputs": [],
   "source": [
    "alphas <- dispersions(dds)"
   ]
  },
  {
   "cell_type": "markdown",
   "metadata": {},
   "source": [
    "Verify that the number of dispersion factors equals the number of genes"
   ]
  },
  {
   "cell_type": "code",
   "execution_count": null,
   "metadata": {},
   "outputs": [],
   "source": [
    "# number of disperion factors\n",
    "length(alphas)"
   ]
  },
  {
   "cell_type": "code",
   "execution_count": null,
   "metadata": {},
   "outputs": [],
   "source": [
    "# number of genes\n",
    "nrow(dds)"
   ]
  },
  {
   "cell_type": "markdown",
   "metadata": {},
   "source": [
    "Print the dispersion factors for the first four genes rounded to four decimal points"
   ]
  },
  {
   "cell_type": "code",
   "execution_count": null,
   "metadata": {},
   "outputs": [],
   "source": [
    "round(alphas[1:4], 4)"
   ]
  },
  {
   "cell_type": "markdown",
   "metadata": {},
   "source": [
    "Extract the metadata using mcols() for the first four genes\n",
    "\n",
    "| Terms       | Description                                   |\n",
    "|-------------|-----------------------------------------------|\n",
    "| baseMean    |     mean of normalized counts for all samples |\n",
    "| baseVar     | variance of normalized counts for all samples |\n",
    "| allZero     |                all counts for a gene are zero |\n",
    "| dispGeneEst |             gene-wise estimates of dispersion |\n",
    "| dispFit     |                   fitted values of dispersion |\n",
    "| dispersion  |                  final estimate of dispersion |\n",
    "| dispIter    |                          number of iterations |\n",
    "| dispOut     |                 dispersion flagged as outlier |\n",
    "| dispMAP     |                 maximum a posteriori estimate |\n"
   ]
  },
  {
   "cell_type": "code",
   "execution_count": null,
   "metadata": {},
   "outputs": [],
   "source": [
    "mcols(dds)[1:4,] %>% as.data.frame"
   ]
  },
  {
   "cell_type": "markdown",
   "metadata": {},
   "source": [
    "**Exercise:** Provide statistical summaries of the dispersion factors"
   ]
  },
  {
   "cell_type": "code",
   "execution_count": null,
   "metadata": {},
   "outputs": [],
   "source": [
    "summary(dispersions(dds))"
   ]
  },
  {
   "cell_type": "markdown",
   "metadata": {},
   "source": [
    "**Exercise:** Summarize the dispersion factors using a box plot (may want to log transform)"
   ]
  },
  {
   "cell_type": "code",
   "execution_count": null,
   "metadata": {
    "scrolled": false
   },
   "outputs": [],
   "source": [
    "boxplot(log(dispersions(dds)))"
   ]
  },
  {
   "cell_type": "markdown",
   "metadata": {},
   "source": [
    "# Differential Expression Analysis\n",
    "We can now conduct a differential expression analysis using the DESeq() function. Keep in mind that to get to this step, we first estimated the size factors and then the dispersion parameters."
   ]
  },
  {
   "cell_type": "code",
   "execution_count": null,
   "metadata": {},
   "outputs": [],
   "source": [
    "ddsDE <- DESeq(dds)"
   ]
  },
  {
   "cell_type": "markdown",
   "metadata": {},
   "source": [
    "Note that currently, the model we have is an additive model, which does not include the interaction term of `Media` and `Strain`"
   ]
  },
  {
   "cell_type": "code",
   "execution_count": null,
   "metadata": {},
   "outputs": [],
   "source": [
    "design(dds)"
   ]
  },
  {
   "cell_type": "markdown",
   "metadata": {},
   "source": [
    "We can get the results for the differential expression analysis using results(). Here, we can compare two group of samples specified by the contrast. (If not, the default contrast would be the last term in your additive model `design(dds)`)."
   ]
  },
  {
   "cell_type": "code",
   "execution_count": null,
   "metadata": {},
   "outputs": [],
   "source": [
    "# compare two Media\n",
    "myres_media <- results(ddsDE, contrast = c(\"Media\", \"YPD\", \"TC\"))"
   ]
  },
  {
   "cell_type": "code",
   "execution_count": null,
   "metadata": {},
   "outputs": [],
   "source": [
    "# compare two Strains\n",
    "myres_strain <- results(ddsDE, contrast = c(\"Strain\", \"H99\", \"mar1d\"))"
   ]
  },
  {
   "cell_type": "markdown",
   "metadata": {},
   "source": [
    "Let's look at the results for the first four genes"
   ]
  },
  {
   "cell_type": "code",
   "execution_count": null,
   "metadata": {},
   "outputs": [],
   "source": [
    "# first four genes\n",
    "myres_strain[1:4,]"
   ]
  },
  {
   "cell_type": "markdown",
   "metadata": {},
   "source": [
    " You can get the descriptions for the columns from the DE analysis"
   ]
  },
  {
   "cell_type": "code",
   "execution_count": null,
   "metadata": {},
   "outputs": [],
   "source": [
    "data.frame(desc = mcols(myres_strain)$description) "
   ]
  },
  {
   "cell_type": "markdown",
   "metadata": {},
   "source": [
    "manually calculate the baseMean to see if a gene"
   ]
  },
  {
   "cell_type": "code",
   "execution_count": null,
   "metadata": {},
   "outputs": [],
   "source": [
    "t(counts(dds, normalize = TRUE)[\"CNAG_00001\",])"
   ]
  },
  {
   "cell_type": "code",
   "execution_count": null,
   "metadata": {},
   "outputs": [],
   "source": [
    "mean(counts(dds, normalize = TRUE)[\"CNAG_00001\",])"
   ]
  },
  {
   "cell_type": "markdown",
   "metadata": {},
   "source": [
    "##  P-values"
   ]
  },
  {
   "cell_type": "markdown",
   "metadata": {},
   "source": [
    "Here we will play with the p-value of the results. Below we demonstrate how the p-value is adjusted using BH method"
   ]
  },
  {
   "cell_type": "markdown",
   "metadata": {},
   "source": [
    "One can extract the unadjusted p-values as follows"
   ]
  },
  {
   "cell_type": "code",
   "execution_count": null,
   "metadata": {},
   "outputs": [],
   "source": [
    "pvalues <- myres_strain$pvalue\n",
    "length(pvalues)\n",
    "pvalues[1:4]"
   ]
  },
  {
   "cell_type": "markdown",
   "metadata": {},
   "source": [
    "The BH adjusted p-values can be extracted as"
   ]
  },
  {
   "cell_type": "code",
   "execution_count": null,
   "metadata": {},
   "outputs": [],
   "source": [
    "adjp <- myres_strain$padj\n",
    "length(adjp)\n",
    "adjp[1:4]"
   ]
  },
  {
   "cell_type": "markdown",
   "metadata": {},
   "source": [
    "Calculate BH adjusted P-values by \"hand\" using the p.adjust() function. Note that you will not replicate the results you get under the padj column (when looking at the first four rows)"
   ]
  },
  {
   "cell_type": "code",
   "execution_count": null,
   "metadata": {},
   "outputs": [],
   "source": [
    "pvalues <- myres_strain$pvalue\n",
    "BH <- p.adjust(pvalues,\"BH\")\n",
    "data.frame(BH = BH[1:4], adjp = adjp[1:4])"
   ]
  },
  {
   "cell_type": "markdown",
   "metadata": {},
   "source": [
    "The DESeq2::results function applies \"independent\" filtering. This is enabled by default. Let's disable and then reexamine the adjusted P-values"
   ]
  },
  {
   "cell_type": "code",
   "execution_count": null,
   "metadata": {},
   "outputs": [],
   "source": [
    "myres1 <- results(ddsDE, independentFiltering = FALSE)"
   ]
  },
  {
   "cell_type": "code",
   "execution_count": null,
   "metadata": {},
   "outputs": [],
   "source": [
    "myres1"
   ]
  },
  {
   "cell_type": "markdown",
   "metadata": {},
   "source": [
    " We can now replicate the results"
   ]
  },
  {
   "cell_type": "code",
   "execution_count": null,
   "metadata": {},
   "outputs": [],
   "source": [
    "pvalues1 <- myres1$pvalue\n",
    "BH1 <- p.adjust(pvalues1[!is.na(pvalues)], \"BH\")\n",
    "data.frame(\n",
    "    BH   = BH1[1:4],\n",
    "    adjp = myres1$padj[1:4])"
   ]
  },
  {
   "cell_type": "markdown",
   "metadata": {},
   "source": [
    "##  Subset and reorder the results"
   ]
  },
  {
   "cell_type": "code",
   "execution_count": null,
   "metadata": {},
   "outputs": [],
   "source": [
    "class(myres_strain)"
   ]
  },
  {
   "cell_type": "code",
   "execution_count": null,
   "metadata": {},
   "outputs": [],
   "source": [
    "summary(myres_strain, 0.05)"
   ]
  },
  {
   "cell_type": "markdown",
   "metadata": {},
   "source": [
    " You can sort the results by say the unadjusted P-values"
   ]
  },
  {
   "cell_type": "code",
   "execution_count": null,
   "metadata": {},
   "outputs": [],
   "source": [
    "results(ddsDE, contrast = c(\"Strain\", \"H99\", \"mar1d\"), tidy = TRUE) %>%\n",
    "    arrange(padj) %>% \n",
    "    head(4)"
   ]
  },
  {
   "cell_type": "markdown",
   "metadata": {},
   "source": [
    "To get the list of genes with unadjusted P-values < 0.00001 and absolute log2 FC of more than 4"
   ]
  },
  {
   "cell_type": "code",
   "execution_count": null,
   "metadata": {},
   "outputs": [],
   "source": [
    "results(ddsDE, contrast = c(\"Strain\", \"H99\", \"mar1d\"), tidy = TRUE) %>%\n",
    "    filter(padj < 0.00001) %>%\n",
    "    filter(abs(log2FoldChange) > 4)"
   ]
  },
  {
   "cell_type": "markdown",
   "metadata": {},
   "source": [
    "The P-values for the four top genes are beyond machine precision. You can use the format.pval() function to properly format the P-values. PLEASE promote ending the practice of publishing P-values below machine precision.  (that would be akin to stating the weight of an object that weighs less than one pound with a scale whose minimum weight spec is 1 pound)."
   ]
  },
  {
   "cell_type": "code",
   "execution_count": null,
   "metadata": {},
   "outputs": [],
   "source": [
    "results(ddsDE, contrast = c(\"Strain\", \"H99\", \"mar1d\"), tidy = TRUE) %>%\n",
    "    filter(padj < 0.00001) %>%\n",
    "    filter(abs(log2FoldChange) > 4) %>%\n",
    "    mutate(pval = format.pval(pvalue))"
   ]
  },
  {
   "cell_type": "markdown",
   "metadata": {},
   "source": [
    "Let's look at a volcano plot"
   ]
  },
  {
   "cell_type": "code",
   "execution_count": null,
   "metadata": {},
   "outputs": [],
   "source": [
    "plot(myres_strain$log2FoldChange,\n",
    "     -log10(myres_strain$padj),\n",
    "     pch  = 19, \n",
    "     cex  = 0.3,\n",
    "     xlab = \"Log2 FC\",\n",
    "     ylab = \"-log10(BH Adjusted P-value)\")"
   ]
  },
  {
   "cell_type": "markdown",
   "metadata": {},
   "source": [
    "Exercise: Annotate the hits with adjusted P-values < 0.05 and absolute log2 FC greater than 2 in red"
   ]
  },
  {
   "cell_type": "code",
   "execution_count": null,
   "metadata": {},
   "outputs": [],
   "source": [
    "plot(myres_strain$log2FoldChange,\n",
    "     -log10(myres_strain$padj),\n",
    "     pch  = 19,\n",
    "     cex  = 0.3,\n",
    "     xlab = \"Log2 FC\",\n",
    "     ylab = \"-log10(BH Adjusted P-value)\",\n",
    "     col  = ifelse(myres_strain$padj < 0.05 & abs(myres_strain$log2FoldChange) > 2,\n",
    "                   \"red\",\n",
    "                   \"black\"))"
   ]
  },
  {
   "cell_type": "markdown",
   "metadata": {},
   "source": [
    "# Converting/Normalizing Counts to \"Expressions\""
   ]
  },
  {
   "cell_type": "markdown",
   "metadata": {},
   "source": [
    "##  Normalized Counts\n",
    "We have already shown how to \"normalize\" the counts using the estimated size factors"
   ]
  },
  {
   "cell_type": "code",
   "execution_count": null,
   "metadata": {},
   "outputs": [],
   "source": [
    "head(counts(dds, normalize = TRUE), 3)"
   ]
  },
  {
   "cell_type": "markdown",
   "metadata": {},
   "source": [
    "Plot the counts stratified by treatment for the 2nd gene. Later we will compare the expression values in more detail in the section of regularized log transformation (rlog transformation). In the section of rlog transformation, the media and strain will be indicated/labeled in the plot."
   ]
  },
  {
   "cell_type": "code",
   "execution_count": null,
   "metadata": {},
   "outputs": [],
   "source": [
    "results(ddsDE, contrast = c(\"Strain\", \"H99\", \"mar1d\"), tidy = TRUE) %>%\n",
    "    arrange(padj) %>% \n",
    "    head(4)"
   ]
  },
  {
   "cell_type": "code",
   "execution_count": null,
   "metadata": {},
   "outputs": [],
   "source": [
    "options(repr.plot.width = 8, repr.plot.height = 4)\n",
    "par(mfrow = c(1, 2))\n",
    "plotCounts(dds, 2,            intgroup = \"Strain\")\n",
    "plotCounts(dds, \"CNAG_03398\", intgroup = \"Strain\")\n",
    "par(mfrow = c(1, 1))"
   ]
  },
  {
   "cell_type": "code",
   "execution_count": null,
   "metadata": {},
   "outputs": [],
   "source": [
    "results(ddsDE, contrast = c(\"Media\", \"YPD\", \"TC\"), tidy = TRUE) %>%\n",
    "    arrange(padj) %>% \n",
    "    head(4)"
   ]
  },
  {
   "cell_type": "code",
   "execution_count": null,
   "metadata": {},
   "outputs": [],
   "source": [
    "options(repr.plot.width = 8, repr.plot.height = 4)\n",
    "par(mfrow = c(1, 2))\n",
    "plotCounts(dds, 2,            intgroup = \"Media\")\n",
    "plotCounts(dds, \"CNAG_03398\", intgroup = \"Media\")\n",
    "par(mfrow = c(1, 1))"
   ]
  },
  {
   "cell_type": "markdown",
   "metadata": {},
   "source": [
    "#  FPM\n",
    "Another approach is to FPM: fragments per million mapped fragments"
   ]
  },
  {
   "cell_type": "code",
   "execution_count": null,
   "metadata": {},
   "outputs": [],
   "source": [
    "head(fpm(dds), 3)"
   ]
  },
  {
   "cell_type": "markdown",
   "metadata": {},
   "source": [
    "Let's calculate the FPM manually. For gene $i$ sample $j$, the FPM is defined as $\\frac{K_{ij}}{D_j}\\times 10^{6}$ where $D_j=\\sum_{i=1} K_{ij}$ is the read depth for sample $j$. First get the read depth for each sample"
   ]
  },
  {
   "cell_type": "code",
   "execution_count": null,
   "metadata": {},
   "outputs": [],
   "source": [
    "D <- colSums(counts(dds)) # colSums: sum of each column, where each column represents a sample\n",
    "D"
   ]
  },
  {
   "cell_type": "markdown",
   "metadata": {},
   "source": [
    "By default, the fpm() function uses a robust approach. We will disable this right now as to replicate the standard FPM. Let's look at gene 1"
   ]
  },
  {
   "cell_type": "code",
   "execution_count": null,
   "metadata": {},
   "outputs": [],
   "source": [
    "fpm1 <- fpm(dds, robust = FALSE)[1,]\n",
    "fpm1"
   ]
  },
  {
   "cell_type": "markdown",
   "metadata": {},
   "source": [
    "Now get the raw counts for gene 1"
   ]
  },
  {
   "cell_type": "code",
   "execution_count": null,
   "metadata": {},
   "outputs": [],
   "source": [
    "cnt1 <- counts(dds)[1,]\n",
    "cnt1"
   ]
  },
  {
   "cell_type": "markdown",
   "metadata": {},
   "source": [
    " Now calculate the FPM for gene 1"
   ]
  },
  {
   "cell_type": "code",
   "execution_count": null,
   "metadata": {
    "scrolled": false
   },
   "outputs": [],
   "source": [
    "myfpm1 <- cnt1 / D * 1e6\n",
    "myfpm1"
   ]
  },
  {
   "cell_type": "markdown",
   "metadata": {},
   "source": [
    "Let's summarize what we have done:"
   ]
  },
  {
   "cell_type": "code",
   "execution_count": null,
   "metadata": {},
   "outputs": [],
   "source": [
    "tmp <- bind_rows(D, cnt1, myfpm1, fpm1)\n",
    "tmp <- t(tmp)\n",
    "colnames(tmp) <- c(\"col_sums\", \"count_gene1\", \"FPM_gene1_manual\", \"FPM_gene1_DESeq\")\n",
    "tmp"
   ]
  },
  {
   "cell_type": "markdown",
   "metadata": {},
   "source": [
    "This is how you check if two numeric columns are \"equal\"? One approach is to calculate the maximum absoute difference"
   ]
  },
  {
   "cell_type": "code",
   "execution_count": null,
   "metadata": {},
   "outputs": [],
   "source": [
    "max(abs(fpm1 - myfpm1))"
   ]
  },
  {
   "cell_type": "markdown",
   "metadata": {},
   "source": [
    "The above approach is also helpful in establishing if the difference is \"small\". Another approach to test for equality to use the all.equal() function"
   ]
  },
  {
   "cell_type": "code",
   "execution_count": null,
   "metadata": {},
   "outputs": [],
   "source": [
    "all.equal(fpm1, myfpm1)"
   ]
  },
  {
   "cell_type": "markdown",
   "metadata": {},
   "source": [
    " It is generally a bad idea to compare numeric vectors using == (e.g., fpm1==myfpm1)"
   ]
  },
  {
   "cell_type": "markdown",
   "metadata": {},
   "source": [
    "### FPKM"
   ]
  },
  {
   "cell_type": "markdown",
   "metadata": {},
   "source": [
    " To calculate the FPKM (fragments per kilobase per million mapped fragments) we need to add annotation to assign the feature lengths. More specifically, for gene $i$ sample $j$, the FPKM is defined as $\\frac{K_{ij}}{\\ell_i D_j}\\times 10^3 \\times 10^{6}$ where $\\ell_i$ is the \"length\" of gene $i$ (fragments for each $10^3$ bases in the gene for every  $\\frac{D_j}{10^6}$ fragments. More on this later."
   ]
  },
  {
   "cell_type": "markdown",
   "metadata": {},
   "source": [
    "# Regularized log transformation\n",
    "The regularized log transform can be obtained using the [rlog() function](https://rdrr.io/bioc/DESeq2/man/rlog.html). Note that an important argument for this function is blind (TRUE by default). The default \"blinds\" the normalization to the design. This is very important so as to not bias the analyses (e.g. class discovery) "
   ]
  },
  {
   "cell_type": "code",
   "execution_count": null,
   "metadata": {},
   "outputs": [],
   "source": [
    "rld <- rlog(dds, blind = TRUE)"
   ]
  },
  {
   "cell_type": "markdown",
   "metadata": {},
   "source": [
    "## Dendrogram of samples: showing strain & media of each sample"
   ]
  },
  {
   "cell_type": "markdown",
   "metadata": {},
   "source": [
    "Hierarchical clustering using rlog transformation"
   ]
  },
  {
   "cell_type": "code",
   "execution_count": null,
   "metadata": {},
   "outputs": [],
   "source": [
    "options(repr.plot.width = 9, repr.plot.height = 5)\n",
    "dists <- dist(t(assay(rld)))\n",
    "plot(hclust(dists)) "
   ]
  },
  {
   "cell_type": "markdown",
   "metadata": {},
   "source": [
    "Store the dendrogram of samples using hierarchical clustering"
   ]
  },
  {
   "cell_type": "code",
   "execution_count": null,
   "metadata": {},
   "outputs": [],
   "source": [
    "assay(rld) %>%\n",
    "    t() %>%\n",
    "    dist %>%\n",
    "    hclust(method = \"complete\") %>%\n",
    "    as.dendrogram ->\n",
    "    mydend"
   ]
  },
  {
   "cell_type": "markdown",
   "metadata": {},
   "source": [
    "Dendrogram of samples: showing strain of each sample"
   ]
  },
  {
   "cell_type": "code",
   "execution_count": null,
   "metadata": {},
   "outputs": [],
   "source": [
    "options(repr.plot.width = 9, repr.plot.height = 5)\n",
    "dendplot(mydend, columnData, \n",
    "         \"Strain\",    # variable that show in label\n",
    "         \"Strain\",    # variable that define color\n",
    "         \"Media\") %>% # variable that define shape of points\n",
    "    plot"
   ]
  },
  {
   "cell_type": "markdown",
   "metadata": {},
   "source": [
    "Dendrogram of samples: showing media of each sample"
   ]
  },
  {
   "cell_type": "code",
   "execution_count": null,
   "metadata": {},
   "outputs": [],
   "source": [
    "dendplot(mydend, columnData, \"Media\", \"Strain\", \"Media\") %>% plot"
   ]
  },
  {
   "cell_type": "markdown",
   "metadata": {},
   "source": [
    "Dendrogram of samples: showing sample label"
   ]
  },
  {
   "cell_type": "code",
   "execution_count": null,
   "metadata": {},
   "outputs": [],
   "source": [
    "dendplot(mydend, columnData, \"Label\", \"Media\", \"Strain\") %>% plot"
   ]
  },
  {
   "cell_type": "markdown",
   "metadata": {},
   "source": [
    "PC Analysis using the rlog transformation"
   ]
  },
  {
   "cell_type": "code",
   "execution_count": null,
   "metadata": {},
   "outputs": [],
   "source": [
    "library(ggplot2)\n",
    "options(repr.plot.width = 7, repr.plot.height = 4)\n",
    "plotPCA(rld, intgroup = \"Media\") + geom_text(label=columnData$Label, color=\"black\")"
   ]
  },
  {
   "cell_type": "markdown",
   "metadata": {},
   "source": [
    "Store the plot into a pdf"
   ]
  },
  {
   "cell_type": "code",
   "execution_count": null,
   "metadata": {},
   "outputs": [],
   "source": [
    "pdf(file.path(IMGDIR, \"dendrogram.pdf\"))\n",
    "dendplot(mydend, columnData, \"Strain\", \"Strain\", \"Media\") %>% plot\n",
    "dendplot(mydend, columnData, \"Media\", \"Strain\", \"Media\") %>% plot\n",
    "dendplot(mydend, columnData, \"Label\", \"Strain\", \"Media\") %>% plot\n",
    "graphics.off()"
   ]
  },
  {
   "cell_type": "markdown",
   "metadata": {},
   "source": [
    "# Variance Stabilizing Transformation (vst) and mean-variance modelling at the observational level (voom)"
   ]
  },
  {
   "cell_type": "markdown",
   "metadata": {},
   "source": [
    " Two other normalization approaches for RNA-Seq count data are provided by the functions DESeq2::vst and limma::voom (note that for the latter one needs the limma package).From ? DESeq2::vst\n",
    "\"This function calculates a variance stabilizing transformation (VST) from the fitted dispersion-mean relation(s) and then transforms the count data (normalized by division by the size factors or normalization factors), yielding a matrix of values which are now approximately homoskedastic (having constant variance along the range of mean values). The transformation also normalizes with respect to library size.\"Compared to DESeq2::rlog\n",
    "\"The ‘rlog’ is less sensitive to size factors, which can be an issue when size factors vary widely. These transformations are useful when checking for outliers or as input for machine learning techniques such as clustering or linear discriminant analysis.\"From ? limma::voom\n",
    "\"Transform count data to log2-counts per million (logCPM), estimate the mean-variance relationship and use this to compute appropriate observation-level weights. The data are then ready for linear modelling.\" Get VST transformation"
   ]
  },
  {
   "cell_type": "code",
   "execution_count": null,
   "metadata": {},
   "outputs": [],
   "source": [
    "VST <- vst(dds)\n",
    "class(VST)"
   ]
  },
  {
   "cell_type": "markdown",
   "metadata": {},
   "source": [
    "Get the VST matrix"
   ]
  },
  {
   "cell_type": "code",
   "execution_count": null,
   "metadata": {},
   "outputs": [],
   "source": [
    "VSTmat <- assay(VST)\n",
    "dim(VSTmat)\n",
    "VSTmat[1:10,]"
   ]
  },
  {
   "cell_type": "markdown",
   "metadata": {},
   "source": [
    "Get voom transformation (note that according to ? limma::voom, the function is expecting raw counts"
   ]
  },
  {
   "cell_type": "code",
   "execution_count": null,
   "metadata": {},
   "outputs": [],
   "source": [
    "VOOM <- limma::voom(counts(dds))"
   ]
  },
  {
   "cell_type": "markdown",
   "metadata": {},
   "source": [
    "Get the VOOM matrix"
   ]
  },
  {
   "cell_type": "code",
   "execution_count": null,
   "metadata": {},
   "outputs": [],
   "source": [
    "VOOMmat <- VOOM$E\n",
    "dim(VOOMmat)\n",
    "VOOMmat[1:10,]"
   ]
  },
  {
   "cell_type": "markdown",
   "metadata": {},
   "source": [
    "# Appendix: Multiplicitive Model"
   ]
  },
  {
   "cell_type": "code",
   "execution_count": null,
   "metadata": {},
   "outputs": [],
   "source": [
    "### Make DESeq object on the basis of the counts\n",
    "dds_mult <- DESeqDataSetFromMatrix(countData, columnData, ~ Media + Strain + Media:Strain)\n",
    "### Estimate Size Factors\n",
    "dds_mult <- estimateSizeFactors(dds_mult)\n",
    "### Estimate Dispersion parameters (for each gene)\n",
    "dds_mult <- estimateDispersions(dds_mult)\n",
    "### Fit NB MLE model\n",
    "dds_mult <- DESeq(dds_mult)\n",
    "### Rlog \"normalized\" expressions\n",
    "rld <- rlog(dds_mult)"
   ]
  },
  {
   "cell_type": "code",
   "execution_count": null,
   "metadata": {},
   "outputs": [],
   "source": [
    "options(repr.plot.width = 8, repr.plot.height = 5)\n",
    "grid.arrange(\n",
    "    myinteractplot(rld, \"CNAG_03398\", \"Strain\"),\n",
    "    myinteractplot(rld, \"CNAG_03623\", \"Strain\"),\n",
    "    myinteractplot(rld, \"CNAG_00727\", \"Strain\"),\n",
    "    myinteractplot(rld, \"CNAG_02587\", \"Strain\"),\n",
    "    ncol=2)"
   ]
  },
  {
   "cell_type": "code",
   "execution_count": null,
   "metadata": {},
   "outputs": [],
   "source": [
    "options(repr.plot.width = 8, repr.plot.height = 5)\n",
    "grid.arrange(\n",
    "    myinteractplot(rld, \"CNAG_03398\", \"media\"),\n",
    "    myinteractplot(rld, \"CNAG_12988\", \"media\"),\n",
    "    myinteractplot(rld, \"CNAG_00183\", \"media\"),\n",
    "    myinteractplot(rld, \"CNAG_02083\", \"media\"),\n",
    "    ncol=2)"
   ]
  },
  {
   "cell_type": "markdown",
   "metadata": {},
   "source": [
    "# Appendix: Get Session Information"
   ]
  },
  {
   "cell_type": "code",
   "execution_count": null,
   "metadata": {},
   "outputs": [],
   "source": [
    "sessionInfo()"
   ]
  }
 ],
 "metadata": {
  "kernelspec": {
   "display_name": "R",
   "language": "R",
   "name": "ir"
  },
  "language_info": {
   "codemirror_mode": "r",
   "file_extension": ".r",
   "mimetype": "text/x-r-source",
   "name": "R",
   "pygments_lexer": "r",
   "version": "3.4.1"
  }
 },
 "nbformat": 4,
 "nbformat_minor": 2
}
