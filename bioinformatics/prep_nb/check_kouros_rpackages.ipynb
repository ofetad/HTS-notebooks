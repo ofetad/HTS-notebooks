{
 "cells": [
  {
   "cell_type": "code",
   "execution_count": null,
   "metadata": {},
   "outputs": [],
   "source": [
    "pkg1 <- c(\"ROCR\",\"mvtnorm\",\"pheatmap\",\"foreach\",\"psych\",\"formatR\",\"knitr\")\n",
    "\n",
    "for (x in pkg1) {\n",
    "    library(x,character.only = TRUE)\n",
    "}"
   ]
  },
  {
   "cell_type": "code",
   "execution_count": null,
   "metadata": {},
   "outputs": [],
   "source": [
    "pkg2 <- c(\"tidyverse\", \"dendextend\", \"RColorBrewer\")\n",
    "\n",
    "for (x in pkg2) {\n",
    "    library(x,character.only = TRUE)\n",
    "}"
   ]
  },
  {
   "cell_type": "code",
   "execution_count": null,
   "metadata": {},
   "outputs": [],
   "source": [
    "pkg3 <- c(\"DESeq2\",\"golubEsets\",\"genefilter\", \"multtest\", \"qvalue\", \"limma\")\n",
    "\n",
    "for (x in pkg3) {\n",
    "    library(x,character.only = TRUE)\n",
    "}"
   ]
  },
  {
   "cell_type": "code",
   "execution_count": null,
   "metadata": {},
   "outputs": [],
   "source": [
    "library(rentrez)\n",
    "COI <- entrez_fetch(db = \"nucleotide\", id = 167843256, rettype=\"fasta\")\n",
    "cat(COI)"
   ]
  }
 ],
 "metadata": {
  "kernelspec": {
   "display_name": "R",
   "language": "R",
   "name": "ir"
  },
  "language_info": {
   "codemirror_mode": "r",
   "file_extension": ".r",
   "mimetype": "text/x-r-source",
   "name": "R",
   "pygments_lexer": "r",
   "version": "3.4.1"
  }
 },
 "nbformat": 4,
 "nbformat_minor": 2
}
