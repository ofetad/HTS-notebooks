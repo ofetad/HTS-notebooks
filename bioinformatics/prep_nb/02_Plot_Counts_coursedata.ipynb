{
 "cells": [
  {
   "cell_type": "markdown",
   "metadata": {},
   "source": [
    "# Set up environment"
   ]
  },
  {
   "cell_type": "code",
   "execution_count": null,
   "metadata": {
    "scrolled": true
   },
   "outputs": [],
   "source": [
    "source(\"course_config.R\")"
   ]
  },
  {
   "cell_type": "markdown",
   "metadata": {},
   "source": [
    "Recall that after the tutorial one, we have created the hts-pilot-2018.RData.\n",
    "\n",
    "```\n",
    "scratch\n",
    "└── analysis_output  \n",
    "    ├── out  \n",
    "    │   └── hts-pilot-2018.RData        \n",
    "    └── img  \n",
    "```"
   ]
  },
  {
   "cell_type": "code",
   "execution_count": null,
   "metadata": {},
   "outputs": [],
   "source": [
    "OUTDIR"
   ]
  },
  {
   "cell_type": "code",
   "execution_count": null,
   "metadata": {},
   "outputs": [],
   "source": [
    "# file directory\n",
    "cntfile <- file.path(OUTDIR, \"hts-course-2018.RData\")"
   ]
  },
  {
   "cell_type": "markdown",
   "metadata": {},
   "source": [
    "# Read in results"
   ]
  },
  {
   "cell_type": "code",
   "execution_count": null,
   "metadata": {},
   "outputs": [],
   "source": [
    "### Import count data\n",
    "attach(cntfile)\n",
    "tools::md5sum(cntfile)"
   ]
  },
  {
   "cell_type": "code",
   "execution_count": null,
   "metadata": {},
   "outputs": [],
   "source": [
    "### Import metadata\n",
    "tools::md5sum(METADTFILE)\n",
    "\n",
    "mtdf <- readr::read_csv(METADTFILE) %>%\n",
    "    dplyr::rename(Label = label,\n",
    "                  Media = media) %>%\n",
    "    mutate_at(vars(\n",
    "        `Label`,\n",
    "        `Strain`,\n",
    "        `Media`,\n",
    "        `group`,\n",
    "        `experiment_person`\n",
    "    ), factor)"
   ]
  },
  {
   "cell_type": "markdown",
   "metadata": {},
   "source": [
    "Recall that there are 204 samples and 8498 genes"
   ]
  },
  {
   "cell_type": "code",
   "execution_count": null,
   "metadata": {},
   "outputs": [],
   "source": [
    "head(mtdf)"
   ]
  },
  {
   "cell_type": "markdown",
   "metadata": {},
   "source": [
    "# Check the label between metadata and mapping results"
   ]
  },
  {
   "cell_type": "markdown",
   "metadata": {},
   "source": [
    "Recall that we got two data frames in the previous tutorial:  \n",
    "- genecounts: gene counts for each **sample**\n",
    "    - Note: We will need to convert it into gene counts for each **library** later\n",
    "- mapresults: the mapping results \n",
    "    - Note: There are 204 samples"
   ]
  },
  {
   "cell_type": "markdown",
   "metadata": {},
   "source": [
    "The metadata (`mtdf`) contains the information of each sample. Here we need to make sure if the label in the metadata matches the sample names we have in `mapresults` and `genecount`\n",
    "\n",
    "The code chunk below allows us to check to see if we can match the labels to the those in the metadata file. There should not be any output from the code chunk."
   ]
  },
  {
   "cell_type": "code",
   "execution_count": null,
   "metadata": {},
   "outputs": [],
   "source": [
    "### Use setdiff to check to see if we can match the labels to the those in the metadata file\n",
    "myregex <- \"_[A-Z](100|[1-9][0-9]?)_L00[1-4].*\"\n",
    "\n",
    "mapresults$expid %>%\n",
    "    str_replace(myregex, \"\") %>%\n",
    "    setdiff(mtdf$Label)\n",
    "\n",
    "mtdf$Label %>%\n",
    "    setdiff(str_replace(mapresults$expid, myregex, \"\"))"
   ]
  },
  {
   "cell_type": "markdown",
   "metadata": {},
   "source": [
    "# Construct gene count matrix for each library"
   ]
  },
  {
   "cell_type": "markdown",
   "metadata": {},
   "source": [
    "Add the \"Label\" to the count matrix and mapping results, then merge in phenotype data (by Label)"
   ]
  },
  {
   "cell_type": "code",
   "execution_count": null,
   "metadata": {},
   "outputs": [],
   "source": [
    "### Add \"Label\" to genecounts\n",
    "genecounts %>%\n",
    "    mutate(Label = str_replace(expid, myregex, \"\")) ->\n",
    "    annogenecnts"
   ]
  },
  {
   "cell_type": "code",
   "execution_count": null,
   "metadata": {},
   "outputs": [],
   "source": [
    "### Collapse the gene counts within each label\n",
    "annogenecnts %>%\n",
    "    select(-expid) %>%\n",
    "    group_by(Label) %>%\n",
    "    summarize_all(sum) %>%\n",
    "    gather(gene, value, -Label) %>% \n",
    "    spread(Label, value) ->\n",
    "    annogenecnts0"
   ]
  },
  {
   "cell_type": "markdown",
   "metadata": {},
   "source": [
    "Show the resulting data frame in each step"
   ]
  },
  {
   "cell_type": "code",
   "execution_count": null,
   "metadata": {},
   "outputs": [],
   "source": [
    "genecounts[1:6, 1:6]"
   ]
  },
  {
   "cell_type": "code",
   "execution_count": null,
   "metadata": {},
   "outputs": [],
   "source": [
    "annogenecnts[1:6, c(colnames(annogenecnts)[1:6], \"Label\")]"
   ]
  },
  {
   "cell_type": "code",
   "execution_count": null,
   "metadata": {},
   "outputs": [],
   "source": [
    "annogenecnts0[1:6, 1:6]"
   ]
  },
  {
   "cell_type": "markdown",
   "metadata": {},
   "source": [
    "# Metadata"
   ]
  },
  {
   "cell_type": "markdown",
   "metadata": {},
   "source": [
    "Add \"Label\" to read map results and merge in phenotype data (-> annomapres)"
   ]
  },
  {
   "cell_type": "code",
   "execution_count": null,
   "metadata": {},
   "outputs": [],
   "source": [
    "mapresults %>%\n",
    "    mutate(Label = str_replace(expid, myregex, \"\")) %>%\n",
    "    full_join(mtdf, by = \"Label\") ->\n",
    "    annomapres"
   ]
  },
  {
   "cell_type": "code",
   "execution_count": null,
   "metadata": {},
   "outputs": [],
   "source": [
    "annomapres"
   ]
  },
  {
   "cell_type": "code",
   "execution_count": null,
   "metadata": {},
   "outputs": [],
   "source": [
    "grpvars <- vars(Label, Strain, Media, experiment_person, group)\n",
    "sumvars <- vars(prop.gene, prop.nofeat, prop.unique, depth)\n",
    "\n",
    "annomapres %>%\n",
    "    group_by_at(grpvars) %>%\n",
    "    summarize_at(sumvars, mean) -> \n",
    "    annomapres0"
   ]
  },
  {
   "cell_type": "code",
   "execution_count": null,
   "metadata": {},
   "outputs": [],
   "source": [
    "head(annomapres)"
   ]
  },
  {
   "cell_type": "code",
   "execution_count": null,
   "metadata": {},
   "outputs": [],
   "source": [
    "head(annomapres0)"
   ]
  },
  {
   "cell_type": "markdown",
   "metadata": {},
   "source": [
    "# Store the results"
   ]
  },
  {
   "cell_type": "code",
   "execution_count": null,
   "metadata": {},
   "outputs": [],
   "source": [
    "outfile <- file.path(OUTDIR, \"HTS-Course-Annotated-STAR-counts.RData\")\n",
    "save(mtdf, annogenecnts0, annomapres0, annogenecnts, annomapres, file = outfile)\n",
    "tools::md5sum(outfile)"
   ]
  },
  {
   "cell_type": "markdown",
   "metadata": {},
   "source": [
    "# Visualize the mapping results"
   ]
  },
  {
   "cell_type": "code",
   "execution_count": null,
   "metadata": {},
   "outputs": [],
   "source": [
    "### Figures for mapping results\n",
    "mygeom <-  geom_point(position = position_jitter(w = 0.3, h = 0))\n",
    "mypal <- scale_colour_manual(name=\"\",  values =brewer.pal(3,\"Set1\"))\n",
    "mytheme <-  theme(axis.text.x = element_text(angle = 90, hjust = 1)) + theme_bw()\n",
    "myfacet <- facet_grid(Strain~ Media, drop=TRUE, scales=\"free_x\", space=\"free\")"
   ]
  },
  {
   "cell_type": "markdown",
   "metadata": {},
   "source": [
    "### Show the fraction of unique mapped reads among all reads (prob.unique)"
   ]
  },
  {
   "cell_type": "code",
   "execution_count": null,
   "metadata": {},
   "outputs": [],
   "source": [
    "options(repr.plot.width = 9, repr.plot.height = 6)\n",
    "\n",
    "p1 <- ggplot(annomapres, \n",
    "             aes(x = factor(Label), \n",
    "                 y = prop.unique, \n",
    "                 shape = Strain, \n",
    "                 color = Media)) +\n",
    "        myfacet + \n",
    "        mygeom + \n",
    "        mytheme + \n",
    "        mypal\n",
    "\n",
    "print(p1)"
   ]
  },
  {
   "cell_type": "markdown",
   "metadata": {},
   "source": [
    "### Show the fraction of reads mapped to genes (prob.gene)"
   ]
  },
  {
   "cell_type": "code",
   "execution_count": null,
   "metadata": {},
   "outputs": [],
   "source": [
    "options(repr.plot.width = 9, repr.plot.height = 6)\n",
    "\n",
    "p2 <- ggplot(annomapres, \n",
    "             aes(x = Label, \n",
    "                 y = prop.gene, \n",
    "                 shape = Strain, \n",
    "                 color = Media)) +\n",
    "        myfacet +\n",
    "        mygeom +\n",
    "        mytheme + \n",
    "        mypal\n",
    "  \n",
    "print(p2)"
   ]
  },
  {
   "cell_type": "markdown",
   "metadata": {},
   "source": [
    "### Show the fraction of reads categorized as \"no feature\" (prob.nofeat)"
   ]
  },
  {
   "cell_type": "code",
   "execution_count": null,
   "metadata": {},
   "outputs": [],
   "source": [
    "options(repr.plot.width = 9, repr.plot.height = 6)\n",
    "\n",
    "p3 <- ggplot(annomapres, \n",
    "             aes(x = Label, \n",
    "                 y = prop.nofeat, \n",
    "                 shape = Strain, \n",
    "                 color = Media))+\n",
    "        myfacet +\n",
    "        mygeom + \n",
    "        mytheme + \n",
    "        mypal\n",
    "\n",
    "print(p3)"
   ]
  },
  {
   "cell_type": "markdown",
   "metadata": {},
   "source": [
    "### Show the number of all the reads in each sample \n",
    "(Note: depth = ngenemap + namb + nmulti + nnofeat + nunmap)"
   ]
  },
  {
   "cell_type": "code",
   "execution_count": null,
   "metadata": {
    "scrolled": false
   },
   "outputs": [],
   "source": [
    "options(repr.plot.width = 9, repr.plot.height = 6)\n",
    "\n",
    "p4 <- ggplot(annomapres, \n",
    "             aes(x = Label, \n",
    "                 y = depth, \n",
    "                 shape = Strain, \n",
    "                 color = Media))+\n",
    "        myfacet +\n",
    "        mygeom +\n",
    "        mytheme +\n",
    "        mypal\n",
    "\n",
    "print(p4)"
   ]
  },
  {
   "cell_type": "markdown",
   "metadata": {},
   "source": [
    "### Store the plots"
   ]
  },
  {
   "cell_type": "code",
   "execution_count": null,
   "metadata": {},
   "outputs": [],
   "source": [
    "png(file.path(IMGDIR, \"p1.png\"), height = 480 * 2, width = 480 * 2)\n",
    "plot(p1)\n",
    "graphics.off()\n",
    "\n",
    "png(file.path(IMGDIR, \"p2.png\"), height = 480 * 2, width = 480 * 2)\n",
    "plot(p2)\n",
    "graphics.off()\n",
    "\n",
    "png(file.path(IMGDIR, \"p3.png\"), height = 480 * 2, width = 480 * 2)\n",
    "plot(p3)\n",
    "graphics.off()\n",
    "\n",
    "png(file.path(IMGDIR, \"p4.png\"), height = 480 * 2, width = 480 * 2)\n",
    "plot(p4)\n",
    "graphics.off()"
   ]
  }
 ],
 "metadata": {
  "kernelspec": {
   "display_name": "R",
   "language": "R",
   "name": "ir"
  },
  "language_info": {
   "codemirror_mode": "r",
   "file_extension": ".r",
   "mimetype": "text/x-r-source",
   "name": "R",
   "pygments_lexer": "r",
   "version": "3.4.1"
  }
 },
 "nbformat": 4,
 "nbformat_minor": 2
}
