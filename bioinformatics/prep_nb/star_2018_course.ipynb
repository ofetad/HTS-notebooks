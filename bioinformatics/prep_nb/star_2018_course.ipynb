{
 "cells": [
  {
   "cell_type": "markdown",
   "metadata": {},
   "source": [
    "# Analyze 2018 Course Data to Counts"
   ]
  },
  {
   "cell_type": "markdown",
   "metadata": {},
   "source": [
    "## Load Variables and Make Directories"
   ]
  },
  {
   "cell_type": "code",
   "execution_count": null,
   "metadata": {},
   "outputs": [],
   "source": [
    "source star_2018_course_config.sh\n",
    "# rm -rf $CUROUT\n",
    "mkdir -p $STAR_OUT $GENOME_DIR $FINAL_COUNTS"
   ]
  },
  {
   "cell_type": "markdown",
   "metadata": {},
   "source": [
    "## Download Genome and Annotation"
   ]
  },
  {
   "cell_type": "code",
   "execution_count": null,
   "metadata": {},
   "outputs": [],
   "source": [
    "for CUR in $FA_URL $GTF_URL ; do\n",
    "    wget --directory-prefix ${GENOME_DIR} ${CUR}\n",
    "done"
   ]
  },
  {
   "cell_type": "code",
   "execution_count": null,
   "metadata": {},
   "outputs": [],
   "source": [
    "gunzip --force ${GENOME_DIR}/${GTF}.gz\n",
    "gunzip --force ${GENOME_DIR}/${FA}.gz"
   ]
  },
  {
   "cell_type": "markdown",
   "metadata": {},
   "source": [
    "## Index Genome"
   ]
  },
  {
   "cell_type": "code",
   "execution_count": null,
   "metadata": {},
   "outputs": [],
   "source": [
    "STAR \\\n",
    "    --runThreadN $THREADS \\\n",
    "    --runMode genomeGenerate \\\n",
    "    --genomeDir $GENOME_DIR \\\n",
    "    --genomeFastaFiles ${GENOME_DIR}/${FA} \\\n",
    "    --sjdbGTFfile ${GENOME_DIR}/${GTF} \\\n",
    "    --outFileNamePrefix ${STAR_OUT}/genome_ \\\n",
    "    --sjdbGTFfeatureExon exon \\\n",
    "    --sjdbGTFtagExonParentTranscript transcript_id \\\n",
    "    --sjdbGTFtagExonParentGene gene_id \\\n",
    "    --genomeSAindexNbases 6"
   ]
  },
  {
   "cell_type": "markdown",
   "metadata": {},
   "source": [
    "## Trim and Map Reads"
   ]
  },
  {
   "cell_type": "code",
   "execution_count": null,
   "metadata": {},
   "outputs": [],
   "source": [
    "trim_and_star_func() {\n",
    "    FASTQ=$1\n",
    "    FASTQ_BASE=${FASTQ##*/} # strip directory from file path\n",
    "    SAMPLE=\"${FASTQ_BASE%_R1_001.fastq.gz}\" # strip .fq.gz file extension\n",
    "    echo $SAMPLE\n",
    "    echo $FASTQ\n",
    "    echo $FASTQ_BASE\n",
    "    # exit 1\n",
    "\n",
    "\n",
    "    # make a pipe for trimmed fastq\n",
    "    CUR_PIPE=`mktemp --dry-run`_${SAMPLE}_pipe.fq\n",
    "    mkfifo $CUR_PIPE\n",
    "\n",
    "    # Run fastq-mcf\n",
    "    fastq-mcf \\\n",
    "        $ADAPTERS \\\n",
    "        $FASTQ \\\n",
    "        -o $CUR_PIPE \\\n",
    "        -q 20 -x 0.5 &\n",
    "        \n",
    "    STAR \\\n",
    "    --runMode alignReads \\\n",
    "    --runThreadN $THREADS \\\n",
    "    --genomeDir $GENOME_DIR \\\n",
    "    --outSAMtype BAM SortedByCoordinate \\\n",
    "    --limitBAMsortRAM 1280000000 \\\n",
    "    --quantMode GeneCounts \\\n",
    "    --genomeLoad LoadAndKeep \\\n",
    "    --twopassMode None \\\n",
    "    --outFileNamePrefix ${STAR_OUT}/${SAMPLE}_ \\\n",
    "    --alignIntronMax 5000 \\\n",
    "    --outSJfilterIntronMaxVsReadN 500 1000 2000 \\\n",
    "    --readFilesIn $CUR_PIPE        \n",
    "        \n",
    "    rm -f $CUR_PIPE\n",
    "}\n",
    "export -f trim_and_star_func\n",
    "\n",
    "STAR --genomeDir $GENOME_DIR \\\n",
    "    --outFileNamePrefix ${STAR_OUT}/genomeload_ \\\n",
    "    --genomeLoad LoadAndExit \n",
    "\n",
    "parallel --jobs $MAX_JOBS trim_and_star_func ::: $RAW_FASTQS/*.fastq.gz\n",
    "# parallel --jobs $MAX_JOBS trim_and_star_func ::: $RAW_FASTQS/A_[1-2]_*.fastq.gz\n",
    "\n",
    "STAR --genomeDir $GENOME_DIR \\\n",
    "    --outFileNamePrefix ${STAR_OUT}/genomeremove_ \\\n",
    "    --genomeLoad Remove"
   ]
  },
  {
   "cell_type": "code",
   "execution_count": null,
   "metadata": {},
   "outputs": [],
   "source": [
    "chmod u+w $DATA_BASE\n",
    "mkdir -p $FINAL_COUNTS\n",
    "chmod -R u+w $FINAL_COUNTS\n",
    "mv $STAR_OUT/*_ReadsPerGene.out.tab $FINAL_COUNTS\n",
    "chmod -R a-w $DATA_BASE"
   ]
  },
  {
   "cell_type": "code",
   "execution_count": null,
   "metadata": {},
   "outputs": [],
   "source": [
    "chmod u+w $DATA_BASE\n",
    "mkdir -p $FINAL_BAMS\n",
    "chmod -R u+w $FINAL_BAMS\n",
    "mv $STAR_OUT/*_Aligned.sortedByCoord.out.bam $FINAL_BAMS\n",
    "chmod -R a-w $DATA_BASE"
   ]
  }
 ],
 "metadata": {
  "kernelspec": {
   "display_name": "Bash",
   "language": "bash",
   "name": "bash"
  },
  "language_info": {
   "codemirror_mode": "shell",
   "file_extension": ".sh",
   "mimetype": "text/x-sh",
   "name": "bash"
  }
 },
 "nbformat": 4,
 "nbformat_minor": 1
}
