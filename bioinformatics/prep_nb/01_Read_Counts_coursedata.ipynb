{
 "cells": [
  {
   "cell_type": "markdown",
   "metadata": {},
   "source": [
    "# Set up environment"
   ]
  },
  {
   "cell_type": "code",
   "execution_count": null,
   "metadata": {},
   "outputs": [],
   "source": [
    "source(\"course_config.R\")"
   ]
  },
  {
   "cell_type": "code",
   "execution_count": null,
   "metadata": {},
   "outputs": [],
   "source": [
    "# get files of all star output files\n",
    "stardirs <- list.files(DATDIR)"
   ]
  },
  {
   "cell_type": "markdown",
   "metadata": {},
   "source": [
    "# Read in the count data output from STAR"
   ]
  },
  {
   "cell_type": "markdown",
   "metadata": {},
   "source": [
    "There are 204 files under this folder. Each file is generated from a fastq file using STAR."
   ]
  },
  {
   "cell_type": "code",
   "execution_count": null,
   "metadata": {},
   "outputs": [],
   "source": [
    "length(stardirs)"
   ]
  },
  {
   "cell_type": "code",
   "execution_count": null,
   "metadata": {},
   "outputs": [],
   "source": [
    "head(stardirs)"
   ]
  },
  {
   "cell_type": "markdown",
   "metadata": {},
   "source": [
    "View the head of one file (1_MA_J_S18_L001_ReadsPerGene.out.tab). Notice that there are four columns and the columns we want is the **first** and the **fourth** columns."
   ]
  },
  {
   "cell_type": "code",
   "execution_count": null,
   "metadata": {},
   "outputs": [],
   "source": [
    "cmdstr <- paste(\"head\", file.path(DATDIR, stardirs[1]))\n",
    "cmdout <- system(cmdstr, intern = TRUE)\n",
    "str_split(cmdout, pattern = \"\\t\")"
   ]
  },
  {
   "cell_type": "markdown",
   "metadata": {},
   "source": [
    "### Construct a matrix that gathers all the count files"
   ]
  },
  {
   "cell_type": "markdown",
   "metadata": {},
   "source": [
    "helper functions to read the count files"
   ]
  },
  {
   "cell_type": "code",
   "execution_count": null,
   "metadata": {},
   "outputs": [],
   "source": [
    "mycombine <- function(df1, df2) {\n",
    "    # Combine two data frames by gene names\n",
    "    #\n",
    "    # Args:\n",
    "    #   df1 (Dataframe): the first count data\n",
    "    #   df2 (Dataframe): the second count data\n",
    "    #\n",
    "    # Returns:\n",
    "    #   (Dataframe) The combined data frame of df1 and df2\n",
    "    full_join(df1, df2, by = \"gene\")\n",
    "}\n",
    "\n",
    "myfile <- function(filedir, filename) {\n",
    "    # Get the absolute paths of a file\n",
    "    #\n",
    "    # Args:\n",
    "    #   filedir  (Character): the directory of the folder\n",
    "    #   filename (Character): the filename\n",
    "    #\n",
    "    # Returns:\n",
    "    #   (Character) the directory of the input file\n",
    "    file.path(filedir, filename)\n",
    "}\n",
    "\n",
    "# Data type for each column\n",
    "coltypes <- list(col_character(), col_integer(), col_integer(), col_integer())"
   ]
  },
  {
   "cell_type": "markdown",
   "metadata": {},
   "source": [
    "read the count files and combine them"
   ]
  },
  {
   "cell_type": "code",
   "execution_count": null,
   "metadata": {},
   "outputs": [],
   "source": [
    "out <- foreach(stardir = stardirs, .combine = mycombine) %do% {\n",
    "    \n",
    "    # get a directory of each count file\n",
    "    cntfile <- myfile(DATDIR, stardir)\n",
    "    \n",
    "    # read in the count file\n",
    "    readr::read_tsv(cntfile, col_names = FALSE, col_types = coltypes) %>%\n",
    "        dplyr::select(X1, X4) %>% # get the 1st and 4th columns\n",
    "            dplyr::rename_(.dots=setNames(names(.), c(\"gene\",stardir)))\n",
    "}"
   ]
  },
  {
   "cell_type": "markdown",
   "metadata": {},
   "source": [
    "There are 205 columns (204 count files + 1 rowname)"
   ]
  },
  {
   "cell_type": "code",
   "execution_count": null,
   "metadata": {},
   "outputs": [],
   "source": [
    "dim(out)"
   ]
  },
  {
   "cell_type": "code",
   "execution_count": null,
   "metadata": {},
   "outputs": [],
   "source": [
    "out[1:6, 1:6]"
   ]
  },
  {
   "cell_type": "markdown",
   "metadata": {},
   "source": [
    "# Arrange the results from the count files"
   ]
  },
  {
   "cell_type": "markdown",
   "metadata": {},
   "source": [
    "### Separate the first four rows (-> nmisc) and others (-> genecounts)"
   ]
  },
  {
   "cell_type": "markdown",
   "metadata": {},
   "source": [
    "We see that our count matrix contains both summarizing counts and specific counts of each gene for each sample. Note that our 'out' matrix is in biological format (i.e. the samples are the columns and the variables are the rows). Let's split this matrix up into two matrices: `nmisc` and `genecounts`."
   ]
  },
  {
   "cell_type": "markdown",
   "metadata": {},
   "source": [
    "For `nmisc`, we will take the first 4 rows of `out` since those are the summarizing features. Next, we want to transform the data frame so that it is in statistical format (the samples are the rows and the feature types are the columns). Using a combination of gather and spread, we can transpose our matrix into the desired format."
   ]
  },
  {
   "cell_type": "code",
   "execution_count": null,
   "metadata": {},
   "outputs": [],
   "source": [
    "### Gather and spread the first four rows\n",
    "out %>%\n",
    "    dplyr::slice(1:4) %>%\n",
    "    gather(expid, value, -gene) %>% \n",
    "    spread(gene, value) %>%\n",
    "    rename_(.dots = setNames(names(.), c(\"expid\", \"namb\", \"nmulti\", \"nnofeat\",\"nunmap\"))) ->\n",
    "    nmisc"
   ]
  },
  {
   "cell_type": "code",
   "execution_count": null,
   "metadata": {},
   "outputs": [],
   "source": [
    "nmisc %>% head"
   ]
  },
  {
   "cell_type": "markdown",
   "metadata": {},
   "source": [
    "To obtain the counts for specific genes, we will use the rest of our `out` matrix since it contains the gene counts. However, we still want to transform the data frame into statistical format, which we will accomplish using gather and spread."
   ]
  },
  {
   "cell_type": "code",
   "execution_count": null,
   "metadata": {},
   "outputs": [],
   "source": [
    "### Gather and spread the genes to get a count matrix\n",
    "out %>%\n",
    "    dplyr::slice(-(1:4)) %>%\n",
    "    gather(expid, value, -gene) %>% \n",
    "    spread(gene, value) -> genecounts"
   ]
  },
  {
   "cell_type": "code",
   "execution_count": null,
   "metadata": {},
   "outputs": [],
   "source": [
    "genecounts[1:6,1:6]"
   ]
  },
  {
   "cell_type": "markdown",
   "metadata": {},
   "source": [
    "### For each samples, sum up all the counts"
   ]
  },
  {
   "cell_type": "markdown",
   "metadata": {},
   "source": [
    "We can create a variable denoting the number of total genes mapped for each sample by summing across the rows."
   ]
  },
  {
   "cell_type": "code",
   "execution_count": null,
   "metadata": {},
   "outputs": [],
   "source": [
    "### Sum across the rows for a total gene count variable\n",
    "genecounts %>%    \n",
    "    mutate(ngenemap = rowSums(.[-1])) %>%\n",
    "    select(expid, ngenemap) -> ngene"
   ]
  },
  {
   "cell_type": "markdown",
   "metadata": {},
   "source": [
    "### Summarize the results"
   ]
  },
  {
   "cell_type": "markdown",
   "metadata": {},
   "source": [
    "We will create a comprehensive data frame `mapresults` which will combine `ngene` with `nmisc`. This data frame will have summarizing mapping features in addition to proportion features. "
   ]
  },
  {
   "cell_type": "code",
   "execution_count": null,
   "metadata": {},
   "outputs": [],
   "source": [
    "### Merge in the 4 misc counts and add summaries\n",
    "ngene %>%\n",
    "    full_join(nmisc, by = \"expid\") %>%\n",
    "    mutate(depth = as.integer(ngenemap + namb + nmulti + nnofeat + nunmap)) %>%\n",
    "    mutate(prop.gene = ngenemap / depth) %>%\n",
    "    mutate(prop.nofeat = nnofeat / depth) %>%\n",
    "    mutate(prop.unique = (ngenemap + nnofeat) / depth) ->\n",
    "    mapresults"
   ]
  },
  {
   "cell_type": "markdown",
   "metadata": {},
   "source": [
    "# Store the results"
   ]
  },
  {
   "cell_type": "code",
   "execution_count": null,
   "metadata": {},
   "outputs": [],
   "source": [
    "head(mapresults)"
   ]
  },
  {
   "cell_type": "code",
   "execution_count": null,
   "metadata": {},
   "outputs": [],
   "source": [
    "dir.create(OUTDIR,recursive = TRUE)\n",
    "outfile <- file.path(OUTDIR, \"hts-course-2018.RData\")\n",
    "save(mapresults, genecounts, file = outfile)"
   ]
  },
  {
   "cell_type": "code",
   "execution_count": null,
   "metadata": {},
   "outputs": [],
   "source": [
    "tools::md5sum(path.expand(outfile))"
   ]
  }
 ],
 "metadata": {
  "kernelspec": {
   "display_name": "R",
   "language": "R",
   "name": "ir"
  },
  "language_info": {
   "codemirror_mode": "r",
   "file_extension": ".r",
   "mimetype": "text/x-r-source",
   "name": "R",
   "pygments_lexer": "r",
   "version": "3.4.1"
  }
 },
 "nbformat": 4,
 "nbformat_minor": 2
}
