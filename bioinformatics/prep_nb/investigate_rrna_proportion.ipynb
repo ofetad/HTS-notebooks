{
 "cells": [
  {
   "cell_type": "code",
   "execution_count": null,
   "metadata": {},
   "outputs": [],
   "source": [
    "head /data/hts2018_pilot/star_counts/*TOT*"
   ]
  },
  {
   "cell_type": "code",
   "execution_count": null,
   "metadata": {},
   "outputs": [],
   "source": [
    "egrep \"CNAG_10500|CNAG_10501|CNAG_10502|CNAG_10503\" /data/hts2018_pilot/star_counts/2_TOT_C_S17_L001_ReadsPerGene.out.tab"
   ]
  },
  {
   "cell_type": "code",
   "execution_count": null,
   "metadata": {},
   "outputs": [],
   "source": [
    "egrep \"CNAG_10500|CNAG_10501|CNAG_10502|CNAG_10503\" /data/hts2018_pilot/star_counts/2_*_C_*_L001_ReadsPerGene.out.tab"
   ]
  },
  {
   "cell_type": "code",
   "execution_count": null,
   "metadata": {},
   "outputs": [],
   "source": [
    "grep -v CNAG /data/hts2018_pilot/star_counts/2_TOT_C_S17_L001_ReadsPerGene.out.tab"
   ]
  },
  {
   "cell_type": "code",
   "execution_count": null,
   "metadata": {},
   "outputs": [],
   "source": [
    "cat /home/jovyan/work/scratch/2018_full_pilot/star_out/10_MA_C_S3_L001_Log.final.out"
   ]
  },
  {
   "cell_type": "code",
   "execution_count": null,
   "metadata": {},
   "outputs": [],
   "source": [
    "grep rRNA /home/jovyan/work/scratch/2018_full_pilot/genome/Cryptococcus_neoformans_var_grubii_h99.CNA3.39.gtf"
   ]
  },
  {
   "cell_type": "code",
   "execution_count": null,
   "metadata": {},
   "outputs": [],
   "source": [
    "head /home/jovyan/work/scratch/2018_full_pilot/genome/Cryptococcus_neoformans_var_grubii_h99.CNA3.dna.toplevel.fa"
   ]
  }
 ],
 "metadata": {
  "kernelspec": {
   "display_name": "Bash",
   "language": "bash",
   "name": "bash"
  },
  "language_info": {
   "codemirror_mode": "shell",
   "file_extension": ".sh",
   "mimetype": "text/x-sh",
   "name": "bash"
  }
 },
 "nbformat": 4,
 "nbformat_minor": 2
}
