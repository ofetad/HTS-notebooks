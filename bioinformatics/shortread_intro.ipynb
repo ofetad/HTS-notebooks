{
 "cells": [
  {
   "cell_type": "markdown",
   "metadata": {},
   "source": [
    "# Biostrings and ShortRead"
   ]
  },
  {
   "cell_type": "markdown",
   "metadata": {},
   "source": [
    "## Setup"
   ]
  },
  {
   "cell_type": "code",
   "execution_count": null,
   "metadata": {},
   "outputs": [],
   "source": [
    "library(ShortRead)\n",
    "library(tidyverse) # for %>%\n",
    "library(gdata) # for humanReadable\n",
    "set.seed(100)"
   ]
  },
  {
   "cell_type": "code",
   "execution_count": null,
   "metadata": {},
   "outputs": [],
   "source": [
    "### Specify FASTQ file\n",
    "myfqdir <- \"/data/hts2018_pilot/Granek_4837_180427A5\"\n",
    "myfqname <- \"35_MA_P_S39_L002_R1_001.fastq.gz\"\n",
    "myfqfile <- file.path(myfqdir, myfqname)\n",
    "outdir = path.expand(\"~/work/scratch/shortread\")\n",
    "dir.create(outdir)\n",
    "tools::md5sum(myfqfile)"
   ]
  },
  {
   "cell_type": "markdown",
   "metadata": {},
   "source": [
    "## FASTQ Basics"
   ]
  },
  {
   "cell_type": "code",
   "execution_count": null,
   "metadata": {},
   "outputs": [],
   "source": [
    "### Read entire FASTQ file into memory\n",
    "myfq <- readFastq(myfqfile)\n",
    "\n",
    "### Check class\n",
    "class(myfq)"
   ]
  },
  {
   "cell_type": "code",
   "execution_count": null,
   "metadata": {},
   "outputs": [],
   "source": [
    "### Get Summary for FASTQ file\n",
    "myfq"
   ]
  },
  {
   "cell_type": "code",
   "execution_count": null,
   "metadata": {},
   "outputs": [],
   "source": [
    "### Get number of reads\n",
    "length(myfq)"
   ]
  },
  {
   "cell_type": "code",
   "execution_count": null,
   "metadata": {},
   "outputs": [],
   "source": [
    "### Subset based on first three records\n",
    "myfq[1:3]"
   ]
  },
  {
   "cell_type": "code",
   "execution_count": null,
   "metadata": {},
   "outputs": [],
   "source": [
    "### Subset based on three randomly selected records\n",
    "myfq[sample(seq_len(length(myfq)),3, replace=FALSE)]"
   ]
  },
  {
   "cell_type": "code",
   "execution_count": null,
   "metadata": {},
   "outputs": [],
   "source": [
    "### Get sequences and phred scores for reads 1,2, 3 and 1 (add duplicate on\n",
    "### purpose\n",
    "myrecs <- myfq[c(1,2,3,1)]\n",
    "\n",
    "sread(myrecs) -> myseqs\n",
    "\n",
    "quality(myrecs) -> myphreds\n",
    "\n",
    "### Compare classes\n",
    "class(myfq)\n",
    "class(myseqs)\n",
    "class(myphreds)"
   ]
  },
  {
   "cell_type": "code",
   "execution_count": null,
   "metadata": {},
   "outputs": [],
   "source": [
    "ShortRead::id(myrecs)"
   ]
  },
  {
   "cell_type": "markdown",
   "metadata": {},
   "source": [
    "### Read Quality Scores"
   ]
  },
  {
   "cell_type": "code",
   "execution_count": null,
   "metadata": {},
   "outputs": [],
   "source": [
    "### Check encoding of phred scores\n",
    "myphreds %>% encoding"
   ]
  },
  {
   "cell_type": "code",
   "execution_count": null,
   "metadata": {},
   "outputs": [],
   "source": [
    "as(quality(myrecs), \"matrix\")\n"
   ]
  },
  {
   "cell_type": "markdown",
   "metadata": {},
   "source": [
    "### Read Sequences"
   ]
  },
  {
   "cell_type": "code",
   "execution_count": null,
   "metadata": {},
   "outputs": [],
   "source": [
    "### Get the sequences as character strings\n",
    "as.character(myseqs)"
   ]
  },
  {
   "cell_type": "code",
   "execution_count": null,
   "metadata": {},
   "outputs": [],
   "source": [
    "### Check for duplicate reads\n",
    "myseqs %>% duplicated"
   ]
  },
  {
   "cell_type": "code",
   "execution_count": null,
   "metadata": {},
   "outputs": [],
   "source": [
    "### Find Unique reads\n",
    "myseqs %>% unique"
   ]
  },
  {
   "cell_type": "code",
   "execution_count": null,
   "metadata": {},
   "outputs": [],
   "source": [
    "### Get rid of duplicate reads\n",
    "myseqs %>% unique -> myseqs"
   ]
  },
  {
   "cell_type": "code",
   "execution_count": null,
   "metadata": {},
   "outputs": [],
   "source": [
    "### letter frequency counting\n",
    "alphabetFrequency(myseqs)\n",
    "letterFrequency(myseqs, c(\"A\",\"T\"))"
   ]
  },
  {
   "cell_type": "markdown",
   "metadata": {},
   "source": [
    "### Sequence Transformations"
   ]
  },
  {
   "cell_type": "code",
   "execution_count": null,
   "metadata": {},
   "outputs": [],
   "source": [
    "### Reverse reads\n",
    "myseqs %>% reverse"
   ]
  },
  {
   "cell_type": "code",
   "execution_count": null,
   "metadata": {},
   "outputs": [],
   "source": [
    "### complement reads\n",
    "myseqs %>% complement"
   ]
  },
  {
   "cell_type": "code",
   "execution_count": null,
   "metadata": {},
   "outputs": [],
   "source": [
    "### Reverse complement reads\n",
    "myseqs %>% reverseComplement"
   ]
  },
  {
   "cell_type": "code",
   "execution_count": null,
   "metadata": {},
   "outputs": [],
   "source": [
    "translate(myseqs)"
   ]
  },
  {
   "cell_type": "code",
   "execution_count": null,
   "metadata": {},
   "outputs": [],
   "source": [
    "subseq(myseqs, start=10, width=22)"
   ]
  },
  {
   "cell_type": "markdown",
   "metadata": {},
   "source": [
    "## Searching"
   ]
  },
  {
   "cell_type": "code",
   "execution_count": null,
   "metadata": {},
   "outputs": [],
   "source": [
    "matchPattern(pattern=\"CTCCAGT\", myseqs[[1]], max.mismatch=0)"
   ]
  },
  {
   "cell_type": "code",
   "execution_count": null,
   "metadata": {},
   "outputs": [],
   "source": [
    "# change a base to introduce a mismatch\n",
    "matchPattern(pattern=\"CTCCATT\", myseqs[[1]], max.mismatch=0)"
   ]
  },
  {
   "cell_type": "code",
   "execution_count": null,
   "metadata": {},
   "outputs": [],
   "source": [
    "# search allowing a single mismatch \n",
    "matchPattern(pattern=\"CTCCATT\", myseqs[[1]], max.mismatch=1)"
   ]
  },
  {
   "cell_type": "markdown",
   "metadata": {},
   "source": [
    "### Search multiple sequences\n",
    "use `vmatchPattern` to search multiple sequences"
   ]
  },
  {
   "cell_type": "code",
   "execution_count": null,
   "metadata": {},
   "outputs": [],
   "source": [
    "vmatchPattern(pattern=\"CTCCAGT\", myseqs, max.mismatch=0)"
   ]
  },
  {
   "cell_type": "markdown",
   "metadata": {},
   "source": [
    "if we allow mismatches in our pattern we find hits in other sequences"
   ]
  },
  {
   "cell_type": "code",
   "execution_count": null,
   "metadata": {},
   "outputs": [],
   "source": [
    "vmatchPattern(pattern=\"CTCCAGT\", myseqs, max.mismatch=2)"
   ]
  },
  {
   "cell_type": "markdown",
   "metadata": {},
   "source": [
    "### Count sequence matches"
   ]
  },
  {
   "cell_type": "code",
   "execution_count": null,
   "metadata": {},
   "outputs": [],
   "source": [
    "vcountPattern(pattern=\"CTCCAGT\", myseqs, max.mismatch=0)"
   ]
  },
  {
   "cell_type": "code",
   "execution_count": null,
   "metadata": {},
   "outputs": [],
   "source": [
    "vcountPattern(pattern=\"CTCCAGT\", myseqs, max.mismatch=1) "
   ]
  },
  {
   "cell_type": "code",
   "execution_count": null,
   "metadata": {},
   "outputs": [],
   "source": [
    "vcountPattern(pattern=\"CTCCAGT\", myseqs, max.mismatch=2) "
   ]
  },
  {
   "cell_type": "code",
   "execution_count": null,
   "metadata": {},
   "outputs": [],
   "source": [
    "vcountPattern(pattern=\"CTCCAGT\", myseqs, max.mismatch=3) "
   ]
  },
  {
   "cell_type": "markdown",
   "metadata": {},
   "source": [
    "### Pairwise Alignment"
   ]
  },
  {
   "cell_type": "code",
   "execution_count": null,
   "metadata": {},
   "outputs": [],
   "source": [
    "pairwiseAlignment(pattern=\"CTCCAGTC\", myseqs[1])"
   ]
  },
  {
   "cell_type": "code",
   "execution_count": null,
   "metadata": {},
   "outputs": [],
   "source": [
    "pairwiseAlignment(pattern=\"ACACGTCTGAACTCCAGTCA\", myseqs[1])"
   ]
  },
  {
   "cell_type": "code",
   "execution_count": null,
   "metadata": {},
   "outputs": [],
   "source": [
    "pairwiseAlignment(pattern=\"ACACGTCTGAACAGTCA\", myseqs[1])"
   ]
  },
  {
   "cell_type": "markdown",
   "metadata": {},
   "source": [
    "## Streaming and Sampling"
   ]
  },
  {
   "cell_type": "code",
   "execution_count": null,
   "metadata": {},
   "outputs": [],
   "source": [
    "object.size(myfq) %>% humanReadable"
   ]
  },
  {
   "cell_type": "code",
   "execution_count": null,
   "metadata": {},
   "outputs": [],
   "source": [
    "file.size(myfqfile) %>% humanReadable"
   ]
  },
  {
   "cell_type": "markdown",
   "metadata": {},
   "source": [
    "### Streaming\n",
    "Stream a FASTQ rather than loading the whole thing into memory.\n",
    "\n",
    "After initializing the streamer, each `yield` call will return the next `n=5` reads from the FASTQ"
   ]
  },
  {
   "cell_type": "code",
   "execution_count": null,
   "metadata": {},
   "outputs": [],
   "source": [
    "mystream <- FastqStreamer(myfqfile, n=5)\n",
    "mystream"
   ]
  },
  {
   "cell_type": "code",
   "execution_count": null,
   "metadata": {},
   "outputs": [],
   "source": [
    "object.size(mystream) %>% humanReadable"
   ]
  },
  {
   "cell_type": "code",
   "execution_count": null,
   "metadata": {},
   "outputs": [],
   "source": [
    "### The first yield will retrieve records 1 through 5\n",
    "cur_reads = yield(mystream)\n",
    "cur_reads"
   ]
  },
  {
   "cell_type": "code",
   "execution_count": null,
   "metadata": {},
   "outputs": [],
   "source": [
    "object.size(cur_reads) %>% humanReadable"
   ]
  },
  {
   "cell_type": "code",
   "execution_count": null,
   "metadata": {},
   "outputs": [],
   "source": [
    "ShortRead::id(cur_reads)"
   ]
  },
  {
   "cell_type": "code",
   "execution_count": null,
   "metadata": {},
   "outputs": [],
   "source": [
    "### The second yield will retrieve records 6 through 10\n",
    "cur_reads = yield(mystream)\n",
    "ShortRead::id(cur_reads)"
   ]
  },
  {
   "cell_type": "code",
   "execution_count": null,
   "metadata": {},
   "outputs": [],
   "source": [
    "mystream"
   ]
  },
  {
   "cell_type": "code",
   "execution_count": null,
   "metadata": {},
   "outputs": [],
   "source": [
    "### Be sure to close the stream\n",
    "close(mystream)"
   ]
  },
  {
   "cell_type": "markdown",
   "metadata": {},
   "source": [
    "#### Double Check"
   ]
  },
  {
   "cell_type": "code",
   "execution_count": null,
   "metadata": {},
   "outputs": [],
   "source": [
    "mystream <- FastqStreamer(myfqfile, 5)\n",
    "cur_reads = yield(mystream)\n",
    "ShortRead::id(cur_reads)\n",
    "close(mystream)"
   ]
  },
  {
   "cell_type": "code",
   "execution_count": null,
   "metadata": {},
   "outputs": [],
   "source": [
    "mystream <- FastqStreamer(myfqfile, 5)\n",
    "cur_reads = yield(mystream)\n",
    "ShortRead::id(cur_reads)\n",
    "close(mystream)"
   ]
  },
  {
   "cell_type": "markdown",
   "metadata": {},
   "source": [
    "### Sampling\n",
    "Random sampling without reading in entire file upfront.\n",
    "\n",
    "After initializing the sampler, each `yield` call returns `n=5` random reads from the FASTQ"
   ]
  },
  {
   "cell_type": "code",
   "execution_count": null,
   "metadata": {},
   "outputs": [],
   "source": [
    "mysampler <- FastqSampler(myfqfile, n=5)\n",
    "\n",
    "sample_reads = yield(mysampler)\n",
    "ShortRead::id(sample_reads)\n",
    "\n",
    "close(mysampler)"
   ]
  },
  {
   "cell_type": "code",
   "execution_count": null,
   "metadata": {},
   "outputs": [],
   "source": [
    "mysampler <- FastqSampler(myfqfile, n=5)\n",
    "\n",
    "sample_reads = yield(mysampler)\n",
    "ShortRead::id(sample_reads)\n",
    "\n",
    "close(mysampler)"
   ]
  },
  {
   "cell_type": "code",
   "execution_count": null,
   "metadata": {},
   "outputs": [],
   "source": [
    "mysampler <- FastqSampler(myfqfile, n=5)\n",
    "sample_reads = yield(mysampler)\n",
    "object.size(mysampler) %>% humanReadable\n",
    "object.size(sample_reads)%>% humanReadable\n",
    "close(mysampler)"
   ]
  },
  {
   "cell_type": "markdown",
   "metadata": {},
   "source": [
    "## QC Report"
   ]
  },
  {
   "cell_type": "code",
   "execution_count": null,
   "metadata": {},
   "outputs": [],
   "source": [
    "# 55 seconds\n",
    "list.files(myfqdir,pattern = \"(^27_|^3_).*MA.*.fastq.gz\",full.names = TRUE) %>%\n",
    "    qa(BPPARAM = MulticoreParam(workers=3)) %>%\n",
    "    report(dest=file.path(outdir, \"ma_3_27\"))"
   ]
  },
  {
   "cell_type": "code",
   "execution_count": null,
   "metadata": {},
   "outputs": [],
   "source": [
    "# 15 seconds\n",
    "list.files(myfqdir,pattern = \"35_MA_P_S39_L00[1-4]_R1_001.fastq.gz\",full.names = TRUE) %>%\n",
    "    qa(BPPARAM = MulticoreParam(workers=3)) %>%\n",
    "    report(dest=file.path(outdir, \"ma_35\"))"
   ]
  },
  {
   "cell_type": "markdown",
   "metadata": {},
   "source": [
    "## The End"
   ]
  },
  {
   "cell_type": "code",
   "execution_count": null,
   "metadata": {},
   "outputs": [],
   "source": [
    "sessionInfo()\n",
    "q(save = \"no\")"
   ]
  }
 ],
 "metadata": {
  "kernelspec": {
   "display_name": "R",
   "language": "R",
   "name": "ir"
  },
  "language_info": {
   "codemirror_mode": "r",
   "file_extension": ".r",
   "mimetype": "text/x-r-source",
   "name": "R",
   "pygments_lexer": "r",
   "version": "3.4.1"
  }
 },
 "nbformat": 4,
 "nbformat_minor": 2
}
