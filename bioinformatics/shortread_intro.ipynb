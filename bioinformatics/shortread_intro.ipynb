{
 "cells": [
  {
   "cell_type": "markdown",
   "metadata": {},
   "source": [
    "# ShortRead"
   ]
  },
  {
   "cell_type": "markdown",
   "metadata": {},
   "source": [
    "## Setup"
   ]
  },
  {
   "cell_type": "code",
   "execution_count": null,
   "metadata": {},
   "outputs": [],
   "source": [
    "library(ShortRead)\n",
    "library(tidyverse)\n",
    "# library(Biostrings)\n",
    "set.seed(100)"
   ]
  },
  {
   "cell_type": "code",
   "execution_count": null,
   "metadata": {},
   "outputs": [],
   "source": [
    "### Specify FASTQ file\n",
    "myfqdir <- \"/data/hts2018_pilot/Granek_4837_180427A5/\"\n",
    "myfqname <- \"35_MA_P_S39_L002_R1_001.fastq.gz\"\n",
    "myfqfile <- file.path(myfqdir, myfqname)\n",
    "outdir = path.expand(\"~/work/scratch/shortread\")\n",
    "dir.create(outdir)\n",
    "tools::md5sum(myfqfile)"
   ]
  },
  {
   "cell_type": "markdown",
   "metadata": {},
   "source": [
    "## FASTQ Basics"
   ]
  },
  {
   "cell_type": "code",
   "execution_count": null,
   "metadata": {},
   "outputs": [],
   "source": [
    "### Read entire FASTQ file into memory\n",
    "myfq <- readFastq(myfqfile)\n",
    "\n",
    "### Check class\n",
    "class(myfq)"
   ]
  },
  {
   "cell_type": "code",
   "execution_count": null,
   "metadata": {},
   "outputs": [],
   "source": [
    "### Get Summary for FASTQ file\n",
    "myfq"
   ]
  },
  {
   "cell_type": "code",
   "execution_count": null,
   "metadata": {},
   "outputs": [],
   "source": [
    "### Get number of reads\n",
    "length(myfq)"
   ]
  },
  {
   "cell_type": "code",
   "execution_count": null,
   "metadata": {},
   "outputs": [],
   "source": [
    "### Subset based on first three records\n",
    "myfq[1:3]"
   ]
  },
  {
   "cell_type": "code",
   "execution_count": null,
   "metadata": {},
   "outputs": [],
   "source": [
    "### Subset based on three randomly selected records\n",
    "myfq[sample(seq_len(length(myfq)),3, replace=FALSE)]"
   ]
  },
  {
   "cell_type": "code",
   "execution_count": null,
   "metadata": {},
   "outputs": [],
   "source": [
    "### Get sequences and phred scores for reads 1,2, 3 and 1 (add duplicate on\n",
    "### purpose\n",
    "myrecs <- myfq[c(1,2,3,1)]\n",
    "\n",
    "sread(myrecs) -> myseqs\n",
    "\n",
    "quality(myrecs) -> myphreds\n",
    "\n",
    "### Compare classes\n",
    "class(myfq)\n",
    "class(myseqs)\n",
    "class(myphreds)"
   ]
  },
  {
   "cell_type": "code",
   "execution_count": null,
   "metadata": {},
   "outputs": [],
   "source": [
    "### Check encoding of phred scores\n",
    "myphreds %>% encoding"
   ]
  },
  {
   "cell_type": "code",
   "execution_count": null,
   "metadata": {},
   "outputs": [],
   "source": [
    "ShortRead::id(myrecs)"
   ]
  },
  {
   "cell_type": "code",
   "execution_count": null,
   "metadata": {},
   "outputs": [],
   "source": [
    "as(quality(myrecs), \"matrix\")\n"
   ]
  },
  {
   "cell_type": "code",
   "execution_count": null,
   "metadata": {},
   "outputs": [],
   "source": [
    "### Get the sequences as character strings\n",
    "as.character(myseqs)"
   ]
  },
  {
   "cell_type": "code",
   "execution_count": null,
   "metadata": {},
   "outputs": [],
   "source": [
    "### Check for duplicate reads\n",
    "myseqs %>% duplicated"
   ]
  },
  {
   "cell_type": "code",
   "execution_count": null,
   "metadata": {},
   "outputs": [],
   "source": [
    "### Get Unique reads\n",
    "myseqs %>% unique"
   ]
  },
  {
   "cell_type": "code",
   "execution_count": null,
   "metadata": {},
   "outputs": [],
   "source": [
    "### Reverse reads\n",
    "myseqs %>% reverse"
   ]
  },
  {
   "cell_type": "code",
   "execution_count": null,
   "metadata": {},
   "outputs": [],
   "source": [
    "### complement reads\n",
    "myseqs %>% complement"
   ]
  },
  {
   "cell_type": "code",
   "execution_count": null,
   "metadata": {},
   "outputs": [],
   "source": [
    "### Reverse complement reads\n",
    "myseqs %>% reverseComplement"
   ]
  },
  {
   "cell_type": "code",
   "execution_count": null,
   "metadata": {},
   "outputs": [],
   "source": [
    "### letter frequency counting\n",
    "alphabetFrequency(myseqs)\n",
    "letterFrequency(myseqs, c(\"A\",\"T\"))"
   ]
  },
  {
   "cell_type": "markdown",
   "metadata": {},
   "source": [
    "## QC Report"
   ]
  },
  {
   "cell_type": "code",
   "execution_count": null,
   "metadata": {},
   "outputs": [],
   "source": [
    "list.files(myfqdir,pattern = \"1[0-1].*RZ.*.fastq.gz\",full.names = TRUE) %>%\n",
    "    qa(BPPARAM = MulticoreParam(workers=1)) %>%\n",
    "    report(dest=file.path(outdir, \"rz_10_11\"))"
   ]
  },
  {
   "cell_type": "code",
   "execution_count": null,
   "metadata": {},
   "outputs": [],
   "source": [
    "myfqfile %>%\n",
    "    qa(BPPARAM = MulticoreParam(workers=1)) %>%\n",
    "    report(dest=file.path(outdir, \"35_MA_L002\"))"
   ]
  },
  {
   "cell_type": "code",
   "execution_count": null,
   "metadata": {},
   "outputs": [],
   "source": []
  },
  {
   "cell_type": "markdown",
   "metadata": {},
   "source": [
    "## Search for subsequences"
   ]
  },
  {
   "cell_type": "code",
   "execution_count": null,
   "metadata": {},
   "outputs": [],
   "source": [
    "### Some pattern matching\n",
    "mypattern <- \"AGTTGG\"\n",
    "matchPattern(mypattern, myseqs, max.mismatch=0)\n",
    "matchPattern(mypattern, myseqs, max.mismatch=1)"
   ]
  },
  {
   "cell_type": "code",
   "execution_count": null,
   "metadata": {},
   "outputs": [],
   "source": [
    "### Count occurences\n",
    "countPattern(mypattern, myseq, max.mismatch=0) \n",
    "countPattern(mypattern, myseq, max.mismatch=1)"
   ]
  },
  {
   "cell_type": "code",
   "execution_count": null,
   "metadata": {},
   "outputs": [],
   "source": [
    "### Alignment\n",
    "pairwiseAlignment(mypattern, myseq)"
   ]
  },
  {
   "cell_type": "markdown",
   "metadata": {},
   "source": [
    "## Streaming and Sampling"
   ]
  },
  {
   "cell_type": "markdown",
   "metadata": {},
   "source": [
    "### Streaming\n",
    "Stream a FASTQ rather than loading the whole thing into memory."
   ]
  },
  {
   "cell_type": "code",
   "execution_count": null,
   "metadata": {},
   "outputs": [],
   "source": [
    "mystream <- FastqStreamer(myfqfile, 5)\n",
    "mystream"
   ]
  },
  {
   "cell_type": "code",
   "execution_count": null,
   "metadata": {},
   "outputs": [],
   "source": [
    "### The first yield will retrieve records 1 through 5\n",
    "cur_reads = yield(mystream)\n",
    "cur_reads"
   ]
  },
  {
   "cell_type": "code",
   "execution_count": null,
   "metadata": {},
   "outputs": [],
   "source": [
    "ShortRead::id(cur_reads)"
   ]
  },
  {
   "cell_type": "code",
   "execution_count": null,
   "metadata": {},
   "outputs": [],
   "source": [
    "### The second yield will retrieve records 6 through 10\n",
    "cur_reads = yield(mystream)\n",
    "ShortRead::id(cur_reads)"
   ]
  },
  {
   "cell_type": "code",
   "execution_count": null,
   "metadata": {},
   "outputs": [],
   "source": [
    "mystream"
   ]
  },
  {
   "cell_type": "code",
   "execution_count": null,
   "metadata": {},
   "outputs": [],
   "source": [
    "### Be sure to close the stream\n",
    "close(mystream)"
   ]
  },
  {
   "cell_type": "markdown",
   "metadata": {},
   "source": [
    "### Double Check"
   ]
  },
  {
   "cell_type": "code",
   "execution_count": null,
   "metadata": {},
   "outputs": [],
   "source": [
    "mystream <- FastqStreamer(myfqfile, 5)\n",
    "cur_reads = yield(mystream)\n",
    "ShortRead::id(cur_reads)\n",
    "close(mystream)"
   ]
  },
  {
   "cell_type": "code",
   "execution_count": null,
   "metadata": {},
   "outputs": [],
   "source": [
    "mystream <- FastqStreamer(myfqfile, 5)\n",
    "cur_reads = yield(mystream)\n",
    "ShortRead::id(cur_reads)\n",
    "close(mystream)"
   ]
  },
  {
   "cell_type": "markdown",
   "metadata": {},
   "source": [
    "### Sampling\n",
    "Random sampling without reading in entire file upfront.\n",
    "After initializing the samplers, each `yield` call will sample `n=5` records at random from the FASTQ"
   ]
  },
  {
   "cell_type": "code",
   "execution_count": null,
   "metadata": {},
   "outputs": [],
   "source": [
    "mysampler <- FastqSampler(myfqfile, n=5)\n",
    "\n",
    "sample_reads = yield(mysampler)\n",
    "ShortRead::id(sample_reads)\n",
    "\n",
    "close(mysampler)"
   ]
  },
  {
   "cell_type": "code",
   "execution_count": null,
   "metadata": {},
   "outputs": [],
   "source": [
    "mysampler <- FastqSampler(myfqfile, n=5)\n",
    "\n",
    "sample_reads = yield(mysampler)\n",
    "ShortRead::id(sample_reads)\n",
    "\n",
    "close(mysampler)"
   ]
  },
  {
   "cell_type": "markdown",
   "metadata": {},
   "source": [
    "## The End"
   ]
  },
  {
   "cell_type": "code",
   "execution_count": null,
   "metadata": {},
   "outputs": [],
   "source": [
    "sessionInfo()\n",
    "q(save = \"no\")"
   ]
  }
 ],
 "metadata": {
  "kernelspec": {
   "display_name": "R",
   "language": "R",
   "name": "ir"
  },
  "language_info": {
   "codemirror_mode": "r",
   "file_extension": ".r",
   "mimetype": "text/x-r-source",
   "name": "R",
   "pygments_lexer": "r",
   "version": "3.4.1"
  }
 },
 "nbformat": 4,
 "nbformat_minor": 2
}
