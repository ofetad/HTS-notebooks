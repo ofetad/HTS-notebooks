{
 "cells": [
  {
   "cell_type": "markdown",
   "metadata": {},
   "source": [
    "# Quality Control\n",
    "<!--\n",
    "** Add Intro Text***\n",
    "-->\n",
    "\n",
    "## Shell Variables\n",
    "Assign the variables in this notebook."
   ]
  },
  {
   "cell_type": "code",
   "execution_count": null,
   "metadata": {},
   "outputs": [],
   "source": [
    "set -u\n",
    "\n",
    "# We used these in the last notebook\n",
    "DATA_BASE=\"/data/hts2018_pilot\"\n",
    "RAW_FASTQS=\"$DATA_BASE/Granek_4837_180427A5\"\n",
    "\n",
    "# The following are new for this notebook\n",
    "CUROUT=$HOME/work/scratch/bioinf_intro\n",
    "QC=$CUROUT/qc_output"
   ]
  },
  {
   "cell_type": "markdown",
   "metadata": {},
   "source": [
    "## Making New Directories\n",
    "The directories *do* carry over between notebooks, they are a function of the server, so we only need to make the directories that are new in this notebook"
   ]
  },
  {
   "cell_type": "code",
   "execution_count": null,
   "metadata": {},
   "outputs": [],
   "source": [
    "mkdir -p $QC"
   ]
  },
  {
   "cell_type": "markdown",
   "metadata": {},
   "source": [
    "Now let's check to be sure that worked.  We will run `ls` and check that these directories now exist in the `$OUTPUT` directory."
   ]
  },
  {
   "cell_type": "code",
   "execution_count": null,
   "metadata": {},
   "outputs": [],
   "source": [
    "ls $CUROUT"
   ]
  },
  {
   "cell_type": "markdown",
   "metadata": {},
   "source": [
    "## Fastqc\n",
    "Now that we have had a quick look at our fastq file, let's run some basic analysis using a program called fastqc.  This will take less than a minute to run.  Remember that while \"long\" jobs are running it will say \"In [\\*]:\" in the left margin, once it is done, a number will replace the asterisk."
   ]
  },
  {
   "cell_type": "code",
   "execution_count": null,
   "metadata": {},
   "outputs": [],
   "source": [
    "fastqc -h"
   ]
  },
  {
   "cell_type": "code",
   "execution_count": null,
   "metadata": {},
   "outputs": [],
   "source": [
    "# fastqc --threads 2 --quiet $DEMUX/r1.8A_pilot.fq.gz -o $QC\n",
    "fastqc --extract $RAW_FASTQS/27_MA_P_S38_L002_R1_001.fastq.gz -o $QC"
   ]
  },
  {
   "cell_type": "markdown",
   "metadata": {},
   "source": [
    "Once fastqc is done running we can view the results by finding the output in the Jupyter browser, it should be in:"
   ]
  },
  {
   "cell_type": "code",
   "execution_count": null,
   "metadata": {},
   "outputs": [],
   "source": [
    "echo $QC"
   ]
  }
 ],
 "metadata": {
  "kernelspec": {
   "display_name": "Bash",
   "language": "bash",
   "name": "bash"
  },
  "language_info": {
   "codemirror_mode": "shell",
   "file_extension": ".sh",
   "mimetype": "text/x-sh",
   "name": "bash"
  }
 },
 "nbformat": 4,
 "nbformat_minor": 1
}
