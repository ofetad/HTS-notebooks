{
 "cells": [
  {
   "cell_type": "markdown",
   "metadata": {},
   "source": [
    "# Hands On Bioinformatics Exercise #3"
   ]
  },
  {
   "cell_type": "markdown",
   "metadata": {},
   "source": [
    "1. Explore IGV by trying out the suggestions in the [Configurations to explore](igv_visualization.ipynb#Configurations-to-explore) and [Look around](igv_visualization.ipynb#Look-around) sections of the IGV notebook.  Play with other settings!\n",
    "\n",
    "2. In the [IGV visualization](igv_visualization.ipynb) notebook we looked at the data from lanes 1 and 2 of library *27_MA*.  Pick one or more other libraries, generate a BAM(s), download, and view in IGV.\n",
    "\n",
    "## Bonus\n",
    "1. In the [Demultiplex Raw FASTQs](demultiplex.ipynb) notebook we demultiplexed the *dryrun* data.  Try to demuxtiplex one of the other pools: *groups_EG* or *groups_KNP*"
   ]
  }
 ],
 "metadata": {
  "kernelspec": {
   "display_name": "Bash",
   "language": "bash",
   "name": "bash"
  },
  "language_info": {
   "codemirror_mode": "shell",
   "file_extension": ".sh",
   "mimetype": "text/x-sh",
   "name": "bash"
  }
 },
 "nbformat": 4,
 "nbformat_minor": 2
}
