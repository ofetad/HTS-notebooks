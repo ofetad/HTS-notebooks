{
 "cells": [
  {
   "cell_type": "markdown",
   "metadata": {},
   "source": [
    "# Hands On Bioinformatics Exercise #1\n",
    "\n",
    "During lecture we walked through the following steps with `$RAW_FASTQS/27_MA_P_S38_L002_R1_001.fastq.gz`\n",
    "\n",
    "1. [Quality Control](fastqc.ipynb)\n",
    "1. [Trimming and Filtering](fastq_trimming.ipynb)\n",
    "1. [Mapping Reads to a Reference Genome](mapping.ipynb)\n",
    "\n",
    "Your goal for this Hands-On exercise is to repeat this process with the FASTQ for Lane 1 of the same library.  You should feel free to consult the notebooks we worked through in lecture.  \n",
    "\n",
    "I recommend that you not simply copy, paste, and edit the commands.  You should look at each part of each command and be sure you understand what exactly it is doing, and how the results might differ if you changed it.\n",
    "\n",
    "\n",
    "## Bonus\n",
    "1. Select another genome that is 50 Mbp or less (any bacterial genome and many fungal genomes will work).  \n",
    "1. Download the genome and annotation\n",
    "1. Index the genome with STAR"
   ]
  }
 ],
 "metadata": {
  "kernelspec": {
   "display_name": "Bash",
   "language": "bash",
   "name": "bash"
  },
  "language_info": {
   "codemirror_mode": "shell",
   "file_extension": ".sh",
   "mimetype": "text/x-sh",
   "name": "bash"
  }
 },
 "nbformat": 4,
 "nbformat_minor": 2
}
