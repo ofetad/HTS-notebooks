{
 "cells": [
  {
   "cell_type": "markdown",
   "metadata": {},
   "source": [
    "# What do quality scores mean?\n"
   ]
  },
  {
   "cell_type": "markdown",
   "metadata": {},
   "source": [
    "## Phred Quality Scores\n",
    "We can calculate the *phred quality score* from the probability of sequencing error (i.e. the base call is wrong) using:\n",
    "\n",
    "\n",
    "\\begin{equation*}\n",
    "Q = -10 \\log_{10} p\n",
    "\\end{equation*}\n",
    "\n",
    "Alternatively, we can rearrange to calculate the probability of error from the *phred quality score* using:\n",
    "\n",
    "\\begin{equation*}\n",
    "p = 10^{\\frac{Q}{-10}}\n",
    "\\end{equation*}\n",
    "\n",
    "Where $Q$ is the *phred quality score* and $p$ is the probability of error (i.e. the base call is wrong)\n",
    "\n"
   ]
  },
  {
   "cell_type": "code",
   "execution_count": null,
   "metadata": {
    "collapsed": false
   },
   "outputs": [],
   "source": [
    "def error_prob(quality):\n",
    "    qval = quality\n",
    "    return 10**(qval/-10.0)\n",
    "\n",
    "print (\"{0:^5}  {1:^10}\".format(\"Phred\", \"Prob of\"))\n",
    "print (\"{0:^5}  {1:^10}\".format(\"score\", \"Error\"))\n",
    "for phred in range(0,42):\n",
    "    print (\"{0:^5}  {1:03.5f}\".format(phred, error_prob(phred)))"
   ]
  },
  {
   "cell_type": "markdown",
   "metadata": {},
   "source": [
    "## Ascii Codes\n",
    "In FASTQ files, phred scores are represented using characters.  Each character on the keyboard can be represented by a number, called an ascii code."
   ]
  },
  {
   "cell_type": "code",
   "execution_count": null,
   "metadata": {
    "collapsed": false
   },
   "outputs": [],
   "source": [
    "print (\"{0:^8}  {1:^8}\".format(\"Character\", \"ASCII #\"))\n",
    "for i in range(33,90):\n",
    "    print(\"{0:^8}  {1:^8}\".format(chr(i),i))"
   ]
  },
  {
   "cell_type": "markdown",
   "metadata": {},
   "source": [
    "## Phred Encodings\n",
    "There are several different ways to encode phred scores with ascii characters.  The two most common are called phred+33 and phred+64.  The names are strange until you understand how then encoding works.  \n",
    "\n",
    "### Phred+33\n",
    "To use the phred+33 encoding, take the phred quality score, add 33 to it, then use the ascii character corresponding to the sum.  For example, using the phred+33 encoding, a quality score of 30 would be represented with the ascii character with the ascii code of 63 (30 + 33), which is '?'.\n",
    "\n",
    "### Phred+64\n",
    "The phred+64 encoding works the same as the phred+33 encoding, except you add 64 to the phred score to determine the ascii code of the quality character.  You will only find phred+64 encoding on older data, which was sequenced several years ago.  The tricky part is that there is no indication in the FASTQ file as to which encoding was used, you have to make an educated guess."
   ]
  },
  {
   "cell_type": "code",
   "execution_count": null,
   "metadata": {
    "collapsed": false
   },
   "outputs": [],
   "source": [
    "print (\"{0:^5}  {1:^8}  {2:^8}  {3:^8}\".format(\"Phred\",  \"Prob of\", \"Phred+33\", \"Phred+64\"))\n",
    "print (\"{0:^5}  {1:^8}  {2:^8}  {3:^8}\".format(\"score\",  \"Error\", \"Ascii\", \"Ascii\"))\n",
    "for phred in range(0,42):\n",
    "    print (\"{0:^5}  {1:03.5f}  {2:^8}  {3:^8}\".format(phred, error_prob(phred), chr(phred+33), chr(phred+64)))"
   ]
  },
  {
   "cell_type": "markdown",
   "metadata": {},
   "source": [
    "## Why +33?\n",
    "ASCII 33 is the first \"normal\" ASCII character that. 1 through 32 include whitespace and non-printing characters, which cannot be identified by eye)"
   ]
  },
  {
   "cell_type": "code",
   "execution_count": null,
   "metadata": {
    "collapsed": false
   },
   "outputs": [],
   "source": [
    "print (\"{0:^8}  {1:^8}\".format(\"Character\", \"ASCII #\"))\n",
    "for i in range(0,40):\n",
    "    print(\"{0:^8}  {1:^8}\".format(chr(i),i))"
   ]
  }
 ],
 "metadata": {
  "kernelspec": {
   "display_name": "Python 3",
   "language": "python",
   "name": "python3"
  },
  "language_info": {
   "codemirror_mode": {
    "name": "ipython",
    "version": 3
   },
   "file_extension": ".py",
   "mimetype": "text/x-python",
   "name": "python",
   "nbconvert_exporter": "python",
   "pygments_lexer": "ipython3",
   "version": "3.5.2"
  }
 },
 "nbformat": 4,
 "nbformat_minor": 0
}
