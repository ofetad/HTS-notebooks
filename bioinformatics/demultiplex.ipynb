{
 "cells": [
  {
   "cell_type": "markdown",
   "metadata": {},
   "source": [
    "# Demultiplex a Raw FASTQ"
   ]
  },
  {
   "cell_type": "code",
   "execution_count": null,
   "metadata": {},
   "outputs": [],
   "source": [
    "source demux2015_config.sh\n",
    "mkdir -p $DEMUX"
   ]
  },
  {
   "cell_type": "markdown",
   "metadata": {},
   "source": [
    "# Raw Data\n",
    "\n",
    "## Description\n",
    "This data is from an experiment testing the transcriptional response of *Escherichia coli* to growth in high pH media.  Samples were sequenced with 101bp paired-end reads.\n",
    "\n",
    "The samples were sequenced in 3 pools:\n",
    "    * dryrun\n",
    "    * groups_EG\n",
    "    * groups_KNP\n",
    "\n",
    "We will just work with the *dryrun* data."
   ]
  },
  {
   "cell_type": "code",
   "execution_count": null,
   "metadata": {},
   "outputs": [],
   "source": [
    "ls $CURDATA"
   ]
  },
  {
   "cell_type": "markdown",
   "metadata": {},
   "source": [
    "### Using fastq-multx to demultiplex\n",
    "`fastq-multx` comes from ea-utils.  It is (somewhat) straightforward to use.  We can get some information on how to use it by running the command `fastq-multx` with no arguments"
   ]
  },
  {
   "cell_type": "code",
   "execution_count": null,
   "metadata": {},
   "outputs": [],
   "source": [
    "fastq-multx"
   ]
  },
  {
   "cell_type": "markdown",
   "metadata": {},
   "source": [
    "Since we have barcodes in a separate file, we are contrained in how we run it. Here are the command line arguments that we will be using:\n",
    "\n",
    "* -B BARCODE_FILE : a list of known barcodes, and the associated sample names\n",
    "* -o OUTPUT_FILE(s) : fastq-multx will produce a separate file for each barcode (two files when paired-end reads are input).  This option provides a template for naming the output file - the program will fill in the \"%\" with the barcode.\n",
    "* -m : number of mismatches to allow in barcode \n",
    "* -d : minimum edit distance between the best and next best match\n",
    "* -x : don't trim barcodes\n",
    "* I1_FASTQ : the index read FASTQ, which will be used to demultiplex other reads\n",
    "* R1_FASTQ : the R1 raw data to demultiplex\n",
    "* R2_FASTQ : (optional) if data is paired-end, the R2 raw data to demultiplex\n",
    "\n",
    "You already know what is in the FASTQ file, but the barcode file is new. Let's take a look . . ."
   ]
  },
  {
   "cell_type": "code",
   "execution_count": null,
   "metadata": {},
   "outputs": [],
   "source": [
    "cat ${CURDATA}/dryrun_barcodes.tab"
   ]
  },
  {
   "cell_type": "markdown",
   "metadata": {},
   "source": [
    "OK, now we are ready to run the demuxing . . ."
   ]
  },
  {
   "cell_type": "code",
   "execution_count": null,
   "metadata": {},
   "outputs": [],
   "source": [
    "fastq-multx -m1 -d1 -x -B ${CURDATA}/dryrun_barcodes.tab \\\n",
    "    ${CURDATA}/dryrun_combined_I1.fastq.gz \\\n",
    "    ${CURDATA}/dryrun_combined_R1.fastq.gz \\\n",
    "    ${CURDATA}/dryrun_combined_R2.fastq.gz \\\n",
    "    -o ${DEMUX}/i1.%.fq.gz ${DEMUX}/r1.%.fq.gz ${DEMUX}/r2.%.fq.gz > ${DEMUX}/dryrun_demux.stdout"
   ]
  },
  {
   "cell_type": "markdown",
   "metadata": {},
   "source": [
    "### Results\n",
    "We redirected STDOUT to `${DEMUX}/dryrun_demux.stdout`, so we can look at that file to get some run statistics.  \n",
    "\n",
    "Note that, while normally an error message such as `gzip: stdout: Broken pipe` would be reason for concern, we can safely ignore it in this case - it has something to do with running things within Jupyter.\n",
    "\n",
    "Let's take a look at the output . . ."
   ]
  },
  {
   "cell_type": "code",
   "execution_count": null,
   "metadata": {},
   "outputs": [],
   "source": [
    "cat ${DEMUX}/dryrun_demux.stdout"
   ]
  },
  {
   "cell_type": "markdown",
   "metadata": {},
   "source": [
    "For each barcode in the barcode file, it tells us:\n",
    "1. Id: the barcode name (as given in the barcode file)\n",
    "2. Count: the number of reads corresponding to that barcode\n",
    "3. Files(s): The demultiplexed files generated for this barcode\n",
    "\n",
    "Unfortunately this is hard to read because it is giving the full path for the files.  This is really our fault, because when we ran it we used full paths.  There are a couple of ways we can more easily view this file.\n",
    "\n",
    "We can use the `cut` program to show us the first N characters of each line"
   ]
  },
  {
   "cell_type": "code",
   "execution_count": null,
   "metadata": {},
   "outputs": [],
   "source": [
    "cut -c1-50 ${DEMUX}/dryrun_demux.stdout"
   ]
  },
  {
   "cell_type": "markdown",
   "metadata": {},
   "source": [
    "This lets us see the Id and count information, but the files are truncated.  Alternatively we can use the `sed` program to strip out the full path from the filenames"
   ]
  },
  {
   "cell_type": "code",
   "execution_count": null,
   "metadata": {},
   "outputs": [],
   "source": [
    "line_old=\"${DEMUX}/\"\n",
    "line_new=''\n",
    "sed \"s%$line_old%$line_new%g\" ${DEMUX}/dryrun_demux.stdout"
   ]
  },
  {
   "cell_type": "markdown",
   "metadata": {},
   "source": [
    "Here we can see that for each barcode, three files are generated, the \"i1\" file, which contains all of the index reads corresponding to the barcode, \"r1\" file, which contains all of the first reads corresponding to the barcode, and the \"r2\" file, which contains all of the second reads corresponding to the barcode. We can confirm this by looking at the files in our \"DEMUX\" directory. . ."
   ]
  },
  {
   "cell_type": "code",
   "execution_count": null,
   "metadata": {},
   "outputs": [],
   "source": [
    "ls ${DEMUX}"
   ]
  },
  {
   "cell_type": "markdown",
   "metadata": {},
   "source": [
    "Note that neither the `cut` nor the `sed` command that we used alter the original file, no changes are saved, the results of the commands are just displayed.  See the original is still the same . . . "
   ]
  },
  {
   "cell_type": "code",
   "execution_count": null,
   "metadata": {},
   "outputs": [],
   "source": [
    "cat ${DEMUX}/dryrun_demux.stdout"
   ]
  }
 ],
 "metadata": {
  "kernelspec": {
   "display_name": "Bash",
   "language": "bash",
   "name": "bash"
  },
  "language_info": {
   "codemirror_mode": "shell",
   "file_extension": ".sh",
   "mimetype": "text/x-sh",
   "name": "bash"
  }
 },
 "nbformat": 4,
 "nbformat_minor": 1
}
