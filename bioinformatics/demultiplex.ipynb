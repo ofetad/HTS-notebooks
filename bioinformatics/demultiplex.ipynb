{
 "cells": [
  {
   "cell_type": "markdown",
   "metadata": {},
   "source": [
    "# Demultiplex a Raw FASTQ"
   ]
  },
  {
   "cell_type": "code",
   "execution_count": 36,
   "metadata": {},
   "outputs": [],
   "source": [
    "source demux2015_config.sh\n",
    "mkdir -p $DEMUX"
   ]
  },
  {
   "cell_type": "markdown",
   "metadata": {},
   "source": [
    "# Raw Data\n",
    "\n",
    "## Description\n",
    "This data is from an experiment testing the transcriptional response of *Escherichia coli* to growth in high pH media.  Samples were sequenced with 101bp paired-end reads.\n",
    "\n",
    "The samples were sequenced in 3 pools:\n",
    "    * dryrun\n",
    "    * groups_EG\n",
    "    * groups_KNP\n",
    "\n",
    "We will just work with the *dryrun* data."
   ]
  },
  {
   "cell_type": "code",
   "execution_count": 37,
   "metadata": {},
   "outputs": [
    {
     "name": "stdout",
     "output_type": "stream",
     "text": [
      "dryrun_barcodes.tab             \u001b[0m\u001b[01;31mgroups_EG_combined_R2.fastq.gz\u001b[0m\n",
      "\u001b[01;31mdryrun_combined_I1.fastq.gz\u001b[0m     groups_KNP_barcodes.tab\n",
      "\u001b[01;31mdryrun_combined_R1.fastq.gz\u001b[0m     \u001b[01;31mgroups_KNP_combined_I1.fastq.gz\u001b[0m\n",
      "\u001b[01;31mdryrun_combined_R2.fastq.gz\u001b[0m     \u001b[01;31mgroups_KNP_combined_R1.fastq.gz\u001b[0m\n",
      "groups_EG_barcodes.tab          \u001b[01;31mgroups_KNP_combined_R2.fastq.gz\u001b[0m\n",
      "\u001b[01;31mgroups_EG_combined_I1.fastq.gz\u001b[0m  raw_data.md5sum\n",
      "\u001b[01;31mgroups_EG_combined_R1.fastq.gz\u001b[0m\n"
     ]
    }
   ],
   "source": [
    "ls $CURDATA"
   ]
  },
  {
   "cell_type": "markdown",
   "metadata": {},
   "source": [
    "### Using fastq-multx to demultiplex\n",
    "`fastq-multx` comes from ea-utils.  It is (somewhat) straightforward to use.  We can get some information on how to use it by running the command `fastq-multx` with no arguments"
   ]
  },
  {
   "cell_type": "code",
   "execution_count": 38,
   "metadata": {},
   "outputs": [
    {
     "name": "stdout",
     "output_type": "stream",
     "text": [
      "Usage: fastq-multx [-g|-l|-B] <barcodes.fil> <read1.fq> -o r1.%.fq [mate.fq -o r2.%.fq] ...\n",
      "Version: 1.02.684\n",
      "\n",
      "Output files must contain a '%' sign which is replaced with the barcode id in the barcodes file.\n",
      "Output file can be n/a to discard the corresponding data (use this for the barcode read)\n",
      "\n",
      "Barcodes file (-B) looks like this:\n",
      "\n",
      "<id1> <sequence1>\n",
      "<id2> <sequence2> ...\n",
      "\n",
      "Default is to guess the -bol or -eol based on clear stats.\n",
      "\n",
      "If -g is used, then it's parameter is an index lane, and frequently occuring sequences are used.\n",
      "\n",
      "If -l is used then all barcodes in the file are tried, and the *group* with the *most* matches is chosen.\n",
      "\n",
      "Grouped barcodes file (-l or -L) looks like this:\n",
      "\n",
      "<id1> <sequence1> <group1>\n",
      "<id1> <sequence1> <group1>\n",
      "<id2> <sequence2> <group2>...\n",
      "\n",
      "Mated reads, if supplied, are kept in-sync\n",
      "\n",
      "Options:\n",
      "\n",
      "-o FIL1     Output files (one per input, required)\n",
      "-g SEQFIL   Determine barcodes from indexed read SEQFIL\n",
      "-l BCFIL    Determine barcodes from any read, using BCFIL as a master list\n",
      "-L BCFIL    Determine barcodes from <read1.fq>, using BCFIL as a master list\n",
      "-B BCFIL    Use barcodes from the specified file, don't run a determination step\n",
      "-b          Force beginning of line (5') for barcode matching\n",
      "-e          Force end of line (3') for batcode matching\n",
      "-t NUM      Divide threshold for auto-determine by factor NUM (1), > 1 = more sensitive\n",
      "-G NAME     Use group(s) matching NAME only\n",
      "-x          Don't trim barcodes off before writing out destination\n",
      "-n          Don't execute, just print likely barcode list\n",
      "-v C        Verify that mated id's match up to character C (Use ' ' for illumina)\n",
      "-m N        Allow up to N mismatches, as long as they are unique (1)\n",
      "-d N        Require a minimum distance of N between the best and next best (2)\n",
      "-q N        Require a minimum phred quality of N to accept a barcode base (0)\n"
     ]
    },
    {
     "ename": "",
     "evalue": "1",
     "output_type": "error",
     "traceback": []
    }
   ],
   "source": [
    "fastq-multx"
   ]
  },
  {
   "cell_type": "markdown",
   "metadata": {},
   "source": [
    "Since we have barcodes in a separate file, we are contrained in how we run it. Here are the command line arguments that we will be using:\n",
    "\n",
    "* -B BARCODE_FILE : a list of known barcodes, and the associated sample names\n",
    "* -o OUTPUT_FILE(s) : fastq-multx will produce a separate file for each barcode (two files when paired-end reads are input).  This option provides a template for naming the output file - the program will fill in the \"%\" with the barcode.\n",
    "* -m : number of mismatches to allow in barcode \n",
    "* -d : minimum edit distance between the best and next best match\n",
    "* -x : don't trim barcodes\n",
    "* I1_FASTQ : the index read FASTQ, which will be used to demultiplex other reads\n",
    "* R1_FASTQ : the R1 raw data to demultiplex\n",
    "* R2_FASTQ : (optional) if data is paired-end, the R2 raw data to demultiplex\n",
    "\n",
    "You already know what is in the FASTQ file, but the barcode file is new. Let's take a look . . ."
   ]
  },
  {
   "cell_type": "code",
   "execution_count": 39,
   "metadata": {},
   "outputs": [
    {
     "name": "stdout",
     "output_type": "stream",
     "text": [
      "7A_pilot\tAGTCAA\n",
      "7B_pilot\tAGTTCC\n",
      "7C_pilot\tATGTCA\n",
      "8A_pilot\tCCGTCC\n",
      "8B_pilot\tGTCCGC\n",
      "8C_pilot\tGTGAAA\n"
     ]
    }
   ],
   "source": [
    "cat ${CURDATA}/dryrun_barcodes.tab"
   ]
  },
  {
   "cell_type": "markdown",
   "metadata": {},
   "source": [
    "OK, now we are ready to run the demuxing . . ."
   ]
  },
  {
   "cell_type": "code",
   "execution_count": 40,
   "metadata": {},
   "outputs": [
    {
     "name": "stdout",
     "output_type": "stream",
     "text": [
      "Using Barcode File: /data/HTS_2015_data/runs_combined/dryrun_barcodes.tab\n",
      "End used: start\n"
     ]
    }
   ],
   "source": [
    "fastq-multx -m1 -d1 -x -B ${CURDATA}/dryrun_barcodes.tab \\\n",
    "    ${CURDATA}/dryrun_combined_I1.fastq.gz \\\n",
    "    ${CURDATA}/dryrun_combined_R1.fastq.gz \\\n",
    "    ${CURDATA}/dryrun_combined_R2.fastq.gz \\\n",
    "    -o ${DEMUX}/i1.%.fq.gz ${DEMUX}/r1.%.fq.gz ${DEMUX}/r2.%.fq.gz > ${DEMUX}/dryrun_demux.stdout"
   ]
  },
  {
   "cell_type": "markdown",
   "metadata": {},
   "source": [
    "### Results\n",
    "We redirected STDOUT to `${DEMUX}/dryrun_demux.stdout`, so we can look at that file to get some run statistics.  \n",
    "\n",
    "Note that, while normally an error message such as `gzip: stdout: Broken pipe` would be reason for concern, we can safely ignore it in this case - it has something to do with running things within Jupyter.\n",
    "\n",
    "Let's take a look at the output . . ."
   ]
  },
  {
   "cell_type": "code",
   "execution_count": 41,
   "metadata": {},
   "outputs": [
    {
     "name": "stdout",
     "output_type": "stream",
     "text": [
      "Id\tCount\tFile(s)\n",
      "7A_pilot\t1303312\t/home/jovyan/work/scratch/demux_2015/demux_fastqs/i1.7A_pilot.fq.gz\t/home/jovyan/work/scratch/demux_2015/demux_fastqs/r1.7A_pilot.fq.gz\t/home/jovyan/work/scratch/demux_2015/demux_fastqs/r2.7A_pilot.fq.gz\n",
      "7B_pilot\t1835356\t/home/jovyan/work/scratch/demux_2015/demux_fastqs/i1.7B_pilot.fq.gz\t/home/jovyan/work/scratch/demux_2015/demux_fastqs/r1.7B_pilot.fq.gz\t/home/jovyan/work/scratch/demux_2015/demux_fastqs/r2.7B_pilot.fq.gz\n",
      "7C_pilot\t1697292\t/home/jovyan/work/scratch/demux_2015/demux_fastqs/i1.7C_pilot.fq.gz\t/home/jovyan/work/scratch/demux_2015/demux_fastqs/r1.7C_pilot.fq.gz\t/home/jovyan/work/scratch/demux_2015/demux_fastqs/r2.7C_pilot.fq.gz\n",
      "8A_pilot\t1261068\t/home/jovyan/work/scratch/demux_2015/demux_fastqs/i1.8A_pilot.fq.gz\t/home/jovyan/work/scratch/demux_2015/demux_fastqs/r1.8A_pilot.fq.gz\t/home/jovyan/work/scratch/demux_2015/demux_fastqs/r2.8A_pilot.fq.gz\n",
      "8B_pilot\t1480948\t/home/jovyan/work/scratch/demux_2015/demux_fastqs/i1.8B_pilot.fq.gz\t/home/jovyan/work/scratch/demux_2015/demux_fastqs/r1.8B_pilot.fq.gz\t/home/jovyan/work/scratch/demux_2015/demux_fastqs/r2.8B_pilot.fq.gz\n",
      "8C_pilot\t1242058\t/home/jovyan/work/scratch/demux_2015/demux_fastqs/i1.8C_pilot.fq.gz\t/home/jovyan/work/scratch/demux_2015/demux_fastqs/r1.8C_pilot.fq.gz\t/home/jovyan/work/scratch/demux_2015/demux_fastqs/r2.8C_pilot.fq.gz\n",
      "unmatched\t335372\t/home/jovyan/work/scratch/demux_2015/demux_fastqs/i1.unmatched.fq.gz\t/home/jovyan/work/scratch/demux_2015/demux_fastqs/r1.unmatched.fq.gz\t/home/jovyan/work/scratch/demux_2015/demux_fastqs/r2.unmatched.fq.gz\n",
      "total\t9155406\n"
     ]
    }
   ],
   "source": [
    "cat ${DEMUX}/dryrun_demux.stdout"
   ]
  },
  {
   "cell_type": "markdown",
   "metadata": {},
   "source": [
    "For each barcode in the barcode file, it tells us:\n",
    "1. Id: the barcode name (as given in the barcode file)\n",
    "2. Count: the number of reads corresponding to that barcode\n",
    "3. Files(s): The demultiplexed files generated for this barcode\n",
    "\n",
    "Unfortunately this is hard to read because it is giving the full path for the files.  This is really our fault, because when we ran it we used full paths.  There are a couple of ways we can more easily view this file.\n",
    "\n",
    "We can use the `cut` program to show us the first N characters of each line"
   ]
  },
  {
   "cell_type": "code",
   "execution_count": 42,
   "metadata": {},
   "outputs": [
    {
     "name": "stdout",
     "output_type": "stream",
     "text": [
      "Id\tCount\tFile(s)\n",
      "7A_pilot\t1303312\t/home/jovyan/work/scratch/demux_2\n",
      "7B_pilot\t1835356\t/home/jovyan/work/scratch/demux_2\n",
      "7C_pilot\t1697292\t/home/jovyan/work/scratch/demux_2\n",
      "8A_pilot\t1261068\t/home/jovyan/work/scratch/demux_2\n",
      "8B_pilot\t1480948\t/home/jovyan/work/scratch/demux_2\n",
      "8C_pilot\t1242058\t/home/jovyan/work/scratch/demux_2\n",
      "unmatched\t335372\t/home/jovyan/work/scratch/demux_2\n",
      "total\t9155406\n"
     ]
    }
   ],
   "source": [
    "cut -c1-50 ${DEMUX}/dryrun_demux.stdout"
   ]
  },
  {
   "cell_type": "markdown",
   "metadata": {},
   "source": [
    "This lets us see the Id and count information, but the files are truncated.  Alternatively we can use the `sed` program to strip out the full path from the filenames"
   ]
  },
  {
   "cell_type": "code",
   "execution_count": 43,
   "metadata": {},
   "outputs": [
    {
     "name": "stdout",
     "output_type": "stream",
     "text": [
      "Id\tCount\tFile(s)\n",
      "7A_pilot\t1303312\ti1.7A_pilot.fq.gz\tr1.7A_pilot.fq.gz\tr2.7A_pilot.fq.gz\n",
      "7B_pilot\t1835356\ti1.7B_pilot.fq.gz\tr1.7B_pilot.fq.gz\tr2.7B_pilot.fq.gz\n",
      "7C_pilot\t1697292\ti1.7C_pilot.fq.gz\tr1.7C_pilot.fq.gz\tr2.7C_pilot.fq.gz\n",
      "8A_pilot\t1261068\ti1.8A_pilot.fq.gz\tr1.8A_pilot.fq.gz\tr2.8A_pilot.fq.gz\n",
      "8B_pilot\t1480948\ti1.8B_pilot.fq.gz\tr1.8B_pilot.fq.gz\tr2.8B_pilot.fq.gz\n",
      "8C_pilot\t1242058\ti1.8C_pilot.fq.gz\tr1.8C_pilot.fq.gz\tr2.8C_pilot.fq.gz\n",
      "unmatched\t335372\ti1.unmatched.fq.gz\tr1.unmatched.fq.gz\tr2.unmatched.fq.gz\n",
      "total\t9155406\n"
     ]
    }
   ],
   "source": [
    "line_old=\"${DEMUX}/\"\n",
    "line_new=''\n",
    "sed \"s%$line_old%$line_new%g\" ${DEMUX}/dryrun_demux.stdout"
   ]
  },
  {
   "cell_type": "markdown",
   "metadata": {},
   "source": [
    "Here we can see that for each barcode, three files are generated, the \"i1\" file, which contains all of the index reads corresponding to the barcode, \"r1\" file, which contains all of the first reads corresponding to the barcode, and the \"r2\" file, which contains all of the second reads corresponding to the barcode. We can confirm this by looking at the files in our \"DEMUX\" directory. . ."
   ]
  },
  {
   "cell_type": "code",
   "execution_count": 44,
   "metadata": {},
   "outputs": [
    {
     "name": "stdout",
     "output_type": "stream",
     "text": [
      "dryrun_demux.stdout  \u001b[0m\u001b[01;31mi1.8C_pilot.fq.gz\u001b[0m   \u001b[01;31mr1.8B_pilot.fq.gz\u001b[0m   \u001b[01;31mr2.8A_pilot.fq.gz\u001b[0m\n",
      "\u001b[01;31mi1.7A_pilot.fq.gz\u001b[0m    \u001b[01;31mi1.unmatched.fq.gz\u001b[0m  \u001b[01;31mr1.8C_pilot.fq.gz\u001b[0m   \u001b[01;31mr2.8B_pilot.fq.gz\u001b[0m\n",
      "\u001b[01;31mi1.7B_pilot.fq.gz\u001b[0m    \u001b[01;31mr1.7A_pilot.fq.gz\u001b[0m   \u001b[01;31mr1.unmatched.fq.gz\u001b[0m  \u001b[01;31mr2.8C_pilot.fq.gz\u001b[0m\n",
      "\u001b[01;31mi1.7C_pilot.fq.gz\u001b[0m    \u001b[01;31mr1.7B_pilot.fq.gz\u001b[0m   \u001b[01;31mr2.7A_pilot.fq.gz\u001b[0m   \u001b[01;31mr2.unmatched.fq.gz\u001b[0m\n",
      "\u001b[01;31mi1.8A_pilot.fq.gz\u001b[0m    \u001b[01;31mr1.7C_pilot.fq.gz\u001b[0m   \u001b[01;31mr2.7B_pilot.fq.gz\u001b[0m\n",
      "\u001b[01;31mi1.8B_pilot.fq.gz\u001b[0m    \u001b[01;31mr1.8A_pilot.fq.gz\u001b[0m   \u001b[01;31mr2.7C_pilot.fq.gz\u001b[0m\n"
     ]
    }
   ],
   "source": [
    "ls ${DEMUX}"
   ]
  },
  {
   "cell_type": "markdown",
   "metadata": {},
   "source": [
    "Note that neither the `cut` nor the `sed` command that we used alter the original file, no changes are saved, the results of the commands are just displayed.  See the original is still the same . . . "
   ]
  },
  {
   "cell_type": "code",
   "execution_count": 45,
   "metadata": {},
   "outputs": [
    {
     "name": "stdout",
     "output_type": "stream",
     "text": [
      "Id\tCount\tFile(s)\n",
      "7A_pilot\t1303312\t/home/jovyan/work/scratch/demux_2015/demux_fastqs/i1.7A_pilot.fq.gz\t/home/jovyan/work/scratch/demux_2015/demux_fastqs/r1.7A_pilot.fq.gz\t/home/jovyan/work/scratch/demux_2015/demux_fastqs/r2.7A_pilot.fq.gz\n",
      "7B_pilot\t1835356\t/home/jovyan/work/scratch/demux_2015/demux_fastqs/i1.7B_pilot.fq.gz\t/home/jovyan/work/scratch/demux_2015/demux_fastqs/r1.7B_pilot.fq.gz\t/home/jovyan/work/scratch/demux_2015/demux_fastqs/r2.7B_pilot.fq.gz\n",
      "7C_pilot\t1697292\t/home/jovyan/work/scratch/demux_2015/demux_fastqs/i1.7C_pilot.fq.gz\t/home/jovyan/work/scratch/demux_2015/demux_fastqs/r1.7C_pilot.fq.gz\t/home/jovyan/work/scratch/demux_2015/demux_fastqs/r2.7C_pilot.fq.gz\n",
      "8A_pilot\t1261068\t/home/jovyan/work/scratch/demux_2015/demux_fastqs/i1.8A_pilot.fq.gz\t/home/jovyan/work/scratch/demux_2015/demux_fastqs/r1.8A_pilot.fq.gz\t/home/jovyan/work/scratch/demux_2015/demux_fastqs/r2.8A_pilot.fq.gz\n",
      "8B_pilot\t1480948\t/home/jovyan/work/scratch/demux_2015/demux_fastqs/i1.8B_pilot.fq.gz\t/home/jovyan/work/scratch/demux_2015/demux_fastqs/r1.8B_pilot.fq.gz\t/home/jovyan/work/scratch/demux_2015/demux_fastqs/r2.8B_pilot.fq.gz\n",
      "8C_pilot\t1242058\t/home/jovyan/work/scratch/demux_2015/demux_fastqs/i1.8C_pilot.fq.gz\t/home/jovyan/work/scratch/demux_2015/demux_fastqs/r1.8C_pilot.fq.gz\t/home/jovyan/work/scratch/demux_2015/demux_fastqs/r2.8C_pilot.fq.gz\n",
      "unmatched\t335372\t/home/jovyan/work/scratch/demux_2015/demux_fastqs/i1.unmatched.fq.gz\t/home/jovyan/work/scratch/demux_2015/demux_fastqs/r1.unmatched.fq.gz\t/home/jovyan/work/scratch/demux_2015/demux_fastqs/r2.unmatched.fq.gz\n",
      "total\t9155406\n"
     ]
    }
   ],
   "source": [
    "cat ${DEMUX}/dryrun_demux.stdout"
   ]
  }
 ],
 "metadata": {
  "kernelspec": {
   "display_name": "Bash",
   "language": "bash",
   "name": "bash"
  },
  "language_info": {
   "codemirror_mode": "shell",
   "file_extension": ".sh",
   "mimetype": "text/x-sh",
   "name": "bash"
  }
 },
 "nbformat": 4,
 "nbformat_minor": 1
}
