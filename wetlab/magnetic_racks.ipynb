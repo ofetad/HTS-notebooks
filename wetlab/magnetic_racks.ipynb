{
 "cells": [
  {
   "cell_type": "markdown",
   "metadata": {},
   "source": [
    "# MCT Racks\n",
    "For MCTs (eppendorf tubes) I would recommend this racks: <https://www.thingiverse.com/thing:1132367> \n",
    "\n",
    "For the Wet Lab we actually used this rack:\n",
    "<https://www.thingiverse.com/thing:319772>, but that is only because I printed them before the design I am recommending was available.  Trust me that it is a lot easier to shove the magnets in the hole designed to hold it than trying to glue the magnets into an indentation while the magnets are trying to jump off and stick to each other.\n",
    "# PCR Racks\n",
    "We used this rack for PCR tubes: <https://www.thingiverse.com/thing:3018910>.  There are three different models there, an 8-tube rack (4+4), a 12-tube rack (6+6), and a \"magnet shover\".  We used the 8-tube racks, mostly because I already had the magnets for them.\n",
    "\n",
    "These print great on the Ultimaker 3, but doesn't work on the Ultimaker 2 because the slots are slightly too small for the magnets. Could be due to slightly different default settings rather than the printer itself.\n",
    "\n",
    "# Magnets\n",
    "Recommended magnets are linked from the model pages on Thingiverse.\n",
    "\n",
    "# Printing\n",
    "- [Thingiverse](https://www.thingiverse.com) has a huge select of printable 3D models to download\n",
    "- I like [Tinkercad](https://www.tinkercad.com) for modifying existing models and making new ones from scratch, but there are lots of other tools out there\n",
    "\n",
    "## Duke\n",
    "\n",
    "Everything we used in the wet lab was printed at . . .\n",
    "- [The Innovation Co-Lab](https://colab.duke.edu/studio): where everything in the course was printed\n",
    "    - They have a [2 hour online course](https://extend.duke.edu/courses/course-v1:DukeExtend+3DP101+2015-16/about) that teaches the basics of 3D printing at the Co-Lab\n",
    "    - The interface to Co-Lab printers is [3dprinteros](https://cloud.3dprinteros.com)\n",
    "   \n",
    "   \n",
    "Other Duke resources for 3D printing are . . . \n",
    "\n",
    "- [OIT 3D Printing Webpage](https://oit.duke.edu/what-we-do/services/3d-printing)\n",
    "- [Bluesmith](https://oit.duke.edu/what-we-do/services/bluesmith) provides 3D printing services for a fee.\n",
    "- [The Foundry](http://foundry.duke.edu)\n",
    "- [DesignHub](https://3dprint.duke.edu/designhub)\n",
    "\n",
    "\n",
    "\n",
    "## Elsewhere\n",
    "There are lots of places to print things for a fee.  A few that I know of (no endorsement is implied):\n",
    "- <https://www.shapeways.com>\n",
    "- <https://printathing.com/>\n",
    "- <https://www.treatstock.com/>\n",
    "- <https://ninjaprototype.com>"
   ]
  }
 ],
 "metadata": {
  "kernelspec": {
   "display_name": "Python 3",
   "language": "python",
   "name": "python3"
  },
  "language_info": {
   "codemirror_mode": {
    "name": "ipython",
    "version": 3
   },
   "file_extension": ".py",
   "mimetype": "text/x-python",
   "name": "python",
   "nbconvert_exporter": "python",
   "pygments_lexer": "ipython3",
   "version": "3.6.5"
  }
 },
 "nbformat": 4,
 "nbformat_minor": 2
}
