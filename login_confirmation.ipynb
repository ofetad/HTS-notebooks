{
 "cells": [
  {
   "cell_type": "markdown",
   "metadata": {},
   "source": [
    "# Jupyter Login Confirmation\n",
    "\n",
    "Congratulations, you have successfully logged into the computing environment for the 2018 HTS Course.  The login confirmation number is:\n",
    "\n",
    "> **54367027**\n",
    "\n",
    "Please enter this number on the confirmation page and submit so we can validate your successful login."
   ]
  },
  {
   "cell_type": "markdown",
   "metadata": {},
   "source": [
    "<---\n",
    "import random\n",
    "random.randint(1,1e8)\n",
    "--->"
   ]
  }
 ],
 "metadata": {
  "kernelspec": {
   "display_name": "Python 3",
   "language": "python",
   "name": "python3"
  },
  "language_info": {
   "codemirror_mode": {
    "name": "ipython",
    "version": 3
   },
   "file_extension": ".py",
   "mimetype": "text/x-python",
   "name": "python",
   "nbconvert_exporter": "python",
   "pygments_lexer": "ipython3",
   "version": "3.6.5"
  }
 },
 "nbformat": 4,
 "nbformat_minor": 2
}
