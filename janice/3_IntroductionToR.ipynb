{
 "cells": [
  {
   "cell_type": "markdown",
   "metadata": {},
   "source": [
    "# Introduction to R\n",
    "\n",
    "R is an interpreted language, which means it can be used interactively: we can type some code, hit execute and see the results instantly. This is different from compiled languages such as C or C++ where you must first compile code into an executable file, then run it.\n",
    "\n",
    "## R as simple calculator"
   ]
  },
  {
   "cell_type": "code",
   "execution_count": 7,
   "metadata": {},
   "outputs": [
    {
     "data": {
      "text/html": [
       "245"
      ],
      "text/latex": [
       "245"
      ],
      "text/markdown": [
       "245"
      ],
      "text/plain": [
       "[1] 245"
      ]
     },
     "metadata": {},
     "output_type": "display_data"
    }
   ],
   "source": [
    "2 + 3^5 "
   ]
  },
  {
   "cell_type": "code",
   "execution_count": 8,
   "metadata": {},
   "outputs": [
    {
     "data": {
      "text/html": [
       "2"
      ],
      "text/latex": [
       "2"
      ],
      "text/markdown": [
       "2"
      ],
      "text/plain": [
       "[1] 2"
      ]
     },
     "metadata": {},
     "output_type": "display_data"
    }
   ],
   "source": [
    "7 %/% 3"
   ]
  },
  {
   "cell_type": "code",
   "execution_count": 9,
   "metadata": {},
   "outputs": [
    {
     "data": {
      "text/html": [
       "1"
      ],
      "text/latex": [
       "1"
      ],
      "text/markdown": [
       "1"
      ],
      "text/plain": [
       "[1] 1"
      ]
     },
     "metadata": {},
     "output_type": "display_data"
    }
   ],
   "source": [
    "sin(0.5*pi)"
   ]
  },
  {
   "cell_type": "code",
   "execution_count": 10,
   "metadata": {},
   "outputs": [
    {
     "data": {
      "text/html": [
       "1230"
      ],
      "text/latex": [
       "1230"
      ],
      "text/markdown": [
       "1230"
      ],
      "text/plain": [
       "[1] 1230"
      ]
     },
     "metadata": {},
     "output_type": "display_data"
    }
   ],
   "source": [
    "1.23e3"
   ]
  },
  {
   "cell_type": "markdown",
   "metadata": {},
   "source": [
    "### Printing results\n",
    "\n",
    "By default, the result on the last line is displayed in the Jupyter notebook. To see other lines, use the `print` function."
   ]
  },
  {
   "cell_type": "code",
   "execution_count": 11,
   "metadata": {},
   "outputs": [
    {
     "name": "stdout",
     "output_type": "stream",
     "text": [
      "[1] 24\n",
      "[1] FALSE\n"
     ]
    },
    {
     "data": {
      "text/html": [
       "TRUE"
      ],
      "text/latex": [
       "TRUE"
      ],
      "text/markdown": [
       "TRUE"
      ],
      "text/plain": [
       "[1] TRUE"
      ]
     },
     "metadata": {},
     "output_type": "display_data"
    }
   ],
   "source": [
    "print(1 * 2 * 3 *4)\n",
    "print(11 %% 3 == 1)\n",
    "10 > 1"
   ]
  },
  {
   "cell_type": "markdown",
   "metadata": {},
   "source": [
    "### Getting help\n",
    "\n",
    "Type something and hit the tab key - this will either complete the R command for you (if unique) or present a list of opitons.\n",
    "\n",
    "Use ?topic to get a description of `topic`, or more verbosely, you can also use `help(topic)`. "
   ]
  },
  {
   "cell_type": "code",
   "execution_count": 12,
   "metadata": {},
   "outputs": [],
   "source": [
    "?seq"
   ]
  },
  {
   "cell_type": "markdown",
   "metadata": {},
   "source": [
    "Use example to see usage examples."
   ]
  },
  {
   "cell_type": "code",
   "execution_count": 13,
   "metadata": {},
   "outputs": [
    {
     "name": "stdout",
     "output_type": "stream",
     "text": [
      "\n",
      "seq> seq(0, 1, length.out = 11)\n",
      " [1] 0.0 0.1 0.2 0.3 0.4 0.5 0.6 0.7 0.8 0.9 1.0\n",
      "\n",
      "seq> seq(stats::rnorm(20)) # effectively 'along'\n",
      " [1]  1  2  3  4  5  6  7  8  9 10 11 12 13 14 15 16 17 18 19 20\n",
      "\n",
      "seq> seq(1, 9, by = 2)     # matches 'end'\n",
      "[1] 1 3 5 7 9\n",
      "\n",
      "seq> seq(1, 9, by = pi)    # stays below 'end'\n",
      "[1] 1.000000 4.141593 7.283185\n",
      "\n",
      "seq> seq(1, 6, by = 3)\n",
      "[1] 1 4\n",
      "\n",
      "seq> seq(1.575, 5.125, by = 0.05)\n",
      " [1] 1.575 1.625 1.675 1.725 1.775 1.825 1.875 1.925 1.975 2.025 2.075 2.125\n",
      "[13] 2.175 2.225 2.275 2.325 2.375 2.425 2.475 2.525 2.575 2.625 2.675 2.725\n",
      "[25] 2.775 2.825 2.875 2.925 2.975 3.025 3.075 3.125 3.175 3.225 3.275 3.325\n",
      "[37] 3.375 3.425 3.475 3.525 3.575 3.625 3.675 3.725 3.775 3.825 3.875 3.925\n",
      "[49] 3.975 4.025 4.075 4.125 4.175 4.225 4.275 4.325 4.375 4.425 4.475 4.525\n",
      "[61] 4.575 4.625 4.675 4.725 4.775 4.825 4.875 4.925 4.975 5.025 5.075 5.125\n",
      "\n",
      "seq> seq(17) # same as 1:17, or even better seq_len(17)\n",
      " [1]  1  2  3  4  5  6  7  8  9 10 11 12 13 14 15 16 17\n"
     ]
    }
   ],
   "source": [
    "example(seq)"
   ]
  },
  {
   "cell_type": "markdown",
   "metadata": {},
   "source": [
    "To search for all functions with the phrase `topic`, use `apropos(topic)`."
   ]
  },
  {
   "cell_type": "code",
   "execution_count": 14,
   "metadata": {},
   "outputs": [
    {
     "data": {
      "text/html": [
       "<ol class=list-inline>\n",
       "\t<li>'seq'</li>\n",
       "\t<li>'seq_along'</li>\n",
       "\t<li>'seq_len'</li>\n",
       "\t<li>'seq.Date'</li>\n",
       "\t<li>'seq.default'</li>\n",
       "\t<li>'seq.int'</li>\n",
       "\t<li>'seq.POSIXt'</li>\n",
       "\t<li>'sequence'</li>\n",
       "</ol>\n"
      ],
      "text/latex": [
       "\\begin{enumerate*}\n",
       "\\item 'seq'\n",
       "\\item 'seq\\_along'\n",
       "\\item 'seq\\_len'\n",
       "\\item 'seq.Date'\n",
       "\\item 'seq.default'\n",
       "\\item 'seq.int'\n",
       "\\item 'seq.POSIXt'\n",
       "\\item 'sequence'\n",
       "\\end{enumerate*}\n"
      ],
      "text/markdown": [
       "1. 'seq'\n",
       "2. 'seq_along'\n",
       "3. 'seq_len'\n",
       "4. 'seq.Date'\n",
       "5. 'seq.default'\n",
       "6. 'seq.int'\n",
       "7. 'seq.POSIXt'\n",
       "8. 'sequence'\n",
       "\n",
       "\n"
      ],
      "text/plain": [
       "[1] \"seq\"         \"seq_along\"   \"seq_len\"     \"seq.Date\"    \"seq.default\"\n",
       "[6] \"seq.int\"     \"seq.POSIXt\"  \"sequence\"   "
      ]
     },
     "metadata": {},
     "output_type": "display_data"
    }
   ],
   "source": [
    "apropos(\"seq\")"
   ]
  },
  {
   "cell_type": "markdown",
   "metadata": {},
   "source": [
    "Finally, you can always use a search engine - e.g. Googling for \"how to generate random numbers from a normal distribution in R\" returns:"
   ]
  },
  {
   "cell_type": "raw",
   "metadata": {},
   "source": [
    "R Learning Module: Probabilities and Distributions\n",
    "www.ats.ucla.edu › stat › r › modules\n",
    "University of California, Los Angeles\n",
    "Generating random samples from a normal distribution ... (For more information on the random number generator used in R please refer to the help pages for the  ...\n",
    "\n",
    "R: The Normal Distribution\n",
    "https://stat.ethz.ch/R-manual/R-devel/library/.../Normal.html\n",
    "ETH Zurich\n",
    "Normal {stats}, R Documentation ... quantile function and random generation for the normal distribution with mean equal to mean and ... number of observations.\n",
    "\n",
    "CASt R: Random numbers\n",
    "astrostatistics.psu.edu/.../R/Random.html\n",
    "Pennsylvania State University\n",
    "It is often necessary to simulate random numbers in R. There are many functions available to ... Let's consider the well-known normal distribution as an example: ?Normal .... Creating functions in R, as illustrated above, is a common procedure."
   ]
  },
  {
   "cell_type": "markdown",
   "metadata": {},
   "source": [
    "#### Creating and using sequences"
   ]
  },
  {
   "cell_type": "code",
   "execution_count": 15,
   "metadata": {},
   "outputs": [
    {
     "data": {
      "text/html": [
       "<ol class=list-inline>\n",
       "\t<li>1</li>\n",
       "\t<li>2</li>\n",
       "\t<li>3</li>\n",
       "\t<li>4</li>\n",
       "</ol>\n"
      ],
      "text/latex": [
       "\\begin{enumerate*}\n",
       "\\item 1\n",
       "\\item 2\n",
       "\\item 3\n",
       "\\item 4\n",
       "\\end{enumerate*}\n"
      ],
      "text/markdown": [
       "1. 1\n",
       "2. 2\n",
       "3. 3\n",
       "4. 4\n",
       "\n",
       "\n"
      ],
      "text/plain": [
       "[1] 1 2 3 4"
      ]
     },
     "metadata": {},
     "output_type": "display_data"
    }
   ],
   "source": [
    "1:4"
   ]
  },
  {
   "cell_type": "code",
   "execution_count": 16,
   "metadata": {},
   "outputs": [
    {
     "data": {
      "text/html": [
       "<ol class=list-inline>\n",
       "\t<li>2</li>\n",
       "\t<li>5</li>\n",
       "\t<li>8</li>\n",
       "\t<li>11</li>\n",
       "</ol>\n"
      ],
      "text/latex": [
       "\\begin{enumerate*}\n",
       "\\item 2\n",
       "\\item 5\n",
       "\\item 8\n",
       "\\item 11\n",
       "\\end{enumerate*}\n"
      ],
      "text/markdown": [
       "1. 2\n",
       "2. 5\n",
       "3. 8\n",
       "4. 11\n",
       "\n",
       "\n"
      ],
      "text/plain": [
       "[1]  2  5  8 11"
      ]
     },
     "metadata": {},
     "output_type": "display_data"
    }
   ],
   "source": [
    "seq(2, 12, 3)"
   ]
  },
  {
   "cell_type": "code",
   "execution_count": 17,
   "metadata": {},
   "outputs": [
    {
     "data": {
      "text/html": [
       "<ol class=list-inline>\n",
       "\t<li>0</li>\n",
       "\t<li>0.785398163397448</li>\n",
       "\t<li>1.5707963267949</li>\n",
       "\t<li>2.35619449019234</li>\n",
       "\t<li>3.14159265358979</li>\n",
       "</ol>\n"
      ],
      "text/latex": [
       "\\begin{enumerate*}\n",
       "\\item 0\n",
       "\\item 0.785398163397448\n",
       "\\item 1.5707963267949\n",
       "\\item 2.35619449019234\n",
       "\\item 3.14159265358979\n",
       "\\end{enumerate*}\n"
      ],
      "text/markdown": [
       "1. 0\n",
       "2. 0.785398163397448\n",
       "3. 1.5707963267949\n",
       "4. 2.35619449019234\n",
       "5. 3.14159265358979\n",
       "\n",
       "\n"
      ],
      "text/plain": [
       "[1] 0.0000000 0.7853982 1.5707963 2.3561945 3.1415927"
      ]
     },
     "metadata": {},
     "output_type": "display_data"
    }
   ],
   "source": [
    "seq(from = 0, to = pi, by = pi/4)"
   ]
  },
  {
   "cell_type": "code",
   "execution_count": 18,
   "metadata": {},
   "outputs": [
    {
     "data": {
      "text/html": [
       "<ol class=list-inline>\n",
       "\t<li>0</li>\n",
       "\t<li>0.785398163397448</li>\n",
       "\t<li>1.5707963267949</li>\n",
       "\t<li>2.35619449019234</li>\n",
       "\t<li>3.14159265358979</li>\n",
       "</ol>\n"
      ],
      "text/latex": [
       "\\begin{enumerate*}\n",
       "\\item 0\n",
       "\\item 0.785398163397448\n",
       "\\item 1.5707963267949\n",
       "\\item 2.35619449019234\n",
       "\\item 3.14159265358979\n",
       "\\end{enumerate*}\n"
      ],
      "text/markdown": [
       "1. 0\n",
       "2. 0.785398163397448\n",
       "3. 1.5707963267949\n",
       "4. 2.35619449019234\n",
       "5. 3.14159265358979\n",
       "\n",
       "\n"
      ],
      "text/plain": [
       "[1] 0.0000000 0.7853982 1.5707963 2.3561945 3.1415927"
      ]
     },
     "metadata": {},
     "output_type": "display_data"
    }
   ],
   "source": [
    "seq(from = 0, to = pi, length.out = 5)"
   ]
  },
  {
   "cell_type": "markdown",
   "metadata": {},
   "source": [
    "## Basic Programming Concepts\n",
    "\n",
    "The following sections introduce some basic programming concepts within the context of R, but they are common ingredients in any programming language\n",
    "\n",
    "    - Style\n",
    "    - Variable Assignment\n",
    "    - Data Types\n",
    "    - Operators\n",
    "    - Looping and branching\n",
    "    - Errors and debugging\n",
    "    \n",
    "### Style\n",
    "\n",
    "Programming style (how to name things, how much blank space to use, etc.) is an important part of creating a readable program. It's beyond our scope to cover this in detail, but it would be a good idea to review an R style guide if you plan to write a lot of R code. Different people have slightly different conventions, but this guide by Hadley Wickham is pretty widely used:\n",
    "\n",
    "http://adv-r.had.co.nz/Style.html\n",
    "\n",
    "It's 'based' on [Google's R style guide](https://google.github.io/styleguide/Rguide.xml), but some of the recommendations are in direct conflict. The most important thing is to try to be *consistent*. \n",
    "\n",
    "### Variable Assignment\n",
    "\n",
    "\n",
    "#### Assigning to variables\n",
    "\n",
    "Variable assignments in R are made using the `<-` operator, but note that there is more than one assignment operator. Later, when we discuss custom functions in greater detail, we'll talk about the \"=\" assignment operator. Note that while some programmers use \"=\" in place of \"<-\" (they are *almost* equivalent), it is considered best practice to use \"<-\" for assignments in R."
   ]
  },
  {
   "cell_type": "code",
   "execution_count": 20,
   "metadata": {},
   "outputs": [
    {
     "data": {
      "text/html": [
       "15"
      ],
      "text/latex": [
       "15"
      ],
      "text/markdown": [
       "15"
      ],
      "text/plain": [
       "[1] 15"
      ]
     },
     "metadata": {},
     "output_type": "display_data"
    }
   ],
   "source": [
    "x <- 3\n",
    "y <- 5\n",
    "\n",
    "z <- x * y\n",
    "\n",
    "z"
   ]
  },
  {
   "cell_type": "markdown",
   "metadata": {},
   "source": [
    "#### Data Types\n",
    "\n",
    "When we assign variables in R (and in any programming language), they are assigned a 'type' (implicitly or explicitly). Some common types are:\n",
    "\n",
    "- numeric\n",
    "  \n",
    "  In R, this includes both floating points (decimal) and integers (e.g. 1.2, 3.14159, 15)\n",
    "  \n",
    "  \n",
    "- integer\n",
    "\n",
    "  Non-floating point number (e.g. 1, 2, -4, etc., but not 1.2, 3.14159,...)\n",
    " \n",
    "- logical\n",
    "  \n",
    "  TRUE or FALSE\n",
    "\n",
    "- character\n",
    "\n",
    "  Words and letters. NB: numbers can be treated as characters too - we'll do some examples that illustrate that.\n",
    "\n",
    "In R, these are also 'classes', and the distinction between 'type' and 'class' is a bit abstract and won't really help us with basic programming, so using a gross and somewhat incorrect (but workable) simplification, we'll just refer to the above as classes. New classes can be created from these basic classes:\n",
    "\n",
    "- vector\n",
    "\n",
    "  This is actually the same as 'numeric'. R sees numbers as vectors of length 1. <br><br>\n",
    "\n",
    "- matrix\n",
    "\n",
    "  A 2-dimensional array of numerics. <br><br>\n",
    "\n",
    "- list\n",
    "\n",
    "  Like a vector, but elements can be other than numeric (such as a collection of logicals, character strings, etc.) <br><br>\n",
    "  \n",
    "- dataframe\n",
    "\n",
    "  A 2-dimensional array that allows columns to be different types. <br><br>\n",
    "  \n",
    "- tibble\n",
    "\n",
    "  New version of dataframe. We'll talk more about this in future lectures.\n",
    "  \n",
    "#### Operators\n",
    "  \n",
    "Once we have variables of different types or classes, we usually want to *do* something with them. That can mean anything from simple arithmetic to summaries to custom made R functions. Here, we will discuss simple operators.\n",
    "\n",
    "##### Arithmetic operators\n",
    "\n",
    "-  *, + , - , /\n",
    "\n",
    "These all do what you expect to numbers (numeric types), but things get a little tricky when we have vectors and matrices. To be explicit, the above operators are multiplication, addition, subtraction and division, respectively.<br><br>\n",
    "\n",
    "- %*% \n",
    "\n",
    "This is what is known as the 'dot' product for vectors and matrices. <br><br>\n",
    "\n",
    "- %% \n",
    "\n",
    "This is the modulus operator. (When you divide an integer by another integer it returns the remainder)<br><br>\n",
    "\n",
    "- %/% \n",
    "\n",
    "This is the integer division operator. It returns the result of a division without the remainder.<br><br><br><br>\n",
    "\n",
    "##### Logical Operators\n",
    "\n",
    "- \\>, <, ==, !=, >=, <=\n",
    "\n",
    "The above compare variables and return a 'logical' result (TRUE or FALSE)<br><br>\n",
    "\n",
    "- &, |\n",
    "\n",
    "The above are 'AND' and 'OR' logical operators, respectively. We can combine the previous operators with these to form complex logical queries. "
   ]
  },
  {
   "cell_type": "markdown",
   "metadata": {},
   "source": [
    "#### Examples\n",
    "\n",
    "The only way to learn R is by using R. The following exercises require a bit more knowledge than the notes describe. Remember to use `TAB` and `?` and `apropos` whenever you're stuck.\n",
    "\n",
    "\n",
    "1. **Using arithmetic operators on numbers.**\n",
    "\n",
    "            a. If you put USD 100 in a bank that pays 5 percent interest compounded daily, how much will you have in the bank at the end of one year? Recall from high school math that\n",
    "    $$\n",
    "            A = P(1 + r/n)^m\n",
    "    $$\n",
    "     where $A$ is the amount, $P$ is the principal, $r$ is the interest rate, $n$ is the compoundings per period and $m$ is the number of periods.\n",
    "\n",
    "                b. What is the (Euclidean) distance between two points at (1,5) and (4,8)? Recall that the Euclidean distance between two points (x1, y1) and (x2, y2) is given by the Pythagorean theorem:\n",
    "\n",
    "    $$\n",
    "               \\sqrt{(x_1 - x_2)^2 + (y_1 - y_2)^2}\n",
    "                   $$<br><br>\n",
    "                                                           \n",
    "2. **Assigning variables**\n",
    "   Write the formula in part 1a using variables (i.e. P,r,n,m) and then assign those variables to the values above. Assign the result to the variable A, and then print A.\n",
    "   \n",
    "3. **Data Types**\n",
    "   Define two variables of the following classes: numeric, character, logical and integer by assigning names (of your choice) to values (of your choice). (The integer is tricky - google or use help for this).\n",
    "   \n",
    "4. **Operators**\n",
    "   Use the variables above to find the results of the operators *, +, -, /, %%, %*%, %/%, <, >, ==, !=, <=, >=. Which variables work with which data classes?"
   ]
  },
  {
   "cell_type": "code",
   "execution_count": null,
   "metadata": {
    "collapsed": true
   },
   "outputs": [],
   "source": [
    "# Your code here"
   ]
  },
  {
   "cell_type": "code",
   "execution_count": null,
   "metadata": {
    "collapsed": true
   },
   "outputs": [],
   "source": [
    "# Your code here"
   ]
  },
  {
   "cell_type": "code",
   "execution_count": null,
   "metadata": {
    "collapsed": true
   },
   "outputs": [],
   "source": [
    "# Your code here"
   ]
  },
  {
   "cell_type": "markdown",
   "metadata": {},
   "source": [
    "### Basic Programming continued"
   ]
  },
  {
   "cell_type": "markdown",
   "metadata": {},
   "source": [
    "#### Loops and Branching\n",
    "\n",
    "Sometimes, actually, nearly all the time, we want to repeat an operation or series of operations over many instances of a variable. For example, suppose I have a list of numbers and I want to double them all. This is a very simple example, and the first way I will show you to do it is *exactly the wrong way* in R. But we need simple examples to learn, so here we go.\n",
    "\n",
    "There are a couple of ways to make a loop, depending on whether or not you know how many iterations will be required when you write the code.\n",
    "\n",
    "A ``for`` loop is a loop that repeats over something called an iterator. The simplest example would be a count, say I want to do something 6 times. Then a ``for`` loop may be used. Doubling a list of known length calls for a ``for`` loop. (I'm kinda lying here... will clarify this in a bit.)\n",
    "\n",
    "A ``while`` loop is used when conditions during execution of the code determine when the loop is terminated. Suppose we have a list of coin toss outcomes, and we want to count how many flips it took to get 3 heads. We don't know how many iterations the loop will take, but we do have a condition for stopping.\n"
   ]
  },
  {
   "cell_type": "code",
   "execution_count": 22,
   "metadata": {},
   "outputs": [
    {
     "name": "stdout",
     "output_type": "stream",
     "text": [
      "[1]  2  5  8 11 14 17 20\n",
      "[1]  4 10 16 22 28 34 40\n"
     ]
    }
   ],
   "source": [
    "## for loop example.\n",
    "\n",
    "v <- seq(from = 2, to = 20, by = 3)\n",
    "\n",
    "print(v)\n",
    "\n",
    "\n",
    "for (i in 1:length(v)) {\n",
    "    v[i] <- 2*v[i]\n",
    "}\n",
    "\n",
    "print(v)"
   ]
  },
  {
   "cell_type": "markdown",
   "metadata": {},
   "source": [
    "The ``i`` in the above ``for`` loop is called an *iterator*. At the first step, ``i`` is *initialized* to 1 (because the code tells it to start at 1 and end at the length of v, with the ``in 1:length(v)`` statement.  Each time the code in the body is executed, it is incremented (in this case, sequentially, one at a time). Iterators can be much fancier though. Here are a few examples:"
   ]
  },
  {
   "cell_type": "code",
   "execution_count": 23,
   "metadata": {},
   "outputs": [
    {
     "name": "stdout",
     "output_type": "stream",
     "text": [
      "[1] 1\n",
      "[1] 10\n",
      "[1] 32\n",
      "[1] 1.45\n"
     ]
    }
   ],
   "source": [
    "## for loop example\n",
    "\n",
    "iterator_variable <- c(1,10,32,1.45)\n",
    "\n",
    "\n",
    "for ( i in iterator_variable){\n",
    "    print(i)\n",
    "}"
   ]
  },
  {
   "cell_type": "code",
   "execution_count": 24,
   "metadata": {},
   "outputs": [
    {
     "name": "stdout",
     "output_type": "stream",
     "text": [
      "[1] 1\n",
      "[1] 10\n",
      "[1] 32\n",
      "[1] 1.45\n",
      "[1] \"the\"\n",
      "[1] \"quick brown fox\"\n"
     ]
    }
   ],
   "source": [
    "## for loop example\n",
    "\n",
    "iterator_variable <- list(1,10,32,1.45,\"the\", \"quick brown fox\")\n",
    "\n",
    "\n",
    "for ( i in iterator_variable){\n",
    "    print(i)\n",
    "}"
   ]
  },
  {
   "cell_type": "code",
   "execution_count": 25,
   "metadata": {},
   "outputs": [
    {
     "name": "stdout",
     "output_type": "stream",
     "text": [
      "  [1] 0 0 0 1 1 0 0 1 0 1 0 0 0 0 1 0 0 0 0 0 1 0 0 0 0 0 0 0 0 0 0 0 0 0 0 0 0\n",
      " [38] 0 0 0 0 0 0 0 0 0 1 0 0 0 0 0 0 1 0 0 0 0 0 1 0 1 0 0 1 1 0 0 0 0 0 0 0 1\n",
      " [75] 0 0 0 1 0 0 0 0 0 0 0 0 1 0 1 0 0 0 0 0 0 0 0 0 0 0\n",
      "[1] 4\n"
     ]
    }
   ],
   "source": [
    "## while loop example\n",
    "\n",
    "samples <- rbinom(100, 1, prob = 0.2)  # generate 100 Bernouli trials with success probability 0.2\n",
    "i <- 0  #initialize index for samples vector\n",
    "\n",
    "\n",
    "found_success <- 'FALSE'  #initialize the loop termination condition\n",
    "\n",
    "while (found_success == 'FALSE'){\n",
    "       i <- i+1\n",
    "       if (samples[i] == 1)\n",
    "           found_success <- 'TRUE'\n",
    "}\n",
    "\n",
    "print(samples)   # print all trials    \n",
    "print(i)         # print index of first success.  "
   ]
  },
  {
   "cell_type": "markdown",
   "metadata": {},
   "source": [
    "The above code also contains an example of 'branching'. Branching is when the code that executes depends upon the current state of the program. In this example, the command ``found_success <- 'TRUE'`` only executes when the current (ith) component of ``samples`` is a 1."
   ]
  },
  {
   "cell_type": "markdown",
   "metadata": {},
   "source": [
    "#### Examples\n",
    "\n",
    "1. Write a ``for`` loop to print the index of each success in ``samples``.\n",
    "\n",
    "2. Write a ``while`` loop to find the index of the third success.\n",
    " "
   ]
  },
  {
   "cell_type": "markdown",
   "metadata": {},
   "source": [
    "### The Next Level - vectors, matrices, functions, etc.\n",
    "\n",
    "#### Avoiding loops: Vectorization\n",
    "\n",
    "In R, and in other scripting languages, it is usually best to avoid loops when possible. Historically, looping in interpreted languages was slow. Nowadays, the issue is more with programming style, readability and lowering the possibilty of errors.\n",
    "\n",
    "We avoid loops by using what is called 'vectorization'. In other words, we use functions that work on whole vectors at once, rather than one element at a time (of course, at the lowest level, the code is iterating over each element. It is just happening using very fast machine code.)\n",
    "\n",
    "Many operations in R are vectorized. For example, we just used a ``for`` loop to double the elements of a vector. We could have done this another way:"
   ]
  },
  {
   "cell_type": "code",
   "execution_count": 26,
   "metadata": {},
   "outputs": [
    {
     "name": "stdout",
     "output_type": "stream",
     "text": [
      "[1]  2  5  8 11 14 17 20\n",
      "[1]  4 10 16 22 28 34 40\n"
     ]
    }
   ],
   "source": [
    "## Vectorization example\n",
    "\n",
    "v <- seq(from = 2, to = 20, by = 3)\n",
    "\n",
    "print(v)\n",
    "\n",
    "print (2*v)\n"
   ]
  },
  {
   "cell_type": "markdown",
   "metadata": {},
   "source": [
    "R interprets the multiplication operator to do componentwise multiplication (because it's the only thing that 'makes sense'). Suppose we have two vectors of the same length. What does ``*`` do?"
   ]
  },
  {
   "cell_type": "code",
   "execution_count": 27,
   "metadata": {},
   "outputs": [
    {
     "name": "stdout",
     "output_type": "stream",
     "text": [
      "[1]  2  5  8 11 14 17 20\n",
      "[1]  1  4  7 10 13 16 19\n",
      "[1]   2  20  56 110 182 272 380\n"
     ]
    }
   ],
   "source": [
    "v <- seq(from = 2, to = 20, by = 3)\n",
    "\n",
    "w <- seq(from = 1, to = 21, by = 3)\n",
    "\n",
    "print(v)\n",
    "print(w)\n",
    "\n",
    "print(v*w)"
   ]
  },
  {
   "cell_type": "markdown",
   "metadata": {},
   "source": [
    "Again, multiplication is componentwise. There is another way to multiply 2 vectors of the same size:"
   ]
  },
  {
   "cell_type": "code",
   "execution_count": 28,
   "metadata": {},
   "outputs": [
    {
     "name": "stdout",
     "output_type": "stream",
     "text": [
      "     [,1]\n",
      "[1,] 1022\n"
     ]
    }
   ],
   "source": [
    "print(v %*% w)"
   ]
  },
  {
   "cell_type": "markdown",
   "metadata": {},
   "source": [
    "This is called the 'dot product'. The i<sup>th</sup> component of v is multiplied by the ith component of w, and these are added together for all i. Because linear algebra is beyond our scope, we won't deal with this operation much. \n",
    "\n",
    "R has vectorization built in to many functions. In practice, if you ever feel you need to code a loop, you should look do some googling and see if there is another way. \n",
    "\n",
    "We'll first talk a bit more about vectors, matrices and lists, and then we will cover some common R functions that take these as arguments."
   ]
  },
  {
   "cell_type": "markdown",
   "metadata": {},
   "source": [
    "#### Examples\n",
    "\n",
    "1. Create the vector (1,2,3,4,5,6) using the ``seq`` command in R.\n",
    "\n",
    "2. Add 2 to every element in the vector.\n",
    "\n",
    "3. Square every element of the original vector."
   ]
  },
  {
   "cell_type": "markdown",
   "metadata": {},
   "source": [
    "#### Vectors, lists, and matrices\n",
    "\n",
    "Linear algebra is not a pre-requisite for this course, so for our purposes, we will think of vectors as lists of numbers and matrices as two-dimensional arrays of numbers. They are much, much more than that, but that material is very much beyond the scope of this course. We will also mention (for those for whom it is meaningful) that vectors can be multiplied (in various ways) and matrices and vectors are related objects, and we can also multiply matrices together as well as multiply vectors and matrices.\n",
    "\n",
    "##### Creating vectors lists and matrices\n",
    "\n",
    "- The *concatenate* function in R builds vectors. We can also obtain vectors from other functions as we have seen in the start of these notes with the function ``seq`` <br><br>\n",
    "\n",
    "- Matrices are built with the command ``matrix``. They can also be constructed from vectors or returned from certain functions.<br><br>\n",
    "\n",
    "- Lists are created with the ``list`` function."
   ]
  },
  {
   "cell_type": "code",
   "execution_count": 47,
   "metadata": {},
   "outputs": [
    {
     "name": "stdout",
     "output_type": "stream",
     "text": [
      "[1] 1 2 3 4\n",
      "[1] \"This\"      \"is\"        \"a\"         \"character\" \"vector\"   \n"
     ]
    }
   ],
   "source": [
    "## Example of vector creation\n",
    "\n",
    "v <- c(1,2,3,4)\n",
    "print(v)\n",
    "\n",
    "w <- c(\"This\", \"is\", \"a\", \"character\", \"vector\")\n",
    "print(w)"
   ]
  },
  {
   "cell_type": "code",
   "execution_count": 49,
   "metadata": {},
   "outputs": [
    {
     "name": "stdout",
     "output_type": "stream",
     "text": [
      "     [,1] [,2] [,3]\n",
      "[1,]    1    5    9\n",
      "[2,]    2    6   10\n",
      "[3,]    3    7   11\n",
      "[4,]    4    8   12\n",
      "     [,1]   [,2]        [,3]     [,4]  \n",
      "[1,] \"This\" \"a\"         \"matrix\" \"two\" \n",
      "[2,] \"is\"   \"character\" \"with\"   \"rows\"\n"
     ]
    }
   ],
   "source": [
    "## Example of matrix creation\n",
    "\n",
    "## First just create a vector of entries\n",
    "matrix_entries <- c(1,2,3,4,5,6,7,8,9,10,11,12)\n",
    "\n",
    "M <- matrix(matrix_entries, ncol = 3, nrow = 4)\n",
    "print(M)\n",
    "\n",
    "matrix_entries <- c(\"This\", \"is\", \"a\", \"character\", \"matrix\", \"with\", \"two\", \"rows\")\n",
    "N <-  matrix(matrix_entries, nrow = 2)\n",
    "print(N)"
   ]
  },
  {
   "cell_type": "code",
   "execution_count": 31,
   "metadata": {},
   "outputs": [
    {
     "name": "stdout",
     "output_type": "stream",
     "text": [
      "     [,1] [,2]\n",
      "[1,]    1    7\n",
      "[2,]    2    8\n",
      "[3,]    3    9\n",
      "[4,]    4   10\n",
      "[5,]    5   11\n",
      "[6,]    6   12\n"
     ]
    }
   ],
   "source": [
    "## We can create matrices of different dimensions\n",
    "\n",
    "N <- matrix(matrix_entries, ncol = 2, nrow = 6)\n",
    "print(N)"
   ]
  },
  {
   "cell_type": "code",
   "execution_count": 32,
   "metadata": {},
   "outputs": [
    {
     "name": "stdout",
     "output_type": "stream",
     "text": [
      "            new_column\n",
      "[1,] 1 5  9          1\n",
      "[2,] 2 6 10          1\n",
      "[3,] 3 7 11          1\n",
      "[4,] 4 8 12          1\n"
     ]
    }
   ],
   "source": [
    "## add rows or columns with row bind (``rbind``) or column bind (``cbind``)\n",
    "\n",
    "## First create a vector of the appropriate length:\n",
    "\n",
    "new_column <- rep(1,4)\n",
    "\n",
    "P <- cbind(M, new_column)\n",
    "print(P)"
   ]
  },
  {
   "cell_type": "markdown",
   "metadata": {},
   "source": [
    "#### Examples\n",
    "\n",
    "1. Create 3 vectors, one using concatenate, one using ``rep`` and one using ``seq``\n",
    "\n",
    "2. Create 3 matrices: one 2x2, one 6x4, one a 4x4 with ones on the diagonal and zeroes everywhere else.\n",
    "\n",
    "3. Use cbind and rbind to add one row and one column to the 6x4 matrix."
   ]
  },
  {
   "cell_type": "code",
   "execution_count": 33,
   "metadata": {},
   "outputs": [],
   "source": [
    "# Your code here"
   ]
  },
  {
   "cell_type": "markdown",
   "metadata": {},
   "source": [
    "#### Common Operations on Vectors and Matrices\n",
    "\n",
    "Two major categories of vector operations are\n",
    "\n",
    "- Componentwise operations\n",
    "- Summary operations\n",
    "\n",
    "We have already seen some componentwise operations (e.g. the doubling example). Let's look at some summary operations and we will do some more componentwise in the examples."
   ]
  },
  {
   "cell_type": "code",
   "execution_count": 34,
   "metadata": {},
   "outputs": [
    {
     "data": {
      "text/html": [
       "35"
      ],
      "text/latex": [
       "35"
      ],
      "text/markdown": [
       "35"
      ],
      "text/plain": [
       "[1] 35"
      ]
     },
     "metadata": {},
     "output_type": "display_data"
    }
   ],
   "source": [
    "## Sum of the components of a vector\n",
    "\n",
    "v <- c(1,2,5,8,9,10)\n",
    "sum(v)"
   ]
  },
  {
   "cell_type": "code",
   "execution_count": 35,
   "metadata": {},
   "outputs": [
    {
     "data": {
      "text/html": [
       "5.83333333333333"
      ],
      "text/latex": [
       "5.83333333333333"
      ],
      "text/markdown": [
       "5.83333333333333"
      ],
      "text/plain": [
       "[1] 5.833333"
      ]
     },
     "metadata": {},
     "output_type": "display_data"
    }
   ],
   "source": [
    "## mean\n",
    "\n",
    "mean(v)"
   ]
  },
  {
   "cell_type": "code",
   "execution_count": 36,
   "metadata": {},
   "outputs": [
    {
     "data": {
      "text/html": [
       "6.5"
      ],
      "text/latex": [
       "6.5"
      ],
      "text/markdown": [
       "6.5"
      ],
      "text/plain": [
       "[1] 6.5"
      ]
     },
     "metadata": {},
     "output_type": "display_data"
    }
   ],
   "source": [
    "## median\n",
    "\n",
    "median(v)"
   ]
  },
  {
   "cell_type": "markdown",
   "metadata": {},
   "source": [
    "#### Examples\n",
    "\n",
    "1. Create two vectors length 3 using the concatenate function. What happens when you add them using `+`?\n",
    "\n",
    "2. Create a third vector of length 2. What happens if you try to add that vector to one of the others?\n",
    "\n",
    "3. Create another vector of length 4. Add it to the vector of length 2. What do you observe?\n",
    "\n",
    "4. We have examples of sum, mean and median summary operations. Can you find some others?\n",
    "\n",
    "5. Try the functions ``sort`` and ``sample``. What do they do? Try ``sample`` with and without replacement.\n"
   ]
  },
  {
   "cell_type": "code",
   "execution_count": 37,
   "metadata": {},
   "outputs": [],
   "source": [
    "## Your code here"
   ]
  },
  {
   "cell_type": "markdown",
   "metadata": {},
   "source": [
    "#### Functions\n",
    "\n",
    "A function is code that behaves like a black box - you give it some input and it returns some output. Functions are essential because they allow you to design potentially complicated algorithms without having to keep track of the algorithmic details - all you need to remember are the function name (which you can search with `apropos` or by prepending `??` to the search term), the input arguments (TAB provides these), and what type of output will be generated. Most of R's usefulness comes from the large collection of functions that it provides - for example, `library()`, `seq()`, `as.fractions()` are all functions. You can also write your own R functions - this will be covered in detail in a later session - but we show the basics here.\n",
    "\n",
    "##### Creating a function\n",
    "\n",
    "A function has the following structure\n",
    "\n",
    "```R\n",
    "function_name <- function(arguments) {\n",
    "    body_of_function\n",
    "    return(result)\n",
    "}\n",
    "```\n",
    "\n",
    "**function_name** is defined by the user (you). It can be anything you like, but meaningfulnames are encouraged to make code more readable to humans. \n",
    "\n",
    "**function** is a keyword (one that has special meaning to R). It tells R that this is a function you are defining (as opposed to a variable).\n",
    "\n",
    "**arguments** are inputs to the function. Usually, when you write a function, you want it to do something to a variable or variables.\n",
    "\n",
    "**body_of_function** is a list of R commands. They are whatever you wish this function to do with the arguments.\n",
    "\n",
    "**return** is a keyword. It tells R to send something back to the code that 'called' it.\n",
    "\n",
    "**result** is user-defined. It is whatever you want R to send back to the code that called this function.\n",
    "\n",
    "\n",
    "The simple example below will make this explicit.   "
   ]
  },
  {
   "cell_type": "code",
   "execution_count": 43,
   "metadata": {},
   "outputs": [],
   "source": [
    "MyFunc <- function(a, b) {\n",
    "    c <- a * b\n",
    "    d <- a + 2*b\n",
    "    return(d)\n",
    "}"
   ]
  },
  {
   "cell_type": "markdown",
   "metadata": {},
   "source": [
    "**function_name** is MyFunc\n",
    "\n",
    "**arguments** are a and b\n",
    "\n",
    "**body_of_function** is\n",
    "\n",
    "      c <- a * b\n",
    "      d <- a + 2 * b\n",
    "\n",
    "**result** is d"
   ]
  },
  {
   "cell_type": "code",
   "execution_count": 44,
   "metadata": {},
   "outputs": [
    {
     "data": {
      "text/html": [
       "13"
      ],
      "text/latex": [
       "13"
      ],
      "text/markdown": [
       "13"
      ],
      "text/plain": [
       "[1] 13"
      ]
     },
     "metadata": {},
     "output_type": "display_data"
    }
   ],
   "source": [
    "MyFunc(5, 4)"
   ]
  },
  {
   "cell_type": "code",
   "execution_count": 45,
   "metadata": {},
   "outputs": [
    {
     "data": {
      "text/html": [
       "13"
      ],
      "text/latex": [
       "13"
      ],
      "text/markdown": [
       "13"
      ],
      "text/plain": [
       "[1] 13"
      ]
     },
     "metadata": {},
     "output_type": "display_data"
    }
   ],
   "source": [
    "MyFunc(b = 4, a = 5)"
   ]
  },
  {
   "cell_type": "code",
   "execution_count": 46,
   "metadata": {},
   "outputs": [
    {
     "data": {
      "text/html": [
       "14"
      ],
      "text/latex": [
       "14"
      ],
      "text/markdown": [
       "14"
      ],
      "text/plain": [
       "[1] 14"
      ]
     },
     "metadata": {},
     "output_type": "display_data"
    }
   ],
   "source": [
    "MyFunc(4, 5)"
   ]
  },
  {
   "cell_type": "markdown",
   "metadata": {},
   "source": [
    "#### Examples\n",
    "\n",
    "1. Write a function that takes as input principal, interest rate, compoundings per period and number of periods and returns current amount.\n",
    "\n",
    "2. Write a function that takes as input two points, x and y, and returns the distance between them.\n"
   ]
  },
  {
   "cell_type": "markdown",
   "metadata": {},
   "source": [
    "### Lists and Data Frames\n",
    "\n",
    "A more general data structure in R is something called a list. Lists can have elements that are pretty much anything. For example, we can create a list of three members whose first element is a character vector, second element is a matrix and a third is a numeric vector. There is no restriction on length or type. Lists can even have other lists as elements. \n",
    "\n",
    "This is important, because Bioconductor packages often make use of something called S4 objects. These are really just complicated lists (with functions that act on them). \n",
    "\n",
    "#### Simple list"
   ]
  },
  {
   "cell_type": "code",
   "execution_count": 61,
   "metadata": {},
   "outputs": [
    {
     "name": "stdout",
     "output_type": "stream",
     "text": [
      "[1] \"a\"         \"character\" \"vector\"   \n",
      "     [,1] [,2] [,3]\n",
      "[1,]    1    5    9\n",
      "[2,]    2    6   10\n",
      "[3,]    3    7   11\n",
      "[4,]    4    8   12\n",
      "[1] 2 3 4 5\n",
      "$first\n",
      "[1] \"a\"         \"character\" \"vector\"   \n",
      "\n",
      "$second\n",
      "     [,1] [,2] [,3]\n",
      "[1,]    1    5    9\n",
      "[2,]    2    6   10\n",
      "[3,]    3    7   11\n",
      "[4,]    4    8   12\n",
      "\n",
      "$third\n",
      "[1] 2 3 4 5\n",
      "\n"
     ]
    }
   ],
   "source": [
    "a <- c(\"a\", \"character\", \"vector\")\n",
    "b <- matrix(1:12, nrow = 4)\n",
    "c <- 2:5\n",
    "\n",
    "print(a)\n",
    "print(b)\n",
    "print(c)\n",
    "\n",
    "my_list <- list(first = a, second = b, third = c)\n",
    "\n",
    "print(my_list)"
   ]
  },
  {
   "cell_type": "markdown",
   "metadata": {},
   "source": [
    "Note hoe the elements are named. Writing \"first = \" names the first element 'first'. Now, we can access elements of the list in different ways:"
   ]
  },
  {
   "cell_type": "code",
   "execution_count": 62,
   "metadata": {},
   "outputs": [
    {
     "data": {
      "text/html": [
       "<strong>$first</strong> = <ol class=list-inline>\n",
       "\t<li>'a'</li>\n",
       "\t<li>'character'</li>\n",
       "\t<li>'vector'</li>\n",
       "</ol>\n"
      ],
      "text/latex": [
       "\\textbf{\\$first} = \\begin{enumerate*}\n",
       "\\item 'a'\n",
       "\\item 'character'\n",
       "\\item 'vector'\n",
       "\\end{enumerate*}\n"
      ],
      "text/markdown": [
       "**$first** = 1. 'a'\n",
       "2. 'character'\n",
       "3. 'vector'\n",
       "\n",
       "\n"
      ],
      "text/plain": [
       "$first\n",
       "[1] \"a\"         \"character\" \"vector\"   \n"
      ]
     },
     "metadata": {},
     "output_type": "display_data"
    }
   ],
   "source": [
    "my_list[1]"
   ]
  },
  {
   "cell_type": "code",
   "execution_count": 63,
   "metadata": {},
   "outputs": [
    {
     "data": {
      "text/html": [
       "<strong>$second</strong> = <table>\n",
       "<tbody>\n",
       "\t<tr><td>1 </td><td>5 </td><td> 9</td></tr>\n",
       "\t<tr><td>2 </td><td>6 </td><td>10</td></tr>\n",
       "\t<tr><td>3 </td><td>7 </td><td>11</td></tr>\n",
       "\t<tr><td>4 </td><td>8 </td><td>12</td></tr>\n",
       "</tbody>\n",
       "</table>\n"
      ],
      "text/latex": [
       "\\textbf{\\$second} = \\begin{tabular}{lll}\n",
       "\t 1  & 5  &  9\\\\\n",
       "\t 2  & 6  & 10\\\\\n",
       "\t 3  & 7  & 11\\\\\n",
       "\t 4  & 8  & 12\\\\\n",
       "\\end{tabular}\n"
      ],
      "text/markdown": [
       "**$second** = \n",
       "| 1  | 5  |  9 | \n",
       "| 2  | 6  | 10 | \n",
       "| 3  | 7  | 11 | \n",
       "| 4  | 8  | 12 | \n",
       "\n",
       "\n"
      ],
      "text/plain": [
       "$second\n",
       "     [,1] [,2] [,3]\n",
       "[1,]    1    5    9\n",
       "[2,]    2    6   10\n",
       "[3,]    3    7   11\n",
       "[4,]    4    8   12\n"
      ]
     },
     "metadata": {},
     "output_type": "display_data"
    }
   ],
   "source": [
    "my_list[\"second\"]"
   ]
  },
  {
   "cell_type": "code",
   "execution_count": 64,
   "metadata": {},
   "outputs": [
    {
     "data": {
      "text/html": [
       "<ol class=list-inline>\n",
       "\t<li>2</li>\n",
       "\t<li>3</li>\n",
       "\t<li>4</li>\n",
       "\t<li>5</li>\n",
       "</ol>\n"
      ],
      "text/latex": [
       "\\begin{enumerate*}\n",
       "\\item 2\n",
       "\\item 3\n",
       "\\item 4\n",
       "\\item 5\n",
       "\\end{enumerate*}\n"
      ],
      "text/markdown": [
       "1. 2\n",
       "2. 3\n",
       "3. 4\n",
       "4. 5\n",
       "\n",
       "\n"
      ],
      "text/plain": [
       "[1] 2 3 4 5"
      ]
     },
     "metadata": {},
     "output_type": "display_data"
    }
   ],
   "source": [
    "my_list$third"
   ]
  },
  {
   "cell_type": "markdown",
   "metadata": {},
   "source": [
    "The '$' is probably the most often used, but there is a lot of old R code out there where lists are accessed by the element number (you would also use element number when looping over a list, but you should probably not be doing that anyway!)"
   ]
  },
  {
   "cell_type": "markdown",
   "metadata": {},
   "source": [
    "#### Data frames\n",
    "\n",
    "Data frames are lists where each element has the same number of columns. This is the data structure most often seen in R code, and many functions are specialized to work on them easily. We can create one from scratch:"
   ]
  },
  {
   "cell_type": "code",
   "execution_count": 65,
   "metadata": {},
   "outputs": [
    {
     "data": {
      "text/html": [
       "<table>\n",
       "<thead><tr><th scope=col>name</th><th scope=col>species</th><th scope=col>age</th></tr></thead>\n",
       "<tbody>\n",
       "\t<tr><td>bast    </td><td>cat     </td><td>9       </td></tr>\n",
       "\t<tr><td>dash    </td><td>cat     </td><td>9       </td></tr>\n",
       "\t<tr><td>chestnut</td><td>dog     </td><td>7       </td></tr>\n",
       "\t<tr><td>tibbs   </td><td>dog     </td><td>8       </td></tr>\n",
       "</tbody>\n",
       "</table>\n"
      ],
      "text/latex": [
       "\\begin{tabular}{r|lll}\n",
       " name & species & age\\\\\n",
       "\\hline\n",
       "\t bast     & cat      & 9       \\\\\n",
       "\t dash     & cat      & 9       \\\\\n",
       "\t chestnut & dog      & 7       \\\\\n",
       "\t tibbs    & dog      & 8       \\\\\n",
       "\\end{tabular}\n"
      ],
      "text/markdown": [
       "\n",
       "name | species | age | \n",
       "|---|---|---|---|\n",
       "| bast     | cat      | 9        | \n",
       "| dash     | cat      | 9        | \n",
       "| chestnut | dog      | 7        | \n",
       "| tibbs    | dog      | 8        | \n",
       "\n",
       "\n"
      ],
      "text/plain": [
       "  name     species age\n",
       "1 bast     cat     9  \n",
       "2 dash     cat     9  \n",
       "3 chestnut dog     7  \n",
       "4 tibbs    dog     8  "
      ]
     },
     "metadata": {},
     "output_type": "display_data"
    }
   ],
   "source": [
    "names <- c(\"bast\", \"dash\", \"chestnut\", \"tibbs\")\n",
    "species <- c(\"cat\", \"cat\", \"dog\", \"dog\")\n",
    "ages <- c(9, 9, 7, 8)\n",
    "\n",
    "df <- data.frame(name = names, species = species, age = ages)\n",
    "df"
   ]
  },
  {
   "cell_type": "markdown",
   "metadata": {},
   "source": [
    "R also has many built-in data frames that can be used to experiment or for examples."
   ]
  },
  {
   "cell_type": "code",
   "execution_count": 66,
   "metadata": {},
   "outputs": [
    {
     "data": {
      "text/html": [
       "<table>\n",
       "<thead><tr><th scope=col>Sepal.Length</th><th scope=col>Sepal.Width</th><th scope=col>Petal.Length</th><th scope=col>Petal.Width</th><th scope=col>Species</th></tr></thead>\n",
       "<tbody>\n",
       "\t<tr><td>5.1   </td><td>3.5   </td><td>1.4   </td><td>0.2   </td><td>setosa</td></tr>\n",
       "\t<tr><td>4.9   </td><td>3.0   </td><td>1.4   </td><td>0.2   </td><td>setosa</td></tr>\n",
       "\t<tr><td>4.7   </td><td>3.2   </td><td>1.3   </td><td>0.2   </td><td>setosa</td></tr>\n",
       "\t<tr><td>4.6   </td><td>3.1   </td><td>1.5   </td><td>0.2   </td><td>setosa</td></tr>\n",
       "\t<tr><td>5.0   </td><td>3.6   </td><td>1.4   </td><td>0.2   </td><td>setosa</td></tr>\n",
       "\t<tr><td>5.4   </td><td>3.9   </td><td>1.7   </td><td>0.4   </td><td>setosa</td></tr>\n",
       "</tbody>\n",
       "</table>\n"
      ],
      "text/latex": [
       "\\begin{tabular}{r|lllll}\n",
       " Sepal.Length & Sepal.Width & Petal.Length & Petal.Width & Species\\\\\n",
       "\\hline\n",
       "\t 5.1    & 3.5    & 1.4    & 0.2    & setosa\\\\\n",
       "\t 4.9    & 3.0    & 1.4    & 0.2    & setosa\\\\\n",
       "\t 4.7    & 3.2    & 1.3    & 0.2    & setosa\\\\\n",
       "\t 4.6    & 3.1    & 1.5    & 0.2    & setosa\\\\\n",
       "\t 5.0    & 3.6    & 1.4    & 0.2    & setosa\\\\\n",
       "\t 5.4    & 3.9    & 1.7    & 0.4    & setosa\\\\\n",
       "\\end{tabular}\n"
      ],
      "text/markdown": [
       "\n",
       "Sepal.Length | Sepal.Width | Petal.Length | Petal.Width | Species | \n",
       "|---|---|---|---|---|---|\n",
       "| 5.1    | 3.5    | 1.4    | 0.2    | setosa | \n",
       "| 4.9    | 3.0    | 1.4    | 0.2    | setosa | \n",
       "| 4.7    | 3.2    | 1.3    | 0.2    | setosa | \n",
       "| 4.6    | 3.1    | 1.5    | 0.2    | setosa | \n",
       "| 5.0    | 3.6    | 1.4    | 0.2    | setosa | \n",
       "| 5.4    | 3.9    | 1.7    | 0.4    | setosa | \n",
       "\n",
       "\n"
      ],
      "text/plain": [
       "  Sepal.Length Sepal.Width Petal.Length Petal.Width Species\n",
       "1 5.1          3.5         1.4          0.2         setosa \n",
       "2 4.9          3.0         1.4          0.2         setosa \n",
       "3 4.7          3.2         1.3          0.2         setosa \n",
       "4 4.6          3.1         1.5          0.2         setosa \n",
       "5 5.0          3.6         1.4          0.2         setosa \n",
       "6 5.4          3.9         1.7          0.4         setosa "
      ]
     },
     "metadata": {},
     "output_type": "display_data"
    },
    {
     "data": {
      "image/png": "[encoded data removed]",
      "text/plain": [
       "Plot with title “Histogram of iris$Petal.Length”"
      ]
     },
     "metadata": {},
     "output_type": "display_data"
    }
   ],
   "source": [
    "head(iris)\n",
    "\n",
    "hist(iris$Petal.Length)"
   ]
  },
  {
   "cell_type": "markdown",
   "metadata": {},
   "source": [
    "We can also create a data frame from a .csv file."
   ]
  },
  {
   "cell_type": "code",
   "execution_count": 60,
   "metadata": {},
   "outputs": [
    {
     "name": "stderr",
     "output_type": "stream",
     "text": [
      "Warning message in file(file, \"rt\"):\n",
      "“cannot open file 'titanic.csv': No such file or directory”"
     ]
    },
    {
     "ename": "ERROR",
     "evalue": "Error in file(file, \"rt\"): cannot open the connection\n",
     "output_type": "error",
     "traceback": [
      "Error in file(file, \"rt\"): cannot open the connection\nTraceback:\n",
      "1. read.csv(\"titanic.csv\")",
      "2. read.table(file = file, header = header, sep = sep, quote = quote, \n .     dec = dec, fill = fill, comment.char = comment.char, ...)",
      "3. file(file, \"rt\")"
     ]
    }
   ],
   "source": [
    "titanic_df <- read.csv(\"titanic.csv\")\n",
    "head(titanic_df)"
   ]
  },
  {
   "cell_type": "markdown",
   "metadata": {},
   "source": [
    "#### Examples\n",
    "\n",
    "1. Explore the data frame mtcars. What variables does it contain? What are their data types?\n",
    "\n",
    "2. What is the average miles-per-gallon for a car with 4 cylinders? How about 8?\n",
    "\n",
    "3. Plot a histogram of the vehicle weight.\n"
   ]
  },
  {
   "cell_type": "code",
   "execution_count": 67,
   "metadata": {},
   "outputs": [
    {
     "data": {
      "text/html": [
       "<table>\n",
       "<thead><tr><th></th><th scope=col>mpg</th><th scope=col>cyl</th><th scope=col>disp</th><th scope=col>hp</th><th scope=col>drat</th><th scope=col>wt</th><th scope=col>qsec</th><th scope=col>vs</th><th scope=col>am</th><th scope=col>gear</th><th scope=col>carb</th></tr></thead>\n",
       "<tbody>\n",
       "\t<tr><th scope=row>Mazda RX4</th><td>21.0 </td><td>6    </td><td>160  </td><td>110  </td><td>3.90 </td><td>2.620</td><td>16.46</td><td>0    </td><td>1    </td><td>4    </td><td>4    </td></tr>\n",
       "\t<tr><th scope=row>Mazda RX4 Wag</th><td>21.0 </td><td>6    </td><td>160  </td><td>110  </td><td>3.90 </td><td>2.875</td><td>17.02</td><td>0    </td><td>1    </td><td>4    </td><td>4    </td></tr>\n",
       "\t<tr><th scope=row>Datsun 710</th><td>22.8 </td><td>4    </td><td>108  </td><td> 93  </td><td>3.85 </td><td>2.320</td><td>18.61</td><td>1    </td><td>1    </td><td>4    </td><td>1    </td></tr>\n",
       "\t<tr><th scope=row>Hornet 4 Drive</th><td>21.4 </td><td>6    </td><td>258  </td><td>110  </td><td>3.08 </td><td>3.215</td><td>19.44</td><td>1    </td><td>0    </td><td>3    </td><td>1    </td></tr>\n",
       "\t<tr><th scope=row>Hornet Sportabout</th><td>18.7 </td><td>8    </td><td>360  </td><td>175  </td><td>3.15 </td><td>3.440</td><td>17.02</td><td>0    </td><td>0    </td><td>3    </td><td>2    </td></tr>\n",
       "\t<tr><th scope=row>Valiant</th><td>18.1 </td><td>6    </td><td>225  </td><td>105  </td><td>2.76 </td><td>3.460</td><td>20.22</td><td>1    </td><td>0    </td><td>3    </td><td>1    </td></tr>\n",
       "</tbody>\n",
       "</table>\n"
      ],
      "text/latex": [
       "\\begin{tabular}{r|lllllllllll}\n",
       "  & mpg & cyl & disp & hp & drat & wt & qsec & vs & am & gear & carb\\\\\n",
       "\\hline\n",
       "\tMazda RX4 & 21.0  & 6     & 160   & 110   & 3.90  & 2.620 & 16.46 & 0     & 1     & 4     & 4    \\\\\n",
       "\tMazda RX4 Wag & 21.0  & 6     & 160   & 110   & 3.90  & 2.875 & 17.02 & 0     & 1     & 4     & 4    \\\\\n",
       "\tDatsun 710 & 22.8  & 4     & 108   &  93   & 3.85  & 2.320 & 18.61 & 1     & 1     & 4     & 1    \\\\\n",
       "\tHornet 4 Drive & 21.4  & 6     & 258   & 110   & 3.08  & 3.215 & 19.44 & 1     & 0     & 3     & 1    \\\\\n",
       "\tHornet Sportabout & 18.7  & 8     & 360   & 175   & 3.15  & 3.440 & 17.02 & 0     & 0     & 3     & 2    \\\\\n",
       "\tValiant & 18.1  & 6     & 225   & 105   & 2.76  & 3.460 & 20.22 & 1     & 0     & 3     & 1    \\\\\n",
       "\\end{tabular}\n"
      ],
      "text/markdown": [
       "\n",
       "| <!--/--> | mpg | cyl | disp | hp | drat | wt | qsec | vs | am | gear | carb | \n",
       "|---|---|---|---|---|---|\n",
       "| Mazda RX4 | 21.0  | 6     | 160   | 110   | 3.90  | 2.620 | 16.46 | 0     | 1     | 4     | 4     | \n",
       "| Mazda RX4 Wag | 21.0  | 6     | 160   | 110   | 3.90  | 2.875 | 17.02 | 0     | 1     | 4     | 4     | \n",
       "| Datsun 710 | 22.8  | 4     | 108   |  93   | 3.85  | 2.320 | 18.61 | 1     | 1     | 4     | 1     | \n",
       "| Hornet 4 Drive | 21.4  | 6     | 258   | 110   | 3.08  | 3.215 | 19.44 | 1     | 0     | 3     | 1     | \n",
       "| Hornet Sportabout | 18.7  | 8     | 360   | 175   | 3.15  | 3.440 | 17.02 | 0     | 0     | 3     | 2     | \n",
       "| Valiant | 18.1  | 6     | 225   | 105   | 2.76  | 3.460 | 20.22 | 1     | 0     | 3     | 1     | \n",
       "\n",
       "\n"
      ],
      "text/plain": [
       "                  mpg  cyl disp hp  drat wt    qsec  vs am gear carb\n",
       "Mazda RX4         21.0 6   160  110 3.90 2.620 16.46 0  1  4    4   \n",
       "Mazda RX4 Wag     21.0 6   160  110 3.90 2.875 17.02 0  1  4    4   \n",
       "Datsun 710        22.8 4   108   93 3.85 2.320 18.61 1  1  4    1   \n",
       "Hornet 4 Drive    21.4 6   258  110 3.08 3.215 19.44 1  0  3    1   \n",
       "Hornet Sportabout 18.7 8   360  175 3.15 3.440 17.02 0  0  3    2   \n",
       "Valiant           18.1 6   225  105 2.76 3.460 20.22 1  0  3    1   "
      ]
     },
     "metadata": {},
     "output_type": "display_data"
    }
   ],
   "source": []
  },
  {
   "cell_type": "code",
   "execution_count": null,
   "metadata": {},
   "outputs": [],
   "source": []
  }
 ],
 "metadata": {
  "kernelspec": {
   "display_name": "R",
   "language": "R",
   "name": "ir"
  },
  "language_info": {
   "codemirror_mode": "r",
   "file_extension": ".r",
   "mimetype": "text/x-r-source",
   "name": "R",
   "pygments_lexer": "r",
   "version": "3.4.1"
  }
 },
 "nbformat": 4,
 "nbformat_minor": 1
}
