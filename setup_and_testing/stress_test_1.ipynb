{
 "cells": [
  {
   "cell_type": "markdown",
   "metadata": {},
   "source": [
    "# Analyze 2018 Pilot runs in Parallel\n",
    "\n",
    "## Shell Variables\n",
    "Assign the variables in this notebook."
   ]
  },
  {
   "cell_type": "code",
   "execution_count": null,
   "metadata": {},
   "outputs": [],
   "source": [
    "source stress_test_config.sh\n",
    "rm -rf $CUROUT"
   ]
  },
  {
   "cell_type": "code",
   "execution_count": null,
   "metadata": {},
   "outputs": [],
   "source": [
    "# # ftp://ftp.ncbi.nlm.nih.gov/genomes/refseq/fungi/Cryptococcus_neoformans/all_assembly_versions/GCF_000149245.1_CNA3\n",
    "# ftp://ftp.ensemblgenomes.org/pub/release-39/fungi/fasta/fungi_basidiomycota1_collection/cryptococcus_neoformans_var_grubii_h99/dna/Cryptococcus_neoformans_var_grubii_h99.CNA3.dna.toplevel.fa.gz\n",
    "# ftp://ftp.ensemblgenomes.org/pub/release-39/fungi/gff3/fungi_basidiomycota1_collection/cryptococcus_neoformans_var_grubii_h99/Cryptococcus_neoformans_var_grubii_h99.CNA3.39.gff3.gz\n",
    "\n",
    "for CUR in $FA_URL $GTF_URL ; do\n",
    "    wget --directory-prefix ${GENOME_DIR} ${CUR}\n",
    "done"
   ]
  },
  {
   "cell_type": "code",
   "execution_count": null,
   "metadata": {},
   "outputs": [],
   "source": [
    "gunzip --force ${GENOME_DIR}/${GTF}.gz\n",
    "gunzip --force ${GENOME_DIR}/${FA}.gz"
   ]
  },
  {
   "cell_type": "code",
   "execution_count": null,
   "metadata": {},
   "outputs": [],
   "source": [
    "STAR \\\n",
    "    --runThreadN $THREADS \\\n",
    "    --runMode genomeGenerate \\\n",
    "    --genomeDir $GENOME_DIR \\\n",
    "    --genomeFastaFiles ${GENOME_DIR}/${FA} \\\n",
    "    --sjdbGTFfile ${GENOME_DIR}/${GTF} \\\n",
    "    --sjdbGTFfeatureExon exon \\\n",
    "    --sjdbGTFtagExonParentTranscript transcript_id \\\n",
    "    --sjdbGTFtagExonParentGene gene_id \\\n",
    "    --genomeSAindexNbases 6"
   ]
  }
 ],
 "metadata": {
  "kernelspec": {
   "display_name": "Bash",
   "language": "bash",
   "name": "bash"
  },
  "language_info": {
   "codemirror_mode": "shell",
   "file_extension": ".sh",
   "mimetype": "text/x-sh",
   "name": "bash"
  }
 },
 "nbformat": 4,
 "nbformat_minor": 1
}
