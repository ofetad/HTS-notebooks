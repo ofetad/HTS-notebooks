{
 "cells": [
  {
   "cell_type": "markdown",
   "metadata": {},
   "source": [
    "# Analyze 2018 Pilot runs in Parallel\n",
    "\n",
    "## Shell Variables\n",
    "Assign the variables in this notebook."
   ]
  },
  {
   "cell_type": "code",
   "execution_count": null,
   "metadata": {},
   "outputs": [],
   "source": [
    "source stress_test_config.sh"
   ]
  },
  {
   "cell_type": "markdown",
   "metadata": {},
   "source": [
    "### Running the full pipeline on all the samples"
   ]
  },
  {
   "cell_type": "code",
   "execution_count": null,
   "metadata": {},
   "outputs": [],
   "source": [
    "star_func() {\n",
    "    FASTQ=$1\n",
    "    FASTQ_BASE=${FASTQ##*/} # strip directory from file path\n",
    "    SAMPLE=\"${FASTQ_BASE%_R1_001.fastq.gz}\" # strip .fq.gz file extension\n",
    "    echo $SAMPLE\n",
    "    echo $FASTQ\n",
    "    echo $FASTQ_BASE\n",
    "    # exit 1\n",
    "    \n",
    "    /usr/bin/time -v --format='(%Xtext+%Ddata %Mmax)' STAR \\\n",
    "    --runMode alignReads \\\n",
    "    --runThreadN $THREADS \\\n",
    "    --readFilesCommand zcat \\\n",
    "    --genomeDir $GENOME_DIR \\\n",
    "    --outSAMtype BAM SortedByCoordinate \\\n",
    "    --quantMode GeneCounts \\\n",
    "    --genomeLoad LoadAndKeep \\\n",
    "    --twopassMode None \\\n",
    "    --limitBAMsortRAM 1280000000 \\\n",
    "    --outFileNamePrefix ${STAR_OUT}/${SAMPLE}_ \\\n",
    "    --outFilterScoreMinOverLread 0 --outFilterMatchNminOverLread 0 \\\n",
    "    --outFilterMatchNmin 0 --outFilterMismatchNmax 2 \\\n",
    "    --readFilesIn $TRIMMED/${SAMPLE}.trim.fastq.gz\n",
    "}\n",
    "export -f star_func\n",
    "\n",
    "STAR --genomeDir $GENOME_DIR \\\n",
    "    --outFileNamePrefix ${STAR_OUT}/genomeload_ \\\n",
    "    --genomeLoad LoadAndExit \n",
    "\n",
    "# parallel --jobs $MAX_JOBS star_func ::: $RAW_FASTQS/35_MA_*_L001_R1_001.fastq.gz\n",
    "# parallel --jobs $MAX_JOBS star_func ::: $RAW_FASTQS/*_L001_R1_001.fastq.gz\n",
    "# parallel --jobs $MAX_JOBS star_func ::: $RAW_FASTQS/[3-4]_RZ_*_L001_R1_001.fastq.gz\n",
    "parallel --jobs $MAX_JOBS star_func ::: $RAW_FASTQS/4_RZ_P_S43_L003_R1_001.fastq.gz $RAW_FASTQS/3_TOT_J_S34_L003_R1_001.fastq.gz\n",
    "\n",
    "STAR --genomeDir $GENOME_DIR \\\n",
    "    --outFileNamePrefix ${STAR_OUT}/genomeremove_ \\\n",
    "    --genomeLoad Remove "
   ]
  }
 ],
 "metadata": {
  "kernelspec": {
   "display_name": "Bash",
   "language": "bash",
   "name": "bash"
  },
  "language_info": {
   "codemirror_mode": "shell",
   "file_extension": ".sh",
   "mimetype": "text/x-sh",
   "name": "bash"
  }
 },
 "nbformat": 4,
 "nbformat_minor": 1
}
