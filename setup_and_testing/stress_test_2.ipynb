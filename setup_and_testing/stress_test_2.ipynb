{
 "cells": [
  {
   "cell_type": "markdown",
   "metadata": {},
   "source": [
    "# Analyze 2018 Pilot runs in Parallel\n",
    "\n",
    "## Shell Variables\n",
    "Assign the variables in this notebook."
   ]
  },
  {
   "cell_type": "code",
   "execution_count": null,
   "metadata": {},
   "outputs": [],
   "source": [
    "source stress_test_config.sh\n",
    "ls $DATA_BASE"
   ]
  },
  {
   "cell_type": "markdown",
   "metadata": {},
   "source": [
    "### Running the full pipeline on all the samples"
   ]
  },
  {
   "cell_type": "code",
   "execution_count": null,
   "metadata": {},
   "outputs": [],
   "source": [
    "trim_func() {\n",
    "    # echo $FASTQ\n",
    "    FASTQ=$1\n",
    "    FASTQ=${FASTQ##*/} # strip directory from file path\n",
    "    # echo $FASTQ\n",
    "    SAMPLE=\"${FASTQ%_L001_R1_001.fastq.gz}\" # strip .fq.gz file extension\n",
    "    echo $SAMPLE\n",
    "    # exit 1\n",
    "\n",
    "    # gunzip all 4 lanes for each sample into \n",
    "    # run fastq-mcf on both miseq runs (e.g. concatenate on the fly) using a named pipe\n",
    "    # see https://github.com/ExpressionAnalysis/ea-utils/blob/wiki/FastqMcf.md\n",
    "\n",
    "    # make a pipe\n",
    "    CUR_PIPE=`mktemp --dry-run`_${SAMPLE}_pipe.fq\n",
    "    mkfifo $CUR_PIPE\n",
    "    # gunzip each sample's reads from all 4 lanes into the pipe\n",
    "    # This generates a concatenated stream of all 4 lanes\n",
    "    # $RAW_FASTQS/1_MA_*_L001_R1_001.fastq.gz\n",
    "    ls $RAW_FASTQS/${SAMPLE}_L00[1-4]_R1_001.fastq.gz\n",
    "    gunzip -c $RAW_FASTQS/${SAMPLE}_L00[1-4]_R1_001.fastq.gz > $CUR_PIPE &\n",
    "\n",
    "    # Use the pipe as input to fastq-mcf\n",
    "    fastq-mcf \\\n",
    "        $ADAPTERS \\\n",
    "        $CUR_PIPE \\\n",
    "        -o $TRIMMED/${SAMPLE}.trim.fastq.gz \\\n",
    "        -q 20 -x 0.5\n",
    "\n",
    "    rm -f $CUR_PIPE\n",
    "}\n",
    "export -f trim_func\n",
    "\n",
    "# parallel --jobs 1 pipeline_func ::: $RAW_FASTQS/1_MA_*_L001_R1_001.fastq.gz\n",
    "# parallel --jobs $MAX_JOBS trim_func ::: $RAW_FASTQS/35_MA_*_L001_R1_001.fastq.gz\n",
    "# parallel --jobs $MAX_JOBS trim_func ::: $RAW_FASTQS/*_L001_R1_001.fastq.gz\n",
    "parallel --jobs $MAX_JOBS trim_func ::: $RAW_FASTQS/[3-4]_RZ_*_L001_R1_001.fastq.gz\n"
   ]
  }
 ],
 "metadata": {
  "kernelspec": {
   "display_name": "Bash",
   "language": "bash",
   "name": "bash"
  },
  "language_info": {
   "codemirror_mode": "shell",
   "file_extension": ".sh",
   "mimetype": "text/x-sh",
   "name": "bash"
  }
 },
 "nbformat": 4,
 "nbformat_minor": 1
}
