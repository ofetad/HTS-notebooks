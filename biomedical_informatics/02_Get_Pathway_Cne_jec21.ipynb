{
 "cells": [
  {
   "cell_type": "markdown",
   "metadata": {},
   "source": [
    "# Set environment"
   ]
  },
  {
   "cell_type": "code",
   "execution_count": 1,
   "metadata": {},
   "outputs": [],
   "source": [
    "source Pathway_config.sh"
   ]
  },
  {
   "cell_type": "code",
   "execution_count": 4,
   "metadata": {},
   "outputs": [
    {
     "name": "stdout",
     "output_type": "stream",
     "text": [
      "01_Get_Pathway_Info_01.ipynb    05_Pathway_Analysis_and_Exploration.ipynb\n",
      "01_Get_Pathway_Info_02.ipynb    get_pathways.ipynb\n",
      "02_Process_Pathway_Info.ipynb   \u001b[0m\u001b[01;34mInfo\u001b[0m\n",
      "03_View_Pathway.ipynb           Pathway_config.R\n",
      "04_Gene_Ortholog_Mapping.ipynb  Pathway_config.sh\n"
     ]
    }
   ],
   "source": [
    "ls"
   ]
  },
  {
   "cell_type": "markdown",
   "metadata": {},
   "source": [
    "# Download"
   ]
  },
  {
   "cell_type": "markdown",
   "metadata": {},
   "source": [
    "There are three cryptococcus strain in [KEGG](https://www.genome.jp/kegg/catalog/org_list.html)\n",
    "- [Cryptococcus neoformans var. neoformans JEC21](https://www.genome.jp/kegg-bin/show_organism?org=cne) `-> cne`\n",
    "- [Cryptococcus neoformans var. neoformans B-3501A](https://www.genome.jp/kegg-bin/show_organism?org=cnb) `-> cnb`\n",
    "- [Cryptococcus gattii WM276](https://www.genome.jp/kegg-bin/show_organism?org=cgi) `-> cgi`"
   ]
  },
  {
   "cell_type": "code",
   "execution_count": 5,
   "metadata": {},
   "outputs": [],
   "source": [
    "get_kegg_pathway -o cne > ${INFODIR}/genesets_cne.gmt"
   ]
  },
  {
   "cell_type": "markdown",
   "metadata": {},
   "source": [
    "Note: the format of ['Gene Matrix Transposed file format (.gmt)' file](https://software.broadinstitute.org/cancer/software/gsea/wiki/index.php/Data_formats#GMT:_Gene_Matrix_Transposed_file_format_.28.2A.gmt.29)"
   ]
  },
  {
   "cell_type": "code",
   "execution_count": 6,
   "metadata": {},
   "outputs": [
    {
     "name": "stdout",
     "output_type": "stream",
     "text": [
      "cne00010\tGlycolysis / Gluconeogenesis\tCNA00470\tCNA07130\tCNA07740\tCNB00300\tCNB02660\tCNB04050\tCNC00160\tCNC01860\tCNC03080\tCNC05140\tCND02060\tCND02450\tCND05840\tCNE00040\tCNE00710\tCNE05000\tCNE05250\tCNF03160\tCNF03900\tCNF04450\tCNG00600\tCNG02220\tCNH01400\tCNI00320\tCNI03590\tCNJ00950\tCNJ01080\tCNK00280\tCNK01070\tCNL05070\tCNL05600\tCNM00220\tCNM00290\tCNM01690\tCNN00430\n",
      "cne00020\tCitrate cycle (TCA cycle)\tCNA00510\tCNA03530\tCNA04610\tCNA07260\tCNB00800\tCNB00990\tCNB01730\tCNB04090\tCNC01700\tCND02450\tCND02620\tCND05840\tCNF00650\tCNF04450\tCNG01590\tCNG02080\tCNG03100\tCNG03480\tCNG03490\tCNI03270\tCNI03590\tCNJ00800\tCNJ02060\tCNL05600\n",
      "cne00030\tPentose phosphate pathway\tCNA00470\tCNA06630\tCNA08060\tCNB00300\tCNB04050\tCNB05080\tCNC00400\tCNC01860\tCND00940\tCND03390\tCND05060\tCNE03100\tCNE04030\tCNG02440\tCNG03280\tCNH00330\tCNJ01080\tCNJ01840\tCNK00070\tCNK01050\tCNK03170\tCNN00430\n",
      "cne00040\tPentose and glucuronate interconversions\tCNA01050\tCNA01160\tCNA06630\tCNB04710\tCNC03700\tCNC05140\tCNC06260\tCNC06430\tCNG00100\tCNH02960\tCNH03870\tCNL03870\tCNL06460\n",
      "cne00051\tFructose and mannose metabolism\tCNA00470\tCNA01050\tCNA05980\tCNA08050\tCNA08060\tCNB00300\tCNB01020\tCNB02660\tCNB05750\tCNB05760\tCNC01860\tCNC03020\tCNC04180\tCNE05000\tCNG00100\tCNG02580\tCNH00170\tCNH01400\tCNH02960\tCNI02370\tCNI03630\tCNJ01080\tCNJ01750\n",
      "cne00052\tGalactose metabolism\tCNA06760\tCNB02660\tCNB03650\tCNB04330\tCNC03700\tCNF00610\tCNH01310\tCNH01400\tCNI02060\tCNJ01080\tCNK00060\tCNM00600\tCNM00610\tCNM00620\tCNN00140\tCNN00430\n",
      "cne00053\tAscorbate and aldarate metabolism\tCNA07130\tCND02060\tCNF03900\tCNF03950\tCNG03010\tCNH03170\tCNJ01840\tCNL05070\tCNL06460\tCNM00220\tCNM00290\tCNN01640\n",
      "cne00061\tFatty acid biosynthesis\tCNC00660\tCNE04360\tCNE04370\tCNF02180\tCNI00710\n",
      "cne00062\tFatty acid elongation\tCNA00890\tCNA05060\tCNC03600\tCNE00730\tCNE01780\tCNH00460\tCNI00240\tCNI00690\tCNI02410\n",
      "cne00071\tFatty acid degradation\tCNA04700\tCNA05060\tCNA07130\tCNC00660\tCNC03600\tCNC05280\tCND02060\tCNE00710\tCNF03900\tCNG00320\tCNG00600\tCNG03020\tCNH00460\tCNI00240\tCNI00710\tCNI02410\tCNJ01190\tCNK00550\tCNL05070\tCNM00220\tCNM00290\tCNM01690\n"
     ]
    }
   ],
   "source": [
    "head ${INFODIR}/genesets_cne.gmt"
   ]
  },
  {
   "cell_type": "code",
   "execution_count": null,
   "metadata": {},
   "outputs": [],
   "source": []
  }
 ],
 "metadata": {
  "kernelspec": {
   "display_name": "Bash",
   "language": "bash",
   "name": "bash"
  },
  "language_info": {
   "codemirror_mode": "shell",
   "file_extension": ".sh",
   "mimetype": "text/x-sh",
   "name": "bash"
  }
 },
 "nbformat": 4,
 "nbformat_minor": 2
}
