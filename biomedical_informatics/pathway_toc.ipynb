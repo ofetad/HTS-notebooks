{
 "cells": [
  {
   "cell_type": "markdown",
   "metadata": {},
   "source": [
    "# Short Tutorial on Pathway Analysis"
   ]
  },
  {
   "cell_type": "markdown",
   "metadata": {},
   "source": [
    "This should be your current Folder structure\n",
    "```\n",
    "scratch\n",
    "└── analysis_output\n",
    "    ├── out -> the folder to store all our output data files\n",
    "    └── img -> the folder to store all our images  \n",
    "```"
   ]
  },
  {
   "cell_type": "markdown",
   "metadata": {},
   "source": [
    "Note: in case you do not have the same directories setup, you can run the code below\n",
    "```\n",
    "### Specify the directories\n",
    "CURDIR=\"$HOME/work/scratch/analysis_output\"\n",
    "OUTDIR=\"${CURDIR}/out\"\n",
    "IMGDIR=\"${CURDIR}/img\"\n",
    "\n",
    "### create the folders\n",
    "mkdir -p $OUTDIR\n",
    "mkdir -p $IMGDIR\n",
    "\n",
    "### check if everything works as you expected\n",
    "ls $CURDIR # should output \"img out\"\n",
    "```"
   ]
  },
  {
   "cell_type": "markdown",
   "metadata": {},
   "source": [
    "Those notebooks are used in this tutorial\n",
    "1. [Notebook: Prepare the matrix](prepare_matrix.ipynb)\n",
    "1. [Notebook: Get_Pathway_Cne_h99](get_pathway_cne_h99.ipynb)\n",
    "1. [Notebook: Pathway Analysis](pathway_analysis_gage.ipynb)\n",
    "1. [Notebook: Results and Visualization](pathway_results_visualization.ipynb)"
   ]
  },
  {
   "cell_type": "markdown",
   "metadata": {},
   "source": [
    "# What is our question?"
   ]
  },
  {
   "cell_type": "markdown",
   "metadata": {},
   "source": [
    "Below is a road map of the material we have already learned. I hope that this kind of gives you the global picture about where are we now."
   ]
  },
  {
   "cell_type": "markdown",
   "metadata": {},
   "source": [
    "<img src=\"./fig/01 analysis goal.png\">"
   ]
  },
  {
   "cell_type": "markdown",
   "metadata": {},
   "source": [
    "# Goal of pathway analysis\n",
    "What is the goal of gene set analysis? Note that since we are using pathways as our gene sets, we will discuss the gene set analysis using the pathway perspective."
   ]
  },
  {
   "cell_type": "markdown",
   "metadata": {},
   "source": [
    "<img src=\"./fig/02 pathway analysis goal.png\">"
   ]
  },
  {
   "cell_type": "markdown",
   "metadata": {},
   "source": [
    "# Steps of our analysis"
   ]
  },
  {
   "cell_type": "markdown",
   "metadata": {},
   "source": [
    "<img src=\"./fig/03 pathway analysis steps.png\">"
   ]
  },
  {
   "cell_type": "markdown",
   "metadata": {},
   "source": [
    "# Description of each step\n",
    "\n",
    "---\n",
    "1. [Notebook: Prepare the matrix](prepare_matrix.ipynb)\n",
    "    - Process the raw count using DESeq model\n",
    "---\n",
    "2. [Notebook: Get_Pathway_Cne_h99](get_pathway_cne_h99.ipynb)\n",
    "    - Read the gene sets into R\n",
    "    - Here we are using the pathway downloaded from FungiDB\n",
    "---\n",
    "3. [Notebook: Pathway Analysis](pathway_analysis_gage.ipynb)\n",
    "    - Perform pathway analysis using the method GAGE\n",
    "---\n",
    "4. [Notebook: Results and Visualization](pathway_results_visualization.ipynb)\n",
    "    - Visualize the results"
   ]
  }
 ],
 "metadata": {
  "kernelspec": {
   "display_name": "Bash",
   "language": "bash",
   "name": "bash"
  },
  "language_info": {
   "codemirror_mode": "shell",
   "file_extension": ".sh",
   "mimetype": "text/x-sh",
   "name": "bash"
  }
 },
 "nbformat": 4,
 "nbformat_minor": 2
}
