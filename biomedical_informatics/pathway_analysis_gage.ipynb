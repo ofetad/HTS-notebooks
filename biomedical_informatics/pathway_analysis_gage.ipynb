{
 "cells": [
  {
   "cell_type": "markdown",
   "metadata": {},
   "source": [
    "# About the notebook\n",
    "[Back to the topic](pathway_toc.ipynb)\n",
    "\n",
    "We are in step 04. Now we have matrix and gene set list prepare. We can perform gene set analysis. Gage is widely used and flexible package for conducting gene set analyses for RNA_Seq. **There are several technical aspects of gage that could be improved (it makes very strong assumptions).** We should expect that over time new methods will be published that will address these technical issues\n"
   ]
  },
  {
   "cell_type": "markdown",
   "metadata": {},
   "source": [
    "<img src=\"./fig/03 pathway analysis steps.png\">\n",
    "\n",
    "----"
   ]
  },
  {
   "cell_type": "markdown",
   "metadata": {},
   "source": [
    "# Set up environment"
   ]
  },
  {
   "cell_type": "code",
   "execution_count": 33,
   "metadata": {},
   "outputs": [],
   "source": [
    "source(\"Pathway_config.R\")\n",
    "source(\"Pathway_util.R\")"
   ]
  },
  {
   "cell_type": "markdown",
   "metadata": {},
   "source": [
    "# Read in data"
   ]
  },
  {
   "cell_type": "markdown",
   "metadata": {},
   "source": [
    "Import count table"
   ]
  },
  {
   "cell_type": "code",
   "execution_count": 34,
   "metadata": {},
   "outputs": [
    {
     "name": "stderr",
     "output_type": "stream",
     "text": [
      "The following objects are masked from file:/home/jovyan/work/scratch/analysis_output/out/dds_rld.RData (pos = 4):\n",
      "\n",
      "    dds_add, rld_add\n",
      "\n"
     ]
    }
   ],
   "source": [
    "attach(file.path(OUTDIR, \"dds_rld.RData\"))"
   ]
  },
  {
   "cell_type": "markdown",
   "metadata": {},
   "source": [
    "Import pathway information"
   ]
  },
  {
   "cell_type": "code",
   "execution_count": 51,
   "metadata": {},
   "outputs": [
    {
     "name": "stderr",
     "output_type": "stream",
     "text": [
      "The following object is masked from file:/home/jovyan/work/scratch/analysis_output/out/genesets_cne_h99.RData (pos = 3):\n",
      "\n",
      "    genesets_cne_h99\n",
      "\n",
      "The following object is masked from file:/home/jovyan/work/scratch/analysis_output/out/genesets_cne_h99.RData (pos = 5):\n",
      "\n",
      "    genesets_cne_h99\n",
      "\n",
      "The following object is masked from file:/home/jovyan/work/scratch/analysis_output/out/genesets_cne_h99.RData (pos = 7):\n",
      "\n",
      "    genesets_cne_h99\n",
      "\n"
     ]
    }
   ],
   "source": [
    "attach(file.path(OUTDIR, \"genesets_cne_h99.RData\"))"
   ]
  },
  {
   "cell_type": "code",
   "execution_count": 52,
   "metadata": {},
   "outputs": [
    {
     "data": {
      "text/html": [
       "<strong>$`ec00010 | Glycolysis / Gluconeogenesis`</strong> = <ol class=list-inline>\n",
       "\t<li>'CNAG_00038'</li>\n",
       "\t<li>'CNAG_00057'</li>\n",
       "\t<li>'CNAG_00515'</li>\n",
       "\t<li>'CNAG_00735'</li>\n",
       "\t<li>'CNAG_00797'</li>\n",
       "\t<li>'CNAG_01078'</li>\n",
       "\t<li>'CNAG_01120'</li>\n",
       "\t<li>'CNAG_01675'</li>\n",
       "\t<li>'CNAG_01820'</li>\n",
       "\t<li>'CNAG_01955'</li>\n",
       "\t<li>'CNAG_02035'</li>\n",
       "\t<li>'CNAG_02377'</li>\n",
       "\t<li>'CNAG_02489'</li>\n",
       "\t<li>'CNAG_02736'</li>\n",
       "\t<li>'CNAG_02903'</li>\n",
       "\t<li>'CNAG_03072'</li>\n",
       "\t<li>'CNAG_03358'</li>\n",
       "\t<li>'CNAG_03916'</li>\n",
       "\t<li>'CNAG_04217'</li>\n",
       "\t<li>'CNAG_04523'</li>\n",
       "\t<li>'CNAG_04659'</li>\n",
       "\t<li>'CNAG_04676'</li>\n",
       "\t<li>'CNAG_05059'</li>\n",
       "\t<li>'CNAG_05113'</li>\n",
       "\t<li>'CNAG_06035'</li>\n",
       "\t<li>'CNAG_06313'</li>\n",
       "\t<li>'CNAG_06628'</li>\n",
       "\t<li>'CNAG_06699'</li>\n",
       "\t<li>'CNAG_06770'</li>\n",
       "\t<li>'CNAG_07004'</li>\n",
       "\t<li>'CNAG_07316'</li>\n",
       "\t<li>'CNAG_07559'</li>\n",
       "\t<li>'CNAG_07660'</li>\n",
       "\t<li>'CNAG_07745'</li>\n",
       "</ol>\n"
      ],
      "text/latex": [
       "\\textbf{\\$`ec00010 \\textbar{} Glycolysis / Gluconeogenesis`} = \\begin{enumerate*}\n",
       "\\item 'CNAG\\_00038'\n",
       "\\item 'CNAG\\_00057'\n",
       "\\item 'CNAG\\_00515'\n",
       "\\item 'CNAG\\_00735'\n",
       "\\item 'CNAG\\_00797'\n",
       "\\item 'CNAG\\_01078'\n",
       "\\item 'CNAG\\_01120'\n",
       "\\item 'CNAG\\_01675'\n",
       "\\item 'CNAG\\_01820'\n",
       "\\item 'CNAG\\_01955'\n",
       "\\item 'CNAG\\_02035'\n",
       "\\item 'CNAG\\_02377'\n",
       "\\item 'CNAG\\_02489'\n",
       "\\item 'CNAG\\_02736'\n",
       "\\item 'CNAG\\_02903'\n",
       "\\item 'CNAG\\_03072'\n",
       "\\item 'CNAG\\_03358'\n",
       "\\item 'CNAG\\_03916'\n",
       "\\item 'CNAG\\_04217'\n",
       "\\item 'CNAG\\_04523'\n",
       "\\item 'CNAG\\_04659'\n",
       "\\item 'CNAG\\_04676'\n",
       "\\item 'CNAG\\_05059'\n",
       "\\item 'CNAG\\_05113'\n",
       "\\item 'CNAG\\_06035'\n",
       "\\item 'CNAG\\_06313'\n",
       "\\item 'CNAG\\_06628'\n",
       "\\item 'CNAG\\_06699'\n",
       "\\item 'CNAG\\_06770'\n",
       "\\item 'CNAG\\_07004'\n",
       "\\item 'CNAG\\_07316'\n",
       "\\item 'CNAG\\_07559'\n",
       "\\item 'CNAG\\_07660'\n",
       "\\item 'CNAG\\_07745'\n",
       "\\end{enumerate*}\n"
      ],
      "text/markdown": [
       "**$`ec00010 | Glycolysis / Gluconeogenesis`** = 1. 'CNAG_00038'\n",
       "2. 'CNAG_00057'\n",
       "3. 'CNAG_00515'\n",
       "4. 'CNAG_00735'\n",
       "5. 'CNAG_00797'\n",
       "6. 'CNAG_01078'\n",
       "7. 'CNAG_01120'\n",
       "8. 'CNAG_01675'\n",
       "9. 'CNAG_01820'\n",
       "10. 'CNAG_01955'\n",
       "11. 'CNAG_02035'\n",
       "12. 'CNAG_02377'\n",
       "13. 'CNAG_02489'\n",
       "14. 'CNAG_02736'\n",
       "15. 'CNAG_02903'\n",
       "16. 'CNAG_03072'\n",
       "17. 'CNAG_03358'\n",
       "18. 'CNAG_03916'\n",
       "19. 'CNAG_04217'\n",
       "20. 'CNAG_04523'\n",
       "21. 'CNAG_04659'\n",
       "22. 'CNAG_04676'\n",
       "23. 'CNAG_05059'\n",
       "24. 'CNAG_05113'\n",
       "25. 'CNAG_06035'\n",
       "26. 'CNAG_06313'\n",
       "27. 'CNAG_06628'\n",
       "28. 'CNAG_06699'\n",
       "29. 'CNAG_06770'\n",
       "30. 'CNAG_07004'\n",
       "31. 'CNAG_07316'\n",
       "32. 'CNAG_07559'\n",
       "33. 'CNAG_07660'\n",
       "34. 'CNAG_07745'\n",
       "\n",
       "\n"
      ],
      "text/plain": [
       "$`ec00010 | Glycolysis / Gluconeogenesis`\n",
       " [1] \"CNAG_00038\" \"CNAG_00057\" \"CNAG_00515\" \"CNAG_00735\" \"CNAG_00797\"\n",
       " [6] \"CNAG_01078\" \"CNAG_01120\" \"CNAG_01675\" \"CNAG_01820\" \"CNAG_01955\"\n",
       "[11] \"CNAG_02035\" \"CNAG_02377\" \"CNAG_02489\" \"CNAG_02736\" \"CNAG_02903\"\n",
       "[16] \"CNAG_03072\" \"CNAG_03358\" \"CNAG_03916\" \"CNAG_04217\" \"CNAG_04523\"\n",
       "[21] \"CNAG_04659\" \"CNAG_04676\" \"CNAG_05059\" \"CNAG_05113\" \"CNAG_06035\"\n",
       "[26] \"CNAG_06313\" \"CNAG_06628\" \"CNAG_06699\" \"CNAG_06770\" \"CNAG_07004\"\n",
       "[31] \"CNAG_07316\" \"CNAG_07559\" \"CNAG_07660\" \"CNAG_07745\"\n"
      ]
     },
     "metadata": {},
     "output_type": "display_data"
    }
   ],
   "source": [
    "genesets_cne_h99[1]"
   ]
  },
  {
   "cell_type": "markdown",
   "metadata": {},
   "source": [
    "# Extract the fold change"
   ]
  },
  {
   "cell_type": "markdown",
   "metadata": {},
   "source": [
    "There are two ways to use the gage function. One of it is to get log2 fold change of genes comparing two group of samples."
   ]
  },
  {
   "cell_type": "code",
   "execution_count": 37,
   "metadata": {},
   "outputs": [
    {
     "data": {
      "text/plain": [
       "DataFrame with 2 rows and 11 columns\n",
       "              Label   Strain    Media experiment_person libprep_person\n",
       "        <character> <factor> <factor>          <factor>       <factor>\n",
       "1_RZ_J       1_RZ_J      H99      YPD              expA          prepB\n",
       "10_RZ_C     10_RZ_C    mar1d      YPD              expA          prepA\n",
       "        enrichment_method prob.gene prob.nofeat prob.unique     depth\n",
       "                 <factor> <numeric>   <numeric>   <numeric> <numeric>\n",
       "1_RZ_J                 RZ 0.6689001   0.2170956   0.8859957   3541358\n",
       "10_RZ_C                RZ 0.7497438   0.2006517   0.9503955   1742594\n",
       "        sizeFactor\n",
       "         <numeric>\n",
       "1_RZ_J   1.3586026\n",
       "10_RZ_C  0.8098675"
      ]
     },
     "metadata": {},
     "output_type": "display_data"
    }
   ],
   "source": [
    "head(colData(dds_add), 2)"
   ]
  },
  {
   "cell_type": "markdown",
   "metadata": {},
   "source": [
    "get the fold change between medium TC over YPD. "
   ]
  },
  {
   "cell_type": "code",
   "execution_count": 38,
   "metadata": {},
   "outputs": [],
   "source": [
    "### Get results from DESeq2 DE analysis\n",
    "ddsres_add_media <- DESeq2::results(dds_add, contrast = c(\"Media\", \"YPD\" , \"TC\"))\n",
    "\n",
    "### Extract the estimated fold changes\n",
    "ddsfc_add_media  <- ddsres_add_media$log2FoldChange\n",
    "\n",
    "### Assign the gene name to the fold change vector\n",
    "names(ddsfc_add_media) <- rownames(ddsres_add_media)"
   ]
  },
  {
   "cell_type": "code",
   "execution_count": 39,
   "metadata": {},
   "outputs": [
    {
     "data": {
      "text/html": [
       "<dl class=dl-horizontal>\n",
       "\t<dt>CNAG_00001</dt>\n",
       "\t\t<dd>0.0411278321097865</dd>\n",
       "\t<dt>CNAG_00002</dt>\n",
       "\t\t<dd>-0.0901908189172923</dd>\n",
       "\t<dt>CNAG_00003</dt>\n",
       "\t\t<dd>-0.364751128219622</dd>\n",
       "\t<dt>CNAG_00004</dt>\n",
       "\t\t<dd>-0.603611281884124</dd>\n",
       "\t<dt>CNAG_00005</dt>\n",
       "\t\t<dd>-0.857710999568883</dd>\n",
       "\t<dt>CNAG_00006</dt>\n",
       "\t\t<dd>0.368996200976674</dd>\n",
       "</dl>\n"
      ],
      "text/latex": [
       "\\begin{description*}\n",
       "\\item[CNAG\\textbackslash{}\\_00001] 0.0411278321097865\n",
       "\\item[CNAG\\textbackslash{}\\_00002] -0.0901908189172923\n",
       "\\item[CNAG\\textbackslash{}\\_00003] -0.364751128219622\n",
       "\\item[CNAG\\textbackslash{}\\_00004] -0.603611281884124\n",
       "\\item[CNAG\\textbackslash{}\\_00005] -0.857710999568883\n",
       "\\item[CNAG\\textbackslash{}\\_00006] 0.368996200976674\n",
       "\\end{description*}\n"
      ],
      "text/markdown": [
       "CNAG_00001\n",
       ":   0.0411278321097865CNAG_00002\n",
       ":   -0.0901908189172923CNAG_00003\n",
       ":   -0.364751128219622CNAG_00004\n",
       ":   -0.603611281884124CNAG_00005\n",
       ":   -0.857710999568883CNAG_00006\n",
       ":   0.368996200976674\n",
       "\n"
      ],
      "text/plain": [
       " CNAG_00001  CNAG_00002  CNAG_00003  CNAG_00004  CNAG_00005  CNAG_00006 \n",
       " 0.04112783 -0.09019082 -0.36475113 -0.60361128 -0.85771100  0.36899620 "
      ]
     },
     "metadata": {},
     "output_type": "display_data"
    }
   ],
   "source": [
    "head(ddsfc_add_media)"
   ]
  },
  {
   "cell_type": "markdown",
   "metadata": {},
   "source": [
    "get the fold change between strain mar1d over h99. "
   ]
  },
  {
   "cell_type": "code",
   "execution_count": 40,
   "metadata": {},
   "outputs": [],
   "source": [
    "### Get results from DESeq2 DE analysis\n",
    "ddsres_add_strain <- DESeq2::results(dds_add, contrast = c(\"Strain\", \"H99\" , \"mar1d\"))\n",
    "\n",
    "### Extract the estimated fold changes\n",
    "ddsfc_add_strain  <- ddsres_add_strain$log2FoldChange\n",
    "\n",
    "### Assign the gene name to the fold change vector\n",
    "names(ddsfc_add_strain) <- rownames(ddsres_add_strain)"
   ]
  },
  {
   "cell_type": "code",
   "execution_count": 41,
   "metadata": {},
   "outputs": [
    {
     "data": {
      "text/html": [
       "<dl class=dl-horizontal>\n",
       "\t<dt>CNAG_00001</dt>\n",
       "\t\t<dd>0.267984236248396</dd>\n",
       "\t<dt>CNAG_00002</dt>\n",
       "\t\t<dd>0.44004097513111</dd>\n",
       "\t<dt>CNAG_00003</dt>\n",
       "\t\t<dd>0.122694992989326</dd>\n",
       "\t<dt>CNAG_00004</dt>\n",
       "\t\t<dd>-0.0605531375754653</dd>\n",
       "\t<dt>CNAG_00005</dt>\n",
       "\t\t<dd>0.513294454661193</dd>\n",
       "\t<dt>CNAG_00006</dt>\n",
       "\t\t<dd>-0.275973588355714</dd>\n",
       "</dl>\n"
      ],
      "text/latex": [
       "\\begin{description*}\n",
       "\\item[CNAG\\textbackslash{}\\_00001] 0.267984236248396\n",
       "\\item[CNAG\\textbackslash{}\\_00002] 0.44004097513111\n",
       "\\item[CNAG\\textbackslash{}\\_00003] 0.122694992989326\n",
       "\\item[CNAG\\textbackslash{}\\_00004] -0.0605531375754653\n",
       "\\item[CNAG\\textbackslash{}\\_00005] 0.513294454661193\n",
       "\\item[CNAG\\textbackslash{}\\_00006] -0.275973588355714\n",
       "\\end{description*}\n"
      ],
      "text/markdown": [
       "CNAG_00001\n",
       ":   0.267984236248396CNAG_00002\n",
       ":   0.44004097513111CNAG_00003\n",
       ":   0.122694992989326CNAG_00004\n",
       ":   -0.0605531375754653CNAG_00005\n",
       ":   0.513294454661193CNAG_00006\n",
       ":   -0.275973588355714\n",
       "\n"
      ],
      "text/plain": [
       " CNAG_00001  CNAG_00002  CNAG_00003  CNAG_00004  CNAG_00005  CNAG_00006 \n",
       " 0.26798424  0.44004098  0.12269499 -0.06055314  0.51329445 -0.27597359 "
      ]
     },
     "metadata": {},
     "output_type": "display_data"
    }
   ],
   "source": [
    "head(ddsfc_add_strain)"
   ]
  },
  {
   "cell_type": "markdown",
   "metadata": {},
   "source": [
    "# Pathway analysis performed using gage package"
   ]
  },
  {
   "cell_type": "markdown",
   "metadata": {},
   "source": [
    "Calculate pathway level statistics using the gage package. For the details of the gage method, one can read [package document](https://bioconductor.org/packages/release/bioc/manuals/gage/man/gage.pdf) and [the gage paper](https://bmcbioinformatics.biomedcentral.com/articles/10.1186/1471-2105-10-161)"
   ]
  },
  {
   "cell_type": "markdown",
   "metadata": {},
   "source": [
    "```\n",
    "### Notes\n",
    "### This example is using the estimated fold changes for DESeq2 for the inference\n",
    "### Accordingly, use.fold is set to TRUE and the indices for the ref and target\n",
    "### samples are set to NULL. The theory behind using fold changes is iffy\n",
    "### Also, it puts limits on min and max on gene set sizes. This is a tuning parameter\n",
    "### and our choices are arbitrary.\n",
    "### Finally, it tests whether within a gene set the genes point in the same direction\n",
    "\n",
    "gageres <- gage::gage(ddsfc_add,\n",
    "                      gsets = genesets_cne_h99,\n",
    "                      use.fold = TRUE,\n",
    "                      ref = NULL, \n",
    "                      samp = NULL,  \n",
    "                      set.size = c(10, 500),\n",
    "                      same.dir = TRUE) \n",
    "```"
   ]
  },
  {
   "cell_type": "code",
   "execution_count": 44,
   "metadata": {},
   "outputs": [],
   "source": [
    "### Geneset analysis using the \"microarray\" approach. We will use rlog\n",
    "### transformed expressions for the purpose of this demonstration\n",
    "\n",
    "gageres_media <- gage::gage(\n",
    "    assay(rld_add),\n",
    "    gsets = genesets_cne_h99,\n",
    "    use.fold = FALSE,\n",
    "                      \n",
    "    ### reference condition or phenotype \n",
    "    ### (i.e. the control group) \n",
    "    ref = which(colData(rld_add)[[\"Media\"]]==\"YPD\"), \n",
    "    \n",
    "    ### a numeric vector of column numbers for \n",
    "    ### the target condition or phenotype \n",
    "    ### (i.e.the experiment group)\n",
    "    samp = which(colData(rld_add)[[\"Media\"]]==\"TC\"),\n",
    "    compare = \"unpaired\",\n",
    "                        \n",
    "    ### he effective gene set size, \n",
    "    ### i.e. the number of genes included in the gene set test\n",
    "    set.size = c(10, 500),\n",
    "                      \n",
    "    ### provide two sided test \"greater\" & \"less\"\n",
    "    same.dir = TRUE) "
   ]
  },
  {
   "cell_type": "code",
   "execution_count": 45,
   "metadata": {},
   "outputs": [],
   "source": [
    "gageres_strain <- gage::gage(\n",
    "    assay(rld_add),\n",
    "    gsets = genesets_cne_h99,\n",
    "    use.fold = FALSE,\n",
    "                      \n",
    "    ### reference condition or phenotype \n",
    "    ### (i.e. the control group) \n",
    "    ref = which(colData(rld_add)[[\"Strain\"]]==\"H99\"), \n",
    "    \n",
    "    ### a numeric vector of column numbers for \n",
    "    ### the target condition or phenotype \n",
    "    ### (i.e.the experiment group)\n",
    "    samp = which(colData(rld_add)[[\"Strain\"]]==\"mar1d\"),\n",
    "    compare = \"unpaired\",\n",
    "                        \n",
    "    ### he effective gene set size, \n",
    "    ### i.e. the number of genes included in the gene set test\n",
    "    set.size = c(10, 500),\n",
    "                      \n",
    "    ### provide two sided test \"greater\" & \"less\"\n",
    "    same.dir = TRUE)"
   ]
  },
  {
   "cell_type": "markdown",
   "metadata": {},
   "source": [
    "the content of gageres"
   ]
  },
  {
   "cell_type": "code",
   "execution_count": 46,
   "metadata": {},
   "outputs": [
    {
     "name": "stdout",
     "output_type": "stream",
     "text": [
      "[1] \"list\"\n",
      "[1] \"greater\" \"less\"    \"stats\"  \n"
     ]
    }
   ],
   "source": [
    "print(class(gageres_media))\n",
    "print(names(gageres_media))"
   ]
  },
  {
   "cell_type": "markdown",
   "metadata": {},
   "source": [
    "let's take a look at each element of the results"
   ]
  },
  {
   "cell_type": "code",
   "execution_count": 49,
   "metadata": {},
   "outputs": [
    {
     "data": {
      "text/html": [
       "<table>\n",
       "<thead><tr><th></th><th scope=col>p.geomean</th><th scope=col>stat.mean</th><th scope=col>p.val</th><th scope=col>q.val</th><th scope=col>set.size</th><th scope=col>exp1</th></tr></thead>\n",
       "<tbody>\n",
       "\t<tr><th scope=row>ec00053 | Ascorbate and aldarate metabolism</th><td>4.502818e-06</td><td>4.561043    </td><td>4.502818e-06</td><td>0.001328574 </td><td>100         </td><td>4.502818e-06</td></tr>\n",
       "\t<tr><th scope=row>ec00051 | Fructose and mannose metabolism</th><td>1.034578e-05</td><td>4.365729    </td><td>1.034578e-05</td><td>0.001328574 </td><td>103         </td><td>1.034578e-05</td></tr>\n",
       "</tbody>\n",
       "</table>\n"
      ],
      "text/latex": [
       "\\begin{tabular}{r|llllll}\n",
       "  & p.geomean & stat.mean & p.val & q.val & set.size & exp1\\\\\n",
       "\\hline\n",
       "\tec00053 \\textbar{} Ascorbate and aldarate metabolism & 4.502818e-06 & 4.561043     & 4.502818e-06 & 0.001328574  & 100          & 4.502818e-06\\\\\n",
       "\tec00051 \\textbar{} Fructose and mannose metabolism & 1.034578e-05 & 4.365729     & 1.034578e-05 & 0.001328574  & 103          & 1.034578e-05\\\\\n",
       "\\end{tabular}\n"
      ],
      "text/markdown": [
       "\n",
       "| <!--/--> | p.geomean | stat.mean | p.val | q.val | set.size | exp1 | \n",
       "|---|---|\n",
       "| ec00053 | Ascorbate and aldarate metabolism | 4.502818e-06 | 4.561043     | 4.502818e-06 | 0.001328574  | 100          | 4.502818e-06 | \n",
       "| ec00051 | Fructose and mannose metabolism | 1.034578e-05 | 4.365729     | 1.034578e-05 | 0.001328574  | 103          | 1.034578e-05 | \n",
       "\n",
       "\n"
      ],
      "text/plain": [
       "                                            p.geomean    stat.mean p.val       \n",
       "ec00053 | Ascorbate and aldarate metabolism 4.502818e-06 4.561043  4.502818e-06\n",
       "ec00051 | Fructose and mannose metabolism   1.034578e-05 4.365729  1.034578e-05\n",
       "                                            q.val       set.size exp1        \n",
       "ec00053 | Ascorbate and aldarate metabolism 0.001328574 100      4.502818e-06\n",
       "ec00051 | Fructose and mannose metabolism   0.001328574 103      1.034578e-05"
      ]
     },
     "metadata": {},
     "output_type": "display_data"
    }
   ],
   "source": [
    "gageres_media$greater %>% head(2)"
   ]
  },
  {
   "cell_type": "code",
   "execution_count": 19,
   "metadata": {},
   "outputs": [
    {
     "data": {
      "text/html": [
       "<table>\n",
       "<thead><tr><th></th><th scope=col>p.geomean</th><th scope=col>stat.mean</th><th scope=col>p.val</th><th scope=col>q.val</th><th scope=col>set.size</th><th scope=col>exp1</th></tr></thead>\n",
       "<tbody>\n",
       "\t<tr><th scope=row>PWY-3781 | aerobic respiration I (cytochrome c)</th><td>2.540210e-11</td><td>-7.647006   </td><td>2.540210e-11</td><td>2.156638e-08</td><td>43          </td><td>2.540210e-11</td></tr>\n",
       "\t<tr><th scope=row>ec00190 | Oxidative phosphorylation</th><td>1.274301e-10</td><td>-6.810042   </td><td>1.274301e-10</td><td>5.409407e-08</td><td>72          </td><td>1.274301e-10</td></tr>\n",
       "</tbody>\n",
       "</table>\n"
      ],
      "text/latex": [
       "\\begin{tabular}{r|llllll}\n",
       "  & p.geomean & stat.mean & p.val & q.val & set.size & exp1\\\\\n",
       "\\hline\n",
       "\tPWY-3781 \\textbar{} aerobic respiration I (cytochrome c) & 2.540210e-11 & -7.647006    & 2.540210e-11 & 2.156638e-08 & 43           & 2.540210e-11\\\\\n",
       "\tec00190 \\textbar{} Oxidative phosphorylation & 1.274301e-10 & -6.810042    & 1.274301e-10 & 5.409407e-08 & 72           & 1.274301e-10\\\\\n",
       "\\end{tabular}\n"
      ],
      "text/markdown": [
       "\n",
       "| <!--/--> | p.geomean | stat.mean | p.val | q.val | set.size | exp1 | \n",
       "|---|---|\n",
       "| PWY-3781 | aerobic respiration I (cytochrome c) | 2.540210e-11 | -7.647006    | 2.540210e-11 | 2.156638e-08 | 43           | 2.540210e-11 | \n",
       "| ec00190 | Oxidative phosphorylation | 1.274301e-10 | -6.810042    | 1.274301e-10 | 5.409407e-08 | 72           | 1.274301e-10 | \n",
       "\n",
       "\n"
      ],
      "text/plain": [
       "                                                p.geomean    stat.mean\n",
       "PWY-3781 | aerobic respiration I (cytochrome c) 2.540210e-11 -7.647006\n",
       "ec00190 | Oxidative phosphorylation             1.274301e-10 -6.810042\n",
       "                                                p.val        q.val       \n",
       "PWY-3781 | aerobic respiration I (cytochrome c) 2.540210e-11 2.156638e-08\n",
       "ec00190 | Oxidative phosphorylation             1.274301e-10 5.409407e-08\n",
       "                                                set.size exp1        \n",
       "PWY-3781 | aerobic respiration I (cytochrome c) 43       2.540210e-11\n",
       "ec00190 | Oxidative phosphorylation             72       1.274301e-10"
      ]
     },
     "metadata": {},
     "output_type": "display_data"
    }
   ],
   "source": [
    "gageres_media$less %>% head(2)"
   ]
  },
  {
   "cell_type": "markdown",
   "metadata": {},
   "source": [
    "# Store the results"
   ]
  },
  {
   "cell_type": "code",
   "execution_count": 50,
   "metadata": {},
   "outputs": [],
   "source": [
    "outfile <- file.path(OUTDIR, \"res_gage.RData\")\n",
    "save(gageres_media, \n",
    "     gageres_strain,\n",
    "     file = outfile)"
   ]
  }
 ],
 "metadata": {
  "kernelspec": {
   "display_name": "R",
   "language": "R",
   "name": "ir"
  },
  "language_info": {
   "codemirror_mode": "r",
   "file_extension": ".r",
   "mimetype": "text/x-r-source",
   "name": "R",
   "pygments_lexer": "r",
   "version": "3.4.1"
  }
 },
 "nbformat": 4,
 "nbformat_minor": 2
}
