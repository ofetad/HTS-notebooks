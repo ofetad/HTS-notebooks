{
 "cells": [
  {
   "cell_type": "markdown",
   "metadata": {},
   "source": [
    "# Bash Exercise 2: Working with a GTF file"
   ]
  },
  {
   "cell_type": "markdown",
   "metadata": {},
   "source": [
    "Hack to handle broekn pipes in Jupyter - IGNORE."
   ]
  },
  {
   "cell_type": "code",
   "execution_count": 14,
   "metadata": {},
   "outputs": [],
   "source": [
    "cleanup () { \n",
    "    :\n",
    "}\n",
    "\n",
    "trap \"cleanup\" SIGPIPE"
   ]
  },
  {
   "cell_type": "markdown",
   "metadata": {},
   "source": [
    "**1**. Create a subfolder called `refs` if it does not exist. You will work in the `refs` folder for the rest of this exercise - i.e. make this your working directory.\n",
    "\n",
    "Download the compressed GTF file for *Cryptococcus neormans* from \n",
    "```\n",
    "ftp://ftp.ensemblgenomes.org/pub/release-39/fungi/gtf/fungi_basidiomycota1_collection/cryptococcus_neoformans_var_grubii_h99/Cryptococcus_neoformans_var_grubii_h99.CNA3.39.gtf.gz\n",
    "```\n",
    "\n",
    "to the `refs` folder maitaining its origanl name `Cryptococcus_neoformans_var_grubii_h99.CNA3.39.gtf.gz`. \n",
    "\n",
    "Note: You can use `wget` or `curl` to download the file."
   ]
  },
  {
   "cell_type": "code",
   "execution_count": 1,
   "metadata": {},
   "outputs": [],
   "source": [
    "mkdir -p refs"
   ]
  },
  {
   "cell_type": "code",
   "execution_count": 2,
   "metadata": {},
   "outputs": [],
   "source": [
    "cd refs"
   ]
  },
  {
   "cell_type": "code",
   "execution_count": 5,
   "metadata": {},
   "outputs": [
    {
     "name": "stdout",
     "output_type": "stream",
     "text": [
      "--2018-07-03 10:23:35--  ftp://ftp.ensemblgenomes.org/pub/release-39/fungi/gtf/fungi_basidiomycota1_collection/cryptococcus_neoformans_var_grubii_h99/Cryptococcus_neoformans_var_grubii_h99.CNA3.39.gtf.gz\n",
      "           => ‘Cryptococcus_neoformans_var_grubii_h99.CNA3.39.gtf.gz’\n",
      "Resolving ftp.ensemblgenomes.org (ftp.ensemblgenomes.org)... 193.62.197.94\n",
      "Connecting to ftp.ensemblgenomes.org (ftp.ensemblgenomes.org)|193.62.197.94|:21... connected.\n",
      "Logging in as anonymous ... Logged in!\n",
      "==> SYST ... done.    ==> PWD ... done.\n",
      "==> TYPE I ... done.  ==> CWD (1) /pub/release-39/fungi/gtf/fungi_basidiomycota1_collection/cryptococcus_neoformans_var_grubii_h99 ... done.\n",
      "==> SIZE Cryptococcus_neoformans_var_grubii_h99.CNA3.39.gtf.gz ... 1796344\n",
      "==> PASV ... done.    ==> RETR Cryptococcus_neoformans_var_grubii_h99.CNA3.39.gtf.gz ... done.\n",
      "Length: 1796344 (1.7M) (unauthoritative)\n",
      "\n",
      "Cryptococcus_neofor 100%[===================>]   1.71M  1.95MB/s    in 0.9s    \n",
      "\n",
      "2018-07-03 10:23:37 (1.95 MB/s) - ‘Cryptococcus_neoformans_var_grubii_h99.CNA3.39.gtf.gz’ saved [1796344]\n",
      "\n"
     ]
    }
   ],
   "source": [
    "wget ftp://ftp.ensemblgenomes.org/pub/release-39/fungi/gtf/fungi_basidiomycota1_collection/cryptococcus_neoformans_var_grubii_h99/Cryptococcus_neoformans_var_grubii_h99.CNA3.39.gtf.gz"
   ]
  },
  {
   "cell_type": "markdown",
   "metadata": {},
   "source": [
    "**2**. Unzip the downloaded file. Use `ls` to see the contents of the `refs` directory."
   ]
  },
  {
   "cell_type": "code",
   "execution_count": 6,
   "metadata": {},
   "outputs": [],
   "source": [
    "gunzip Cryptococcus_neoformans_var_grubii_h99.CNA3.39.gtf.gz"
   ]
  },
  {
   "cell_type": "code",
   "execution_count": 3,
   "metadata": {},
   "outputs": [
    {
     "name": "stdout",
     "output_type": "stream",
     "text": [
      "Cryptococcus_neoformans_var_grubii_h99.CNA3.39.gtf\n"
     ]
    }
   ],
   "source": [
    "ls"
   ]
  },
  {
   "cell_type": "markdown",
   "metadata": {},
   "source": [
    "**3**. Create a variable GTF for the filename. For bonus points, assign GTF to the output of `ls`. Inspect the first 10 lines of this file."
   ]
  },
  {
   "cell_type": "code",
   "execution_count": 4,
   "metadata": {},
   "outputs": [],
   "source": [
    "GTF=$(ls)"
   ]
  },
  {
   "cell_type": "code",
   "execution_count": 5,
   "metadata": {},
   "outputs": [
    {
     "name": "stdout",
     "output_type": "stream",
     "text": [
      "Cryptococcus_neoformans_var_grubii_h99.CNA3.39.gtf\n"
     ]
    }
   ],
   "source": [
    "echo $GTF"
   ]
  },
  {
   "cell_type": "code",
   "execution_count": 6,
   "metadata": {},
   "outputs": [
    {
     "name": "stdout",
     "output_type": "stream",
     "text": [
      "#!genome-build CNA3\n",
      "#!genome-version CNA3\n",
      "#!genome-date 2015-11\n",
      "#!genome-build-accession GCA_000149245.3\n",
      "#!genebuild-last-updated 2015-11\n",
      "1\tena\tgene\t100\t5645\t.\t-\t.\tgene_id \"CNAG_04548\"; gene_source \"ena\"; gene_biotype \"protein_coding\";\n",
      "1\tena\ttranscript\t100\t5645\t.\t-\t.\tgene_id \"CNAG_04548\"; transcript_id \"AFR92135\"; gene_source \"ena\"; gene_biotype \"protein_coding\"; transcript_source \"ena\"; transcript_biotype \"protein_coding\";\n",
      "1\tena\texon\t5494\t5645\t.\t-\t.\tgene_id \"CNAG_04548\"; transcript_id \"AFR92135\"; exon_number \"1\"; gene_source \"ena\"; gene_biotype \"protein_coding\"; transcript_source \"ena\"; transcript_biotype \"protein_coding\"; exon_id \"AFR92135-1\";\n",
      "1\tena\tCDS\t5494\t5645\t.\t-\t0\tgene_id \"CNAG_04548\"; transcript_id \"AFR92135\"; exon_number \"1\"; gene_source \"ena\"; gene_biotype \"protein_coding\"; transcript_source \"ena\"; transcript_biotype \"protein_coding\"; protein_id \"AFR92135\"; protein_version \"1\";\n",
      "1\tena\tstart_codon\t5643\t5645\t.\t-\t0\tgene_id \"CNAG_04548\"; transcript_id \"AFR92135\"; exon_number \"1\"; gene_source \"ena\"; gene_biotype \"protein_coding\"; transcript_source \"ena\"; transcript_biotype \"protein_coding\";\n"
     ]
    }
   ],
   "source": [
    "head -10 $GTF"
   ]
  },
  {
   "cell_type": "markdown",
   "metadata": {},
   "source": [
    "**4**. Show only comment lines (those starting with `#`) \n",
    "\n",
    "Hint: Use `grep` and an apppropriate regular expression."
   ]
  },
  {
   "cell_type": "code",
   "execution_count": 7,
   "metadata": {},
   "outputs": [
    {
     "name": "stdout",
     "output_type": "stream",
     "text": [
      "#!genome-build CNA3\n",
      "#!genome-version CNA3\n",
      "#!genome-date 2015-11\n",
      "#!genome-build-accession GCA_000149245.3\n",
      "#!genebuild-last-updated 2015-11\n"
     ]
    }
   ],
   "source": [
    "grep '^#' $GTF"
   ]
  },
  {
   "cell_type": "markdown",
   "metadata": {},
   "source": [
    "**5**. A properly formatted GTF file has 9 columns separated by tabs `\\t`. \n",
    "\n",
    "See [ref](https://www.gencodegenes.org/gencodeformat.html) for what information is in each column. From the linked site, here is a summary\n",
    "\n",
    "```\n",
    "1\tchromosome name\tchr{1,2,3,4,5,6,7,8,9,10,11,12,13,14,15,16,17,18,19,20,21,22,X,Y,M}\n",
    "2\tannotation source\t{ENSEMBL,HAVANA}\n",
    "3\tfeature-type\t{gene,transcript,exon,CDS,UTR,start_codon,stop_codon,Selenocysteine}\n",
    "4\tgenomic start location\tinteger-value (1-based)\n",
    "5\tgenomic end location\tinteger-value\n",
    "6\tscore (not used) \t.\n",
    "7\tgenomic strand\t{+,-}\n",
    "8\tgenomic phase (for CDS features) \t{0,1,2,.}\n",
    "9\tadditional information as key-value pairs (format: key \"value\";)\n",
    "```\n",
    "\n",
    "Show the first 6 lines of columns 1,3,4, and 5.\n",
    "\n",
    "Hint: You can use `grep -v` to exclude unwanted lines."
   ]
  },
  {
   "cell_type": "code",
   "execution_count": 15,
   "metadata": {},
   "outputs": [
    {
     "name": "stdout",
     "output_type": "stream",
     "text": [
      "1\tgene\t100\t5645\n",
      "1\ttranscript\t100\t5645\n",
      "1\texon\t5494\t5645\n",
      "1\tCDS\t5494\t5645\n",
      "1\tstart_codon\t5643\t5645\n",
      "1\texon\t5322\t5422\n"
     ]
    }
   ],
   "source": [
    "cat $GTF |\n",
    "grep -v '^#' | \n",
    "cut -f 1,3-5  | \n",
    "head -6"
   ]
  },
  {
   "cell_type": "markdown",
   "metadata": {},
   "source": [
    "**6**. Count how many of each feature (column 3) there are in the GTF."
   ]
  },
  {
   "cell_type": "code",
   "execution_count": 17,
   "metadata": {},
   "outputs": [
    {
     "name": "stdout",
     "output_type": "stream",
     "text": [
      "  49063 CDS\n",
      "  52036 exon\n",
      "   6923 five_prime_utr\n",
      "   8497 gene\n",
      "   7860 start_codon\n",
      "   3167 stop_codon\n",
      "   7034 three_prime_utr\n",
      "   9348 transcript\n"
     ]
    }
   ],
   "source": [
    "cat $GTF | grep -v '^#' | cut -f3 | sort | uniq -c"
   ]
  },
  {
   "cell_type": "markdown",
   "metadata": {},
   "source": [
    "**7**. Show all the unique crhomosomes of the fungus, in ascending numeric order."
   ]
  },
  {
   "cell_type": "code",
   "execution_count": 29,
   "metadata": {
    "scrolled": false
   },
   "outputs": [
    {
     "name": "stdout",
     "output_type": "stream",
     "text": [
      "Mt\n",
      "1\n",
      "2\n",
      "3\n",
      "4\n",
      "5\n",
      "6\n",
      "7\n",
      "8\n",
      "9\n",
      "10\n",
      "11\n",
      "12\n",
      "13\n",
      "14\n"
     ]
    }
   ],
   "source": [
    "cat $GTF | grep -v '^#' | cut -f1 | sort -n | uniq "
   ]
  },
  {
   "cell_type": "markdown",
   "metadata": {},
   "source": [
    "**8**. Extract all unique `gene_id` values found in column 9 and save to a new file called `geen_counts.txt`. You can assume that `geen_id` is always the first field in column 9. Remove double quotes aorund gene_ids.\n",
    "\n",
    "The first few lines of the file (shownn using `head`) looks lik this\n",
    "\n",
    "```\n",
    "CNAG_00001\n",
    "CNAG_00002\n",
    "CNAG_00003\n",
    "CNAG_00004\n",
    "CNAG_00005\n",
    "CNAG_00006\n",
    "CNAG_00007\n",
    "CNAG_00008\n",
    "CNAG_00009\n",
    "CNAG_00010\n",
    "```"
   ]
  },
  {
   "cell_type": "code",
   "execution_count": 47,
   "metadata": {
    "scrolled": false
   },
   "outputs": [],
   "source": [
    "cat $GTF |             # read file to standard input\n",
    "grep -v '^#' |         # exclude header lines\n",
    "cut -f9 |              # extract column 9\n",
    "cut -f1 -d';' |        # extract column 1 using semi-colon as delimiter\n",
    "cut -f2 -d' ' |        # extract column 2 using space as delimiter\n",
    "tr -d '\"' |            # remove double quotes\n",
    "sort |                 # sort in lexicographic order\n",
    "uniq > geen_counts.txt # save unique entries to text file"
   ]
  },
  {
   "cell_type": "code",
   "execution_count": 46,
   "metadata": {},
   "outputs": [
    {
     "name": "stdout",
     "output_type": "stream",
     "text": [
      "CNAG_00001\n",
      "CNAG_00002\n",
      "CNAG_00003\n",
      "CNAG_00004\n",
      "CNAG_00005\n",
      "CNAG_00006\n",
      "CNAG_00007\n",
      "CNAG_00008\n",
      "CNAG_00009\n",
      "CNAG_00010\n"
     ]
    }
   ],
   "source": [
    "head geen_counts.txt"
   ]
  },
  {
   "cell_type": "markdown",
   "metadata": {},
   "source": [
    "## Optional challenging exercises\n",
    "\n",
    "Use `awk`."
   ]
  },
  {
   "cell_type": "markdown",
   "metadata": {},
   "source": [
    "**9**. Are there any non-header lines with more or less than 9 TAB-separated lines? How many non-header lines with exactly 9 columns are ther? (Warning: This is quite challegning and an optional exercise)"
   ]
  },
  {
   "cell_type": "code",
   "execution_count": 23,
   "metadata": {},
   "outputs": [
    {
     "name": "stdout",
     "output_type": "stream",
     "text": [
      " 143928 9\n"
     ]
    }
   ],
   "source": [
    "grep -v '^#' $GTF | \n",
    "awk -F '\\t' '{print NF}' | \n",
    "sort | \n",
    "uniq -c"
   ]
  },
  {
   "cell_type": "markdown",
   "metadata": {},
   "source": [
    "**10**. How many gene features are there in chromosome 2?"
   ]
  },
  {
   "cell_type": "code",
   "execution_count": 24,
   "metadata": {},
   "outputs": [
    {
     "name": "stdout",
     "output_type": "stream",
     "text": [
      "706\n"
     ]
    }
   ],
   "source": [
    "grep -v '^#' $GTF |\n",
    "awk -F '\\t' '$1==\"2\" && $3==\"gene\"'  | \n",
    "wc -l"
   ]
  },
  {
   "cell_type": "code",
   "execution_count": null,
   "metadata": {},
   "outputs": [],
   "source": []
  }
 ],
 "metadata": {
  "kernelspec": {
   "display_name": "Bash",
   "language": "bash",
   "name": "bash"
  },
  "language_info": {
   "codemirror_mode": "shell",
   "file_extension": ".sh",
   "mimetype": "text/x-sh",
   "name": "bash"
  }
 },
 "nbformat": 4,
 "nbformat_minor": 2
}
