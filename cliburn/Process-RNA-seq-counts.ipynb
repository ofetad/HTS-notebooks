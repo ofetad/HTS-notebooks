{
 "cells": [
  {
   "cell_type": "code",
   "execution_count": 5,
   "metadata": {},
   "outputs": [],
   "source": [
    "import os\n",
    "import glob"
   ]
  },
  {
   "cell_type": "code",
   "execution_count": 11,
   "metadata": {},
   "outputs": [],
   "source": [
    "import pandas as pd"
   ]
  },
  {
   "cell_type": "code",
   "execution_count": 6,
   "metadata": {},
   "outputs": [],
   "source": [
    "data_dir = '/data/hts/2018/foot'"
   ]
  },
  {
   "cell_type": "code",
   "execution_count": 108,
   "metadata": {},
   "outputs": [],
   "source": [
    "fs = glob.glob(os.path.join(data_dir, '*.tab'))"
   ]
  },
  {
   "cell_type": "code",
   "execution_count": 80,
   "metadata": {},
   "outputs": [],
   "source": [
    "from functools import reduce"
   ]
  },
  {
   "cell_type": "code",
   "execution_count": 111,
   "metadata": {},
   "outputs": [],
   "source": [
    "d = {}\n",
    "\n",
    "for f in fs[0:]:\n",
    "    path, filename = os.path.split(f)\n",
    "    name, ext = os.path.splitext(filename)\n",
    "    sid, method, person, _, lane, _, _ = name.split('_')\n",
    "    d.setdefault((sid, method, person), []).append(filename)"
   ]
  },
  {
   "cell_type": "code",
   "execution_count": 207,
   "metadata": {},
   "outputs": [],
   "source": [
    "dfs = []\n",
    "for key in d:\n",
    "    dfs_ = []\n",
    "    for filename in sorted(d[key]):\n",
    "        df_ = pd.read_table(os.path.join(data_dir, filename), header=None, skiprows=4)\n",
    "        df_.columns = ['gene', 'a', 'b', 'c']\n",
    "        df_ = df_.iloc[:, [0,3]]\n",
    "        dfs_.append(df_)\n",
    "    sid, method, person = key\n",
    "    df = reduce(lambda left,right: pd.merge(left, right, on='gene'), dfs_)\n",
    "    df['count'] = df.sum(axis=1)\n",
    "    df['sid'] = sid\n",
    "    df = df[['sid', 'gene', 'count']]\n",
    "    df = df.pivot('sid', 'gene', 'count')\n",
    "    df['person'] = person\n",
    "    df['method'] = method\n",
    "    df.reset_index(level=0, inplace=True)\n",
    "    dfs.append(df)\n",
    "df_all = pd.concat(dfs)"
   ]
  },
  {
   "cell_type": "code",
   "execution_count": 208,
   "metadata": {},
   "outputs": [
    {
     "data": {
      "text/plain": [
       "Index(['sid', 'gene0', 'gene1', 'gene10', 'gene100', 'gene1000', 'gene1001',\n",
       "       'gene1002', 'gene1003', 'gene1004',\n",
       "       ...\n",
       "       'gene992', 'gene993', 'gene994', 'gene995', 'gene996', 'gene997',\n",
       "       'gene998', 'gene999', 'person', 'method'],\n",
       "      dtype='object', name='gene', length=8328)"
      ]
     },
     "execution_count": 208,
     "metadata": {},
     "output_type": "execute_result"
    }
   ],
   "source": [
    "df_all.columns"
   ]
  },
  {
   "cell_type": "code",
   "execution_count": 209,
   "metadata": {},
   "outputs": [],
   "source": [
    "df_all = df_all[df_all.columns[0:1].tolist() + df_all.columns[-2:] .tolist() + df_all.columns[1:-2].tolist()]"
   ]
  },
  {
   "cell_type": "code",
   "execution_count": 216,
   "metadata": {},
   "outputs": [],
   "source": [
    "df_all['sid'] = df_all['sid'].astype('int')"
   ]
  },
  {
   "cell_type": "code",
   "execution_count": 217,
   "metadata": {},
   "outputs": [],
   "source": [
    "df_all = df_all.sort_values(['sid', 'person', 'method'])"
   ]
  },
  {
   "cell_type": "code",
   "execution_count": 218,
   "metadata": {},
   "outputs": [],
   "source": [
    "df_all.to_csv('gene_counts.txt', sep='\\t', index=False)"
   ]
  },
  {
   "cell_type": "code",
   "execution_count": null,
   "metadata": {},
   "outputs": [],
   "source": []
  }
 ],
 "metadata": {
  "kernelspec": {
   "display_name": "Python 3",
   "language": "python",
   "name": "python3"
  },
  "language_info": {
   "codemirror_mode": {
    "name": "ipython",
    "version": 3
   },
   "file_extension": ".py",
   "mimetype": "text/x-python",
   "name": "python",
   "nbconvert_exporter": "python",
   "pygments_lexer": "ipython3",
   "version": "3.6.3"
  }
 },
 "nbformat": 4,
 "nbformat_minor": 2
}
