{
 "cells": [
  {
   "cell_type": "markdown",
   "metadata": {},
   "source": [
    "# Bash Exercise \n",
    "\n",
    "Do the following exercises. Feel free to use `man`, or `<command> --help` or even Google to find solutions. Avoid copy and pasting solutins though - we want you to learn how to do these operations fluently, and typing the commands will help."
   ]
  },
  {
   "cell_type": "markdown",
   "metadata": {},
   "source": [
    "## 0. Clean up\n",
    "\n",
    "This will remove the docs folder in your home direcotry if you have one."
   ]
  },
  {
   "cell_type": "code",
   "execution_count": null,
   "metadata": {},
   "outputs": [],
   "source": [
    "rm -rf ~/docs"
   ]
  },
  {
   "cell_type": "markdown",
   "metadata": {},
   "source": [
    "## 1. Creating text files"
   ]
  },
  {
   "cell_type": "markdown",
   "metadata": {},
   "source": [
    "Create a file with the following contents in a new `docs` folder in your home directory\n",
    "\n",
    "```\n",
    "first,last,middle,age,sex\n",
    "Jane,Frost,G,23,F\n",
    "John,Mundy,F,25,M\n",
    "Bob,Evans,H,57,M\n",
    "John,Smith,M<4,M\n",
    "```\n",
    "\n",
    "- First make the `docs` folder in your home directory and make that your working directory"
   ]
  },
  {
   "cell_type": "code",
   "execution_count": null,
   "metadata": {},
   "outputs": [],
   "source": []
  },
  {
   "cell_type": "markdown",
   "metadata": {},
   "source": [
    "Use the following ways to create the document\n",
    "\n",
    "- Using `echo` and redirection (save as `echo.txt`)"
   ]
  },
  {
   "cell_type": "code",
   "execution_count": null,
   "metadata": {},
   "outputs": [],
   "source": []
  },
  {
   "cell_type": "markdown",
   "metadata": {},
   "source": [
    "- Using `cat` and a `heredoc` (save as `cat.txt`)"
   ]
  },
  {
   "cell_type": "code",
   "execution_count": null,
   "metadata": {},
   "outputs": [],
   "source": []
  },
  {
   "cell_type": "markdown",
   "metadata": {},
   "source": [
    "- Opening a terminal window and using a `nano` text editor (save as `editor.txt`). You can also use `emacs` or `vi` if you are familiar with these traditional editors."
   ]
  },
  {
   "cell_type": "code",
   "execution_count": null,
   "metadata": {},
   "outputs": [],
   "source": [
    "# Simulate using editor\n",
    "# You should not do this!\n",
    "\n",
    "cp cat.txt editor.txt"
   ]
  },
  {
   "cell_type": "markdown",
   "metadata": {},
   "source": [
    "## 2. File and directory management."
   ]
  },
  {
   "cell_type": "markdown",
   "metadata": {},
   "source": [
    "- Display your current working directory"
   ]
  },
  {
   "cell_type": "code",
   "execution_count": null,
   "metadata": {},
   "outputs": [],
   "source": []
  },
  {
   "cell_type": "markdown",
   "metadata": {},
   "source": [
    "- Change your working directory to your hoem directory if not already there"
   ]
  },
  {
   "cell_type": "code",
   "execution_count": null,
   "metadata": {},
   "outputs": [],
   "source": []
  },
  {
   "cell_type": "markdown",
   "metadata": {},
   "source": [
    "- List the contents of the `docs` folder in your home directory"
   ]
  },
  {
   "cell_type": "code",
   "execution_count": null,
   "metadata": {},
   "outputs": [],
   "source": []
  },
  {
   "cell_type": "markdown",
   "metadata": {},
   "source": [
    "- Make a new directory `stuff` within the `docs` folder"
   ]
  },
  {
   "cell_type": "code",
   "execution_count": null,
   "metadata": {},
   "outputs": [],
   "source": []
  },
  {
   "cell_type": "markdown",
   "metadata": {},
   "source": [
    "- Move the files `cat.txt` and `editor.txt` to the `stuff` folder"
   ]
  },
  {
   "cell_type": "code",
   "execution_count": null,
   "metadata": {},
   "outputs": [],
   "source": []
  },
  {
   "cell_type": "markdown",
   "metadata": {},
   "source": [
    "- Copy the file `echo.txt` to the `stuff` folder as `echoecho.txt`"
   ]
  },
  {
   "cell_type": "code",
   "execution_count": null,
   "metadata": {},
   "outputs": [],
   "source": []
  },
  {
   "cell_type": "markdown",
   "metadata": {},
   "source": [
    "- Show the contents of the docs directory recursively"
   ]
  },
  {
   "cell_type": "code",
   "execution_count": null,
   "metadata": {},
   "outputs": [],
   "source": []
  },
  {
   "cell_type": "markdown",
   "metadata": {},
   "source": [
    "- Remove the `stuff` directory and everything in it"
   ]
  },
  {
   "cell_type": "code",
   "execution_count": null,
   "metadata": {},
   "outputs": [],
   "source": []
  },
  {
   "cell_type": "markdown",
   "metadata": {},
   "source": [
    "## 3. Working with text files"
   ]
  },
  {
   "cell_type": "markdown",
   "metadata": {},
   "source": [
    "- Display the contents of `echo.txt` without the header (first) line"
   ]
  },
  {
   "cell_type": "code",
   "execution_count": null,
   "metadata": {},
   "outputs": [],
   "source": []
  },
  {
   "cell_type": "markdown",
   "metadata": {},
   "source": [
    "- Display the contents of `echo.txt` sorted by first name (do not display the first row)"
   ]
  },
  {
   "cell_type": "code",
   "execution_count": null,
   "metadata": {},
   "outputs": [],
   "source": []
  },
  {
   "cell_type": "markdown",
   "metadata": {},
   "source": [
    "- Display the contents of `echo.txt` sorted by age in descending order (do not display the first row)"
   ]
  },
  {
   "cell_type": "code",
   "execution_count": null,
   "metadata": {},
   "outputs": [],
   "source": []
  },
  {
   "cell_type": "markdown",
   "metadata": {},
   "source": [
    "- Display only lines that contain `John`"
   ]
  },
  {
   "cell_type": "code",
   "execution_count": null,
   "metadata": {},
   "outputs": [],
   "source": []
  },
  {
   "cell_type": "markdown",
   "metadata": {},
   "source": [
    "- Display only lines that do not contain `John`"
   ]
  },
  {
   "cell_type": "code",
   "execution_count": null,
   "metadata": {},
   "outputs": [],
   "source": []
  },
  {
   "cell_type": "markdown",
   "metadata": {},
   "source": [
    "- Display only lines that contain 4-letter words starting with `J`"
   ]
  },
  {
   "cell_type": "code",
   "execution_count": null,
   "metadata": {},
   "outputs": [],
   "source": []
  },
  {
   "cell_type": "markdown",
   "metadata": {},
   "source": [
    "- Save only the first three columns of data sorted by last name to a new file `names.txt` in the `docs` folder (do not display the first row))"
   ]
  },
  {
   "cell_type": "code",
   "execution_count": null,
   "metadata": {},
   "outputs": [],
   "source": []
  },
  {
   "cell_type": "markdown",
   "metadata": {},
   "source": [
    "### Optional challenging exercises"
   ]
  },
  {
   "cell_type": "markdown",
   "metadata": {},
   "source": [
    "- Display the contents of `echo.txt` but changing all occurrences of `John` to `Tom`"
   ]
  },
  {
   "cell_type": "code",
   "execution_count": null,
   "metadata": {},
   "outputs": [],
   "source": []
  },
  {
   "cell_type": "markdown",
   "metadata": {},
   "source": [
    "- Save only the rows corresponding to males to a new file `male.txt` in the `docs` folder. (do not display the first row))"
   ]
  },
  {
   "cell_type": "code",
   "execution_count": null,
   "metadata": {},
   "outputs": [],
   "source": []
  },
  {
   "cell_type": "markdown",
   "metadata": {},
   "source": [
    "## Looping"
   ]
  },
  {
   "cell_type": "markdown",
   "metadata": {},
   "source": [
    "- Using a for loop, save lines 2-3 of each file in the docs folder as a new file with a name that looks like `<originaal name>-copy.txt` in a folder with a name like `<originaal name>`. \n",
    "\n",
    "- Upon completiton, `ls -R ~/docs` should have this structure\n",
    "\n",
    "```\n",
    "/home/cliburn/docs:\n",
    "echo  echo.txt  male  male.txt  names  names.txt\n",
    "\n",
    "/home/cliburn/docs/echo:\n",
    "echo-copy.txt\n",
    "\n",
    "/home/cliburn/docs/male:\n",
    "male-copy.txt\n",
    "\n",
    "/home/cliburn/docs/names:\n",
    "names-copy.txt\n",
    "```\n",
    "\n",
    "- Upon completioin, `wc ~/docs/*/*` shouod show this\n",
    "\n",
    "```\n",
    "2  2 36 docs/echo/echo-copy.txt\n",
    "2  2 34 docs/male/male-copy.txt\n",
    "2  2 26 docs/names/names-copy.txt\n",
    "6  6 96 total\n",
    "```\n",
    "\n",
    "Hints:\n",
    "\n",
    "- Use variables to store path and file names (convetnion for variable names is ALL_CAPS_WITH_UNDERSCORES)\n",
    "- Use `globbig` with `ls` to show the full path to a file\n",
    "- The direcotry part of a path can be extracted with `dirname`\n",
    "- The filename part of a path can be extracted with `basename`\n",
    "- You can remove the file extension of a filename stored in `X` with `Y=${X%.*}`\n",
    "- Experiment using the above hints with simple one line commands to understand what they do\n",
    "- Use `echo` statements in your for loop to see what is going on"
   ]
  },
  {
   "cell_type": "code",
   "execution_count": null,
   "metadata": {},
   "outputs": [],
   "source": []
  },
  {
   "cell_type": "code",
   "execution_count": null,
   "metadata": {
    "scrolled": false
   },
   "outputs": [],
   "source": [
    "ls -R ~/docs"
   ]
  },
  {
   "cell_type": "code",
   "execution_count": null,
   "metadata": {},
   "outputs": [],
   "source": [
    "wc docs/*/*"
   ]
  }
 ],
 "metadata": {
  "kernelspec": {
   "display_name": "Bash",
   "language": "bash",
   "name": "bash"
  },
  "language_info": {
   "codemirror_mode": "shell",
   "file_extension": ".sh",
   "mimetype": "text/x-sh",
   "name": "bash"
  }
 },
 "nbformat": 4,
 "nbformat_minor": 2
}
