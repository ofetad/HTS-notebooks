{
 "cells": [
  {
   "cell_type": "markdown",
   "metadata": {},
   "source": [
    "# R `tidyverse` exercise"
   ]
  },
  {
   "cell_type": "markdown",
   "metadata": {},
   "source": [
    "We will be working with the output files from the STAR aligner for this exercise. Thse files have four columns \n",
    "\n",
    "```\n",
    "column 1: gene ID \n",
    "column 2: counts for unstranded RNA-seq \n",
    "column 3: counts for the 1st read strand aligned with RNA (htseq-count option -s yes) \n",
    "column 4: counts for the 2nd read strand aligned with RNA (htseq-count option -s reverse) \n",
    "```\n",
    "\n",
    "For explanation, see [STAR quantMode geneCounts values](https://www.biostars.org/p/218995/)\n",
    "\n",
    "Based on the protocol we are using column 4 is the sense strand reads and column 3 is the anti-sense read counts, so we will be working with columns 1 and 4. "
   ]
  },
  {
   "cell_type": "code",
   "execution_count": 14,
   "metadata": {},
   "outputs": [
    {
     "name": "stderr",
     "output_type": "stream",
     "text": [
      "── Attaching packages ─────────────────────────────────────── tidyverse 1.2.1 ──\n",
      "✔ ggplot2 2.2.1     ✔ purrr   0.2.5\n",
      "✔ tibble  1.4.2     ✔ dplyr   0.7.5\n",
      "✔ tidyr   0.8.1     ✔ stringr 1.3.1\n",
      "✔ readr   1.1.1     ✔ forcats 0.3.0\n",
      "── Conflicts ────────────────────────────────────────── tidyverse_conflicts() ──\n",
      "✖ dplyr::filter() masks stats::filter()\n",
      "✖ dplyr::lag()    masks stats::lag()\n"
     ]
    }
   ],
   "source": [
    "library(tidyverse)"
   ]
  },
  {
   "cell_type": "markdown",
   "metadata": {},
   "source": [
    "We will work with the following data from the 4 lanes.\n",
    "\n",
    "```\n",
    "1_MA_J_S18_L001_R1_001ReadsPerGene.out.tab\n",
    "1_MA_J_S18_L002_R1_001ReadsPerGene.out.tab\n",
    "1_MA_J_S18_L003_R1_001ReadsPerGene.out.tab\n",
    "1_MA_J_S18_L004_R1_001ReadsPerGene.out.tab\n",
    "```\n",
    "\n",
    "found in the directory\n",
    "\n",
    "```\n",
    "/data/hts/2018/foot\n",
    "```"
   ]
  },
  {
   "cell_type": "markdown",
   "metadata": {},
   "source": [
    "## Setting up variables"
   ]
  },
  {
   "cell_type": "markdown",
   "metadata": {},
   "source": [
    "**1**. Use `file.path` to create a path to the data directory and save it as the variable `data_dir`."
   ]
  },
  {
   "cell_type": "code",
   "execution_count": 9,
   "metadata": {},
   "outputs": [],
   "source": [
    "data_dir =  file.path('/', 'data', 'hts', '2018', 'foot')"
   ]
  },
  {
   "cell_type": "markdown",
   "metadata": {},
   "source": [
    "**2**. Save the filenames in a variable `filenames`"
   ]
  },
  {
   "cell_type": "code",
   "execution_count": 10,
   "metadata": {},
   "outputs": [],
   "source": [
    "filenames <- c('1_MA_J_S18_L001_R1_001ReadsPerGene.out.tab',\n",
    "               '1_MA_J_S18_L002_R1_001ReadsPerGene.out.tab',\n",
    "               '1_MA_J_S18_L003_R1_001ReadsPerGene.out.tab',\n",
    "               '1_MA_J_S18_L004_R1_001ReadsPerGene.out.tab')"
   ]
  },
  {
   "cell_type": "markdown",
   "metadata": {},
   "source": [
    "## Explore one data file"
   ]
  },
  {
   "cell_type": "markdown",
   "metadata": {},
   "source": [
    "**3**. Read the data from the first file into a `data.frame` or `tibble` called `df`. Note that the file does not have a header row. Name the columns `id`,`us`,  `fs`  and `rs`."
   ]
  },
  {
   "cell_type": "code",
   "execution_count": 20,
   "metadata": {},
   "outputs": [
    {
     "data": {
      "text/html": [
       "'//data/hts/2018/foot/1_MA_J_S18_L001_R1_001ReadsPerGene.out.tab'"
      ],
      "text/latex": [
       "'//data/hts/2018/foot/1\\_MA\\_J\\_S18\\_L001\\_R1\\_001ReadsPerGene.out.tab'"
      ],
      "text/markdown": [
       "'//data/hts/2018/foot/1_MA_J_S18_L001_R1_001ReadsPerGene.out.tab'"
      ],
      "text/plain": [
       "[1] \"//data/hts/2018/foot/1_MA_J_S18_L001_R1_001ReadsPerGene.out.tab\""
      ]
     },
     "metadata": {},
     "output_type": "display_data"
    }
   ],
   "source": [
    "f1 <- file.path(data_dir, filenames[[1]])\n",
    "f1"
   ]
  },
  {
   "cell_type": "code",
   "execution_count": 22,
   "metadata": {},
   "outputs": [
    {
     "name": "stderr",
     "output_type": "stream",
     "text": [
      "Parsed with column specification:\n",
      "cols(\n",
      "  id = col_character(),\n",
      "  us = col_integer(),\n",
      "  fs = col_integer(),\n",
      "  rs = col_integer()\n",
      ")\n"
     ]
    }
   ],
   "source": [
    "df <- read_tsv(f1, col_names = c('id', 'us', 'fs', 'rs'))"
   ]
  },
  {
   "cell_type": "markdown",
   "metadata": {},
   "source": [
    "**4**. View the first and last 10 lines of `df`"
   ]
  },
  {
   "cell_type": "code",
   "execution_count": 23,
   "metadata": {},
   "outputs": [
    {
     "data": {
      "text/html": [
       "<table>\n",
       "<thead><tr><th scope=col>id</th><th scope=col>us</th><th scope=col>fs</th><th scope=col>rs</th></tr></thead>\n",
       "<tbody>\n",
       "\t<tr><td>N_unmapped    </td><td> 12683        </td><td>  12683       </td><td>12683         </td></tr>\n",
       "\t<tr><td>N_multimapping</td><td> 48837        </td><td>  48837       </td><td>48837         </td></tr>\n",
       "\t<tr><td>N_noFeature   </td><td>  9605        </td><td>2207680       </td><td>18570         </td></tr>\n",
       "\t<tr><td>N_ambiguous   </td><td>169971        </td><td>   1593       </td><td>  409         </td></tr>\n",
       "\t<tr><td>gene0         </td><td>     0        </td><td>      0       </td><td>    0         </td></tr>\n",
       "\t<tr><td>gene1         </td><td>     0        </td><td>      0       </td><td>    0         </td></tr>\n",
       "\t<tr><td>gene2         </td><td>     8        </td><td>      0       </td><td>    8         </td></tr>\n",
       "\t<tr><td>gene3         </td><td>     1        </td><td>      0       </td><td>    1         </td></tr>\n",
       "\t<tr><td>gene4         </td><td>     0        </td><td>      0       </td><td>    0         </td></tr>\n",
       "\t<tr><td>gene5         </td><td>    66        </td><td>      0       </td><td>   66         </td></tr>\n",
       "</tbody>\n",
       "</table>\n"
      ],
      "text/latex": [
       "\\begin{tabular}{r|llll}\n",
       " id & us & fs & rs\\\\\n",
       "\\hline\n",
       "\t N\\_unmapped     &  12683           &   12683          & 12683           \\\\\n",
       "\t N\\_multimapping &  48837           &   48837          & 48837           \\\\\n",
       "\t N\\_noFeature    &   9605           & 2207680          & 18570           \\\\\n",
       "\t N\\_ambiguous    & 169971           &    1593          &   409           \\\\\n",
       "\t gene0          &      0         &       0        &     0         \\\\\n",
       "\t gene1          &      0         &       0        &     0         \\\\\n",
       "\t gene2          &      8         &       0        &     8         \\\\\n",
       "\t gene3          &      1         &       0        &     1         \\\\\n",
       "\t gene4          &      0         &       0        &     0         \\\\\n",
       "\t gene5          &     66         &       0        &    66         \\\\\n",
       "\\end{tabular}\n"
      ],
      "text/markdown": [
       "\n",
       "id | us | fs | rs | \n",
       "|---|---|---|---|---|---|---|---|---|---|\n",
       "| N_unmapped     |  12683         |   12683        | 12683          | \n",
       "| N_multimapping |  48837         |   48837        | 48837          | \n",
       "| N_noFeature    |   9605         | 2207680        | 18570          | \n",
       "| N_ambiguous    | 169971         |    1593        |   409          | \n",
       "| gene0          |      0         |       0        |     0          | \n",
       "| gene1          |      0         |       0        |     0          | \n",
       "| gene2          |      8         |       0        |     8          | \n",
       "| gene3          |      1         |       0        |     1          | \n",
       "| gene4          |      0         |       0        |     0          | \n",
       "| gene5          |     66         |       0        |    66          | \n",
       "\n",
       "\n"
      ],
      "text/plain": [
       "   id             us     fs      rs   \n",
       "1  N_unmapped      12683   12683 12683\n",
       "2  N_multimapping  48837   48837 48837\n",
       "3  N_noFeature      9605 2207680 18570\n",
       "4  N_ambiguous    169971    1593   409\n",
       "5  gene0               0       0     0\n",
       "6  gene1               0       0     0\n",
       "7  gene2               8       0     8\n",
       "8  gene3               1       0     1\n",
       "9  gene4               0       0     0\n",
       "10 gene5              66       0    66"
      ]
     },
     "metadata": {},
     "output_type": "display_data"
    }
   ],
   "source": [
    "df %>% head(10)"
   ]
  },
  {
   "cell_type": "code",
   "execution_count": 33,
   "metadata": {},
   "outputs": [
    {
     "data": {
      "text/html": [
       "<table>\n",
       "<thead><tr><th scope=col>id</th><th scope=col>us</th><th scope=col>fs</th><th scope=col>rs</th></tr></thead>\n",
       "<tbody>\n",
       "\t<tr><td>gene8319</td><td>0       </td><td>0       </td><td>0       </td></tr>\n",
       "\t<tr><td>gene8323</td><td>0       </td><td>0       </td><td>0       </td></tr>\n",
       "\t<tr><td>gene8324</td><td>1       </td><td>0       </td><td>1       </td></tr>\n",
       "\t<tr><td>gene8326</td><td>0       </td><td>0       </td><td>0       </td></tr>\n",
       "\t<tr><td>gene8327</td><td>0       </td><td>0       </td><td>0       </td></tr>\n",
       "\t<tr><td>gene8328</td><td>0       </td><td>0       </td><td>0       </td></tr>\n",
       "\t<tr><td>gene8329</td><td>0       </td><td>0       </td><td>0       </td></tr>\n",
       "\t<tr><td>gene8330</td><td>0       </td><td>0       </td><td>0       </td></tr>\n",
       "\t<tr><td>gene8333</td><td>2       </td><td>0       </td><td>2       </td></tr>\n",
       "\t<tr><td>gene8334</td><td>0       </td><td>0       </td><td>0       </td></tr>\n",
       "</tbody>\n",
       "</table>\n"
      ],
      "text/latex": [
       "\\begin{tabular}{r|llll}\n",
       " id & us & fs & rs\\\\\n",
       "\\hline\n",
       "\t gene8319 & 0        & 0        & 0       \\\\\n",
       "\t gene8323 & 0        & 0        & 0       \\\\\n",
       "\t gene8324 & 1        & 0        & 1       \\\\\n",
       "\t gene8326 & 0        & 0        & 0       \\\\\n",
       "\t gene8327 & 0        & 0        & 0       \\\\\n",
       "\t gene8328 & 0        & 0        & 0       \\\\\n",
       "\t gene8329 & 0        & 0        & 0       \\\\\n",
       "\t gene8330 & 0        & 0        & 0       \\\\\n",
       "\t gene8333 & 2        & 0        & 2       \\\\\n",
       "\t gene8334 & 0        & 0        & 0       \\\\\n",
       "\\end{tabular}\n"
      ],
      "text/markdown": [
       "\n",
       "id | us | fs | rs | \n",
       "|---|---|---|---|---|---|---|---|---|---|\n",
       "| gene8319 | 0        | 0        | 0        | \n",
       "| gene8323 | 0        | 0        | 0        | \n",
       "| gene8324 | 1        | 0        | 1        | \n",
       "| gene8326 | 0        | 0        | 0        | \n",
       "| gene8327 | 0        | 0        | 0        | \n",
       "| gene8328 | 0        | 0        | 0        | \n",
       "| gene8329 | 0        | 0        | 0        | \n",
       "| gene8330 | 0        | 0        | 0        | \n",
       "| gene8333 | 2        | 0        | 2        | \n",
       "| gene8334 | 0        | 0        | 0        | \n",
       "\n",
       "\n"
      ],
      "text/plain": [
       "   id       us fs rs\n",
       "1  gene8319 0  0  0 \n",
       "2  gene8323 0  0  0 \n",
       "3  gene8324 1  0  1 \n",
       "4  gene8326 0  0  0 \n",
       "5  gene8327 0  0  0 \n",
       "6  gene8328 0  0  0 \n",
       "7  gene8329 0  0  0 \n",
       "8  gene8330 0  0  0 \n",
       "9  gene8333 2  0  2 \n",
       "10 gene8334 0  0  0 "
      ]
     },
     "metadata": {},
     "output_type": "display_data"
    }
   ],
   "source": [
    "df %>% tail(10)"
   ]
  },
  {
   "cell_type": "markdown",
   "metadata": {},
   "source": [
    "**5**. Save the lines from 5 onwards into a new `data.frame`  called `df_genes`."
   ]
  },
  {
   "cell_type": "code",
   "execution_count": 26,
   "metadata": {},
   "outputs": [],
   "source": [
    "df_genes <- df %>% slice(-(1:4))"
   ]
  },
  {
   "cell_type": "code",
   "execution_count": 29,
   "metadata": {},
   "outputs": [
    {
     "data": {
      "text/html": [
       "<table>\n",
       "<thead><tr><th scope=col>id</th><th scope=col>us</th><th scope=col>fs</th><th scope=col>rs</th></tr></thead>\n",
       "<tbody>\n",
       "\t<tr><td>gene0</td><td>0    </td><td>0    </td><td>0    </td></tr>\n",
       "\t<tr><td>gene1</td><td>0    </td><td>0    </td><td>0    </td></tr>\n",
       "\t<tr><td>gene2</td><td>8    </td><td>0    </td><td>8    </td></tr>\n",
       "</tbody>\n",
       "</table>\n"
      ],
      "text/latex": [
       "\\begin{tabular}{r|llll}\n",
       " id & us & fs & rs\\\\\n",
       "\\hline\n",
       "\t gene0 & 0     & 0     & 0    \\\\\n",
       "\t gene1 & 0     & 0     & 0    \\\\\n",
       "\t gene2 & 8     & 0     & 8    \\\\\n",
       "\\end{tabular}\n"
      ],
      "text/markdown": [
       "\n",
       "id | us | fs | rs | \n",
       "|---|---|---|\n",
       "| gene0 | 0     | 0     | 0     | \n",
       "| gene1 | 0     | 0     | 0     | \n",
       "| gene2 | 8     | 0     | 8     | \n",
       "\n",
       "\n"
      ],
      "text/plain": [
       "  id    us fs rs\n",
       "1 gene0 0  0  0 \n",
       "2 gene1 0  0  0 \n",
       "3 gene2 8  0  8 "
      ]
     },
     "metadata": {},
     "output_type": "display_data"
    }
   ],
   "source": [
    "df_genes %>% head(3)"
   ]
  },
  {
   "cell_type": "markdown",
   "metadata": {},
   "source": [
    "**6**. Create a new file from `df_genes` contining only the 1st and 4th columns and save as a new variable `df_final`."
   ]
  },
  {
   "cell_type": "code",
   "execution_count": 53,
   "metadata": {},
   "outputs": [
    {
     "data": {
      "text/html": [
       "<table>\n",
       "<thead><tr><th scope=col>id</th><th scope=col>rs</th></tr></thead>\n",
       "<tbody>\n",
       "\t<tr><td>gene0</td><td>0    </td></tr>\n",
       "\t<tr><td>gene1</td><td>0    </td></tr>\n",
       "\t<tr><td>gene2</td><td>8    </td></tr>\n",
       "</tbody>\n",
       "</table>\n"
      ],
      "text/latex": [
       "\\begin{tabular}{r|ll}\n",
       " id & rs\\\\\n",
       "\\hline\n",
       "\t gene0 & 0    \\\\\n",
       "\t gene1 & 0    \\\\\n",
       "\t gene2 & 8    \\\\\n",
       "\\end{tabular}\n"
      ],
      "text/markdown": [
       "\n",
       "id | rs | \n",
       "|---|---|---|\n",
       "| gene0 | 0     | \n",
       "| gene1 | 0     | \n",
       "| gene2 | 8     | \n",
       "\n",
       "\n"
      ],
      "text/plain": [
       "  id    rs\n",
       "1 gene0 0 \n",
       "2 gene1 0 \n",
       "3 gene2 8 "
      ]
     },
     "metadata": {},
     "output_type": "display_data"
    }
   ],
   "source": [
    "df_final <- df_genes %>% select(id, rs)\n",
    "df_final %>% head(3)"
   ]
  },
  {
   "cell_type": "markdown",
   "metadata": {},
   "source": [
    "**7**. Now do steps 3, 5 and 6 for the other 3 files using a loop, and combine them with `df_final` using `full_join` on the `id` column to end up with a data.frame with 5 columns (id and 4 count columns)."
   ]
  },
  {
   "cell_type": "code",
   "execution_count": 54,
   "metadata": {},
   "outputs": [],
   "source": [
    "for (i in 2:4) {\n",
    "    filename <- filenames[i]\n",
    "    path <- file.path(file.path(data_dir, filename))\n",
    "    df <- suppressMessages(read_tsv(path, col_names =c('id', 'us', 'fs', 'rs')))\n",
    "    df <- df %>% slice(-(1:4)) %>% select('id', 'rs')\n",
    "    df_final <- full_join(df_final, df, by = 'id') \n",
    "}"
   ]
  },
  {
   "cell_type": "markdown",
   "metadata": {},
   "source": [
    "**8**. Rename the counts columns as `lane1`, `lane2`, `lane3` and `lane4`. At this point you should have a `data.frame` that looks like this\n",
    "\n",
    "| id |\tlane1 | lane2 | lane3 | lane4 |\n",
    "| - | - | - | - | -| \n",
    "| gene0 | 0 |\t0 |\t0 |\t1 |\n",
    "| gene1\t| 0 |\t0 |\t0 |\t0 |\n",
    "| gene2\t| 8 |\t4 |\t10 | 3 | \n",
    "\n"
   ]
  },
  {
   "cell_type": "code",
   "execution_count": 56,
   "metadata": {},
   "outputs": [],
   "source": [
    "names(df_final) <- c('id', 'lane1', 'lane2', 'lane3', 'lane4')"
   ]
  },
  {
   "cell_type": "code",
   "execution_count": 78,
   "metadata": {},
   "outputs": [
    {
     "data": {
      "text/html": [
       "<table>\n",
       "<thead><tr><th scope=col>id</th><th scope=col>lane1</th><th scope=col>lane2</th><th scope=col>lane3</th><th scope=col>lane4</th></tr></thead>\n",
       "<tbody>\n",
       "\t<tr><td>gene0</td><td>0    </td><td>0    </td><td> 0   </td><td>1    </td></tr>\n",
       "\t<tr><td>gene1</td><td>0    </td><td>0    </td><td> 0   </td><td>0    </td></tr>\n",
       "\t<tr><td>gene2</td><td>8    </td><td>4    </td><td>10   </td><td>3    </td></tr>\n",
       "</tbody>\n",
       "</table>\n"
      ],
      "text/latex": [
       "\\begin{tabular}{r|lllll}\n",
       " id & lane1 & lane2 & lane3 & lane4\\\\\n",
       "\\hline\n",
       "\t gene0 & 0     & 0     &  0    & 1    \\\\\n",
       "\t gene1 & 0     & 0     &  0    & 0    \\\\\n",
       "\t gene2 & 8     & 4     & 10    & 3    \\\\\n",
       "\\end{tabular}\n"
      ],
      "text/markdown": [
       "\n",
       "id | lane1 | lane2 | lane3 | lane4 | \n",
       "|---|---|---|\n",
       "| gene0 | 0     | 0     |  0    | 1     | \n",
       "| gene1 | 0     | 0     |  0    | 0     | \n",
       "| gene2 | 8     | 4     | 10    | 3     | \n",
       "\n",
       "\n"
      ],
      "text/plain": [
       "  id    lane1 lane2 lane3 lane4\n",
       "1 gene0 0     0      0    1    \n",
       "2 gene1 0     0      0    0    \n",
       "3 gene2 8     4     10    3    "
      ]
     },
     "metadata": {},
     "output_type": "display_data"
    }
   ],
   "source": [
    "head(df_final, 3)"
   ]
  },
  {
   "cell_type": "markdown",
   "metadata": {},
   "source": [
    "**9**. Create a new column containng the sum of lanes 1-4 called `counts` and save as `df_wiht_counts`."
   ]
  },
  {
   "cell_type": "code",
   "execution_count": 110,
   "metadata": {},
   "outputs": [
    {
     "data": {
      "text/html": [
       "<table>\n",
       "<thead><tr><th scope=col>id</th><th scope=col>lane1</th><th scope=col>lane2</th><th scope=col>lane3</th><th scope=col>lane4</th><th scope=col>counts</th></tr></thead>\n",
       "<tbody>\n",
       "\t<tr><td>gene0</td><td> 0   </td><td> 0   </td><td> 0   </td><td> 1   </td><td>  1  </td></tr>\n",
       "\t<tr><td>gene1</td><td> 0   </td><td> 0   </td><td> 0   </td><td> 0   </td><td>  0  </td></tr>\n",
       "\t<tr><td>gene2</td><td> 8   </td><td> 4   </td><td>10   </td><td> 3   </td><td> 25  </td></tr>\n",
       "\t<tr><td>gene3</td><td> 1   </td><td> 0   </td><td> 1   </td><td> 1   </td><td>  3  </td></tr>\n",
       "\t<tr><td>gene4</td><td> 0   </td><td> 1   </td><td> 0   </td><td> 0   </td><td>  1  </td></tr>\n",
       "\t<tr><td>gene5</td><td>66   </td><td>58   </td><td>72   </td><td>65   </td><td>261  </td></tr>\n",
       "</tbody>\n",
       "</table>\n"
      ],
      "text/latex": [
       "\\begin{tabular}{r|llllll}\n",
       " id & lane1 & lane2 & lane3 & lane4 & counts\\\\\n",
       "\\hline\n",
       "\t gene0 &  0    &  0    &  0    &  1    &   1  \\\\\n",
       "\t gene1 &  0    &  0    &  0    &  0    &   0  \\\\\n",
       "\t gene2 &  8    &  4    & 10    &  3    &  25  \\\\\n",
       "\t gene3 &  1    &  0    &  1    &  1    &   3  \\\\\n",
       "\t gene4 &  0    &  1    &  0    &  0    &   1  \\\\\n",
       "\t gene5 & 66    & 58    & 72    & 65    & 261  \\\\\n",
       "\\end{tabular}\n"
      ],
      "text/markdown": [
       "\n",
       "id | lane1 | lane2 | lane3 | lane4 | counts | \n",
       "|---|---|---|---|---|---|\n",
       "| gene0 |  0    |  0    |  0    |  1    |   1   | \n",
       "| gene1 |  0    |  0    |  0    |  0    |   0   | \n",
       "| gene2 |  8    |  4    | 10    |  3    |  25   | \n",
       "| gene3 |  1    |  0    |  1    |  1    |   3   | \n",
       "| gene4 |  0    |  1    |  0    |  0    |   1   | \n",
       "| gene5 | 66    | 58    | 72    | 65    | 261   | \n",
       "\n",
       "\n"
      ],
      "text/plain": [
       "  id    lane1 lane2 lane3 lane4 counts\n",
       "1 gene0  0     0     0     1      1   \n",
       "2 gene1  0     0     0     0      0   \n",
       "3 gene2  8     4    10     3     25   \n",
       "4 gene3  1     0     1     1      3   \n",
       "5 gene4  0     1     0     0      1   \n",
       "6 gene5 66    58    72    65    261   "
      ]
     },
     "metadata": {},
     "output_type": "display_data"
    }
   ],
   "source": [
    "df_with_counts <- df_final %>% \n",
    "mutate(counts = lane1 + lane2+ lane3 + lane4) \n",
    "head(df_with_counts)"
   ]
  },
  {
   "cell_type": "markdown",
   "metadata": {},
   "source": [
    "**Note on more facny R**.\n",
    "\n",
    "If there are too many columns to add, you can use `Reduce`. The funny `.` notation is a dummy variable for the entity begin pipled in. \n",
    "\n",
    "`Reduce` applies the binary operation in the first argument to all pairs of variables in the second arguemnt, with an optional initial value (defaults to a the identity for the binary operation).\n",
    "\n",
    "For example:\n",
    "\n",
    "`Reduce('+', 1:4)` is the same as `Reduce('+', 1:4, 0)` which is `((((0 + 1) + 2) + 3) + 4)` and returns 10 - i.e. this gives the same result as sum."
   ]
  },
  {
   "cell_type": "code",
   "execution_count": 95,
   "metadata": {},
   "outputs": [
    {
     "data": {
      "text/html": [
       "<table>\n",
       "<thead><tr><th scope=col>id</th><th scope=col>lane1</th><th scope=col>lane2</th><th scope=col>lane3</th><th scope=col>lane4</th><th scope=col>counts</th></tr></thead>\n",
       "<tbody>\n",
       "\t<tr><td>gene0</td><td>0    </td><td>0    </td><td> 0   </td><td>1    </td><td> 1   </td></tr>\n",
       "\t<tr><td>gene1</td><td>0    </td><td>0    </td><td> 0   </td><td>0    </td><td> 0   </td></tr>\n",
       "\t<tr><td>gene2</td><td>8    </td><td>4    </td><td>10   </td><td>3    </td><td>25   </td></tr>\n",
       "\t<tr><td>gene3</td><td>1    </td><td>0    </td><td> 1   </td><td>1    </td><td> 3   </td></tr>\n",
       "\t<tr><td>gene4</td><td>0    </td><td>1    </td><td> 0   </td><td>0    </td><td> 1   </td></tr>\n",
       "</tbody>\n",
       "</table>\n"
      ],
      "text/latex": [
       "\\begin{tabular}{r|llllll}\n",
       " id & lane1 & lane2 & lane3 & lane4 & counts\\\\\n",
       "\\hline\n",
       "\t gene0 & 0     & 0     &  0    & 1     &  1   \\\\\n",
       "\t gene1 & 0     & 0     &  0    & 0     &  0   \\\\\n",
       "\t gene2 & 8     & 4     & 10    & 3     & 25   \\\\\n",
       "\t gene3 & 1     & 0     &  1    & 1     &  3   \\\\\n",
       "\t gene4 & 0     & 1     &  0    & 0     &  1   \\\\\n",
       "\\end{tabular}\n"
      ],
      "text/markdown": [
       "\n",
       "id | lane1 | lane2 | lane3 | lane4 | counts | \n",
       "|---|---|---|---|---|\n",
       "| gene0 | 0     | 0     |  0    | 1     |  1    | \n",
       "| gene1 | 0     | 0     |  0    | 0     |  0    | \n",
       "| gene2 | 8     | 4     | 10    | 3     | 25    | \n",
       "| gene3 | 1     | 0     |  1    | 1     |  3    | \n",
       "| gene4 | 0     | 1     |  0    | 0     |  1    | \n",
       "\n",
       "\n"
      ],
      "text/plain": [
       "  id    lane1 lane2 lane3 lane4 counts\n",
       "1 gene0 0     0      0    1      1    \n",
       "2 gene1 0     0      0    0      0    \n",
       "3 gene2 8     4     10    3     25    \n",
       "4 gene3 1     0      1    1      3    \n",
       "5 gene4 0     1      0    0      1    "
      ]
     },
     "metadata": {},
     "output_type": "display_data"
    }
   ],
   "source": [
    "df_final %>% \n",
    "mutate(counts = Reduce('+', .[2:5])) %>% \n",
    "head(5)"
   ]
  },
  {
   "cell_type": "markdown",
   "metadata": {},
   "source": [
    "**10**. Keep only the `id` and `coutns` columns and remove reow where the gene count is 0 and save as `df_counts`. \n",
    "\n",
    "- How many genes with non-zero counts are there?\n",
    "- What is the gene(s) with the highest count?\n",
    "- What are the top 10 largest counts - i.e. the set with the largest number of genes having the same count?"
   ]
  },
  {
   "cell_type": "code",
   "execution_count": 113,
   "metadata": {},
   "outputs": [],
   "source": [
    "df_counts <- df_with_counts %>% \n",
    "select(id, counts) %>%\n",
    "filter(counts != 0)"
   ]
  },
  {
   "cell_type": "code",
   "execution_count": 117,
   "metadata": {},
   "outputs": [
    {
     "data": {
      "text/html": [
       "<table>\n",
       "<thead><tr><th scope=col>n()</th></tr></thead>\n",
       "<tbody>\n",
       "\t<tr><td>7852</td></tr>\n",
       "</tbody>\n",
       "</table>\n"
      ],
      "text/latex": [
       "\\begin{tabular}{r|l}\n",
       " n()\\\\\n",
       "\\hline\n",
       "\t 7852\\\\\n",
       "\\end{tabular}\n"
      ],
      "text/markdown": [
       "\n",
       "n() | \n",
       "|---|\n",
       "| 7852 | \n",
       "\n",
       "\n"
      ],
      "text/plain": [
       "  n() \n",
       "1 7852"
      ]
     },
     "metadata": {},
     "output_type": "display_data"
    }
   ],
   "source": [
    "df_counts %>% summarize(n())"
   ]
  },
  {
   "cell_type": "code",
   "execution_count": 121,
   "metadata": {},
   "outputs": [
    {
     "data": {
      "text/html": [
       "<table>\n",
       "<thead><tr><th scope=col>id</th><th scope=col>counts</th></tr></thead>\n",
       "<tbody>\n",
       "\t<tr><td>gene7418</td><td>210788  </td></tr>\n",
       "</tbody>\n",
       "</table>\n"
      ],
      "text/latex": [
       "\\begin{tabular}{r|ll}\n",
       " id & counts\\\\\n",
       "\\hline\n",
       "\t gene7418 & 210788  \\\\\n",
       "\\end{tabular}\n"
      ],
      "text/markdown": [
       "\n",
       "id | counts | \n",
       "|---|\n",
       "| gene7418 | 210788   | \n",
       "\n",
       "\n"
      ],
      "text/plain": [
       "  id       counts\n",
       "1 gene7418 210788"
      ]
     },
     "metadata": {},
     "output_type": "display_data"
    }
   ],
   "source": [
    "df_counts %>% filter(counts == max(counts))"
   ]
  },
  {
   "cell_type": "code",
   "execution_count": 131,
   "metadata": {},
   "outputs": [
    {
     "data": {
      "text/html": [
       "<table>\n",
       "<thead><tr><th scope=col>counts</th><th scope=col>num_genes</th></tr></thead>\n",
       "<tbody>\n",
       "\t<tr><td> 1 </td><td>199</td></tr>\n",
       "\t<tr><td> 2 </td><td>132</td></tr>\n",
       "\t<tr><td> 3 </td><td>115</td></tr>\n",
       "\t<tr><td> 5 </td><td> 87</td></tr>\n",
       "\t<tr><td> 4 </td><td> 82</td></tr>\n",
       "\t<tr><td> 6 </td><td> 80</td></tr>\n",
       "\t<tr><td> 7 </td><td> 78</td></tr>\n",
       "\t<tr><td> 9 </td><td> 62</td></tr>\n",
       "\t<tr><td>11 </td><td> 55</td></tr>\n",
       "\t<tr><td> 8 </td><td> 54</td></tr>\n",
       "</tbody>\n",
       "</table>\n"
      ],
      "text/latex": [
       "\\begin{tabular}{r|ll}\n",
       " counts & num\\_genes\\\\\n",
       "\\hline\n",
       "\t  1  & 199\\\\\n",
       "\t  2  & 132\\\\\n",
       "\t  3  & 115\\\\\n",
       "\t  5  &  87\\\\\n",
       "\t  4  &  82\\\\\n",
       "\t  6  &  80\\\\\n",
       "\t  7  &  78\\\\\n",
       "\t  9  &  62\\\\\n",
       "\t 11  &  55\\\\\n",
       "\t  8  &  54\\\\\n",
       "\\end{tabular}\n"
      ],
      "text/markdown": [
       "\n",
       "counts | num_genes | \n",
       "|---|---|---|---|---|---|---|---|---|---|\n",
       "|  1  | 199 | \n",
       "|  2  | 132 | \n",
       "|  3  | 115 | \n",
       "|  5  |  87 | \n",
       "|  4  |  82 | \n",
       "|  6  |  80 | \n",
       "|  7  |  78 | \n",
       "|  9  |  62 | \n",
       "| 11  |  55 | \n",
       "|  8  |  54 | \n",
       "\n",
       "\n"
      ],
      "text/plain": [
       "   counts num_genes\n",
       "1   1     199      \n",
       "2   2     132      \n",
       "3   3     115      \n",
       "4   5      87      \n",
       "5   4      82      \n",
       "6   6      80      \n",
       "7   7      78      \n",
       "8   9      62      \n",
       "9  11      55      \n",
       "10  8      54      "
      ]
     },
     "metadata": {},
     "output_type": "display_data"
    }
   ],
   "source": [
    "df_counts %>% \n",
    "group_by(counts) %>% \n",
    "summarize(num_genes = n())  %>%\n",
    "arrange(desc(num_genes)) %>%\n",
    "head(10)"
   ]
  },
  {
   "cell_type": "code",
   "execution_count": null,
   "metadata": {},
   "outputs": [],
   "source": []
  }
 ],
 "metadata": {
  "kernelspec": {
   "display_name": "R",
   "language": "R",
   "name": "r"
  },
  "language_info": {
   "codemirror_mode": "r",
   "file_extension": ".r",
   "mimetype": "text/x-r-source",
   "name": "R",
   "pygments_lexer": "r",
   "version": "3.4.4"
  }
 },
 "nbformat": 4,
 "nbformat_minor": 2
}
