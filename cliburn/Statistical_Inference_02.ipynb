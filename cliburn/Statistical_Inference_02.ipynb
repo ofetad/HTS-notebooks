{
 "cells": [
  {
   "cell_type": "markdown",
   "metadata": {},
   "source": [
    "# Estimation and Hypothesis Testing"
   ]
  },
  {
   "cell_type": "code",
   "execution_count": 1,
   "metadata": {},
   "outputs": [
    {
     "name": "stderr",
     "output_type": "stream",
     "text": [
      "── Attaching packages ─────────────────────────────────────── tidyverse 1.2.1 ──\n",
      "✔ ggplot2 2.2.1     ✔ purrr   0.2.5\n",
      "✔ tibble  1.4.2     ✔ dplyr   0.7.5\n",
      "✔ tidyr   0.8.1     ✔ stringr 1.3.1\n",
      "✔ readr   1.1.1     ✔ forcats 0.3.0\n",
      "── Conflicts ────────────────────────────────────────── tidyverse_conflicts() ──\n",
      "✖ dplyr::filter() masks stats::filter()\n",
      "✖ dplyr::lag()    masks stats::lag()\n"
     ]
    }
   ],
   "source": [
    "library(tidyverse)"
   ]
  },
  {
   "cell_type": "code",
   "execution_count": 2,
   "metadata": {},
   "outputs": [],
   "source": [
    "options(repr.plot.width=4, repr.plot.height=3)"
   ]
  },
  {
   "cell_type": "markdown",
   "metadata": {},
   "source": [
    "## Set random number seed for reproucibility"
   ]
  },
  {
   "cell_type": "code",
   "execution_count": 3,
   "metadata": {},
   "outputs": [],
   "source": [
    "set.seed(42)"
   ]
  },
  {
   "cell_type": "markdown",
   "metadata": {},
   "source": [
    "## Point estimates"
   ]
  },
  {
   "cell_type": "code",
   "execution_count": 4,
   "metadata": {},
   "outputs": [],
   "source": [
    "x <- rnorm(10)"
   ]
  },
  {
   "cell_type": "code",
   "execution_count": 5,
   "metadata": {},
   "outputs": [
    {
     "data": {
      "text/html": [
       "<ol class=list-inline>\n",
       "\t<li>1.37095844714667</li>\n",
       "\t<li>-0.564698171396089</li>\n",
       "\t<li>0.363128411337339</li>\n",
       "\t<li>0.63286260496104</li>\n",
       "\t<li>0.404268323140999</li>\n",
       "\t<li>-0.106124516091484</li>\n",
       "\t<li>1.51152199743894</li>\n",
       "\t<li>-0.0946590384130976</li>\n",
       "\t<li>2.01842371387704</li>\n",
       "\t<li>-0.062714099052421</li>\n",
       "</ol>\n"
      ],
      "text/latex": [
       "\\begin{enumerate*}\n",
       "\\item 1.37095844714667\n",
       "\\item -0.564698171396089\n",
       "\\item 0.363128411337339\n",
       "\\item 0.63286260496104\n",
       "\\item 0.404268323140999\n",
       "\\item -0.106124516091484\n",
       "\\item 1.51152199743894\n",
       "\\item -0.0946590384130976\n",
       "\\item 2.01842371387704\n",
       "\\item -0.062714099052421\n",
       "\\end{enumerate*}\n"
      ],
      "text/markdown": [
       "1. 1.37095844714667\n",
       "2. -0.564698171396089\n",
       "3. 0.363128411337339\n",
       "4. 0.63286260496104\n",
       "5. 0.404268323140999\n",
       "6. -0.106124516091484\n",
       "7. 1.51152199743894\n",
       "8. -0.0946590384130976\n",
       "9. 2.01842371387704\n",
       "10. -0.062714099052421\n",
       "\n",
       "\n"
      ],
      "text/plain": [
       " [1]  1.37095845 -0.56469817  0.36312841  0.63286260  0.40426832 -0.10612452\n",
       " [7]  1.51152200 -0.09465904  2.01842371 -0.06271410"
      ]
     },
     "metadata": {},
     "output_type": "display_data"
    }
   ],
   "source": [
    "x"
   ]
  },
  {
   "cell_type": "markdown",
   "metadata": {},
   "source": [
    "### Mean"
   ]
  },
  {
   "cell_type": "markdown",
   "metadata": {},
   "source": [
    "Manual calculation"
   ]
  },
  {
   "cell_type": "code",
   "execution_count": 6,
   "metadata": {},
   "outputs": [
    {
     "data": {
      "text/html": [
       "0.547296767294894"
      ],
      "text/latex": [
       "0.547296767294894"
      ],
      "text/markdown": [
       "0.547296767294894"
      ],
      "text/plain": [
       "[1] 0.5472968"
      ]
     },
     "metadata": {},
     "output_type": "display_data"
    }
   ],
   "source": [
    "sum(x)/length(x)"
   ]
  },
  {
   "cell_type": "markdown",
   "metadata": {},
   "source": [
    "Using built-in function"
   ]
  },
  {
   "cell_type": "code",
   "execution_count": 7,
   "metadata": {},
   "outputs": [
    {
     "data": {
      "text/html": [
       "0.547296767294894"
      ],
      "text/latex": [
       "0.547296767294894"
      ],
      "text/markdown": [
       "0.547296767294894"
      ],
      "text/plain": [
       "[1] 0.5472968"
      ]
     },
     "metadata": {},
     "output_type": "display_data"
    }
   ],
   "source": [
    "mean(x)"
   ]
  },
  {
   "cell_type": "markdown",
   "metadata": {},
   "source": [
    "### Median"
   ]
  },
  {
   "cell_type": "markdown",
   "metadata": {},
   "source": [
    "Manual calculation"
   ]
  },
  {
   "cell_type": "code",
   "execution_count": 8,
   "metadata": {},
   "outputs": [],
   "source": [
    "x_sorted <- sort(x)"
   ]
  },
  {
   "cell_type": "code",
   "execution_count": 9,
   "metadata": {},
   "outputs": [
    {
     "data": {
      "text/html": [
       "10"
      ],
      "text/latex": [
       "10"
      ],
      "text/markdown": [
       "10"
      ],
      "text/plain": [
       "[1] 10"
      ]
     },
     "metadata": {},
     "output_type": "display_data"
    }
   ],
   "source": [
    "length(x)"
   ]
  },
  {
   "cell_type": "markdown",
   "metadata": {},
   "source": [
    "Since there are an even number of observations, we need the average of the middle two data poitns"
   ]
  },
  {
   "cell_type": "code",
   "execution_count": 10,
   "metadata": {},
   "outputs": [
    {
     "data": {
      "text/html": [
       "0.383698367239169"
      ],
      "text/latex": [
       "0.383698367239169"
      ],
      "text/markdown": [
       "0.383698367239169"
      ],
      "text/plain": [
       "[1] 0.3836984"
      ]
     },
     "metadata": {},
     "output_type": "display_data"
    }
   ],
   "source": [
    "sum(x_sorted[5:6])/2"
   ]
  },
  {
   "cell_type": "markdown",
   "metadata": {},
   "source": [
    "Using built-in function"
   ]
  },
  {
   "cell_type": "code",
   "execution_count": 11,
   "metadata": {},
   "outputs": [
    {
     "data": {
      "text/html": [
       "0.383698367239169"
      ],
      "text/latex": [
       "0.383698367239169"
      ],
      "text/markdown": [
       "0.383698367239169"
      ],
      "text/plain": [
       "[1] 0.3836984"
      ]
     },
     "metadata": {},
     "output_type": "display_data"
    }
   ],
   "source": [
    "median(x)"
   ]
  },
  {
   "cell_type": "markdown",
   "metadata": {},
   "source": [
    "### Quantiles\n",
    "\n",
    "The mean is just the 50 percentile. We can use R to get any percentile we like."
   ]
  },
  {
   "cell_type": "code",
   "execution_count": 12,
   "metadata": {},
   "outputs": [
    {
     "data": {
      "text/html": [
       "<strong>50%:</strong> 0.383698367239169"
      ],
      "text/latex": [
       "\\textbf{50\\textbackslash{}\\%:} 0.383698367239169"
      ],
      "text/markdown": [
       "**50%:** 0.383698367239169"
      ],
      "text/plain": [
       "      50% \n",
       "0.3836984 "
      ]
     },
     "metadata": {},
     "output_type": "display_data"
    }
   ],
   "source": [
    "quantile(x, 0.5)"
   ]
  },
  {
   "cell_type": "code",
   "execution_count": 13,
   "metadata": {},
   "outputs": [
    {
     "data": {
      "text/html": [
       "<dl class=dl-horizontal>\n",
       "\t<dt>0%</dt>\n",
       "\t\t<dd>-0.564698171396089</dd>\n",
       "\t<dt>25%</dt>\n",
       "\t\t<dd>-0.0866728035729284</dd>\n",
       "\t<dt>50%</dt>\n",
       "\t\t<dd>0.383698367239169</dd>\n",
       "\t<dt>75%</dt>\n",
       "\t\t<dd>1.18643448660026</dd>\n",
       "\t<dt>100%</dt>\n",
       "\t\t<dd>2.01842371387704</dd>\n",
       "</dl>\n"
      ],
      "text/latex": [
       "\\begin{description*}\n",
       "\\item[0\\textbackslash{}\\%] -0.564698171396089\n",
       "\\item[25\\textbackslash{}\\%] -0.0866728035729284\n",
       "\\item[50\\textbackslash{}\\%] 0.383698367239169\n",
       "\\item[75\\textbackslash{}\\%] 1.18643448660026\n",
       "\\item[100\\textbackslash{}\\%] 2.01842371387704\n",
       "\\end{description*}\n"
      ],
      "text/markdown": [
       "0%\n",
       ":   -0.56469817139608925%\n",
       ":   -0.086672803572928450%\n",
       ":   0.38369836723916975%\n",
       ":   1.18643448660026100%\n",
       ":   2.01842371387704\n",
       "\n"
      ],
      "text/plain": [
       "        0%        25%        50%        75%       100% \n",
       "-0.5646982 -0.0866728  0.3836984  1.1864345  2.0184237 "
      ]
     },
     "metadata": {},
     "output_type": "display_data"
    }
   ],
   "source": [
    "quantile(x, seq(0,1,length.out = 5))"
   ]
  },
  {
   "cell_type": "markdown",
   "metadata": {},
   "source": [
    "## Interval estimates"
   ]
  },
  {
   "cell_type": "markdown",
   "metadata": {},
   "source": [
    "### Confidence intervals"
   ]
  },
  {
   "cell_type": "code",
   "execution_count": 23,
   "metadata": {},
   "outputs": [],
   "source": [
    "ci = 0.95"
   ]
  },
  {
   "cell_type": "code",
   "execution_count": 24,
   "metadata": {},
   "outputs": [
    {
     "data": {
      "text/html": [
       "<ol class=list-inline>\n",
       "\t<li>-0.0503473173543393</li>\n",
       "\t<li>1.14494085194413</li>\n",
       "</ol>\n"
      ],
      "text/latex": [
       "\\begin{enumerate*}\n",
       "\\item -0.0503473173543393\n",
       "\\item 1.14494085194413\n",
       "\\end{enumerate*}\n"
      ],
      "text/markdown": [
       "1. -0.0503473173543393\n",
       "2. 1.14494085194413\n",
       "\n",
       "\n"
      ],
      "text/plain": [
       "[1] -0.05034732  1.14494085"
      ]
     },
     "metadata": {},
     "output_type": "display_data"
    }
   ],
   "source": [
    "alpha = (1-ci)\n",
    "n <- length(x)\n",
    "m <- mean(x)\n",
    "s <- sd(x)\n",
    "se <- s/sqrt(n)\n",
    "me <- qt(1-alpha/2, df=n-1) * se\n",
    "c(m - me, m + me)"
   ]
  },
  {
   "cell_type": "markdown",
   "metadata": {},
   "source": [
    "Note that confidence intervals get larger as the confidence required increases."
   ]
  },
  {
   "cell_type": "code",
   "execution_count": 25,
   "metadata": {},
   "outputs": [],
   "source": [
    "ci = 0.99"
   ]
  },
  {
   "cell_type": "code",
   "execution_count": 26,
   "metadata": {},
   "outputs": [
    {
     "data": {
      "text/html": [
       "<ol class=list-inline>\n",
       "\t<li>-0.311284156902647</li>\n",
       "\t<li>1.40587769149243</li>\n",
       "</ol>\n"
      ],
      "text/latex": [
       "\\begin{enumerate*}\n",
       "\\item -0.311284156902647\n",
       "\\item 1.40587769149243\n",
       "\\end{enumerate*}\n"
      ],
      "text/markdown": [
       "1. -0.311284156902647\n",
       "2. 1.40587769149243\n",
       "\n",
       "\n"
      ],
      "text/plain": [
       "[1] -0.3112842  1.4058777"
      ]
     },
     "metadata": {},
     "output_type": "display_data"
    }
   ],
   "source": [
    "alpha = (1-ci)\n",
    "n <- length(x)\n",
    "m <- mean(x)\n",
    "s <- sd(x)\n",
    "se <- s/sqrt(n)\n",
    "me <- qt(1-alpha/2, df=n-1) * se\n",
    "c(m - me, m + me)"
   ]
  },
  {
   "cell_type": "markdown",
   "metadata": {},
   "source": [
    "### Making a function"
   ]
  },
  {
   "cell_type": "code",
   "execution_count": 27,
   "metadata": {},
   "outputs": [],
   "source": [
    "conf <- function(x, ci=0.95) {\n",
    "   alpha = (1-ci)\n",
    "    n <- length(x)\n",
    "    m <- mean(x)\n",
    "    s <- sd(x)\n",
    "    se <- s/sqrt(n)\n",
    "    me <- qt(1-alpha/2, df=n-1) * se\n",
    "    c(m - me, m + me)     \n",
    "}"
   ]
  },
  {
   "cell_type": "code",
   "execution_count": 28,
   "metadata": {},
   "outputs": [
    {
     "data": {
      "text/html": [
       "<ol class=list-inline>\n",
       "\t<li>-0.0503473173543393</li>\n",
       "\t<li>1.14494085194413</li>\n",
       "</ol>\n"
      ],
      "text/latex": [
       "\\begin{enumerate*}\n",
       "\\item -0.0503473173543393\n",
       "\\item 1.14494085194413\n",
       "\\end{enumerate*}\n"
      ],
      "text/markdown": [
       "1. -0.0503473173543393\n",
       "2. 1.14494085194413\n",
       "\n",
       "\n"
      ],
      "text/plain": [
       "[1] -0.05034732  1.14494085"
      ]
     },
     "metadata": {},
     "output_type": "display_data"
    }
   ],
   "source": [
    "conf(x)"
   ]
  },
  {
   "cell_type": "markdown",
   "metadata": {},
   "source": [
    "### Coverage\n",
    "\n",
    "In 1,000 experiments, we expect the true mean (0) to lie within the estimated 95% CIs 950 times."
   ]
  },
  {
   "cell_type": "code",
   "execution_count": 46,
   "metadata": {},
   "outputs": [],
   "source": [
    "n_expt <- 1000\n",
    "n <- 10\n",
    "cls <- t(replicate(n_expt, conf(rnorm(n))))"
   ]
  },
  {
   "cell_type": "code",
   "execution_count": 47,
   "metadata": {},
   "outputs": [
    {
     "data": {
      "text/html": [
       "955"
      ],
      "text/latex": [
       "955"
      ],
      "text/markdown": [
       "955"
      ],
      "text/plain": [
       "[1] 955"
      ]
     },
     "metadata": {},
     "output_type": "display_data"
    }
   ],
   "source": [
    "sum(cls[,1] < 0 & 0 < cls[,2])"
   ]
  },
  {
   "cell_type": "markdown",
   "metadata": {},
   "source": [
    "## Hypothesis testing"
   ]
  },
  {
   "cell_type": "code",
   "execution_count": null,
   "metadata": {},
   "outputs": [],
   "source": []
  }
 ],
 "metadata": {
  "kernelspec": {
   "display_name": "R",
   "language": "R",
   "name": "r"
  },
  "language_info": {
   "codemirror_mode": "r",
   "file_extension": ".r",
   "mimetype": "text/x-r-source",
   "name": "R",
   "pygments_lexer": "r",
   "version": "3.4.4"
  }
 },
 "nbformat": 4,
 "nbformat_minor": 2
}
