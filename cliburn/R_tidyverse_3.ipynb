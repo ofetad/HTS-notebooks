{
 "cells": [
  {
   "cell_type": "markdown",
   "metadata": {},
   "source": [
    "# Working with multiple files"
   ]
  },
  {
   "cell_type": "code",
   "execution_count": 32,
   "metadata": {},
   "outputs": [],
   "source": [
    "library(tidyverse)\n",
    "library(stringr)"
   ]
  },
  {
   "cell_type": "markdown",
   "metadata": {},
   "source": [
    "## Extended example"
   ]
  },
  {
   "cell_type": "markdown",
   "metadata": {},
   "source": [
    "Suppose we have the following scenario:\n",
    "\n",
    "A multi-center experiment is conducted at Duke and UNC.\n",
    "\n",
    "- Duke has patients `Ann`, `Bob`, `Charle`\n",
    "- UNC has patients `David`, `Ed`, `Fiona`\n",
    "- Each patient has blood sampled at 2 time points \n",
    "- The genomics core at each center measures 3 genes for each patient at each time point\n",
    "- The proteomics core at each center measures 3 proteins from each patient at each time point\n",
    "- Each center has additional information about patient demographics in a different database"
   ]
  },
  {
   "cell_type": "markdown",
   "metadata": {},
   "source": [
    "We have a ten files to work with:\n",
    "\n",
    "```\n",
    "duke_demographics.tsv\n",
    "duke_genes_v1.tsv\n",
    "duke_genes_v2.tsv\n",
    "duke_proteins_v1.tsv\n",
    "duke_proteins_v2.tsv\n",
    "unc_demographics.tsv\n",
    "unc_genes_v1.tsv\n",
    "unc_genes_v2.tsv\n",
    "unc_proteins_v1.tsv\n",
    "unc_proteins_v2.tsv\n",
    "```"
   ]
  },
  {
   "cell_type": "markdown",
   "metadata": {},
   "source": [
    "## Objective\n",
    "\n",
    "We want to visualize the correlation between the gene and protein expression changes from visit 1 to visit 2 for all patients in the study. We also want to augment the data with demographic variables for each patient.\n",
    "\n",
    "- Assume that labs within an institution *do not* have batch effects across visits\n",
    "- Assume that labs at different institutions *have* batch affects and must be normalized before comparison"
   ]
  },
  {
   "cell_type": "markdown",
   "metadata": {},
   "source": [
    "### Combine gene expression data from Duke and normalize to zero mean and unit standard deviation "
   ]
  },
  {
   "cell_type": "code",
   "execution_count": 68,
   "metadata": {},
   "outputs": [
    {
     "name": "stderr",
     "output_type": "stream",
     "text": [
      "Parsed with column specification:\n",
      "cols(\n",
      "  pet = col_character(),\n",
      "  gene_A = col_double(),\n",
      "  gene_B = col_double(),\n",
      "  gene_C = col_double()\n",
      ")\n",
      "Parsed with column specification:\n",
      "cols(\n",
      "  pet = col_character(),\n",
      "  gene_A = col_double(),\n",
      "  gene_B = col_double(),\n",
      "  gene_C = col_double()\n",
      ")\n"
     ]
    }
   ],
   "source": [
    "df_dg1 <- read_tsv('data/duke_genes_v1.tsv')\n",
    "df_dg2 <- read_tsv('data/duke_genes_v2.tsv')"
   ]
  },
  {
   "cell_type": "code",
   "execution_count": 69,
   "metadata": {},
   "outputs": [
    {
     "data": {
      "text/html": [
       "<table>\n",
       "<thead><tr><th scope=col>pet</th><th scope=col>gene_A</th><th scope=col>gene_B</th><th scope=col>gene_C</th></tr></thead>\n",
       "<tbody>\n",
       "\t<tr><td>Ann      </td><td> 91.09792</td><td>64.62166 </td><td>124.4608 </td></tr>\n",
       "\t<tr><td>Bob      </td><td> 88.81115</td><td>78.24940 </td><td>113.6644 </td></tr>\n",
       "\t<tr><td>Charlie  </td><td>107.52933</td><td>70.52984 </td><td>124.5951 </td></tr>\n",
       "</tbody>\n",
       "</table>\n"
      ],
      "text/latex": [
       "\\begin{tabular}{r|llll}\n",
       " pet & gene\\_A & gene\\_B & gene\\_C\\\\\n",
       "\\hline\n",
       "\t Ann       &  91.09792 & 64.62166  & 124.4608 \\\\\n",
       "\t Bob       &  88.81115 & 78.24940  & 113.6644 \\\\\n",
       "\t Charlie   & 107.52933 & 70.52984  & 124.5951 \\\\\n",
       "\\end{tabular}\n"
      ],
      "text/markdown": [
       "\n",
       "pet | gene_A | gene_B | gene_C | \n",
       "|---|---|---|\n",
       "| Ann       |  91.09792 | 64.62166  | 124.4608  | \n",
       "| Bob       |  88.81115 | 78.24940  | 113.6644  | \n",
       "| Charlie   | 107.52933 | 70.52984  | 124.5951  | \n",
       "\n",
       "\n"
      ],
      "text/plain": [
       "  pet     gene_A    gene_B   gene_C  \n",
       "1 Ann      91.09792 64.62166 124.4608\n",
       "2 Bob      88.81115 78.24940 113.6644\n",
       "3 Charlie 107.52933 70.52984 124.5951"
      ]
     },
     "metadata": {},
     "output_type": "display_data"
    }
   ],
   "source": [
    "df_dg1"
   ]
  },
  {
   "cell_type": "code",
   "execution_count": 70,
   "metadata": {},
   "outputs": [
    {
     "data": {
      "text/html": [
       "<table>\n",
       "<thead><tr><th scope=col>pet</th><th scope=col>gene_A</th><th scope=col>gene_B</th><th scope=col>gene_C</th></tr></thead>\n",
       "<tbody>\n",
       "\t<tr><td>Ann      </td><td>108.67919</td><td> 90.38630</td><td>137.5395 </td></tr>\n",
       "\t<tr><td>Bob      </td><td>113.44700</td><td>101.52725</td><td>144.7763 </td></tr>\n",
       "\t<tr><td>Charlie  </td><td> 98.12047</td><td> 97.70863</td><td>131.1964 </td></tr>\n",
       "</tbody>\n",
       "</table>\n"
      ],
      "text/latex": [
       "\\begin{tabular}{r|llll}\n",
       " pet & gene\\_A & gene\\_B & gene\\_C\\\\\n",
       "\\hline\n",
       "\t Ann       & 108.67919 &  90.38630 & 137.5395 \\\\\n",
       "\t Bob       & 113.44700 & 101.52725 & 144.7763 \\\\\n",
       "\t Charlie   &  98.12047 &  97.70863 & 131.1964 \\\\\n",
       "\\end{tabular}\n"
      ],
      "text/markdown": [
       "\n",
       "pet | gene_A | gene_B | gene_C | \n",
       "|---|---|---|\n",
       "| Ann       | 108.67919 |  90.38630 | 137.5395  | \n",
       "| Bob       | 113.44700 | 101.52725 | 144.7763  | \n",
       "| Charlie   |  98.12047 |  97.70863 | 131.1964  | \n",
       "\n",
       "\n"
      ],
      "text/plain": [
       "  pet     gene_A    gene_B    gene_C  \n",
       "1 Ann     108.67919  90.38630 137.5395\n",
       "2 Bob     113.44700 101.52725 144.7763\n",
       "3 Charlie  98.12047  97.70863 131.1964"
      ]
     },
     "metadata": {},
     "output_type": "display_data"
    }
   ],
   "source": [
    "df_dg2"
   ]
  },
  {
   "cell_type": "code",
   "execution_count": 71,
   "metadata": {},
   "outputs": [
    {
     "data": {
      "text/html": [
       "<table>\n",
       "<thead><tr><th scope=col>visit</th><th scope=col>pet</th><th scope=col>gene_A</th><th scope=col>gene_B</th><th scope=col>gene_C</th></tr></thead>\n",
       "<tbody>\n",
       "\t<tr><td>1        </td><td>Ann      </td><td> 91.09792</td><td> 64.62166</td><td>124.4608 </td></tr>\n",
       "\t<tr><td>1        </td><td>Bob      </td><td> 88.81115</td><td> 78.24940</td><td>113.6644 </td></tr>\n",
       "\t<tr><td>1        </td><td>Charlie  </td><td>107.52933</td><td> 70.52984</td><td>124.5951 </td></tr>\n",
       "\t<tr><td>2        </td><td>Ann      </td><td>108.67919</td><td> 90.38630</td><td>137.5395 </td></tr>\n",
       "\t<tr><td>2        </td><td>Bob      </td><td>113.44700</td><td>101.52725</td><td>144.7763 </td></tr>\n",
       "\t<tr><td>2        </td><td>Charlie  </td><td> 98.12047</td><td> 97.70863</td><td>131.1964 </td></tr>\n",
       "</tbody>\n",
       "</table>\n"
      ],
      "text/latex": [
       "\\begin{tabular}{r|lllll}\n",
       " visit & pet & gene\\_A & gene\\_B & gene\\_C\\\\\n",
       "\\hline\n",
       "\t 1         & Ann       &  91.09792 &  64.62166 & 124.4608 \\\\\n",
       "\t 1         & Bob       &  88.81115 &  78.24940 & 113.6644 \\\\\n",
       "\t 1         & Charlie   & 107.52933 &  70.52984 & 124.5951 \\\\\n",
       "\t 2         & Ann       & 108.67919 &  90.38630 & 137.5395 \\\\\n",
       "\t 2         & Bob       & 113.44700 & 101.52725 & 144.7763 \\\\\n",
       "\t 2         & Charlie   &  98.12047 &  97.70863 & 131.1964 \\\\\n",
       "\\end{tabular}\n"
      ],
      "text/markdown": [
       "\n",
       "visit | pet | gene_A | gene_B | gene_C | \n",
       "|---|---|---|---|---|---|\n",
       "| 1         | Ann       |  91.09792 |  64.62166 | 124.4608  | \n",
       "| 1         | Bob       |  88.81115 |  78.24940 | 113.6644  | \n",
       "| 1         | Charlie   | 107.52933 |  70.52984 | 124.5951  | \n",
       "| 2         | Ann       | 108.67919 |  90.38630 | 137.5395  | \n",
       "| 2         | Bob       | 113.44700 | 101.52725 | 144.7763  | \n",
       "| 2         | Charlie   |  98.12047 |  97.70863 | 131.1964  | \n",
       "\n",
       "\n"
      ],
      "text/plain": [
       "  visit pet     gene_A    gene_B    gene_C  \n",
       "1 1     Ann      91.09792  64.62166 124.4608\n",
       "2 1     Bob      88.81115  78.24940 113.6644\n",
       "3 1     Charlie 107.52933  70.52984 124.5951\n",
       "4 2     Ann     108.67919  90.38630 137.5395\n",
       "5 2     Bob     113.44700 101.52725 144.7763\n",
       "6 2     Charlie  98.12047  97.70863 131.1964"
      ]
     },
     "metadata": {},
     "output_type": "display_data"
    }
   ],
   "source": [
    "df_dg <- bind_rows(df_dg1, df_dg2, .id = \"visit\")\n",
    "df_dg"
   ]
  },
  {
   "cell_type": "code",
   "execution_count": 72,
   "metadata": {},
   "outputs": [
    {
     "data": {
      "text/html": [
       "<table>\n",
       "<thead><tr><th scope=col>visit</th><th scope=col>pet</th><th scope=col>gene_A</th><th scope=col>gene_B</th><th scope=col>gene_C</th></tr></thead>\n",
       "<tbody>\n",
       "\t<tr><td>1         </td><td>Ann       </td><td>-1.0073042</td><td>-1.2805845</td><td>-0.4479685</td></tr>\n",
       "\t<tr><td>1         </td><td>Bob       </td><td>-1.2335142</td><td>-0.3723877</td><td>-1.4327190</td></tr>\n",
       "\t<tr><td>1         </td><td>Charlie   </td><td> 0.6181059</td><td>-0.8868438</td><td>-0.4357137</td></tr>\n",
       "\t<tr><td>2         </td><td>Ann       </td><td> 0.7318518</td><td> 0.4364545</td><td> 0.7449587</td></tr>\n",
       "\t<tr><td>2         </td><td>Bob       </td><td> 1.2034879</td><td> 1.1789234</td><td> 1.4050414</td></tr>\n",
       "\t<tr><td>2         </td><td>Charlie   </td><td>-0.3126272</td><td> 0.9244382</td><td> 0.1664011</td></tr>\n",
       "</tbody>\n",
       "</table>\n"
      ],
      "text/latex": [
       "\\begin{tabular}{r|lllll}\n",
       " visit & pet & gene\\_A & gene\\_B & gene\\_C\\\\\n",
       "\\hline\n",
       "\t 1          & Ann        & -1.0073042 & -1.2805845 & -0.4479685\\\\\n",
       "\t 1          & Bob        & -1.2335142 & -0.3723877 & -1.4327190\\\\\n",
       "\t 1          & Charlie    &  0.6181059 & -0.8868438 & -0.4357137\\\\\n",
       "\t 2          & Ann        &  0.7318518 &  0.4364545 &  0.7449587\\\\\n",
       "\t 2          & Bob        &  1.2034879 &  1.1789234 &  1.4050414\\\\\n",
       "\t 2          & Charlie    & -0.3126272 &  0.9244382 &  0.1664011\\\\\n",
       "\\end{tabular}\n"
      ],
      "text/markdown": [
       "\n",
       "visit | pet | gene_A | gene_B | gene_C | \n",
       "|---|---|---|---|---|---|\n",
       "| 1          | Ann        | -1.0073042 | -1.2805845 | -0.4479685 | \n",
       "| 1          | Bob        | -1.2335142 | -0.3723877 | -1.4327190 | \n",
       "| 1          | Charlie    |  0.6181059 | -0.8868438 | -0.4357137 | \n",
       "| 2          | Ann        |  0.7318518 |  0.4364545 |  0.7449587 | \n",
       "| 2          | Bob        |  1.2034879 |  1.1789234 |  1.4050414 | \n",
       "| 2          | Charlie    | -0.3126272 |  0.9244382 |  0.1664011 | \n",
       "\n",
       "\n"
      ],
      "text/plain": [
       "  visit pet     gene_A     gene_B     gene_C    \n",
       "1 1     Ann     -1.0073042 -1.2805845 -0.4479685\n",
       "2 1     Bob     -1.2335142 -0.3723877 -1.4327190\n",
       "3 1     Charlie  0.6181059 -0.8868438 -0.4357137\n",
       "4 2     Ann      0.7318518  0.4364545  0.7449587\n",
       "5 2     Bob      1.2034879  1.1789234  1.4050414\n",
       "6 2     Charlie -0.3126272  0.9244382  0.1664011"
      ]
     },
     "metadata": {},
     "output_type": "display_data"
    }
   ],
   "source": [
    "df_dg.scaled <- df_dg  %>% mutate_if(is.numeric, scale)\n",
    "df_dg.scaled"
   ]
  },
  {
   "cell_type": "markdown",
   "metadata": {},
   "source": [
    "### Do the same for the other data sets"
   ]
  },
  {
   "cell_type": "markdown",
   "metadata": {},
   "source": [
    "Duke protein expression"
   ]
  },
  {
   "cell_type": "code",
   "execution_count": 73,
   "metadata": {},
   "outputs": [
    {
     "name": "stderr",
     "output_type": "stream",
     "text": [
      "Parsed with column specification:\n",
      "cols(\n",
      "  pet = col_character(),\n",
      "  prot_A = col_double(),\n",
      "  prot_B = col_double(),\n",
      "  prot_C = col_double()\n",
      ")\n",
      "Parsed with column specification:\n",
      "cols(\n",
      "  pet = col_character(),\n",
      "  prot_A = col_double(),\n",
      "  prot_B = col_double(),\n",
      "  prot_C = col_double()\n",
      ")\n"
     ]
    }
   ],
   "source": [
    "df_dp1 <- read_tsv('data/duke_proteins_v1.tsv')\n",
    "df_dp2 <- read_tsv('data/duke_proteins_v2.tsv')\n",
    "df_dp <- bind_rows(df_dp1, df_dp2, .id = \"visit\")\n",
    "df_dp.scaled <- df_dp %>%  mutate_if(is.numeric, scale)"
   ]
  },
  {
   "cell_type": "code",
   "execution_count": 74,
   "metadata": {},
   "outputs": [
    {
     "data": {
      "text/html": [
       "<table>\n",
       "<thead><tr><th scope=col>visit</th><th scope=col>pet</th><th scope=col>prot_A</th><th scope=col>prot_B</th><th scope=col>prot_C</th></tr></thead>\n",
       "<tbody>\n",
       "\t<tr><td>1          </td><td>Ann        </td><td>-0.4967020 </td><td> 0.9830005 </td><td>-1.37774584</td></tr>\n",
       "\t<tr><td>1          </td><td>Bob        </td><td>-1.0132844 </td><td>-1.1799912 </td><td>-1.01496776</td></tr>\n",
       "\t<tr><td>1          </td><td>Charlie    </td><td>-0.3455620 </td><td>-0.8561590 </td><td> 0.60497113</td></tr>\n",
       "\t<tr><td>2          </td><td>Ann        </td><td>-0.4191436 </td><td> 0.3772850 </td><td> 0.88392265</td></tr>\n",
       "\t<tr><td>2          </td><td>Bob        </td><td> 1.7870904 </td><td>-0.5388750 </td><td>-0.05597907</td></tr>\n",
       "\t<tr><td>2          </td><td>Charlie    </td><td> 0.4876017 </td><td> 1.2147397 </td><td> 0.95979888</td></tr>\n",
       "</tbody>\n",
       "</table>\n"
      ],
      "text/latex": [
       "\\begin{tabular}{r|lllll}\n",
       " visit & pet & prot\\_A & prot\\_B & prot\\_C\\\\\n",
       "\\hline\n",
       "\t 1           & Ann         & -0.4967020  &  0.9830005  & -1.37774584\\\\\n",
       "\t 1           & Bob         & -1.0132844  & -1.1799912  & -1.01496776\\\\\n",
       "\t 1           & Charlie     & -0.3455620  & -0.8561590  &  0.60497113\\\\\n",
       "\t 2           & Ann         & -0.4191436  &  0.3772850  &  0.88392265\\\\\n",
       "\t 2           & Bob         &  1.7870904  & -0.5388750  & -0.05597907\\\\\n",
       "\t 2           & Charlie     &  0.4876017  &  1.2147397  &  0.95979888\\\\\n",
       "\\end{tabular}\n"
      ],
      "text/markdown": [
       "\n",
       "visit | pet | prot_A | prot_B | prot_C | \n",
       "|---|---|---|---|---|---|\n",
       "| 1           | Ann         | -0.4967020  |  0.9830005  | -1.37774584 | \n",
       "| 1           | Bob         | -1.0132844  | -1.1799912  | -1.01496776 | \n",
       "| 1           | Charlie     | -0.3455620  | -0.8561590  |  0.60497113 | \n",
       "| 2           | Ann         | -0.4191436  |  0.3772850  |  0.88392265 | \n",
       "| 2           | Bob         |  1.7870904  | -0.5388750  | -0.05597907 | \n",
       "| 2           | Charlie     |  0.4876017  |  1.2147397  |  0.95979888 | \n",
       "\n",
       "\n"
      ],
      "text/plain": [
       "  visit pet     prot_A     prot_B     prot_C     \n",
       "1 1     Ann     -0.4967020  0.9830005 -1.37774584\n",
       "2 1     Bob     -1.0132844 -1.1799912 -1.01496776\n",
       "3 1     Charlie -0.3455620 -0.8561590  0.60497113\n",
       "4 2     Ann     -0.4191436  0.3772850  0.88392265\n",
       "5 2     Bob      1.7870904 -0.5388750 -0.05597907\n",
       "6 2     Charlie  0.4876017  1.2147397  0.95979888"
      ]
     },
     "metadata": {},
     "output_type": "display_data"
    }
   ],
   "source": [
    "head(df_dp.scaled)"
   ]
  },
  {
   "cell_type": "markdown",
   "metadata": {},
   "source": [
    "UNC gene expression"
   ]
  },
  {
   "cell_type": "code",
   "execution_count": 75,
   "metadata": {},
   "outputs": [
    {
     "name": "stderr",
     "output_type": "stream",
     "text": [
      "Parsed with column specification:\n",
      "cols(\n",
      "  pet = col_character(),\n",
      "  gene_A = col_double(),\n",
      "  gene_B = col_double(),\n",
      "  gene_C = col_double()\n",
      ")\n",
      "Parsed with column specification:\n",
      "cols(\n",
      "  pet = col_character(),\n",
      "  gene_A = col_double(),\n",
      "  gene_B = col_double(),\n",
      "  gene_C = col_double()\n",
      ")\n"
     ]
    }
   ],
   "source": [
    "df_ug1 <- read_tsv('data/unc_genes_v1.tsv')\n",
    "df_ug2 <- read_tsv('data/unc_genes_v2.tsv')\n",
    "df_ug <- bind_rows(df_ug1, df_ug2, .id = \"visit\")\n",
    "df_ug.scaled <- df_ug %>%  mutate_if(is.numeric, scale)"
   ]
  },
  {
   "cell_type": "code",
   "execution_count": 76,
   "metadata": {},
   "outputs": [
    {
     "data": {
      "text/html": [
       "<table>\n",
       "<thead><tr><th scope=col>visit</th><th scope=col>pet</th><th scope=col>gene_A</th><th scope=col>gene_B</th><th scope=col>gene_C</th></tr></thead>\n",
       "<tbody>\n",
       "\t<tr><td>1          </td><td>David      </td><td>-0.59425311</td><td>-1.2262407 </td><td>-0.30771429</td></tr>\n",
       "\t<tr><td>1          </td><td>Ed         </td><td>-1.17645232</td><td>-0.5087640 </td><td> 0.02835355</td></tr>\n",
       "\t<tr><td>1          </td><td>Fiona      </td><td> 0.36658576</td><td>-0.3217073 </td><td>-1.82700451</td></tr>\n",
       "\t<tr><td>2          </td><td>David      </td><td> 0.08382534</td><td> 0.5735718 </td><td> 0.66994801</td></tr>\n",
       "\t<tr><td>2          </td><td>Ed         </td><td>-0.40047124</td><td>-0.1817827 </td><td> 0.92567540</td></tr>\n",
       "\t<tr><td>2          </td><td>Fiona      </td><td> 1.72076557</td><td> 1.6649228 </td><td> 0.51074184</td></tr>\n",
       "</tbody>\n",
       "</table>\n"
      ],
      "text/latex": [
       "\\begin{tabular}{r|lllll}\n",
       " visit & pet & gene\\_A & gene\\_B & gene\\_C\\\\\n",
       "\\hline\n",
       "\t 1           & David       & -0.59425311 & -1.2262407  & -0.30771429\\\\\n",
       "\t 1           & Ed          & -1.17645232 & -0.5087640  &  0.02835355\\\\\n",
       "\t 1           & Fiona       &  0.36658576 & -0.3217073  & -1.82700451\\\\\n",
       "\t 2           & David       &  0.08382534 &  0.5735718  &  0.66994801\\\\\n",
       "\t 2           & Ed          & -0.40047124 & -0.1817827  &  0.92567540\\\\\n",
       "\t 2           & Fiona       &  1.72076557 &  1.6649228  &  0.51074184\\\\\n",
       "\\end{tabular}\n"
      ],
      "text/markdown": [
       "\n",
       "visit | pet | gene_A | gene_B | gene_C | \n",
       "|---|---|---|---|---|---|\n",
       "| 1           | David       | -0.59425311 | -1.2262407  | -0.30771429 | \n",
       "| 1           | Ed          | -1.17645232 | -0.5087640  |  0.02835355 | \n",
       "| 1           | Fiona       |  0.36658576 | -0.3217073  | -1.82700451 | \n",
       "| 2           | David       |  0.08382534 |  0.5735718  |  0.66994801 | \n",
       "| 2           | Ed          | -0.40047124 | -0.1817827  |  0.92567540 | \n",
       "| 2           | Fiona       |  1.72076557 |  1.6649228  |  0.51074184 | \n",
       "\n",
       "\n"
      ],
      "text/plain": [
       "  visit pet   gene_A      gene_B     gene_C     \n",
       "1 1     David -0.59425311 -1.2262407 -0.30771429\n",
       "2 1     Ed    -1.17645232 -0.5087640  0.02835355\n",
       "3 1     Fiona  0.36658576 -0.3217073 -1.82700451\n",
       "4 2     David  0.08382534  0.5735718  0.66994801\n",
       "5 2     Ed    -0.40047124 -0.1817827  0.92567540\n",
       "6 2     Fiona  1.72076557  1.6649228  0.51074184"
      ]
     },
     "metadata": {},
     "output_type": "display_data"
    }
   ],
   "source": [
    "head(df_ug.scaled)"
   ]
  },
  {
   "cell_type": "markdown",
   "metadata": {},
   "source": [
    "UNC protein expression"
   ]
  },
  {
   "cell_type": "code",
   "execution_count": 77,
   "metadata": {},
   "outputs": [
    {
     "name": "stderr",
     "output_type": "stream",
     "text": [
      "Parsed with column specification:\n",
      "cols(\n",
      "  pet = col_character(),\n",
      "  prot_A = col_double(),\n",
      "  prot_B = col_double(),\n",
      "  prot_C = col_double()\n",
      ")\n",
      "Parsed with column specification:\n",
      "cols(\n",
      "  pet = col_character(),\n",
      "  prot_A = col_double(),\n",
      "  prot_B = col_double(),\n",
      "  prot_C = col_double()\n",
      ")\n"
     ]
    }
   ],
   "source": [
    "df_up1 <- read_tsv('data/unc_proteins_v1.tsv')\n",
    "df_up2 <- read_tsv('data/unc_proteins_v2.tsv')\n",
    "df_up <- bind_rows(df_up1, df_up2, .id = \"visit\")\n",
    "df_up.scaled <- df_up %>%  mutate_if(is.numeric, scale)"
   ]
  },
  {
   "cell_type": "code",
   "execution_count": 78,
   "metadata": {},
   "outputs": [
    {
     "data": {
      "text/html": [
       "<table>\n",
       "<thead><tr><th scope=col>visit</th><th scope=col>pet</th><th scope=col>prot_A</th><th scope=col>prot_B</th><th scope=col>prot_C</th></tr></thead>\n",
       "<tbody>\n",
       "\t<tr><td>1          </td><td>David      </td><td> 1.04580136</td><td> 0.1280673 </td><td>-0.6867668 </td></tr>\n",
       "\t<tr><td>1          </td><td>Ed         </td><td>-1.65977553</td><td> 0.2117860 </td><td> 0.9772767 </td></tr>\n",
       "\t<tr><td>1          </td><td>Fiona      </td><td> 0.05811210</td><td>-0.6413509 </td><td>-1.4593511 </td></tr>\n",
       "\t<tr><td>2          </td><td>David      </td><td>-0.44575884</td><td>-0.7384114 </td><td> 0.9175770 </td></tr>\n",
       "\t<tr><td>2          </td><td>Ed         </td><td> 0.02765904</td><td> 1.8317201 </td><td> 0.6595148 </td></tr>\n",
       "\t<tr><td>2          </td><td>Fiona      </td><td> 0.97396187</td><td>-0.7918110 </td><td>-0.4082508 </td></tr>\n",
       "</tbody>\n",
       "</table>\n"
      ],
      "text/latex": [
       "\\begin{tabular}{r|lllll}\n",
       " visit & pet & prot\\_A & prot\\_B & prot\\_C\\\\\n",
       "\\hline\n",
       "\t 1           & David       &  1.04580136 &  0.1280673  & -0.6867668 \\\\\n",
       "\t 1           & Ed          & -1.65977553 &  0.2117860  &  0.9772767 \\\\\n",
       "\t 1           & Fiona       &  0.05811210 & -0.6413509  & -1.4593511 \\\\\n",
       "\t 2           & David       & -0.44575884 & -0.7384114  &  0.9175770 \\\\\n",
       "\t 2           & Ed          &  0.02765904 &  1.8317201  &  0.6595148 \\\\\n",
       "\t 2           & Fiona       &  0.97396187 & -0.7918110  & -0.4082508 \\\\\n",
       "\\end{tabular}\n"
      ],
      "text/markdown": [
       "\n",
       "visit | pet | prot_A | prot_B | prot_C | \n",
       "|---|---|---|---|---|---|\n",
       "| 1           | David       |  1.04580136 |  0.1280673  | -0.6867668  | \n",
       "| 1           | Ed          | -1.65977553 |  0.2117860  |  0.9772767  | \n",
       "| 1           | Fiona       |  0.05811210 | -0.6413509  | -1.4593511  | \n",
       "| 2           | David       | -0.44575884 | -0.7384114  |  0.9175770  | \n",
       "| 2           | Ed          |  0.02765904 |  1.8317201  |  0.6595148  | \n",
       "| 2           | Fiona       |  0.97396187 | -0.7918110  | -0.4082508  | \n",
       "\n",
       "\n"
      ],
      "text/plain": [
       "  visit pet   prot_A      prot_B     prot_C    \n",
       "1 1     David  1.04580136  0.1280673 -0.6867668\n",
       "2 1     Ed    -1.65977553  0.2117860  0.9772767\n",
       "3 1     Fiona  0.05811210 -0.6413509 -1.4593511\n",
       "4 2     David -0.44575884 -0.7384114  0.9175770\n",
       "5 2     Ed     0.02765904  1.8317201  0.6595148\n",
       "6 2     Fiona  0.97396187 -0.7918110 -0.4082508"
      ]
     },
     "metadata": {},
     "output_type": "display_data"
    }
   ],
   "source": [
    "head(df_up.scaled)"
   ]
  },
  {
   "cell_type": "markdown",
   "metadata": {},
   "source": [
    "### Find the change in each gene from visit 1 to visit 2"
   ]
  },
  {
   "cell_type": "code",
   "execution_count": 79,
   "metadata": {},
   "outputs": [
    {
     "data": {
      "text/html": [
       "<table>\n",
       "<thead><tr><th scope=col>visit</th><th scope=col>pet</th><th scope=col>gene_A</th><th scope=col>gene_B</th><th scope=col>gene_C</th></tr></thead>\n",
       "<tbody>\n",
       "\t<tr><td>1         </td><td>Ann       </td><td>-1.0073042</td><td>-1.2805845</td><td>-0.4479685</td></tr>\n",
       "\t<tr><td>1         </td><td>Bob       </td><td>-1.2335142</td><td>-0.3723877</td><td>-1.4327190</td></tr>\n",
       "\t<tr><td>1         </td><td>Charlie   </td><td> 0.6181059</td><td>-0.8868438</td><td>-0.4357137</td></tr>\n",
       "\t<tr><td>2         </td><td>Ann       </td><td> 0.7318518</td><td> 0.4364545</td><td> 0.7449587</td></tr>\n",
       "\t<tr><td>2         </td><td>Bob       </td><td> 1.2034879</td><td> 1.1789234</td><td> 1.4050414</td></tr>\n",
       "\t<tr><td>2         </td><td>Charlie   </td><td>-0.3126272</td><td> 0.9244382</td><td> 0.1664011</td></tr>\n",
       "</tbody>\n",
       "</table>\n"
      ],
      "text/latex": [
       "\\begin{tabular}{r|lllll}\n",
       " visit & pet & gene\\_A & gene\\_B & gene\\_C\\\\\n",
       "\\hline\n",
       "\t 1          & Ann        & -1.0073042 & -1.2805845 & -0.4479685\\\\\n",
       "\t 1          & Bob        & -1.2335142 & -0.3723877 & -1.4327190\\\\\n",
       "\t 1          & Charlie    &  0.6181059 & -0.8868438 & -0.4357137\\\\\n",
       "\t 2          & Ann        &  0.7318518 &  0.4364545 &  0.7449587\\\\\n",
       "\t 2          & Bob        &  1.2034879 &  1.1789234 &  1.4050414\\\\\n",
       "\t 2          & Charlie    & -0.3126272 &  0.9244382 &  0.1664011\\\\\n",
       "\\end{tabular}\n"
      ],
      "text/markdown": [
       "\n",
       "visit | pet | gene_A | gene_B | gene_C | \n",
       "|---|---|---|---|---|---|\n",
       "| 1          | Ann        | -1.0073042 | -1.2805845 | -0.4479685 | \n",
       "| 1          | Bob        | -1.2335142 | -0.3723877 | -1.4327190 | \n",
       "| 1          | Charlie    |  0.6181059 | -0.8868438 | -0.4357137 | \n",
       "| 2          | Ann        |  0.7318518 |  0.4364545 |  0.7449587 | \n",
       "| 2          | Bob        |  1.2034879 |  1.1789234 |  1.4050414 | \n",
       "| 2          | Charlie    | -0.3126272 |  0.9244382 |  0.1664011 | \n",
       "\n",
       "\n"
      ],
      "text/plain": [
       "  visit pet     gene_A     gene_B     gene_C    \n",
       "1 1     Ann     -1.0073042 -1.2805845 -0.4479685\n",
       "2 1     Bob     -1.2335142 -0.3723877 -1.4327190\n",
       "3 1     Charlie  0.6181059 -0.8868438 -0.4357137\n",
       "4 2     Ann      0.7318518  0.4364545  0.7449587\n",
       "5 2     Bob      1.2034879  1.1789234  1.4050414\n",
       "6 2     Charlie -0.3126272  0.9244382  0.1664011"
      ]
     },
     "metadata": {},
     "output_type": "display_data"
    }
   ],
   "source": [
    "df_dg.scaled"
   ]
  },
  {
   "cell_type": "code",
   "execution_count": 80,
   "metadata": {},
   "outputs": [],
   "source": [
    "# To avoid a bunch or harmless warnigns, we will temprarily suppress them\n",
    "\n",
    "options(warn=-1)"
   ]
  },
  {
   "cell_type": "code",
   "execution_count": 81,
   "metadata": {},
   "outputs": [
    {
     "data": {
      "text/html": [
       "<table>\n",
       "<thead><tr><th scope=col>visit</th><th scope=col>pet</th><th scope=col>gene</th><th scope=col>value</th></tr></thead>\n",
       "<tbody>\n",
       "\t<tr><td>1         </td><td>Ann       </td><td>gene_A    </td><td>-1.0073042</td></tr>\n",
       "\t<tr><td>1         </td><td>Bob       </td><td>gene_A    </td><td>-1.2335142</td></tr>\n",
       "\t<tr><td>1         </td><td>Charlie   </td><td>gene_A    </td><td> 0.6181059</td></tr>\n",
       "\t<tr><td>2         </td><td>Ann       </td><td>gene_A    </td><td> 0.7318518</td></tr>\n",
       "\t<tr><td>2         </td><td>Bob       </td><td>gene_A    </td><td> 1.2034879</td></tr>\n",
       "\t<tr><td>2         </td><td>Charlie   </td><td>gene_A    </td><td>-0.3126272</td></tr>\n",
       "</tbody>\n",
       "</table>\n"
      ],
      "text/latex": [
       "\\begin{tabular}{r|llll}\n",
       " visit & pet & gene & value\\\\\n",
       "\\hline\n",
       "\t 1          & Ann        & gene\\_A   & -1.0073042\\\\\n",
       "\t 1          & Bob        & gene\\_A   & -1.2335142\\\\\n",
       "\t 1          & Charlie    & gene\\_A   &  0.6181059\\\\\n",
       "\t 2          & Ann        & gene\\_A   &  0.7318518\\\\\n",
       "\t 2          & Bob        & gene\\_A   &  1.2034879\\\\\n",
       "\t 2          & Charlie    & gene\\_A   & -0.3126272\\\\\n",
       "\\end{tabular}\n"
      ],
      "text/markdown": [
       "\n",
       "visit | pet | gene | value | \n",
       "|---|---|---|---|---|---|\n",
       "| 1          | Ann        | gene_A     | -1.0073042 | \n",
       "| 1          | Bob        | gene_A     | -1.2335142 | \n",
       "| 1          | Charlie    | gene_A     |  0.6181059 | \n",
       "| 2          | Ann        | gene_A     |  0.7318518 | \n",
       "| 2          | Bob        | gene_A     |  1.2034879 | \n",
       "| 2          | Charlie    | gene_A     | -0.3126272 | \n",
       "\n",
       "\n"
      ],
      "text/plain": [
       "  visit pet     gene   value     \n",
       "1 1     Ann     gene_A -1.0073042\n",
       "2 1     Bob     gene_A -1.2335142\n",
       "3 1     Charlie gene_A  0.6181059\n",
       "4 2     Ann     gene_A  0.7318518\n",
       "5 2     Bob     gene_A  1.2034879\n",
       "6 2     Charlie gene_A -0.3126272"
      ]
     },
     "metadata": {},
     "output_type": "display_data"
    }
   ],
   "source": [
    "df_dg.scaled %>% \n",
    "gather(gene, value, starts_with('gene'))  %>% \n",
    "head"
   ]
  },
  {
   "cell_type": "code",
   "execution_count": 82,
   "metadata": {},
   "outputs": [
    {
     "data": {
      "text/html": [
       "<table>\n",
       "<thead><tr><th scope=col>pet</th><th scope=col>gene</th><th scope=col>1</th><th scope=col>2</th></tr></thead>\n",
       "<tbody>\n",
       "\t<tr><td>Ann       </td><td>gene_A    </td><td>-1.0073042</td><td>0.7318518 </td></tr>\n",
       "\t<tr><td>Ann       </td><td>gene_B    </td><td>-1.2805845</td><td>0.4364545 </td></tr>\n",
       "\t<tr><td>Ann       </td><td>gene_C    </td><td>-0.4479685</td><td>0.7449587 </td></tr>\n",
       "\t<tr><td>Bob       </td><td>gene_A    </td><td>-1.2335142</td><td>1.2034879 </td></tr>\n",
       "\t<tr><td>Bob       </td><td>gene_B    </td><td>-0.3723877</td><td>1.1789234 </td></tr>\n",
       "\t<tr><td>Bob       </td><td>gene_C    </td><td>-1.4327190</td><td>1.4050414 </td></tr>\n",
       "</tbody>\n",
       "</table>\n"
      ],
      "text/latex": [
       "\\begin{tabular}{r|llll}\n",
       " pet & gene & 1 & 2\\\\\n",
       "\\hline\n",
       "\t Ann        & gene\\_A   & -1.0073042 & 0.7318518 \\\\\n",
       "\t Ann        & gene\\_B   & -1.2805845 & 0.4364545 \\\\\n",
       "\t Ann        & gene\\_C   & -0.4479685 & 0.7449587 \\\\\n",
       "\t Bob        & gene\\_A   & -1.2335142 & 1.2034879 \\\\\n",
       "\t Bob        & gene\\_B   & -0.3723877 & 1.1789234 \\\\\n",
       "\t Bob        & gene\\_C   & -1.4327190 & 1.4050414 \\\\\n",
       "\\end{tabular}\n"
      ],
      "text/markdown": [
       "\n",
       "pet | gene | 1 | 2 | \n",
       "|---|---|---|---|---|---|\n",
       "| Ann        | gene_A     | -1.0073042 | 0.7318518  | \n",
       "| Ann        | gene_B     | -1.2805845 | 0.4364545  | \n",
       "| Ann        | gene_C     | -0.4479685 | 0.7449587  | \n",
       "| Bob        | gene_A     | -1.2335142 | 1.2034879  | \n",
       "| Bob        | gene_B     | -0.3723877 | 1.1789234  | \n",
       "| Bob        | gene_C     | -1.4327190 | 1.4050414  | \n",
       "\n",
       "\n"
      ],
      "text/plain": [
       "  pet gene   1          2        \n",
       "1 Ann gene_A -1.0073042 0.7318518\n",
       "2 Ann gene_B -1.2805845 0.4364545\n",
       "3 Ann gene_C -0.4479685 0.7449587\n",
       "4 Bob gene_A -1.2335142 1.2034879\n",
       "5 Bob gene_B -0.3723877 1.1789234\n",
       "6 Bob gene_C -1.4327190 1.4050414"
      ]
     },
     "metadata": {},
     "output_type": "display_data"
    }
   ],
   "source": [
    "df_dg.scaled %>% \n",
    "gather(gene, value, starts_with('gene'))  %>% \n",
    "spread(visit, value) %>%\n",
    "head"
   ]
  },
  {
   "cell_type": "code",
   "execution_count": 83,
   "metadata": {},
   "outputs": [
    {
     "data": {
      "text/html": [
       "<table>\n",
       "<thead><tr><th scope=col>patient</th><th scope=col>gene</th><th scope=col>gene.change</th></tr></thead>\n",
       "<tbody>\n",
       "\t<tr><td>Ann     </td><td>A       </td><td>1.739156</td></tr>\n",
       "\t<tr><td>Ann     </td><td>B       </td><td>1.717039</td></tr>\n",
       "\t<tr><td>Ann     </td><td>C       </td><td>1.192927</td></tr>\n",
       "\t<tr><td>Bob     </td><td>A       </td><td>2.437002</td></tr>\n",
       "\t<tr><td>Bob     </td><td>B       </td><td>1.551311</td></tr>\n",
       "\t<tr><td>Bob     </td><td>C       </td><td>2.837760</td></tr>\n",
       "</tbody>\n",
       "</table>\n"
      ],
      "text/latex": [
       "\\begin{tabular}{r|lll}\n",
       " patient & gene & gene.change\\\\\n",
       "\\hline\n",
       "\t Ann      & A        & 1.739156\\\\\n",
       "\t Ann      & B        & 1.717039\\\\\n",
       "\t Ann      & C        & 1.192927\\\\\n",
       "\t Bob      & A        & 2.437002\\\\\n",
       "\t Bob      & B        & 1.551311\\\\\n",
       "\t Bob      & C        & 2.837760\\\\\n",
       "\\end{tabular}\n"
      ],
      "text/markdown": [
       "\n",
       "patient | gene | gene.change | \n",
       "|---|---|---|---|---|---|\n",
       "| Ann      | A        | 1.739156 | \n",
       "| Ann      | B        | 1.717039 | \n",
       "| Ann      | C        | 1.192927 | \n",
       "| Bob      | A        | 2.437002 | \n",
       "| Bob      | B        | 1.551311 | \n",
       "| Bob      | C        | 2.837760 | \n",
       "\n",
       "\n"
      ],
      "text/plain": [
       "  patient gene gene.change\n",
       "1 Ann     A    1.739156   \n",
       "2 Ann     B    1.717039   \n",
       "3 Ann     C    1.192927   \n",
       "4 Bob     A    2.437002   \n",
       "5 Bob     B    1.551311   \n",
       "6 Bob     C    2.837760   "
      ]
     },
     "metadata": {},
     "output_type": "display_data"
    }
   ],
   "source": [
    "df_dg.diff <- df_dg.scaled %>% \n",
    "gather(gene, value, starts_with('gene'))  %>% \n",
    "spread(visit, value) %>%\n",
    "transmute(patient=pet, \n",
    "          gene=str_extract(gene, '[^_]+$'), \n",
    "          gene.change=`2`-`1`)\n",
    "head(df_dg.diff)"
   ]
  },
  {
   "cell_type": "markdown",
   "metadata": {},
   "source": [
    "### Combine with UNC data"
   ]
  },
  {
   "cell_type": "code",
   "execution_count": 84,
   "metadata": {},
   "outputs": [
    {
     "data": {
      "text/html": [
       "<table>\n",
       "<thead><tr><th scope=col>patient</th><th scope=col>gene</th><th scope=col>gene.change</th></tr></thead>\n",
       "<tbody>\n",
       "\t<tr><td>David    </td><td>A        </td><td>0.6780785</td></tr>\n",
       "\t<tr><td>David    </td><td>B        </td><td>1.7998124</td></tr>\n",
       "\t<tr><td>David    </td><td>C        </td><td>0.9776623</td></tr>\n",
       "\t<tr><td>Ed       </td><td>A        </td><td>0.7759811</td></tr>\n",
       "\t<tr><td>Ed       </td><td>B        </td><td>0.3269814</td></tr>\n",
       "\t<tr><td>Ed       </td><td>C        </td><td>0.8973218</td></tr>\n",
       "</tbody>\n",
       "</table>\n"
      ],
      "text/latex": [
       "\\begin{tabular}{r|lll}\n",
       " patient & gene & gene.change\\\\\n",
       "\\hline\n",
       "\t David     & A         & 0.6780785\\\\\n",
       "\t David     & B         & 1.7998124\\\\\n",
       "\t David     & C         & 0.9776623\\\\\n",
       "\t Ed        & A         & 0.7759811\\\\\n",
       "\t Ed        & B         & 0.3269814\\\\\n",
       "\t Ed        & C         & 0.8973218\\\\\n",
       "\\end{tabular}\n"
      ],
      "text/markdown": [
       "\n",
       "patient | gene | gene.change | \n",
       "|---|---|---|---|---|---|\n",
       "| David     | A         | 0.6780785 | \n",
       "| David     | B         | 1.7998124 | \n",
       "| David     | C         | 0.9776623 | \n",
       "| Ed        | A         | 0.7759811 | \n",
       "| Ed        | B         | 0.3269814 | \n",
       "| Ed        | C         | 0.8973218 | \n",
       "\n",
       "\n"
      ],
      "text/plain": [
       "  patient gene gene.change\n",
       "1 David   A    0.6780785  \n",
       "2 David   B    1.7998124  \n",
       "3 David   C    0.9776623  \n",
       "4 Ed      A    0.7759811  \n",
       "5 Ed      B    0.3269814  \n",
       "6 Ed      C    0.8973218  "
      ]
     },
     "metadata": {},
     "output_type": "display_data"
    }
   ],
   "source": [
    "df_ug.diff <- df_ug.scaled %>% \n",
    "gather(gene, value, starts_with('gene'))  %>% \n",
    "spread(visit, value) %>%\n",
    "transmute(patient=pet, \n",
    "          gene=str_extract(gene, '[^_]+$'), \n",
    "          gene.change=`2`-`1`)\n",
    "head(df_ug.diff)"
   ]
  },
  {
   "cell_type": "code",
   "execution_count": 85,
   "metadata": {},
   "outputs": [
    {
     "data": {
      "text/html": [
       "<table>\n",
       "<thead><tr><th scope=col>site</th><th scope=col>patient</th><th scope=col>gene</th><th scope=col>gene.change</th></tr></thead>\n",
       "<tbody>\n",
       "\t<tr><td>duke      </td><td>Ann       </td><td>A         </td><td> 1.7391560</td></tr>\n",
       "\t<tr><td>duke      </td><td>Ann       </td><td>B         </td><td> 1.7170389</td></tr>\n",
       "\t<tr><td>duke      </td><td>Ann       </td><td>C         </td><td> 1.1929272</td></tr>\n",
       "\t<tr><td>duke      </td><td>Bob       </td><td>A         </td><td> 2.4370022</td></tr>\n",
       "\t<tr><td>duke      </td><td>Bob       </td><td>B         </td><td> 1.5513112</td></tr>\n",
       "\t<tr><td>duke      </td><td>Bob       </td><td>C         </td><td> 2.8377604</td></tr>\n",
       "\t<tr><td>duke      </td><td>Charlie   </td><td>A         </td><td>-0.9307330</td></tr>\n",
       "\t<tr><td>duke      </td><td>Charlie   </td><td>B         </td><td> 1.8112820</td></tr>\n",
       "\t<tr><td>duke      </td><td>Charlie   </td><td>C         </td><td> 0.6021148</td></tr>\n",
       "\t<tr><td>unc       </td><td>David     </td><td>A         </td><td> 0.6780785</td></tr>\n",
       "\t<tr><td>unc       </td><td>David     </td><td>B         </td><td> 1.7998124</td></tr>\n",
       "\t<tr><td>unc       </td><td>David     </td><td>C         </td><td> 0.9776623</td></tr>\n",
       "\t<tr><td>unc       </td><td>Ed        </td><td>A         </td><td> 0.7759811</td></tr>\n",
       "\t<tr><td>unc       </td><td>Ed        </td><td>B         </td><td> 0.3269814</td></tr>\n",
       "\t<tr><td>unc       </td><td>Ed        </td><td>C         </td><td> 0.8973218</td></tr>\n",
       "\t<tr><td>unc       </td><td>Fiona     </td><td>A         </td><td> 1.3541798</td></tr>\n",
       "\t<tr><td>unc       </td><td>Fiona     </td><td>B         </td><td> 1.9866301</td></tr>\n",
       "\t<tr><td>unc       </td><td>Fiona     </td><td>C         </td><td> 2.3377464</td></tr>\n",
       "</tbody>\n",
       "</table>\n"
      ],
      "text/latex": [
       "\\begin{tabular}{r|llll}\n",
       " site & patient & gene & gene.change\\\\\n",
       "\\hline\n",
       "\t duke       & Ann        & A          &  1.7391560\\\\\n",
       "\t duke       & Ann        & B          &  1.7170389\\\\\n",
       "\t duke       & Ann        & C          &  1.1929272\\\\\n",
       "\t duke       & Bob        & A          &  2.4370022\\\\\n",
       "\t duke       & Bob        & B          &  1.5513112\\\\\n",
       "\t duke       & Bob        & C          &  2.8377604\\\\\n",
       "\t duke       & Charlie    & A          & -0.9307330\\\\\n",
       "\t duke       & Charlie    & B          &  1.8112820\\\\\n",
       "\t duke       & Charlie    & C          &  0.6021148\\\\\n",
       "\t unc        & David      & A          &  0.6780785\\\\\n",
       "\t unc        & David      & B          &  1.7998124\\\\\n",
       "\t unc        & David      & C          &  0.9776623\\\\\n",
       "\t unc        & Ed         & A          &  0.7759811\\\\\n",
       "\t unc        & Ed         & B          &  0.3269814\\\\\n",
       "\t unc        & Ed         & C          &  0.8973218\\\\\n",
       "\t unc        & Fiona      & A          &  1.3541798\\\\\n",
       "\t unc        & Fiona      & B          &  1.9866301\\\\\n",
       "\t unc        & Fiona      & C          &  2.3377464\\\\\n",
       "\\end{tabular}\n"
      ],
      "text/markdown": [
       "\n",
       "site | patient | gene | gene.change | \n",
       "|---|---|---|---|---|---|---|---|---|---|---|---|---|---|---|---|---|---|\n",
       "| duke       | Ann        | A          |  1.7391560 | \n",
       "| duke       | Ann        | B          |  1.7170389 | \n",
       "| duke       | Ann        | C          |  1.1929272 | \n",
       "| duke       | Bob        | A          |  2.4370022 | \n",
       "| duke       | Bob        | B          |  1.5513112 | \n",
       "| duke       | Bob        | C          |  2.8377604 | \n",
       "| duke       | Charlie    | A          | -0.9307330 | \n",
       "| duke       | Charlie    | B          |  1.8112820 | \n",
       "| duke       | Charlie    | C          |  0.6021148 | \n",
       "| unc        | David      | A          |  0.6780785 | \n",
       "| unc        | David      | B          |  1.7998124 | \n",
       "| unc        | David      | C          |  0.9776623 | \n",
       "| unc        | Ed         | A          |  0.7759811 | \n",
       "| unc        | Ed         | B          |  0.3269814 | \n",
       "| unc        | Ed         | C          |  0.8973218 | \n",
       "| unc        | Fiona      | A          |  1.3541798 | \n",
       "| unc        | Fiona      | B          |  1.9866301 | \n",
       "| unc        | Fiona      | C          |  2.3377464 | \n",
       "\n",
       "\n"
      ],
      "text/plain": [
       "   site patient gene gene.change\n",
       "1  duke Ann     A     1.7391560 \n",
       "2  duke Ann     B     1.7170389 \n",
       "3  duke Ann     C     1.1929272 \n",
       "4  duke Bob     A     2.4370022 \n",
       "5  duke Bob     B     1.5513112 \n",
       "6  duke Bob     C     2.8377604 \n",
       "7  duke Charlie A    -0.9307330 \n",
       "8  duke Charlie B     1.8112820 \n",
       "9  duke Charlie C     0.6021148 \n",
       "10 unc  David   A     0.6780785 \n",
       "11 unc  David   B     1.7998124 \n",
       "12 unc  David   C     0.9776623 \n",
       "13 unc  Ed      A     0.7759811 \n",
       "14 unc  Ed      B     0.3269814 \n",
       "15 unc  Ed      C     0.8973218 \n",
       "16 unc  Fiona   A     1.3541798 \n",
       "17 unc  Fiona   B     1.9866301 \n",
       "18 unc  Fiona   C     2.3377464 "
      ]
     },
     "metadata": {},
     "output_type": "display_data"
    }
   ],
   "source": [
    "df_g <- bind_rows(list(duke=df_dg.diff, unc=df_ug.diff), .id='site')\n",
    "df_g"
   ]
  },
  {
   "cell_type": "markdown",
   "metadata": {},
   "source": [
    "### Now do the same with protein data"
   ]
  },
  {
   "cell_type": "code",
   "execution_count": 86,
   "metadata": {},
   "outputs": [
    {
     "data": {
      "text/html": [
       "<table>\n",
       "<thead><tr><th scope=col>patient</th><th scope=col>protein</th><th scope=col>protein.change</th></tr></thead>\n",
       "<tbody>\n",
       "\t<tr><td>Ann        </td><td>A          </td><td> 0.07755833</td></tr>\n",
       "\t<tr><td>Ann        </td><td>B          </td><td>-0.60571547</td></tr>\n",
       "\t<tr><td>Ann        </td><td>C          </td><td> 2.26166848</td></tr>\n",
       "\t<tr><td>Bob        </td><td>A          </td><td> 2.80037479</td></tr>\n",
       "\t<tr><td>Bob        </td><td>B          </td><td> 0.64111624</td></tr>\n",
       "\t<tr><td>Bob        </td><td>C          </td><td> 0.95898869</td></tr>\n",
       "</tbody>\n",
       "</table>\n"
      ],
      "text/latex": [
       "\\begin{tabular}{r|lll}\n",
       " patient & protein & protein.change\\\\\n",
       "\\hline\n",
       "\t Ann         & A           &  0.07755833\\\\\n",
       "\t Ann         & B           & -0.60571547\\\\\n",
       "\t Ann         & C           &  2.26166848\\\\\n",
       "\t Bob         & A           &  2.80037479\\\\\n",
       "\t Bob         & B           &  0.64111624\\\\\n",
       "\t Bob         & C           &  0.95898869\\\\\n",
       "\\end{tabular}\n"
      ],
      "text/markdown": [
       "\n",
       "patient | protein | protein.change | \n",
       "|---|---|---|---|---|---|\n",
       "| Ann         | A           |  0.07755833 | \n",
       "| Ann         | B           | -0.60571547 | \n",
       "| Ann         | C           |  2.26166848 | \n",
       "| Bob         | A           |  2.80037479 | \n",
       "| Bob         | B           |  0.64111624 | \n",
       "| Bob         | C           |  0.95898869 | \n",
       "\n",
       "\n"
      ],
      "text/plain": [
       "  patient protein protein.change\n",
       "1 Ann     A        0.07755833   \n",
       "2 Ann     B       -0.60571547   \n",
       "3 Ann     C        2.26166848   \n",
       "4 Bob     A        2.80037479   \n",
       "5 Bob     B        0.64111624   \n",
       "6 Bob     C        0.95898869   "
      ]
     },
     "metadata": {},
     "output_type": "display_data"
    }
   ],
   "source": [
    "df_dp.diff <- df_dp.scaled %>% \n",
    "gather(protein, value, starts_with('prot'))  %>% \n",
    "spread(visit, value) %>%\n",
    "transmute(patient=pet, \n",
    "          protein=str_extract(protein, '[^_]+$'), \n",
    "          protein.change=`2`-`1`)\n",
    "head(df_dp.diff)"
   ]
  },
  {
   "cell_type": "code",
   "execution_count": 87,
   "metadata": {},
   "outputs": [
    {
     "data": {
      "text/html": [
       "<table>\n",
       "<thead><tr><th scope=col>patient</th><th scope=col>protein</th><th scope=col>protein.change</th></tr></thead>\n",
       "<tbody>\n",
       "\t<tr><td>David     </td><td>A         </td><td>-1.4915602</td></tr>\n",
       "\t<tr><td>David     </td><td>B         </td><td>-0.8664787</td></tr>\n",
       "\t<tr><td>David     </td><td>C         </td><td> 1.6043438</td></tr>\n",
       "\t<tr><td>Ed        </td><td>A         </td><td> 1.6874346</td></tr>\n",
       "\t<tr><td>Ed        </td><td>B         </td><td> 1.6199340</td></tr>\n",
       "\t<tr><td>Ed        </td><td>C         </td><td>-0.3177619</td></tr>\n",
       "</tbody>\n",
       "</table>\n"
      ],
      "text/latex": [
       "\\begin{tabular}{r|lll}\n",
       " patient & protein & protein.change\\\\\n",
       "\\hline\n",
       "\t David      & A          & -1.4915602\\\\\n",
       "\t David      & B          & -0.8664787\\\\\n",
       "\t David      & C          &  1.6043438\\\\\n",
       "\t Ed         & A          &  1.6874346\\\\\n",
       "\t Ed         & B          &  1.6199340\\\\\n",
       "\t Ed         & C          & -0.3177619\\\\\n",
       "\\end{tabular}\n"
      ],
      "text/markdown": [
       "\n",
       "patient | protein | protein.change | \n",
       "|---|---|---|---|---|---|\n",
       "| David      | A          | -1.4915602 | \n",
       "| David      | B          | -0.8664787 | \n",
       "| David      | C          |  1.6043438 | \n",
       "| Ed         | A          |  1.6874346 | \n",
       "| Ed         | B          |  1.6199340 | \n",
       "| Ed         | C          | -0.3177619 | \n",
       "\n",
       "\n"
      ],
      "text/plain": [
       "  patient protein protein.change\n",
       "1 David   A       -1.4915602    \n",
       "2 David   B       -0.8664787    \n",
       "3 David   C        1.6043438    \n",
       "4 Ed      A        1.6874346    \n",
       "5 Ed      B        1.6199340    \n",
       "6 Ed      C       -0.3177619    "
      ]
     },
     "metadata": {},
     "output_type": "display_data"
    }
   ],
   "source": [
    "df_up.diff <- df_up.scaled %>% \n",
    "gather(protein, value, starts_with('prot'))  %>% \n",
    "spread(visit, value) %>%\n",
    "transmute(patient=pet, \n",
    "          protein=str_extract(protein, '[^_]+$'), \n",
    "          protein.change=`2`-`1`)\n",
    "head(df_up.diff)"
   ]
  },
  {
   "cell_type": "code",
   "execution_count": 88,
   "metadata": {},
   "outputs": [
    {
     "data": {
      "text/html": [
       "<table>\n",
       "<thead><tr><th scope=col>site</th><th scope=col>patient</th><th scope=col>protein</th><th scope=col>protein.change</th></tr></thead>\n",
       "<tbody>\n",
       "\t<tr><td>duke       </td><td>Ann        </td><td>A          </td><td> 0.07755833</td></tr>\n",
       "\t<tr><td>duke       </td><td>Ann        </td><td>B          </td><td>-0.60571547</td></tr>\n",
       "\t<tr><td>duke       </td><td>Ann        </td><td>C          </td><td> 2.26166848</td></tr>\n",
       "\t<tr><td>duke       </td><td>Bob        </td><td>A          </td><td> 2.80037479</td></tr>\n",
       "\t<tr><td>duke       </td><td>Bob        </td><td>B          </td><td> 0.64111624</td></tr>\n",
       "\t<tr><td>duke       </td><td>Bob        </td><td>C          </td><td> 0.95898869</td></tr>\n",
       "\t<tr><td>duke       </td><td>Charlie    </td><td>A          </td><td> 0.83316369</td></tr>\n",
       "\t<tr><td>duke       </td><td>Charlie    </td><td>B          </td><td> 2.07089865</td></tr>\n",
       "\t<tr><td>duke       </td><td>Charlie    </td><td>C          </td><td> 0.35482775</td></tr>\n",
       "\t<tr><td>unc        </td><td>David      </td><td>A          </td><td>-1.49156020</td></tr>\n",
       "\t<tr><td>unc        </td><td>David      </td><td>B          </td><td>-0.86647868</td></tr>\n",
       "\t<tr><td>unc        </td><td>David      </td><td>C          </td><td> 1.60434377</td></tr>\n",
       "\t<tr><td>unc        </td><td>Ed         </td><td>A          </td><td> 1.68743457</td></tr>\n",
       "\t<tr><td>unc        </td><td>Ed         </td><td>B          </td><td> 1.61993404</td></tr>\n",
       "\t<tr><td>unc        </td><td>Ed         </td><td>C          </td><td>-0.31776193</td></tr>\n",
       "\t<tr><td>unc        </td><td>Fiona      </td><td>A          </td><td> 0.91584977</td></tr>\n",
       "\t<tr><td>unc        </td><td>Fiona      </td><td>B          </td><td>-0.15046013</td></tr>\n",
       "\t<tr><td>unc        </td><td>Fiona      </td><td>C          </td><td> 1.05110029</td></tr>\n",
       "</tbody>\n",
       "</table>\n"
      ],
      "text/latex": [
       "\\begin{tabular}{r|llll}\n",
       " site & patient & protein & protein.change\\\\\n",
       "\\hline\n",
       "\t duke        & Ann         & A           &  0.07755833\\\\\n",
       "\t duke        & Ann         & B           & -0.60571547\\\\\n",
       "\t duke        & Ann         & C           &  2.26166848\\\\\n",
       "\t duke        & Bob         & A           &  2.80037479\\\\\n",
       "\t duke        & Bob         & B           &  0.64111624\\\\\n",
       "\t duke        & Bob         & C           &  0.95898869\\\\\n",
       "\t duke        & Charlie     & A           &  0.83316369\\\\\n",
       "\t duke        & Charlie     & B           &  2.07089865\\\\\n",
       "\t duke        & Charlie     & C           &  0.35482775\\\\\n",
       "\t unc         & David       & A           & -1.49156020\\\\\n",
       "\t unc         & David       & B           & -0.86647868\\\\\n",
       "\t unc         & David       & C           &  1.60434377\\\\\n",
       "\t unc         & Ed          & A           &  1.68743457\\\\\n",
       "\t unc         & Ed          & B           &  1.61993404\\\\\n",
       "\t unc         & Ed          & C           & -0.31776193\\\\\n",
       "\t unc         & Fiona       & A           &  0.91584977\\\\\n",
       "\t unc         & Fiona       & B           & -0.15046013\\\\\n",
       "\t unc         & Fiona       & C           &  1.05110029\\\\\n",
       "\\end{tabular}\n"
      ],
      "text/markdown": [
       "\n",
       "site | patient | protein | protein.change | \n",
       "|---|---|---|---|---|---|---|---|---|---|---|---|---|---|---|---|---|---|\n",
       "| duke        | Ann         | A           |  0.07755833 | \n",
       "| duke        | Ann         | B           | -0.60571547 | \n",
       "| duke        | Ann         | C           |  2.26166848 | \n",
       "| duke        | Bob         | A           |  2.80037479 | \n",
       "| duke        | Bob         | B           |  0.64111624 | \n",
       "| duke        | Bob         | C           |  0.95898869 | \n",
       "| duke        | Charlie     | A           |  0.83316369 | \n",
       "| duke        | Charlie     | B           |  2.07089865 | \n",
       "| duke        | Charlie     | C           |  0.35482775 | \n",
       "| unc         | David       | A           | -1.49156020 | \n",
       "| unc         | David       | B           | -0.86647868 | \n",
       "| unc         | David       | C           |  1.60434377 | \n",
       "| unc         | Ed          | A           |  1.68743457 | \n",
       "| unc         | Ed          | B           |  1.61993404 | \n",
       "| unc         | Ed          | C           | -0.31776193 | \n",
       "| unc         | Fiona       | A           |  0.91584977 | \n",
       "| unc         | Fiona       | B           | -0.15046013 | \n",
       "| unc         | Fiona       | C           |  1.05110029 | \n",
       "\n",
       "\n"
      ],
      "text/plain": [
       "   site patient protein protein.change\n",
       "1  duke Ann     A        0.07755833   \n",
       "2  duke Ann     B       -0.60571547   \n",
       "3  duke Ann     C        2.26166848   \n",
       "4  duke Bob     A        2.80037479   \n",
       "5  duke Bob     B        0.64111624   \n",
       "6  duke Bob     C        0.95898869   \n",
       "7  duke Charlie A        0.83316369   \n",
       "8  duke Charlie B        2.07089865   \n",
       "9  duke Charlie C        0.35482775   \n",
       "10 unc  David   A       -1.49156020   \n",
       "11 unc  David   B       -0.86647868   \n",
       "12 unc  David   C        1.60434377   \n",
       "13 unc  Ed      A        1.68743457   \n",
       "14 unc  Ed      B        1.61993404   \n",
       "15 unc  Ed      C       -0.31776193   \n",
       "16 unc  Fiona   A        0.91584977   \n",
       "17 unc  Fiona   B       -0.15046013   \n",
       "18 unc  Fiona   C        1.05110029   "
      ]
     },
     "metadata": {},
     "output_type": "display_data"
    }
   ],
   "source": [
    "df_p <- bind_rows(list(duke=df_dp.diff, unc=df_up.diff), .id='site')\n",
    "df_p"
   ]
  },
  {
   "cell_type": "markdown",
   "metadata": {},
   "source": [
    "### Combine gene and protein data into single data frame\n",
    "\n",
    "Since the rows are perfectly aligned, we can just bind columns together. If we are not certain that the rows match up exactly, it is safer to use a `join` to combine columns."
   ]
  },
  {
   "cell_type": "code",
   "execution_count": 89,
   "metadata": {},
   "outputs": [
    {
     "data": {
      "text/html": [
       "<table>\n",
       "<thead><tr><th scope=col>site</th><th scope=col>patient</th><th scope=col>gene</th><th scope=col>gene.change</th><th scope=col>site1</th><th scope=col>patient1</th><th scope=col>protein</th><th scope=col>protein.change</th></tr></thead>\n",
       "<tbody>\n",
       "\t<tr><td>duke       </td><td>Ann        </td><td>A          </td><td> 1.7391560 </td><td>duke       </td><td>Ann        </td><td>A          </td><td> 0.07755833</td></tr>\n",
       "\t<tr><td>duke       </td><td>Ann        </td><td>B          </td><td> 1.7170389 </td><td>duke       </td><td>Ann        </td><td>B          </td><td>-0.60571547</td></tr>\n",
       "\t<tr><td>duke       </td><td>Ann        </td><td>C          </td><td> 1.1929272 </td><td>duke       </td><td>Ann        </td><td>C          </td><td> 2.26166848</td></tr>\n",
       "\t<tr><td>duke       </td><td>Bob        </td><td>A          </td><td> 2.4370022 </td><td>duke       </td><td>Bob        </td><td>A          </td><td> 2.80037479</td></tr>\n",
       "\t<tr><td>duke       </td><td>Bob        </td><td>B          </td><td> 1.5513112 </td><td>duke       </td><td>Bob        </td><td>B          </td><td> 0.64111624</td></tr>\n",
       "\t<tr><td>duke       </td><td>Bob        </td><td>C          </td><td> 2.8377604 </td><td>duke       </td><td>Bob        </td><td>C          </td><td> 0.95898869</td></tr>\n",
       "\t<tr><td>duke       </td><td>Charlie    </td><td>A          </td><td>-0.9307330 </td><td>duke       </td><td>Charlie    </td><td>A          </td><td> 0.83316369</td></tr>\n",
       "\t<tr><td>duke       </td><td>Charlie    </td><td>B          </td><td> 1.8112820 </td><td>duke       </td><td>Charlie    </td><td>B          </td><td> 2.07089865</td></tr>\n",
       "\t<tr><td>duke       </td><td>Charlie    </td><td>C          </td><td> 0.6021148 </td><td>duke       </td><td>Charlie    </td><td>C          </td><td> 0.35482775</td></tr>\n",
       "\t<tr><td>unc        </td><td>David      </td><td>A          </td><td> 0.6780785 </td><td>unc        </td><td>David      </td><td>A          </td><td>-1.49156020</td></tr>\n",
       "\t<tr><td>unc        </td><td>David      </td><td>B          </td><td> 1.7998124 </td><td>unc        </td><td>David      </td><td>B          </td><td>-0.86647868</td></tr>\n",
       "\t<tr><td>unc        </td><td>David      </td><td>C          </td><td> 0.9776623 </td><td>unc        </td><td>David      </td><td>C          </td><td> 1.60434377</td></tr>\n",
       "\t<tr><td>unc        </td><td>Ed         </td><td>A          </td><td> 0.7759811 </td><td>unc        </td><td>Ed         </td><td>A          </td><td> 1.68743457</td></tr>\n",
       "\t<tr><td>unc        </td><td>Ed         </td><td>B          </td><td> 0.3269814 </td><td>unc        </td><td>Ed         </td><td>B          </td><td> 1.61993404</td></tr>\n",
       "\t<tr><td>unc        </td><td>Ed         </td><td>C          </td><td> 0.8973218 </td><td>unc        </td><td>Ed         </td><td>C          </td><td>-0.31776193</td></tr>\n",
       "\t<tr><td>unc        </td><td>Fiona      </td><td>A          </td><td> 1.3541798 </td><td>unc        </td><td>Fiona      </td><td>A          </td><td> 0.91584977</td></tr>\n",
       "\t<tr><td>unc        </td><td>Fiona      </td><td>B          </td><td> 1.9866301 </td><td>unc        </td><td>Fiona      </td><td>B          </td><td>-0.15046013</td></tr>\n",
       "\t<tr><td>unc        </td><td>Fiona      </td><td>C          </td><td> 2.3377464 </td><td>unc        </td><td>Fiona      </td><td>C          </td><td> 1.05110029</td></tr>\n",
       "</tbody>\n",
       "</table>\n"
      ],
      "text/latex": [
       "\\begin{tabular}{r|llllllll}\n",
       " site & patient & gene & gene.change & site1 & patient1 & protein & protein.change\\\\\n",
       "\\hline\n",
       "\t duke        & Ann         & A           &  1.7391560  & duke        & Ann         & A           &  0.07755833\\\\\n",
       "\t duke        & Ann         & B           &  1.7170389  & duke        & Ann         & B           & -0.60571547\\\\\n",
       "\t duke        & Ann         & C           &  1.1929272  & duke        & Ann         & C           &  2.26166848\\\\\n",
       "\t duke        & Bob         & A           &  2.4370022  & duke        & Bob         & A           &  2.80037479\\\\\n",
       "\t duke        & Bob         & B           &  1.5513112  & duke        & Bob         & B           &  0.64111624\\\\\n",
       "\t duke        & Bob         & C           &  2.8377604  & duke        & Bob         & C           &  0.95898869\\\\\n",
       "\t duke        & Charlie     & A           & -0.9307330  & duke        & Charlie     & A           &  0.83316369\\\\\n",
       "\t duke        & Charlie     & B           &  1.8112820  & duke        & Charlie     & B           &  2.07089865\\\\\n",
       "\t duke        & Charlie     & C           &  0.6021148  & duke        & Charlie     & C           &  0.35482775\\\\\n",
       "\t unc         & David       & A           &  0.6780785  & unc         & David       & A           & -1.49156020\\\\\n",
       "\t unc         & David       & B           &  1.7998124  & unc         & David       & B           & -0.86647868\\\\\n",
       "\t unc         & David       & C           &  0.9776623  & unc         & David       & C           &  1.60434377\\\\\n",
       "\t unc         & Ed          & A           &  0.7759811  & unc         & Ed          & A           &  1.68743457\\\\\n",
       "\t unc         & Ed          & B           &  0.3269814  & unc         & Ed          & B           &  1.61993404\\\\\n",
       "\t unc         & Ed          & C           &  0.8973218  & unc         & Ed          & C           & -0.31776193\\\\\n",
       "\t unc         & Fiona       & A           &  1.3541798  & unc         & Fiona       & A           &  0.91584977\\\\\n",
       "\t unc         & Fiona       & B           &  1.9866301  & unc         & Fiona       & B           & -0.15046013\\\\\n",
       "\t unc         & Fiona       & C           &  2.3377464  & unc         & Fiona       & C           &  1.05110029\\\\\n",
       "\\end{tabular}\n"
      ],
      "text/markdown": [
       "\n",
       "site | patient | gene | gene.change | site1 | patient1 | protein | protein.change | \n",
       "|---|---|---|---|---|---|---|---|---|---|---|---|---|---|---|---|---|---|\n",
       "| duke        | Ann         | A           |  1.7391560  | duke        | Ann         | A           |  0.07755833 | \n",
       "| duke        | Ann         | B           |  1.7170389  | duke        | Ann         | B           | -0.60571547 | \n",
       "| duke        | Ann         | C           |  1.1929272  | duke        | Ann         | C           |  2.26166848 | \n",
       "| duke        | Bob         | A           |  2.4370022  | duke        | Bob         | A           |  2.80037479 | \n",
       "| duke        | Bob         | B           |  1.5513112  | duke        | Bob         | B           |  0.64111624 | \n",
       "| duke        | Bob         | C           |  2.8377604  | duke        | Bob         | C           |  0.95898869 | \n",
       "| duke        | Charlie     | A           | -0.9307330  | duke        | Charlie     | A           |  0.83316369 | \n",
       "| duke        | Charlie     | B           |  1.8112820  | duke        | Charlie     | B           |  2.07089865 | \n",
       "| duke        | Charlie     | C           |  0.6021148  | duke        | Charlie     | C           |  0.35482775 | \n",
       "| unc         | David       | A           |  0.6780785  | unc         | David       | A           | -1.49156020 | \n",
       "| unc         | David       | B           |  1.7998124  | unc         | David       | B           | -0.86647868 | \n",
       "| unc         | David       | C           |  0.9776623  | unc         | David       | C           |  1.60434377 | \n",
       "| unc         | Ed          | A           |  0.7759811  | unc         | Ed          | A           |  1.68743457 | \n",
       "| unc         | Ed          | B           |  0.3269814  | unc         | Ed          | B           |  1.61993404 | \n",
       "| unc         | Ed          | C           |  0.8973218  | unc         | Ed          | C           | -0.31776193 | \n",
       "| unc         | Fiona       | A           |  1.3541798  | unc         | Fiona       | A           |  0.91584977 | \n",
       "| unc         | Fiona       | B           |  1.9866301  | unc         | Fiona       | B           | -0.15046013 | \n",
       "| unc         | Fiona       | C           |  2.3377464  | unc         | Fiona       | C           |  1.05110029 | \n",
       "\n",
       "\n"
      ],
      "text/plain": [
       "   site patient gene gene.change site1 patient1 protein protein.change\n",
       "1  duke Ann     A     1.7391560  duke  Ann      A        0.07755833   \n",
       "2  duke Ann     B     1.7170389  duke  Ann      B       -0.60571547   \n",
       "3  duke Ann     C     1.1929272  duke  Ann      C        2.26166848   \n",
       "4  duke Bob     A     2.4370022  duke  Bob      A        2.80037479   \n",
       "5  duke Bob     B     1.5513112  duke  Bob      B        0.64111624   \n",
       "6  duke Bob     C     2.8377604  duke  Bob      C        0.95898869   \n",
       "7  duke Charlie A    -0.9307330  duke  Charlie  A        0.83316369   \n",
       "8  duke Charlie B     1.8112820  duke  Charlie  B        2.07089865   \n",
       "9  duke Charlie C     0.6021148  duke  Charlie  C        0.35482775   \n",
       "10 unc  David   A     0.6780785  unc   David    A       -1.49156020   \n",
       "11 unc  David   B     1.7998124  unc   David    B       -0.86647868   \n",
       "12 unc  David   C     0.9776623  unc   David    C        1.60434377   \n",
       "13 unc  Ed      A     0.7759811  unc   Ed       A        1.68743457   \n",
       "14 unc  Ed      B     0.3269814  unc   Ed       B        1.61993404   \n",
       "15 unc  Ed      C     0.8973218  unc   Ed       C       -0.31776193   \n",
       "16 unc  Fiona   A     1.3541798  unc   Fiona    A        0.91584977   \n",
       "17 unc  Fiona   B     1.9866301  unc   Fiona    B       -0.15046013   \n",
       "18 unc  Fiona   C     2.3377464  unc   Fiona    C        1.05110029   "
      ]
     },
     "metadata": {},
     "output_type": "display_data"
    }
   ],
   "source": [
    "bind_cols(df_g, df_p, )"
   ]
  },
  {
   "cell_type": "code",
   "execution_count": 90,
   "metadata": {},
   "outputs": [
    {
     "data": {
      "text/html": [
       "<table>\n",
       "<thead><tr><th scope=col>site</th><th scope=col>patient</th><th scope=col>gene</th><th scope=col>gene.change</th><th scope=col>protein.change</th></tr></thead>\n",
       "<tbody>\n",
       "\t<tr><td>duke       </td><td>Ann        </td><td>A          </td><td>1.739156   </td><td> 0.07755833</td></tr>\n",
       "\t<tr><td>duke       </td><td>Ann        </td><td>B          </td><td>1.717039   </td><td>-0.60571547</td></tr>\n",
       "\t<tr><td>duke       </td><td>Ann        </td><td>C          </td><td>1.192927   </td><td> 2.26166848</td></tr>\n",
       "\t<tr><td>duke       </td><td>Bob        </td><td>A          </td><td>2.437002   </td><td> 2.80037479</td></tr>\n",
       "\t<tr><td>duke       </td><td>Bob        </td><td>B          </td><td>1.551311   </td><td> 0.64111624</td></tr>\n",
       "\t<tr><td>duke       </td><td>Bob        </td><td>C          </td><td>2.837760   </td><td> 0.95898869</td></tr>\n",
       "</tbody>\n",
       "</table>\n"
      ],
      "text/latex": [
       "\\begin{tabular}{r|lllll}\n",
       " site & patient & gene & gene.change & protein.change\\\\\n",
       "\\hline\n",
       "\t duke        & Ann         & A           & 1.739156    &  0.07755833\\\\\n",
       "\t duke        & Ann         & B           & 1.717039    & -0.60571547\\\\\n",
       "\t duke        & Ann         & C           & 1.192927    &  2.26166848\\\\\n",
       "\t duke        & Bob         & A           & 2.437002    &  2.80037479\\\\\n",
       "\t duke        & Bob         & B           & 1.551311    &  0.64111624\\\\\n",
       "\t duke        & Bob         & C           & 2.837760    &  0.95898869\\\\\n",
       "\\end{tabular}\n"
      ],
      "text/markdown": [
       "\n",
       "site | patient | gene | gene.change | protein.change | \n",
       "|---|---|---|---|---|---|\n",
       "| duke        | Ann         | A           | 1.739156    |  0.07755833 | \n",
       "| duke        | Ann         | B           | 1.717039    | -0.60571547 | \n",
       "| duke        | Ann         | C           | 1.192927    |  2.26166848 | \n",
       "| duke        | Bob         | A           | 2.437002    |  2.80037479 | \n",
       "| duke        | Bob         | B           | 1.551311    |  0.64111624 | \n",
       "| duke        | Bob         | C           | 2.837760    |  0.95898869 | \n",
       "\n",
       "\n"
      ],
      "text/plain": [
       "  site patient gene gene.change protein.change\n",
       "1 duke Ann     A    1.739156     0.07755833   \n",
       "2 duke Ann     B    1.717039    -0.60571547   \n",
       "3 duke Ann     C    1.192927     2.26166848   \n",
       "4 duke Bob     A    2.437002     2.80037479   \n",
       "5 duke Bob     B    1.551311     0.64111624   \n",
       "6 duke Bob     C    2.837760     0.95898869   "
      ]
     },
     "metadata": {},
     "output_type": "display_data"
    }
   ],
   "source": [
    "df_gp <- bind_cols(df_g, df_p %>% select(-site, -patient, -protein))\n",
    "head(df_gp)"
   ]
  },
  {
   "cell_type": "markdown",
   "metadata": {},
   "source": [
    "### Combine with demographic data"
   ]
  },
  {
   "cell_type": "code",
   "execution_count": 91,
   "metadata": {},
   "outputs": [
    {
     "name": "stderr",
     "output_type": "stream",
     "text": [
      "Parsed with column specification:\n",
      "cols(\n",
      "  patients = col_character(),\n",
      "  age = col_integer(),\n",
      "  sex = col_character()\n",
      ")\n",
      "Parsed with column specification:\n",
      "cols(\n",
      "  patients = col_character(),\n",
      "  age = col_integer(),\n",
      "  sex = col_character()\n",
      ")\n"
     ]
    }
   ],
   "source": [
    "df_dd <- read_tsv('data/duke_demographics.tsv')\n",
    "df_ud <- read_tsv('data/unc_demographics.tsv')"
   ]
  },
  {
   "cell_type": "code",
   "execution_count": 92,
   "metadata": {},
   "outputs": [
    {
     "data": {
      "text/html": [
       "<table>\n",
       "<thead><tr><th scope=col>patients</th><th scope=col>age</th><th scope=col>sex</th></tr></thead>\n",
       "<tbody>\n",
       "\t<tr><td>Ann    </td><td>16     </td><td>F      </td></tr>\n",
       "\t<tr><td>Bob    </td><td>23     </td><td>M      </td></tr>\n",
       "\t<tr><td>Beth   </td><td>43     </td><td>F      </td></tr>\n",
       "\t<tr><td>Charlie</td><td>53     </td><td>M      </td></tr>\n",
       "</tbody>\n",
       "</table>\n"
      ],
      "text/latex": [
       "\\begin{tabular}{r|lll}\n",
       " patients & age & sex\\\\\n",
       "\\hline\n",
       "\t Ann     & 16      & F      \\\\\n",
       "\t Bob     & 23      & M      \\\\\n",
       "\t Beth    & 43      & F      \\\\\n",
       "\t Charlie & 53      & M      \\\\\n",
       "\\end{tabular}\n"
      ],
      "text/markdown": [
       "\n",
       "patients | age | sex | \n",
       "|---|---|---|---|\n",
       "| Ann     | 16      | F       | \n",
       "| Bob     | 23      | M       | \n",
       "| Beth    | 43      | F       | \n",
       "| Charlie | 53      | M       | \n",
       "\n",
       "\n"
      ],
      "text/plain": [
       "  patients age sex\n",
       "1 Ann      16  F  \n",
       "2 Bob      23  M  \n",
       "3 Beth     43  F  \n",
       "4 Charlie  53  M  "
      ]
     },
     "metadata": {},
     "output_type": "display_data"
    }
   ],
   "source": [
    "head(df_dd)"
   ]
  },
  {
   "cell_type": "code",
   "execution_count": 93,
   "metadata": {},
   "outputs": [
    {
     "data": {
      "text/html": [
       "<table>\n",
       "<thead><tr><th scope=col>patients</th><th scope=col>age</th><th scope=col>sex</th></tr></thead>\n",
       "<tbody>\n",
       "\t<tr><td>David </td><td>49    </td><td>K     </td></tr>\n",
       "\t<tr><td>Edward</td><td>53    </td><td>M     </td></tr>\n",
       "\t<tr><td>Fiona </td><td>67    </td><td>F     </td></tr>\n",
       "</tbody>\n",
       "</table>\n"
      ],
      "text/latex": [
       "\\begin{tabular}{r|lll}\n",
       " patients & age & sex\\\\\n",
       "\\hline\n",
       "\t David  & 49     & K     \\\\\n",
       "\t Edward & 53     & M     \\\\\n",
       "\t Fiona  & 67     & F     \\\\\n",
       "\\end{tabular}\n"
      ],
      "text/markdown": [
       "\n",
       "patients | age | sex | \n",
       "|---|---|---|\n",
       "| David  | 49     | K      | \n",
       "| Edward | 53     | M      | \n",
       "| Fiona  | 67     | F      | \n",
       "\n",
       "\n"
      ],
      "text/plain": [
       "  patients age sex\n",
       "1 David    49  K  \n",
       "2 Edward   53  M  \n",
       "3 Fiona    67  F  "
      ]
     },
     "metadata": {},
     "output_type": "display_data"
    }
   ],
   "source": [
    "head(df_ud)"
   ]
  },
  {
   "cell_type": "code",
   "execution_count": 94,
   "metadata": {},
   "outputs": [
    {
     "data": {
      "text/html": [
       "<table>\n",
       "<thead><tr><th scope=col>site</th><th scope=col>patients</th><th scope=col>age</th><th scope=col>sex</th></tr></thead>\n",
       "<tbody>\n",
       "\t<tr><td>duke   </td><td>Ann    </td><td>16     </td><td>F      </td></tr>\n",
       "\t<tr><td>duke   </td><td>Bob    </td><td>23     </td><td>M      </td></tr>\n",
       "\t<tr><td>duke   </td><td>Beth   </td><td>43     </td><td>F      </td></tr>\n",
       "\t<tr><td>duke   </td><td>Charlie</td><td>53     </td><td>M      </td></tr>\n",
       "\t<tr><td>unc    </td><td>David  </td><td>49     </td><td>K      </td></tr>\n",
       "\t<tr><td>unc    </td><td>Edward </td><td>53     </td><td>M      </td></tr>\n",
       "\t<tr><td>unc    </td><td>Fiona  </td><td>67     </td><td>F      </td></tr>\n",
       "</tbody>\n",
       "</table>\n"
      ],
      "text/latex": [
       "\\begin{tabular}{r|llll}\n",
       " site & patients & age & sex\\\\\n",
       "\\hline\n",
       "\t duke    & Ann     & 16      & F      \\\\\n",
       "\t duke    & Bob     & 23      & M      \\\\\n",
       "\t duke    & Beth    & 43      & F      \\\\\n",
       "\t duke    & Charlie & 53      & M      \\\\\n",
       "\t unc     & David   & 49      & K      \\\\\n",
       "\t unc     & Edward  & 53      & M      \\\\\n",
       "\t unc     & Fiona   & 67      & F      \\\\\n",
       "\\end{tabular}\n"
      ],
      "text/markdown": [
       "\n",
       "site | patients | age | sex | \n",
       "|---|---|---|---|---|---|---|\n",
       "| duke    | Ann     | 16      | F       | \n",
       "| duke    | Bob     | 23      | M       | \n",
       "| duke    | Beth    | 43      | F       | \n",
       "| duke    | Charlie | 53      | M       | \n",
       "| unc     | David   | 49      | K       | \n",
       "| unc     | Edward  | 53      | M       | \n",
       "| unc     | Fiona   | 67      | F       | \n",
       "\n",
       "\n"
      ],
      "text/plain": [
       "  site patients age sex\n",
       "1 duke Ann      16  F  \n",
       "2 duke Bob      23  M  \n",
       "3 duke Beth     43  F  \n",
       "4 duke Charlie  53  M  \n",
       "5 unc  David    49  K  \n",
       "6 unc  Edward   53  M  \n",
       "7 unc  Fiona    67  F  "
      ]
     },
     "metadata": {},
     "output_type": "display_data"
    }
   ],
   "source": [
    "df_d <- bind_rows(list(duke=df_dd, unc=df_ud), .id='site')\n",
    "df_d"
   ]
  },
  {
   "cell_type": "code",
   "execution_count": 61,
   "metadata": {},
   "outputs": [
    {
     "data": {
      "text/html": [
       "<table>\n",
       "<thead><tr><th scope=col>site</th><th scope=col>patient</th><th scope=col>gene</th><th scope=col>gene.change</th><th scope=col>protein.change</th><th scope=col>age</th><th scope=col>sex</th></tr></thead>\n",
       "<tbody>\n",
       "\t<tr><td>duke       </td><td>Ann        </td><td>A          </td><td> 1.7391560 </td><td> 0.07755833</td><td>16         </td><td>F          </td></tr>\n",
       "\t<tr><td>duke       </td><td>Ann        </td><td>B          </td><td> 1.7170389 </td><td>-0.60571547</td><td>16         </td><td>F          </td></tr>\n",
       "\t<tr><td>duke       </td><td>Ann        </td><td>C          </td><td> 1.1929272 </td><td> 2.26166848</td><td>16         </td><td>F          </td></tr>\n",
       "\t<tr><td>duke       </td><td>Bob        </td><td>A          </td><td> 2.4370022 </td><td> 2.80037479</td><td>23         </td><td>M          </td></tr>\n",
       "\t<tr><td>duke       </td><td>Bob        </td><td>B          </td><td> 1.5513112 </td><td> 0.64111624</td><td>23         </td><td>M          </td></tr>\n",
       "\t<tr><td>duke       </td><td>Bob        </td><td>C          </td><td> 2.8377604 </td><td> 0.95898869</td><td>23         </td><td>M          </td></tr>\n",
       "\t<tr><td>duke       </td><td>Charlie    </td><td>A          </td><td>-0.9307330 </td><td> 0.83316369</td><td>53         </td><td>M          </td></tr>\n",
       "\t<tr><td>duke       </td><td>Charlie    </td><td>B          </td><td> 1.8112820 </td><td> 2.07089865</td><td>53         </td><td>M          </td></tr>\n",
       "\t<tr><td>duke       </td><td>Charlie    </td><td>C          </td><td> 0.6021148 </td><td> 0.35482775</td><td>53         </td><td>M          </td></tr>\n",
       "\t<tr><td>unc        </td><td>David      </td><td>A          </td><td> 0.6780785 </td><td>-1.49156020</td><td>49         </td><td>K          </td></tr>\n",
       "\t<tr><td>unc        </td><td>David      </td><td>B          </td><td> 1.7998124 </td><td>-0.86647868</td><td>49         </td><td>K          </td></tr>\n",
       "\t<tr><td>unc        </td><td>David      </td><td>C          </td><td> 0.9776623 </td><td> 1.60434377</td><td>49         </td><td>K          </td></tr>\n",
       "\t<tr><td>unc        </td><td>Ed         </td><td>A          </td><td> 0.7759811 </td><td> 1.68743457</td><td>NA         </td><td>NA         </td></tr>\n",
       "\t<tr><td>unc        </td><td>Ed         </td><td>B          </td><td> 0.3269814 </td><td> 1.61993404</td><td>NA         </td><td>NA         </td></tr>\n",
       "\t<tr><td>unc        </td><td>Ed         </td><td>C          </td><td> 0.8973218 </td><td>-0.31776193</td><td>NA         </td><td>NA         </td></tr>\n",
       "\t<tr><td>unc        </td><td>Fiona      </td><td>A          </td><td> 1.3541798 </td><td> 0.91584977</td><td>67         </td><td>F          </td></tr>\n",
       "\t<tr><td>unc        </td><td>Fiona      </td><td>B          </td><td> 1.9866301 </td><td>-0.15046013</td><td>67         </td><td>F          </td></tr>\n",
       "\t<tr><td>unc        </td><td>Fiona      </td><td>C          </td><td> 2.3377464 </td><td> 1.05110029</td><td>67         </td><td>F          </td></tr>\n",
       "</tbody>\n",
       "</table>\n"
      ],
      "text/latex": [
       "\\begin{tabular}{r|lllllll}\n",
       " site & patient & gene & gene.change & protein.change & age & sex\\\\\n",
       "\\hline\n",
       "\t duke        & Ann         & A           &  1.7391560  &  0.07755833 & 16          & F          \\\\\n",
       "\t duke        & Ann         & B           &  1.7170389  & -0.60571547 & 16          & F          \\\\\n",
       "\t duke        & Ann         & C           &  1.1929272  &  2.26166848 & 16          & F          \\\\\n",
       "\t duke        & Bob         & A           &  2.4370022  &  2.80037479 & 23          & M          \\\\\n",
       "\t duke        & Bob         & B           &  1.5513112  &  0.64111624 & 23          & M          \\\\\n",
       "\t duke        & Bob         & C           &  2.8377604  &  0.95898869 & 23          & M          \\\\\n",
       "\t duke        & Charlie     & A           & -0.9307330  &  0.83316369 & 53          & M          \\\\\n",
       "\t duke        & Charlie     & B           &  1.8112820  &  2.07089865 & 53          & M          \\\\\n",
       "\t duke        & Charlie     & C           &  0.6021148  &  0.35482775 & 53          & M          \\\\\n",
       "\t unc         & David       & A           &  0.6780785  & -1.49156020 & 49          & K          \\\\\n",
       "\t unc         & David       & B           &  1.7998124  & -0.86647868 & 49          & K          \\\\\n",
       "\t unc         & David       & C           &  0.9776623  &  1.60434377 & 49          & K          \\\\\n",
       "\t unc         & Ed          & A           &  0.7759811  &  1.68743457 & NA          & NA         \\\\\n",
       "\t unc         & Ed          & B           &  0.3269814  &  1.61993404 & NA          & NA         \\\\\n",
       "\t unc         & Ed          & C           &  0.8973218  & -0.31776193 & NA          & NA         \\\\\n",
       "\t unc         & Fiona       & A           &  1.3541798  &  0.91584977 & 67          & F          \\\\\n",
       "\t unc         & Fiona       & B           &  1.9866301  & -0.15046013 & 67          & F          \\\\\n",
       "\t unc         & Fiona       & C           &  2.3377464  &  1.05110029 & 67          & F          \\\\\n",
       "\\end{tabular}\n"
      ],
      "text/markdown": [
       "\n",
       "site | patient | gene | gene.change | protein.change | age | sex | \n",
       "|---|---|---|---|---|---|---|---|---|---|---|---|---|---|---|---|---|---|\n",
       "| duke        | Ann         | A           |  1.7391560  |  0.07755833 | 16          | F           | \n",
       "| duke        | Ann         | B           |  1.7170389  | -0.60571547 | 16          | F           | \n",
       "| duke        | Ann         | C           |  1.1929272  |  2.26166848 | 16          | F           | \n",
       "| duke        | Bob         | A           |  2.4370022  |  2.80037479 | 23          | M           | \n",
       "| duke        | Bob         | B           |  1.5513112  |  0.64111624 | 23          | M           | \n",
       "| duke        | Bob         | C           |  2.8377604  |  0.95898869 | 23          | M           | \n",
       "| duke        | Charlie     | A           | -0.9307330  |  0.83316369 | 53          | M           | \n",
       "| duke        | Charlie     | B           |  1.8112820  |  2.07089865 | 53          | M           | \n",
       "| duke        | Charlie     | C           |  0.6021148  |  0.35482775 | 53          | M           | \n",
       "| unc         | David       | A           |  0.6780785  | -1.49156020 | 49          | K           | \n",
       "| unc         | David       | B           |  1.7998124  | -0.86647868 | 49          | K           | \n",
       "| unc         | David       | C           |  0.9776623  |  1.60434377 | 49          | K           | \n",
       "| unc         | Ed          | A           |  0.7759811  |  1.68743457 | NA          | NA          | \n",
       "| unc         | Ed          | B           |  0.3269814  |  1.61993404 | NA          | NA          | \n",
       "| unc         | Ed          | C           |  0.8973218  | -0.31776193 | NA          | NA          | \n",
       "| unc         | Fiona       | A           |  1.3541798  |  0.91584977 | 67          | F           | \n",
       "| unc         | Fiona       | B           |  1.9866301  | -0.15046013 | 67          | F           | \n",
       "| unc         | Fiona       | C           |  2.3377464  |  1.05110029 | 67          | F           | \n",
       "\n",
       "\n"
      ],
      "text/plain": [
       "   site patient gene gene.change protein.change age sex\n",
       "1  duke Ann     A     1.7391560   0.07755833    16  F  \n",
       "2  duke Ann     B     1.7170389  -0.60571547    16  F  \n",
       "3  duke Ann     C     1.1929272   2.26166848    16  F  \n",
       "4  duke Bob     A     2.4370022   2.80037479    23  M  \n",
       "5  duke Bob     B     1.5513112   0.64111624    23  M  \n",
       "6  duke Bob     C     2.8377604   0.95898869    23  M  \n",
       "7  duke Charlie A    -0.9307330   0.83316369    53  M  \n",
       "8  duke Charlie B     1.8112820   2.07089865    53  M  \n",
       "9  duke Charlie C     0.6021148   0.35482775    53  M  \n",
       "10 unc  David   A     0.6780785  -1.49156020    49  K  \n",
       "11 unc  David   B     1.7998124  -0.86647868    49  K  \n",
       "12 unc  David   C     0.9776623   1.60434377    49  K  \n",
       "13 unc  Ed      A     0.7759811   1.68743457    NA  NA \n",
       "14 unc  Ed      B     0.3269814   1.61993404    NA  NA \n",
       "15 unc  Ed      C     0.8973218  -0.31776193    NA  NA \n",
       "16 unc  Fiona   A     1.3541798   0.91584977    67  F  \n",
       "17 unc  Fiona   B     1.9866301  -0.15046013    67  F  \n",
       "18 unc  Fiona   C     2.3377464   1.05110029    67  F  "
      ]
     },
     "metadata": {},
     "output_type": "display_data"
    }
   ],
   "source": [
    "left_join(df_gp, df_d, by = c('site', c('patient'='patients')))"
   ]
  },
  {
   "cell_type": "markdown",
   "metadata": {},
   "source": [
    "There are missing values for Ed because the names don't match. We know that Ed's name in this case is really Edward, so we fix and try again."
   ]
  },
  {
   "cell_type": "code",
   "execution_count": 95,
   "metadata": {},
   "outputs": [
    {
     "data": {
      "text/html": [
       "<table>\n",
       "<thead><tr><th scope=col>site</th><th scope=col>patient</th><th scope=col>gene</th><th scope=col>gene.change</th><th scope=col>protein.change</th><th scope=col>age</th><th scope=col>sex</th></tr></thead>\n",
       "<tbody>\n",
       "\t<tr><td>duke       </td><td>Ann        </td><td>A          </td><td> 1.7391560 </td><td> 0.07755833</td><td>16         </td><td>F          </td></tr>\n",
       "\t<tr><td>duke       </td><td>Ann        </td><td>B          </td><td> 1.7170389 </td><td>-0.60571547</td><td>16         </td><td>F          </td></tr>\n",
       "\t<tr><td>duke       </td><td>Ann        </td><td>C          </td><td> 1.1929272 </td><td> 2.26166848</td><td>16         </td><td>F          </td></tr>\n",
       "\t<tr><td>duke       </td><td>Bob        </td><td>A          </td><td> 2.4370022 </td><td> 2.80037479</td><td>23         </td><td>M          </td></tr>\n",
       "\t<tr><td>duke       </td><td>Bob        </td><td>B          </td><td> 1.5513112 </td><td> 0.64111624</td><td>23         </td><td>M          </td></tr>\n",
       "\t<tr><td>duke       </td><td>Bob        </td><td>C          </td><td> 2.8377604 </td><td> 0.95898869</td><td>23         </td><td>M          </td></tr>\n",
       "\t<tr><td>duke       </td><td>Charlie    </td><td>A          </td><td>-0.9307330 </td><td> 0.83316369</td><td>53         </td><td>M          </td></tr>\n",
       "\t<tr><td>duke       </td><td>Charlie    </td><td>B          </td><td> 1.8112820 </td><td> 2.07089865</td><td>53         </td><td>M          </td></tr>\n",
       "\t<tr><td>duke       </td><td>Charlie    </td><td>C          </td><td> 0.6021148 </td><td> 0.35482775</td><td>53         </td><td>M          </td></tr>\n",
       "\t<tr><td>unc        </td><td>David      </td><td>A          </td><td> 0.6780785 </td><td>-1.49156020</td><td>49         </td><td>K          </td></tr>\n",
       "\t<tr><td>unc        </td><td>David      </td><td>B          </td><td> 1.7998124 </td><td>-0.86647868</td><td>49         </td><td>K          </td></tr>\n",
       "\t<tr><td>unc        </td><td>David      </td><td>C          </td><td> 0.9776623 </td><td> 1.60434377</td><td>49         </td><td>K          </td></tr>\n",
       "\t<tr><td>unc        </td><td>Edward     </td><td>A          </td><td> 0.7759811 </td><td> 1.68743457</td><td>53         </td><td>M          </td></tr>\n",
       "\t<tr><td>unc        </td><td>Edward     </td><td>B          </td><td> 0.3269814 </td><td> 1.61993404</td><td>53         </td><td>M          </td></tr>\n",
       "\t<tr><td>unc        </td><td>Edward     </td><td>C          </td><td> 0.8973218 </td><td>-0.31776193</td><td>53         </td><td>M          </td></tr>\n",
       "\t<tr><td>unc        </td><td>Fiona      </td><td>A          </td><td> 1.3541798 </td><td> 0.91584977</td><td>67         </td><td>F          </td></tr>\n",
       "\t<tr><td>unc        </td><td>Fiona      </td><td>B          </td><td> 1.9866301 </td><td>-0.15046013</td><td>67         </td><td>F          </td></tr>\n",
       "\t<tr><td>unc        </td><td>Fiona      </td><td>C          </td><td> 2.3377464 </td><td> 1.05110029</td><td>67         </td><td>F          </td></tr>\n",
       "</tbody>\n",
       "</table>\n"
      ],
      "text/latex": [
       "\\begin{tabular}{r|lllllll}\n",
       " site & patient & gene & gene.change & protein.change & age & sex\\\\\n",
       "\\hline\n",
       "\t duke        & Ann         & A           &  1.7391560  &  0.07755833 & 16          & F          \\\\\n",
       "\t duke        & Ann         & B           &  1.7170389  & -0.60571547 & 16          & F          \\\\\n",
       "\t duke        & Ann         & C           &  1.1929272  &  2.26166848 & 16          & F          \\\\\n",
       "\t duke        & Bob         & A           &  2.4370022  &  2.80037479 & 23          & M          \\\\\n",
       "\t duke        & Bob         & B           &  1.5513112  &  0.64111624 & 23          & M          \\\\\n",
       "\t duke        & Bob         & C           &  2.8377604  &  0.95898869 & 23          & M          \\\\\n",
       "\t duke        & Charlie     & A           & -0.9307330  &  0.83316369 & 53          & M          \\\\\n",
       "\t duke        & Charlie     & B           &  1.8112820  &  2.07089865 & 53          & M          \\\\\n",
       "\t duke        & Charlie     & C           &  0.6021148  &  0.35482775 & 53          & M          \\\\\n",
       "\t unc         & David       & A           &  0.6780785  & -1.49156020 & 49          & K          \\\\\n",
       "\t unc         & David       & B           &  1.7998124  & -0.86647868 & 49          & K          \\\\\n",
       "\t unc         & David       & C           &  0.9776623  &  1.60434377 & 49          & K          \\\\\n",
       "\t unc         & Edward      & A           &  0.7759811  &  1.68743457 & 53          & M          \\\\\n",
       "\t unc         & Edward      & B           &  0.3269814  &  1.61993404 & 53          & M          \\\\\n",
       "\t unc         & Edward      & C           &  0.8973218  & -0.31776193 & 53          & M          \\\\\n",
       "\t unc         & Fiona       & A           &  1.3541798  &  0.91584977 & 67          & F          \\\\\n",
       "\t unc         & Fiona       & B           &  1.9866301  & -0.15046013 & 67          & F          \\\\\n",
       "\t unc         & Fiona       & C           &  2.3377464  &  1.05110029 & 67          & F          \\\\\n",
       "\\end{tabular}\n"
      ],
      "text/markdown": [
       "\n",
       "site | patient | gene | gene.change | protein.change | age | sex | \n",
       "|---|---|---|---|---|---|---|---|---|---|---|---|---|---|---|---|---|---|\n",
       "| duke        | Ann         | A           |  1.7391560  |  0.07755833 | 16          | F           | \n",
       "| duke        | Ann         | B           |  1.7170389  | -0.60571547 | 16          | F           | \n",
       "| duke        | Ann         | C           |  1.1929272  |  2.26166848 | 16          | F           | \n",
       "| duke        | Bob         | A           |  2.4370022  |  2.80037479 | 23          | M           | \n",
       "| duke        | Bob         | B           |  1.5513112  |  0.64111624 | 23          | M           | \n",
       "| duke        | Bob         | C           |  2.8377604  |  0.95898869 | 23          | M           | \n",
       "| duke        | Charlie     | A           | -0.9307330  |  0.83316369 | 53          | M           | \n",
       "| duke        | Charlie     | B           |  1.8112820  |  2.07089865 | 53          | M           | \n",
       "| duke        | Charlie     | C           |  0.6021148  |  0.35482775 | 53          | M           | \n",
       "| unc         | David       | A           |  0.6780785  | -1.49156020 | 49          | K           | \n",
       "| unc         | David       | B           |  1.7998124  | -0.86647868 | 49          | K           | \n",
       "| unc         | David       | C           |  0.9776623  |  1.60434377 | 49          | K           | \n",
       "| unc         | Edward      | A           |  0.7759811  |  1.68743457 | 53          | M           | \n",
       "| unc         | Edward      | B           |  0.3269814  |  1.61993404 | 53          | M           | \n",
       "| unc         | Edward      | C           |  0.8973218  | -0.31776193 | 53          | M           | \n",
       "| unc         | Fiona       | A           |  1.3541798  |  0.91584977 | 67          | F           | \n",
       "| unc         | Fiona       | B           |  1.9866301  | -0.15046013 | 67          | F           | \n",
       "| unc         | Fiona       | C           |  2.3377464  |  1.05110029 | 67          | F           | \n",
       "\n",
       "\n"
      ],
      "text/plain": [
       "   site patient gene gene.change protein.change age sex\n",
       "1  duke Ann     A     1.7391560   0.07755833    16  F  \n",
       "2  duke Ann     B     1.7170389  -0.60571547    16  F  \n",
       "3  duke Ann     C     1.1929272   2.26166848    16  F  \n",
       "4  duke Bob     A     2.4370022   2.80037479    23  M  \n",
       "5  duke Bob     B     1.5513112   0.64111624    23  M  \n",
       "6  duke Bob     C     2.8377604   0.95898869    23  M  \n",
       "7  duke Charlie A    -0.9307330   0.83316369    53  M  \n",
       "8  duke Charlie B     1.8112820   2.07089865    53  M  \n",
       "9  duke Charlie C     0.6021148   0.35482775    53  M  \n",
       "10 unc  David   A     0.6780785  -1.49156020    49  K  \n",
       "11 unc  David   B     1.7998124  -0.86647868    49  K  \n",
       "12 unc  David   C     0.9776623   1.60434377    49  K  \n",
       "13 unc  Edward  A     0.7759811   1.68743457    53  M  \n",
       "14 unc  Edward  B     0.3269814   1.61993404    53  M  \n",
       "15 unc  Edward  C     0.8973218  -0.31776193    53  M  \n",
       "16 unc  Fiona   A     1.3541798   0.91584977    67  F  \n",
       "17 unc  Fiona   B     1.9866301  -0.15046013    67  F  \n",
       "18 unc  Fiona   C     2.3377464   1.05110029    67  F  "
      ]
     },
     "metadata": {},
     "output_type": "display_data"
    }
   ],
   "source": [
    "left_join(df_gp %>% mutate(patient=recode(patient, 'Ed'='Edward')),\n",
    "          df_d, \n",
    "          by = c('site', c('patient'='patients')))"
   ]
  },
  {
   "cell_type": "code",
   "execution_count": 96,
   "metadata": {},
   "outputs": [],
   "source": [
    "df_all <- left_join(df_gp %>% mutate(patient=recode(patient, 'Ed'='Edward')),\n",
    "          df_d, \n",
    "          by = c('site', c('patient'='patients')))"
   ]
  },
  {
   "cell_type": "code",
   "execution_count": 97,
   "metadata": {},
   "outputs": [
    {
     "data": {
      "text/html": [
       "<table>\n",
       "<thead><tr><th scope=col>site</th><th scope=col>patient</th><th scope=col>gene</th><th scope=col>gene.change</th><th scope=col>protein.change</th><th scope=col>age</th><th scope=col>sex</th></tr></thead>\n",
       "<tbody>\n",
       "\t<tr><td>duke       </td><td>Ann        </td><td>A          </td><td>1.739156   </td><td> 0.07755833</td><td>16         </td><td>F          </td></tr>\n",
       "\t<tr><td>duke       </td><td>Ann        </td><td>B          </td><td>1.717039   </td><td>-0.60571547</td><td>16         </td><td>F          </td></tr>\n",
       "\t<tr><td>duke       </td><td>Ann        </td><td>C          </td><td>1.192927   </td><td> 2.26166848</td><td>16         </td><td>F          </td></tr>\n",
       "\t<tr><td>duke       </td><td>Bob        </td><td>A          </td><td>2.437002   </td><td> 2.80037479</td><td>23         </td><td>M          </td></tr>\n",
       "\t<tr><td>duke       </td><td>Bob        </td><td>B          </td><td>1.551311   </td><td> 0.64111624</td><td>23         </td><td>M          </td></tr>\n",
       "\t<tr><td>duke       </td><td>Bob        </td><td>C          </td><td>2.837760   </td><td> 0.95898869</td><td>23         </td><td>M          </td></tr>\n",
       "</tbody>\n",
       "</table>\n"
      ],
      "text/latex": [
       "\\begin{tabular}{r|lllllll}\n",
       " site & patient & gene & gene.change & protein.change & age & sex\\\\\n",
       "\\hline\n",
       "\t duke        & Ann         & A           & 1.739156    &  0.07755833 & 16          & F          \\\\\n",
       "\t duke        & Ann         & B           & 1.717039    & -0.60571547 & 16          & F          \\\\\n",
       "\t duke        & Ann         & C           & 1.192927    &  2.26166848 & 16          & F          \\\\\n",
       "\t duke        & Bob         & A           & 2.437002    &  2.80037479 & 23          & M          \\\\\n",
       "\t duke        & Bob         & B           & 1.551311    &  0.64111624 & 23          & M          \\\\\n",
       "\t duke        & Bob         & C           & 2.837760    &  0.95898869 & 23          & M          \\\\\n",
       "\\end{tabular}\n"
      ],
      "text/markdown": [
       "\n",
       "site | patient | gene | gene.change | protein.change | age | sex | \n",
       "|---|---|---|---|---|---|\n",
       "| duke        | Ann         | A           | 1.739156    |  0.07755833 | 16          | F           | \n",
       "| duke        | Ann         | B           | 1.717039    | -0.60571547 | 16          | F           | \n",
       "| duke        | Ann         | C           | 1.192927    |  2.26166848 | 16          | F           | \n",
       "| duke        | Bob         | A           | 2.437002    |  2.80037479 | 23          | M           | \n",
       "| duke        | Bob         | B           | 1.551311    |  0.64111624 | 23          | M           | \n",
       "| duke        | Bob         | C           | 2.837760    |  0.95898869 | 23          | M           | \n",
       "\n",
       "\n"
      ],
      "text/plain": [
       "  site patient gene gene.change protein.change age sex\n",
       "1 duke Ann     A    1.739156     0.07755833    16  F  \n",
       "2 duke Ann     B    1.717039    -0.60571547    16  F  \n",
       "3 duke Ann     C    1.192927     2.26166848    16  F  \n",
       "4 duke Bob     A    2.437002     2.80037479    23  M  \n",
       "5 duke Bob     B    1.551311     0.64111624    23  M  \n",
       "6 duke Bob     C    2.837760     0.95898869    23  M  "
      ]
     },
     "metadata": {},
     "output_type": "display_data"
    }
   ],
   "source": [
    "head(df_all)"
   ]
  },
  {
   "cell_type": "code",
   "execution_count": 98,
   "metadata": {},
   "outputs": [],
   "source": [
    "options(repr.plot.width=8, repr.plot.height=3)"
   ]
  },
  {
   "cell_type": "markdown",
   "metadata": {},
   "source": [
    "Plotting the data suggests that there may be an increase in most genes and proteins from visit 1 to visit 2 (since most of the changes are positive), but there is no obvious correlation between the gene and its protein product."
   ]
  },
  {
   "cell_type": "code",
   "execution_count": 99,
   "metadata": {},
   "outputs": [
    {
     "data": {},
     "metadata": {},
     "output_type": "display_data"
    },
    {
     "data": {
      "image/png": "[encoded data removed]",
      "text/plain": [
       "plot without title"
      ]
     },
     "metadata": {},
     "output_type": "display_data"
    }
   ],
   "source": [
    "ggplot(df_all, aes(x=gene.change, y=protein.change, color=site)) + \n",
    "geom_point() + \n",
    "geom_hline(yintercept = 0, color='grey') + \n",
    "geom_vline(xintercept = 0, color='grey') +\n",
    "xlim(c(-3, 3)) +\n",
    "ylim(c(-3, 3)) +\n",
    "facet_grid(~ gene)"
   ]
  },
  {
   "cell_type": "code",
   "execution_count": null,
   "metadata": {},
   "outputs": [],
   "source": []
  }
 ],
 "metadata": {
  "kernelspec": {
   "display_name": "R",
   "language": "R",
   "name": "ir"
  },
  "language_info": {
   "codemirror_mode": "r",
   "file_extension": ".r",
   "mimetype": "text/x-r-source",
   "name": "R",
   "pygments_lexer": "r",
   "version": "3.4.1"
  }
 },
 "nbformat": 4,
 "nbformat_minor": 2
}
