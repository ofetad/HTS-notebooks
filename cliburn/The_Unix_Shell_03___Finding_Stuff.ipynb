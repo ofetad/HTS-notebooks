{
 "cells": [
  {
   "cell_type": "markdown",
   "metadata": {},
   "source": [
    "# The Unix Shell: Finding Stuff\n",
    "\n",
    "Flexible ways to find files of interest."
   ]
  },
  {
   "cell_type": "markdown",
   "metadata": {},
   "source": [
    "## Using `locate`\n",
    "\n",
    "Many \\*nix systems maintain a database of path names that can be searched with locate. This is **not** available on the Docker container you are using."
   ]
  },
  {
   "cell_type": "markdown",
   "metadata": {},
   "source": [
    "```\n",
    "LOCATE(1)                 BSD General Commands Manual                LOCATE(1)\n",
    "\n",
    "NAME\n",
    "     locate -- find filenames quickly\n",
    "\n",
    "SYNOPSIS\n",
    "     locate [-0Scims] [-l limit] [-d database] pattern ...\n",
    "\n",
    "DESCRIPTION\n",
    "     The locate program searches a database for all pathnames which match the\n",
    "     specified pattern.  The database is recomputed periodically (usually\n",
    "     weekly or daily), and contains the pathnames of all files which are pub-\n",
    "     licly accessible.\n",
    "\n",
    "     Shell globbing and quoting characters (``*'', ``?'', ``\\'', ``['' and\n",
    "     ``]'') may be used in pattern, although they will have to be escaped from\n",
    "     the shell.  Preceding any character with a backslash (``\\'') eliminates\n",
    "     any special meaning which it may have.  The matching differs in that no\n",
    "     characters must be matched explicitly, including slashes (``/'').\n",
    "```"
   ]
  },
  {
   "cell_type": "markdown",
   "metadata": {},
   "source": [
    "## Using `grep`\n",
    "\n",
    "`grep` is used to find regular expression patterns within files. We have covered regular expressions in a previous lecture, but here are the basics as a reminder.\n",
    "\n",
    "```\n",
    ". represents one of any character\n",
    "+ represents one or more of the preceding pattern\n",
    "* represents zero or more of the preceding pattern\n",
    "^ matches at start of line\n",
    "$ matches at end of line\n",
    "[a|b|c] matches a or b or c\n",
    "(cat|dog) matches cat or dog\n",
    "[A-Z] matches all upper case characters\n",
    "[0-9] matches all digits\n",
    "```\n",
    "\n",
    "The `-E` flag to `grep` removes the need to escape special characters."
   ]
  },
  {
   "cell_type": "code",
   "execution_count": null,
   "metadata": {},
   "outputs": [],
   "source": [
    "cat hello.txt"
   ]
  },
  {
   "cell_type": "markdown",
   "metadata": {},
   "source": [
    "### Searching a file"
   ]
  },
  {
   "cell_type": "code",
   "execution_count": null,
   "metadata": {},
   "outputs": [],
   "source": [
    "grep \"Hello\" hello.txt"
   ]
  },
  {
   "cell_type": "markdown",
   "metadata": {},
   "source": [
    "### Recursive searching"
   ]
  },
  {
   "cell_type": "code",
   "execution_count": null,
   "metadata": {},
   "outputs": [],
   "source": [
    "grep -r \"Hello\" ./*txt"
   ]
  },
  {
   "cell_type": "markdown",
   "metadata": {},
   "source": [
    "### Searching for words"
   ]
  },
  {
   "cell_type": "code",
   "execution_count": null,
   "metadata": {},
   "outputs": [],
   "source": [
    "grep \"ash\" *.txt"
   ]
  },
  {
   "cell_type": "code",
   "execution_count": null,
   "metadata": {},
   "outputs": [],
   "source": [
    "grep -w \"ash\" *.txt"
   ]
  },
  {
   "cell_type": "markdown",
   "metadata": {},
   "source": [
    "### Counting words"
   ]
  },
  {
   "cell_type": "code",
   "execution_count": null,
   "metadata": {},
   "outputs": [],
   "source": [
    "grep -c \"Hello\" *.txt"
   ]
  },
  {
   "cell_type": "markdown",
   "metadata": {},
   "source": [
    "### And with color!"
   ]
  },
  {
   "cell_type": "code",
   "execution_count": null,
   "metadata": {},
   "outputs": [],
   "source": [
    "grep --color \"Hello\" *.txt"
   ]
  },
  {
   "cell_type": "markdown",
   "metadata": {},
   "source": [
    "### Get filenames only\n",
    "\n",
    "We can use `grep` to find files matching some regular expression."
   ]
  },
  {
   "cell_type": "code",
   "execution_count": null,
   "metadata": {},
   "outputs": [],
   "source": [
    "grep -l \"Hello\" *.txt"
   ]
  },
  {
   "cell_type": "markdown",
   "metadata": {},
   "source": [
    "### Find only directories"
   ]
  },
  {
   "cell_type": "code",
   "execution_count": null,
   "metadata": {},
   "outputs": [],
   "source": [
    "ls -d */"
   ]
  },
  {
   "cell_type": "markdown",
   "metadata": {},
   "source": [
    "#### Using grep"
   ]
  },
  {
   "cell_type": "code",
   "execution_count": null,
   "metadata": {},
   "outputs": [],
   "source": [
    "ls -l"
   ]
  },
  {
   "cell_type": "code",
   "execution_count": null,
   "metadata": {},
   "outputs": [],
   "source": [
    "ls -l | grep -E '^d' "
   ]
  },
  {
   "cell_type": "code",
   "execution_count": null,
   "metadata": {},
   "outputs": [],
   "source": [
    "ls -l | grep -E '^d'"
   ]
  },
  {
   "cell_type": "markdown",
   "metadata": {},
   "source": [
    "#### Using the invert -v option to find only files"
   ]
  },
  {
   "cell_type": "code",
   "execution_count": null,
   "metadata": {},
   "outputs": [],
   "source": [
    "ls -l | grep -Ev '^d'"
   ]
  },
  {
   "cell_type": "markdown",
   "metadata": {},
   "source": [
    "## Using `find`\n",
    "\n",
    "While `grep` can find files matching some regular expression, the `find` command is used to locate files of interest based on various file properties. We will show a few examples."
   ]
  },
  {
   "cell_type": "markdown",
   "metadata": {},
   "source": [
    "```\n",
    "\n",
    "FIND(1)                   BSD General Commands Manual                  FIND(1)\n",
    "\n",
    "NAME\n",
    "     find -- walk a file hierarchy\n",
    "\n",
    "SYNOPSIS\n",
    "     find [-H | -L | -P] [-EXdsx] [-f path] path ... [expression]\n",
    "     find [-H | -L | -P] [-EXdsx] -f path [path ...] [expression]\n",
    "\n",
    "DESCRIPTION\n",
    "     The find utility recursively descends the directory tree for each path\n",
    "     listed, evaluating an expression (composed of the ``primaries'' and\n",
    "     ``operands'' listed below) in terms of each file in the tree.\n",
    "\n",
    "     The options are as follows:\n",
    "\n",
    "     -E      Interpret regular expressions followed by -regex and -iregex pri-\n",
    "             maries as extended (modern) regular expressions rather than basic\n",
    "             regular expressions (BRE's).  The re_format(7) manual page fully\n",
    "```"
   ]
  },
  {
   "cell_type": "code",
   "execution_count": null,
   "metadata": {},
   "outputs": [],
   "source": [
    "ls -R"
   ]
  },
  {
   "cell_type": "markdown",
   "metadata": {},
   "source": [
    "### Find by filename"
   ]
  },
  {
   "cell_type": "code",
   "execution_count": null,
   "metadata": {},
   "outputs": [],
   "source": [
    "find . -name iris*"
   ]
  },
  {
   "cell_type": "markdown",
   "metadata": {},
   "source": [
    "### Find is case sensitive by default"
   ]
  },
  {
   "cell_type": "code",
   "execution_count": null,
   "metadata": {},
   "outputs": [],
   "source": [
    "find . -name \"*unix*ipynb\""
   ]
  },
  {
   "cell_type": "markdown",
   "metadata": {},
   "source": [
    "Use ``-iname` for case-insensitive search"
   ]
  },
  {
   "cell_type": "code",
   "execution_count": null,
   "metadata": {},
   "outputs": [],
   "source": [
    "find . -iname \"*unix*ipynb\""
   ]
  },
  {
   "cell_type": "markdown",
   "metadata": {},
   "source": [
    "#### Exclude unwanted directories from search"
   ]
  },
  {
   "cell_type": "code",
   "execution_count": null,
   "metadata": {},
   "outputs": [],
   "source": [
    "find . -not -path \"*ipynb_checkpoints/*\" -iname \"*unix*ipynb\""
   ]
  },
  {
   "cell_type": "markdown",
   "metadata": {},
   "source": [
    "### Limiting recursion depth"
   ]
  },
  {
   "cell_type": "code",
   "execution_count": null,
   "metadata": {},
   "outputs": [],
   "source": [
    "find . -name \"*[csv|txt]\" "
   ]
  },
  {
   "cell_type": "code",
   "execution_count": null,
   "metadata": {},
   "outputs": [],
   "source": [
    "find . -name \"*[csv|txt]\" -maxdepth 1"
   ]
  },
  {
   "cell_type": "markdown",
   "metadata": {},
   "source": [
    "### Find by time"
   ]
  },
  {
   "cell_type": "markdown",
   "metadata": {},
   "source": [
    "#### Files notebooks created more than 1 day ago"
   ]
  },
  {
   "cell_type": "code",
   "execution_count": null,
   "metadata": {},
   "outputs": [],
   "source": [
    "find . -name \"*ipynb\" -ctime +1"
   ]
  },
  {
   "cell_type": "markdown",
   "metadata": {},
   "source": [
    "#### Files  notebooks modified within the last day"
   ]
  },
  {
   "cell_type": "code",
   "execution_count": null,
   "metadata": {},
   "outputs": [],
   "source": [
    "find . -name \"*ipynb\" -mtime -1"
   ]
  },
  {
   "cell_type": "markdown",
   "metadata": {},
   "source": [
    "#### Files modified in the past 15 minutes"
   ]
  },
  {
   "cell_type": "code",
   "execution_count": null,
   "metadata": {},
   "outputs": [],
   "source": [
    "find . -name \"*ipynb\" -mmin -15"
   ]
  }
 ],
 "metadata": {
  "kernelspec": {
   "display_name": "Bash",
   "language": "bash",
   "name": "bash"
  },
  "language_info": {
   "codemirror_mode": "shell",
   "file_extension": ".sh",
   "mimetype": "text/x-sh",
   "name": "bash"
  }
 },
 "nbformat": 4,
 "nbformat_minor": 2
}
