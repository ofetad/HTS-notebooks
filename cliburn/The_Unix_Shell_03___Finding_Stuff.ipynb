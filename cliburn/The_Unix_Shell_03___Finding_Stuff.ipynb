{
 "cells": [
  {
   "cell_type": "markdown",
   "metadata": {},
   "source": [
    "# The Unix Shell: Finding Stuff\n",
    "\n",
    "Flexible ways to find files of interest."
   ]
  },
  {
   "cell_type": "markdown",
   "metadata": {},
   "source": [
    "## Using `locate`\n",
    "\n",
    "Many \\*nix systems maintain a database of path names that can be searched with locate. This is **not** available on the Docker container you are using."
   ]
  },
  {
   "cell_type": "markdown",
   "metadata": {},
   "source": [
    "```\n",
    "LOCATE(1)                 BSD General Commands Manual                LOCATE(1)\n",
    "\n",
    "NAME\n",
    "     locate -- find filenames quickly\n",
    "\n",
    "SYNOPSIS\n",
    "     locate [-0Scims] [-l limit] [-d database] pattern ...\n",
    "\n",
    "DESCRIPTION\n",
    "     The locate program searches a database for all pathnames which match the\n",
    "     specified pattern.  The database is recomputed periodically (usually\n",
    "     weekly or daily), and contains the pathnames of all files which are pub-\n",
    "     licly accessible.\n",
    "\n",
    "     Shell globbing and quoting characters (``*'', ``?'', ``\\'', ``['' and\n",
    "     ``]'') may be used in pattern, although they will have to be escaped from\n",
    "     the shell.  Preceding any character with a backslash (``\\'') eliminates\n",
    "     any special meaning which it may have.  The matching differs in that no\n",
    "     characters must be matched explicitly, including slashes (``/'').\n",
    "```"
   ]
  },
  {
   "cell_type": "markdown",
   "metadata": {},
   "source": [
    "## Using `grep`\n",
    "\n",
    "`grep` is used to find regular expression patterns within files. We have covered regular expressions in a previous lecture, but here are the basics as a reminder.\n",
    "\n",
    "```\n",
    ". represents one of any character\n",
    "+ represents one or more of the preceding pattern\n",
    "* represents zero or more of the preceding pattern\n",
    "^ matches at start of line\n",
    "$ matches at end of line\n",
    "[a|b|c] matches a or b or c\n",
    "(cat|dog) matches cat or dog\n",
    "[A-Z] matches all upper case characters\n",
    "[0-9] matches all digits\n",
    "```\n",
    "\n",
    "The `-E` flag to `grep` removes the need to escape special characters."
   ]
  },
  {
   "cell_type": "code",
   "execution_count": 1,
   "metadata": {},
   "outputs": [
    {
     "name": "stdout",
     "output_type": "stream",
     "text": [
      "1 Hello, bash\n",
      "2 Hello, again\n",
      "3 Hello\n",
      "4 again\n"
     ]
    }
   ],
   "source": [
    "cat hello.txt"
   ]
  },
  {
   "cell_type": "markdown",
   "metadata": {},
   "source": [
    "### Searching a file"
   ]
  },
  {
   "cell_type": "code",
   "execution_count": 2,
   "metadata": {},
   "outputs": [
    {
     "name": "stdout",
     "output_type": "stream",
     "text": [
      "1 Hello, bash\n",
      "2 Hello, again\n",
      "3 Hello\n"
     ]
    }
   ],
   "source": [
    "grep \"Hello\" hello.txt"
   ]
  },
  {
   "cell_type": "markdown",
   "metadata": {},
   "source": [
    "### Recursive searching"
   ]
  },
  {
   "cell_type": "code",
   "execution_count": 3,
   "metadata": {},
   "outputs": [
    {
     "name": "stdout",
     "output_type": "stream",
     "text": [
      "./hello.txt:1 Hello, bash\n",
      "./hello.txt:2 Hello, again\n",
      "./hello.txt:3 Hello\n"
     ]
    }
   ],
   "source": [
    "grep -r \"Hello\" ./*txt"
   ]
  },
  {
   "cell_type": "markdown",
   "metadata": {},
   "source": [
    "### Searching for words"
   ]
  },
  {
   "cell_type": "code",
   "execution_count": 4,
   "metadata": {},
   "outputs": [
    {
     "name": "stdout",
     "output_type": "stream",
     "text": [
      "1 Hello, bash\n"
     ]
    }
   ],
   "source": [
    "grep \"ash\" *.txt"
   ]
  },
  {
   "cell_type": "code",
   "execution_count": 5,
   "metadata": {},
   "outputs": [
    {
     "ename": "",
     "evalue": "1",
     "output_type": "error",
     "traceback": []
    }
   ],
   "source": [
    "grep -w \"ash\" *.txt"
   ]
  },
  {
   "cell_type": "markdown",
   "metadata": {},
   "source": [
    "### Counting words"
   ]
  },
  {
   "cell_type": "code",
   "execution_count": 6,
   "metadata": {},
   "outputs": [
    {
     "name": "stdout",
     "output_type": "stream",
     "text": [
      "3\n"
     ]
    }
   ],
   "source": [
    "grep -c \"Hello\" *.txt"
   ]
  },
  {
   "cell_type": "markdown",
   "metadata": {},
   "source": [
    "### And with color!"
   ]
  },
  {
   "cell_type": "code",
   "execution_count": 7,
   "metadata": {},
   "outputs": [
    {
     "name": "stdout",
     "output_type": "stream",
     "text": [
      "1 \u001b[01;31m\u001b[KHello\u001b[m\u001b[K, bash\n",
      "2 \u001b[01;31m\u001b[KHello\u001b[m\u001b[K, again\n",
      "3 \u001b[01;31m\u001b[KHello\u001b[m\u001b[K\n"
     ]
    }
   ],
   "source": [
    "grep --color \"Hello\" *.txt"
   ]
  },
  {
   "cell_type": "markdown",
   "metadata": {},
   "source": [
    "### Get filenames only\n",
    "\n",
    "We can use `grep` to find files matching some regular expression."
   ]
  },
  {
   "cell_type": "code",
   "execution_count": 8,
   "metadata": {},
   "outputs": [
    {
     "name": "stdout",
     "output_type": "stream",
     "text": [
      "hello.txt\n"
     ]
    }
   ],
   "source": [
    "grep -l \"Hello\" *.txt"
   ]
  },
  {
   "cell_type": "markdown",
   "metadata": {},
   "source": [
    "### Find only directories"
   ]
  },
  {
   "cell_type": "code",
   "execution_count": 4,
   "metadata": {},
   "outputs": [
    {
     "name": "stdout",
     "output_type": "stream",
     "text": [
      "data/\t\tscripts/\n"
     ]
    }
   ],
   "source": [
    "ls -d */"
   ]
  },
  {
   "cell_type": "markdown",
   "metadata": {},
   "source": [
    "#### Using grep"
   ]
  },
  {
   "cell_type": "code",
   "execution_count": 5,
   "metadata": {},
   "outputs": [
    {
     "name": "stdout",
     "output_type": "stream",
     "text": [
      "total 320\n",
      "-rw-r--r--   1 cliburn  staff    120 Jul 26 10:02 MD5_CHECKSUM\n",
      "-rw-r--r--   1 cliburn  staff  46843 Jul 26 10:10 The_Unix_Shell_01___File_and_Directory_Management.ipynb\n",
      "-rw-r--r--   1 cliburn  staff   6930 Jul 26 09:51 The_Unix_Shell_02___Working_with_Text.ipynb\n",
      "-rw-r--r--   1 cliburn  staff  15644 Jul 26 09:22 The_Unix_Shell_03___Regular_Expresssions.ipynb\n",
      "-rw-r--r--   1 cliburn  staff  13409 Jul 26 09:20 The_Unix_Shell_04___Finding_Stuff.ipynb\n",
      "-rw-r--r--   1 cliburn  staff  22120 Jul 26 09:25 The_Unix_Shell_05___Shell_Scripts.ipynb\n",
      "-rw-r--r--   1 cliburn  staff   1106 Jul 26 10:06 The_Unix_Shell___Exercises.ipynb\n",
      "-rw-r--r--   1 cliburn  staff      6 Jul 26 10:01 a.txt\n",
      "-rw-r--r--   1 cliburn  staff      6 Jul 26 10:02 b.txt\n",
      "-rw-r--r--   1 cliburn  staff      6 Jul 26 10:01 c.txt\n",
      "drwxr-xr-x  12 cliburn  staff    408 Jul 26 09:11 data\n",
      "-rw-r--r--   1 cliburn  staff     46 Jul 26 09:55 goodbye.md5\n",
      "-rw-r--r--   1 cliburn  staff     45 Jul 26 09:55 goodbye.txt\n",
      "-rw-r--r--   1 cliburn  staff     45 Jul 26 09:52 hell.txt\n",
      "-rw-r--r--   1 cliburn  staff     44 Jul 26 09:49 hello.md5\n",
      "-rw-r--r--   1 cliburn  staff     45 Jul 26 10:00 hello.txt\n",
      "drwxr-xr-x   5 cliburn  staff    170 Jul 26 09:25 scripts\n",
      "-rw-r--r--   1 cliburn  staff     42 Jul 26 09:31 stderr.txt\n",
      "-rw-r--r--   1 cliburn  staff      0 Jul 26 09:31 stdout.txt\n",
      "-rw-r--r--   1 cliburn  staff     44 Jul 26 10:00 test.md5\n"
     ]
    }
   ],
   "source": [
    "ls -l"
   ]
  },
  {
   "cell_type": "code",
   "execution_count": 6,
   "metadata": {},
   "outputs": [
    {
     "name": "stdout",
     "output_type": "stream",
     "text": [
      "drwxr-xr-x  12 cliburn  staff    408 Jul 26 09:11 data\n",
      "drwxr-xr-x   5 cliburn  staff    170 Jul 26 09:25 scripts\n"
     ]
    }
   ],
   "source": [
    "ls -l | grep -E '^d' "
   ]
  },
  {
   "cell_type": "code",
   "execution_count": 25,
   "metadata": {},
   "outputs": [
    {
     "name": "stdout",
     "output_type": "stream",
     "text": [
      "drwxr-xr-x  12 cliburn  staff    408 Jul 26 09:11 data\n",
      "drwxr-xr-x   5 cliburn  staff    170 Jul 26 09:25 scripts\n"
     ]
    }
   ],
   "source": [
    "ls -l | grep -E '^d'"
   ]
  },
  {
   "cell_type": "markdown",
   "metadata": {},
   "source": [
    "#### Using the invert -v option to find only files"
   ]
  },
  {
   "cell_type": "code",
   "execution_count": 26,
   "metadata": {},
   "outputs": [
    {
     "name": "stdout",
     "output_type": "stream",
     "text": [
      "total 328\n",
      "-rw-r--r--   1 cliburn  staff    120 Jul 26 10:02 MD5_CHECKSUM\n",
      "-rw-r--r--   1 cliburn  staff  46843 Jul 26 10:10 The_Unix_Shell_01___File_and_Directory_Management.ipynb\n",
      "-rw-r--r--   1 cliburn  staff   6930 Jul 26 09:51 The_Unix_Shell_02___Working_with_Text.ipynb\n",
      "-rw-r--r--   1 cliburn  staff  15644 Jul 26 09:22 The_Unix_Shell_03___Regular_Expresssions.ipynb\n",
      "-rw-r--r--   1 cliburn  staff  16745 Jul 26 10:16 The_Unix_Shell_04___Finding_Stuff.ipynb\n",
      "-rw-r--r--   1 cliburn  staff  22120 Jul 26 09:25 The_Unix_Shell_05___Shell_Scripts.ipynb\n",
      "-rw-r--r--   1 cliburn  staff   1106 Jul 26 10:06 The_Unix_Shell___Exercises.ipynb\n",
      "-rw-r--r--   1 cliburn  staff      6 Jul 26 10:01 a.txt\n",
      "-rw-r--r--   1 cliburn  staff      6 Jul 26 10:02 b.txt\n",
      "-rw-r--r--   1 cliburn  staff      6 Jul 26 10:01 c.txt\n",
      "-rw-r--r--   1 cliburn  staff     46 Jul 26 09:55 goodbye.md5\n",
      "-rw-r--r--   1 cliburn  staff     45 Jul 26 09:55 goodbye.txt\n",
      "-rw-r--r--   1 cliburn  staff     45 Jul 26 09:52 hell.txt\n",
      "-rw-r--r--   1 cliburn  staff     44 Jul 26 09:49 hello.md5\n",
      "-rw-r--r--   1 cliburn  staff     45 Jul 26 10:00 hello.txt\n",
      "-rw-r--r--   1 cliburn  staff     42 Jul 26 09:31 stderr.txt\n",
      "-rw-r--r--   1 cliburn  staff      0 Jul 26 09:31 stdout.txt\n",
      "-rw-r--r--   1 cliburn  staff     44 Jul 26 10:00 test.md5\n"
     ]
    }
   ],
   "source": [
    "ls -l | grep -Ev '^d'"
   ]
  },
  {
   "cell_type": "markdown",
   "metadata": {},
   "source": [
    "## Using `find`\n",
    "\n",
    "While `grep` can find files matching some regular expression, the `find` command is used to locate files of interest based on various file properties. We will show a few examples."
   ]
  },
  {
   "cell_type": "markdown",
   "metadata": {},
   "source": [
    "```\n",
    "\n",
    "FIND(1)                   BSD General Commands Manual                  FIND(1)\n",
    "\n",
    "NAME\n",
    "     find -- walk a file hierarchy\n",
    "\n",
    "SYNOPSIS\n",
    "     find [-H | -L | -P] [-EXdsx] [-f path] path ... [expression]\n",
    "     find [-H | -L | -P] [-EXdsx] -f path [path ...] [expression]\n",
    "\n",
    "DESCRIPTION\n",
    "     The find utility recursively descends the directory tree for each path\n",
    "     listed, evaluating an expression (composed of the ``primaries'' and\n",
    "     ``operands'' listed below) in terms of each file in the tree.\n",
    "\n",
    "     The options are as follows:\n",
    "\n",
    "     -E      Interpret regular expressions followed by -regex and -iregex pri-\n",
    "             maries as extended (modern) regular expressions rather than basic\n",
    "             regular expressions (BRE's).  The re_format(7) manual page fully\n",
    "```"
   ]
  },
  {
   "cell_type": "code",
   "execution_count": 9,
   "metadata": {},
   "outputs": [
    {
     "name": "stdout",
     "output_type": "stream",
     "text": [
      "The_Unix_Shell_01___File_and_Directory_Management.ipynb\n",
      "The_Unix_Shell_03___Working_with_Text.ipynb\n",
      "The_Unix_Shell_04___Regular_Expresssions.ipynb\n",
      "The_Unix_Shell_05___Finding_Stuff.ipynb\n",
      "The_Unix_Shell_06___Shell_Scripts.ipynb\n",
      "data\n",
      "hello.txt\n",
      "scripts\n",
      "\n",
      "./data:\n",
      "X.txt\t\t\texample.fna\t\tiris24.csv\n",
      "Y.txt\t\t\tfood_and_groups.csv\ttitanic.csv\n",
      "Y1.txt\t\t\tforbes.csv\n",
      "Y2.txt\t\t\tiris.csv\n",
      "\n",
      "./scripts:\n",
      "avg.sh\t\t\textract_headers.sh\n",
      "cat_if_exists.sh\trename.py\n"
     ]
    }
   ],
   "source": [
    "ls -R"
   ]
  },
  {
   "cell_type": "markdown",
   "metadata": {},
   "source": [
    "### Find by filename"
   ]
  },
  {
   "cell_type": "code",
   "execution_count": 10,
   "metadata": {},
   "outputs": [
    {
     "name": "stdout",
     "output_type": "stream",
     "text": [
      "./data/iris.csv\n",
      "./data/iris24.csv\n"
     ]
    }
   ],
   "source": [
    "find . -name iris*"
   ]
  },
  {
   "cell_type": "markdown",
   "metadata": {},
   "source": [
    "### Find is case sensitive by default"
   ]
  },
  {
   "cell_type": "code",
   "execution_count": 11,
   "metadata": {
    "collapsed": true
   },
   "outputs": [],
   "source": [
    "find . -name \"*unix*ipynb\""
   ]
  },
  {
   "cell_type": "markdown",
   "metadata": {},
   "source": [
    "Use ``-iname` for case-insensitive search"
   ]
  },
  {
   "cell_type": "code",
   "execution_count": 12,
   "metadata": {},
   "outputs": [
    {
     "name": "stdout",
     "output_type": "stream",
     "text": [
      "./.ipynb_checkpoints/The_Unix_Shell_01___File_and_Directory_Management-checkpoint.ipynb\n",
      "./.ipynb_checkpoints/The_Unix_Shell_03___Working_with_Text-checkpoint.ipynb\n",
      "./.ipynb_checkpoints/The_Unix_Shell_04___Regular_Expresssions-checkpoint.ipynb\n",
      "./.ipynb_checkpoints/The_Unix_Shell_05___Finding_Stuff-checkpoint.ipynb\n",
      "./.ipynb_checkpoints/The_Unix_Shell_06___Shell_Scripts-checkpoint.ipynb\n",
      "./The_Unix_Shell_01___File_and_Directory_Management.ipynb\n",
      "./The_Unix_Shell_03___Working_with_Text.ipynb\n",
      "./The_Unix_Shell_04___Regular_Expresssions.ipynb\n",
      "./The_Unix_Shell_05___Finding_Stuff.ipynb\n",
      "./The_Unix_Shell_06___Shell_Scripts.ipynb\n"
     ]
    }
   ],
   "source": [
    "find . -iname \"*unix*ipynb\""
   ]
  },
  {
   "cell_type": "markdown",
   "metadata": {},
   "source": [
    "#### Exclude unwanted directories from search"
   ]
  },
  {
   "cell_type": "code",
   "execution_count": 13,
   "metadata": {},
   "outputs": [
    {
     "name": "stdout",
     "output_type": "stream",
     "text": [
      "./The_Unix_Shell_01___File_and_Directory_Management.ipynb\n",
      "./The_Unix_Shell_03___Working_with_Text.ipynb\n",
      "./The_Unix_Shell_04___Regular_Expresssions.ipynb\n",
      "./The_Unix_Shell_05___Finding_Stuff.ipynb\n",
      "./The_Unix_Shell_06___Shell_Scripts.ipynb\n"
     ]
    }
   ],
   "source": [
    "find . -not -path \"*ipynb_checkpoints/*\" -iname \"*unix*ipynb\""
   ]
  },
  {
   "cell_type": "markdown",
   "metadata": {},
   "source": [
    "### Limiting recursion depth"
   ]
  },
  {
   "cell_type": "code",
   "execution_count": 14,
   "metadata": {},
   "outputs": [
    {
     "name": "stdout",
     "output_type": "stream",
     "text": [
      "./.ipynb_checkpoints\n",
      "./data/food_and_groups.csv\n",
      "./data/forbes.csv\n",
      "./data/iris.csv\n",
      "./data/iris24.csv\n",
      "./data/titanic.csv\n",
      "./data/X.txt\n",
      "./data/Y.txt\n",
      "./data/Y1.txt\n",
      "./data/Y2.txt\n",
      "./hello.txt\n",
      "./scripts\n",
      "./scripts/.ipynb_checkpoints\n"
     ]
    }
   ],
   "source": [
    "find . -name \"*[csv|txt]\" "
   ]
  },
  {
   "cell_type": "code",
   "execution_count": 15,
   "metadata": {},
   "outputs": [
    {
     "name": "stdout",
     "output_type": "stream",
     "text": [
      "./.ipynb_checkpoints\n",
      "./hello.txt\n",
      "./scripts\n"
     ]
    }
   ],
   "source": [
    "find . -name \"*[csv|txt]\" -maxdepth 1"
   ]
  },
  {
   "cell_type": "markdown",
   "metadata": {},
   "source": [
    "### Find by time"
   ]
  },
  {
   "cell_type": "markdown",
   "metadata": {},
   "source": [
    "#### Files notebooks created more than 1 day ago"
   ]
  },
  {
   "cell_type": "code",
   "execution_count": 16,
   "metadata": {
    "collapsed": true
   },
   "outputs": [],
   "source": [
    "find . -name \"*ipynb\" -ctime +1"
   ]
  },
  {
   "cell_type": "markdown",
   "metadata": {},
   "source": [
    "#### Files  notebooks modified within the last day"
   ]
  },
  {
   "cell_type": "code",
   "execution_count": 17,
   "metadata": {},
   "outputs": [
    {
     "name": "stdout",
     "output_type": "stream",
     "text": [
      "./.ipynb_checkpoints/The_Unix_Shell_01___File_and_Directory_Management-checkpoint.ipynb\n",
      "./.ipynb_checkpoints/The_Unix_Shell_03___Working_with_Text-checkpoint.ipynb\n",
      "./.ipynb_checkpoints/The_Unix_Shell_04___Regular_Expresssions-checkpoint.ipynb\n",
      "./.ipynb_checkpoints/The_Unix_Shell_05___Finding_Stuff-checkpoint.ipynb\n",
      "./.ipynb_checkpoints/The_Unix_Shell_06___Shell_Scripts-checkpoint.ipynb\n",
      "./The_Unix_Shell_01___File_and_Directory_Management.ipynb\n",
      "./The_Unix_Shell_03___Working_with_Text.ipynb\n",
      "./The_Unix_Shell_04___Regular_Expresssions.ipynb\n",
      "./The_Unix_Shell_05___Finding_Stuff.ipynb\n",
      "./The_Unix_Shell_06___Shell_Scripts.ipynb\n"
     ]
    }
   ],
   "source": [
    "find . -name \"*ipynb\" -mtime -1"
   ]
  },
  {
   "cell_type": "markdown",
   "metadata": {},
   "source": [
    "#### Files modified in the past 15 minutes"
   ]
  },
  {
   "cell_type": "code",
   "execution_count": 18,
   "metadata": {},
   "outputs": [
    {
     "name": "stdout",
     "output_type": "stream",
     "text": [
      "./The_Unix_Shell_06___Shell_Scripts.ipynb\n"
     ]
    }
   ],
   "source": [
    "find . -name \"*ipynb\" -mmin -15"
   ]
  }
 ],
 "metadata": {
  "kernelspec": {
   "display_name": "Bash",
   "language": "bash",
   "name": "bash"
  },
  "language_info": {
   "codemirror_mode": "shell",
   "file_extension": ".sh",
   "mimetype": "text/x-sh",
   "name": "bash"
  }
 },
 "nbformat": 4,
 "nbformat_minor": 2
}
