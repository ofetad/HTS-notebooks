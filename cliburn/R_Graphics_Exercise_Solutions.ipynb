{
 "cells": [
  {
   "cell_type": "markdown",
   "metadata": {},
   "source": [
    "# R Graphics Exercise"
   ]
  },
  {
   "cell_type": "code",
   "execution_count": 1,
   "metadata": {},
   "outputs": [
    {
     "name": "stderr",
     "output_type": "stream",
     "text": [
      "── Attaching packages ─────────────────────────────────────── tidyverse 1.2.1 ──\n",
      "✔ ggplot2 2.2.1     ✔ purrr   0.2.5\n",
      "✔ tibble  1.4.2     ✔ dplyr   0.7.5\n",
      "✔ tidyr   0.8.1     ✔ stringr 1.3.1\n",
      "✔ readr   1.1.1     ✔ forcats 0.3.0\n",
      "── Conflicts ────────────────────────────────────────── tidyverse_conflicts() ──\n",
      "✖ dplyr::filter() masks stats::filter()\n",
      "✖ dplyr::lag()    masks stats::lag()\n"
     ]
    }
   ],
   "source": [
    "library(tidyverse)"
   ]
  },
  {
   "cell_type": "code",
   "execution_count": 2,
   "metadata": {},
   "outputs": [
    {
     "name": "stderr",
     "output_type": "stream",
     "text": [
      "Parsed with column specification:\n",
      "cols(\n",
      "  .default = col_integer(),\n",
      "  person = col_character(),\n",
      "  method = col_character()\n",
      ")\n",
      "See spec(...) for full column specifications.\n"
     ]
    }
   ],
   "source": [
    "df <- read_tsv('data/gene_counts.txt')"
   ]
  },
  {
   "cell_type": "code",
   "execution_count": 3,
   "metadata": {},
   "outputs": [
    {
     "data": {
      "text/html": [
       "<table>\n",
       "<thead><tr><th scope=col>sid</th><th scope=col>person</th><th scope=col>method</th><th scope=col>gene0</th><th scope=col>gene1</th><th scope=col>gene10</th><th scope=col>gene100</th><th scope=col>gene1000</th><th scope=col>gene1001</th><th scope=col>gene1002</th></tr></thead>\n",
       "<tbody>\n",
       "\t<tr><td>1  </td><td>J  </td><td>MA </td><td> 1 </td><td>0  </td><td>13 </td><td>425</td><td>0  </td><td>236</td><td>129</td></tr>\n",
       "\t<tr><td>1  </td><td>J  </td><td>RZ </td><td> 0 </td><td>0  </td><td>14 </td><td>261</td><td>0  </td><td>221</td><td> 69</td></tr>\n",
       "\t<tr><td>2  </td><td>C  </td><td>MA </td><td> 0 </td><td>0  </td><td>10 </td><td>491</td><td>0  </td><td>279</td><td>117</td></tr>\n",
       "\t<tr><td>2  </td><td>C  </td><td>RZ </td><td>10 </td><td>0  </td><td>18 </td><td>251</td><td>0  </td><td>215</td><td> 77</td></tr>\n",
       "\t<tr><td>2  </td><td>C  </td><td>TOT</td><td> 1 </td><td>0  </td><td> 0 </td><td> 14</td><td>0  </td><td> 13</td><td>  3</td></tr>\n",
       "\t<tr><td>3  </td><td>J  </td><td>MA </td><td> 0 </td><td>0  </td><td> 8 </td><td>280</td><td>0  </td><td>161</td><td> 79</td></tr>\n",
       "\t<tr><td>3  </td><td>J  </td><td>RZ </td><td> 0 </td><td>0  </td><td> 7 </td><td>168</td><td>0  </td><td>137</td><td> 51</td></tr>\n",
       "\t<tr><td>3  </td><td>J  </td><td>TOT</td><td> 0 </td><td>0  </td><td> 2 </td><td> 35</td><td>0  </td><td> 43</td><td> 20</td></tr>\n",
       "\t<tr><td>4  </td><td>P  </td><td>MA </td><td> 1 </td><td>0  </td><td>16 </td><td>571</td><td>0  </td><td>345</td><td>181</td></tr>\n",
       "\t<tr><td>4  </td><td>P  </td><td>RZ </td><td> 0 </td><td>0  </td><td> 1 </td><td> 74</td><td>0  </td><td> 41</td><td> 27</td></tr>\n",
       "</tbody>\n",
       "</table>\n"
      ],
      "text/latex": [
       "\\begin{tabular}{r|llllllllll}\n",
       " sid & person & method & gene0 & gene1 & gene10 & gene100 & gene1000 & gene1001 & gene1002\\\\\n",
       "\\hline\n",
       "\t 1   & J   & MA  &  1  & 0   & 13  & 425 & 0   & 236 & 129\\\\\n",
       "\t 1   & J   & RZ  &  0  & 0   & 14  & 261 & 0   & 221 &  69\\\\\n",
       "\t 2   & C   & MA  &  0  & 0   & 10  & 491 & 0   & 279 & 117\\\\\n",
       "\t 2   & C   & RZ  & 10  & 0   & 18  & 251 & 0   & 215 &  77\\\\\n",
       "\t 2   & C   & TOT &  1  & 0   &  0  &  14 & 0   &  13 &   3\\\\\n",
       "\t 3   & J   & MA  &  0  & 0   &  8  & 280 & 0   & 161 &  79\\\\\n",
       "\t 3   & J   & RZ  &  0  & 0   &  7  & 168 & 0   & 137 &  51\\\\\n",
       "\t 3   & J   & TOT &  0  & 0   &  2  &  35 & 0   &  43 &  20\\\\\n",
       "\t 4   & P   & MA  &  1  & 0   & 16  & 571 & 0   & 345 & 181\\\\\n",
       "\t 4   & P   & RZ  &  0  & 0   &  1  &  74 & 0   &  41 &  27\\\\\n",
       "\\end{tabular}\n"
      ],
      "text/markdown": [
       "\n",
       "sid | person | method | gene0 | gene1 | gene10 | gene100 | gene1000 | gene1001 | gene1002 | \n",
       "|---|---|---|---|---|---|---|---|---|---|\n",
       "| 1   | J   | MA  |  1  | 0   | 13  | 425 | 0   | 236 | 129 | \n",
       "| 1   | J   | RZ  |  0  | 0   | 14  | 261 | 0   | 221 |  69 | \n",
       "| 2   | C   | MA  |  0  | 0   | 10  | 491 | 0   | 279 | 117 | \n",
       "| 2   | C   | RZ  | 10  | 0   | 18  | 251 | 0   | 215 |  77 | \n",
       "| 2   | C   | TOT |  1  | 0   |  0  |  14 | 0   |  13 |   3 | \n",
       "| 3   | J   | MA  |  0  | 0   |  8  | 280 | 0   | 161 |  79 | \n",
       "| 3   | J   | RZ  |  0  | 0   |  7  | 168 | 0   | 137 |  51 | \n",
       "| 3   | J   | TOT |  0  | 0   |  2  |  35 | 0   |  43 |  20 | \n",
       "| 4   | P   | MA  |  1  | 0   | 16  | 571 | 0   | 345 | 181 | \n",
       "| 4   | P   | RZ  |  0  | 0   |  1  |  74 | 0   |  41 |  27 | \n",
       "\n",
       "\n"
      ],
      "text/plain": [
       "   sid person method gene0 gene1 gene10 gene100 gene1000 gene1001 gene1002\n",
       "1  1   J      MA      1    0     13     425     0        236      129     \n",
       "2  1   J      RZ      0    0     14     261     0        221       69     \n",
       "3  2   C      MA      0    0     10     491     0        279      117     \n",
       "4  2   C      RZ     10    0     18     251     0        215       77     \n",
       "5  2   C      TOT     1    0      0      14     0         13        3     \n",
       "6  3   J      MA      0    0      8     280     0        161       79     \n",
       "7  3   J      RZ      0    0      7     168     0        137       51     \n",
       "8  3   J      TOT     0    0      2      35     0         43       20     \n",
       "9  4   P      MA      1    0     16     571     0        345      181     \n",
       "10 4   P      RZ      0    0      1      74     0         41       27     "
      ]
     },
     "metadata": {},
     "output_type": "display_data"
    }
   ],
   "source": [
    "df[1:10, 1:10]"
   ]
  },
  {
   "cell_type": "code",
   "execution_count": 4,
   "metadata": {},
   "outputs": [],
   "source": [
    "options(repr.plot.width=4, repr.plot.height=3)"
   ]
  },
  {
   "cell_type": "markdown",
   "metadata": {},
   "source": [
    "**1**. Plot a scatter plot of gene100 against gene 1001."
   ]
  },
  {
   "cell_type": "code",
   "execution_count": 5,
   "metadata": {},
   "outputs": [
    {
     "data": {},
     "metadata": {},
     "output_type": "display_data"
    },
    {
     "data": {
      "image/png": "[encoded data removed]",
      "text/plain": [
       "plot without title"
      ]
     },
     "metadata": {},
     "output_type": "display_data"
    }
   ],
   "source": [
    "ggplot(df, aes(x=gene100, y=gene1001)) + \n",
    "geom_point()"
   ]
  },
  {
   "cell_type": "markdown",
   "metadata": {},
   "source": [
    "**2**. Make a boxplot of gene100 counts by mehtod."
   ]
  },
  {
   "cell_type": "code",
   "execution_count": 6,
   "metadata": {},
   "outputs": [
    {
     "data": {},
     "metadata": {},
     "output_type": "display_data"
    },
    {
     "data": {
      "image/png": "[encoded data removed]",
      "text/plain": [
       "plot without title"
      ]
     },
     "metadata": {},
     "output_type": "display_data"
    }
   ],
   "source": [
    "ggplot(df, aes(x=method, y=gene100)) +\n",
    "geom_boxplot()"
   ]
  },
  {
   "cell_type": "markdown",
   "metadata": {},
   "source": [
    "**3**. Make a grid of histograms of counts for gene100, with rows showing the person and columns showing the method used."
   ]
  },
  {
   "cell_type": "code",
   "execution_count": 7,
   "metadata": {},
   "outputs": [
    {
     "data": {},
     "metadata": {},
     "output_type": "display_data"
    },
    {
     "data": {
      "image/png": "[encoded data removed]",
      "text/plain": [
       "plot without title"
      ]
     },
     "metadata": {},
     "output_type": "display_data"
    }
   ],
   "source": [
    "ggplot(df, aes(x=gene100)) +\n",
    "facet_grid(person ~ method) +\n",
    "geom_histogram(binwidth=50) "
   ]
  },
  {
   "cell_type": "markdown",
   "metadata": {},
   "source": [
    "**4**. Make a row of boxplots of log counts of the top 5 genes where each colum shows a differnt method.\n",
    "\n",
    "**Warning**: This is  difficult and involves quite a bit of data processing."
   ]
  },
  {
   "cell_type": "code",
   "execution_count": 8,
   "metadata": {},
   "outputs": [],
   "source": [
    "genes.top5 <- df %>% \n",
    "select(starts_with('gene')) %>% \n",
    "summarize_all(mean) %>% \n",
    "gather() %>% \n",
    "arrange(desc(value)) %>%\n",
    "head(5)"
   ]
  },
  {
   "cell_type": "code",
   "execution_count": 9,
   "metadata": {},
   "outputs": [
    {
     "data": {
      "text/html": [
       "<table>\n",
       "<thead><tr><th scope=col>key</th><th scope=col>value</th></tr></thead>\n",
       "<tbody>\n",
       "\t<tr><td>gene1139 </td><td>884531.49</td></tr>\n",
       "\t<tr><td>gene1136 </td><td>484816.47</td></tr>\n",
       "\t<tr><td>gene7418 </td><td>132744.71</td></tr>\n",
       "\t<tr><td>gene363  </td><td> 62325.08</td></tr>\n",
       "\t<tr><td>gene7387 </td><td> 45986.86</td></tr>\n",
       "</tbody>\n",
       "</table>\n"
      ],
      "text/latex": [
       "\\begin{tabular}{r|ll}\n",
       " key & value\\\\\n",
       "\\hline\n",
       "\t gene1139  & 884531.49\\\\\n",
       "\t gene1136  & 484816.47\\\\\n",
       "\t gene7418  & 132744.71\\\\\n",
       "\t gene363   &  62325.08\\\\\n",
       "\t gene7387  &  45986.86\\\\\n",
       "\\end{tabular}\n"
      ],
      "text/markdown": [
       "\n",
       "key | value | \n",
       "|---|---|---|---|---|\n",
       "| gene1139  | 884531.49 | \n",
       "| gene1136  | 484816.47 | \n",
       "| gene7418  | 132744.71 | \n",
       "| gene363   |  62325.08 | \n",
       "| gene7387  |  45986.86 | \n",
       "\n",
       "\n"
      ],
      "text/plain": [
       "  key      value    \n",
       "1 gene1139 884531.49\n",
       "2 gene1136 484816.47\n",
       "3 gene7418 132744.71\n",
       "4 gene363   62325.08\n",
       "5 gene7387  45986.86"
      ]
     },
     "metadata": {},
     "output_type": "display_data"
    }
   ],
   "source": [
    "genes.top5"
   ]
  },
  {
   "cell_type": "code",
   "execution_count": 10,
   "metadata": {},
   "outputs": [
    {
     "data": {
      "text/html": [
       "<ol class=list-inline>\n",
       "\t<li>'gene1139'</li>\n",
       "\t<li>'gene1136'</li>\n",
       "\t<li>'gene7418'</li>\n",
       "\t<li>'gene363'</li>\n",
       "\t<li>'gene7387'</li>\n",
       "</ol>\n"
      ],
      "text/latex": [
       "\\begin{enumerate*}\n",
       "\\item 'gene1139'\n",
       "\\item 'gene1136'\n",
       "\\item 'gene7418'\n",
       "\\item 'gene363'\n",
       "\\item 'gene7387'\n",
       "\\end{enumerate*}\n"
      ],
      "text/markdown": [
       "1. 'gene1139'\n",
       "2. 'gene1136'\n",
       "3. 'gene7418'\n",
       "4. 'gene363'\n",
       "5. 'gene7387'\n",
       "\n",
       "\n"
      ],
      "text/plain": [
       "[1] \"gene1139\" \"gene1136\" \"gene7418\" \"gene363\"  \"gene7387\""
      ]
     },
     "metadata": {},
     "output_type": "display_data"
    }
   ],
   "source": [
    "genes.top5$key"
   ]
  },
  {
   "cell_type": "code",
   "execution_count": 11,
   "metadata": {},
   "outputs": [
    {
     "data": {},
     "metadata": {},
     "output_type": "display_data"
    },
    {
     "data": {
      "image/png": "[encoded data removed]",
      "text/plain": [
       "plot without title"
      ]
     },
     "metadata": {},
     "output_type": "display_data"
    }
   ],
   "source": [
    "df %>% \n",
    "select(c('method', genes.top5$key)) %>%\n",
    "gather(gene, count, -method) %>%\n",
    "mutate(logcount = log(count)) %>%\n",
    "ggplot(aes(x=gene, y=logcount)) +\n",
    "geom_boxplot() + \n",
    "facet_wrap(~ method) +\n",
    "theme(axis.text.x = element_text(angle = 90, hjust = 1))"
   ]
  },
  {
   "cell_type": "code",
   "execution_count": null,
   "metadata": {},
   "outputs": [],
   "source": []
  }
 ],
 "metadata": {
  "kernelspec": {
   "display_name": "R",
   "language": "R",
   "name": "r"
  },
  "language_info": {
   "codemirror_mode": "r",
   "file_extension": ".r",
   "mimetype": "text/x-r-source",
   "name": "R",
   "pygments_lexer": "r",
   "version": "3.4.4"
  }
 },
 "nbformat": 4,
 "nbformat_minor": 2
}
