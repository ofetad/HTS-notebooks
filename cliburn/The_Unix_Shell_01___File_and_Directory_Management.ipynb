{
 "cells": [
  {
   "cell_type": "markdown",
   "metadata": {},
   "source": [
    "# The Unix Shell: File and Directory Management"
   ]
  },
  {
   "cell_type": "markdown",
   "metadata": {},
   "source": [
    "## Listing files"
   ]
  },
  {
   "cell_type": "code",
   "execution_count": 1,
   "metadata": {},
   "outputs": [
    {
     "name": "stdout",
     "output_type": "stream",
     "text": [
      "The_Unix_Shell_01___File_and_Directory_Management.ipynb\n",
      "The_Unix_Shell_02___Getting_Help.ipynb\n",
      "The_Unix_Shell_03___Working_with_Text.ipynb\n",
      "The_Unix_Shell_04___Regular_Expresssions.ipynb\n",
      "The_Unix_Shell_05___Finding_Stuff.ipynb\n",
      "The_Unix_Shell_06___Shell_Scripts.ipynb\n",
      "data\n",
      "data2\n",
      "scripts\n"
     ]
    }
   ],
   "source": [
    "ls"
   ]
  },
  {
   "cell_type": "code",
   "execution_count": 2,
   "metadata": {},
   "outputs": [
    {
     "name": "stdout",
     "output_type": "stream",
     "text": [
      "avg.sh\t\t\textract_headers.sh\trename.py\n",
      "cat_if_exists.sh\tfoo_Copy.ipynb\n"
     ]
    }
   ],
   "source": [
    "ls scripts"
   ]
  },
  {
   "cell_type": "markdown",
   "metadata": {},
   "source": [
    "### Include hidden files"
   ]
  },
  {
   "cell_type": "code",
   "execution_count": 3,
   "metadata": {},
   "outputs": [
    {
     "name": "stdout",
     "output_type": "stream",
     "text": [
      ".\n",
      "..\n",
      ".ipynb_checkpoints\n",
      "The_Unix_Shell_01___File_and_Directory_Management.ipynb\n",
      "The_Unix_Shell_02___Getting_Help.ipynb\n",
      "The_Unix_Shell_03___Working_with_Text.ipynb\n",
      "The_Unix_Shell_04___Regular_Expresssions.ipynb\n",
      "The_Unix_Shell_05___Finding_Stuff.ipynb\n",
      "The_Unix_Shell_06___Shell_Scripts.ipynb\n",
      "data\n",
      "data2\n",
      "scripts\n"
     ]
    }
   ],
   "source": [
    "ls -a"
   ]
  },
  {
   "cell_type": "markdown",
   "metadata": {},
   "source": [
    "### Exclude current and parent directory"
   ]
  },
  {
   "cell_type": "code",
   "execution_count": 4,
   "metadata": {},
   "outputs": [
    {
     "name": "stdout",
     "output_type": "stream",
     "text": [
      ".ipynb_checkpoints\n",
      "The_Unix_Shell_01___File_and_Directory_Management.ipynb\n",
      "The_Unix_Shell_02___Getting_Help.ipynb\n",
      "The_Unix_Shell_03___Working_with_Text.ipynb\n",
      "The_Unix_Shell_04___Regular_Expresssions.ipynb\n",
      "The_Unix_Shell_05___Finding_Stuff.ipynb\n",
      "The_Unix_Shell_06___Shell_Scripts.ipynb\n",
      "data\n",
      "data2\n",
      "scripts\n"
     ]
    }
   ],
   "source": [
    "ls -A"
   ]
  },
  {
   "cell_type": "markdown",
   "metadata": {},
   "source": [
    "### Show details"
   ]
  },
  {
   "cell_type": "code",
   "execution_count": 5,
   "metadata": {},
   "outputs": [
    {
     "name": "stdout",
     "output_type": "stream",
     "text": [
      "total 280\n",
      "-rw-r--r--   1 cliburn  staff  38499 Jul 26 08:10 The_Unix_Shell_01___File_and_Directory_Management.ipynb\n",
      "-rw-r--r--   1 cliburn  staff  18214 Jul 26 07:55 The_Unix_Shell_02___Getting_Help.ipynb\n",
      "-rw-r--r--   1 cliburn  staff  10185 Jul 26 07:55 The_Unix_Shell_03___Working_with_Text.ipynb\n",
      "-rw-r--r--   1 cliburn  staff  15224 Jul 26 07:55 The_Unix_Shell_04___Regular_Expresssions.ipynb\n",
      "-rw-r--r--   1 cliburn  staff  23128 Jul 26 07:55 The_Unix_Shell_05___Finding_Stuff.ipynb\n",
      "-rw-r--r--   1 cliburn  staff  26091 Jul 26 07:55 The_Unix_Shell_06___Shell_Scripts.ipynb\n",
      "drwxr-xr-x  11 cliburn  staff    374 Jul 26 08:11 data\n",
      "drwxr-xr-x  21 cliburn  staff    714 Jul 26 08:09 data2\n",
      "drwxr-xr-x   8 cliburn  staff    272 Jul 26 08:09 scripts\n"
     ]
    }
   ],
   "source": [
    "ls -l"
   ]
  },
  {
   "cell_type": "markdown",
   "metadata": {},
   "source": [
    "### Shown only directories"
   ]
  },
  {
   "cell_type": "code",
   "execution_count": 3,
   "metadata": {},
   "outputs": [
    {
     "name": "stdout",
     "output_type": "stream",
     "text": [
      "data/\t\tscripts/\n"
     ]
    }
   ],
   "source": [
    "ls -d */"
   ]
  },
  {
   "cell_type": "markdown",
   "metadata": {},
   "source": [
    "#### Alternative using grep"
   ]
  },
  {
   "cell_type": "code",
   "execution_count": 4,
   "metadata": {},
   "outputs": [
    {
     "name": "stdout",
     "output_type": "stream",
     "text": [
      "drwxr-xr-x  12 cliburn  staff    408 Jul 26 09:11 data\n",
      "drwxr-xr-x   5 cliburn  staff    170 Jul 26 09:25 scripts\n"
     ]
    }
   ],
   "source": [
    "ls -l | grep -E '^d'"
   ]
  },
  {
   "cell_type": "markdown",
   "metadata": {},
   "source": [
    "#### Show only files"
   ]
  },
  {
   "cell_type": "code",
   "execution_count": 5,
   "metadata": {},
   "outputs": [
    {
     "name": "stdout",
     "output_type": "stream",
     "text": [
      "total 320\n",
      "-rw-r--r--   1 cliburn  staff    120 Jul 26 10:02 MD5_CHECKSUM\n",
      "-rw-r--r--   1 cliburn  staff  45254 Jul 26 10:08 The_Unix_Shell_01___File_and_Directory_Management.ipynb\n",
      "-rw-r--r--   1 cliburn  staff   6930 Jul 26 09:51 The_Unix_Shell_02___Working_with_Text.ipynb\n",
      "-rw-r--r--   1 cliburn  staff  15644 Jul 26 09:22 The_Unix_Shell_03___Regular_Expresssions.ipynb\n",
      "-rw-r--r--   1 cliburn  staff  13409 Jul 26 09:20 The_Unix_Shell_04___Finding_Stuff.ipynb\n",
      "-rw-r--r--   1 cliburn  staff  22120 Jul 26 09:25 The_Unix_Shell_05___Shell_Scripts.ipynb\n",
      "-rw-r--r--   1 cliburn  staff   1106 Jul 26 10:06 The_Unix_Shell___Exercises.ipynb\n",
      "-rw-r--r--   1 cliburn  staff      6 Jul 26 10:01 a.txt\n",
      "-rw-r--r--   1 cliburn  staff      6 Jul 26 10:02 b.txt\n",
      "-rw-r--r--   1 cliburn  staff      6 Jul 26 10:01 c.txt\n",
      "-rw-r--r--   1 cliburn  staff     46 Jul 26 09:55 goodbye.md5\n",
      "-rw-r--r--   1 cliburn  staff     45 Jul 26 09:55 goodbye.txt\n",
      "-rw-r--r--   1 cliburn  staff     45 Jul 26 09:52 hell.txt\n",
      "-rw-r--r--   1 cliburn  staff     44 Jul 26 09:49 hello.md5\n",
      "-rw-r--r--   1 cliburn  staff     45 Jul 26 10:00 hello.txt\n",
      "-rw-r--r--   1 cliburn  staff     42 Jul 26 09:31 stderr.txt\n",
      "-rw-r--r--   1 cliburn  staff      0 Jul 26 09:31 stdout.txt\n",
      "-rw-r--r--   1 cliburn  staff     44 Jul 26 10:00 test.md5\n"
     ]
    }
   ],
   "source": [
    "ls -l | grep -Ev '^d'"
   ]
  },
  {
   "cell_type": "markdown",
   "metadata": {},
   "source": [
    "### Sort by last modified time"
   ]
  },
  {
   "cell_type": "code",
   "execution_count": 6,
   "metadata": {},
   "outputs": [
    {
     "name": "stdout",
     "output_type": "stream",
     "text": [
      "total 280\n",
      "drwxr-xr-x  11 cliburn  staff    374 Jul 26 08:11 data\n",
      "-rw-r--r--   1 cliburn  staff  38499 Jul 26 08:10 The_Unix_Shell_01___File_and_Directory_Management.ipynb\n",
      "drwxr-xr-x   8 cliburn  staff    272 Jul 26 08:09 scripts\n",
      "drwxr-xr-x  21 cliburn  staff    714 Jul 26 08:09 data2\n",
      "-rw-r--r--   1 cliburn  staff  18214 Jul 26 07:55 The_Unix_Shell_02___Getting_Help.ipynb\n",
      "-rw-r--r--   1 cliburn  staff  10185 Jul 26 07:55 The_Unix_Shell_03___Working_with_Text.ipynb\n",
      "-rw-r--r--   1 cliburn  staff  15224 Jul 26 07:55 The_Unix_Shell_04___Regular_Expresssions.ipynb\n",
      "-rw-r--r--   1 cliburn  staff  23128 Jul 26 07:55 The_Unix_Shell_05___Finding_Stuff.ipynb\n",
      "-rw-r--r--   1 cliburn  staff  26091 Jul 26 07:55 The_Unix_Shell_06___Shell_Scripts.ipynb\n"
     ]
    }
   ],
   "source": [
    "ls -lt"
   ]
  },
  {
   "cell_type": "markdown",
   "metadata": {},
   "source": [
    "### Human readable output"
   ]
  },
  {
   "cell_type": "code",
   "execution_count": 7,
   "metadata": {},
   "outputs": [
    {
     "name": "stdout",
     "output_type": "stream",
     "text": [
      "total 280\n",
      "drwxr-xr-x  11 cliburn  staff   374B Jul 26 08:11 data\n",
      "-rw-r--r--   1 cliburn  staff    38K Jul 26 08:10 The_Unix_Shell_01___File_and_Directory_Management.ipynb\n",
      "drwxr-xr-x   8 cliburn  staff   272B Jul 26 08:09 scripts\n",
      "drwxr-xr-x  21 cliburn  staff   714B Jul 26 08:09 data2\n",
      "-rw-r--r--   1 cliburn  staff    18K Jul 26 07:55 The_Unix_Shell_02___Getting_Help.ipynb\n",
      "-rw-r--r--   1 cliburn  staff   9.9K Jul 26 07:55 The_Unix_Shell_03___Working_with_Text.ipynb\n",
      "-rw-r--r--   1 cliburn  staff    15K Jul 26 07:55 The_Unix_Shell_04___Regular_Expresssions.ipynb\n",
      "-rw-r--r--   1 cliburn  staff    23K Jul 26 07:55 The_Unix_Shell_05___Finding_Stuff.ipynb\n",
      "-rw-r--r--   1 cliburn  staff    25K Jul 26 07:55 The_Unix_Shell_06___Shell_Scripts.ipynb\n"
     ]
    }
   ],
   "source": [
    "ls -lth"
   ]
  },
  {
   "cell_type": "markdown",
   "metadata": {},
   "source": [
    "### Recursive listing"
   ]
  },
  {
   "cell_type": "code",
   "execution_count": 8,
   "metadata": {},
   "outputs": [
    {
     "name": "stdout",
     "output_type": "stream",
     "text": [
      "The_Unix_Shell_01___File_and_Directory_Management.ipynb\n",
      "The_Unix_Shell_02___Getting_Help.ipynb\n",
      "The_Unix_Shell_03___Working_with_Text.ipynb\n",
      "The_Unix_Shell_04___Regular_Expresssions.ipynb\n",
      "The_Unix_Shell_05___Finding_Stuff.ipynb\n",
      "The_Unix_Shell_06___Shell_Scripts.ipynb\n",
      "data\n",
      "data2\n",
      "scripts\n",
      "\n",
      "./data:\n",
      "X.txt\t\t\tY2.txt\t\t\tiris.csv\n",
      "Y.txt\t\t\tfood_and_groups.csv\tiris24.csv\n",
      "Y1.txt\t\t\tforbes.csv\t\ttitanic.csv\n",
      "\n",
      "./data2:\n",
      "Chinook_Sqlite.sqlite\tcheri.json\t\tiris.csv\n",
      "X.txt\t\t\tclose.feather\t\tiris24.csv\n",
      "Y.txt\t\t\tcloseR.feather\t\tsim.hdf5\n",
      "Y1.txt\t\t\texample.fna\t\tslides.md\n",
      "Y2.txt\t\t\tfood_and_groups.csv\ttitanic.csv\n",
      "bulbasaur.pickle\tforbes.csv\t\tusda.db\n",
      "\n",
      "./scripts:\n",
      "avg.sh\t\t\textract_headers.sh\trename.py\n",
      "cat_if_exists.sh\tfoo_Copy.ipynb\n"
     ]
    }
   ],
   "source": [
    "ls -R"
   ]
  },
  {
   "cell_type": "markdown",
   "metadata": {},
   "source": [
    "## Globbing\n",
    "\n",
    "The use of wild cards to specify Unix paths is known as globbing."
   ]
  },
  {
   "cell_type": "markdown",
   "metadata": {},
   "source": [
    "### `*` represets any number of characters"
   ]
  },
  {
   "cell_type": "code",
   "execution_count": 9,
   "metadata": {},
   "outputs": [
    {
     "name": "stdout",
     "output_type": "stream",
     "text": [
      "The_Unix_Shell_01___File_and_Directory_Management.ipynb\n",
      "The_Unix_Shell_02___Getting_Help.ipynb\n",
      "The_Unix_Shell_03___Working_with_Text.ipynb\n",
      "The_Unix_Shell_04___Regular_Expresssions.ipynb\n",
      "The_Unix_Shell_05___Finding_Stuff.ipynb\n",
      "The_Unix_Shell_06___Shell_Scripts.ipynb\n"
     ]
    }
   ],
   "source": [
    "ls *ipynb"
   ]
  },
  {
   "cell_type": "code",
   "execution_count": 10,
   "metadata": {},
   "outputs": [
    {
     "name": "stdout",
     "output_type": "stream",
     "text": [
      "The_Unix_Shell_03___Working_with_Text.ipynb\n"
     ]
    }
   ],
   "source": [
    "ls *Text*"
   ]
  },
  {
   "cell_type": "markdown",
   "metadata": {},
   "source": [
    "### `?` represents exactly one character"
   ]
  },
  {
   "cell_type": "code",
   "execution_count": 11,
   "metadata": {},
   "outputs": [
    {
     "name": "stdout",
     "output_type": "stream",
     "text": [
      "data/iris24.csv\n"
     ]
    }
   ],
   "source": [
    "ls data/iris??.csv"
   ]
  },
  {
   "cell_type": "markdown",
   "metadata": {},
   "source": [
    "### Character sets\n",
    "\n",
    "- `[abc]` represents a or b or c\n",
    "- [a-z] represents any lower case character\n",
    "- `!` negates"
   ]
  },
  {
   "cell_type": "code",
   "execution_count": 12,
   "metadata": {},
   "outputs": [
    {
     "name": "stdout",
     "output_type": "stream",
     "text": [
      "data/X.txt\tdata/Y.txt\tdata/Y1.txt\tdata/Y2.txt\n"
     ]
    }
   ],
   "source": [
    "ls data/[X-Z]*"
   ]
  },
  {
   "cell_type": "code",
   "execution_count": 13,
   "metadata": {},
   "outputs": [
    {
     "name": "stdout",
     "output_type": "stream",
     "text": [
      "data/food_and_groups.csv\tdata/iris24.csv\n",
      "data/forbes.csv\t\t\tdata/titanic.csv\n",
      "data/iris.csv\n"
     ]
    }
   ],
   "source": [
    "ls data/[!X-Z]*"
   ]
  },
  {
   "cell_type": "markdown",
   "metadata": {},
   "source": [
    "## Directory navigation"
   ]
  },
  {
   "cell_type": "markdown",
   "metadata": {},
   "source": [
    "### Show current directory"
   ]
  },
  {
   "cell_type": "code",
   "execution_count": 14,
   "metadata": {},
   "outputs": [
    {
     "name": "stdout",
     "output_type": "stream",
     "text": [
      "/Users/cliburn/_teach/HTS_SummerCourse_2017/Materials/Computation/Wk4_Day3_PM\n"
     ]
    }
   ],
   "source": [
    "pwd"
   ]
  },
  {
   "cell_type": "markdown",
   "metadata": {},
   "source": [
    "### Move to parent directory"
   ]
  },
  {
   "cell_type": "code",
   "execution_count": 15,
   "metadata": {
    "collapsed": true
   },
   "outputs": [],
   "source": [
    "cd .."
   ]
  },
  {
   "cell_type": "code",
   "execution_count": 16,
   "metadata": {},
   "outputs": [
    {
     "name": "stdout",
     "output_type": "stream",
     "text": [
      "/Users/cliburn/_teach/HTS_SummerCourse_2017/Materials/Computation\n"
     ]
    }
   ],
   "source": [
    "pwd"
   ]
  },
  {
   "cell_type": "markdown",
   "metadata": {},
   "source": [
    "### Move back to last directory"
   ]
  },
  {
   "cell_type": "code",
   "execution_count": 17,
   "metadata": {},
   "outputs": [
    {
     "name": "stdout",
     "output_type": "stream",
     "text": [
      "/Users/cliburn/_teach/HTS_SummerCourse_2017/Materials/Computation/Wk4_Day3_PM\n"
     ]
    }
   ],
   "source": [
    "cd -"
   ]
  },
  {
   "cell_type": "markdown",
   "metadata": {},
   "source": [
    "### Move using relative addressing"
   ]
  },
  {
   "cell_type": "code",
   "execution_count": 18,
   "metadata": {
    "collapsed": true
   },
   "outputs": [],
   "source": [
    "cd data"
   ]
  },
  {
   "cell_type": "code",
   "execution_count": 19,
   "metadata": {},
   "outputs": [
    {
     "name": "stdout",
     "output_type": "stream",
     "text": [
      "/Users/cliburn/_teach/HTS_SummerCourse_2017/Materials/Computation/Wk4_Day3_PM/data\n"
     ]
    }
   ],
   "source": [
    "pwd"
   ]
  },
  {
   "cell_type": "markdown",
   "metadata": {},
   "source": [
    "### Move using absolute addressing"
   ]
  },
  {
   "cell_type": "markdown",
   "metadata": {},
   "source": [
    "#### Move to yesterday's folder"
   ]
  },
  {
   "cell_type": "code",
   "execution_count": 20,
   "metadata": {
    "collapsed": true
   },
   "outputs": [],
   "source": [
    "cd /Users/cliburn/_teach/HTS_SummerCourse_2017/Materials/Computation/Wk4_Day2_PM/"
   ]
  },
  {
   "cell_type": "code",
   "execution_count": 21,
   "metadata": {},
   "outputs": [
    {
     "name": "stdout",
     "output_type": "stream",
     "text": [
      "/Users/cliburn/_teach/HTS_SummerCourse_2017/Materials/Computation/Wk4_Day2_PM\n"
     ]
    }
   ],
   "source": [
    "pwd"
   ]
  },
  {
   "cell_type": "markdown",
   "metadata": {},
   "source": [
    "#### Move back to today's folder"
   ]
  },
  {
   "cell_type": "code",
   "execution_count": 22,
   "metadata": {
    "collapsed": true
   },
   "outputs": [],
   "source": [
    "cd /Users/cliburn/_teach/HTS_SummerCourse_2017/Materials/Computation/Wk4_Day3_PM/"
   ]
  },
  {
   "cell_type": "code",
   "execution_count": 23,
   "metadata": {},
   "outputs": [
    {
     "name": "stdout",
     "output_type": "stream",
     "text": [
      "/Users/cliburn/_teach/HTS_SummerCourse_2017/Materials/Computation/Wk4_Day3_PM\n"
     ]
    }
   ],
   "source": [
    "pwd"
   ]
  },
  {
   "cell_type": "markdown",
   "metadata": {},
   "source": [
    "## Making and removing new directories"
   ]
  },
  {
   "cell_type": "code",
   "execution_count": 24,
   "metadata": {
    "collapsed": true
   },
   "outputs": [],
   "source": [
    "mkdir foo"
   ]
  },
  {
   "cell_type": "code",
   "execution_count": 25,
   "metadata": {},
   "outputs": [
    {
     "name": "stdout",
     "output_type": "stream",
     "text": [
      "The_Unix_Shell_01___File_and_Directory_Management.ipynb\n",
      "The_Unix_Shell_02___Getting_Help.ipynb\n",
      "The_Unix_Shell_03___Working_with_Text.ipynb\n",
      "The_Unix_Shell_04___Regular_Expresssions.ipynb\n",
      "The_Unix_Shell_05___Finding_Stuff.ipynb\n",
      "The_Unix_Shell_06___Shell_Scripts.ipynb\n",
      "data\n",
      "data2\n",
      "foo\n",
      "scripts\n"
     ]
    }
   ],
   "source": [
    "ls"
   ]
  },
  {
   "cell_type": "markdown",
   "metadata": {},
   "source": [
    "### Making intermediate directories automatically"
   ]
  },
  {
   "cell_type": "code",
   "execution_count": 26,
   "metadata": {
    "collapsed": true
   },
   "outputs": [],
   "source": [
    "mkdir -p a/b/c/d"
   ]
  },
  {
   "cell_type": "code",
   "execution_count": 27,
   "metadata": {},
   "outputs": [
    {
     "name": "stdout",
     "output_type": "stream",
     "text": [
      "b\n",
      "\n",
      "a/b:\n",
      "c\n",
      "\n",
      "a/b/c:\n",
      "d\n",
      "\n",
      "a/b/c/d:\n"
     ]
    }
   ],
   "source": [
    "ls -R a"
   ]
  },
  {
   "cell_type": "markdown",
   "metadata": {},
   "source": [
    "### Deleting directories"
   ]
  },
  {
   "cell_type": "code",
   "execution_count": 28,
   "metadata": {
    "collapsed": true
   },
   "outputs": [],
   "source": [
    "rmdir foo"
   ]
  },
  {
   "cell_type": "markdown",
   "metadata": {},
   "source": [
    "#### Only works if directory is empty\n",
    "\n",
    "The `| cat` part is not necessary on the command line, but is only used here for convenience of Run All Cells as Jupyter stops on non-zero exit codes. The `| cat` syntax \"pipes\" the output of `rmdir data` to a the `cat` program."
   ]
  },
  {
   "cell_type": "code",
   "execution_count": 29,
   "metadata": {},
   "outputs": [
    {
     "name": "stdout",
     "output_type": "stream",
     "text": [
      "rmdir: data: Directory not empty\n"
     ]
    }
   ],
   "source": [
    "rmdir data | cat"
   ]
  },
  {
   "cell_type": "markdown",
   "metadata": {},
   "source": [
    "### Recursive intermediate directories as well"
   ]
  },
  {
   "cell_type": "code",
   "execution_count": 30,
   "metadata": {
    "collapsed": true
   },
   "outputs": [],
   "source": [
    "rmdir -p a/b/c/d"
   ]
  },
  {
   "cell_type": "code",
   "execution_count": 31,
   "metadata": {},
   "outputs": [
    {
     "name": "stdout",
     "output_type": "stream",
     "text": [
      "The_Unix_Shell_01___File_and_Directory_Management.ipynb\n",
      "The_Unix_Shell_02___Getting_Help.ipynb\n",
      "The_Unix_Shell_03___Working_with_Text.ipynb\n",
      "The_Unix_Shell_04___Regular_Expresssions.ipynb\n",
      "The_Unix_Shell_05___Finding_Stuff.ipynb\n",
      "The_Unix_Shell_06___Shell_Scripts.ipynb\n",
      "data\n",
      "data2\n",
      "scripts\n"
     ]
    }
   ],
   "source": [
    "ls"
   ]
  },
  {
   "cell_type": "markdown",
   "metadata": {},
   "source": [
    "## Working with files"
   ]
  },
  {
   "cell_type": "markdown",
   "metadata": {},
   "source": [
    "### Making an empty file"
   ]
  },
  {
   "cell_type": "code",
   "execution_count": 32,
   "metadata": {
    "collapsed": true
   },
   "outputs": [],
   "source": [
    "touch foo.txt"
   ]
  },
  {
   "cell_type": "code",
   "execution_count": 33,
   "metadata": {},
   "outputs": [
    {
     "name": "stdout",
     "output_type": "stream",
     "text": [
      "The_Unix_Shell_01___File_and_Directory_Management.ipynb\n",
      "The_Unix_Shell_02___Getting_Help.ipynb\n",
      "The_Unix_Shell_03___Working_with_Text.ipynb\n",
      "The_Unix_Shell_04___Regular_Expresssions.ipynb\n",
      "The_Unix_Shell_05___Finding_Stuff.ipynb\n",
      "The_Unix_Shell_06___Shell_Scripts.ipynb\n",
      "data\n",
      "data2\n",
      "foo.txt\n",
      "scripts\n"
     ]
    }
   ],
   "source": [
    "ls"
   ]
  },
  {
   "cell_type": "markdown",
   "metadata": {},
   "source": [
    "### Deleting a file"
   ]
  },
  {
   "cell_type": "code",
   "execution_count": 34,
   "metadata": {
    "collapsed": true
   },
   "outputs": [],
   "source": [
    "rm foo.txt"
   ]
  },
  {
   "cell_type": "code",
   "execution_count": 35,
   "metadata": {},
   "outputs": [
    {
     "name": "stdout",
     "output_type": "stream",
     "text": [
      "The_Unix_Shell_01___File_and_Directory_Management.ipynb\n",
      "The_Unix_Shell_02___Getting_Help.ipynb\n",
      "The_Unix_Shell_03___Working_with_Text.ipynb\n",
      "The_Unix_Shell_04___Regular_Expresssions.ipynb\n",
      "The_Unix_Shell_05___Finding_Stuff.ipynb\n",
      "The_Unix_Shell_06___Shell_Scripts.ipynb\n",
      "data\n",
      "data2\n",
      "scripts\n"
     ]
    }
   ],
   "source": [
    "ls"
   ]
  },
  {
   "cell_type": "markdown",
   "metadata": {},
   "source": [
    "### Viewing a file"
   ]
  },
  {
   "cell_type": "code",
   "execution_count": 36,
   "metadata": {},
   "outputs": [
    {
     "name": "stdout",
     "output_type": "stream",
     "text": [
      "#!/bin/bash                                                                     \n",
      "sum=0\n",
      "n=0\n",
      "while read line\n",
      "do\n",
      "    if [ ! -z \"$line\" ]\n",
      "    then\n",
      "        n=$((n+1))\n",
      "        sum=$(echo $sum + $line | bc)\n",
      "    fi\n",
      "done\n",
      "echo $sum / $n | bc -l\n"
     ]
    }
   ],
   "source": [
    "cat scripts/avg.sh"
   ]
  },
  {
   "cell_type": "code",
   "execution_count": 37,
   "metadata": {},
   "outputs": [
    {
     "name": "stdout",
     "output_type": "stream",
     "text": [
      "#!/bin/bash                                                                     \n",
      "sum=0\n",
      "n=0\n"
     ]
    }
   ],
   "source": [
    "head -n 3 scripts/avg.sh"
   ]
  },
  {
   "cell_type": "code",
   "execution_count": 38,
   "metadata": {},
   "outputs": [
    {
     "name": "stdout",
     "output_type": "stream",
     "text": [
      "    fi\n",
      "done\n",
      "echo $sum / $n | bc -l\n"
     ]
    }
   ],
   "source": [
    "tail -n 3 scripts/avg.sh"
   ]
  },
  {
   "cell_type": "markdown",
   "metadata": {},
   "source": [
    "### Can start tail form a specified line number with (+)"
   ]
  },
  {
   "cell_type": "code",
   "execution_count": 39,
   "metadata": {},
   "outputs": [
    {
     "name": "stdout",
     "output_type": "stream",
     "text": [
      "while read line\n",
      "do\n",
      "    if [ ! -z \"$line\" ]\n",
      "    then\n",
      "        n=$((n+1))\n",
      "        sum=$(echo $sum + $line | bc)\n",
      "    fi\n",
      "done\n",
      "echo $sum / $n | bc -l\n"
     ]
    }
   ],
   "source": [
    "tail -n +4 scripts/avg.sh"
   ]
  },
  {
   "cell_type": "markdown",
   "metadata": {},
   "source": [
    "### Copying and moving files"
   ]
  },
  {
   "cell_type": "code",
   "execution_count": 40,
   "metadata": {},
   "outputs": [
    {
     "name": "stdout",
     "output_type": "stream",
     "text": [
      "The_Unix_Shell_01___File_and_Directory_Management.ipynb\n",
      "The_Unix_Shell_02___Getting_Help.ipynb\n",
      "The_Unix_Shell_03___Working_with_Text.ipynb\n",
      "The_Unix_Shell_04___Regular_Expresssions.ipynb\n",
      "The_Unix_Shell_05___Finding_Stuff.ipynb\n",
      "The_Unix_Shell_06___Shell_Scripts.ipynb\n",
      "data\n",
      "data2\n",
      "scripts\n"
     ]
    }
   ],
   "source": [
    "ls"
   ]
  },
  {
   "cell_type": "markdown",
   "metadata": {},
   "source": [
    "#### Copying files"
   ]
  },
  {
   "cell_type": "code",
   "execution_count": 41,
   "metadata": {
    "collapsed": true
   },
   "outputs": [],
   "source": [
    "cp \"The_Unix_Shell_01___File_and_Directory_Management.ipynb\" foo.ipynb"
   ]
  },
  {
   "cell_type": "code",
   "execution_count": 42,
   "metadata": {},
   "outputs": [
    {
     "name": "stdout",
     "output_type": "stream",
     "text": [
      "The_Unix_Shell_01___File_and_Directory_Management.ipynb\n",
      "The_Unix_Shell_02___Getting_Help.ipynb\n",
      "The_Unix_Shell_03___Working_with_Text.ipynb\n",
      "The_Unix_Shell_04___Regular_Expresssions.ipynb\n",
      "The_Unix_Shell_05___Finding_Stuff.ipynb\n",
      "The_Unix_Shell_06___Shell_Scripts.ipynb\n",
      "data\n",
      "data2\n",
      "foo.ipynb\n",
      "scripts\n"
     ]
    }
   ],
   "source": [
    "ls"
   ]
  },
  {
   "cell_type": "markdown",
   "metadata": {},
   "source": [
    "#### Copying directories (Recursive copy)"
   ]
  },
  {
   "cell_type": "code",
   "execution_count": 43,
   "metadata": {
    "collapsed": true
   },
   "outputs": [],
   "source": [
    "cp -R data data2"
   ]
  },
  {
   "cell_type": "code",
   "execution_count": 44,
   "metadata": {},
   "outputs": [
    {
     "name": "stdout",
     "output_type": "stream",
     "text": [
      "The_Unix_Shell_01___File_and_Directory_Management.ipynb\n",
      "The_Unix_Shell_02___Getting_Help.ipynb\n",
      "The_Unix_Shell_03___Working_with_Text.ipynb\n",
      "The_Unix_Shell_04___Regular_Expresssions.ipynb\n",
      "The_Unix_Shell_05___Finding_Stuff.ipynb\n",
      "The_Unix_Shell_06___Shell_Scripts.ipynb\n",
      "data\n",
      "data2\n",
      "foo.ipynb\n",
      "scripts\n",
      "\n",
      "./data:\n",
      "X.txt\t\t\tY2.txt\t\t\tiris.csv\n",
      "Y.txt\t\t\tfood_and_groups.csv\tiris24.csv\n",
      "Y1.txt\t\t\tforbes.csv\t\ttitanic.csv\n",
      "\n",
      "./data2:\n",
      "Chinook_Sqlite.sqlite\tclose.feather\t\tiris24.csv\n",
      "X.txt\t\t\tcloseR.feather\t\tsim.hdf5\n",
      "Y.txt\t\t\tdata\t\t\tslides.md\n",
      "Y1.txt\t\t\texample.fna\t\ttitanic.csv\n",
      "Y2.txt\t\t\tfood_and_groups.csv\tusda.db\n",
      "bulbasaur.pickle\tforbes.csv\n",
      "cheri.json\t\tiris.csv\n",
      "\n",
      "./data2/data:\n",
      "X.txt\t\t\tY2.txt\t\t\tiris.csv\n",
      "Y.txt\t\t\tfood_and_groups.csv\tiris24.csv\n",
      "Y1.txt\t\t\tforbes.csv\t\ttitanic.csv\n",
      "\n",
      "./scripts:\n",
      "avg.sh\t\t\textract_headers.sh\trename.py\n",
      "cat_if_exists.sh\tfoo_Copy.ipynb\n"
     ]
    }
   ],
   "source": [
    "ls -R"
   ]
  },
  {
   "cell_type": "markdown",
   "metadata": {},
   "source": [
    "#### Renaming a file"
   ]
  },
  {
   "cell_type": "code",
   "execution_count": 45,
   "metadata": {
    "collapsed": true
   },
   "outputs": [],
   "source": [
    "mv foo.ipynb foo_Copy.ipynb"
   ]
  },
  {
   "cell_type": "code",
   "execution_count": 46,
   "metadata": {},
   "outputs": [
    {
     "name": "stdout",
     "output_type": "stream",
     "text": [
      "The_Unix_Shell_01___File_and_Directory_Management.ipynb\n",
      "The_Unix_Shell_02___Getting_Help.ipynb\n",
      "The_Unix_Shell_03___Working_with_Text.ipynb\n",
      "The_Unix_Shell_04___Regular_Expresssions.ipynb\n",
      "The_Unix_Shell_05___Finding_Stuff.ipynb\n",
      "The_Unix_Shell_06___Shell_Scripts.ipynb\n",
      "data\n",
      "data2\n",
      "foo_Copy.ipynb\n",
      "scripts\n"
     ]
    }
   ],
   "source": [
    "ls"
   ]
  },
  {
   "cell_type": "markdown",
   "metadata": {},
   "source": [
    "#### Move a file to a new location"
   ]
  },
  {
   "cell_type": "code",
   "execution_count": 47,
   "metadata": {
    "collapsed": true
   },
   "outputs": [],
   "source": [
    "mv foo_Copy.ipynb scripts"
   ]
  },
  {
   "cell_type": "code",
   "execution_count": 48,
   "metadata": {},
   "outputs": [
    {
     "name": "stdout",
     "output_type": "stream",
     "text": [
      "The_Unix_Shell_01___File_and_Directory_Management.ipynb\n",
      "The_Unix_Shell_02___Getting_Help.ipynb\n",
      "The_Unix_Shell_03___Working_with_Text.ipynb\n",
      "The_Unix_Shell_04___Regular_Expresssions.ipynb\n",
      "The_Unix_Shell_05___Finding_Stuff.ipynb\n",
      "The_Unix_Shell_06___Shell_Scripts.ipynb\n",
      "data\n",
      "data2\n",
      "scripts\n",
      "\n",
      "./data:\n",
      "X.txt\t\t\tY2.txt\t\t\tiris.csv\n",
      "Y.txt\t\t\tfood_and_groups.csv\tiris24.csv\n",
      "Y1.txt\t\t\tforbes.csv\t\ttitanic.csv\n",
      "\n",
      "./data2:\n",
      "Chinook_Sqlite.sqlite\tclose.feather\t\tiris24.csv\n",
      "X.txt\t\t\tcloseR.feather\t\tsim.hdf5\n",
      "Y.txt\t\t\tdata\t\t\tslides.md\n",
      "Y1.txt\t\t\texample.fna\t\ttitanic.csv\n",
      "Y2.txt\t\t\tfood_and_groups.csv\tusda.db\n",
      "bulbasaur.pickle\tforbes.csv\n",
      "cheri.json\t\tiris.csv\n",
      "\n",
      "./data2/data:\n",
      "X.txt\t\t\tY2.txt\t\t\tiris.csv\n",
      "Y.txt\t\t\tfood_and_groups.csv\tiris24.csv\n",
      "Y1.txt\t\t\tforbes.csv\t\ttitanic.csv\n",
      "\n",
      "./scripts:\n",
      "avg.sh\t\t\textract_headers.sh\trename.py\n",
      "cat_if_exists.sh\tfoo_Copy.ipynb\n"
     ]
    }
   ],
   "source": [
    "ls -R"
   ]
  },
  {
   "cell_type": "markdown",
   "metadata": {},
   "source": [
    "## File compression and archival"
   ]
  },
  {
   "cell_type": "markdown",
   "metadata": {},
   "source": [
    "### Combine multiple files into single file"
   ]
  },
  {
   "cell_type": "code",
   "execution_count": 49,
   "metadata": {},
   "outputs": [
    {
     "name": "stdout",
     "output_type": "stream",
     "text": [
      "X.txt\t\t\tY2.txt\t\t\tiris.csv\n",
      "Y.txt\t\t\tfood_and_groups.csv\tiris24.csv\n",
      "Y1.txt\t\t\tforbes.csv\t\ttitanic.csv\n"
     ]
    }
   ],
   "source": [
    "ls data"
   ]
  },
  {
   "cell_type": "code",
   "execution_count": 50,
   "metadata": {},
   "outputs": [
    {
     "name": "stdout",
     "output_type": "stream",
     "text": [
      "\n",
      "BSDTAR(1)                 BSD General Commands Manual                BSDTAR(1)\n",
      "\n",
      "NAME\n",
      "     tar -- manipulate tape archives\n",
      "\n",
      "SYNOPSIS\n",
      "     tar [bundled-flags <args>] [<file> | <pattern> ...]\n",
      "     tar {-c} [options] [files | directories]\n",
      "     tar {-r | -u} -f archive-file [options] [files | directories]\n",
      "     tar {-t | -x} [options] [patterns]\n",
      "\n",
      "DESCRIPTION\n",
      "     tar creates and manipulates streaming archive files.  This implementation\n",
      "     can extract from tar, pax, cpio, zip, jar, ar, and ISO 9660 cdrom images\n",
      "     and can create tar, pax, cpio, ar, and shar archives.\n",
      "\n",
      "     The first synopsis form shows a ``bundled'' option word.  This usage is\n",
      "     provided for compatibility with historical implementations.  See COMPATI-\n",
      "     BILITY below for details.\n"
     ]
    }
   ],
   "source": [
    "man tar | head -n 20"
   ]
  },
  {
   "cell_type": "code",
   "execution_count": 51,
   "metadata": {},
   "outputs": [
    {
     "name": "stdout",
     "output_type": "stream",
     "text": [
      "a data\n",
      "a data/food_and_groups.csv\n",
      "a data/forbes.csv\n",
      "a data/iris.csv\n",
      "a data/iris24.csv\n",
      "a data/titanic.csv\n",
      "a data/X.txt\n",
      "a data/Y.txt\n",
      "a data/Y1.txt\n",
      "a data/Y2.txt\n"
     ]
    }
   ],
   "source": [
    "tar -cvf data.tar data"
   ]
  },
  {
   "cell_type": "code",
   "execution_count": 52,
   "metadata": {
    "collapsed": true
   },
   "outputs": [],
   "source": [
    "rm -rf data/"
   ]
  },
  {
   "cell_type": "code",
   "execution_count": 53,
   "metadata": {},
   "outputs": [
    {
     "name": "stdout",
     "output_type": "stream",
     "text": [
      "data.tar\n",
      "\n",
      "data2:\n",
      "Chinook_Sqlite.sqlite\tclose.feather\t\tiris24.csv\n",
      "X.txt\t\t\tcloseR.feather\t\tsim.hdf5\n",
      "Y.txt\t\t\tdata\t\t\tslides.md\n",
      "Y1.txt\t\t\texample.fna\t\ttitanic.csv\n",
      "Y2.txt\t\t\tfood_and_groups.csv\tusda.db\n",
      "bulbasaur.pickle\tforbes.csv\n",
      "cheri.json\t\tiris.csv\n"
     ]
    }
   ],
   "source": [
    "ls data*"
   ]
  },
  {
   "cell_type": "markdown",
   "metadata": {},
   "source": [
    "### Compress concatenated file"
   ]
  },
  {
   "cell_type": "code",
   "execution_count": 54,
   "metadata": {
    "collapsed": true
   },
   "outputs": [],
   "source": [
    "gzip data.tar"
   ]
  },
  {
   "cell_type": "code",
   "execution_count": 55,
   "metadata": {},
   "outputs": [
    {
     "name": "stdout",
     "output_type": "stream",
     "text": [
      "data.tar.gz\n",
      "\n",
      "data2:\n",
      "Chinook_Sqlite.sqlite\tclose.feather\t\tiris24.csv\n",
      "X.txt\t\t\tcloseR.feather\t\tsim.hdf5\n",
      "Y.txt\t\t\tdata\t\t\tslides.md\n",
      "Y1.txt\t\t\texample.fna\t\ttitanic.csv\n",
      "Y2.txt\t\t\tfood_and_groups.csv\tusda.db\n",
      "bulbasaur.pickle\tforbes.csv\n",
      "cheri.json\t\tiris.csv\n"
     ]
    }
   ],
   "source": [
    "ls data*"
   ]
  },
  {
   "cell_type": "markdown",
   "metadata": {},
   "source": [
    "### Uncompress"
   ]
  },
  {
   "cell_type": "code",
   "execution_count": 56,
   "metadata": {
    "collapsed": true
   },
   "outputs": [],
   "source": [
    "gunzip data.tar.gz"
   ]
  },
  {
   "cell_type": "code",
   "execution_count": 57,
   "metadata": {},
   "outputs": [
    {
     "name": "stdout",
     "output_type": "stream",
     "text": [
      "data.tar\n",
      "\n",
      "data2:\n",
      "Chinook_Sqlite.sqlite\tclose.feather\t\tiris24.csv\n",
      "X.txt\t\t\tcloseR.feather\t\tsim.hdf5\n",
      "Y.txt\t\t\tdata\t\t\tslides.md\n",
      "Y1.txt\t\t\texample.fna\t\ttitanic.csv\n",
      "Y2.txt\t\t\tfood_and_groups.csv\tusda.db\n",
      "bulbasaur.pickle\tforbes.csv\n",
      "cheri.json\t\tiris.csv\n"
     ]
    }
   ],
   "source": [
    "ls data*"
   ]
  },
  {
   "cell_type": "markdown",
   "metadata": {},
   "source": [
    "### Recover original files"
   ]
  },
  {
   "cell_type": "code",
   "execution_count": 58,
   "metadata": {},
   "outputs": [
    {
     "name": "stdout",
     "output_type": "stream",
     "text": [
      "x data/\n",
      "x data/food_and_groups.csv\n",
      "x data/._forbes.csv\n",
      "x data/forbes.csv\n",
      "x data/iris.csv\n",
      "x data/iris24.csv\n",
      "x data/._titanic.csv\n",
      "x data/titanic.csv\n",
      "x data/X.txt\n",
      "x data/Y.txt\n",
      "x data/Y1.txt\n",
      "x data/Y2.txt\n"
     ]
    }
   ],
   "source": [
    "tar -xvf data.tar"
   ]
  },
  {
   "cell_type": "code",
   "execution_count": 59,
   "metadata": {},
   "outputs": [
    {
     "name": "stdout",
     "output_type": "stream",
     "text": [
      "data.tar\n",
      "\n",
      "data:\n",
      "X.txt\t\t\tY2.txt\t\t\tiris.csv\n",
      "Y.txt\t\t\tfood_and_groups.csv\tiris24.csv\n",
      "Y1.txt\t\t\tforbes.csv\t\ttitanic.csv\n",
      "\n",
      "data2:\n",
      "Chinook_Sqlite.sqlite\tclose.feather\t\tiris24.csv\n",
      "X.txt\t\t\tcloseR.feather\t\tsim.hdf5\n",
      "Y.txt\t\t\tdata\t\t\tslides.md\n",
      "Y1.txt\t\t\texample.fna\t\ttitanic.csv\n",
      "Y2.txt\t\t\tfood_and_groups.csv\tusda.db\n",
      "bulbasaur.pickle\tforbes.csv\n",
      "cheri.json\t\tiris.csv\n"
     ]
    }
   ],
   "source": [
    "ls data*"
   ]
  },
  {
   "cell_type": "code",
   "execution_count": 60,
   "metadata": {
    "collapsed": true
   },
   "outputs": [],
   "source": [
    "rm data.tar"
   ]
  },
  {
   "cell_type": "markdown",
   "metadata": {},
   "source": [
    "### Concatenate and compress"
   ]
  },
  {
   "cell_type": "code",
   "execution_count": 61,
   "metadata": {},
   "outputs": [
    {
     "name": "stdout",
     "output_type": "stream",
     "text": [
      "a data\n",
      "a data/food_and_groups.csv\n",
      "a data/forbes.csv\n",
      "a data/iris.csv\n",
      "a data/iris24.csv\n",
      "a data/titanic.csv\n",
      "a data/X.txt\n",
      "a data/Y.txt\n",
      "a data/Y1.txt\n",
      "a data/Y2.txt\n"
     ]
    }
   ],
   "source": [
    "tar -cvzf data.tar.gz data"
   ]
  },
  {
   "cell_type": "code",
   "execution_count": 62,
   "metadata": {
    "collapsed": true
   },
   "outputs": [],
   "source": [
    "rm -rf data/"
   ]
  },
  {
   "cell_type": "code",
   "execution_count": 63,
   "metadata": {},
   "outputs": [
    {
     "name": "stdout",
     "output_type": "stream",
     "text": [
      "data.tar.gz\n",
      "\n",
      "data2:\n",
      "Chinook_Sqlite.sqlite\tclose.feather\t\tiris24.csv\n",
      "X.txt\t\t\tcloseR.feather\t\tsim.hdf5\n",
      "Y.txt\t\t\tdata\t\t\tslides.md\n",
      "Y1.txt\t\t\texample.fna\t\ttitanic.csv\n",
      "Y2.txt\t\t\tfood_and_groups.csv\tusda.db\n",
      "bulbasaur.pickle\tforbes.csv\n",
      "cheri.json\t\tiris.csv\n"
     ]
    }
   ],
   "source": [
    "ls data*"
   ]
  },
  {
   "cell_type": "markdown",
   "metadata": {},
   "source": [
    "### Uncompress and recover"
   ]
  },
  {
   "cell_type": "code",
   "execution_count": 64,
   "metadata": {},
   "outputs": [
    {
     "name": "stdout",
     "output_type": "stream",
     "text": [
      "x data/\n",
      "x data/food_and_groups.csv\n",
      "x data/._forbes.csv\n",
      "x data/forbes.csv\n",
      "x data/iris.csv\n",
      "x data/iris24.csv\n",
      "x data/._titanic.csv\n",
      "x data/titanic.csv\n",
      "x data/X.txt\n",
      "x data/Y.txt\n",
      "x data/Y1.txt\n",
      "x data/Y2.txt\n"
     ]
    }
   ],
   "source": [
    "tar -xvzf data.tar.gz"
   ]
  },
  {
   "cell_type": "code",
   "execution_count": 65,
   "metadata": {},
   "outputs": [
    {
     "name": "stdout",
     "output_type": "stream",
     "text": [
      "data.tar.gz\n",
      "\n",
      "data:\n",
      "X.txt\t\t\tY2.txt\t\t\tiris.csv\n",
      "Y.txt\t\t\tfood_and_groups.csv\tiris24.csv\n",
      "Y1.txt\t\t\tforbes.csv\t\ttitanic.csv\n",
      "\n",
      "data2:\n",
      "Chinook_Sqlite.sqlite\tclose.feather\t\tiris24.csv\n",
      "X.txt\t\t\tcloseR.feather\t\tsim.hdf5\n",
      "Y.txt\t\t\tdata\t\t\tslides.md\n",
      "Y1.txt\t\t\texample.fna\t\ttitanic.csv\n",
      "Y2.txt\t\t\tfood_and_groups.csv\tusda.db\n",
      "bulbasaur.pickle\tforbes.csv\n",
      "cheri.json\t\tiris.csv\n"
     ]
    }
   ],
   "source": [
    "ls data*"
   ]
  },
  {
   "cell_type": "code",
   "execution_count": 66,
   "metadata": {
    "collapsed": true
   },
   "outputs": [],
   "source": [
    "rm data.tar.gz"
   ]
  },
  {
   "cell_type": "markdown",
   "metadata": {
    "collapsed": true
   },
   "source": [
    "### Checksums\n",
    "\n",
    "When working with genomic data, we deal with very large files. There is a small risk that these files will be corrupted over time or during data transfer. To ensure that files are not changed, we use a \"checksum\" function. This is a function that generates an long, essentially random number called a checksum that represents the contents of the file. When the file contents change, so will the checksum. In theory, there is a very small probability that two different files generate the same checksum, but in practice the probability is too small to worry about.\n",
    "\n",
    "There are several different algorithms for generating the checksums, and at least 3 Unix commands to do so, but they all work very similarly for our purposes.\n",
    "\n",
    "The strategy is:\n",
    "\n",
    "- Generate and store a checksum together with a data file whose integrity you care about\n",
    "- When you use or download the data, re-generate the checksum (using the same algorithm e.g. MD5) and compare with the checksum"
   ]
  },
  {
   "cell_type": "code",
   "execution_count": 1,
   "metadata": {},
   "outputs": [
    {
     "name": "stdout",
     "output_type": "stream",
     "text": [
      "1 Hello, bash\n",
      "2 Hello, again\n",
      "3 Hello\n",
      "4 again\n"
     ]
    }
   ],
   "source": [
    "cat hello.txt"
   ]
  },
  {
   "cell_type": "code",
   "execution_count": 4,
   "metadata": {},
   "outputs": [
    {
     "name": "stdout",
     "output_type": "stream",
     "text": [
      "1567754519 45 hello.txt\n"
     ]
    }
   ],
   "source": [
    "cksum hello.txt"
   ]
  },
  {
   "cell_type": "code",
   "execution_count": 13,
   "metadata": {},
   "outputs": [
    {
     "name": "stdout",
     "output_type": "stream",
     "text": [
      "a68554400613f5445c13c57907e976ed  hello.txt\n"
     ]
    }
   ],
   "source": [
    "md5sum hello.txt"
   ]
  },
  {
   "cell_type": "code",
   "execution_count": 14,
   "metadata": {},
   "outputs": [
    {
     "name": "stdout",
     "output_type": "stream",
     "text": [
      "57eae725420bf0075d17f849cc8e75379bea6eb6  hello.txt\n"
     ]
    }
   ],
   "source": [
    "sha1sum hello.txt"
   ]
  },
  {
   "cell_type": "markdown",
   "metadata": {},
   "source": [
    "### If we alter hello.txt in any way the checksum will be different"
   ]
  },
  {
   "cell_type": "code",
   "execution_count": 22,
   "metadata": {},
   "outputs": [
    {
     "name": "stdout",
     "output_type": "stream",
     "text": [
      "1 Hello, bash\n",
      "2 Hello, again\n",
      "3 Hello\n",
      "4 again\n"
     ]
    }
   ],
   "source": [
    "cat hello.txt"
   ]
  },
  {
   "cell_type": "code",
   "execution_count": 23,
   "metadata": {
    "collapsed": true
   },
   "outputs": [],
   "source": [
    "md5sum hello.txt > hello.md5"
   ]
  },
  {
   "cell_type": "code",
   "execution_count": 24,
   "metadata": {},
   "outputs": [
    {
     "name": "stdout",
     "output_type": "stream",
     "text": [
      "a68554400613f5445c13c57907e976ed  hello.txt\n"
     ]
    }
   ],
   "source": [
    "cat hello.md5"
   ]
  },
  {
   "cell_type": "markdown",
   "metadata": {},
   "source": [
    "Now make a small change to `hello.txt`"
   ]
  },
  {
   "cell_type": "code",
   "execution_count": null,
   "metadata": {
    "collapsed": true
   },
   "outputs": [],
   "source": [
    "cat > test1.txt << EOF\n",
    "One, two buckle my shoe\n",
    "Three, four lock the door\n",
    "EOF"
   ]
  },
  {
   "cell_type": "code",
   "execution_count": 48,
   "metadata": {
    "collapsed": true
   },
   "outputs": [],
   "source": [
    "cat > hello.txt << EOF\n",
    "1 Hello, bash\n",
    "2 Hella, again\n",
    "3 Hello\n",
    "4 again\n",
    "EOF"
   ]
  },
  {
   "cell_type": "code",
   "execution_count": 31,
   "metadata": {},
   "outputs": [
    {
     "name": "stdout",
     "output_type": "stream",
     "text": [
      "1 Hello, bash\n",
      "2 Hella, again\n",
      "3 Hello\n",
      "4 again\n"
     ]
    }
   ],
   "source": [
    "cat hello.txt"
   ]
  },
  {
   "cell_type": "code",
   "execution_count": 33,
   "metadata": {},
   "outputs": [
    {
     "name": "stdout",
     "output_type": "stream",
     "text": [
      "0d8c8172f2a69f5845f21cb03a436be3  hello.txt\n"
     ]
    }
   ],
   "source": [
    "md5sum hello.txt"
   ]
  },
  {
   "cell_type": "code",
   "execution_count": 49,
   "metadata": {},
   "outputs": [
    {
     "name": "stdout",
     "output_type": "stream",
     "text": [
      "hello.txt: FAILED\n",
      "md5sum: WARNING: 1 of 1 computed checksums did NOT match\n"
     ]
    },
    {
     "ename": "",
     "evalue": "1",
     "output_type": "error",
     "traceback": []
    }
   ],
   "source": [
    "md5sum -c hello.md5"
   ]
  },
  {
   "cell_type": "markdown",
   "metadata": {},
   "source": [
    "#### Restore original text"
   ]
  },
  {
   "cell_type": "code",
   "execution_count": 50,
   "metadata": {
    "collapsed": true
   },
   "outputs": [],
   "source": [
    "cat > hello.txt << EOF\n",
    "1 Hello, bash\n",
    "2 Hello, again\n",
    "3 Hello\n",
    "4 again\n",
    "EOF"
   ]
  },
  {
   "cell_type": "code",
   "execution_count": 51,
   "metadata": {
    "collapsed": true
   },
   "outputs": [],
   "source": [
    "md5sum hello.txt > test.md5"
   ]
  },
  {
   "cell_type": "code",
   "execution_count": 52,
   "metadata": {},
   "outputs": [
    {
     "name": "stdout",
     "output_type": "stream",
     "text": [
      "hello.txt: OK\n"
     ]
    }
   ],
   "source": [
    "md5sum -c hello.md5"
   ]
  },
  {
   "cell_type": "markdown",
   "metadata": {},
   "source": [
    "### Checksums for multiple files"
   ]
  },
  {
   "cell_type": "code",
   "execution_count": 53,
   "metadata": {
    "collapsed": true
   },
   "outputs": [],
   "source": [
    "echo \"aaaaa\" > a.txt\n",
    "echo \"bbbbb\" > b.txt\n",
    "echo \"ccccc\" > c.txt"
   ]
  },
  {
   "cell_type": "markdown",
   "metadata": {},
   "source": [
    "#### Generate md5 checksum file"
   ]
  },
  {
   "cell_type": "code",
   "execution_count": 54,
   "metadata": {
    "collapsed": true
   },
   "outputs": [],
   "source": [
    "md5sum a.txt b.txt c.txt > MD5_CHECKSUM"
   ]
  },
  {
   "cell_type": "code",
   "execution_count": 55,
   "metadata": {},
   "outputs": [
    {
     "name": "stdout",
     "output_type": "stream",
     "text": [
      "4c850c5b3b2756e67a91bad8e046ddac  a.txt\n",
      "369d9bb6f2313be57f7a55502eb420ba  b.txt\n",
      "34d9ae3c9b1fa64d91bdb00f3c0d6cd5  c.txt\n"
     ]
    }
   ],
   "source": [
    "cat MD5_CHECKSUM"
   ]
  },
  {
   "cell_type": "markdown",
   "metadata": {},
   "source": [
    "##### Modify one file"
   ]
  },
  {
   "cell_type": "code",
   "execution_count": 56,
   "metadata": {
    "collapsed": true
   },
   "outputs": [],
   "source": [
    "echo \"bbcbb\" > b.txt"
   ]
  },
  {
   "cell_type": "markdown",
   "metadata": {},
   "source": [
    "#### Check file integrity for all files"
   ]
  },
  {
   "cell_type": "code",
   "execution_count": 57,
   "metadata": {},
   "outputs": [
    {
     "name": "stdout",
     "output_type": "stream",
     "text": [
      "a.txt: OK\n",
      "b.txt: FAILED\n",
      "c.txt: OK\n",
      "md5sum: WARNING: 1 of 3 computed checksums did NOT match\n"
     ]
    },
    {
     "ename": "",
     "evalue": "1",
     "output_type": "error",
     "traceback": []
    }
   ],
   "source": [
    "md5sum -c MD5_CHECKSUM"
   ]
  },
  {
   "cell_type": "code",
   "execution_count": null,
   "metadata": {
    "collapsed": true
   },
   "outputs": [],
   "source": []
  }
 ],
 "metadata": {
  "kernelspec": {
   "display_name": "Bash",
   "language": "bash",
   "name": "bash"
  },
  "language_info": {
   "codemirror_mode": "shell",
   "file_extension": ".sh",
   "mimetype": "text/x-sh",
   "name": "bash"
  }
 },
 "nbformat": 4,
 "nbformat_minor": 2
}
