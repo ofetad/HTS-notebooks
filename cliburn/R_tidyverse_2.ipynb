{
 "cells": [
  {
   "cell_type": "markdown",
   "metadata": {},
   "source": [
    "# Using `tidyr` to create tidy data sets"
   ]
  },
  {
   "cell_type": "markdown",
   "metadata": {},
   "source": [
    "**Description**\n",
    "> Easily Tidy Data with 'spread()' and 'gather()' Functions\n",
    "\n",
    "A tidy data frame is one where\n",
    "\n",
    "- Each column is a variable\n",
    "- Each row is an observatino\n",
    "- Each value is a cell\n",
    "\n",
    "As we have seen, tidy data sets can be easily plotted with `ggplot2` and manipulated with `dplyr`. In this notebook, we see how to convert messy data sets into tidy ones using the verbs `gather`, `spread`, `separate`, `extract`, `separte_rows` and `unite`.\n",
    "\n",
    "For more complicated tidying jobs, see the full range of functions in the [`tidyr` documentation](https://cran.r-project.org/web/packages/tidyr/tidyr.pdf)."
   ]
  },
  {
   "cell_type": "raw",
   "metadata": {},
   "source": [
    "library(tidyverse)"
   ]
  },
  {
   "cell_type": "markdown",
   "metadata": {},
   "source": [
    "## Data\n",
    "\n",
    "We will work with a subset of the pilot metadata that we are familiar with from the `dplyr` session."
   ]
  },
  {
   "cell_type": "code",
   "execution_count": 3,
   "metadata": {},
   "outputs": [],
   "source": [
    "path='../josh/info/2018_pilot_metadata.tsv'"
   ]
  },
  {
   "cell_type": "code",
   "execution_count": 4,
   "metadata": {},
   "outputs": [
    {
     "name": "stderr",
     "output_type": "stream",
     "text": [
      "Parsed with column specification:\n",
      "cols(\n",
      "  Label = col_character(),\n",
      "  RNA_sample_num = col_integer(),\n",
      "  Media = col_character(),\n",
      "  Strain = col_character(),\n",
      "  Replicate = col_integer(),\n",
      "  experiment_person = col_character(),\n",
      "  libprep_person = col_character(),\n",
      "  enrichment_method = col_character(),\n",
      "  RIN = col_double(),\n",
      "  concentration_fold_difference = col_double(),\n",
      "  `i7 index` = col_character(),\n",
      "  `i5 index` = col_character(),\n",
      "  `i5 primer` = col_character(),\n",
      "  `i7 primer` = col_character(),\n",
      "  `library#` = col_integer()\n",
      ")\n"
     ]
    }
   ],
   "source": [
    "df <- read_tsv(path)"
   ]
  },
  {
   "cell_type": "markdown",
   "metadata": {},
   "source": [
    "### Subset the data"
   ]
  },
  {
   "cell_type": "code",
   "execution_count": 10,
   "metadata": {},
   "outputs": [],
   "source": [
    "df <- df %>% select(\n",
    "    Label,\n",
    "    RNA_sample_num,\n",
    "    Media,\n",
    "    Strain,\n",
    "    Replicate,\n",
    "    concentration_fold_difference,\n",
    "    `i7 index`,\n",
    "    `i5 index`,  \n",
    "    `i5 primer`,\n",
    "    `i7 primer`,\n",
    ")"
   ]
  },
  {
   "cell_type": "code",
   "execution_count": 11,
   "metadata": {},
   "outputs": [
    {
     "data": {
      "text/html": [
       "<table>\n",
       "<thead><tr><th scope=col>Label</th><th scope=col>RNA_sample_num</th><th scope=col>Media</th><th scope=col>Strain</th><th scope=col>Replicate</th><th scope=col>concentration_fold_difference</th><th scope=col>i7 index</th><th scope=col>i5 index</th><th scope=col>i5 primer</th><th scope=col>i7 primer</th></tr></thead>\n",
       "<tbody>\n",
       "\t<tr><td>2_MA_C  </td><td> 2      </td><td>YPD     </td><td>H99     </td><td>2       </td><td>1.34    </td><td>ATTACTCG</td><td>AGGCTATA</td><td>i501    </td><td>i701    </td></tr>\n",
       "\t<tr><td>9_MA_C  </td><td> 9      </td><td>YPD     </td><td>mar1d   </td><td>3       </td><td>2.23    </td><td>ATTACTCG</td><td>GCCTCTAT</td><td>i502    </td><td>i701    </td></tr>\n",
       "\t<tr><td>10_MA_C </td><td>10      </td><td>YPD     </td><td>mar1d   </td><td>4       </td><td>4.37    </td><td>ATTACTCG</td><td>AGGATAGG</td><td>i503    </td><td>i701    </td></tr>\n",
       "\t<tr><td>14_MA_C </td><td>14      </td><td>TC      </td><td>H99     </td><td>2       </td><td>1.57    </td><td>ATTACTCG</td><td>TCAGAGCC</td><td>i504    </td><td>i701    </td></tr>\n",
       "\t<tr><td>15_MA_C </td><td>15      </td><td>TC      </td><td>H99     </td><td>3       </td><td>2.85    </td><td>ATTACTCG</td><td>CTTCGCCT</td><td>i505    </td><td>i701    </td></tr>\n",
       "\t<tr><td>21_MA_C </td><td>21      </td><td>TC      </td><td>mar1d   </td><td>3       </td><td>1.81    </td><td>ATTACTCG</td><td>TAAGATTA</td><td>i506    </td><td>i701    </td></tr>\n",
       "</tbody>\n",
       "</table>\n"
      ],
      "text/latex": [
       "\\begin{tabular}{r|llllllllll}\n",
       " Label & RNA\\_sample\\_num & Media & Strain & Replicate & concentration\\_fold\\_difference & i7 index & i5 index & i5 primer & i7 primer\\\\\n",
       "\\hline\n",
       "\t 2\\_MA\\_C  &  2          & YPD         & H99         & 2           & 1.34        & ATTACTCG    & AGGCTATA    & i501        & i701       \\\\\n",
       "\t 9\\_MA\\_C  &  9          & YPD         & mar1d       & 3           & 2.23        & ATTACTCG    & GCCTCTAT    & i502        & i701       \\\\\n",
       "\t 10\\_MA\\_C & 10          & YPD         & mar1d       & 4           & 4.37        & ATTACTCG    & AGGATAGG    & i503        & i701       \\\\\n",
       "\t 14\\_MA\\_C & 14          & TC          & H99         & 2           & 1.57        & ATTACTCG    & TCAGAGCC    & i504        & i701       \\\\\n",
       "\t 15\\_MA\\_C & 15          & TC          & H99         & 3           & 2.85        & ATTACTCG    & CTTCGCCT    & i505        & i701       \\\\\n",
       "\t 21\\_MA\\_C & 21          & TC          & mar1d       & 3           & 1.81        & ATTACTCG    & TAAGATTA    & i506        & i701       \\\\\n",
       "\\end{tabular}\n"
      ],
      "text/markdown": [
       "\n",
       "Label | RNA_sample_num | Media | Strain | Replicate | concentration_fold_difference | i7 index | i5 index | i5 primer | i7 primer | \n",
       "|---|---|---|---|---|---|\n",
       "| 2_MA_C   |  2       | YPD      | H99      | 2        | 1.34     | ATTACTCG | AGGCTATA | i501     | i701     | \n",
       "| 9_MA_C   |  9       | YPD      | mar1d    | 3        | 2.23     | ATTACTCG | GCCTCTAT | i502     | i701     | \n",
       "| 10_MA_C  | 10       | YPD      | mar1d    | 4        | 4.37     | ATTACTCG | AGGATAGG | i503     | i701     | \n",
       "| 14_MA_C  | 14       | TC       | H99      | 2        | 1.57     | ATTACTCG | TCAGAGCC | i504     | i701     | \n",
       "| 15_MA_C  | 15       | TC       | H99      | 3        | 2.85     | ATTACTCG | CTTCGCCT | i505     | i701     | \n",
       "| 21_MA_C  | 21       | TC       | mar1d    | 3        | 1.81     | ATTACTCG | TAAGATTA | i506     | i701     | \n",
       "\n",
       "\n"
      ],
      "text/plain": [
       "  Label   RNA_sample_num Media Strain Replicate concentration_fold_difference\n",
       "1 2_MA_C   2             YPD   H99    2         1.34                         \n",
       "2 9_MA_C   9             YPD   mar1d  3         2.23                         \n",
       "3 10_MA_C 10             YPD   mar1d  4         4.37                         \n",
       "4 14_MA_C 14             TC    H99    2         1.57                         \n",
       "5 15_MA_C 15             TC    H99    3         2.85                         \n",
       "6 21_MA_C 21             TC    mar1d  3         1.81                         \n",
       "  i7 index i5 index i5 primer i7 primer\n",
       "1 ATTACTCG AGGCTATA i501      i701     \n",
       "2 ATTACTCG GCCTCTAT i502      i701     \n",
       "3 ATTACTCG AGGATAGG i503      i701     \n",
       "4 ATTACTCG TCAGAGCC i504      i701     \n",
       "5 ATTACTCG CTTCGCCT i505      i701     \n",
       "6 ATTACTCG TAAGATTA i506      i701     "
      ]
     },
     "metadata": {},
     "output_type": "display_data"
    }
   ],
   "source": [
    "head(df)"
   ]
  },
  {
   "cell_type": "markdown",
   "metadata": {},
   "source": [
    "## 1. Use `gather` to combine multiple columns into one\n",
    "\n",
    "We note thet there are two \"index\" and \"primer\" columns - for a tidy data frame, we probably want to combine them. We cna do this using `gather`."
   ]
  },
  {
   "cell_type": "markdown",
   "metadata": {},
   "source": [
    "### Warm-up\n",
    "\n",
    "The use of `gather` can be confusing, so we will start with a toy example."
   ]
  },
  {
   "cell_type": "code",
   "execution_count": 90,
   "metadata": {},
   "outputs": [],
   "source": [
    "name <- c('ann', 'bob', 'charlie')\n",
    "jan <- c(102, 155, 211)\n",
    "feb <- c(112, 150, 211)\n",
    "mar <- c(123, 147, 213)\n",
    "apr <- c(130, 140, 210)\n",
    "\n",
    "wts <- tibble(name=name, jan=jan, feb=feb, mar=mar, apr=apr)"
   ]
  },
  {
   "cell_type": "code",
   "execution_count": 91,
   "metadata": {},
   "outputs": [
    {
     "data": {
      "text/html": [
       "<table>\n",
       "<thead><tr><th scope=col>name</th><th scope=col>jan</th><th scope=col>feb</th><th scope=col>mar</th><th scope=col>apr</th></tr></thead>\n",
       "<tbody>\n",
       "\t<tr><td>ann    </td><td>102    </td><td>112    </td><td>123    </td><td>130    </td></tr>\n",
       "\t<tr><td>bob    </td><td>155    </td><td>150    </td><td>147    </td><td>140    </td></tr>\n",
       "\t<tr><td>charlie</td><td>211    </td><td>211    </td><td>213    </td><td>210    </td></tr>\n",
       "</tbody>\n",
       "</table>\n"
      ],
      "text/latex": [
       "\\begin{tabular}{r|lllll}\n",
       " name & jan & feb & mar & apr\\\\\n",
       "\\hline\n",
       "\t ann     & 102     & 112     & 123     & 130    \\\\\n",
       "\t bob     & 155     & 150     & 147     & 140    \\\\\n",
       "\t charlie & 211     & 211     & 213     & 210    \\\\\n",
       "\\end{tabular}\n"
      ],
      "text/markdown": [
       "\n",
       "name | jan | feb | mar | apr | \n",
       "|---|---|---|\n",
       "| ann     | 102     | 112     | 123     | 130     | \n",
       "| bob     | 155     | 150     | 147     | 140     | \n",
       "| charlie | 211     | 211     | 213     | 210     | \n",
       "\n",
       "\n"
      ],
      "text/plain": [
       "  name    jan feb mar apr\n",
       "1 ann     102 112 123 130\n",
       "2 bob     155 150 147 140\n",
       "3 charlie 211 211 213 210"
      ]
     },
     "metadata": {},
     "output_type": "display_data"
    }
   ],
   "source": [
    "wts"
   ]
  },
  {
   "cell_type": "markdown",
   "metadata": {},
   "source": [
    "### Messy data\n",
    "\n",
    "In the current form, it is not possible to subgroup by month or to plot by month easily."
   ]
  },
  {
   "cell_type": "markdown",
   "metadata": {},
   "source": [
    "### Using `gather` to creat a new column called `weight` to store monthly weights"
   ]
  },
  {
   "cell_type": "code",
   "execution_count": 93,
   "metadata": {},
   "outputs": [
    {
     "data": {
      "text/html": [
       "<table>\n",
       "<thead><tr><th scope=col>name</th><th scope=col>month</th><th scope=col>weight</th></tr></thead>\n",
       "<tbody>\n",
       "\t<tr><td>ann    </td><td>jan    </td><td>102    </td></tr>\n",
       "\t<tr><td>bob    </td><td>jan    </td><td>155    </td></tr>\n",
       "\t<tr><td>charlie</td><td>jan    </td><td>211    </td></tr>\n",
       "\t<tr><td>ann    </td><td>feb    </td><td>112    </td></tr>\n",
       "\t<tr><td>bob    </td><td>feb    </td><td>150    </td></tr>\n",
       "\t<tr><td>charlie</td><td>feb    </td><td>211    </td></tr>\n",
       "\t<tr><td>ann    </td><td>mar    </td><td>123    </td></tr>\n",
       "\t<tr><td>bob    </td><td>mar    </td><td>147    </td></tr>\n",
       "\t<tr><td>charlie</td><td>mar    </td><td>213    </td></tr>\n",
       "\t<tr><td>ann    </td><td>apr    </td><td>130    </td></tr>\n",
       "\t<tr><td>bob    </td><td>apr    </td><td>140    </td></tr>\n",
       "\t<tr><td>charlie</td><td>apr    </td><td>210    </td></tr>\n",
       "</tbody>\n",
       "</table>\n"
      ],
      "text/latex": [
       "\\begin{tabular}{r|lll}\n",
       " name & month & weight\\\\\n",
       "\\hline\n",
       "\t ann     & jan     & 102    \\\\\n",
       "\t bob     & jan     & 155    \\\\\n",
       "\t charlie & jan     & 211    \\\\\n",
       "\t ann     & feb     & 112    \\\\\n",
       "\t bob     & feb     & 150    \\\\\n",
       "\t charlie & feb     & 211    \\\\\n",
       "\t ann     & mar     & 123    \\\\\n",
       "\t bob     & mar     & 147    \\\\\n",
       "\t charlie & mar     & 213    \\\\\n",
       "\t ann     & apr     & 130    \\\\\n",
       "\t bob     & apr     & 140    \\\\\n",
       "\t charlie & apr     & 210    \\\\\n",
       "\\end{tabular}\n"
      ],
      "text/markdown": [
       "\n",
       "name | month | weight | \n",
       "|---|---|---|---|---|---|---|---|---|---|---|---|\n",
       "| ann     | jan     | 102     | \n",
       "| bob     | jan     | 155     | \n",
       "| charlie | jan     | 211     | \n",
       "| ann     | feb     | 112     | \n",
       "| bob     | feb     | 150     | \n",
       "| charlie | feb     | 211     | \n",
       "| ann     | mar     | 123     | \n",
       "| bob     | mar     | 147     | \n",
       "| charlie | mar     | 213     | \n",
       "| ann     | apr     | 130     | \n",
       "| bob     | apr     | 140     | \n",
       "| charlie | apr     | 210     | \n",
       "\n",
       "\n"
      ],
      "text/plain": [
       "   name    month weight\n",
       "1  ann     jan   102   \n",
       "2  bob     jan   155   \n",
       "3  charlie jan   211   \n",
       "4  ann     feb   112   \n",
       "5  bob     feb   150   \n",
       "6  charlie feb   211   \n",
       "7  ann     mar   123   \n",
       "8  bob     mar   147   \n",
       "9  charlie mar   213   \n",
       "10 ann     apr   130   \n",
       "11 bob     apr   140   \n",
       "12 charlie apr   210   "
      ]
     },
     "metadata": {},
     "output_type": "display_data"
    }
   ],
   "source": [
    "wts %>% gather(key=month, value=weight, jan:apr)"
   ]
  },
  {
   "cell_type": "code",
   "execution_count": 97,
   "metadata": {},
   "outputs": [],
   "source": [
    "wts.1 <- wts %>% gather(key=month, value=weight, jan:apr)"
   ]
  },
  {
   "cell_type": "markdown",
   "metadata": {},
   "source": [
    "### To get menth sorted correctly, we make it a factor"
   ]
  },
  {
   "cell_type": "code",
   "execution_count": 102,
   "metadata": {},
   "outputs": [
    {
     "data": {
      "text/html": [
       "<table>\n",
       "<thead><tr><th scope=col>name</th><th scope=col>month</th><th scope=col>weight</th></tr></thead>\n",
       "<tbody>\n",
       "\t<tr><td>ann    </td><td>jan    </td><td>102    </td></tr>\n",
       "\t<tr><td>bob    </td><td>jan    </td><td>155    </td></tr>\n",
       "\t<tr><td>charlie</td><td>jan    </td><td>211    </td></tr>\n",
       "\t<tr><td>ann    </td><td>feb    </td><td>112    </td></tr>\n",
       "\t<tr><td>bob    </td><td>feb    </td><td>150    </td></tr>\n",
       "\t<tr><td>charlie</td><td>feb    </td><td>211    </td></tr>\n",
       "\t<tr><td>ann    </td><td>mar    </td><td>123    </td></tr>\n",
       "\t<tr><td>bob    </td><td>mar    </td><td>147    </td></tr>\n",
       "\t<tr><td>charlie</td><td>mar    </td><td>213    </td></tr>\n",
       "\t<tr><td>ann    </td><td>apr    </td><td>130    </td></tr>\n",
       "\t<tr><td>bob    </td><td>apr    </td><td>140    </td></tr>\n",
       "\t<tr><td>charlie</td><td>apr    </td><td>210    </td></tr>\n",
       "</tbody>\n",
       "</table>\n"
      ],
      "text/latex": [
       "\\begin{tabular}{r|lll}\n",
       " name & month & weight\\\\\n",
       "\\hline\n",
       "\t ann     & jan     & 102    \\\\\n",
       "\t bob     & jan     & 155    \\\\\n",
       "\t charlie & jan     & 211    \\\\\n",
       "\t ann     & feb     & 112    \\\\\n",
       "\t bob     & feb     & 150    \\\\\n",
       "\t charlie & feb     & 211    \\\\\n",
       "\t ann     & mar     & 123    \\\\\n",
       "\t bob     & mar     & 147    \\\\\n",
       "\t charlie & mar     & 213    \\\\\n",
       "\t ann     & apr     & 130    \\\\\n",
       "\t bob     & apr     & 140    \\\\\n",
       "\t charlie & apr     & 210    \\\\\n",
       "\\end{tabular}\n"
      ],
      "text/markdown": [
       "\n",
       "name | month | weight | \n",
       "|---|---|---|---|---|---|---|---|---|---|---|---|\n",
       "| ann     | jan     | 102     | \n",
       "| bob     | jan     | 155     | \n",
       "| charlie | jan     | 211     | \n",
       "| ann     | feb     | 112     | \n",
       "| bob     | feb     | 150     | \n",
       "| charlie | feb     | 211     | \n",
       "| ann     | mar     | 123     | \n",
       "| bob     | mar     | 147     | \n",
       "| charlie | mar     | 213     | \n",
       "| ann     | apr     | 130     | \n",
       "| bob     | apr     | 140     | \n",
       "| charlie | apr     | 210     | \n",
       "\n",
       "\n"
      ],
      "text/plain": [
       "   name    month weight\n",
       "1  ann     jan   102   \n",
       "2  bob     jan   155   \n",
       "3  charlie jan   211   \n",
       "4  ann     feb   112   \n",
       "5  bob     feb   150   \n",
       "6  charlie feb   211   \n",
       "7  ann     mar   123   \n",
       "8  bob     mar   147   \n",
       "9  charlie mar   213   \n",
       "10 ann     apr   130   \n",
       "11 bob     apr   140   \n",
       "12 charlie apr   210   "
      ]
     },
     "metadata": {},
     "output_type": "display_data"
    }
   ],
   "source": [
    "wts.1 %>% mutate(month = factor(month, \n",
    "                                ordered = TRUE, \n",
    "                                levels = c('jan', 'feb', 'mar', 'apr')))"
   ]
  },
  {
   "cell_type": "code",
   "execution_count": 103,
   "metadata": {},
   "outputs": [],
   "source": [
    "wts.2 <- wts.1 %>% mutate(month = factor(month, \n",
    "                                ordered = TRUE, \n",
    "                                levels = c('jan', 'feb', 'mar', 'apr')))"
   ]
  },
  {
   "cell_type": "markdown",
   "metadata": {},
   "source": [
    "### Now we can easily work wtih the tidy data set"
   ]
  },
  {
   "cell_type": "code",
   "execution_count": 106,
   "metadata": {},
   "outputs": [
    {
     "data": {
      "text/html": [
       "<table>\n",
       "<thead><tr><th scope=col>month</th><th scope=col>min</th><th scope=col>max</th><th scope=col>mean</th></tr></thead>\n",
       "<tbody>\n",
       "\t<tr><td>jan     </td><td>102     </td><td>211     </td><td>156.0000</td></tr>\n",
       "\t<tr><td>feb     </td><td>112     </td><td>211     </td><td>157.6667</td></tr>\n",
       "\t<tr><td>mar     </td><td>123     </td><td>213     </td><td>161.0000</td></tr>\n",
       "\t<tr><td>apr     </td><td>130     </td><td>210     </td><td>160.0000</td></tr>\n",
       "</tbody>\n",
       "</table>\n"
      ],
      "text/latex": [
       "\\begin{tabular}{r|llll}\n",
       " month & min & max & mean\\\\\n",
       "\\hline\n",
       "\t jan      & 102      & 211      & 156.0000\\\\\n",
       "\t feb      & 112      & 211      & 157.6667\\\\\n",
       "\t mar      & 123      & 213      & 161.0000\\\\\n",
       "\t apr      & 130      & 210      & 160.0000\\\\\n",
       "\\end{tabular}\n"
      ],
      "text/markdown": [
       "\n",
       "month | min | max | mean | \n",
       "|---|---|---|---|\n",
       "| jan      | 102      | 211      | 156.0000 | \n",
       "| feb      | 112      | 211      | 157.6667 | \n",
       "| mar      | 123      | 213      | 161.0000 | \n",
       "| apr      | 130      | 210      | 160.0000 | \n",
       "\n",
       "\n"
      ],
      "text/plain": [
       "  month min max mean    \n",
       "1 jan   102 211 156.0000\n",
       "2 feb   112 211 157.6667\n",
       "3 mar   123 213 161.0000\n",
       "4 apr   130 210 160.0000"
      ]
     },
     "metadata": {},
     "output_type": "display_data"
    }
   ],
   "source": [
    "wts.2 %>% \n",
    "group_by(month) %>% \n",
    "summarize_at('weight', funs(min, max, mean)) "
   ]
  },
  {
   "cell_type": "code",
   "execution_count": 119,
   "metadata": {},
   "outputs": [],
   "source": [
    "options(repr.plot.width=6, repr.plot.height=3)"
   ]
  },
  {
   "cell_type": "code",
   "execution_count": 120,
   "metadata": {},
   "outputs": [
    {
     "data": {},
     "metadata": {},
     "output_type": "display_data"
    },
    {
     "data": {
      "image/png": "[encoded data removed]",
      "text/plain": [
       "plot without title"
      ]
     },
     "metadata": {},
     "output_type": "display_data"
    }
   ],
   "source": [
    "ggplot(wts.2, aes(x=month, y=weight, fill=name)) + \n",
    "geom_bar(stat='identity') + \n",
    "facet_wrap('name')"
   ]
  },
  {
   "cell_type": "markdown",
   "metadata": {},
   "source": [
    "### Using `gather` on experiment metadata"
   ]
  },
  {
   "cell_type": "code",
   "execution_count": 235,
   "metadata": {},
   "outputs": [
    {
     "data": {
      "text/html": [
       "<table>\n",
       "<thead><tr><th scope=col>Label</th><th scope=col>i7 index</th><th scope=col>i5 index</th></tr></thead>\n",
       "<tbody>\n",
       "\t<tr><td>2_MA_C  </td><td>ATTACTCG</td><td>AGGCTATA</td></tr>\n",
       "\t<tr><td>9_MA_C  </td><td>ATTACTCG</td><td>GCCTCTAT</td></tr>\n",
       "\t<tr><td>10_MA_C </td><td>ATTACTCG</td><td>AGGATAGG</td></tr>\n",
       "\t<tr><td>14_MA_C </td><td>ATTACTCG</td><td>TCAGAGCC</td></tr>\n",
       "\t<tr><td>15_MA_C </td><td>ATTACTCG</td><td>CTTCGCCT</td></tr>\n",
       "\t<tr><td>21_MA_C </td><td>ATTACTCG</td><td>TAAGATTA</td></tr>\n",
       "</tbody>\n",
       "</table>\n"
      ],
      "text/latex": [
       "\\begin{tabular}{r|lll}\n",
       " Label & i7 index & i5 index\\\\\n",
       "\\hline\n",
       "\t 2\\_MA\\_C  & ATTACTCG    & AGGCTATA   \\\\\n",
       "\t 9\\_MA\\_C  & ATTACTCG    & GCCTCTAT   \\\\\n",
       "\t 10\\_MA\\_C & ATTACTCG    & AGGATAGG   \\\\\n",
       "\t 14\\_MA\\_C & ATTACTCG    & TCAGAGCC   \\\\\n",
       "\t 15\\_MA\\_C & ATTACTCG    & CTTCGCCT   \\\\\n",
       "\t 21\\_MA\\_C & ATTACTCG    & TAAGATTA   \\\\\n",
       "\\end{tabular}\n"
      ],
      "text/markdown": [
       "\n",
       "Label | i7 index | i5 index | \n",
       "|---|---|---|---|---|---|\n",
       "| 2_MA_C   | ATTACTCG | AGGCTATA | \n",
       "| 9_MA_C   | ATTACTCG | GCCTCTAT | \n",
       "| 10_MA_C  | ATTACTCG | AGGATAGG | \n",
       "| 14_MA_C  | ATTACTCG | TCAGAGCC | \n",
       "| 15_MA_C  | ATTACTCG | CTTCGCCT | \n",
       "| 21_MA_C  | ATTACTCG | TAAGATTA | \n",
       "\n",
       "\n"
      ],
      "text/plain": [
       "  Label   i7 index i5 index\n",
       "1 2_MA_C  ATTACTCG AGGCTATA\n",
       "2 9_MA_C  ATTACTCG GCCTCTAT\n",
       "3 10_MA_C ATTACTCG AGGATAGG\n",
       "4 14_MA_C ATTACTCG TCAGAGCC\n",
       "5 15_MA_C ATTACTCG CTTCGCCT\n",
       "6 21_MA_C ATTACTCG TAAGATTA"
      ]
     },
     "metadata": {},
     "output_type": "display_data"
    }
   ],
   "source": [
    "df %>% \n",
    "select(Label, ends_with('index')) %>% \n",
    "head()"
   ]
  },
  {
   "cell_type": "code",
   "execution_count": 237,
   "metadata": {},
   "outputs": [
    {
     "data": {
      "text/html": [
       "<table>\n",
       "<thead><tr><th scope=col>Label</th><th scope=col>index</th><th scope=col>sequence</th></tr></thead>\n",
       "<tbody>\n",
       "\t<tr><td>2_MA_C  </td><td>i7 index</td><td>ATTACTCG</td></tr>\n",
       "\t<tr><td>9_MA_C  </td><td>i7 index</td><td>ATTACTCG</td></tr>\n",
       "\t<tr><td>10_MA_C </td><td>i7 index</td><td>ATTACTCG</td></tr>\n",
       "\t<tr><td>14_MA_C </td><td>i7 index</td><td>ATTACTCG</td></tr>\n",
       "\t<tr><td>15_MA_C </td><td>i7 index</td><td>ATTACTCG</td></tr>\n",
       "\t<tr><td>21_MA_C </td><td>i7 index</td><td>ATTACTCG</td></tr>\n",
       "</tbody>\n",
       "</table>\n"
      ],
      "text/latex": [
       "\\begin{tabular}{r|lll}\n",
       " Label & index & sequence\\\\\n",
       "\\hline\n",
       "\t 2\\_MA\\_C  & i7 index    & ATTACTCG   \\\\\n",
       "\t 9\\_MA\\_C  & i7 index    & ATTACTCG   \\\\\n",
       "\t 10\\_MA\\_C & i7 index    & ATTACTCG   \\\\\n",
       "\t 14\\_MA\\_C & i7 index    & ATTACTCG   \\\\\n",
       "\t 15\\_MA\\_C & i7 index    & ATTACTCG   \\\\\n",
       "\t 21\\_MA\\_C & i7 index    & ATTACTCG   \\\\\n",
       "\\end{tabular}\n"
      ],
      "text/markdown": [
       "\n",
       "Label | index | sequence | \n",
       "|---|---|---|---|---|---|\n",
       "| 2_MA_C   | i7 index | ATTACTCG | \n",
       "| 9_MA_C   | i7 index | ATTACTCG | \n",
       "| 10_MA_C  | i7 index | ATTACTCG | \n",
       "| 14_MA_C  | i7 index | ATTACTCG | \n",
       "| 15_MA_C  | i7 index | ATTACTCG | \n",
       "| 21_MA_C  | i7 index | ATTACTCG | \n",
       "\n",
       "\n"
      ],
      "text/plain": [
       "  Label   index    sequence\n",
       "1 2_MA_C  i7 index ATTACTCG\n",
       "2 9_MA_C  i7 index ATTACTCG\n",
       "3 10_MA_C i7 index ATTACTCG\n",
       "4 14_MA_C i7 index ATTACTCG\n",
       "5 15_MA_C i7 index ATTACTCG\n",
       "6 21_MA_C i7 index ATTACTCG"
      ]
     },
     "metadata": {},
     "output_type": "display_data"
    }
   ],
   "source": [
    "df %>% \n",
    "select(Label, ends_with('index')) %>% \n",
    "gather(index, sequence, -Label) %>% \n",
    "head()"
   ]
  },
  {
   "cell_type": "code",
   "execution_count": 239,
   "metadata": {},
   "outputs": [
    {
     "data": {
      "text/html": [
       "<table>\n",
       "<thead><tr><th scope=col>Label</th><th scope=col>index</th><th scope=col>sequence</th></tr></thead>\n",
       "<tbody>\n",
       "\t<tr><td>2_MA_C  </td><td>i7      </td><td>ATTACTCG</td></tr>\n",
       "\t<tr><td>9_MA_C  </td><td>i7      </td><td>ATTACTCG</td></tr>\n",
       "\t<tr><td>10_MA_C </td><td>i7      </td><td>ATTACTCG</td></tr>\n",
       "\t<tr><td>14_MA_C </td><td>i7      </td><td>ATTACTCG</td></tr>\n",
       "\t<tr><td>15_MA_C </td><td>i7      </td><td>ATTACTCG</td></tr>\n",
       "\t<tr><td>21_MA_C </td><td>i7      </td><td>ATTACTCG</td></tr>\n",
       "</tbody>\n",
       "</table>\n"
      ],
      "text/latex": [
       "\\begin{tabular}{r|lll}\n",
       " Label & index & sequence\\\\\n",
       "\\hline\n",
       "\t 2\\_MA\\_C  & i7          & ATTACTCG   \\\\\n",
       "\t 9\\_MA\\_C  & i7          & ATTACTCG   \\\\\n",
       "\t 10\\_MA\\_C & i7          & ATTACTCG   \\\\\n",
       "\t 14\\_MA\\_C & i7          & ATTACTCG   \\\\\n",
       "\t 15\\_MA\\_C & i7          & ATTACTCG   \\\\\n",
       "\t 21\\_MA\\_C & i7          & ATTACTCG   \\\\\n",
       "\\end{tabular}\n"
      ],
      "text/markdown": [
       "\n",
       "Label | index | sequence | \n",
       "|---|---|---|---|---|---|\n",
       "| 2_MA_C   | i7       | ATTACTCG | \n",
       "| 9_MA_C   | i7       | ATTACTCG | \n",
       "| 10_MA_C  | i7       | ATTACTCG | \n",
       "| 14_MA_C  | i7       | ATTACTCG | \n",
       "| 15_MA_C  | i7       | ATTACTCG | \n",
       "| 21_MA_C  | i7       | ATTACTCG | \n",
       "\n",
       "\n"
      ],
      "text/plain": [
       "  Label   index sequence\n",
       "1 2_MA_C  i7    ATTACTCG\n",
       "2 9_MA_C  i7    ATTACTCG\n",
       "3 10_MA_C i7    ATTACTCG\n",
       "4 14_MA_C i7    ATTACTCG\n",
       "5 15_MA_C i7    ATTACTCG\n",
       "6 21_MA_C i7    ATTACTCG"
      ]
     },
     "metadata": {},
     "output_type": "display_data"
    }
   ],
   "source": [
    "df %>% \n",
    "select(Label, ends_with('index')) %>% \n",
    "gather(index, sequence, -Label) %>% \n",
    "mutate(index=str_extract(index, '^..')) %>%\n",
    "head()"
   ]
  },
  {
   "cell_type": "markdown",
   "metadata": {},
   "source": [
    "## 2. Use `spread` to convert one column into multiple\n",
    "\n",
    "We can undo `gather` with `spread`. This is less commonly used than `gather`."
   ]
  },
  {
   "cell_type": "code",
   "execution_count": 240,
   "metadata": {},
   "outputs": [
    {
     "data": {
      "text/html": [
       "<table>\n",
       "<thead><tr><th scope=col>Label</th><th scope=col>index</th><th scope=col>sequence</th></tr></thead>\n",
       "<tbody>\n",
       "\t<tr><td>2_MA_C  </td><td>i7 index</td><td>ATTACTCG</td></tr>\n",
       "\t<tr><td>9_MA_C  </td><td>i7 index</td><td>ATTACTCG</td></tr>\n",
       "\t<tr><td>10_MA_C </td><td>i7 index</td><td>ATTACTCG</td></tr>\n",
       "\t<tr><td>14_MA_C </td><td>i7 index</td><td>ATTACTCG</td></tr>\n",
       "\t<tr><td>15_MA_C </td><td>i7 index</td><td>ATTACTCG</td></tr>\n",
       "\t<tr><td>21_MA_C </td><td>i7 index</td><td>ATTACTCG</td></tr>\n",
       "</tbody>\n",
       "</table>\n"
      ],
      "text/latex": [
       "\\begin{tabular}{r|lll}\n",
       " Label & index & sequence\\\\\n",
       "\\hline\n",
       "\t 2\\_MA\\_C  & i7 index    & ATTACTCG   \\\\\n",
       "\t 9\\_MA\\_C  & i7 index    & ATTACTCG   \\\\\n",
       "\t 10\\_MA\\_C & i7 index    & ATTACTCG   \\\\\n",
       "\t 14\\_MA\\_C & i7 index    & ATTACTCG   \\\\\n",
       "\t 15\\_MA\\_C & i7 index    & ATTACTCG   \\\\\n",
       "\t 21\\_MA\\_C & i7 index    & ATTACTCG   \\\\\n",
       "\\end{tabular}\n"
      ],
      "text/markdown": [
       "\n",
       "Label | index | sequence | \n",
       "|---|---|---|---|---|---|\n",
       "| 2_MA_C   | i7 index | ATTACTCG | \n",
       "| 9_MA_C   | i7 index | ATTACTCG | \n",
       "| 10_MA_C  | i7 index | ATTACTCG | \n",
       "| 14_MA_C  | i7 index | ATTACTCG | \n",
       "| 15_MA_C  | i7 index | ATTACTCG | \n",
       "| 21_MA_C  | i7 index | ATTACTCG | \n",
       "\n",
       "\n"
      ],
      "text/plain": [
       "  Label   index    sequence\n",
       "1 2_MA_C  i7 index ATTACTCG\n",
       "2 9_MA_C  i7 index ATTACTCG\n",
       "3 10_MA_C i7 index ATTACTCG\n",
       "4 14_MA_C i7 index ATTACTCG\n",
       "5 15_MA_C i7 index ATTACTCG\n",
       "6 21_MA_C i7 index ATTACTCG"
      ]
     },
     "metadata": {},
     "output_type": "display_data"
    }
   ],
   "source": [
    "df %>% \n",
    "select(Label, ends_with('index')) %>% \n",
    "gather(index, sequence, -Label) %>% \n",
    "head()"
   ]
  },
  {
   "cell_type": "code",
   "execution_count": 241,
   "metadata": {},
   "outputs": [
    {
     "data": {
      "text/html": [
       "<table>\n",
       "<thead><tr><th scope=col>Label</th><th scope=col>i5 index</th><th scope=col>i7 index</th></tr></thead>\n",
       "<tbody>\n",
       "\t<tr><td>1_MA_J  </td><td>AGGCTATA</td><td>CGCTCATT</td></tr>\n",
       "\t<tr><td>1_RZ_J  </td><td>AGGCTATA</td><td>GAGATTCC</td></tr>\n",
       "\t<tr><td>10_MA_C </td><td>AGGATAGG</td><td>ATTACTCG</td></tr>\n",
       "\t<tr><td>10_RZ_C </td><td>AGGATAGG</td><td>TCCGGAGA</td></tr>\n",
       "\t<tr><td>11_MA_J </td><td>AGGATAGG</td><td>CGCTCATT</td></tr>\n",
       "\t<tr><td>11_RZ_J </td><td>AGGATAGG</td><td>GAGATTCC</td></tr>\n",
       "</tbody>\n",
       "</table>\n"
      ],
      "text/latex": [
       "\\begin{tabular}{r|lll}\n",
       " Label & i5 index & i7 index\\\\\n",
       "\\hline\n",
       "\t 1\\_MA\\_J  & AGGCTATA    & CGCTCATT   \\\\\n",
       "\t 1\\_RZ\\_J  & AGGCTATA    & GAGATTCC   \\\\\n",
       "\t 10\\_MA\\_C & AGGATAGG    & ATTACTCG   \\\\\n",
       "\t 10\\_RZ\\_C & AGGATAGG    & TCCGGAGA   \\\\\n",
       "\t 11\\_MA\\_J & AGGATAGG    & CGCTCATT   \\\\\n",
       "\t 11\\_RZ\\_J & AGGATAGG    & GAGATTCC   \\\\\n",
       "\\end{tabular}\n"
      ],
      "text/markdown": [
       "\n",
       "Label | i5 index | i7 index | \n",
       "|---|---|---|---|---|---|\n",
       "| 1_MA_J   | AGGCTATA | CGCTCATT | \n",
       "| 1_RZ_J   | AGGCTATA | GAGATTCC | \n",
       "| 10_MA_C  | AGGATAGG | ATTACTCG | \n",
       "| 10_RZ_C  | AGGATAGG | TCCGGAGA | \n",
       "| 11_MA_J  | AGGATAGG | CGCTCATT | \n",
       "| 11_RZ_J  | AGGATAGG | GAGATTCC | \n",
       "\n",
       "\n"
      ],
      "text/plain": [
       "  Label   i5 index i7 index\n",
       "1 1_MA_J  AGGCTATA CGCTCATT\n",
       "2 1_RZ_J  AGGCTATA GAGATTCC\n",
       "3 10_MA_C AGGATAGG ATTACTCG\n",
       "4 10_RZ_C AGGATAGG TCCGGAGA\n",
       "5 11_MA_J AGGATAGG CGCTCATT\n",
       "6 11_RZ_J AGGATAGG GAGATTCC"
      ]
     },
     "metadata": {},
     "output_type": "display_data"
    }
   ],
   "source": [
    "df %>% \n",
    "select(Label, ends_with('index')) %>% \n",
    "gather(index, sequence, -Label) %>% \n",
    "spread(index, sequence) %>%\n",
    "head()"
   ]
  },
  {
   "cell_type": "markdown",
   "metadata": {},
   "source": [
    "## 3. Use `separate` to split a single column containing multiple values\n",
    "\n",
    "The label column actually contains three pieces of informaiton separated by underscores - a sample number, the RNA enrichment methd, and code for the person presenting the sample. Assuuming that we do not have this informatio nduplicate in other columns, it woujld be tricky to compare, say, results by the sampling method.\n",
    "\n",
    "The `separate` function is designed to address this problem."
   ]
  },
  {
   "cell_type": "code",
   "execution_count": 246,
   "metadata": {},
   "outputs": [
    {
     "data": {
      "text/html": [
       "<table>\n",
       "<thead><tr><th scope=col>Label</th><th scope=col>concentration_fold_difference</th></tr></thead>\n",
       "<tbody>\n",
       "\t<tr><td>2_MA_C </td><td>1.34   </td></tr>\n",
       "\t<tr><td>9_MA_C </td><td>2.23   </td></tr>\n",
       "\t<tr><td>10_MA_C</td><td>4.37   </td></tr>\n",
       "</tbody>\n",
       "</table>\n"
      ],
      "text/latex": [
       "\\begin{tabular}{r|ll}\n",
       " Label & concentration\\_fold\\_difference\\\\\n",
       "\\hline\n",
       "\t 2\\_MA\\_C  & 1.34       \\\\\n",
       "\t 9\\_MA\\_C  & 2.23       \\\\\n",
       "\t 10\\_MA\\_C & 4.37       \\\\\n",
       "\\end{tabular}\n"
      ],
      "text/markdown": [
       "\n",
       "Label | concentration_fold_difference | \n",
       "|---|---|---|\n",
       "| 2_MA_C  | 1.34    | \n",
       "| 9_MA_C  | 2.23    | \n",
       "| 10_MA_C | 4.37    | \n",
       "\n",
       "\n"
      ],
      "text/plain": [
       "  Label   concentration_fold_difference\n",
       "1 2_MA_C  1.34                         \n",
       "2 9_MA_C  2.23                         \n",
       "3 10_MA_C 4.37                         "
      ]
     },
     "metadata": {},
     "output_type": "display_data"
    }
   ],
   "source": [
    "df %>% \n",
    "select(Label, concentration_fold_difference) %>% \n",
    "head(3)"
   ]
  },
  {
   "cell_type": "code",
   "execution_count": 249,
   "metadata": {},
   "outputs": [
    {
     "data": {
      "text/html": [
       "<table>\n",
       "<thead><tr><th scope=col>sample_num</th><th scope=col>enrichment</th><th scope=col>person</th><th scope=col>concentration_fold_difference</th></tr></thead>\n",
       "<tbody>\n",
       "\t<tr><td>2   </td><td>MA  </td><td>C   </td><td>1.34</td></tr>\n",
       "\t<tr><td>9   </td><td>MA  </td><td>C   </td><td>2.23</td></tr>\n",
       "\t<tr><td>10  </td><td>MA  </td><td>C   </td><td>4.37</td></tr>\n",
       "</tbody>\n",
       "</table>\n"
      ],
      "text/latex": [
       "\\begin{tabular}{r|llll}\n",
       " sample\\_num & enrichment & person & concentration\\_fold\\_difference\\\\\n",
       "\\hline\n",
       "\t 2    & MA   & C    & 1.34\\\\\n",
       "\t 9    & MA   & C    & 2.23\\\\\n",
       "\t 10   & MA   & C    & 4.37\\\\\n",
       "\\end{tabular}\n"
      ],
      "text/markdown": [
       "\n",
       "sample_num | enrichment | person | concentration_fold_difference | \n",
       "|---|---|---|\n",
       "| 2    | MA   | C    | 1.34 | \n",
       "| 9    | MA   | C    | 2.23 | \n",
       "| 10   | MA   | C    | 4.37 | \n",
       "\n",
       "\n"
      ],
      "text/plain": [
       "  sample_num enrichment person concentration_fold_difference\n",
       "1 2          MA         C      1.34                         \n",
       "2 9          MA         C      2.23                         \n",
       "3 10         MA         C      4.37                         "
      ]
     },
     "metadata": {},
     "output_type": "display_data"
    }
   ],
   "source": [
    "df %>% \n",
    "select(Label, concentration_fold_difference) %>% \n",
    "separate(Label, sep='_', into=c('sample_num', 'enrichment', 'person')) %>%\n",
    "head(3)"
   ]
  },
  {
   "cell_type": "markdown",
   "metadata": {},
   "source": [
    "#### It is now easy to condition on sample_number, enrichment method or person\n",
    "\n",
    "Here is a summary of the data."
   ]
  },
  {
   "cell_type": "code",
   "execution_count": 278,
   "metadata": {},
   "outputs": [
    {
     "data": {
      "text/html": [
       "<table>\n",
       "<thead><tr><th scope=col>person</th><th scope=col>enrichment</th><th scope=col>n</th><th scope=col>concentration_fold_difference</th></tr></thead>\n",
       "<tbody>\n",
       "\t<tr><td>C     </td><td>MA    </td><td>24    </td><td>2.3675</td></tr>\n",
       "\t<tr><td>C     </td><td>RZ    </td><td>24    </td><td>2.3675</td></tr>\n",
       "\t<tr><td>C     </td><td>TOT   </td><td> 3    </td><td>1.3400</td></tr>\n",
       "\t<tr><td>J     </td><td>MA    </td><td>24    </td><td>3.4350</td></tr>\n",
       "\t<tr><td>J     </td><td>RZ    </td><td>24    </td><td>3.4350</td></tr>\n",
       "\t<tr><td>J     </td><td>TOT   </td><td> 3    </td><td>1.9800</td></tr>\n",
       "\t<tr><td>P     </td><td>MA    </td><td>24    </td><td>3.0800</td></tr>\n",
       "\t<tr><td>P     </td><td>RZ    </td><td>24    </td><td>3.0800</td></tr>\n",
       "\t<tr><td>P     </td><td>TOT   </td><td> 3    </td><td>2.0500</td></tr>\n",
       "</tbody>\n",
       "</table>\n"
      ],
      "text/latex": [
       "\\begin{tabular}{r|llll}\n",
       " person & enrichment & n & concentration\\_fold\\_difference\\\\\n",
       "\\hline\n",
       "\t C      & MA     & 24     & 2.3675\\\\\n",
       "\t C      & RZ     & 24     & 2.3675\\\\\n",
       "\t C      & TOT    &  3     & 1.3400\\\\\n",
       "\t J      & MA     & 24     & 3.4350\\\\\n",
       "\t J      & RZ     & 24     & 3.4350\\\\\n",
       "\t J      & TOT    &  3     & 1.9800\\\\\n",
       "\t P      & MA     & 24     & 3.0800\\\\\n",
       "\t P      & RZ     & 24     & 3.0800\\\\\n",
       "\t P      & TOT    &  3     & 2.0500\\\\\n",
       "\\end{tabular}\n"
      ],
      "text/markdown": [
       "\n",
       "person | enrichment | n | concentration_fold_difference | \n",
       "|---|---|---|---|---|---|---|---|---|\n",
       "| C      | MA     | 24     | 2.3675 | \n",
       "| C      | RZ     | 24     | 2.3675 | \n",
       "| C      | TOT    |  3     | 1.3400 | \n",
       "| J      | MA     | 24     | 3.4350 | \n",
       "| J      | RZ     | 24     | 3.4350 | \n",
       "| J      | TOT    |  3     | 1.9800 | \n",
       "| P      | MA     | 24     | 3.0800 | \n",
       "| P      | RZ     | 24     | 3.0800 | \n",
       "| P      | TOT    |  3     | 2.0500 | \n",
       "\n",
       "\n"
      ],
      "text/plain": [
       "  person enrichment n  concentration_fold_difference\n",
       "1 C      MA         24 2.3675                       \n",
       "2 C      RZ         24 2.3675                       \n",
       "3 C      TOT         3 1.3400                       \n",
       "4 J      MA         24 3.4350                       \n",
       "5 J      RZ         24 3.4350                       \n",
       "6 J      TOT         3 1.9800                       \n",
       "7 P      MA         24 3.0800                       \n",
       "8 P      RZ         24 3.0800                       \n",
       "9 P      TOT         3 2.0500                       "
      ]
     },
     "metadata": {},
     "output_type": "display_data"
    }
   ],
   "source": [
    "df %>% \n",
    "select(Label, concentration_fold_difference) %>% \n",
    "separate(Label, into=c('sample_num', 'enrichment', 'person'), sep='_') %>%\n",
    "add_count(enrichment) %>%\n",
    "group_by(person, enrichment, n) %>%\n",
    "summarize_at('concentration_fold_difference', mean) "
   ]
  },
  {
   "cell_type": "markdown",
   "metadata": {},
   "source": [
    "## 4. Use `unite` to craate a single variable from multiple columns\n",
    "\n",
    "Sometimes we want to do the opposite and combine multiple columns into a single column. Use `unite` to do this."
   ]
  },
  {
   "cell_type": "code",
   "execution_count": 276,
   "metadata": {},
   "outputs": [
    {
     "data": {
      "text/html": [
       "<table>\n",
       "<thead><tr><th scope=col>sample_num</th><th scope=col>enrichment</th><th scope=col>person</th><th scope=col>concentration_fold_difference</th></tr></thead>\n",
       "<tbody>\n",
       "\t<tr><td>2   </td><td>MA  </td><td>C   </td><td>1.34</td></tr>\n",
       "\t<tr><td>9   </td><td>MA  </td><td>C   </td><td>2.23</td></tr>\n",
       "\t<tr><td>10  </td><td>MA  </td><td>C   </td><td>4.37</td></tr>\n",
       "\t<tr><td>14  </td><td>MA  </td><td>C   </td><td>1.57</td></tr>\n",
       "\t<tr><td>15  </td><td>MA  </td><td>C   </td><td>2.85</td></tr>\n",
       "\t<tr><td>21  </td><td>MA  </td><td>C   </td><td>1.81</td></tr>\n",
       "</tbody>\n",
       "</table>\n"
      ],
      "text/latex": [
       "\\begin{tabular}{r|llll}\n",
       " sample\\_num & enrichment & person & concentration\\_fold\\_difference\\\\\n",
       "\\hline\n",
       "\t 2    & MA   & C    & 1.34\\\\\n",
       "\t 9    & MA   & C    & 2.23\\\\\n",
       "\t 10   & MA   & C    & 4.37\\\\\n",
       "\t 14   & MA   & C    & 1.57\\\\\n",
       "\t 15   & MA   & C    & 2.85\\\\\n",
       "\t 21   & MA   & C    & 1.81\\\\\n",
       "\\end{tabular}\n"
      ],
      "text/markdown": [
       "\n",
       "sample_num | enrichment | person | concentration_fold_difference | \n",
       "|---|---|---|---|---|---|\n",
       "| 2    | MA   | C    | 1.34 | \n",
       "| 9    | MA   | C    | 2.23 | \n",
       "| 10   | MA   | C    | 4.37 | \n",
       "| 14   | MA   | C    | 1.57 | \n",
       "| 15   | MA   | C    | 2.85 | \n",
       "| 21   | MA   | C    | 1.81 | \n",
       "\n",
       "\n"
      ],
      "text/plain": [
       "  sample_num enrichment person concentration_fold_difference\n",
       "1 2          MA         C      1.34                         \n",
       "2 9          MA         C      2.23                         \n",
       "3 10         MA         C      4.37                         \n",
       "4 14         MA         C      1.57                         \n",
       "5 15         MA         C      2.85                         \n",
       "6 21         MA         C      1.81                         "
      ]
     },
     "metadata": {},
     "output_type": "display_data"
    }
   ],
   "source": [
    "df %>% \n",
    "select(Label, concentration_fold_difference) %>% \n",
    "separate(Label, sep='_', into=c('sample_num', 'enrichment', 'person')) %>%\n",
    "head"
   ]
  },
  {
   "cell_type": "code",
   "execution_count": 277,
   "metadata": {},
   "outputs": [
    {
     "data": {
      "text/html": [
       "<table>\n",
       "<thead><tr><th scope=col>Label</th><th scope=col>concentration_fold_difference</th></tr></thead>\n",
       "<tbody>\n",
       "\t<tr><td>2_MA_C </td><td>1.34   </td></tr>\n",
       "\t<tr><td>9_MA_C </td><td>2.23   </td></tr>\n",
       "\t<tr><td>10_MA_C</td><td>4.37   </td></tr>\n",
       "\t<tr><td>14_MA_C</td><td>1.57   </td></tr>\n",
       "\t<tr><td>15_MA_C</td><td>2.85   </td></tr>\n",
       "\t<tr><td>21_MA_C</td><td>1.81   </td></tr>\n",
       "</tbody>\n",
       "</table>\n"
      ],
      "text/latex": [
       "\\begin{tabular}{r|ll}\n",
       " Label & concentration\\_fold\\_difference\\\\\n",
       "\\hline\n",
       "\t 2\\_MA\\_C  & 1.34       \\\\\n",
       "\t 9\\_MA\\_C  & 2.23       \\\\\n",
       "\t 10\\_MA\\_C & 4.37       \\\\\n",
       "\t 14\\_MA\\_C & 1.57       \\\\\n",
       "\t 15\\_MA\\_C & 2.85       \\\\\n",
       "\t 21\\_MA\\_C & 1.81       \\\\\n",
       "\\end{tabular}\n"
      ],
      "text/markdown": [
       "\n",
       "Label | concentration_fold_difference | \n",
       "|---|---|---|---|---|---|\n",
       "| 2_MA_C  | 1.34    | \n",
       "| 9_MA_C  | 2.23    | \n",
       "| 10_MA_C | 4.37    | \n",
       "| 14_MA_C | 1.57    | \n",
       "| 15_MA_C | 2.85    | \n",
       "| 21_MA_C | 1.81    | \n",
       "\n",
       "\n"
      ],
      "text/plain": [
       "  Label   concentration_fold_difference\n",
       "1 2_MA_C  1.34                         \n",
       "2 9_MA_C  2.23                         \n",
       "3 10_MA_C 4.37                         \n",
       "4 14_MA_C 1.57                         \n",
       "5 15_MA_C 2.85                         \n",
       "6 21_MA_C 1.81                         "
      ]
     },
     "metadata": {},
     "output_type": "display_data"
    }
   ],
   "source": [
    "df %>% \n",
    "select(Label, concentration_fold_difference) %>% \n",
    "separate(Label, sep='_', into=c('sample_num', 'enrichment', 'person')) %>%\n",
    "unite(Label, c('sample_num', 'enrichment', 'person'), sep='_') %>% \n",
    "head"
   ]
  },
  {
   "cell_type": "markdown",
   "metadata": {},
   "source": [
    "#### Extract parts with regular expressions\n",
    "\n",
    "Sometiems there is no simple delimiter between parts of a value. In such cases, we may need to use reuglar expressions to extract parts from a string."
   ]
  },
  {
   "cell_type": "code",
   "execution_count": 293,
   "metadata": {},
   "outputs": [
    {
     "data": {
      "text/html": [
       "<table>\n",
       "<thead><tr><th scope=col>Label</th><th scope=col>concentration_fold_difference</th></tr></thead>\n",
       "<tbody>\n",
       "\t<tr><td>2MAC </td><td>1.34 </td></tr>\n",
       "\t<tr><td>9MAC </td><td>2.23 </td></tr>\n",
       "\t<tr><td>10MAC</td><td>4.37 </td></tr>\n",
       "\t<tr><td>14MAC</td><td>1.57 </td></tr>\n",
       "\t<tr><td>15MAC</td><td>2.85 </td></tr>\n",
       "\t<tr><td>21MAC</td><td>1.81 </td></tr>\n",
       "</tbody>\n",
       "</table>\n"
      ],
      "text/latex": [
       "\\begin{tabular}{r|ll}\n",
       " Label & concentration\\_fold\\_difference\\\\\n",
       "\\hline\n",
       "\t 2MAC  & 1.34 \\\\\n",
       "\t 9MAC  & 2.23 \\\\\n",
       "\t 10MAC & 4.37 \\\\\n",
       "\t 14MAC & 1.57 \\\\\n",
       "\t 15MAC & 2.85 \\\\\n",
       "\t 21MAC & 1.81 \\\\\n",
       "\\end{tabular}\n"
      ],
      "text/markdown": [
       "\n",
       "Label | concentration_fold_difference | \n",
       "|---|---|---|---|---|---|\n",
       "| 2MAC  | 1.34  | \n",
       "| 9MAC  | 2.23  | \n",
       "| 10MAC | 4.37  | \n",
       "| 14MAC | 1.57  | \n",
       "| 15MAC | 2.85  | \n",
       "| 21MAC | 1.81  | \n",
       "\n",
       "\n"
      ],
      "text/plain": [
       "  Label concentration_fold_difference\n",
       "1 2MAC  1.34                         \n",
       "2 9MAC  2.23                         \n",
       "3 10MAC 4.37                         \n",
       "4 14MAC 1.57                         \n",
       "5 15MAC 2.85                         \n",
       "6 21MAC 1.81                         "
      ]
     },
     "metadata": {},
     "output_type": "display_data"
    }
   ],
   "source": [
    "bad_labels <- df %>% \n",
    "select(Label, concentration_fold_difference) %>% \n",
    "separate(Label, \n",
    "         sep='_', \n",
    "         into=c('sample_num', 'enrichment', 'person')) %>%\n",
    "unite(Label, c('sample_num', 'enrichment', 'person'), sep='')\n",
    "head(bad_labels)"
   ]
  },
  {
   "cell_type": "markdown",
   "metadata": {},
   "source": [
    "The regular expression consists of 3 capture groups in parentheses that will form the new columns.\n",
    "\n",
    "`'([0-9]+)(.*)(.$)'`\n",
    "\n",
    "where\n",
    "\n",
    "- Capture group 1 `[0-9]+`  means match one or more `+` of any digits  `[0-9]`\n",
    "- Capture group 2 `.*`     means match zero or more `*` of any character `.`\n",
    "- Capture gorup 3 `.$`     means match any character `.` at the end `$`"
   ]
  },
  {
   "cell_type": "code",
   "execution_count": 306,
   "metadata": {},
   "outputs": [
    {
     "data": {
      "text/html": [
       "<table>\n",
       "<thead><tr><th scope=col>sample_num</th><th scope=col>enrichment</th><th scope=col>person</th><th scope=col>concentration_fold_difference</th></tr></thead>\n",
       "<tbody>\n",
       "\t<tr><td>2   </td><td>MA  </td><td>C   </td><td>1.34</td></tr>\n",
       "\t<tr><td>9   </td><td>MA  </td><td>C   </td><td>2.23</td></tr>\n",
       "\t<tr><td>10  </td><td>MA  </td><td>C   </td><td>4.37</td></tr>\n",
       "\t<tr><td>14  </td><td>MA  </td><td>C   </td><td>1.57</td></tr>\n",
       "\t<tr><td>15  </td><td>MA  </td><td>C   </td><td>2.85</td></tr>\n",
       "\t<tr><td>21  </td><td>MA  </td><td>C   </td><td>1.81</td></tr>\n",
       "</tbody>\n",
       "</table>\n"
      ],
      "text/latex": [
       "\\begin{tabular}{r|llll}\n",
       " sample\\_num & enrichment & person & concentration\\_fold\\_difference\\\\\n",
       "\\hline\n",
       "\t 2    & MA   & C    & 1.34\\\\\n",
       "\t 9    & MA   & C    & 2.23\\\\\n",
       "\t 10   & MA   & C    & 4.37\\\\\n",
       "\t 14   & MA   & C    & 1.57\\\\\n",
       "\t 15   & MA   & C    & 2.85\\\\\n",
       "\t 21   & MA   & C    & 1.81\\\\\n",
       "\\end{tabular}\n"
      ],
      "text/markdown": [
       "\n",
       "sample_num | enrichment | person | concentration_fold_difference | \n",
       "|---|---|---|---|---|---|\n",
       "| 2    | MA   | C    | 1.34 | \n",
       "| 9    | MA   | C    | 2.23 | \n",
       "| 10   | MA   | C    | 4.37 | \n",
       "| 14   | MA   | C    | 1.57 | \n",
       "| 15   | MA   | C    | 2.85 | \n",
       "| 21   | MA   | C    | 1.81 | \n",
       "\n",
       "\n"
      ],
      "text/plain": [
       "  sample_num enrichment person concentration_fold_difference\n",
       "1 2          MA         C      1.34                         \n",
       "2 9          MA         C      2.23                         \n",
       "3 10         MA         C      4.37                         \n",
       "4 14         MA         C      1.57                         \n",
       "5 15         MA         C      2.85                         \n",
       "6 21         MA         C      1.81                         "
      ]
     },
     "metadata": {},
     "output_type": "display_data"
    }
   ],
   "source": [
    "bad_labels %>% \n",
    "extract(Label, \n",
    "         into=c('sample_num', 'enrichment', 'person'), \n",
    "         '([0-9]+)(.*)(.$)') %>%\n",
    "head"
   ]
  },
  {
   "cell_type": "markdown",
   "metadata": {},
   "source": [
    "### Using `separate_rows` rows when multiple values are in a single cell.\n",
    "\n",
    "Very occassionally, we find data sets where multiple values are stored in a single cell. We will make up and exmple here as this does not occur in the metadata data set."
   ]
  },
  {
   "cell_type": "code",
   "execution_count": 330,
   "metadata": {},
   "outputs": [
    {
     "data": {
      "text/html": [
       "<table>\n",
       "<thead><tr><th scope=col>Label</th><th scope=col>primer</th></tr></thead>\n",
       "<tbody>\n",
       "\t<tr><td>1_MA_J           </td><td>AGGCTATA,CGCTCATT</td></tr>\n",
       "\t<tr><td>1_RZ_J           </td><td>AGGCTATA,GAGATTCC</td></tr>\n",
       "\t<tr><td>10_MA_C          </td><td>AGGATAGG,ATTACTCG</td></tr>\n",
       "\t<tr><td>10_RZ_C          </td><td>AGGATAGG,TCCGGAGA</td></tr>\n",
       "\t<tr><td>11_MA_J          </td><td>AGGATAGG,CGCTCATT</td></tr>\n",
       "\t<tr><td>11_RZ_J          </td><td>AGGATAGG,GAGATTCC</td></tr>\n",
       "</tbody>\n",
       "</table>\n"
      ],
      "text/latex": [
       "\\begin{tabular}{r|ll}\n",
       " Label & primer\\\\\n",
       "\\hline\n",
       "\t 1\\_MA\\_J        & AGGCTATA,CGCTCATT\\\\\n",
       "\t 1\\_RZ\\_J        & AGGCTATA,GAGATTCC\\\\\n",
       "\t 10\\_MA\\_C       & AGGATAGG,ATTACTCG\\\\\n",
       "\t 10\\_RZ\\_C       & AGGATAGG,TCCGGAGA\\\\\n",
       "\t 11\\_MA\\_J       & AGGATAGG,CGCTCATT\\\\\n",
       "\t 11\\_RZ\\_J       & AGGATAGG,GAGATTCC\\\\\n",
       "\\end{tabular}\n"
      ],
      "text/markdown": [
       "\n",
       "Label | primer | \n",
       "|---|---|---|---|---|---|\n",
       "| 1_MA_J            | AGGCTATA,CGCTCATT | \n",
       "| 1_RZ_J            | AGGCTATA,GAGATTCC | \n",
       "| 10_MA_C           | AGGATAGG,ATTACTCG | \n",
       "| 10_RZ_C           | AGGATAGG,TCCGGAGA | \n",
       "| 11_MA_J           | AGGATAGG,CGCTCATT | \n",
       "| 11_RZ_J           | AGGATAGG,GAGATTCC | \n",
       "\n",
       "\n"
      ],
      "text/plain": [
       "  Label   primer           \n",
       "1 1_MA_J  AGGCTATA,CGCTCATT\n",
       "2 1_RZ_J  AGGCTATA,GAGATTCC\n",
       "3 10_MA_C AGGATAGG,ATTACTCG\n",
       "4 10_RZ_C AGGATAGG,TCCGGAGA\n",
       "5 11_MA_J AGGATAGG,CGCTCATT\n",
       "6 11_RZ_J AGGATAGG,GAGATTCC"
      ]
     },
     "metadata": {},
     "output_type": "display_data"
    }
   ],
   "source": [
    "bad_primer <- df %>% \n",
    "select(Label, `i5 index`, `i7 index`) %>% \n",
    "unite(primer, c(`i5 index`, `i7 index`), sep=',') %>%\n",
    "arrange(Label)\n",
    "head(bad_primer)"
   ]
  },
  {
   "cell_type": "code",
   "execution_count": 331,
   "metadata": {},
   "outputs": [
    {
     "data": {
      "text/html": [
       "<table>\n",
       "<thead><tr><th scope=col>Label</th><th scope=col>primer</th></tr></thead>\n",
       "<tbody>\n",
       "\t<tr><td>1_MA_J  </td><td>AGGCTATA</td></tr>\n",
       "\t<tr><td>1_MA_J  </td><td>CGCTCATT</td></tr>\n",
       "\t<tr><td>1_RZ_J  </td><td>AGGCTATA</td></tr>\n",
       "\t<tr><td>1_RZ_J  </td><td>GAGATTCC</td></tr>\n",
       "\t<tr><td>10_MA_C </td><td>AGGATAGG</td></tr>\n",
       "\t<tr><td>10_MA_C </td><td>ATTACTCG</td></tr>\n",
       "</tbody>\n",
       "</table>\n"
      ],
      "text/latex": [
       "\\begin{tabular}{r|ll}\n",
       " Label & primer\\\\\n",
       "\\hline\n",
       "\t 1\\_MA\\_J  & AGGCTATA   \\\\\n",
       "\t 1\\_MA\\_J  & CGCTCATT   \\\\\n",
       "\t 1\\_RZ\\_J  & AGGCTATA   \\\\\n",
       "\t 1\\_RZ\\_J  & GAGATTCC   \\\\\n",
       "\t 10\\_MA\\_C & AGGATAGG   \\\\\n",
       "\t 10\\_MA\\_C & ATTACTCG   \\\\\n",
       "\\end{tabular}\n"
      ],
      "text/markdown": [
       "\n",
       "Label | primer | \n",
       "|---|---|---|---|---|---|\n",
       "| 1_MA_J   | AGGCTATA | \n",
       "| 1_MA_J   | CGCTCATT | \n",
       "| 1_RZ_J   | AGGCTATA | \n",
       "| 1_RZ_J   | GAGATTCC | \n",
       "| 10_MA_C  | AGGATAGG | \n",
       "| 10_MA_C  | ATTACTCG | \n",
       "\n",
       "\n"
      ],
      "text/plain": [
       "  Label   primer  \n",
       "1 1_MA_J  AGGCTATA\n",
       "2 1_MA_J  CGCTCATT\n",
       "3 1_RZ_J  AGGCTATA\n",
       "4 1_RZ_J  GAGATTCC\n",
       "5 10_MA_C AGGATAGG\n",
       "6 10_MA_C ATTACTCG"
      ]
     },
     "metadata": {},
     "output_type": "display_data"
    }
   ],
   "source": [
    "bad_primer %>% \n",
    "separate_rows(primer, sep=',') %>%\n",
    "head"
   ]
  },
  {
   "cell_type": "markdown",
   "metadata": {},
   "source": [
    "#### Challenge: Reconstruct column structure  of orignial metadata file"
   ]
  },
  {
   "cell_type": "markdown",
   "metadata": {},
   "source": [
    "Since `separate_rows` will place the items in each row in alternating columns, we create a temporary variable to store the position in the original cell."
   ]
  },
  {
   "cell_type": "code",
   "execution_count": 332,
   "metadata": {},
   "outputs": [
    {
     "data": {
      "text/html": [
       "<table>\n",
       "<thead><tr><th scope=col>Label</th><th scope=col>primer</th><th scope=col>tmp</th></tr></thead>\n",
       "<tbody>\n",
       "\t<tr><td>1_MA_J  </td><td>AGGCTATA</td><td>1       </td></tr>\n",
       "\t<tr><td>1_MA_J  </td><td>CGCTCATT</td><td>2       </td></tr>\n",
       "\t<tr><td>1_RZ_J  </td><td>AGGCTATA</td><td>1       </td></tr>\n",
       "\t<tr><td>1_RZ_J  </td><td>GAGATTCC</td><td>2       </td></tr>\n",
       "\t<tr><td>10_MA_C </td><td>AGGATAGG</td><td>1       </td></tr>\n",
       "\t<tr><td>10_MA_C </td><td>ATTACTCG</td><td>2       </td></tr>\n",
       "</tbody>\n",
       "</table>\n"
      ],
      "text/latex": [
       "\\begin{tabular}{r|lll}\n",
       " Label & primer & tmp\\\\\n",
       "\\hline\n",
       "\t 1\\_MA\\_J  & AGGCTATA    & 1          \\\\\n",
       "\t 1\\_MA\\_J  & CGCTCATT    & 2          \\\\\n",
       "\t 1\\_RZ\\_J  & AGGCTATA    & 1          \\\\\n",
       "\t 1\\_RZ\\_J  & GAGATTCC    & 2          \\\\\n",
       "\t 10\\_MA\\_C & AGGATAGG    & 1          \\\\\n",
       "\t 10\\_MA\\_C & ATTACTCG    & 2          \\\\\n",
       "\\end{tabular}\n"
      ],
      "text/markdown": [
       "\n",
       "Label | primer | tmp | \n",
       "|---|---|---|---|---|---|\n",
       "| 1_MA_J   | AGGCTATA | 1        | \n",
       "| 1_MA_J   | CGCTCATT | 2        | \n",
       "| 1_RZ_J   | AGGCTATA | 1        | \n",
       "| 1_RZ_J   | GAGATTCC | 2        | \n",
       "| 10_MA_C  | AGGATAGG | 1        | \n",
       "| 10_MA_C  | ATTACTCG | 2        | \n",
       "\n",
       "\n"
      ],
      "text/plain": [
       "  Label   primer   tmp\n",
       "1 1_MA_J  AGGCTATA 1  \n",
       "2 1_MA_J  CGCTCATT 2  \n",
       "3 1_RZ_J  AGGCTATA 1  \n",
       "4 1_RZ_J  GAGATTCC 2  \n",
       "5 10_MA_C AGGATAGG 1  \n",
       "6 10_MA_C ATTACTCG 2  "
      ]
     },
     "metadata": {},
     "output_type": "display_data"
    }
   ],
   "source": [
    "bad_primer %>% \n",
    "separate_rows(primer, sep=',') %>%\n",
    "mutate(tmp=rep_len(1:2, n())) %>% \n",
    "head"
   ]
  },
  {
   "cell_type": "markdown",
   "metadata": {},
   "source": [
    "We then `spread` the primer values by the temporary variable and rename the columns as appropriate."
   ]
  },
  {
   "cell_type": "code",
   "execution_count": 333,
   "metadata": {},
   "outputs": [
    {
     "data": {
      "text/html": [
       "<table>\n",
       "<thead><tr><th scope=col>Label</th><th scope=col>i5 index</th><th scope=col>i7 index</th></tr></thead>\n",
       "<tbody>\n",
       "\t<tr><td>1_MA_J  </td><td>AGGCTATA</td><td>CGCTCATT</td></tr>\n",
       "\t<tr><td>1_RZ_J  </td><td>AGGCTATA</td><td>GAGATTCC</td></tr>\n",
       "\t<tr><td>10_MA_C </td><td>AGGATAGG</td><td>ATTACTCG</td></tr>\n",
       "\t<tr><td>10_RZ_C </td><td>AGGATAGG</td><td>TCCGGAGA</td></tr>\n",
       "\t<tr><td>11_MA_J </td><td>AGGATAGG</td><td>CGCTCATT</td></tr>\n",
       "\t<tr><td>11_RZ_J </td><td>AGGATAGG</td><td>GAGATTCC</td></tr>\n",
       "</tbody>\n",
       "</table>\n"
      ],
      "text/latex": [
       "\\begin{tabular}{r|lll}\n",
       " Label & i5 index & i7 index\\\\\n",
       "\\hline\n",
       "\t 1\\_MA\\_J  & AGGCTATA    & CGCTCATT   \\\\\n",
       "\t 1\\_RZ\\_J  & AGGCTATA    & GAGATTCC   \\\\\n",
       "\t 10\\_MA\\_C & AGGATAGG    & ATTACTCG   \\\\\n",
       "\t 10\\_RZ\\_C & AGGATAGG    & TCCGGAGA   \\\\\n",
       "\t 11\\_MA\\_J & AGGATAGG    & CGCTCATT   \\\\\n",
       "\t 11\\_RZ\\_J & AGGATAGG    & GAGATTCC   \\\\\n",
       "\\end{tabular}\n"
      ],
      "text/markdown": [
       "\n",
       "Label | i5 index | i7 index | \n",
       "|---|---|---|---|---|---|\n",
       "| 1_MA_J   | AGGCTATA | CGCTCATT | \n",
       "| 1_RZ_J   | AGGCTATA | GAGATTCC | \n",
       "| 10_MA_C  | AGGATAGG | ATTACTCG | \n",
       "| 10_RZ_C  | AGGATAGG | TCCGGAGA | \n",
       "| 11_MA_J  | AGGATAGG | CGCTCATT | \n",
       "| 11_RZ_J  | AGGATAGG | GAGATTCC | \n",
       "\n",
       "\n"
      ],
      "text/plain": [
       "  Label   i5 index i7 index\n",
       "1 1_MA_J  AGGCTATA CGCTCATT\n",
       "2 1_RZ_J  AGGCTATA GAGATTCC\n",
       "3 10_MA_C AGGATAGG ATTACTCG\n",
       "4 10_RZ_C AGGATAGG TCCGGAGA\n",
       "5 11_MA_J AGGATAGG CGCTCATT\n",
       "6 11_RZ_J AGGATAGG GAGATTCC"
      ]
     },
     "metadata": {},
     "output_type": "display_data"
    }
   ],
   "source": [
    "bad_primer %>% \n",
    "separate_rows(primer, sep=',') %>%\n",
    "mutate(tmp=rep_len(1:2, n())) %>% \n",
    "spread(tmp, primer) %>%\n",
    "rename(`i5 index`=`1`, `i7 index`=`2`) %>%\n",
    "head"
   ]
  },
  {
   "cell_type": "markdown",
   "metadata": {},
   "source": [
    "Comapre with original"
   ]
  },
  {
   "cell_type": "code",
   "execution_count": 334,
   "metadata": {},
   "outputs": [
    {
     "data": {
      "text/html": [
       "<table>\n",
       "<thead><tr><th scope=col>Label</th><th scope=col>i5 index</th><th scope=col>i7 index</th></tr></thead>\n",
       "<tbody>\n",
       "\t<tr><td>1_MA_J  </td><td>AGGCTATA</td><td>CGCTCATT</td></tr>\n",
       "\t<tr><td>1_RZ_J  </td><td>AGGCTATA</td><td>GAGATTCC</td></tr>\n",
       "\t<tr><td>10_MA_C </td><td>AGGATAGG</td><td>ATTACTCG</td></tr>\n",
       "\t<tr><td>10_RZ_C </td><td>AGGATAGG</td><td>TCCGGAGA</td></tr>\n",
       "\t<tr><td>11_MA_J </td><td>AGGATAGG</td><td>CGCTCATT</td></tr>\n",
       "\t<tr><td>11_RZ_J </td><td>AGGATAGG</td><td>GAGATTCC</td></tr>\n",
       "</tbody>\n",
       "</table>\n"
      ],
      "text/latex": [
       "\\begin{tabular}{r|lll}\n",
       " Label & i5 index & i7 index\\\\\n",
       "\\hline\n",
       "\t 1\\_MA\\_J  & AGGCTATA    & CGCTCATT   \\\\\n",
       "\t 1\\_RZ\\_J  & AGGCTATA    & GAGATTCC   \\\\\n",
       "\t 10\\_MA\\_C & AGGATAGG    & ATTACTCG   \\\\\n",
       "\t 10\\_RZ\\_C & AGGATAGG    & TCCGGAGA   \\\\\n",
       "\t 11\\_MA\\_J & AGGATAGG    & CGCTCATT   \\\\\n",
       "\t 11\\_RZ\\_J & AGGATAGG    & GAGATTCC   \\\\\n",
       "\\end{tabular}\n"
      ],
      "text/markdown": [
       "\n",
       "Label | i5 index | i7 index | \n",
       "|---|---|---|---|---|---|\n",
       "| 1_MA_J   | AGGCTATA | CGCTCATT | \n",
       "| 1_RZ_J   | AGGCTATA | GAGATTCC | \n",
       "| 10_MA_C  | AGGATAGG | ATTACTCG | \n",
       "| 10_RZ_C  | AGGATAGG | TCCGGAGA | \n",
       "| 11_MA_J  | AGGATAGG | CGCTCATT | \n",
       "| 11_RZ_J  | AGGATAGG | GAGATTCC | \n",
       "\n",
       "\n"
      ],
      "text/plain": [
       "  Label   i5 index i7 index\n",
       "1 1_MA_J  AGGCTATA CGCTCATT\n",
       "2 1_RZ_J  AGGCTATA GAGATTCC\n",
       "3 10_MA_C AGGATAGG ATTACTCG\n",
       "4 10_RZ_C AGGATAGG TCCGGAGA\n",
       "5 11_MA_J AGGATAGG CGCTCATT\n",
       "6 11_RZ_J AGGATAGG GAGATTCC"
      ]
     },
     "metadata": {},
     "output_type": "display_data"
    }
   ],
   "source": [
    "df %>%\n",
    "select(Label, `i5 index`, `i7 index`) %>%\n",
    "arrange(Label) %>%\n",
    "head"
   ]
  },
  {
   "cell_type": "markdown",
   "metadata": {},
   "source": [
    "## Challenge exercise \n",
    "\n",
    "Let's look at the index and primer columne more closely. It seems that the index and primer values are linked and are just different ways of labeling the same thing. So we really should be have columns like this\n",
    "\n",
    "| primer_type | code | seq |\n",
    "| - | - | - |\n",
    "| i5 | i501 | AGGCTATA | \n",
    "| i5 | i502 | GCCTCTAT |\n",
    "| i7 | i701 | ATTACTCG |\n",
    "| i7 | i702 | TCCGGAGA |\n",
    "\n",
    "We can do this by combining the operatios we have seen above."
   ]
  },
  {
   "cell_type": "code",
   "execution_count": 232,
   "metadata": {},
   "outputs": [
    {
     "data": {
      "text/html": [
       "<table>\n",
       "<thead><tr><th scope=col>Label</th><th scope=col>RNA_sample_num</th><th scope=col>Media</th><th scope=col>Strain</th><th scope=col>Replicate</th><th scope=col>concentration_fold_difference</th><th scope=col>primer_type</th><th scope=col>code</th><th scope=col>seq</th></tr></thead>\n",
       "<tbody>\n",
       "\t<tr><td>2_MA_C  </td><td>2       </td><td>YPD     </td><td>H99     </td><td>2       </td><td>1.34    </td><td>i5      </td><td>01      </td><td>AGGCTATA</td></tr>\n",
       "\t<tr><td>2_RZ_C  </td><td>2       </td><td>YPD     </td><td>H99     </td><td>2       </td><td>1.34    </td><td>i5      </td><td>01      </td><td>AGGCTATA</td></tr>\n",
       "\t<tr><td>2_TOT_C </td><td>2       </td><td>YPD     </td><td>H99     </td><td>2       </td><td>1.34    </td><td>i5      </td><td>01      </td><td>AGGCTATA</td></tr>\n",
       "\t<tr><td>1_MA_J  </td><td>1       </td><td>YPD     </td><td>H99     </td><td>1       </td><td>3.64    </td><td>i5      </td><td>01      </td><td>AGGCTATA</td></tr>\n",
       "\t<tr><td>1_RZ_J  </td><td>1       </td><td>YPD     </td><td>H99     </td><td>1       </td><td>3.64    </td><td>i5      </td><td>01      </td><td>AGGCTATA</td></tr>\n",
       "\t<tr><td>4_MA_P  </td><td>4       </td><td>YPD     </td><td>H99     </td><td>4       </td><td>2.05    </td><td>i5      </td><td>01      </td><td>AGGCTATA</td></tr>\n",
       "\t<tr><td>4_RZ_P  </td><td>4       </td><td>YPD     </td><td>H99     </td><td>4       </td><td>2.05    </td><td>i5      </td><td>01      </td><td>AGGCTATA</td></tr>\n",
       "\t<tr><td>9_MA_C  </td><td>9       </td><td>YPD     </td><td>mar1d   </td><td>3       </td><td>2.23    </td><td>i5      </td><td>02      </td><td>GCCTCTAT</td></tr>\n",
       "\t<tr><td>9_RZ_C  </td><td>9       </td><td>YPD     </td><td>mar1d   </td><td>3       </td><td>2.23    </td><td>i5      </td><td>02      </td><td>GCCTCTAT</td></tr>\n",
       "\t<tr><td>3_MA_J  </td><td>3       </td><td>YPD     </td><td>H99     </td><td>3       </td><td>1.98    </td><td>i5      </td><td>02      </td><td>GCCTCTAT</td></tr>\n",
       "</tbody>\n",
       "</table>\n"
      ],
      "text/latex": [
       "\\begin{tabular}{r|lllllllll}\n",
       " Label & RNA\\_sample\\_num & Media & Strain & Replicate & concentration\\_fold\\_difference & primer\\_type & code & seq\\\\\n",
       "\\hline\n",
       "\t 2\\_MA\\_C  & 2           & YPD         & H99         & 2           & 1.34        & i5          & 01          & AGGCTATA   \\\\\n",
       "\t 2\\_RZ\\_C  & 2           & YPD         & H99         & 2           & 1.34        & i5          & 01          & AGGCTATA   \\\\\n",
       "\t 2\\_TOT\\_C & 2           & YPD         & H99         & 2           & 1.34        & i5          & 01          & AGGCTATA   \\\\\n",
       "\t 1\\_MA\\_J  & 1           & YPD         & H99         & 1           & 3.64        & i5          & 01          & AGGCTATA   \\\\\n",
       "\t 1\\_RZ\\_J  & 1           & YPD         & H99         & 1           & 3.64        & i5          & 01          & AGGCTATA   \\\\\n",
       "\t 4\\_MA\\_P  & 4           & YPD         & H99         & 4           & 2.05        & i5          & 01          & AGGCTATA   \\\\\n",
       "\t 4\\_RZ\\_P  & 4           & YPD         & H99         & 4           & 2.05        & i5          & 01          & AGGCTATA   \\\\\n",
       "\t 9\\_MA\\_C  & 9           & YPD         & mar1d       & 3           & 2.23        & i5          & 02          & GCCTCTAT   \\\\\n",
       "\t 9\\_RZ\\_C  & 9           & YPD         & mar1d       & 3           & 2.23        & i5          & 02          & GCCTCTAT   \\\\\n",
       "\t 3\\_MA\\_J  & 3           & YPD         & H99         & 3           & 1.98        & i5          & 02          & GCCTCTAT   \\\\\n",
       "\\end{tabular}\n"
      ],
      "text/markdown": [
       "\n",
       "Label | RNA_sample_num | Media | Strain | Replicate | concentration_fold_difference | primer_type | code | seq | \n",
       "|---|---|---|---|---|---|---|---|---|---|\n",
       "| 2_MA_C   | 2        | YPD      | H99      | 2        | 1.34     | i5       | 01       | AGGCTATA | \n",
       "| 2_RZ_C   | 2        | YPD      | H99      | 2        | 1.34     | i5       | 01       | AGGCTATA | \n",
       "| 2_TOT_C  | 2        | YPD      | H99      | 2        | 1.34     | i5       | 01       | AGGCTATA | \n",
       "| 1_MA_J   | 1        | YPD      | H99      | 1        | 3.64     | i5       | 01       | AGGCTATA | \n",
       "| 1_RZ_J   | 1        | YPD      | H99      | 1        | 3.64     | i5       | 01       | AGGCTATA | \n",
       "| 4_MA_P   | 4        | YPD      | H99      | 4        | 2.05     | i5       | 01       | AGGCTATA | \n",
       "| 4_RZ_P   | 4        | YPD      | H99      | 4        | 2.05     | i5       | 01       | AGGCTATA | \n",
       "| 9_MA_C   | 9        | YPD      | mar1d    | 3        | 2.23     | i5       | 02       | GCCTCTAT | \n",
       "| 9_RZ_C   | 9        | YPD      | mar1d    | 3        | 2.23     | i5       | 02       | GCCTCTAT | \n",
       "| 3_MA_J   | 3        | YPD      | H99      | 3        | 1.98     | i5       | 02       | GCCTCTAT | \n",
       "\n",
       "\n"
      ],
      "text/plain": [
       "   Label   RNA_sample_num Media Strain Replicate concentration_fold_difference\n",
       "1  2_MA_C  2              YPD   H99    2         1.34                         \n",
       "2  2_RZ_C  2              YPD   H99    2         1.34                         \n",
       "3  2_TOT_C 2              YPD   H99    2         1.34                         \n",
       "4  1_MA_J  1              YPD   H99    1         3.64                         \n",
       "5  1_RZ_J  1              YPD   H99    1         3.64                         \n",
       "6  4_MA_P  4              YPD   H99    4         2.05                         \n",
       "7  4_RZ_P  4              YPD   H99    4         2.05                         \n",
       "8  9_MA_C  9              YPD   mar1d  3         2.23                         \n",
       "9  9_RZ_C  9              YPD   mar1d  3         2.23                         \n",
       "10 3_MA_J  3              YPD   H99    3         1.98                         \n",
       "   primer_type code seq     \n",
       "1  i5          01   AGGCTATA\n",
       "2  i5          01   AGGCTATA\n",
       "3  i5          01   AGGCTATA\n",
       "4  i5          01   AGGCTATA\n",
       "5  i5          01   AGGCTATA\n",
       "6  i5          01   AGGCTATA\n",
       "7  i5          01   AGGCTATA\n",
       "8  i5          02   GCCTCTAT\n",
       "9  i5          02   GCCTCTAT\n",
       "10 i5          02   GCCTCTAT"
      ]
     },
     "metadata": {},
     "output_type": "display_data"
    }
   ],
   "source": [
    "df %>% \n",
    "unite(i7, c(`i7 primer`, `i7 index`), sep=':') %>%\n",
    "unite(i5, c(`i5 primer`, `i5 index`), sep=':') %>%\n",
    "gather(primer_type, val, c(i7, i5)) %>%\n",
    "separate(val, into=c('code', 'seq'), sep=':') %>%\n",
    "mutate(code=str_extract(code, '..$')) %>%\n",
    "arrange(primer_type, code) %>% \n",
    "head(10)"
   ]
  }
 ],
 "metadata": {
  "kernelspec": {
   "display_name": "R",
   "language": "R",
   "name": "r"
  },
  "language_info": {
   "codemirror_mode": "r",
   "file_extension": ".r",
   "mimetype": "text/x-r-source",
   "name": "R",
   "pygments_lexer": "r",
   "version": "3.4.4"
  }
 },
 "nbformat": 4,
 "nbformat_minor": 2
}
