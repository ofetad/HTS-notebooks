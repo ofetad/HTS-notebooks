{
 "cells": [
  {
   "cell_type": "markdown",
   "metadata": {},
   "source": [
    "# R `tidyverse` exercise"
   ]
  },
  {
   "cell_type": "markdown",
   "metadata": {},
   "source": [
    "We will be working with the output files from the STAR aligner for this exercise. Thse files have four columns \n",
    "\n",
    "```\n",
    "column 1: gene ID \n",
    "column 2: counts for unstranded RNA-seq \n",
    "column 3: counts for the 1st read strand aligned with RNA (htseq-count option -s yes) \n",
    "column 4: counts for the 2nd read strand aligned with RNA (htseq-count option -s reverse) \n",
    "```\n",
    "\n",
    "For explanation, see [STAR quantMode geneCounts values](https://www.biostars.org/p/218995/)\n",
    "\n",
    "Based on the protocol we are using column 4 is the sense strand reads and column 3 is the anti-sense read counts, so we will be working with columns 1 and 4. "
   ]
  },
  {
   "cell_type": "code",
   "execution_count": 7,
   "metadata": {},
   "outputs": [
    {
     "name": "stderr",
     "output_type": "stream",
     "text": [
      "Loading tidyverse: ggplot2\n",
      "Loading tidyverse: tibble\n",
      "Loading tidyverse: tidyr\n",
      "Loading tidyverse: readr\n",
      "Loading tidyverse: purrr\n",
      "Loading tidyverse: dplyr\n",
      "Conflicts with tidy packages ---------------------------------------------------\n",
      "filter(): dplyr, stats\n",
      "lag():    dplyr, stats\n"
     ]
    }
   ],
   "source": [
    "library(tidyverse)"
   ]
  },
  {
   "cell_type": "markdown",
   "metadata": {},
   "source": [
    "We will work with the following data from the 4 lanes.\n",
    "\n",
    "```\n",
    "1_MA_J_S18_L001_ReadsPerGene.out.tab\n",
    "1_MA_J_S18_L002_ReadsPerGene.out.tab\n",
    "1_MA_J_S18_L003_ReadsPerGene.out.tab\n",
    "1_MA_J_S18_L004_ReadsPerGene.out.tab\n",
    "```\n",
    "\n",
    "found in the directory\n",
    "\n",
    "```\n",
    "/data/hts2018_pilot/star_counts\n",
    "```"
   ]
  },
  {
   "cell_type": "markdown",
   "metadata": {},
   "source": [
    "## Setting up variables"
   ]
  },
  {
   "cell_type": "markdown",
   "metadata": {},
   "source": [
    "**1**. Use `file.path` to create a path to the data directory and save it as the variable `data_dir`."
   ]
  },
  {
   "cell_type": "code",
   "execution_count": 15,
   "metadata": {},
   "outputs": [],
   "source": [
    "data_dir <- \"/data/hts2018_pilot/star_counts\""
   ]
  },
  {
   "cell_type": "code",
   "execution_count": 16,
   "metadata": {},
   "outputs": [],
   "source": [
    "data_dir <-  file.path('/', 'data', 'hts2018_pilot', 'star_counts')"
   ]
  },
  {
   "cell_type": "markdown",
   "metadata": {},
   "source": [
    "**2**. Save the filenames in a variable `filenames`"
   ]
  },
  {
   "cell_type": "code",
   "execution_count": 17,
   "metadata": {},
   "outputs": [],
   "source": [
    "filenames <- c('1_MA_J_S18_L001_ReadsPerGene.out.tab',\n",
    "'1_MA_J_S18_L002_ReadsPerGene.out.tab',\n",
    "'1_MA_J_S18_L003_ReadsPerGene.out.tab',\n",
    "'1_MA_J_S18_L004_ReadsPerGene.out.tab')"
   ]
  },
  {
   "cell_type": "markdown",
   "metadata": {},
   "source": [
    "## Explore one data file"
   ]
  },
  {
   "cell_type": "markdown",
   "metadata": {},
   "source": [
    "**3**. Read the data from the first file into a `data.frame` or `tibble` called `df`. Note that the file does not have a header row. Name the columns `id`,`us`,  `fs`  and `rs`."
   ]
  },
  {
   "cell_type": "code",
   "execution_count": 18,
   "metadata": {},
   "outputs": [
    {
     "data": {
      "text/html": [
       "'//data/hts2018_pilot/star_counts/1_MA_J_S18_L001_ReadsPerGene.out.tab'"
      ],
      "text/latex": [
       "'//data/hts2018\\_pilot/star\\_counts/1\\_MA\\_J\\_S18\\_L001\\_ReadsPerGene.out.tab'"
      ],
      "text/markdown": [
       "'//data/hts2018_pilot/star_counts/1_MA_J_S18_L001_ReadsPerGene.out.tab'"
      ],
      "text/plain": [
       "[1] \"//data/hts2018_pilot/star_counts/1_MA_J_S18_L001_ReadsPerGene.out.tab\""
      ]
     },
     "metadata": {},
     "output_type": "display_data"
    }
   ],
   "source": [
    "f1 <- file.path(data_dir, filenames[[1]])\n",
    "f1"
   ]
  },
  {
   "cell_type": "code",
   "execution_count": 19,
   "metadata": {},
   "outputs": [
    {
     "name": "stderr",
     "output_type": "stream",
     "text": [
      "Parsed with column specification:\n",
      "cols(\n",
      "  id = col_character(),\n",
      "  us = col_integer(),\n",
      "  fs = col_integer(),\n",
      "  rs = col_integer()\n",
      ")\n"
     ]
    }
   ],
   "source": [
    "df <- read_tsv(f1, col_names = c('id', 'us', 'fs', 'rs'))"
   ]
  },
  {
   "cell_type": "markdown",
   "metadata": {},
   "source": [
    "**4**. View the first and last 10 lines of `df`"
   ]
  },
  {
   "cell_type": "code",
   "execution_count": 20,
   "metadata": {},
   "outputs": [
    {
     "data": {
      "text/html": [
       "<table>\n",
       "<thead><tr><th scope=col>id</th><th scope=col>us</th><th scope=col>fs</th><th scope=col>rs</th></tr></thead>\n",
       "<tbody>\n",
       "\t<tr><td>N_unmapped    </td><td>  2690        </td><td>   2690       </td><td> 2690         </td></tr>\n",
       "\t<tr><td>N_multimapping</td><td> 66100        </td><td>  66100       </td><td>66100         </td></tr>\n",
       "\t<tr><td>N_noFeature   </td><td> 10626        </td><td>2238382       </td><td>20347         </td></tr>\n",
       "\t<tr><td>N_ambiguous   </td><td>173170        </td><td>   1622       </td><td>  647         </td></tr>\n",
       "\t<tr><td>CNAG_04548    </td><td>     0        </td><td>      0       </td><td>    0         </td></tr>\n",
       "\t<tr><td>CNAG_07303    </td><td>     0        </td><td>      0       </td><td>    0         </td></tr>\n",
       "\t<tr><td>CNAG_07304    </td><td>     8        </td><td>      0       </td><td>    8         </td></tr>\n",
       "\t<tr><td>CNAG_00001    </td><td>     0        </td><td>      0       </td><td>    0         </td></tr>\n",
       "\t<tr><td>CNAG_07305    </td><td>     0        </td><td>      0       </td><td>    0         </td></tr>\n",
       "\t<tr><td>CNAG_00002    </td><td>    66        </td><td>      0       </td><td>   66         </td></tr>\n",
       "</tbody>\n",
       "</table>\n"
      ],
      "text/latex": [
       "\\begin{tabular}{r|llll}\n",
       " id & us & fs & rs\\\\\n",
       "\\hline\n",
       "\t N\\_unmapped     &   2690           &    2690          &  2690           \\\\\n",
       "\t N\\_multimapping &  66100           &   66100          & 66100           \\\\\n",
       "\t N\\_noFeature    &  10626           & 2238382          & 20347           \\\\\n",
       "\t N\\_ambiguous    & 173170           &    1622          &   647           \\\\\n",
       "\t CNAG\\_04548     &      0           &       0          &     0           \\\\\n",
       "\t CNAG\\_07303     &      0           &       0          &     0           \\\\\n",
       "\t CNAG\\_07304     &      8           &       0          &     8           \\\\\n",
       "\t CNAG\\_00001     &      0           &       0          &     0           \\\\\n",
       "\t CNAG\\_07305     &      0           &       0          &     0           \\\\\n",
       "\t CNAG\\_00002     &     66           &       0          &    66           \\\\\n",
       "\\end{tabular}\n"
      ],
      "text/markdown": [
       "\n",
       "id | us | fs | rs | \n",
       "|---|---|---|---|---|---|---|---|---|---|\n",
       "| N_unmapped     |   2690         |    2690        |  2690          | \n",
       "| N_multimapping |  66100         |   66100        | 66100          | \n",
       "| N_noFeature    |  10626         | 2238382        | 20347          | \n",
       "| N_ambiguous    | 173170         |    1622        |   647          | \n",
       "| CNAG_04548     |      0         |       0        |     0          | \n",
       "| CNAG_07303     |      0         |       0        |     0          | \n",
       "| CNAG_07304     |      8         |       0        |     8          | \n",
       "| CNAG_00001     |      0         |       0        |     0          | \n",
       "| CNAG_07305     |      0         |       0        |     0          | \n",
       "| CNAG_00002     |     66         |       0        |    66          | \n",
       "\n",
       "\n"
      ],
      "text/plain": [
       "   id             us     fs      rs   \n",
       "1  N_unmapped       2690    2690  2690\n",
       "2  N_multimapping  66100   66100 66100\n",
       "3  N_noFeature     10626 2238382 20347\n",
       "4  N_ambiguous    173170    1622   647\n",
       "5  CNAG_04548          0       0     0\n",
       "6  CNAG_07303          0       0     0\n",
       "7  CNAG_07304          8       0     8\n",
       "8  CNAG_00001          0       0     0\n",
       "9  CNAG_07305          0       0     0\n",
       "10 CNAG_00002         66       0    66"
      ]
     },
     "metadata": {},
     "output_type": "display_data"
    }
   ],
   "source": [
    "df %>% head(10)"
   ]
  },
  {
   "cell_type": "code",
   "execution_count": 21,
   "metadata": {},
   "outputs": [
    {
     "data": {
      "text/html": [
       "<table>\n",
       "<thead><tr><th scope=col>id</th><th scope=col>us</th><th scope=col>fs</th><th scope=col>rs</th></tr></thead>\n",
       "<tbody>\n",
       "\t<tr><td>CNAG_09008     </td><td>1              </td><td>0              </td><td>1              </td></tr>\n",
       "\t<tr><td>CNAG_09009     </td><td>9              </td><td>0              </td><td>9              </td></tr>\n",
       "\t<tr><td>CNAG_11015     </td><td>0              </td><td>0              </td><td>0              </td></tr>\n",
       "\t<tr><td>ENSRNA049545623</td><td>0              </td><td>0              </td><td>0              </td></tr>\n",
       "\t<tr><td>CNAG_11016     </td><td>0              </td><td>0              </td><td>0              </td></tr>\n",
       "\t<tr><td>ENSRNA049545680</td><td>0              </td><td>0              </td><td>0              </td></tr>\n",
       "\t<tr><td>CNAG_09010     </td><td>0              </td><td>0              </td><td>0              </td></tr>\n",
       "\t<tr><td>CNAG_09011     </td><td>0              </td><td>0              </td><td>0              </td></tr>\n",
       "\t<tr><td>ENSRNA049545749</td><td>0              </td><td>0              </td><td>0              </td></tr>\n",
       "\t<tr><td>CNAG_09012     </td><td>0              </td><td>0              </td><td>0              </td></tr>\n",
       "</tbody>\n",
       "</table>\n"
      ],
      "text/latex": [
       "\\begin{tabular}{r|llll}\n",
       " id & us & fs & rs\\\\\n",
       "\\hline\n",
       "\t CNAG\\_09008      & 1                 & 0                 & 1                \\\\\n",
       "\t CNAG\\_09009      & 9                 & 0                 & 9                \\\\\n",
       "\t CNAG\\_11015      & 0                 & 0                 & 0                \\\\\n",
       "\t ENSRNA049545623 & 0               & 0               & 0              \\\\\n",
       "\t CNAG\\_11016      & 0                 & 0                 & 0                \\\\\n",
       "\t ENSRNA049545680 & 0               & 0               & 0              \\\\\n",
       "\t CNAG\\_09010      & 0                 & 0                 & 0                \\\\\n",
       "\t CNAG\\_09011      & 0                 & 0                 & 0                \\\\\n",
       "\t ENSRNA049545749 & 0               & 0               & 0              \\\\\n",
       "\t CNAG\\_09012      & 0                 & 0                 & 0                \\\\\n",
       "\\end{tabular}\n"
      ],
      "text/markdown": [
       "\n",
       "id | us | fs | rs | \n",
       "|---|---|---|---|---|---|---|---|---|---|\n",
       "| CNAG_09008      | 1               | 0               | 1               | \n",
       "| CNAG_09009      | 9               | 0               | 9               | \n",
       "| CNAG_11015      | 0               | 0               | 0               | \n",
       "| ENSRNA049545623 | 0               | 0               | 0               | \n",
       "| CNAG_11016      | 0               | 0               | 0               | \n",
       "| ENSRNA049545680 | 0               | 0               | 0               | \n",
       "| CNAG_09010      | 0               | 0               | 0               | \n",
       "| CNAG_09011      | 0               | 0               | 0               | \n",
       "| ENSRNA049545749 | 0               | 0               | 0               | \n",
       "| CNAG_09012      | 0               | 0               | 0               | \n",
       "\n",
       "\n"
      ],
      "text/plain": [
       "   id              us fs rs\n",
       "1  CNAG_09008      1  0  1 \n",
       "2  CNAG_09009      9  0  9 \n",
       "3  CNAG_11015      0  0  0 \n",
       "4  ENSRNA049545623 0  0  0 \n",
       "5  CNAG_11016      0  0  0 \n",
       "6  ENSRNA049545680 0  0  0 \n",
       "7  CNAG_09010      0  0  0 \n",
       "8  CNAG_09011      0  0  0 \n",
       "9  ENSRNA049545749 0  0  0 \n",
       "10 CNAG_09012      0  0  0 "
      ]
     },
     "metadata": {},
     "output_type": "display_data"
    }
   ],
   "source": [
    "df %>% tail(10)"
   ]
  },
  {
   "cell_type": "markdown",
   "metadata": {},
   "source": [
    "**5**. Save the lines from 5 onwards into a new `data.frame`  called `df_genes`."
   ]
  },
  {
   "cell_type": "code",
   "execution_count": 22,
   "metadata": {},
   "outputs": [],
   "source": [
    "df_genes <- df %>% slice(-(1:4))"
   ]
  },
  {
   "cell_type": "code",
   "execution_count": 23,
   "metadata": {},
   "outputs": [
    {
     "data": {
      "text/html": [
       "<table>\n",
       "<thead><tr><th scope=col>id</th><th scope=col>us</th><th scope=col>fs</th><th scope=col>rs</th></tr></thead>\n",
       "<tbody>\n",
       "\t<tr><td>CNAG_04548</td><td>0         </td><td>0         </td><td>0         </td></tr>\n",
       "\t<tr><td>CNAG_07303</td><td>0         </td><td>0         </td><td>0         </td></tr>\n",
       "\t<tr><td>CNAG_07304</td><td>8         </td><td>0         </td><td>8         </td></tr>\n",
       "</tbody>\n",
       "</table>\n"
      ],
      "text/latex": [
       "\\begin{tabular}{r|llll}\n",
       " id & us & fs & rs\\\\\n",
       "\\hline\n",
       "\t CNAG\\_04548 & 0            & 0            & 0           \\\\\n",
       "\t CNAG\\_07303 & 0            & 0            & 0           \\\\\n",
       "\t CNAG\\_07304 & 8            & 0            & 8           \\\\\n",
       "\\end{tabular}\n"
      ],
      "text/markdown": [
       "\n",
       "id | us | fs | rs | \n",
       "|---|---|---|\n",
       "| CNAG_04548 | 0          | 0          | 0          | \n",
       "| CNAG_07303 | 0          | 0          | 0          | \n",
       "| CNAG_07304 | 8          | 0          | 8          | \n",
       "\n",
       "\n"
      ],
      "text/plain": [
       "  id         us fs rs\n",
       "1 CNAG_04548 0  0  0 \n",
       "2 CNAG_07303 0  0  0 \n",
       "3 CNAG_07304 8  0  8 "
      ]
     },
     "metadata": {},
     "output_type": "display_data"
    }
   ],
   "source": [
    "df_genes %>% head(3)"
   ]
  },
  {
   "cell_type": "markdown",
   "metadata": {},
   "source": [
    "**6**. Create a new file from `df_genes` contining only the 1st and 4th columns and save as a new variable `df_final`."
   ]
  },
  {
   "cell_type": "code",
   "execution_count": 24,
   "metadata": {},
   "outputs": [
    {
     "data": {
      "text/html": [
       "<table>\n",
       "<thead><tr><th scope=col>id</th><th scope=col>rs</th></tr></thead>\n",
       "<tbody>\n",
       "\t<tr><td>CNAG_04548</td><td>0         </td></tr>\n",
       "\t<tr><td>CNAG_07303</td><td>0         </td></tr>\n",
       "\t<tr><td>CNAG_07304</td><td>8         </td></tr>\n",
       "</tbody>\n",
       "</table>\n"
      ],
      "text/latex": [
       "\\begin{tabular}{r|ll}\n",
       " id & rs\\\\\n",
       "\\hline\n",
       "\t CNAG\\_04548 & 0           \\\\\n",
       "\t CNAG\\_07303 & 0           \\\\\n",
       "\t CNAG\\_07304 & 8           \\\\\n",
       "\\end{tabular}\n"
      ],
      "text/markdown": [
       "\n",
       "id | rs | \n",
       "|---|---|---|\n",
       "| CNAG_04548 | 0          | \n",
       "| CNAG_07303 | 0          | \n",
       "| CNAG_07304 | 8          | \n",
       "\n",
       "\n"
      ],
      "text/plain": [
       "  id         rs\n",
       "1 CNAG_04548 0 \n",
       "2 CNAG_07303 0 \n",
       "3 CNAG_07304 8 "
      ]
     },
     "metadata": {},
     "output_type": "display_data"
    }
   ],
   "source": [
    "df_final <- df_genes %>% select(id, rs)\n",
    "df_final %>% head(3)"
   ]
  },
  {
   "cell_type": "markdown",
   "metadata": {},
   "source": [
    "**7**. Now do steps 3, 5 and 6 for the other 3 files using a loop, and combine them with `df_final` using `full_join` on the `id` column to end up with a data.frame with 5 columns (id and 4 count columns)."
   ]
  },
  {
   "cell_type": "code",
   "execution_count": 25,
   "metadata": {},
   "outputs": [],
   "source": [
    "for (i in 2:4) {\n",
    "    filename <- filenames[i]\n",
    "    path <- file.path(file.path(data_dir, filename))\n",
    "    df <- suppressMessages(read_tsv(path, col_names =c('id', 'us', 'fs', 'rs')))\n",
    "    df <- df %>% slice(-(1:4)) %>% select('id', 'rs')\n",
    "    df_final <- full_join(df_final, df, by = 'id') \n",
    "}"
   ]
  },
  {
   "cell_type": "markdown",
   "metadata": {},
   "source": [
    "**8**. Rename the counts columns as `lane1`, `lane2`, `lane3` and `lane4`. At this point you should have a `data.frame` that looks like this\n",
    "\n",
    "| id |\tlane1 | lane2 | lane3 | lane4 |\n",
    "| - | - | - | - | -| \n",
    "| gene0 | 0 |\t0 |\t0 |\t1 |\n",
    "| gene1\t| 0 |\t0 |\t0 |\t0 |\n",
    "| gene2\t| 8 |\t4 |\t10 | 3 | \n",
    "\n"
   ]
  },
  {
   "cell_type": "code",
   "execution_count": 26,
   "metadata": {},
   "outputs": [],
   "source": [
    "names(df_final) <- c('id', 'lane1', 'lane2', 'lane3', 'lane4')"
   ]
  },
  {
   "cell_type": "code",
   "execution_count": 27,
   "metadata": {},
   "outputs": [
    {
     "data": {
      "text/html": [
       "<table>\n",
       "<thead><tr><th scope=col>id</th><th scope=col>lane1</th><th scope=col>lane2</th><th scope=col>lane3</th><th scope=col>lane4</th></tr></thead>\n",
       "<tbody>\n",
       "\t<tr><td>CNAG_04548</td><td>0         </td><td>0         </td><td> 0        </td><td>1         </td></tr>\n",
       "\t<tr><td>CNAG_07303</td><td>0         </td><td>0         </td><td> 0        </td><td>0         </td></tr>\n",
       "\t<tr><td>CNAG_07304</td><td>8         </td><td>7         </td><td>10        </td><td>9         </td></tr>\n",
       "</tbody>\n",
       "</table>\n"
      ],
      "text/latex": [
       "\\begin{tabular}{r|lllll}\n",
       " id & lane1 & lane2 & lane3 & lane4\\\\\n",
       "\\hline\n",
       "\t CNAG\\_04548 & 0            & 0            &  0           & 1           \\\\\n",
       "\t CNAG\\_07303 & 0            & 0            &  0           & 0           \\\\\n",
       "\t CNAG\\_07304 & 8            & 7            & 10           & 9           \\\\\n",
       "\\end{tabular}\n"
      ],
      "text/markdown": [
       "\n",
       "id | lane1 | lane2 | lane3 | lane4 | \n",
       "|---|---|---|\n",
       "| CNAG_04548 | 0          | 0          |  0         | 1          | \n",
       "| CNAG_07303 | 0          | 0          |  0         | 0          | \n",
       "| CNAG_07304 | 8          | 7          | 10         | 9          | \n",
       "\n",
       "\n"
      ],
      "text/plain": [
       "  id         lane1 lane2 lane3 lane4\n",
       "1 CNAG_04548 0     0      0    1    \n",
       "2 CNAG_07303 0     0      0    0    \n",
       "3 CNAG_07304 8     7     10    9    "
      ]
     },
     "metadata": {},
     "output_type": "display_data"
    }
   ],
   "source": [
    "head(df_final, 3)"
   ]
  },
  {
   "cell_type": "markdown",
   "metadata": {},
   "source": [
    "**9**. Create a new column containng the sum of lanes 1-4 called `counts` and save as `df_wiht_counts`."
   ]
  },
  {
   "cell_type": "code",
   "execution_count": 28,
   "metadata": {},
   "outputs": [
    {
     "data": {
      "text/html": [
       "<table>\n",
       "<thead><tr><th scope=col>id</th><th scope=col>lane1</th><th scope=col>lane2</th><th scope=col>lane3</th><th scope=col>lane4</th><th scope=col>counts</th></tr></thead>\n",
       "<tbody>\n",
       "\t<tr><td>CNAG_04548</td><td> 0        </td><td> 0        </td><td> 0        </td><td> 1        </td><td>  1       </td></tr>\n",
       "\t<tr><td>CNAG_07303</td><td> 0        </td><td> 0        </td><td> 0        </td><td> 0        </td><td>  0       </td></tr>\n",
       "\t<tr><td>CNAG_07304</td><td> 8        </td><td> 7        </td><td>10        </td><td> 9        </td><td> 34       </td></tr>\n",
       "\t<tr><td>CNAG_00001</td><td> 0        </td><td> 0        </td><td> 0        </td><td> 0        </td><td>  0       </td></tr>\n",
       "\t<tr><td>CNAG_07305</td><td> 0        </td><td> 1        </td><td> 0        </td><td> 0        </td><td>  1       </td></tr>\n",
       "\t<tr><td>CNAG_00002</td><td>66        </td><td>59        </td><td>74        </td><td>66        </td><td>265       </td></tr>\n",
       "</tbody>\n",
       "</table>\n"
      ],
      "text/latex": [
       "\\begin{tabular}{r|llllll}\n",
       " id & lane1 & lane2 & lane3 & lane4 & counts\\\\\n",
       "\\hline\n",
       "\t CNAG\\_04548 &  0           &  0           &  0           &  1           &   1         \\\\\n",
       "\t CNAG\\_07303 &  0           &  0           &  0           &  0           &   0         \\\\\n",
       "\t CNAG\\_07304 &  8           &  7           & 10           &  9           &  34         \\\\\n",
       "\t CNAG\\_00001 &  0           &  0           &  0           &  0           &   0         \\\\\n",
       "\t CNAG\\_07305 &  0           &  1           &  0           &  0           &   1         \\\\\n",
       "\t CNAG\\_00002 & 66           & 59           & 74           & 66           & 265         \\\\\n",
       "\\end{tabular}\n"
      ],
      "text/markdown": [
       "\n",
       "id | lane1 | lane2 | lane3 | lane4 | counts | \n",
       "|---|---|---|---|---|---|\n",
       "| CNAG_04548 |  0         |  0         |  0         |  1         |   1        | \n",
       "| CNAG_07303 |  0         |  0         |  0         |  0         |   0        | \n",
       "| CNAG_07304 |  8         |  7         | 10         |  9         |  34        | \n",
       "| CNAG_00001 |  0         |  0         |  0         |  0         |   0        | \n",
       "| CNAG_07305 |  0         |  1         |  0         |  0         |   1        | \n",
       "| CNAG_00002 | 66         | 59         | 74         | 66         | 265        | \n",
       "\n",
       "\n"
      ],
      "text/plain": [
       "  id         lane1 lane2 lane3 lane4 counts\n",
       "1 CNAG_04548  0     0     0     1      1   \n",
       "2 CNAG_07303  0     0     0     0      0   \n",
       "3 CNAG_07304  8     7    10     9     34   \n",
       "4 CNAG_00001  0     0     0     0      0   \n",
       "5 CNAG_07305  0     1     0     0      1   \n",
       "6 CNAG_00002 66    59    74    66    265   "
      ]
     },
     "metadata": {},
     "output_type": "display_data"
    }
   ],
   "source": [
    "df_with_counts <- df_final %>% \n",
    "mutate(counts = lane1 + lane2+ lane3 + lane4) \n",
    "head(df_with_counts)"
   ]
  },
  {
   "cell_type": "markdown",
   "metadata": {},
   "source": [
    "**Note on more facny R**.\n",
    "\n",
    "If there are too many columns to add, you can use `Reduce`. The funny `.` notation is a dummy variable for the entity begin pipled in. \n",
    "\n",
    "`Reduce` applies the binary operation in the first argument to all pairs of variables in the second arguemnt, with an optional initial value (defaults to a the identity for the binary operation).\n",
    "\n",
    "For example:\n",
    "\n",
    "`Reduce('+', 1:4)` is the same as `Reduce('+', 1:4, 0)` which is `((((0 + 1) + 2) + 3) + 4)` and returns 10 - i.e. this gives the same result as sum."
   ]
  },
  {
   "cell_type": "code",
   "execution_count": 35,
   "metadata": {},
   "outputs": [
    {
     "data": {
      "text/html": [
       "<table>\n",
       "<thead><tr><th scope=col>id</th><th scope=col>lane1</th><th scope=col>lane2</th><th scope=col>lane3</th><th scope=col>lane4</th><th scope=col>counts</th></tr></thead>\n",
       "<tbody>\n",
       "\t<tr><td>CNAG_04548</td><td>0         </td><td>0         </td><td> 0        </td><td>1         </td><td> 1        </td></tr>\n",
       "\t<tr><td>CNAG_07303</td><td>0         </td><td>0         </td><td> 0        </td><td>0         </td><td> 0        </td></tr>\n",
       "\t<tr><td>CNAG_07304</td><td>8         </td><td>7         </td><td>10        </td><td>9         </td><td>34        </td></tr>\n",
       "\t<tr><td>CNAG_00001</td><td>0         </td><td>0         </td><td> 0        </td><td>0         </td><td> 0        </td></tr>\n",
       "\t<tr><td>CNAG_07305</td><td>0         </td><td>1         </td><td> 0        </td><td>0         </td><td> 1        </td></tr>\n",
       "</tbody>\n",
       "</table>\n"
      ],
      "text/latex": [
       "\\begin{tabular}{r|llllll}\n",
       " id & lane1 & lane2 & lane3 & lane4 & counts\\\\\n",
       "\\hline\n",
       "\t CNAG\\_04548 & 0            & 0            &  0           & 1            &  1          \\\\\n",
       "\t CNAG\\_07303 & 0            & 0            &  0           & 0            &  0          \\\\\n",
       "\t CNAG\\_07304 & 8            & 7            & 10           & 9            & 34          \\\\\n",
       "\t CNAG\\_00001 & 0            & 0            &  0           & 0            &  0          \\\\\n",
       "\t CNAG\\_07305 & 0            & 1            &  0           & 0            &  1          \\\\\n",
       "\\end{tabular}\n"
      ],
      "text/markdown": [
       "\n",
       "id | lane1 | lane2 | lane3 | lane4 | counts | \n",
       "|---|---|---|---|---|\n",
       "| CNAG_04548 | 0          | 0          |  0         | 1          |  1         | \n",
       "| CNAG_07303 | 0          | 0          |  0         | 0          |  0         | \n",
       "| CNAG_07304 | 8          | 7          | 10         | 9          | 34         | \n",
       "| CNAG_00001 | 0          | 0          |  0         | 0          |  0         | \n",
       "| CNAG_07305 | 0          | 1          |  0         | 0          |  1         | \n",
       "\n",
       "\n"
      ],
      "text/plain": [
       "  id         lane1 lane2 lane3 lane4 counts\n",
       "1 CNAG_04548 0     0      0    1      1    \n",
       "2 CNAG_07303 0     0      0    0      0    \n",
       "3 CNAG_07304 8     7     10    9     34    \n",
       "4 CNAG_00001 0     0      0    0      0    \n",
       "5 CNAG_07305 0     1      0    0      1    "
      ]
     },
     "metadata": {},
     "output_type": "display_data"
    }
   ],
   "source": [
    "df_final %>% \n",
    "mutate(counts = Reduce('+', .[2:5])) %>% \n",
    "head(5)"
   ]
  },
  {
   "cell_type": "markdown",
   "metadata": {},
   "source": [
    "**10**. Keep only the `id` and `coutns` columns and remove reow where the gene count is 0 and save as `df_counts`. \n",
    "\n",
    "- How many genes with non-zero counts are there?\n",
    "- What is the gene(s) with the highest count?\n",
    "- What are the top 10 largest counts - i.e. the set with the largest number of genes having the same count?"
   ]
  },
  {
   "cell_type": "code",
   "execution_count": 36,
   "metadata": {},
   "outputs": [
    {
     "data": {
      "text/html": [
       "<table>\n",
       "<thead><tr><th scope=col>id</th><th scope=col>lane1</th><th scope=col>lane2</th><th scope=col>lane3</th><th scope=col>lane4</th><th scope=col>counts</th></tr></thead>\n",
       "<tbody>\n",
       "\t<tr><td>CNAG_04548</td><td>  0       </td><td>  0       </td><td>  0       </td><td>  1       </td><td>   1      </td></tr>\n",
       "\t<tr><td>CNAG_07303</td><td>  0       </td><td>  0       </td><td>  0       </td><td>  0       </td><td>   0      </td></tr>\n",
       "\t<tr><td>CNAG_07304</td><td>  8       </td><td>  7       </td><td> 10       </td><td>  9       </td><td>  34      </td></tr>\n",
       "\t<tr><td>CNAG_00001</td><td>  0       </td><td>  0       </td><td>  0       </td><td>  0       </td><td>   0      </td></tr>\n",
       "\t<tr><td>CNAG_07305</td><td>  0       </td><td>  1       </td><td>  0       </td><td>  0       </td><td>   1      </td></tr>\n",
       "\t<tr><td>CNAG_00002</td><td> 66       </td><td> 59       </td><td> 74       </td><td> 66       </td><td> 265      </td></tr>\n",
       "\t<tr><td>CNAG_00003</td><td> 38       </td><td> 25       </td><td> 27       </td><td> 22       </td><td> 112      </td></tr>\n",
       "\t<tr><td>CNAG_00004</td><td> 74       </td><td> 79       </td><td> 79       </td><td> 69       </td><td> 301      </td></tr>\n",
       "\t<tr><td>CNAG_00005</td><td> 33       </td><td> 25       </td><td> 32       </td><td> 24       </td><td> 114      </td></tr>\n",
       "\t<tr><td>CNAG_12000</td><td> 31       </td><td> 45       </td><td> 39       </td><td> 36       </td><td> 151      </td></tr>\n",
       "\t<tr><td>CNAG_12001</td><td>  2       </td><td>  7       </td><td>  0       </td><td>  4       </td><td>  13      </td></tr>\n",
       "\t<tr><td>CNAG_00006</td><td>488       </td><td>477       </td><td>496       </td><td>443       </td><td>1904      </td></tr>\n",
       "\t<tr><td>CNAG_00007</td><td>503       </td><td>518       </td><td>538       </td><td>467       </td><td>2026      </td></tr>\n",
       "\t<tr><td>CNAG_00008</td><td>225       </td><td>198       </td><td>210       </td><td>213       </td><td> 846      </td></tr>\n",
       "\t<tr><td>CNAG_00009</td><td>144       </td><td>149       </td><td>120       </td><td>134       </td><td> 547      </td></tr>\n",
       "\t<tr><td>CNAG_00010</td><td>166       </td><td>148       </td><td>162       </td><td>179       </td><td> 655      </td></tr>\n",
       "\t<tr><td>CNAG_00011</td><td> 38       </td><td> 47       </td><td> 36       </td><td> 46       </td><td> 167      </td></tr>\n",
       "\t<tr><td>CNAG_00012</td><td>134       </td><td>118       </td><td>106       </td><td>118       </td><td> 476      </td></tr>\n",
       "\t<tr><td>CNAG_00013</td><td> 77       </td><td> 69       </td><td> 73       </td><td> 70       </td><td> 289      </td></tr>\n",
       "\t<tr><td>CNAG_00014</td><td> 17       </td><td> 21       </td><td> 20       </td><td> 23       </td><td>  81      </td></tr>\n",
       "\t<tr><td>CNAG_00015</td><td>  3       </td><td>  5       </td><td>  3       </td><td>  3       </td><td>  14      </td></tr>\n",
       "\t<tr><td>CNAG_00016</td><td>303       </td><td>244       </td><td>280       </td><td>250       </td><td>1077      </td></tr>\n",
       "\t<tr><td>CNAG_00017</td><td> 34       </td><td> 31       </td><td> 28       </td><td> 29       </td><td> 122      </td></tr>\n",
       "\t<tr><td>CNAG_12002</td><td>  1       </td><td>  2       </td><td>  1       </td><td>  2       </td><td>   6      </td></tr>\n",
       "\t<tr><td>CNAG_00018</td><td>174       </td><td>154       </td><td>159       </td><td>182       </td><td> 669      </td></tr>\n",
       "\t<tr><td>CNAG_00019</td><td>321       </td><td>329       </td><td>323       </td><td>300       </td><td>1273      </td></tr>\n",
       "\t<tr><td>CNAG_00020</td><td>161       </td><td>188       </td><td>164       </td><td>181       </td><td> 694      </td></tr>\n",
       "\t<tr><td>CNAG_12003</td><td>  4       </td><td>  2       </td><td>  0       </td><td>  4       </td><td>  10      </td></tr>\n",
       "\t<tr><td>CNAG_00021</td><td>265       </td><td>272       </td><td>238       </td><td>227       </td><td>1002      </td></tr>\n",
       "\t<tr><td>CNAG_12004</td><td>  0       </td><td>  0       </td><td>  4       </td><td>  2       </td><td>   6      </td></tr>\n",
       "\t<tr><td>⋮</td><td>⋮</td><td>⋮</td><td>⋮</td><td>⋮</td><td>⋮</td></tr>\n",
       "\t<tr><td>CNAG_11005     </td><td>  0            </td><td>  0            </td><td>  0            </td><td>  0            </td><td>   0           </td></tr>\n",
       "\t<tr><td>ENSRNA049545853</td><td>  0            </td><td>  0            </td><td>  0            </td><td>  0            </td><td>   0           </td></tr>\n",
       "\t<tr><td>CNAG_09004     </td><td>  1            </td><td>  2            </td><td>  2            </td><td>  2            </td><td>   7           </td></tr>\n",
       "\t<tr><td>CNAG_09005     </td><td>  1            </td><td>  0            </td><td>  1            </td><td>  0            </td><td>   2           </td></tr>\n",
       "\t<tr><td>CNAG_09006     </td><td>  3            </td><td>  3            </td><td>  1            </td><td>  3            </td><td>  10           </td></tr>\n",
       "\t<tr><td>CNAG_11007     </td><td>  0            </td><td>  0            </td><td>  0            </td><td>  0            </td><td>   0           </td></tr>\n",
       "\t<tr><td>ENSRNA049545304</td><td>  0            </td><td>  0            </td><td>  0            </td><td>  0            </td><td>   0           </td></tr>\n",
       "\t<tr><td>CNAG_11008     </td><td>  0            </td><td>  0            </td><td>  0            </td><td>  0            </td><td>   0           </td></tr>\n",
       "\t<tr><td>ENSRNA049545347</td><td>  0            </td><td>  0            </td><td>  0            </td><td>  0            </td><td>   0           </td></tr>\n",
       "\t<tr><td>CNAG_09007     </td><td>265            </td><td>311            </td><td>324            </td><td>314            </td><td>1214           </td></tr>\n",
       "\t<tr><td>CNAG_11009     </td><td>  0            </td><td>  0            </td><td>  0            </td><td>  0            </td><td>   0           </td></tr>\n",
       "\t<tr><td>ENSRNA049545387</td><td>  0            </td><td>  0            </td><td>  0            </td><td>  0            </td><td>   0           </td></tr>\n",
       "\t<tr><td>CNAG_11010     </td><td>  0            </td><td>  0            </td><td>  0            </td><td>  0            </td><td>   0           </td></tr>\n",
       "\t<tr><td>ENSRNA049545437</td><td>  0            </td><td>  0            </td><td>  0            </td><td>  0            </td><td>   0           </td></tr>\n",
       "\t<tr><td>CNAG_11011     </td><td>  0            </td><td>  0            </td><td>  0            </td><td>  0            </td><td>   0           </td></tr>\n",
       "\t<tr><td>ENSRNA049545497</td><td>  0            </td><td>  0            </td><td>  0            </td><td>  0            </td><td>   0           </td></tr>\n",
       "\t<tr><td>CNAG_11012     </td><td>  0            </td><td>  0            </td><td>  0            </td><td>  0            </td><td>   0           </td></tr>\n",
       "\t<tr><td>ENSRNA049545566</td><td>  0            </td><td>  0            </td><td>  0            </td><td>  0            </td><td>   0           </td></tr>\n",
       "\t<tr><td>CNAG_11013     </td><td>  0            </td><td>  0            </td><td>  0            </td><td>  0            </td><td>   0           </td></tr>\n",
       "\t<tr><td>ENSRNA049545785</td><td>  0            </td><td>  0            </td><td>  0            </td><td>  0            </td><td>   0           </td></tr>\n",
       "\t<tr><td>CNAG_09008     </td><td>  1            </td><td>  0            </td><td>  0            </td><td>  1            </td><td>   2           </td></tr>\n",
       "\t<tr><td>CNAG_09009     </td><td>  9            </td><td> 14            </td><td>  6            </td><td>  4            </td><td>  33           </td></tr>\n",
       "\t<tr><td>CNAG_11015     </td><td>  0            </td><td>  0            </td><td>  0            </td><td>  0            </td><td>   0           </td></tr>\n",
       "\t<tr><td>ENSRNA049545623</td><td>  0            </td><td>  0            </td><td>  0            </td><td>  0            </td><td>   0           </td></tr>\n",
       "\t<tr><td>CNAG_11016     </td><td>  0            </td><td>  0            </td><td>  0            </td><td>  0            </td><td>   0           </td></tr>\n",
       "\t<tr><td>ENSRNA049545680</td><td>  0            </td><td>  0            </td><td>  0            </td><td>  0            </td><td>   0           </td></tr>\n",
       "\t<tr><td>CNAG_09010     </td><td>  0            </td><td>  1            </td><td>  0            </td><td>  0            </td><td>   1           </td></tr>\n",
       "\t<tr><td>CNAG_09011     </td><td>  0            </td><td>  1            </td><td>  1            </td><td>  0            </td><td>   2           </td></tr>\n",
       "\t<tr><td>ENSRNA049545749</td><td>  0            </td><td>  0            </td><td>  0            </td><td>  0            </td><td>   0           </td></tr>\n",
       "\t<tr><td>CNAG_09012     </td><td>  0            </td><td>  1            </td><td>  2            </td><td>  4            </td><td>   7           </td></tr>\n",
       "</tbody>\n",
       "</table>\n"
      ],
      "text/latex": [
       "\\begin{tabular}{r|llllll}\n",
       " id & lane1 & lane2 & lane3 & lane4 & counts\\\\\n",
       "\\hline\n",
       "\t CNAG\\_04548 &   0          &   0          &   0          &   1          &    1        \\\\\n",
       "\t CNAG\\_07303 &   0          &   0          &   0          &   0          &    0        \\\\\n",
       "\t CNAG\\_07304 &   8          &   7          &  10          &   9          &   34        \\\\\n",
       "\t CNAG\\_00001 &   0          &   0          &   0          &   0          &    0        \\\\\n",
       "\t CNAG\\_07305 &   0          &   1          &   0          &   0          &    1        \\\\\n",
       "\t CNAG\\_00002 &  66          &  59          &  74          &  66          &  265        \\\\\n",
       "\t CNAG\\_00003 &  38          &  25          &  27          &  22          &  112        \\\\\n",
       "\t CNAG\\_00004 &  74          &  79          &  79          &  69          &  301        \\\\\n",
       "\t CNAG\\_00005 &  33          &  25          &  32          &  24          &  114        \\\\\n",
       "\t CNAG\\_12000 &  31          &  45          &  39          &  36          &  151        \\\\\n",
       "\t CNAG\\_12001 &   2          &   7          &   0          &   4          &   13        \\\\\n",
       "\t CNAG\\_00006 & 488          & 477          & 496          & 443          & 1904        \\\\\n",
       "\t CNAG\\_00007 & 503          & 518          & 538          & 467          & 2026        \\\\\n",
       "\t CNAG\\_00008 & 225          & 198          & 210          & 213          &  846        \\\\\n",
       "\t CNAG\\_00009 & 144          & 149          & 120          & 134          &  547        \\\\\n",
       "\t CNAG\\_00010 & 166          & 148          & 162          & 179          &  655        \\\\\n",
       "\t CNAG\\_00011 &  38          &  47          &  36          &  46          &  167        \\\\\n",
       "\t CNAG\\_00012 & 134          & 118          & 106          & 118          &  476        \\\\\n",
       "\t CNAG\\_00013 &  77          &  69          &  73          &  70          &  289        \\\\\n",
       "\t CNAG\\_00014 &  17          &  21          &  20          &  23          &   81        \\\\\n",
       "\t CNAG\\_00015 &   3          &   5          &   3          &   3          &   14        \\\\\n",
       "\t CNAG\\_00016 & 303          & 244          & 280          & 250          & 1077        \\\\\n",
       "\t CNAG\\_00017 &  34          &  31          &  28          &  29          &  122        \\\\\n",
       "\t CNAG\\_12002 &   1          &   2          &   1          &   2          &    6        \\\\\n",
       "\t CNAG\\_00018 & 174          & 154          & 159          & 182          &  669        \\\\\n",
       "\t CNAG\\_00019 & 321          & 329          & 323          & 300          & 1273        \\\\\n",
       "\t CNAG\\_00020 & 161          & 188          & 164          & 181          &  694        \\\\\n",
       "\t CNAG\\_12003 &   4          &   2          &   0          &   4          &   10        \\\\\n",
       "\t CNAG\\_00021 & 265          & 272          & 238          & 227          & 1002        \\\\\n",
       "\t CNAG\\_12004 &   0          &   0          &   4          &   2          &    6        \\\\\n",
       "\t ⋮ & ⋮ & ⋮ & ⋮ & ⋮ & ⋮\\\\\n",
       "\t CNAG\\_11005      &   0               &   0               &   0               &   0               &    0             \\\\\n",
       "\t ENSRNA049545853 &   0             &   0             &   0             &   0             &    0           \\\\\n",
       "\t CNAG\\_09004      &   1               &   2               &   2               &   2               &    7             \\\\\n",
       "\t CNAG\\_09005      &   1               &   0               &   1               &   0               &    2             \\\\\n",
       "\t CNAG\\_09006      &   3               &   3               &   1               &   3               &   10             \\\\\n",
       "\t CNAG\\_11007      &   0               &   0               &   0               &   0               &    0             \\\\\n",
       "\t ENSRNA049545304 &   0             &   0             &   0             &   0             &    0           \\\\\n",
       "\t CNAG\\_11008      &   0               &   0               &   0               &   0               &    0             \\\\\n",
       "\t ENSRNA049545347 &   0             &   0             &   0             &   0             &    0           \\\\\n",
       "\t CNAG\\_09007      & 265               & 311               & 324               & 314               & 1214             \\\\\n",
       "\t CNAG\\_11009      &   0               &   0               &   0               &   0               &    0             \\\\\n",
       "\t ENSRNA049545387 &   0             &   0             &   0             &   0             &    0           \\\\\n",
       "\t CNAG\\_11010      &   0               &   0               &   0               &   0               &    0             \\\\\n",
       "\t ENSRNA049545437 &   0             &   0             &   0             &   0             &    0           \\\\\n",
       "\t CNAG\\_11011      &   0               &   0               &   0               &   0               &    0             \\\\\n",
       "\t ENSRNA049545497 &   0             &   0             &   0             &   0             &    0           \\\\\n",
       "\t CNAG\\_11012      &   0               &   0               &   0               &   0               &    0             \\\\\n",
       "\t ENSRNA049545566 &   0             &   0             &   0             &   0             &    0           \\\\\n",
       "\t CNAG\\_11013      &   0               &   0               &   0               &   0               &    0             \\\\\n",
       "\t ENSRNA049545785 &   0             &   0             &   0             &   0             &    0           \\\\\n",
       "\t CNAG\\_09008      &   1               &   0               &   0               &   1               &    2             \\\\\n",
       "\t CNAG\\_09009      &   9               &  14               &   6               &   4               &   33             \\\\\n",
       "\t CNAG\\_11015      &   0               &   0               &   0               &   0               &    0             \\\\\n",
       "\t ENSRNA049545623 &   0             &   0             &   0             &   0             &    0           \\\\\n",
       "\t CNAG\\_11016      &   0               &   0               &   0               &   0               &    0             \\\\\n",
       "\t ENSRNA049545680 &   0             &   0             &   0             &   0             &    0           \\\\\n",
       "\t CNAG\\_09010      &   0               &   1               &   0               &   0               &    1             \\\\\n",
       "\t CNAG\\_09011      &   0               &   1               &   1               &   0               &    2             \\\\\n",
       "\t ENSRNA049545749 &   0             &   0             &   0             &   0             &    0           \\\\\n",
       "\t CNAG\\_09012      &   0               &   1               &   2               &   4               &    7             \\\\\n",
       "\\end{tabular}\n"
      ],
      "text/markdown": [
       "\n",
       "id | lane1 | lane2 | lane3 | lane4 | counts | \n",
       "|---|---|---|---|---|---|---|---|---|---|---|---|---|---|---|---|---|---|---|---|---|---|---|---|---|---|---|---|---|---|---|---|---|---|---|---|---|---|---|---|---|---|---|---|---|---|---|---|---|---|---|---|---|---|---|---|---|---|---|---|---|\n",
       "| CNAG_04548 |   0        |   0        |   0        |   1        |    1       | \n",
       "| CNAG_07303 |   0        |   0        |   0        |   0        |    0       | \n",
       "| CNAG_07304 |   8        |   7        |  10        |   9        |   34       | \n",
       "| CNAG_00001 |   0        |   0        |   0        |   0        |    0       | \n",
       "| CNAG_07305 |   0        |   1        |   0        |   0        |    1       | \n",
       "| CNAG_00002 |  66        |  59        |  74        |  66        |  265       | \n",
       "| CNAG_00003 |  38        |  25        |  27        |  22        |  112       | \n",
       "| CNAG_00004 |  74        |  79        |  79        |  69        |  301       | \n",
       "| CNAG_00005 |  33        |  25        |  32        |  24        |  114       | \n",
       "| CNAG_12000 |  31        |  45        |  39        |  36        |  151       | \n",
       "| CNAG_12001 |   2        |   7        |   0        |   4        |   13       | \n",
       "| CNAG_00006 | 488        | 477        | 496        | 443        | 1904       | \n",
       "| CNAG_00007 | 503        | 518        | 538        | 467        | 2026       | \n",
       "| CNAG_00008 | 225        | 198        | 210        | 213        |  846       | \n",
       "| CNAG_00009 | 144        | 149        | 120        | 134        |  547       | \n",
       "| CNAG_00010 | 166        | 148        | 162        | 179        |  655       | \n",
       "| CNAG_00011 |  38        |  47        |  36        |  46        |  167       | \n",
       "| CNAG_00012 | 134        | 118        | 106        | 118        |  476       | \n",
       "| CNAG_00013 |  77        |  69        |  73        |  70        |  289       | \n",
       "| CNAG_00014 |  17        |  21        |  20        |  23        |   81       | \n",
       "| CNAG_00015 |   3        |   5        |   3        |   3        |   14       | \n",
       "| CNAG_00016 | 303        | 244        | 280        | 250        | 1077       | \n",
       "| CNAG_00017 |  34        |  31        |  28        |  29        |  122       | \n",
       "| CNAG_12002 |   1        |   2        |   1        |   2        |    6       | \n",
       "| CNAG_00018 | 174        | 154        | 159        | 182        |  669       | \n",
       "| CNAG_00019 | 321        | 329        | 323        | 300        | 1273       | \n",
       "| CNAG_00020 | 161        | 188        | 164        | 181        |  694       | \n",
       "| CNAG_12003 |   4        |   2        |   0        |   4        |   10       | \n",
       "| CNAG_00021 | 265        | 272        | 238        | 227        | 1002       | \n",
       "| CNAG_12004 |   0        |   0        |   4        |   2        |    6       | \n",
       "| ⋮ | ⋮ | ⋮ | ⋮ | ⋮ | ⋮ | \n",
       "| CNAG_11005      |   0             |   0             |   0             |   0             |    0            | \n",
       "| ENSRNA049545853 |   0             |   0             |   0             |   0             |    0            | \n",
       "| CNAG_09004      |   1             |   2             |   2             |   2             |    7            | \n",
       "| CNAG_09005      |   1             |   0             |   1             |   0             |    2            | \n",
       "| CNAG_09006      |   3             |   3             |   1             |   3             |   10            | \n",
       "| CNAG_11007      |   0             |   0             |   0             |   0             |    0            | \n",
       "| ENSRNA049545304 |   0             |   0             |   0             |   0             |    0            | \n",
       "| CNAG_11008      |   0             |   0             |   0             |   0             |    0            | \n",
       "| ENSRNA049545347 |   0             |   0             |   0             |   0             |    0            | \n",
       "| CNAG_09007      | 265             | 311             | 324             | 314             | 1214            | \n",
       "| CNAG_11009      |   0             |   0             |   0             |   0             |    0            | \n",
       "| ENSRNA049545387 |   0             |   0             |   0             |   0             |    0            | \n",
       "| CNAG_11010      |   0             |   0             |   0             |   0             |    0            | \n",
       "| ENSRNA049545437 |   0             |   0             |   0             |   0             |    0            | \n",
       "| CNAG_11011      |   0             |   0             |   0             |   0             |    0            | \n",
       "| ENSRNA049545497 |   0             |   0             |   0             |   0             |    0            | \n",
       "| CNAG_11012      |   0             |   0             |   0             |   0             |    0            | \n",
       "| ENSRNA049545566 |   0             |   0             |   0             |   0             |    0            | \n",
       "| CNAG_11013      |   0             |   0             |   0             |   0             |    0            | \n",
       "| ENSRNA049545785 |   0             |   0             |   0             |   0             |    0            | \n",
       "| CNAG_09008      |   1             |   0             |   0             |   1             |    2            | \n",
       "| CNAG_09009      |   9             |  14             |   6             |   4             |   33            | \n",
       "| CNAG_11015      |   0             |   0             |   0             |   0             |    0            | \n",
       "| ENSRNA049545623 |   0             |   0             |   0             |   0             |    0            | \n",
       "| CNAG_11016      |   0             |   0             |   0             |   0             |    0            | \n",
       "| ENSRNA049545680 |   0             |   0             |   0             |   0             |    0            | \n",
       "| CNAG_09010      |   0             |   1             |   0             |   0             |    1            | \n",
       "| CNAG_09011      |   0             |   1             |   1             |   0             |    2            | \n",
       "| ENSRNA049545749 |   0             |   0             |   0             |   0             |    0            | \n",
       "| CNAG_09012      |   0             |   1             |   2             |   4             |    7            | \n",
       "\n",
       "\n"
      ],
      "text/plain": [
       "     id              lane1 lane2 lane3 lane4 counts\n",
       "1    CNAG_04548        0     0     0     1      1  \n",
       "2    CNAG_07303        0     0     0     0      0  \n",
       "3    CNAG_07304        8     7    10     9     34  \n",
       "4    CNAG_00001        0     0     0     0      0  \n",
       "5    CNAG_07305        0     1     0     0      1  \n",
       "6    CNAG_00002       66    59    74    66    265  \n",
       "7    CNAG_00003       38    25    27    22    112  \n",
       "8    CNAG_00004       74    79    79    69    301  \n",
       "9    CNAG_00005       33    25    32    24    114  \n",
       "10   CNAG_12000       31    45    39    36    151  \n",
       "11   CNAG_12001        2     7     0     4     13  \n",
       "12   CNAG_00006      488   477   496   443   1904  \n",
       "13   CNAG_00007      503   518   538   467   2026  \n",
       "14   CNAG_00008      225   198   210   213    846  \n",
       "15   CNAG_00009      144   149   120   134    547  \n",
       "16   CNAG_00010      166   148   162   179    655  \n",
       "17   CNAG_00011       38    47    36    46    167  \n",
       "18   CNAG_00012      134   118   106   118    476  \n",
       "19   CNAG_00013       77    69    73    70    289  \n",
       "20   CNAG_00014       17    21    20    23     81  \n",
       "21   CNAG_00015        3     5     3     3     14  \n",
       "22   CNAG_00016      303   244   280   250   1077  \n",
       "23   CNAG_00017       34    31    28    29    122  \n",
       "24   CNAG_12002        1     2     1     2      6  \n",
       "25   CNAG_00018      174   154   159   182    669  \n",
       "26   CNAG_00019      321   329   323   300   1273  \n",
       "27   CNAG_00020      161   188   164   181    694  \n",
       "28   CNAG_12003        4     2     0     4     10  \n",
       "29   CNAG_00021      265   272   238   227   1002  \n",
       "30   CNAG_12004        0     0     4     2      6  \n",
       "⋮    ⋮               ⋮     ⋮     ⋮     ⋮     ⋮     \n",
       "8468 CNAG_11005        0     0     0     0      0  \n",
       "8469 ENSRNA049545853   0     0     0     0      0  \n",
       "8470 CNAG_09004        1     2     2     2      7  \n",
       "8471 CNAG_09005        1     0     1     0      2  \n",
       "8472 CNAG_09006        3     3     1     3     10  \n",
       "8473 CNAG_11007        0     0     0     0      0  \n",
       "8474 ENSRNA049545304   0     0     0     0      0  \n",
       "8475 CNAG_11008        0     0     0     0      0  \n",
       "8476 ENSRNA049545347   0     0     0     0      0  \n",
       "8477 CNAG_09007      265   311   324   314   1214  \n",
       "8478 CNAG_11009        0     0     0     0      0  \n",
       "8479 ENSRNA049545387   0     0     0     0      0  \n",
       "8480 CNAG_11010        0     0     0     0      0  \n",
       "8481 ENSRNA049545437   0     0     0     0      0  \n",
       "8482 CNAG_11011        0     0     0     0      0  \n",
       "8483 ENSRNA049545497   0     0     0     0      0  \n",
       "8484 CNAG_11012        0     0     0     0      0  \n",
       "8485 ENSRNA049545566   0     0     0     0      0  \n",
       "8486 CNAG_11013        0     0     0     0      0  \n",
       "8487 ENSRNA049545785   0     0     0     0      0  \n",
       "8488 CNAG_09008        1     0     0     1      2  \n",
       "8489 CNAG_09009        9    14     6     4     33  \n",
       "8490 CNAG_11015        0     0     0     0      0  \n",
       "8491 ENSRNA049545623   0     0     0     0      0  \n",
       "8492 CNAG_11016        0     0     0     0      0  \n",
       "8493 ENSRNA049545680   0     0     0     0      0  \n",
       "8494 CNAG_09010        0     1     0     0      1  \n",
       "8495 CNAG_09011        0     1     1     0      2  \n",
       "8496 ENSRNA049545749   0     0     0     0      0  \n",
       "8497 CNAG_09012        0     1     2     4      7  "
      ]
     },
     "metadata": {},
     "output_type": "display_data"
    }
   ],
   "source": [
    "df_with_counts"
   ]
  },
  {
   "cell_type": "code",
   "execution_count": 37,
   "metadata": {},
   "outputs": [
    {
     "data": {
      "text/html": [
       "<table>\n",
       "<thead><tr><th scope=col>id</th><th scope=col>counts</th></tr></thead>\n",
       "<tbody>\n",
       "\t<tr><td>CNAG_04548</td><td>   1      </td></tr>\n",
       "\t<tr><td>CNAG_07304</td><td>  34      </td></tr>\n",
       "\t<tr><td>CNAG_07305</td><td>   1      </td></tr>\n",
       "\t<tr><td>CNAG_00002</td><td> 265      </td></tr>\n",
       "\t<tr><td>CNAG_00003</td><td> 112      </td></tr>\n",
       "\t<tr><td>CNAG_00004</td><td> 301      </td></tr>\n",
       "\t<tr><td>CNAG_00005</td><td> 114      </td></tr>\n",
       "\t<tr><td>CNAG_12000</td><td> 151      </td></tr>\n",
       "\t<tr><td>CNAG_12001</td><td>  13      </td></tr>\n",
       "\t<tr><td>CNAG_00006</td><td>1904      </td></tr>\n",
       "\t<tr><td>CNAG_00007</td><td>2026      </td></tr>\n",
       "\t<tr><td>CNAG_00008</td><td> 846      </td></tr>\n",
       "\t<tr><td>CNAG_00009</td><td> 547      </td></tr>\n",
       "\t<tr><td>CNAG_00010</td><td> 655      </td></tr>\n",
       "\t<tr><td>CNAG_00011</td><td> 167      </td></tr>\n",
       "\t<tr><td>CNAG_00012</td><td> 476      </td></tr>\n",
       "\t<tr><td>CNAG_00013</td><td> 289      </td></tr>\n",
       "\t<tr><td>CNAG_00014</td><td>  81      </td></tr>\n",
       "\t<tr><td>CNAG_00015</td><td>  14      </td></tr>\n",
       "\t<tr><td>CNAG_00016</td><td>1077      </td></tr>\n",
       "\t<tr><td>CNAG_00017</td><td> 122      </td></tr>\n",
       "\t<tr><td>CNAG_12002</td><td>   6      </td></tr>\n",
       "\t<tr><td>CNAG_00018</td><td> 669      </td></tr>\n",
       "\t<tr><td>CNAG_00019</td><td>1273      </td></tr>\n",
       "\t<tr><td>CNAG_00020</td><td> 694      </td></tr>\n",
       "\t<tr><td>CNAG_12003</td><td>  10      </td></tr>\n",
       "\t<tr><td>CNAG_00021</td><td>1002      </td></tr>\n",
       "\t<tr><td>CNAG_12004</td><td>   6      </td></tr>\n",
       "\t<tr><td>CNAG_00022</td><td> 842      </td></tr>\n",
       "\t<tr><td>CNAG_00023</td><td>  27      </td></tr>\n",
       "\t<tr><td>⋮</td><td>⋮</td></tr>\n",
       "\t<tr><td>CNAG_06509</td><td>  45      </td></tr>\n",
       "\t<tr><td>CNAG_06510</td><td> 323      </td></tr>\n",
       "\t<tr><td>CNAG_06511</td><td> 314      </td></tr>\n",
       "\t<tr><td>CNAG_06512</td><td>  67      </td></tr>\n",
       "\t<tr><td>CNAG_07944</td><td> 213      </td></tr>\n",
       "\t<tr><td>CNAG_06515</td><td> 103      </td></tr>\n",
       "\t<tr><td>CNAG_06516</td><td>  36      </td></tr>\n",
       "\t<tr><td>CNAG_13141</td><td>  13      </td></tr>\n",
       "\t<tr><td>CNAG_06517</td><td> 588      </td></tr>\n",
       "\t<tr><td>CNAG_06519</td><td> 166      </td></tr>\n",
       "\t<tr><td>CNAG_06520</td><td> 139      </td></tr>\n",
       "\t<tr><td>CNAG_06521</td><td>  17      </td></tr>\n",
       "\t<tr><td>CNAG_13142</td><td> 136      </td></tr>\n",
       "\t<tr><td>CNAG_07945</td><td>   3      </td></tr>\n",
       "\t<tr><td>CNAG_07946</td><td>   5      </td></tr>\n",
       "\t<tr><td>CNAG_07041</td><td>   4      </td></tr>\n",
       "\t<tr><td>CNAG_07043</td><td>  73      </td></tr>\n",
       "\t<tr><td>CNAG_09000</td><td>   5      </td></tr>\n",
       "\t<tr><td>CNAG_09001</td><td>   2      </td></tr>\n",
       "\t<tr><td>CNAG_09002</td><td>  10      </td></tr>\n",
       "\t<tr><td>CNAG_09003</td><td>   2      </td></tr>\n",
       "\t<tr><td>CNAG_09004</td><td>   7      </td></tr>\n",
       "\t<tr><td>CNAG_09005</td><td>   2      </td></tr>\n",
       "\t<tr><td>CNAG_09006</td><td>  10      </td></tr>\n",
       "\t<tr><td>CNAG_09007</td><td>1214      </td></tr>\n",
       "\t<tr><td>CNAG_09008</td><td>   2      </td></tr>\n",
       "\t<tr><td>CNAG_09009</td><td>  33      </td></tr>\n",
       "\t<tr><td>CNAG_09010</td><td>   1      </td></tr>\n",
       "\t<tr><td>CNAG_09011</td><td>   2      </td></tr>\n",
       "\t<tr><td>CNAG_09012</td><td>   7      </td></tr>\n",
       "</tbody>\n",
       "</table>\n"
      ],
      "text/latex": [
       "\\begin{tabular}{r|ll}\n",
       " id & counts\\\\\n",
       "\\hline\n",
       "\t CNAG\\_04548 &    1        \\\\\n",
       "\t CNAG\\_07304 &   34        \\\\\n",
       "\t CNAG\\_07305 &    1        \\\\\n",
       "\t CNAG\\_00002 &  265        \\\\\n",
       "\t CNAG\\_00003 &  112        \\\\\n",
       "\t CNAG\\_00004 &  301        \\\\\n",
       "\t CNAG\\_00005 &  114        \\\\\n",
       "\t CNAG\\_12000 &  151        \\\\\n",
       "\t CNAG\\_12001 &   13        \\\\\n",
       "\t CNAG\\_00006 & 1904        \\\\\n",
       "\t CNAG\\_00007 & 2026        \\\\\n",
       "\t CNAG\\_00008 &  846        \\\\\n",
       "\t CNAG\\_00009 &  547        \\\\\n",
       "\t CNAG\\_00010 &  655        \\\\\n",
       "\t CNAG\\_00011 &  167        \\\\\n",
       "\t CNAG\\_00012 &  476        \\\\\n",
       "\t CNAG\\_00013 &  289        \\\\\n",
       "\t CNAG\\_00014 &   81        \\\\\n",
       "\t CNAG\\_00015 &   14        \\\\\n",
       "\t CNAG\\_00016 & 1077        \\\\\n",
       "\t CNAG\\_00017 &  122        \\\\\n",
       "\t CNAG\\_12002 &    6        \\\\\n",
       "\t CNAG\\_00018 &  669        \\\\\n",
       "\t CNAG\\_00019 & 1273        \\\\\n",
       "\t CNAG\\_00020 &  694        \\\\\n",
       "\t CNAG\\_12003 &   10        \\\\\n",
       "\t CNAG\\_00021 & 1002        \\\\\n",
       "\t CNAG\\_12004 &    6        \\\\\n",
       "\t CNAG\\_00022 &  842        \\\\\n",
       "\t CNAG\\_00023 &   27        \\\\\n",
       "\t ⋮ & ⋮\\\\\n",
       "\t CNAG\\_06509 &   45        \\\\\n",
       "\t CNAG\\_06510 &  323        \\\\\n",
       "\t CNAG\\_06511 &  314        \\\\\n",
       "\t CNAG\\_06512 &   67        \\\\\n",
       "\t CNAG\\_07944 &  213        \\\\\n",
       "\t CNAG\\_06515 &  103        \\\\\n",
       "\t CNAG\\_06516 &   36        \\\\\n",
       "\t CNAG\\_13141 &   13        \\\\\n",
       "\t CNAG\\_06517 &  588        \\\\\n",
       "\t CNAG\\_06519 &  166        \\\\\n",
       "\t CNAG\\_06520 &  139        \\\\\n",
       "\t CNAG\\_06521 &   17        \\\\\n",
       "\t CNAG\\_13142 &  136        \\\\\n",
       "\t CNAG\\_07945 &    3        \\\\\n",
       "\t CNAG\\_07946 &    5        \\\\\n",
       "\t CNAG\\_07041 &    4        \\\\\n",
       "\t CNAG\\_07043 &   73        \\\\\n",
       "\t CNAG\\_09000 &    5        \\\\\n",
       "\t CNAG\\_09001 &    2        \\\\\n",
       "\t CNAG\\_09002 &   10        \\\\\n",
       "\t CNAG\\_09003 &    2        \\\\\n",
       "\t CNAG\\_09004 &    7        \\\\\n",
       "\t CNAG\\_09005 &    2        \\\\\n",
       "\t CNAG\\_09006 &   10        \\\\\n",
       "\t CNAG\\_09007 & 1214        \\\\\n",
       "\t CNAG\\_09008 &    2        \\\\\n",
       "\t CNAG\\_09009 &   33        \\\\\n",
       "\t CNAG\\_09010 &    1        \\\\\n",
       "\t CNAG\\_09011 &    2        \\\\\n",
       "\t CNAG\\_09012 &    7        \\\\\n",
       "\\end{tabular}\n"
      ],
      "text/markdown": [
       "\n",
       "id | counts | \n",
       "|---|---|---|---|---|---|---|---|---|---|---|---|---|---|---|---|---|---|---|---|---|---|---|---|---|---|---|---|---|---|---|---|---|---|---|---|---|---|---|---|---|---|---|---|---|---|---|---|---|---|---|---|---|---|---|---|---|---|---|---|---|\n",
       "| CNAG_04548 |    1       | \n",
       "| CNAG_07304 |   34       | \n",
       "| CNAG_07305 |    1       | \n",
       "| CNAG_00002 |  265       | \n",
       "| CNAG_00003 |  112       | \n",
       "| CNAG_00004 |  301       | \n",
       "| CNAG_00005 |  114       | \n",
       "| CNAG_12000 |  151       | \n",
       "| CNAG_12001 |   13       | \n",
       "| CNAG_00006 | 1904       | \n",
       "| CNAG_00007 | 2026       | \n",
       "| CNAG_00008 |  846       | \n",
       "| CNAG_00009 |  547       | \n",
       "| CNAG_00010 |  655       | \n",
       "| CNAG_00011 |  167       | \n",
       "| CNAG_00012 |  476       | \n",
       "| CNAG_00013 |  289       | \n",
       "| CNAG_00014 |   81       | \n",
       "| CNAG_00015 |   14       | \n",
       "| CNAG_00016 | 1077       | \n",
       "| CNAG_00017 |  122       | \n",
       "| CNAG_12002 |    6       | \n",
       "| CNAG_00018 |  669       | \n",
       "| CNAG_00019 | 1273       | \n",
       "| CNAG_00020 |  694       | \n",
       "| CNAG_12003 |   10       | \n",
       "| CNAG_00021 | 1002       | \n",
       "| CNAG_12004 |    6       | \n",
       "| CNAG_00022 |  842       | \n",
       "| CNAG_00023 |   27       | \n",
       "| ⋮ | ⋮ | \n",
       "| CNAG_06509 |   45       | \n",
       "| CNAG_06510 |  323       | \n",
       "| CNAG_06511 |  314       | \n",
       "| CNAG_06512 |   67       | \n",
       "| CNAG_07944 |  213       | \n",
       "| CNAG_06515 |  103       | \n",
       "| CNAG_06516 |   36       | \n",
       "| CNAG_13141 |   13       | \n",
       "| CNAG_06517 |  588       | \n",
       "| CNAG_06519 |  166       | \n",
       "| CNAG_06520 |  139       | \n",
       "| CNAG_06521 |   17       | \n",
       "| CNAG_13142 |  136       | \n",
       "| CNAG_07945 |    3       | \n",
       "| CNAG_07946 |    5       | \n",
       "| CNAG_07041 |    4       | \n",
       "| CNAG_07043 |   73       | \n",
       "| CNAG_09000 |    5       | \n",
       "| CNAG_09001 |    2       | \n",
       "| CNAG_09002 |   10       | \n",
       "| CNAG_09003 |    2       | \n",
       "| CNAG_09004 |    7       | \n",
       "| CNAG_09005 |    2       | \n",
       "| CNAG_09006 |   10       | \n",
       "| CNAG_09007 | 1214       | \n",
       "| CNAG_09008 |    2       | \n",
       "| CNAG_09009 |   33       | \n",
       "| CNAG_09010 |    1       | \n",
       "| CNAG_09011 |    2       | \n",
       "| CNAG_09012 |    7       | \n",
       "\n",
       "\n"
      ],
      "text/plain": [
       "     id         counts\n",
       "1    CNAG_04548    1  \n",
       "2    CNAG_07304   34  \n",
       "3    CNAG_07305    1  \n",
       "4    CNAG_00002  265  \n",
       "5    CNAG_00003  112  \n",
       "6    CNAG_00004  301  \n",
       "7    CNAG_00005  114  \n",
       "8    CNAG_12000  151  \n",
       "9    CNAG_12001   13  \n",
       "10   CNAG_00006 1904  \n",
       "11   CNAG_00007 2026  \n",
       "12   CNAG_00008  846  \n",
       "13   CNAG_00009  547  \n",
       "14   CNAG_00010  655  \n",
       "15   CNAG_00011  167  \n",
       "16   CNAG_00012  476  \n",
       "17   CNAG_00013  289  \n",
       "18   CNAG_00014   81  \n",
       "19   CNAG_00015   14  \n",
       "20   CNAG_00016 1077  \n",
       "21   CNAG_00017  122  \n",
       "22   CNAG_12002    6  \n",
       "23   CNAG_00018  669  \n",
       "24   CNAG_00019 1273  \n",
       "25   CNAG_00020  694  \n",
       "26   CNAG_12003   10  \n",
       "27   CNAG_00021 1002  \n",
       "28   CNAG_12004    6  \n",
       "29   CNAG_00022  842  \n",
       "30   CNAG_00023   27  \n",
       "⋮    ⋮          ⋮     \n",
       "7828 CNAG_06509   45  \n",
       "7829 CNAG_06510  323  \n",
       "7830 CNAG_06511  314  \n",
       "7831 CNAG_06512   67  \n",
       "7832 CNAG_07944  213  \n",
       "7833 CNAG_06515  103  \n",
       "7834 CNAG_06516   36  \n",
       "7835 CNAG_13141   13  \n",
       "7836 CNAG_06517  588  \n",
       "7837 CNAG_06519  166  \n",
       "7838 CNAG_06520  139  \n",
       "7839 CNAG_06521   17  \n",
       "7840 CNAG_13142  136  \n",
       "7841 CNAG_07945    3  \n",
       "7842 CNAG_07946    5  \n",
       "7843 CNAG_07041    4  \n",
       "7844 CNAG_07043   73  \n",
       "7845 CNAG_09000    5  \n",
       "7846 CNAG_09001    2  \n",
       "7847 CNAG_09002   10  \n",
       "7848 CNAG_09003    2  \n",
       "7849 CNAG_09004    7  \n",
       "7850 CNAG_09005    2  \n",
       "7851 CNAG_09006   10  \n",
       "7852 CNAG_09007 1214  \n",
       "7853 CNAG_09008    2  \n",
       "7854 CNAG_09009   33  \n",
       "7855 CNAG_09010    1  \n",
       "7856 CNAG_09011    2  \n",
       "7857 CNAG_09012    7  "
      ]
     },
     "metadata": {},
     "output_type": "display_data"
    }
   ],
   "source": [
    "df_counts <- df_with_counts %>% \n",
    "select(id, counts) %>%\n",
    "filter(counts != 0)\n",
    "\n",
    "df_counts"
   ]
  },
  {
   "cell_type": "code",
   "execution_count": 39,
   "metadata": {},
   "outputs": [
    {
     "data": {
      "text/html": [
       "<table>\n",
       "<thead><tr><th scope=col>total</th></tr></thead>\n",
       "<tbody>\n",
       "\t<tr><td>7857</td></tr>\n",
       "</tbody>\n",
       "</table>\n"
      ],
      "text/latex": [
       "\\begin{tabular}{r|l}\n",
       " total\\\\\n",
       "\\hline\n",
       "\t 7857\\\\\n",
       "\\end{tabular}\n"
      ],
      "text/markdown": [
       "\n",
       "total | \n",
       "|---|\n",
       "| 7857 | \n",
       "\n",
       "\n"
      ],
      "text/plain": [
       "  total\n",
       "1 7857 "
      ]
     },
     "metadata": {},
     "output_type": "display_data"
    }
   ],
   "source": [
    "df_counts %>% summarize(total = n())"
   ]
  },
  {
   "cell_type": "code",
   "execution_count": 40,
   "metadata": {},
   "outputs": [
    {
     "data": {
      "text/html": [
       "<table>\n",
       "<thead><tr><th scope=col>id</th><th scope=col>counts</th></tr></thead>\n",
       "<tbody>\n",
       "\t<tr><td>CNAG_06125</td><td>213686    </td></tr>\n",
       "</tbody>\n",
       "</table>\n"
      ],
      "text/latex": [
       "\\begin{tabular}{r|ll}\n",
       " id & counts\\\\\n",
       "\\hline\n",
       "\t CNAG\\_06125 & 213686      \\\\\n",
       "\\end{tabular}\n"
      ],
      "text/markdown": [
       "\n",
       "id | counts | \n",
       "|---|\n",
       "| CNAG_06125 | 213686     | \n",
       "\n",
       "\n"
      ],
      "text/plain": [
       "  id         counts\n",
       "1 CNAG_06125 213686"
      ]
     },
     "metadata": {},
     "output_type": "display_data"
    }
   ],
   "source": [
    "df_counts %>% filter(counts == max(counts))"
   ]
  },
  {
   "cell_type": "code",
   "execution_count": 41,
   "metadata": {},
   "outputs": [
    {
     "data": {
      "text/html": [
       "<table>\n",
       "<thead><tr><th scope=col>counts</th><th scope=col>num_genes</th></tr></thead>\n",
       "<tbody>\n",
       "\t<tr><td> 1 </td><td>183</td></tr>\n",
       "\t<tr><td> 2 </td><td>133</td></tr>\n",
       "\t<tr><td> 3 </td><td>107</td></tr>\n",
       "\t<tr><td> 5 </td><td> 90</td></tr>\n",
       "\t<tr><td> 4 </td><td> 88</td></tr>\n",
       "\t<tr><td> 6 </td><td> 81</td></tr>\n",
       "\t<tr><td> 7 </td><td> 76</td></tr>\n",
       "\t<tr><td> 8 </td><td> 56</td></tr>\n",
       "\t<tr><td> 9 </td><td> 56</td></tr>\n",
       "\t<tr><td>11 </td><td> 55</td></tr>\n",
       "</tbody>\n",
       "</table>\n"
      ],
      "text/latex": [
       "\\begin{tabular}{r|ll}\n",
       " counts & num\\_genes\\\\\n",
       "\\hline\n",
       "\t  1  & 183\\\\\n",
       "\t  2  & 133\\\\\n",
       "\t  3  & 107\\\\\n",
       "\t  5  &  90\\\\\n",
       "\t  4  &  88\\\\\n",
       "\t  6  &  81\\\\\n",
       "\t  7  &  76\\\\\n",
       "\t  8  &  56\\\\\n",
       "\t  9  &  56\\\\\n",
       "\t 11  &  55\\\\\n",
       "\\end{tabular}\n"
      ],
      "text/markdown": [
       "\n",
       "counts | num_genes | \n",
       "|---|---|---|---|---|---|---|---|---|---|\n",
       "|  1  | 183 | \n",
       "|  2  | 133 | \n",
       "|  3  | 107 | \n",
       "|  5  |  90 | \n",
       "|  4  |  88 | \n",
       "|  6  |  81 | \n",
       "|  7  |  76 | \n",
       "|  8  |  56 | \n",
       "|  9  |  56 | \n",
       "| 11  |  55 | \n",
       "\n",
       "\n"
      ],
      "text/plain": [
       "   counts num_genes\n",
       "1   1     183      \n",
       "2   2     133      \n",
       "3   3     107      \n",
       "4   5      90      \n",
       "5   4      88      \n",
       "6   6      81      \n",
       "7   7      76      \n",
       "8   8      56      \n",
       "9   9      56      \n",
       "10 11      55      "
      ]
     },
     "metadata": {},
     "output_type": "display_data"
    }
   ],
   "source": [
    "df_counts %>% \n",
    "group_by(counts) %>% \n",
    "summarize(num_genes = n())  %>%\n",
    "arrange(desc(num_genes)) %>%\n",
    "head(10)"
   ]
  },
  {
   "cell_type": "code",
   "execution_count": null,
   "metadata": {},
   "outputs": [],
   "source": []
  }
 ],
 "metadata": {
  "kernelspec": {
   "display_name": "R",
   "language": "R",
   "name": "ir"
  },
  "language_info": {
   "codemirror_mode": "r",
   "file_extension": ".r",
   "mimetype": "text/x-r-source",
   "name": "R",
   "pygments_lexer": "r",
   "version": "3.4.1"
  }
 },
 "nbformat": 4,
 "nbformat_minor": 2
}
