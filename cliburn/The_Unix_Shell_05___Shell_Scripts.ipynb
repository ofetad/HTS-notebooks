{
 "cells": [
  {
   "cell_type": "markdown",
   "metadata": {},
   "source": [
    "# The Unix Shell: Writing Shell Scripts\n",
    "\n",
    "The shell commands constitute a programming language, and command line programs known as shell scripts can be written to perform complex tasks. \n",
    "\n",
    "This will only provide a brief overview - shell scripts have many traps and pitfalls for the unwary, and we generally prefer to use languages such as Python or R with more consistent syntax for complex tasks. However, shell scripts are extensively used in domains such as the preprocessing of genomics data, and it is a useful tool to know about."
   ]
  },
  {
   "cell_type": "markdown",
   "metadata": {},
   "source": [
    "## Pipe error hack"
   ]
  },
  {
   "cell_type": "code",
   "execution_count": null,
   "metadata": {},
   "outputs": [],
   "source": [
    "cleanup () { \n",
    "    :\n",
    "}\n",
    "\n",
    "trap \"cleanup\" SIGPIPE"
   ]
  },
  {
   "cell_type": "markdown",
   "metadata": {},
   "source": [
    "## Warn on uninitialized variable"
   ]
  },
  {
   "cell_type": "markdown",
   "metadata": {},
   "source": [
    "You will typically want to set this. I will leave it unset for this session to show what can happen if you don't.\n",
    "\n",
    "```bash\n",
    "set -u\n",
    "```"
   ]
  },
  {
   "cell_type": "markdown",
   "metadata": {
    "collapsed": true
   },
   "source": [
    "## Assigning variables\n",
    "\n",
    "We assign variables using `=` and recall them by using `$`. It is customary to spell shell variable names in ALL_CAPS."
   ]
  },
  {
   "cell_type": "code",
   "execution_count": null,
   "metadata": {},
   "outputs": [],
   "source": [
    "NAME='Joe'\n",
    "echo \"Hello $NAME\"\n",
    "echo \"Hello ${NAME}\""
   ]
  },
  {
   "cell_type": "markdown",
   "metadata": {},
   "source": [
    "### Single and double parentheses\n",
    "\n",
    "The main difference between the use of '' and \"\" is that variable expansion only occurs with double parentheses. For plain text, they are equivalent."
   ]
  },
  {
   "cell_type": "code",
   "execution_count": null,
   "metadata": {},
   "outputs": [],
   "source": [
    "echo '${NAME}'"
   ]
  },
  {
   "cell_type": "code",
   "execution_count": null,
   "metadata": {},
   "outputs": [],
   "source": [
    "echo \"${NAME}\""
   ]
  },
  {
   "cell_type": "markdown",
   "metadata": {},
   "source": [
    "### Use of curly braces\n",
    "\n",
    "Use of curly braces unambiguously specifies the variable of interest. I suggest you always use them as a defensive programming technique."
   ]
  },
  {
   "cell_type": "code",
   "execution_count": null,
   "metadata": {},
   "outputs": [],
   "source": [
    "echo \"Hello ${NAME}l\""
   ]
  },
  {
   "cell_type": "markdown",
   "metadata": {},
   "source": [
    "$Namel is not defined, and so returns an empty string!"
   ]
  },
  {
   "cell_type": "code",
   "execution_count": null,
   "metadata": {},
   "outputs": [],
   "source": [
    "echo \"Hello $NAMEl\""
   ]
  },
  {
   "cell_type": "markdown",
   "metadata": {},
   "source": [
    "One of the quirks of shell scripts is already present - there cannot be spaces before or after the `=` in an assignment."
   ]
  },
  {
   "cell_type": "code",
   "execution_count": null,
   "metadata": {},
   "outputs": [],
   "source": [
    "NAME2= 'Joe'\n",
    "echo \"Hello ${NAME2}\""
   ]
  },
  {
   "cell_type": "markdown",
   "metadata": {},
   "source": [
    "The previous instruction assigns the **empty space** to NAME2, then tries to execute 'Joe' as a command."
   ]
  },
  {
   "cell_type": "code",
   "execution_count": null,
   "metadata": {},
   "outputs": [],
   "source": [
    "NAME3 ='Joe'\n",
    "echo \"Hello ${NAME3}\""
   ]
  },
  {
   "cell_type": "markdown",
   "metadata": {},
   "source": [
    "The previous instruction runs the **command** NAME3 with ='Joe' as its **argument**."
   ]
  },
  {
   "cell_type": "markdown",
   "metadata": {},
   "source": [
    "## Assigning commands to variables"
   ]
  },
  {
   "cell_type": "code",
   "execution_count": null,
   "metadata": {},
   "outputs": [],
   "source": [
    "pwd"
   ]
  },
  {
   "cell_type": "code",
   "execution_count": null,
   "metadata": {},
   "outputs": [],
   "source": [
    "CUR_DIR=$(pwd)\n",
    "dirname ${CUR_DIR}\n",
    "basename ${CUR_DIR}"
   ]
  },
  {
   "cell_type": "markdown",
   "metadata": {},
   "source": [
    "## Working with numbers\n",
    "\n",
    "**Careful**: Note the use of **double** parentheses to trigger evaluation of a mathematical expression."
   ]
  },
  {
   "cell_type": "code",
   "execution_count": 5,
   "metadata": {},
   "outputs": [
    {
     "name": "stdout",
     "output_type": "stream",
     "text": [
      "1\n"
     ]
    }
   ],
   "source": [
    "NUM=0\n",
    "((NUM++))\n",
    "echo $NUM"
   ]
  },
  {
   "cell_type": "code",
   "execution_count": null,
   "metadata": {},
   "outputs": [],
   "source": [
    "NUM=$((1+2+3+4))\n",
    "echo ${NUM}"
   ]
  },
  {
   "cell_type": "markdown",
   "metadata": {},
   "source": [
    "### `seq` generates a range of numbers"
   ]
  },
  {
   "cell_type": "code",
   "execution_count": null,
   "metadata": {},
   "outputs": [],
   "source": [
    "seq 3"
   ]
  },
  {
   "cell_type": "code",
   "execution_count": null,
   "metadata": {},
   "outputs": [],
   "source": [
    "seq 2 5"
   ]
  },
  {
   "cell_type": "code",
   "execution_count": null,
   "metadata": {},
   "outputs": [],
   "source": [
    "seq 5 2 9"
   ]
  },
  {
   "cell_type": "markdown",
   "metadata": {},
   "source": [
    "## Branching"
   ]
  },
  {
   "cell_type": "markdown",
   "metadata": {},
   "source": [
    "### Using if to check for file existence\n",
    "\n",
    "Note the test condition must use square brackets."
   ]
  },
  {
   "cell_type": "code",
   "execution_count": null,
   "metadata": {},
   "outputs": [],
   "source": [
    "if [ -f hello.txt ]; then\n",
    "    cat hello.txt\n",
    "else\n",
    "    echo \"No such file\"\n",
    "fi"
   ]
  },
  {
   "cell_type": "markdown",
   "metadata": {},
   "source": [
    "### Downloading remote files"
   ]
  },
  {
   "cell_type": "code",
   "execution_count": 31,
   "metadata": {},
   "outputs": [
    {
     "name": "stdout",
     "output_type": "stream",
     "text": [
      "WGET(1)                            GNU Wget                            WGET(1)\n",
      "\n",
      "NAME\n",
      "       Wget - The non-interactive network downloader.\n",
      "\n",
      "SYNOPSIS\n",
      "       wget [option]... [URL]...\n",
      "\n",
      "DESCRIPTION\n",
      "       GNU Wget is a free utility for non-interactive download of files from\n",
      "       the Web.  It supports HTTP, HTTPS, and FTP protocols, as well as\n",
      "       retrieval through HTTP proxies.\n",
      "\n",
      "       Wget is non-interactive, meaning that it can work in the background,\n",
      "       while the user is not logged on.  This allows you to start a retrieval\n",
      "       and disconnect from the system, letting Wget finish the work.  By\n",
      "       contrast, most of the Web browsers require constant user's presence,\n",
      "       which can be a great hindrance when transferring a lot of data.\n",
      "\n",
      "       Wget can follow links in HTML, XHTML, and CSS pages, to create local\n",
      "col: write error\n",
      "grotty:<standard input> (<standard input>):37016:fatal error: output error\n",
      "man: command exited with status 1: (cd /usr/share/man && /usr/lib/man-db/zsoelim) | (cd /usr/share/man && /usr/lib/man-db/manconv -f UTF-8:ISO-8859-1 -t UTF-8//IGNORE) | (cd /usr/share/man && preconv -e UTF-8) | (cd /usr/share/man && tbl) | (cd /usr/share/man && nroff -mandoc -Tutf8)\n"
     ]
    }
   ],
   "source": [
    "man wget | head -n 20"
   ]
  },
  {
   "cell_type": "markdown",
   "metadata": {},
   "source": [
    "#### Some useful `wget` flags\n",
    "\n",
    "- `-O` redirects to named path\n",
    "- `-O-` redirects to standard output (so it can be piped)\n",
    "- `-q` suppresses messages"
   ]
  },
  {
   "cell_type": "code",
   "execution_count": null,
   "metadata": {},
   "outputs": [],
   "source": [
    "if [ ! -f \"data/forbes.csv\" ]; then\n",
    "    wget https://vincentarelbundock.github.io/Rdatasets/csv/HSAUR/Forbes2000.csv \\\n",
    "    -O data/forbes.csv\n",
    "fi"
   ]
  },
  {
   "cell_type": "code",
   "execution_count": null,
   "metadata": {},
   "outputs": [],
   "source": [
    "wget -qO- https://vincentarelbundock.github.io/Rdatasets/doc/HSAUR/Forbes2000.html \\\n",
    "    | html2text | head -n 27  | tail -n 17"
   ]
  },
  {
   "cell_type": "markdown",
   "metadata": {},
   "source": [
    "### Conditional evaluation with `test`\n",
    "\n",
    "The `[ -f hello.txt ]` syntax is equivalent to `test -f hello.txt`, where `test` is a shell command with a large range of operators and flags that you can view in the man page."
   ]
  },
  {
   "cell_type": "markdown",
   "metadata": {},
   "source": [
    "```\n",
    "\n",
    "TEST(1)                   BSD General Commands Manual                  TEST(1)\n",
    "\n",
    "NAME\n",
    "     test, [ -- condition evaluation utility\n",
    "\n",
    "SYNOPSIS\n",
    "     test expression\n",
    "     [ expression ]\n",
    "\n",
    "DESCRIPTION\n",
    "     The test utility evaluates the expression and, if it evaluates to true,\n",
    "     returns a zero (true) exit status; otherwise it returns 1 (false).  If\n",
    "     there is no expression, test also returns 1 (false).\n",
    "\n",
    "     All operators and flags are separate arguments to the test utility.\n",
    "\n",
    "     The following primaries are used to construct expression:\n",
    "\n",
    "     -b file       True if file exists and is a block special file.\n",
    "\n",
    "     -c file       True if file exists and is a character special file.\n",
    "\n",
    "     -d file       True if file exists and is a directory.\n",
    "\n",
    "     -e file       True if file exists (regardless of type).\n",
    "\n",
    "     -f file       True if file exists and is a regular file.\n",
    "\n",
    "     -g file       True if file exists and its set group ID flag is set.\n",
    "```"
   ]
  },
  {
   "cell_type": "markdown",
   "metadata": {},
   "source": [
    "## Looping"
   ]
  },
  {
   "cell_type": "markdown",
   "metadata": {},
   "source": [
    "### For loop"
   ]
  },
  {
   "cell_type": "code",
   "execution_count": null,
   "metadata": {},
   "outputs": [],
   "source": [
    "for FILE in $(ls *ipynb); do\n",
    "    echo $FILE\n",
    "done"
   ]
  },
  {
   "cell_type": "markdown",
   "metadata": {},
   "source": [
    "#### Traditional C-style for loop\n",
    "\n",
    "We make use of the double parentheses to evaluate the counter arithmatic."
   ]
  },
  {
   "cell_type": "code",
   "execution_count": 2,
   "metadata": {},
   "outputs": [
    {
     "name": "stdout",
     "output_type": "stream",
     "text": [
      "0\n",
      "1\n",
      "2\n",
      "3\n",
      "4\n"
     ]
    }
   ],
   "source": [
    "for ((i=0; i<5; i++)); do\n",
    "    echo $i\n",
    "done"
   ]
  },
  {
   "cell_type": "markdown",
   "metadata": {},
   "source": [
    "### Double square brackets provide enhanced test functionality\n",
    "\n",
    "- You can use `&&` instead of `-a`\n",
    "- You can use `||` instead of `-o`\n",
    "- you can use `=~` to match regular expression patterns"
   ]
  },
  {
   "cell_type": "markdown",
   "metadata": {},
   "source": [
    "#### Example of regular expression matching in test condition\n",
    "\n",
    "NOte that STRING should be quoted and REGULAR EXPRESSION should not be quoted."
   ]
  },
  {
   "cell_type": "code",
   "execution_count": 30,
   "metadata": {},
   "outputs": [
    {
     "name": "stdout",
     "output_type": "stream",
     "text": [
      "Bash_Exercise_1_Solutions.sh\n",
      "Bash_Exercise_2_Solutoins.sh\n"
     ]
    }
   ],
   "source": [
    "for FILE in $(ls); do\n",
    "    if [[ \"${FILE}\" =~ ^Bash.*sh ]]; then\n",
    "        echo $FILE\n",
    "    fi\n",
    "done"
   ]
  },
  {
   "cell_type": "markdown",
   "metadata": {},
   "source": [
    "### While loop"
   ]
  },
  {
   "cell_type": "code",
   "execution_count": null,
   "metadata": {},
   "outputs": [],
   "source": [
    "COUNTER=10\n",
    "while [ $COUNTER -gt 0 ]; do\n",
    "    echo $COUNTER\n",
    "    COUNTER=$(($COUNTER - 1))\n",
    "done"
   ]
  },
  {
   "cell_type": "markdown",
   "metadata": {},
   "source": [
    "**Careful**: Note that `<` is the redirection operator, and hence will lead to an infinite loop. Use `-lt` for less than and `-gt` for greater than,  `==` for equality and `!=` for inequality."
   ]
  },
  {
   "cell_type": "code",
   "execution_count": null,
   "metadata": {},
   "outputs": [],
   "source": [
    "COUNTER=10\n",
    "while [ $COUNTER != 0 ]; do\n",
    "    echo $COUNTER\n",
    "    COUNTER=$(($COUNTER - 1))\n",
    "done"
   ]
  },
  {
   "cell_type": "markdown",
   "metadata": {},
   "source": [
    "## Brace expansion\n",
    "\n",
    "Brace expansions create lists of strings, typically used in loops."
   ]
  },
  {
   "cell_type": "code",
   "execution_count": 1,
   "metadata": {},
   "outputs": [
    {
     "name": "stdout",
     "output_type": "stream",
     "text": [
      "mkdir EXPT-000\n",
      "mkdir EXPT-001\n",
      "mkdir EXPT-002\n",
      "mkdir EXPT-003\n",
      "mkdir EXPT-004\n",
      "mkdir EXPT-005\n"
     ]
    }
   ],
   "source": [
    "for NUM in {000..005}; do\n",
    "    echo mkdir EXPT-${NUM}\n",
    "done"
   ]
  },
  {
   "cell_type": "markdown",
   "metadata": {},
   "source": [
    "But brace expansions cna be used outside loops as well."
   ]
  },
  {
   "cell_type": "code",
   "execution_count": 38,
   "metadata": {},
   "outputs": [
    {
     "name": "stdout",
     "output_type": "stream",
     "text": [
      "foo.c foo.cpp foo.h foo.hp\n"
     ]
    }
   ],
   "source": [
    "echo foo.{c,cpp,h,hp}"
   ]
  },
  {
   "cell_type": "markdown",
   "metadata": {},
   "source": [
    "## Shell script"
   ]
  },
  {
   "cell_type": "markdown",
   "metadata": {},
   "source": [
    "From now on, we will write the shell script using an editor for convenience. \n",
    "\n",
    "A shell script is traditionally given the extension `.sh`. There are a few things to note:\n",
    "\n",
    "1. To make the script standalone, you need to add `#!/path/to/shell` in the first line. Otherwise you need to call the script with `bash /path/to/script` instead of just `/path/to/script`.\n",
    "2. To make the script executable, change the file permissions to executable with `chmod +x /path/to/script`\n",
    "3. Shell arguments are similar to  function arguments - i.e. `$1`, `$2`, `$@` etc. Another useful variable is `$#` which gives the number of command line arguments."
   ]
  },
  {
   "cell_type": "markdown",
   "metadata": {},
   "source": [
    "#### Find default shell to use"
   ]
  },
  {
   "cell_type": "code",
   "execution_count": null,
   "metadata": {},
   "outputs": [],
   "source": [
    "which bash"
   ]
  },
  {
   "cell_type": "markdown",
   "metadata": {},
   "source": [
    "#### Display script"
   ]
  },
  {
   "cell_type": "code",
   "execution_count": 40,
   "metadata": {},
   "outputs": [
    {
     "name": "stdout",
     "output_type": "stream",
     "text": [
      "Error: cannot read infile: [Errno 2] No such file or directory: 'scripts/cat_if_exists.sh'\n"
     ]
    },
    {
     "ename": "",
     "evalue": "1",
     "output_type": "error",
     "traceback": []
    }
   ],
   "source": [
    "cat -g scripts/my_first_script.sh"
   ]
  },
  {
   "cell_type": "markdown",
   "metadata": {},
   "source": [
    "#### Give executable permission"
   ]
  },
  {
   "cell_type": "code",
   "execution_count": null,
   "metadata": {},
   "outputs": [],
   "source": [
    "chmod +x scripts/my_first_script.sh"
   ]
  },
  {
   "cell_type": "code",
   "execution_count": null,
   "metadata": {},
   "outputs": [],
   "source": [
    "scripts/my_first_script.sh "
   ]
  },
  {
   "cell_type": "markdown",
   "metadata": {},
   "source": [
    "### Passing arguments to shell scripts"
   ]
  },
  {
   "cell_type": "code",
   "execution_count": 52,
   "metadata": {},
   "outputs": [],
   "source": [
    "cat <<EOF > my_second_script.sh\n",
    "#!/bin/bash\n",
    "\n",
    "echo $#\n",
    "for ARG in {0..$#}; do\n",
    "    echo $ARG\n",
    "done\n",
    "EOF"
   ]
  },
  {
   "cell_type": "code",
   "execution_count": 53,
   "metadata": {},
   "outputs": [],
   "source": [
    "chmod +x my_second_script.sh"
   ]
  },
  {
   "cell_type": "code",
   "execution_count": 54,
   "metadata": {},
   "outputs": [
    {
     "name": "stdout",
     "output_type": "stream",
     "text": [
      "0\n",
      "\n"
     ]
    }
   ],
   "source": [
    "./my_second_script.sh 1 2 3"
   ]
  },
  {
   "cell_type": "code",
   "execution_count": 51,
   "metadata": {},
   "outputs": [
    {
     "name": "stdout",
     "output_type": "stream",
     "text": [
      "/bin/bash\n"
     ]
    }
   ],
   "source": [
    "which bash"
   ]
  },
  {
   "cell_type": "code",
   "execution_count": null,
   "metadata": {},
   "outputs": [],
   "source": []
  }
 ],
 "metadata": {
  "kernelspec": {
   "display_name": "Bash",
   "language": "bash",
   "name": "bash"
  },
  "language_info": {
   "codemirror_mode": "shell",
   "file_extension": ".sh",
   "mimetype": "text/x-sh",
   "name": "bash"
  }
 },
 "nbformat": 4,
 "nbformat_minor": 2
}
